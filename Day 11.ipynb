{
 "cells": [
  {
   "cell_type": "markdown",
   "id": "75ec8312-cbf6-4196-bf06-2731255bc496",
   "metadata": {},
   "source": [
    "# Data Types, Methods"
   ]
  },
  {
   "cell_type": "markdown",
   "id": "20ccbeb2-8a0f-41e4-b334-e3e853e087f6",
   "metadata": {},
   "source": [
    "# Conditional Programming"
   ]
  },
  {
   "cell_type": "code",
   "execution_count": 3,
   "id": "989d4c9d-2212-4e16-8fa4-51edbb4502eb",
   "metadata": {},
   "outputs": [],
   "source": [
    "# IF, Else, ELIF, Pass, One Liner IF else, "
   ]
  },
  {
   "cell_type": "code",
   "execution_count": 5,
   "id": "3861c86c-32c4-4684-bfc7-2f4d3d3b1f80",
   "metadata": {},
   "outputs": [],
   "source": [
    "# if condition/Conditions:\n",
    "#     Code block<> IF ka Part\n",
    "#     code2\n",
    "#     code3..\n",
    "# else:\n",
    "#     else ke codes\n",
    "#     code 1\n",
    "#     code 2\n",
    "#     code 3\n",
    "\n",
    "# # 4 space:- indentation"
   ]
  },
  {
   "cell_type": "code",
   "execution_count": 7,
   "id": "9e40cf91-042a-4b0e-8811-d842b2a09a08",
   "metadata": {},
   "outputs": [
    {
     "name": "stdout",
     "output_type": "stream",
     "text": [
      "You can Apply!!\n"
     ]
    }
   ],
   "source": [
    "age = 34\n",
    "\n",
    "if (age >= 20):\n",
    "    print('You can Apply!!')\n",
    "else:\n",
    "    print('You can not Apply!!')"
   ]
  },
  {
   "cell_type": "code",
   "execution_count": 9,
   "id": "e0a2092e-de1e-4f80-8564-8bd064d8f66c",
   "metadata": {},
   "outputs": [
    {
     "name": "stdout",
     "output_type": "stream",
     "text": [
      "You can not Apply!!\n"
     ]
    }
   ],
   "source": [
    "age = 3\n",
    "\n",
    "if (age >= 20):\n",
    "    print('You can Apply!!')\n",
    "else:\n",
    "    print('You can not Apply!!')"
   ]
  },
  {
   "cell_type": "code",
   "execution_count": null,
   "id": "c0c3cd0d-6aad-4ca4-abd5-637272a8f006",
   "metadata": {},
   "outputs": [],
   "source": []
  },
  {
   "cell_type": "code",
   "execution_count": 14,
   "id": "7373eb0d-9a85-4145-8a10-4e6b0f113ba9",
   "metadata": {},
   "outputs": [],
   "source": [
    "scholars_students = ['Ankit','Mohan','Abbas','Narendra','Karan']"
   ]
  },
  {
   "cell_type": "code",
   "execution_count": 22,
   "id": "dfbebbe4-bdaa-4e3c-8358-afc1731d82ae",
   "metadata": {},
   "outputs": [
    {
     "name": "stdin",
     "output_type": "stream",
     "text": [
      "Enter you name:  mohan\n"
     ]
    },
    {
     "name": "stdout",
     "output_type": "stream",
     "text": [
      "Yes Mohan You are eligible for Scholarship!!😀\n"
     ]
    }
   ],
   "source": [
    "name = input('Enter you name: ').title()\n",
    "\n",
    "if (name in scholars_students):\n",
    "    print(f'Yes {name} You are eligible for Scholarship!!😀')\n",
    "    \n",
    "else:\n",
    "    print(f'You {name} are not eligible for Scholarship!!😔')"
   ]
  },
  {
   "cell_type": "code",
   "execution_count": null,
   "id": "2073b977-b1cc-4983-8feb-d8d7d38da931",
   "metadata": {},
   "outputs": [],
   "source": []
  },
  {
   "cell_type": "code",
   "execution_count": null,
   "id": "88864551-d9b3-4c84-9cbe-418fb90d0a93",
   "metadata": {},
   "outputs": [],
   "source": []
  },
  {
   "cell_type": "code",
   "execution_count": 36,
   "id": "bf80174f-aad5-4820-800b-be83f19f26b4",
   "metadata": {},
   "outputs": [
    {
     "name": "stdout",
     "output_type": "stream",
     "text": [
      "234 is divisible by 3\n"
     ]
    }
   ],
   "source": [
    "num1 = 234\n",
    "num2 = 3\n",
    "\n",
    "if (num1 % num2) == 0:\n",
    "    print(f'{num1} is divisible by {num2}')\n",
    "    \n",
    "else:\n",
    "    print(f'{num1} is not divisible by {num2}')"
   ]
  },
  {
   "cell_type": "code",
   "execution_count": null,
   "id": "750d352f-21ef-475f-8fcf-b7aebfb3cf96",
   "metadata": {},
   "outputs": [],
   "source": []
  },
  {
   "cell_type": "code",
   "execution_count": null,
   "id": "29c22465-ed62-462a-b8ef-972e61379e02",
   "metadata": {},
   "outputs": [],
   "source": []
  },
  {
   "cell_type": "code",
   "execution_count": 40,
   "id": "2fcec3d4-dd5c-4740-b125-9d1c2e04377a",
   "metadata": {},
   "outputs": [
    {
     "name": "stdin",
     "output_type": "stream",
     "text": [
      "Enter Number to check Even or Odd:  456789\n"
     ]
    },
    {
     "name": "stdout",
     "output_type": "stream",
     "text": [
      "Given number is an Odd Number\n"
     ]
    }
   ],
   "source": [
    "number = float(input('Enter Number to check Even or Odd: '))\n",
    "\n",
    "if (number % 2 == 0):\n",
    "    print('Given number is an Even Number')\n",
    "\n",
    "else:\n",
    "    print('Given number is an Odd Number')"
   ]
  },
  {
   "cell_type": "code",
   "execution_count": null,
   "id": "8f074a2a-8d2a-4d88-a30d-e10b5f53a4d3",
   "metadata": {},
   "outputs": [],
   "source": [
    "'asus'"
   ]
  },
  {
   "cell_type": "code",
   "execution_count": 61,
   "id": "b1181432-b353-487f-aa38-778289ed74e7",
   "metadata": {},
   "outputs": [
    {
     "name": "stdin",
     "output_type": "stream",
     "text": [
      "Enter word:  g\n"
     ]
    },
    {
     "name": "stdout",
     "output_type": "stream",
     "text": [
      "Consonants\n"
     ]
    }
   ],
   "source": [
    "word = input('Enter word: ').lower()\n",
    "\n",
    "if word[0] in 'aeiou':\n",
    "    print('Vowels')\n",
    "else:\n",
    "    print('Consonants')"
   ]
  },
  {
   "cell_type": "code",
   "execution_count": 55,
   "id": "74fb0b2a-abed-4ed5-ba6e-4102fca8d3a1",
   "metadata": {},
   "outputs": [],
   "source": [
    "# 'I' in 'aeiou'"
   ]
  },
  {
   "cell_type": "code",
   "execution_count": 63,
   "id": "26a410fa-ebc6-4bcb-88d6-57f6e2457998",
   "metadata": {},
   "outputs": [
    {
     "name": "stdin",
     "output_type": "stream",
     "text": [
      "Enter word:  rf'\n"
     ]
    },
    {
     "name": "stdout",
     "output_type": "stream",
     "text": [
      "Consonants\n"
     ]
    }
   ],
   "source": [
    "word = input('Enter word: ').lower()\n",
    "\n",
    "if word[0] in ['a','e','i','o','u']:\n",
    "    print('Vowels')\n",
    "else:\n",
    "    print('Consonants')"
   ]
  },
  {
   "cell_type": "code",
   "execution_count": null,
   "id": "e5ac3012-99f3-4d1e-a39f-eefc5e986f44",
   "metadata": {},
   "outputs": [],
   "source": []
  },
  {
   "cell_type": "code",
   "execution_count": null,
   "id": "15dda0a5-24a6-4d32-9863-697c3d07b09e",
   "metadata": {},
   "outputs": [],
   "source": []
  },
  {
   "cell_type": "code",
   "execution_count": 73,
   "id": "c01cb1c8-1077-4204-b261-0e2b4b71351b",
   "metadata": {},
   "outputs": [
    {
     "name": "stdout",
     "output_type": "stream",
     "text": [
      "343 is greater than 343\n"
     ]
    }
   ],
   "source": [
    "a = 343\n",
    "b = 343\n",
    "\n",
    "if a>b:\n",
    "    print(f'{a} is greater than {b}')\n",
    "else:\n",
    "    print(f'{b} is greater than {a}')"
   ]
  },
  {
   "cell_type": "code",
   "execution_count": null,
   "id": "9e115b48-17c7-4bdb-9c87-56731fe9ae3e",
   "metadata": {},
   "outputs": [],
   "source": []
  },
  {
   "cell_type": "code",
   "execution_count": null,
   "id": "782274f3-9811-4e3b-9a95-e4162c853984",
   "metadata": {},
   "outputs": [],
   "source": []
  },
  {
   "cell_type": "code",
   "execution_count": 81,
   "id": "159782d7-d07d-49cb-80cb-dfcf7e37dc34",
   "metadata": {},
   "outputs": [
    {
     "name": "stdout",
     "output_type": "stream",
     "text": [
      "a: 456 is greatest amongst all\n"
     ]
    }
   ],
   "source": [
    "a = 456\n",
    "b = 67\n",
    "c = 67\n",
    "\n",
    "if (a>b) and (a>c):\n",
    "    print(f'a: {a} is greatest amongst all')\n",
    "\n",
    "elif (b>a) and (b>c):\n",
    "    print(f'b: {b} is greatest amongst all')\n",
    "\n",
    "elif (c>a) and (c>b):\n",
    "    print(f'c: {c} is greatest amongst all')\n",
    "\n",
    "else:\n",
    "    print('All are equal!! or 2 might be equal and 1 smaller')"
   ]
  },
  {
   "cell_type": "code",
   "execution_count": null,
   "id": "ee7d6246-a345-4012-981e-2b56e12c0d80",
   "metadata": {},
   "outputs": [],
   "source": []
  },
  {
   "cell_type": "code",
   "execution_count": null,
   "id": "4d6aedef-71b8-414a-864b-058dba4788f7",
   "metadata": {},
   "outputs": [],
   "source": []
  },
  {
   "cell_type": "code",
   "execution_count": 111,
   "id": "98cac557-35a3-4180-b23e-cf12b2dd288e",
   "metadata": {},
   "outputs": [
    {
     "name": "stdout",
     "output_type": "stream",
     "text": [
      "                                                                 Ambani Public School                                                                 \n",
      "\n",
      "\n"
     ]
    },
    {
     "name": "stdin",
     "output_type": "stream",
     "text": [
      "Enter your maths marks:  har\n"
     ]
    },
    {
     "ename": "ValueError",
     "evalue": "could not convert string to float: 'har'",
     "output_type": "error",
     "traceback": [
      "\u001b[1;31m---------------------------------------------------------------------------\u001b[0m",
      "\u001b[1;31mValueError\u001b[0m                                Traceback (most recent call last)",
      "Cell \u001b[1;32mIn[111], line 5\u001b[0m\n\u001b[0;32m      2\u001b[0m \u001b[38;5;28mprint\u001b[39m()\n\u001b[0;32m      3\u001b[0m \u001b[38;5;28mprint\u001b[39m()\n\u001b[1;32m----> 5\u001b[0m maths \u001b[38;5;241m=\u001b[39m \u001b[38;5;28mfloat\u001b[39m(\u001b[38;5;28minput\u001b[39m(\u001b[38;5;124m'\u001b[39m\u001b[38;5;124mEnter your maths marks: \u001b[39m\u001b[38;5;124m'\u001b[39m)) \n\u001b[0;32m      6\u001b[0m hindi \u001b[38;5;241m=\u001b[39m \u001b[38;5;28mfloat\u001b[39m(\u001b[38;5;28minput\u001b[39m(\u001b[38;5;124m'\u001b[39m\u001b[38;5;124mEnter your hindi marks: \u001b[39m\u001b[38;5;124m'\u001b[39m))\n\u001b[0;32m      7\u001b[0m english \u001b[38;5;241m=\u001b[39m \u001b[38;5;28mfloat\u001b[39m(\u001b[38;5;28minput\u001b[39m(\u001b[38;5;124m'\u001b[39m\u001b[38;5;124mEnter your english marks: \u001b[39m\u001b[38;5;124m'\u001b[39m))\n",
      "\u001b[1;31mValueError\u001b[0m: could not convert string to float: 'har'"
     ]
    }
   ],
   "source": [
    "print('Ambani Public School'.center(150,' '))\n",
    "print()\n",
    "print()\n",
    "\n",
    "maths = float(input('Enter your maths marks: ')) \n",
    "hindi = float(input('Enter your hindi marks: '))\n",
    "english = float(input('Enter your english marks: '))\n",
    "sst = float(input('Enter your sst marks: '))\n",
    "science  = float(input('Enter your science marks: '))\n",
    "\n",
    "\n",
    "\n",
    "if (0<=maths<=100) and (0<=hindi<=100) and (0<=english<=100) and (0<=sst<=100) and (0<=science<=100):\n",
    "\n",
    "    print()\n",
    "    print()\n",
    "    \n",
    "    marks_obtained = maths + hindi + english + sst + science\n",
    "    total_marks_paper = 500\n",
    "    \n",
    "    percentage_obtained = round((marks_obtained / total_marks_paper)*100,2)\n",
    "    \n",
    "    if percentage_obtained >= 90:\n",
    "        print(f'You have Scored A+ Grade with {percentage_obtained}%')\n",
    "    \n",
    "    elif percentage_obtained >= 80:\n",
    "        print(f'You have Scored A Grade with {percentage_obtained}%')\n",
    "    \n",
    "    \n",
    "    elif percentage_obtained >= 70:\n",
    "        print(f'You have Scored B+ Grade with {percentage_obtained}%')\n",
    "    \n",
    "    \n",
    "    elif percentage_obtained >= 60:\n",
    "        print(f'You have Scored B Grade with {percentage_obtained}%')\n",
    "    \n",
    "    elif percentage_obtained >= 50:\n",
    "        print(f'You have Scored C Grade with {percentage_obtained}%')\n",
    "    \n",
    "    elif percentage_obtained >= 40:\n",
    "        print(f'You have Scored D Grade with {percentage_obtained}%')\n",
    "    \n",
    "    elif percentage_obtained >= 33:\n",
    "        print(f'You have Scored E Grade with {percentage_obtained}%')\n",
    "    \n",
    "    else:\n",
    "        print('You are Failed!!')\n",
    "\n",
    "else:\n",
    "    print('Incorrect marks Entered!!')"
   ]
  },
  {
   "cell_type": "code",
   "execution_count": null,
   "id": "996b3988-84f9-4f28-9f3f-26b72d2ae81e",
   "metadata": {},
   "outputs": [],
   "source": []
  },
  {
   "cell_type": "code",
   "execution_count": 114,
   "id": "77484a56-1d08-4750-b997-7730bfe50bb8",
   "metadata": {},
   "outputs": [
    {
     "name": "stdout",
     "output_type": "stream",
     "text": [
      "                                                                 Ambani Public School                                                                 \n",
      "\n",
      "\n"
     ]
    },
    {
     "name": "stdin",
     "output_type": "stream",
     "text": [
      "Enter your maths marks:  gar\n"
     ]
    },
    {
     "name": "stdout",
     "output_type": "stream",
     "text": [
      "Invalid Marks Entered!!\n"
     ]
    }
   ],
   "source": [
    "print('Ambani Public School'.center(150,' '))\n",
    "print()\n",
    "print()\n",
    "\n",
    "try:\n",
    "\n",
    "    maths = float(input('Enter your maths marks: ')) \n",
    "    hindi = float(input('Enter your hindi marks: '))\n",
    "    english = float(input('Enter your english marks: '))\n",
    "    sst = float(input('Enter your sst marks: '))\n",
    "    science  = float(input('Enter your science marks: '))\n",
    "    \n",
    "    \n",
    "    \n",
    "    if (0<=maths<=100) and (0<=hindi<=100) and (0<=english<=100) and (0<=sst<=100) and (0<=science<=100):\n",
    "    \n",
    "        print()\n",
    "        print()\n",
    "        \n",
    "        marks_obtained = maths + hindi + english + sst + science\n",
    "        total_marks_paper = 500\n",
    "        \n",
    "        percentage_obtained = round((marks_obtained / total_marks_paper)*100,2)\n",
    "        \n",
    "        if percentage_obtained >= 90:\n",
    "            print(f'You have Scored A+ Grade with {percentage_obtained}%')\n",
    "        \n",
    "        elif percentage_obtained >= 80:\n",
    "            print(f'You have Scored A Grade with {percentage_obtained}%')\n",
    "        \n",
    "        \n",
    "        elif percentage_obtained >= 70:\n",
    "            print(f'You have Scored B+ Grade with {percentage_obtained}%')\n",
    "        \n",
    "        \n",
    "        elif percentage_obtained >= 60:\n",
    "            print(f'You have Scored B Grade with {percentage_obtained}%')\n",
    "        \n",
    "        elif percentage_obtained >= 50:\n",
    "            print(f'You have Scored C Grade with {percentage_obtained}%')\n",
    "        \n",
    "        elif percentage_obtained >= 40:\n",
    "            print(f'You have Scored D Grade with {percentage_obtained}%')\n",
    "        \n",
    "        elif percentage_obtained >= 33:\n",
    "            print(f'You have Scored E Grade with {percentage_obtained}%')\n",
    "        \n",
    "        else:\n",
    "            print('You are Failed!!')\n",
    "    \n",
    "    else:\n",
    "        print('Incorrect marks Entered!!')\n",
    "\n",
    "except:\n",
    "    print('Invalid Marks Entered!!')"
   ]
  },
  {
   "cell_type": "code",
   "execution_count": null,
   "id": "a333b6ea-cfea-4fcb-8425-9574c7970b56",
   "metadata": {},
   "outputs": [],
   "source": []
  }
 ],
 "metadata": {
  "kernelspec": {
   "display_name": "Python [conda env:base] *",
   "language": "python",
   "name": "conda-base-py"
  },
  "language_info": {
   "codemirror_mode": {
    "name": "ipython",
    "version": 3
   },
   "file_extension": ".py",
   "mimetype": "text/x-python",
   "name": "python",
   "nbconvert_exporter": "python",
   "pygments_lexer": "ipython3",
   "version": "3.12.7"
  }
 },
 "nbformat": 4,
 "nbformat_minor": 5
}
