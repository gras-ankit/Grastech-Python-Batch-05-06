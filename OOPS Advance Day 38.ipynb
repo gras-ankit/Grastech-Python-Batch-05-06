{
 "cells": [
  {
   "cell_type": "markdown",
   "id": "2f92f70f-5457-4fc2-9ba6-7283aa4a0526",
   "metadata": {},
   "source": [
    "# OOPS Advance"
   ]
  },
  {
   "cell_type": "markdown",
   "id": "89a2b650-c027-4bbf-989c-6b24cc74f32a",
   "metadata": {},
   "source": [
    "# Dunder methods/ Magic methods"
   ]
  },
  {
   "cell_type": "code",
   "execution_count": 42,
   "id": "470e956e-029e-4f16-8cfb-e846fe3fbdfb",
   "metadata": {},
   "outputs": [],
   "source": [
    "class Animal:\n",
    "    def __init__(self,name):\n",
    "        print('I am just an animal!!')\n",
    "        print(f'How are you {name}')\n",
    "        \n",
    "class Cat(Animal):\n",
    "    \n",
    "    def __init__(self,NAAM = None):\n",
    "        if NAAM == None:\n",
    "            print('I am a Cat, Meow!!, Meow!!')\n",
    "        else:\n",
    "            super().__init__(NAAM)\n",
    "            print('I am a Cat, Meow!!, Meow!!')\n",
    "        \n",
    "        \n",
    "    def speak(self):\n",
    "        print('Meow!!')"
   ]
  },
  {
   "cell_type": "code",
   "execution_count": 39,
   "id": "187a6021-ffaf-4fea-ae3c-5de6f21d0d42",
   "metadata": {},
   "outputs": [
    {
     "name": "stdout",
     "output_type": "stream",
     "text": [
      "I am just an animal!!\n",
      "How are you Lucky\n",
      "I am a Cat, Meow!!, Meow!!\n"
     ]
    }
   ],
   "source": [
    "ob = Cat('Lucky')"
   ]
  },
  {
   "cell_type": "code",
   "execution_count": null,
   "id": "cb920648-8f60-4b9b-8540-05a1f92cc4b1",
   "metadata": {},
   "outputs": [],
   "source": []
  },
  {
   "cell_type": "code",
   "execution_count": 50,
   "id": "938e4dfb-834c-4dd0-a8bc-03f19772a9b2",
   "metadata": {},
   "outputs": [
    {
     "data": {
      "text/plain": [
       "<super: __main__.Animal, None>"
      ]
     },
     "execution_count": 50,
     "metadata": {},
     "output_type": "execute_result"
    }
   ],
   "source": [
    "super(Animal)\n"
   ]
  },
  {
   "cell_type": "code",
   "execution_count": null,
   "id": "b47b4121-0e30-45b9-9efe-8aefd27a8bf4",
   "metadata": {},
   "outputs": [],
   "source": []
  },
  {
   "cell_type": "markdown",
   "id": "e8381b6c-34ab-43d3-8930-6949a0d184ab",
   "metadata": {},
   "source": [
    "# Magic methods"
   ]
  },
  {
   "cell_type": "code",
   "execution_count": 56,
   "id": "c462a30d-7b40-436f-b1a9-f6aa1ab5dd01",
   "metadata": {},
   "outputs": [
    {
     "ename": "TypeError",
     "evalue": "unsupported operand type(s) for +: 'set' and 'set'",
     "output_type": "error",
     "traceback": [
      "\u001b[1;31m---------------------------------------------------------------------------\u001b[0m",
      "\u001b[1;31mTypeError\u001b[0m                                 Traceback (most recent call last)",
      "Cell \u001b[1;32mIn[56], line 3\u001b[0m\n\u001b[0;32m      1\u001b[0m a \u001b[38;5;241m=\u001b[39m {\u001b[38;5;241m2\u001b[39m,\u001b[38;5;241m34\u001b[39m,\u001b[38;5;241m56\u001b[39m}\n\u001b[0;32m      2\u001b[0m b \u001b[38;5;241m=\u001b[39m {\u001b[38;5;241m4\u001b[39m,\u001b[38;5;241m6\u001b[39m,\u001b[38;5;241m547\u001b[39m,\u001b[38;5;241m6\u001b[39m}\n\u001b[1;32m----> 3\u001b[0m a \u001b[38;5;241m+\u001b[39m b\n",
      "\u001b[1;31mTypeError\u001b[0m: unsupported operand type(s) for +: 'set' and 'set'"
     ]
    }
   ],
   "source": [
    "a = {2,34,56}\n",
    "b = {4,6,547,6}\n",
    "a + b"
   ]
  },
  {
   "cell_type": "code",
   "execution_count": 58,
   "id": "8839e07f-8bf0-4c43-9572-f52436c5be7e",
   "metadata": {},
   "outputs": [
    {
     "data": {
      "text/plain": [
       "[2, 34, 56, 4, 6, 547, 6]"
      ]
     },
     "execution_count": 58,
     "metadata": {},
     "output_type": "execute_result"
    }
   ],
   "source": [
    "a = [2,34,56]\n",
    "b = [4,6,547,6]\n",
    "a + b"
   ]
  },
  {
   "cell_type": "code",
   "execution_count": 239,
   "id": "90655298-1bba-4339-bc2d-1d0560dd4c98",
   "metadata": {},
   "outputs": [],
   "source": [
    "class Sales:\n",
    "    \"\"\"This is a Class Docstring!!\"\"\"\n",
    "    \n",
    "    def __init__(self,amount):\n",
    "        '''THIS IS MY SALES CLASS INIT DOCTstring!!'''\n",
    "        self.amount = amount\n",
    "\n",
    "    def __add__(self,other): # dunder method/magic method\n",
    "        return self.amount + other.amount\n",
    "\n",
    "    def __str__(self):\n",
    "        return 'This is Just a Sales class Object!!'\n",
    "\n",
    "    # def __doc__(self):\n",
    "    #     print('This is a Doc string!!')\n",
    "\n",
    "# class Profit:\n",
    "#     def __init__(self,amount):\n",
    "#         self.amt = amount"
   ]
  },
  {
   "cell_type": "code",
   "execution_count": 241,
   "id": "3dc1d038-cc75-4ae7-bee9-db8cf9918098",
   "metadata": {},
   "outputs": [
    {
     "data": {
      "text/plain": [
       "5801"
      ]
     },
     "execution_count": 241,
     "metadata": {},
     "output_type": "execute_result"
    }
   ],
   "source": [
    "a = Sales(2345)\n",
    "b =  Sales(3456)\n",
    "\n",
    "# a.__add__(b)\n",
    "a + b"
   ]
  },
  {
   "cell_type": "code",
   "execution_count": 243,
   "id": "cb414e44-cf4b-41c9-a6d4-5d7cbadfe7a0",
   "metadata": {},
   "outputs": [
    {
     "name": "stdout",
     "output_type": "stream",
     "text": [
      "This is Just a Sales class Object!!\n"
     ]
    }
   ],
   "source": [
    "print(str(a))"
   ]
  },
  {
   "cell_type": "code",
   "execution_count": 247,
   "id": "045ab69e-58c5-4298-b6b4-6c257bd6cba3",
   "metadata": {},
   "outputs": [],
   "source": [
    "# a.__doc__()"
   ]
  },
  {
   "cell_type": "code",
   "execution_count": 197,
   "id": "1a4dc73c-3a15-4356-8a41-3e74ad4340d8",
   "metadata": {},
   "outputs": [
    {
     "ename": "TypeError",
     "evalue": "Sales.__init__() missing 1 required positional argument: 'amount'",
     "output_type": "error",
     "traceback": [
      "\u001b[1;31m---------------------------------------------------------------------------\u001b[0m",
      "\u001b[1;31mTypeError\u001b[0m                                 Traceback (most recent call last)",
      "Cell \u001b[1;32mIn[197], line 1\u001b[0m\n\u001b[1;32m----> 1\u001b[0m Sales()\n",
      "\u001b[1;31mTypeError\u001b[0m: Sales.__init__() missing 1 required positional argument: 'amount'"
     ]
    }
   ],
   "source": [
    "a()"
   ]
  },
  {
   "cell_type": "code",
   "execution_count": null,
   "id": "abf208d6-0299-4699-a9ab-d6daa2ea5fe9",
   "metadata": {},
   "outputs": [],
   "source": []
  },
  {
   "cell_type": "code",
   "execution_count": 139,
   "id": "234700d2-edc9-4910-ab50-cebf321bc8f6",
   "metadata": {},
   "outputs": [],
   "source": [
    "class SET:\n",
    "    def __init__(self,set_value):\n",
    "        self.value = list(set_value)\n",
    "\n",
    "    def __add__(self,other): # dunder method/magic method\n",
    "        return set(self.value + other.value)\n",
    "    def __sub__(self,other):\n",
    "        ..."
   ]
  },
  {
   "cell_type": "code",
   "execution_count": 141,
   "id": "7185a889-aa9b-498d-9d45-0a4b93a73a0e",
   "metadata": {},
   "outputs": [
    {
     "data": {
      "text/plain": [
       "{4, 35, 68, 457, 678, 4565}"
      ]
     },
     "execution_count": 141,
     "metadata": {},
     "output_type": "execute_result"
    }
   ],
   "source": [
    "a = SET({4,35,457,68})\n",
    "b = SET({4,4565,678})\n",
    "\n",
    "a + b"
   ]
  },
  {
   "cell_type": "code",
   "execution_count": 88,
   "id": "16a49e59-adb2-4dff-bf84-d7425b77b150",
   "metadata": {},
   "outputs": [],
   "source": [
    "a = [23,545,6]\n",
    "b = [23,4565,678]"
   ]
  },
  {
   "cell_type": "code",
   "execution_count": 90,
   "id": "46c5c6f7-a518-4629-b03c-ab0ed632919e",
   "metadata": {},
   "outputs": [
    {
     "data": {
      "text/plain": [
       "[23, 545, 6, 23, 4565, 678]"
      ]
     },
     "execution_count": 90,
     "metadata": {},
     "output_type": "execute_result"
    }
   ],
   "source": [
    "a.__add__(b)"
   ]
  },
  {
   "cell_type": "code",
   "execution_count": 94,
   "id": "8df74069-64a0-4e50-9aaa-ef385c66282e",
   "metadata": {},
   "outputs": [
    {
     "data": {
      "text/plain": [
       "[23, 545, 6, 23, 4565, 678]"
      ]
     },
     "execution_count": 94,
     "metadata": {},
     "output_type": "execute_result"
    }
   ],
   "source": [
    "a + b"
   ]
  },
  {
   "cell_type": "code",
   "execution_count": 96,
   "id": "108e57e3-556e-47eb-87ea-4cc3d919d29e",
   "metadata": {},
   "outputs": [
    {
     "data": {
      "text/plain": [
       "3"
      ]
     },
     "execution_count": 96,
     "metadata": {},
     "output_type": "execute_result"
    }
   ],
   "source": [
    "len(a)"
   ]
  },
  {
   "cell_type": "code",
   "execution_count": 98,
   "id": "28e81268-92a4-47d7-8a43-cf8b3a2b33ba",
   "metadata": {},
   "outputs": [
    {
     "data": {
      "text/plain": [
       "3"
      ]
     },
     "execution_count": 98,
     "metadata": {},
     "output_type": "execute_result"
    }
   ],
   "source": [
    "len({1,243,456})"
   ]
  },
  {
   "cell_type": "code",
   "execution_count": 100,
   "id": "87153b64-af8a-4804-8662-df643127bc54",
   "metadata": {},
   "outputs": [
    {
     "ename": "TypeError",
     "evalue": "object of type 'int' has no len()",
     "output_type": "error",
     "traceback": [
      "\u001b[1;31m---------------------------------------------------------------------------\u001b[0m",
      "\u001b[1;31mTypeError\u001b[0m                                 Traceback (most recent call last)",
      "Cell \u001b[1;32mIn[100], line 1\u001b[0m\n\u001b[1;32m----> 1\u001b[0m \u001b[38;5;28mlen\u001b[39m(\u001b[38;5;241m2356\u001b[39m)\n",
      "\u001b[1;31mTypeError\u001b[0m: object of type 'int' has no len()"
     ]
    }
   ],
   "source": [
    "len(2356)"
   ]
  },
  {
   "cell_type": "code",
   "execution_count": 102,
   "id": "2a875f53-cd82-4210-bbe6-acc5d71e4cc3",
   "metadata": {},
   "outputs": [],
   "source": [
    "a = 34567"
   ]
  },
  {
   "cell_type": "code",
   "execution_count": null,
   "id": "b4d3e249-b86e-4db1-8c69-6cd5e353f6ea",
   "metadata": {},
   "outputs": [],
   "source": []
  },
  {
   "cell_type": "code",
   "execution_count": 284,
   "id": "46a896b5-003d-4741-83a9-b0c64d6d4c8e",
   "metadata": {},
   "outputs": [],
   "source": [
    "class INT:\n",
    "    def __init__(self,num):\n",
    "        self.num = num\n",
    "\n",
    "    def __len__(self):\n",
    "        return len(str(self.num))\n",
    "    def __del__(self):\n",
    "        print('Object has been Deleted From Memeory!!')"
   ]
  },
  {
   "cell_type": "code",
   "execution_count": 286,
   "id": "24ff02a8-9833-4fc4-8bf9-64a4fd730d73",
   "metadata": {},
   "outputs": [],
   "source": [
    "a = INT(567)"
   ]
  },
  {
   "cell_type": "code",
   "execution_count": 288,
   "id": "3cf15073-0b8b-42a1-a1e0-d209a41c355a",
   "metadata": {},
   "outputs": [
    {
     "data": {
      "text/plain": [
       "3"
      ]
     },
     "execution_count": 288,
     "metadata": {},
     "output_type": "execute_result"
    }
   ],
   "source": [
    "len(a)"
   ]
  },
  {
   "cell_type": "code",
   "execution_count": 290,
   "id": "2dc4bf65-6c0e-4ee3-a574-4d8397822d08",
   "metadata": {},
   "outputs": [
    {
     "name": "stdout",
     "output_type": "stream",
     "text": [
      "Object has been Deleted From Memeory!!\n"
     ]
    }
   ],
   "source": [
    "del a"
   ]
  },
  {
   "cell_type": "code",
   "execution_count": 282,
   "id": "e26ab5df-9c68-41b0-9e89-559afd71c11b",
   "metadata": {},
   "outputs": [
    {
     "ename": "NameError",
     "evalue": "name 'a' is not defined",
     "output_type": "error",
     "traceback": [
      "\u001b[1;31m---------------------------------------------------------------------------\u001b[0m",
      "\u001b[1;31mNameError\u001b[0m                                 Traceback (most recent call last)",
      "Cell \u001b[1;32mIn[282], line 1\u001b[0m\n\u001b[1;32m----> 1\u001b[0m \u001b[38;5;28mprint\u001b[39m(a)\n",
      "\u001b[1;31mNameError\u001b[0m: name 'a' is not defined"
     ]
    }
   ],
   "source": [
    "# print(a)"
   ]
  },
  {
   "cell_type": "code",
   "execution_count": 292,
   "id": "337c0fe7-fe46-4ef1-9e8c-ca3e97afff04",
   "metadata": {},
   "outputs": [],
   "source": [
    "f = [23,5,4567]"
   ]
  },
  {
   "cell_type": "code",
   "execution_count": 294,
   "id": "d0bee0d1-d07a-4dae-9a7b-f1caf7d9e256",
   "metadata": {},
   "outputs": [],
   "source": [
    "del f"
   ]
  },
  {
   "cell_type": "code",
   "execution_count": 1,
   "id": "44bbadfe-bafb-49ab-a883-8392805f73c7",
   "metadata": {},
   "outputs": [],
   "source": [
    "class temp:\n",
    "    def __del__(self):\n",
    "        print('Object has been Deleted From Memeory!!')\n",
    "\n",
    "class list(list,temp):\n",
    "    ..."
   ]
  },
  {
   "cell_type": "code",
   "execution_count": 3,
   "id": "8096cd61-678a-4c5b-9663-9fe3c86ddb75",
   "metadata": {},
   "outputs": [],
   "source": [
    "a = list([23,546])"
   ]
  },
  {
   "cell_type": "code",
   "execution_count": 340,
   "id": "1db10935-8c03-4392-a328-d32f4321ef88",
   "metadata": {},
   "outputs": [
    {
     "name": "stdout",
     "output_type": "stream",
     "text": [
      "Object has been Deleted From Memeory!!\n"
     ]
    }
   ],
   "source": [
    "del a"
   ]
  },
  {
   "cell_type": "code",
   "execution_count": 342,
   "id": "2ddd9f52-7281-4823-a817-e4562e37291c",
   "metadata": {},
   "outputs": [],
   "source": [
    "b = [235,457,47]"
   ]
  },
  {
   "cell_type": "code",
   "execution_count": 344,
   "id": "270433b8-e3e7-4e6a-8d12-38e516d46d9c",
   "metadata": {},
   "outputs": [],
   "source": [
    "del b"
   ]
  },
  {
   "cell_type": "code",
   "execution_count": 5,
   "id": "691a4ada-86de-4f9e-8303-a1b4d0c2659d",
   "metadata": {},
   "outputs": [],
   "source": [
    "c = list([235,457,47])"
   ]
  },
  {
   "cell_type": "code",
   "execution_count": 7,
   "id": "023590fa-6a59-4e5f-80ec-26afa527a551",
   "metadata": {},
   "outputs": [
    {
     "data": {
      "text/plain": [
       "[235, 457, 47]"
      ]
     },
     "execution_count": 7,
     "metadata": {},
     "output_type": "execute_result"
    }
   ],
   "source": [
    "c"
   ]
  },
  {
   "cell_type": "code",
   "execution_count": 9,
   "id": "60e2d654-7b6d-4390-b663-df5a9532d172",
   "metadata": {},
   "outputs": [],
   "source": [
    "del c"
   ]
  },
  {
   "cell_type": "code",
   "execution_count": null,
   "id": "02edf7b8-60c6-4164-bac0-746f16c3dff2",
   "metadata": {},
   "outputs": [],
   "source": []
  }
 ],
 "metadata": {
  "kernelspec": {
   "display_name": "Python [conda env:base] *",
   "language": "python",
   "name": "conda-base-py"
  },
  "language_info": {
   "codemirror_mode": {
    "name": "ipython",
    "version": 3
   },
   "file_extension": ".py",
   "mimetype": "text/x-python",
   "name": "python",
   "nbconvert_exporter": "python",
   "pygments_lexer": "ipython3",
   "version": "3.12.7"
  }
 },
 "nbformat": 4,
 "nbformat_minor": 5
}
