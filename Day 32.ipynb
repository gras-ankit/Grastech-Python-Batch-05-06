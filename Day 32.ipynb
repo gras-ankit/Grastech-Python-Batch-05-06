{
 "cells": [
  {
   "cell_type": "markdown",
   "id": "7b771951-48e1-40f1-9b97-64e15a354888",
   "metadata": {},
   "source": [
    "# OOP"
   ]
  },
  {
   "cell_type": "code",
   "execution_count": 3,
   "id": "c7a7ea34-33c0-4aa8-86b5-19b581185836",
   "metadata": {},
   "outputs": [],
   "source": [
    "# Remote :- Object(software)\n",
    "# GPL:- Functional Process, def\n",
    "# OOP:- class"
   ]
  },
  {
   "cell_type": "code",
   "execution_count": 5,
   "id": "0448f5c6-6fc0-4356-8595-faafdef618bb",
   "metadata": {},
   "outputs": [],
   "source": [
    "# Pillars\n",
    "# OOP's\n",
    "# c++\n",
    "# java\n",
    "# php\n",
    "# market, 98% PL"
   ]
  },
  {
   "cell_type": "code",
   "execution_count": 7,
   "id": "10162c0e-bf6e-4d86-a0c7-5bba85e80ead",
   "metadata": {},
   "outputs": [],
   "source": [
    "# Software: .exe\n",
    "#     Packages\n",
    "#         Libraries\n",
    "#             Modules\n",
    "#                 class: oops\n",
    "#                     functional\n",
    "#                         Basic Programming\n",
    "#                             if else, loops data types"
   ]
  },
  {
   "cell_type": "code",
   "execution_count": null,
   "id": "586fb274-cba7-450f-b88d-0d41c3cab649",
   "metadata": {},
   "outputs": [],
   "source": []
  },
  {
   "cell_type": "code",
   "execution_count": 10,
   "id": "8cd4f129-0dbe-4c05-ba85-e53add2b7e41",
   "metadata": {},
   "outputs": [],
   "source": [
    "# object: class"
   ]
  },
  {
   "cell_type": "code",
   "execution_count": 12,
   "id": "223538d1-b704-4edc-ba14-79cfceb7b894",
   "metadata": {},
   "outputs": [],
   "source": [
    "# class:- keywords"
   ]
  },
  {
   "cell_type": "code",
   "execution_count": 14,
   "id": "18156331-9842-4e9d-a880-3a984ef823b0",
   "metadata": {},
   "outputs": [
    {
     "name": "stdout",
     "output_type": "stream",
     "text": [
      "\n",
      "Here is a list of the Python keywords.  Enter any keyword to get more help.\n",
      "\n",
      "False               class               from                or\n",
      "None                continue            global              pass\n",
      "True                def                 if                  raise\n",
      "and                 del                 import              return\n",
      "as                  elif                in                  try\n",
      "assert              else                is                  while\n",
      "async               except              lambda              with\n",
      "await               finally             nonlocal            yield\n",
      "break               for                 not                 \n",
      "\n"
     ]
    }
   ],
   "source": [
    "help('keywords')"
   ]
  },
  {
   "cell_type": "code",
   "execution_count": 16,
   "id": "a8813dc8-6c4c-4328-aaea-6574bea6c9f5",
   "metadata": {},
   "outputs": [],
   "source": [
    "def a():\n",
    "    return 'Hello'"
   ]
  },
  {
   "cell_type": "code",
   "execution_count": 18,
   "id": "111d1a70-2ad5-409a-a880-7338ad9eeb0f",
   "metadata": {},
   "outputs": [
    {
     "data": {
      "text/plain": [
       "'Hello'"
      ]
     },
     "execution_count": 18,
     "metadata": {},
     "output_type": "execute_result"
    }
   ],
   "source": [
    "a()"
   ]
  },
  {
   "cell_type": "code",
   "execution_count": 20,
   "id": "4f03f246-0216-4d5e-a088-716abb94263a",
   "metadata": {},
   "outputs": [],
   "source": [
    "# data\n",
    "# data_type\n"
   ]
  },
  {
   "cell_type": "code",
   "execution_count": 30,
   "id": "c31f8da5-f207-4ef5-91b9-bcb87d8589e6",
   "metadata": {},
   "outputs": [
    {
     "name": "stdout",
     "output_type": "stream",
     "text": [
      "<class 'str'>\n"
     ]
    }
   ],
   "source": [
    "a = '34.9'\n",
    "print(type(a))"
   ]
  },
  {
   "cell_type": "code",
   "execution_count": 110,
   "id": "7a2973ea-5d1d-4c8a-b774-b9309c18553d",
   "metadata": {},
   "outputs": [],
   "source": [
    "class Remote:  #object\n",
    "\n",
    "    def on(): #features/methods #function\n",
    "        print('TV ON')\n",
    "\n",
    "    def mute():\n",
    "        print('TV has bee Mute')\n",
    "\n",
    "    def change_channel():\n",
    "        print('Select or pass channel num!!')\n",
    "\n",
    "    def off():\n",
    "        print('TV OFF')\n",
    "\n",
    "    def volume_up():\n",
    "        print('Volume UP')\n",
    "        \n",
    "    def volume_down():\n",
    "        print('Volumn Down!!')"
   ]
  },
  {
   "cell_type": "code",
   "execution_count": 112,
   "id": "7e2b1755-62f8-4833-b111-840d8f92dff9",
   "metadata": {},
   "outputs": [],
   "source": [
    "b = Remote()"
   ]
  },
  {
   "cell_type": "code",
   "execution_count": 38,
   "id": "690ecab6-6a2c-486c-91b0-3b8c5478e5f8",
   "metadata": {},
   "outputs": [
    {
     "name": "stdout",
     "output_type": "stream",
     "text": [
      "<class '__main__.Remote'>\n"
     ]
    }
   ],
   "source": [
    "print(type(b))"
   ]
  },
  {
   "cell_type": "code",
   "execution_count": 42,
   "id": "ebea7f42-4fa8-407e-b431-d97b139ba06d",
   "metadata": {},
   "outputs": [],
   "source": [
    "a = 'Hello'"
   ]
  },
  {
   "cell_type": "code",
   "execution_count": 44,
   "id": "c75d952b-4059-4d87-b545-751c9c55a0b1",
   "metadata": {},
   "outputs": [
    {
     "data": {
      "text/plain": [
       "'HELLO'"
      ]
     },
     "execution_count": 44,
     "metadata": {},
     "output_type": "execute_result"
    }
   ],
   "source": [
    "a.upper()"
   ]
  },
  {
   "cell_type": "code",
   "execution_count": 46,
   "id": "f4013fc5-c1e5-4841-8381-54685ac75fa5",
   "metadata": {},
   "outputs": [],
   "source": [
    "a = 78"
   ]
  },
  {
   "cell_type": "code",
   "execution_count": 48,
   "id": "b00c0ca9-d4a0-4765-a313-a27619939655",
   "metadata": {},
   "outputs": [
    {
     "ename": "AttributeError",
     "evalue": "'int' object has no attribute 'upper'",
     "output_type": "error",
     "traceback": [
      "\u001b[1;31m---------------------------------------------------------------------------\u001b[0m",
      "\u001b[1;31mAttributeError\u001b[0m                            Traceback (most recent call last)",
      "Cell \u001b[1;32mIn[48], line 1\u001b[0m\n\u001b[1;32m----> 1\u001b[0m a\u001b[38;5;241m.\u001b[39mupper()\n",
      "\u001b[1;31mAttributeError\u001b[0m: 'int' object has no attribute 'upper'"
     ]
    }
   ],
   "source": [
    "a.upper()"
   ]
  },
  {
   "cell_type": "code",
   "execution_count": 52,
   "id": "9851064e-c644-4812-b603-bcf001b4f854",
   "metadata": {},
   "outputs": [
    {
     "name": "stdout",
     "output_type": "stream",
     "text": [
      "<class '__main__.Remote'>\n"
     ]
    }
   ],
   "source": [
    "print(type(b))"
   ]
  },
  {
   "cell_type": "code",
   "execution_count": 62,
   "id": "0bfa3b61-65a2-4b7c-b0d3-806cc9d5630e",
   "metadata": {},
   "outputs": [
    {
     "name": "stdout",
     "output_type": "stream",
     "text": [
      "67\n"
     ]
    }
   ],
   "source": [
    "b = int(67)\n",
    "print(b)"
   ]
  },
  {
   "cell_type": "code",
   "execution_count": 60,
   "id": "d2ce38d0-57ca-431d-8f5e-69a1cd33f484",
   "metadata": {},
   "outputs": [
    {
     "ename": "SyntaxError",
     "evalue": "invalid syntax (3228422868.py, line 1)",
     "output_type": "error",
     "traceback": [
      "\u001b[1;36m  Cell \u001b[1;32mIn[60], line 1\u001b[1;36m\u001b[0m\n\u001b[1;33m    int b = 67\u001b[0m\n\u001b[1;37m        ^\u001b[0m\n\u001b[1;31mSyntaxError\u001b[0m\u001b[1;31m:\u001b[0m invalid syntax\n"
     ]
    }
   ],
   "source": [
    "int b = 67"
   ]
  },
  {
   "cell_type": "code",
   "execution_count": 72,
   "id": "bfa7cb7f-9262-4018-b392-4c40290679f2",
   "metadata": {},
   "outputs": [
    {
     "name": "stdout",
     "output_type": "stream",
     "text": [
      "34 <class 'int'>\n"
     ]
    }
   ],
   "source": [
    "b:str = 34\n",
    "print(b,type(b))"
   ]
  },
  {
   "cell_type": "code",
   "execution_count": 86,
   "id": "9e916cf2-5ba7-4f8c-aae7-b96b1c051029",
   "metadata": {},
   "outputs": [
    {
     "name": "stdout",
     "output_type": "stream",
     "text": [
      "<class '__main__.Remote'>\n"
     ]
    }
   ],
   "source": [
    "b = Remote()\n",
    "print(type(b))"
   ]
  },
  {
   "cell_type": "code",
   "execution_count": 102,
   "id": "9d053b31-ebe2-4f47-b32c-b35f6d48ac99",
   "metadata": {},
   "outputs": [
    {
     "name": "stdout",
     "output_type": "stream",
     "text": [
      "Hello My age is 24.000 years old\n"
     ]
    }
   ],
   "source": [
    "print(f'Hello My age is {24:.3f} years old')"
   ]
  },
  {
   "cell_type": "code",
   "execution_count": 104,
   "id": "086fb613-069c-4eab-90b5-f9b00390f2e7",
   "metadata": {},
   "outputs": [],
   "source": [
    "d = [2,354,56]"
   ]
  },
  {
   "cell_type": "code",
   "execution_count": 204,
   "id": "5b1a98c3-ad3c-4626-994f-3cc04c2525d9",
   "metadata": {},
   "outputs": [],
   "source": [
    "class Remote:  #object\n",
    "\n",
    "    def on(self): #features/methods #function\n",
    "        print(id(self))\n",
    "        print('TV ON')\n",
    "\n",
    "    def mute(self):\n",
    "        print(id(self))\n",
    "        print('TV has bee Mute')\n",
    "\n",
    "    def change_channel(selfi):\n",
    "        print(id(selfi))\n",
    "        print('Select or pass channel num!!')\n",
    "\n",
    "    def off(self):\n",
    "        print('TV OFF')\n",
    "\n",
    "    def volume_up(self):\n",
    "        print('Volume UP')\n",
    "        \n",
    "    def volume_down(self):\n",
    "        print('Volumn Down!!')"
   ]
  },
  {
   "cell_type": "code",
   "execution_count": 206,
   "id": "5d40b9ef-9ffd-44f4-8c96-a3aa5ccccd84",
   "metadata": {},
   "outputs": [],
   "source": [
    "mi = Remote()"
   ]
  },
  {
   "cell_type": "code",
   "execution_count": 208,
   "id": "065fedab-1c46-42d8-9845-25d50e280c87",
   "metadata": {},
   "outputs": [
    {
     "name": "stdout",
     "output_type": "stream",
     "text": [
      "Volume UP\n"
     ]
    }
   ],
   "source": [
    "mi.volume_up()"
   ]
  },
  {
   "cell_type": "code",
   "execution_count": 210,
   "id": "fad9365e-3038-4992-b580-47074b13fe72",
   "metadata": {},
   "outputs": [
    {
     "name": "stdout",
     "output_type": "stream",
     "text": [
      "Volumn Down!!\n"
     ]
    }
   ],
   "source": [
    "mi.volume_down()"
   ]
  },
  {
   "cell_type": "code",
   "execution_count": 212,
   "id": "5e34971f-6caa-48aa-b745-59b359925ee5",
   "metadata": {},
   "outputs": [
    {
     "name": "stdout",
     "output_type": "stream",
     "text": [
      "TV OFF\n"
     ]
    }
   ],
   "source": [
    "mi.off()"
   ]
  },
  {
   "cell_type": "code",
   "execution_count": 196,
   "id": "3bcd9c02-d0a4-4392-9cf3-ff666c04fec3",
   "metadata": {},
   "outputs": [],
   "source": [
    "h = 45"
   ]
  },
  {
   "cell_type": "code",
   "execution_count": 198,
   "id": "fde73551-c944-424d-8844-25eaca5f55e2",
   "metadata": {},
   "outputs": [],
   "source": [
    "g = 45"
   ]
  },
  {
   "cell_type": "code",
   "execution_count": 200,
   "id": "13624165-fee7-4c7d-8c20-911c6714c7c6",
   "metadata": {},
   "outputs": [
    {
     "data": {
      "text/plain": [
       "140727773179704"
      ]
     },
     "execution_count": 200,
     "metadata": {},
     "output_type": "execute_result"
    }
   ],
   "source": [
    "id(h)"
   ]
  },
  {
   "cell_type": "code",
   "execution_count": 202,
   "id": "8a19dd63-5bde-48c8-a4a1-9bcbc0872cd3",
   "metadata": {},
   "outputs": [
    {
     "data": {
      "text/plain": [
       "140727773179704"
      ]
     },
     "execution_count": 202,
     "metadata": {},
     "output_type": "execute_result"
    }
   ],
   "source": [
    "id(g)"
   ]
  },
  {
   "cell_type": "code",
   "execution_count": 214,
   "id": "18d97195-bcd1-482c-b6c5-af027704772d",
   "metadata": {},
   "outputs": [
    {
     "name": "stdout",
     "output_type": "stream",
     "text": [
      "1794529300784\n",
      "TV ON\n"
     ]
    }
   ],
   "source": [
    "mi.on()"
   ]
  },
  {
   "cell_type": "code",
   "execution_count": 216,
   "id": "538504bc-488e-45a0-98fd-e568892bceb0",
   "metadata": {},
   "outputs": [
    {
     "name": "stdout",
     "output_type": "stream",
     "text": [
      "1794529300784\n",
      "Select or pass channel num!!\n"
     ]
    }
   ],
   "source": [
    "mi.change_channel()"
   ]
  },
  {
   "cell_type": "code",
   "execution_count": 218,
   "id": "d53635ed-29be-4434-b57f-934d68ee156d",
   "metadata": {},
   "outputs": [
    {
     "name": "stdout",
     "output_type": "stream",
     "text": [
      "1794529300784\n"
     ]
    }
   ],
   "source": [
    "print(id(mi))"
   ]
  },
  {
   "cell_type": "code",
   "execution_count": 220,
   "id": "3ff52cbb-c8ac-4c0d-a11d-c95580105fad",
   "metadata": {},
   "outputs": [],
   "source": [
    "f = Remote()"
   ]
  },
  {
   "cell_type": "code",
   "execution_count": 222,
   "id": "5e1b135d-5572-4d5e-b1f5-e7760b2a7d7c",
   "metadata": {},
   "outputs": [
    {
     "name": "stdout",
     "output_type": "stream",
     "text": [
      "1794528852352\n",
      "Select or pass channel num!!\n"
     ]
    }
   ],
   "source": [
    "f.change_channel()"
   ]
  },
  {
   "cell_type": "code",
   "execution_count": 224,
   "id": "28c52e1c-9851-4248-95b6-da2424a738c2",
   "metadata": {},
   "outputs": [
    {
     "name": "stdout",
     "output_type": "stream",
     "text": [
      "1794528852352\n"
     ]
    }
   ],
   "source": [
    "print(id(f))"
   ]
  },
  {
   "cell_type": "code",
   "execution_count": null,
   "id": "c0f4ff2f-e2e4-4302-a2eb-58e601b66b12",
   "metadata": {},
   "outputs": [],
   "source": []
  }
 ],
 "metadata": {
  "kernelspec": {
   "display_name": "Python [conda env:base] *",
   "language": "python",
   "name": "conda-base-py"
  },
  "language_info": {
   "codemirror_mode": {
    "name": "ipython",
    "version": 3
   },
   "file_extension": ".py",
   "mimetype": "text/x-python",
   "name": "python",
   "nbconvert_exporter": "python",
   "pygments_lexer": "ipython3",
   "version": "3.12.7"
  }
 },
 "nbformat": 4,
 "nbformat_minor": 5
}
