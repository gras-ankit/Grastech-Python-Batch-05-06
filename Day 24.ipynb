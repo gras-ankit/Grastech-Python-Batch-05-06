{
 "cells": [
  {
   "cell_type": "markdown",
   "id": "11c078a1-c02d-403c-9783-90d6c94aaf8e",
   "metadata": {},
   "source": [
    "# Lamda Func:- Map, Filter, Reduce"
   ]
  },
  {
   "cell_type": "code",
   "execution_count": 2,
   "id": "4d85f7c9-b18d-4d4f-ab09-cb96c67bea61",
   "metadata": {},
   "outputs": [],
   "source": [
    "# one liner func, does not want to store in a memory"
   ]
  },
  {
   "cell_type": "code",
   "execution_count": 4,
   "id": "9543aa9a-b373-4a44-9cab-884468c6f46c",
   "metadata": {},
   "outputs": [],
   "source": [
    "def add(a,b):\n",
    "    return a+b"
   ]
  },
  {
   "cell_type": "code",
   "execution_count": 6,
   "id": "66dcd4df-90da-44a5-b8f8-717ab3ce4c97",
   "metadata": {},
   "outputs": [
    {
     "data": {
      "text/plain": [
       "1919718938464"
      ]
     },
     "execution_count": 6,
     "metadata": {},
     "output_type": "execute_result"
    }
   ],
   "source": [
    "id(add)"
   ]
  },
  {
   "cell_type": "code",
   "execution_count": 16,
   "id": "d26d274f-a8f0-47fd-82c6-5dec5002260b",
   "metadata": {},
   "outputs": [],
   "source": [
    "ab = (lambda a,b: a+b)"
   ]
  },
  {
   "cell_type": "code",
   "execution_count": 20,
   "id": "1a6653e5-cd92-45bc-92e3-f8715438c4c3",
   "metadata": {},
   "outputs": [
    {
     "data": {
      "text/plain": [
       "1919718936384"
      ]
     },
     "execution_count": 20,
     "metadata": {},
     "output_type": "execute_result"
    }
   ],
   "source": [
    "id(ab)"
   ]
  },
  {
   "cell_type": "code",
   "execution_count": 22,
   "id": "71d36792-d879-4e70-94f9-6079b3c3ced2",
   "metadata": {},
   "outputs": [
    {
     "data": {
      "text/plain": [
       "11"
      ]
     },
     "execution_count": 22,
     "metadata": {},
     "output_type": "execute_result"
    }
   ],
   "source": [
    "ab(1,10)"
   ]
  },
  {
   "cell_type": "code",
   "execution_count": 26,
   "id": "67a3e588-b45d-45af-8c14-e0b9eea646de",
   "metadata": {},
   "outputs": [
    {
     "data": {
      "text/plain": [
       "30"
      ]
     },
     "execution_count": 26,
     "metadata": {},
     "output_type": "execute_result"
    }
   ],
   "source": [
    "(lambda a,b: a+b)(10,20)"
   ]
  },
  {
   "cell_type": "code",
   "execution_count": 38,
   "id": "ca14fdd8-2ffa-486e-aa8c-0919b2c5f4ca",
   "metadata": {},
   "outputs": [
    {
     "data": {
      "text/plain": [
       "51"
      ]
     },
     "execution_count": 38,
     "metadata": {},
     "output_type": "execute_result"
    }
   ],
   "source": [
    "(lambda *args: sum(args))(1,2,3,45)"
   ]
  },
  {
   "cell_type": "code",
   "execution_count": 34,
   "id": "4570d0cf-cf89-4d58-b10d-8bcb4d0e3a76",
   "metadata": {},
   "outputs": [],
   "source": [
    "# (12*2)"
   ]
  },
  {
   "cell_type": "code",
   "execution_count": 40,
   "id": "fc1aecb4-67f2-49d0-b8a8-e0545f1dd39a",
   "metadata": {},
   "outputs": [
    {
     "data": {
      "text/plain": [
       "1919718937824"
      ]
     },
     "execution_count": 40,
     "metadata": {},
     "output_type": "execute_result"
    }
   ],
   "source": [
    "id(lambda *args: sum(args))"
   ]
  },
  {
   "cell_type": "code",
   "execution_count": 42,
   "id": "be10f7aa-0d87-4ecd-b2ef-3dc154d0f618",
   "metadata": {},
   "outputs": [
    {
     "data": {
      "text/plain": [
       "1919718936384"
      ]
     },
     "execution_count": 42,
     "metadata": {},
     "output_type": "execute_result"
    }
   ],
   "source": [
    "id(ab)"
   ]
  },
  {
   "cell_type": "code",
   "execution_count": 44,
   "id": "c99fdfe5-d0b7-4332-844a-9088fc3c3cbe",
   "metadata": {},
   "outputs": [],
   "source": [
    "# python:- not important for DA(DS)"
   ]
  },
  {
   "cell_type": "code",
   "execution_count": 46,
   "id": "82ad52b3-dfc6-489c-acb7-858ca1a55c60",
   "metadata": {},
   "outputs": [
    {
     "data": {
      "text/plain": [
       "37"
      ]
     },
     "execution_count": 46,
     "metadata": {},
     "output_type": "execute_result"
    }
   ],
   "source": [
    "(lambda *args: sum(args))(1,32,4)"
   ]
  },
  {
   "cell_type": "code",
   "execution_count": 64,
   "id": "7aaafb07-b2d0-4a21-9a8a-5ca92fe4da91",
   "metadata": {},
   "outputs": [
    {
     "name": "stdin",
     "output_type": "stream",
     "text": [
      "Enter sequence of numbers to sum:  2,34,5\n"
     ]
    },
    {
     "data": {
      "text/plain": [
       "tuple"
      ]
     },
     "execution_count": 64,
     "metadata": {},
     "output_type": "execute_result"
    }
   ],
   "source": [
    "data = eval(input('Enter sequence of numbers to sum: '))\n"
   ]
  },
  {
   "cell_type": "code",
   "execution_count": 78,
   "id": "08b5ae64-ddb9-4a2d-95fb-95fb15211233",
   "metadata": {},
   "outputs": [
    {
     "data": {
      "text/plain": [
       "41"
      ]
     },
     "execution_count": 78,
     "metadata": {},
     "output_type": "execute_result"
    }
   ],
   "source": [
    "(lambda a: sum(a))(data)"
   ]
  },
  {
   "cell_type": "code",
   "execution_count": 74,
   "id": "5bf25d97-0e29-42b5-868b-3523d159974e",
   "metadata": {},
   "outputs": [
    {
     "data": {
      "text/plain": [
       "41"
      ]
     },
     "execution_count": 74,
     "metadata": {},
     "output_type": "execute_result"
    }
   ],
   "source": [
    "sum((1,2,34,4,))"
   ]
  },
  {
   "cell_type": "code",
   "execution_count": null,
   "id": "68a64602-fdbb-42d0-a956-2c5042c7ca68",
   "metadata": {},
   "outputs": [],
   "source": [
    "(lambda a: a.upper() if isinstance(a,str) else a)([23,546])\n",
    "\n",
    "(lambda a: a.upper() if type(a) == str else a)('komal')"
   ]
  },
  {
   "cell_type": "code",
   "execution_count": 98,
   "id": "53e17484-86e3-4d01-a559-c86173140ef8",
   "metadata": {},
   "outputs": [],
   "source": [
    "# map, filter, reduce"
   ]
  },
  {
   "cell_type": "code",
   "execution_count": 100,
   "id": "3abc88bf-0912-4fc3-939f-81f82c389dda",
   "metadata": {},
   "outputs": [],
   "source": [
    "# map:- mapping"
   ]
  },
  {
   "cell_type": "code",
   "execution_count": 104,
   "id": "84f56a60-3eec-488b-88e9-6fcae305a11a",
   "metadata": {},
   "outputs": [],
   "source": [
    "data = ['ola','uber','kia','maruti']\n",
    "# ['#OLA','#UBER']"
   ]
  },
  {
   "cell_type": "code",
   "execution_count": 108,
   "id": "f36ea3b4-1419-4995-b5b9-713814c12e6f",
   "metadata": {},
   "outputs": [
    {
     "data": {
      "text/plain": [
       "['#OLA', '#UBER', '#KIA', '#MARUTI']"
      ]
     },
     "execution_count": 108,
     "metadata": {},
     "output_type": "execute_result"
    }
   ],
   "source": [
    "(lambda a: ['#'+i.upper() for i in a])(data)"
   ]
  },
  {
   "cell_type": "code",
   "execution_count": 110,
   "id": "fd6d0681-2371-46b1-9c37-c7cb840716b8",
   "metadata": {},
   "outputs": [],
   "source": [
    "def make_upper(d):\n",
    "    empty = []\n",
    "    for i in d:\n",
    "        empty.append('#'+i.upper())\n",
    "    return empty"
   ]
  },
  {
   "cell_type": "code",
   "execution_count": 112,
   "id": "40272d75-2832-4f6a-91d5-72c4de55488e",
   "metadata": {},
   "outputs": [
    {
     "data": {
      "text/plain": [
       "['#OLA', '#UBER', '#KIA', '#MARUTI']"
      ]
     },
     "execution_count": 112,
     "metadata": {},
     "output_type": "execute_result"
    }
   ],
   "source": [
    "make_upper(data)"
   ]
  },
  {
   "cell_type": "code",
   "execution_count": 130,
   "id": "99d52bfb-180f-4a32-b5fe-b8ff544761ce",
   "metadata": {},
   "outputs": [],
   "source": [
    "f = (lambda word: '#'+word.upper())"
   ]
  },
  {
   "cell_type": "code",
   "execution_count": 128,
   "id": "97adc6a6-ae7e-4320-bc89-413bba80527c",
   "metadata": {},
   "outputs": [
    {
     "data": {
      "text/plain": [
       "['ola', 'uber', 'kia', 'maruti']"
      ]
     },
     "execution_count": 128,
     "metadata": {},
     "output_type": "execute_result"
    }
   ],
   "source": [
    "data"
   ]
  },
  {
   "cell_type": "code",
   "execution_count": 134,
   "id": "ce3b2e0d-0af8-463a-ac84-520f29626b2a",
   "metadata": {},
   "outputs": [
    {
     "data": {
      "text/plain": [
       "['#OLA', '#UBER', '#KIA', '#MARUTI']"
      ]
     },
     "execution_count": 134,
     "metadata": {},
     "output_type": "execute_result"
    }
   ],
   "source": [
    "list(map(f,data))"
   ]
  },
  {
   "cell_type": "code",
   "execution_count": 144,
   "id": "128645cf-63a7-4d8f-b9e4-1b43779af7ae",
   "metadata": {
    "scrolled": true
   },
   "outputs": [
    {
     "data": {
      "text/plain": [
       "['#OLA', '#UBER', '#KIA', '#MARUTI']"
      ]
     },
     "execution_count": 144,
     "metadata": {},
     "output_type": "execute_result"
    }
   ],
   "source": [
    "list(map(lambda word: '#'+word.upper(),data))"
   ]
  },
  {
   "cell_type": "code",
   "execution_count": 148,
   "id": "3e969e8e-18a8-4985-a78f-3c30342ecd35",
   "metadata": {},
   "outputs": [],
   "source": [
    "def make_upper(d):\n",
    "    return '@'+d.upper()"
   ]
  },
  {
   "cell_type": "code",
   "execution_count": 150,
   "id": "a615f36f-8ab6-42b0-b65d-4b40fff4a028",
   "metadata": {},
   "outputs": [
    {
     "data": {
      "text/plain": [
       "['@OLA', '@UBER', '@KIA', '@MARUTI']"
      ]
     },
     "execution_count": 150,
     "metadata": {},
     "output_type": "execute_result"
    }
   ],
   "source": [
    "list(map(make_upper,data))"
   ]
  },
  {
   "cell_type": "code",
   "execution_count": null,
   "id": "a74e2ad9-b58a-49bf-9f18-07dc6b4e3613",
   "metadata": {},
   "outputs": [],
   "source": [
    "(lambda a: ['#'+i.upper() for i in a])(data)\n",
    "list(map(lambda word: '#'+word.upper(),data))"
   ]
  },
  {
   "cell_type": "code",
   "execution_count": 158,
   "id": "4c1f19c7-a793-45c2-8145-9340af4df66a",
   "metadata": {},
   "outputs": [],
   "source": [
    "# "
   ]
  },
  {
   "cell_type": "code",
   "execution_count": null,
   "id": "8aadec78-9a2b-480b-a3ec-f04f137ab985",
   "metadata": {},
   "outputs": [],
   "source": []
  }
 ],
 "metadata": {
  "kernelspec": {
   "display_name": "Python [conda env:base] *",
   "language": "python",
   "name": "conda-base-py"
  },
  "language_info": {
   "codemirror_mode": {
    "name": "ipython",
    "version": 3
   },
   "file_extension": ".py",
   "mimetype": "text/x-python",
   "name": "python",
   "nbconvert_exporter": "python",
   "pygments_lexer": "ipython3",
   "version": "3.12.7"
  }
 },
 "nbformat": 4,
 "nbformat_minor": 5
}
