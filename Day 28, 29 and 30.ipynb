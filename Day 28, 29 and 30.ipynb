{
 "cells": [
  {
   "cell_type": "markdown",
   "id": "697bb741-a146-4eaa-bdcc-2e864d9b5bca",
   "metadata": {},
   "source": [
    "# File Handling"
   ]
  },
  {
   "cell_type": "markdown",
   "id": "6f83f8c2-facd-4c81-90ff-d3dba82a7dca",
   "metadata": {},
   "source": [
    "# Textual File\n",
    "    - Notepad, .html, .txt, .java, .py, .csv, .tsv, .json, .xml\n",
    "# Binary File:\n",
    "    - Software: .exe, .xlsx, .mp3, .mp4, .jpeg, .png"
   ]
  },
  {
   "cell_type": "code",
   "execution_count": 4,
   "id": "c8f54bf7-1d21-4072-a94c-6c4aa69c2520",
   "metadata": {},
   "outputs": [],
   "source": [
    "# manage: open, close, copy, read, write, data add"
   ]
  },
  {
   "cell_type": "code",
   "execution_count": null,
   "id": "5500ebfe-797f-473d-ae18-96654cbf9862",
   "metadata": {},
   "outputs": [],
   "source": []
  },
  {
   "cell_type": "code",
   "execution_count": 7,
   "id": "3d107711-674b-4963-9500-beaa523f59dd",
   "metadata": {},
   "outputs": [],
   "source": [
    "# open, close, read"
   ]
  },
  {
   "cell_type": "code",
   "execution_count": 21,
   "id": "77d0f82e-6d61-4ff0-91be-15951ac0b8dd",
   "metadata": {},
   "outputs": [
    {
     "name": "stdout",
     "output_type": "stream",
     "text": [
      "Done\n"
     ]
    }
   ],
   "source": [
    "file = open(r\"C:\\Users\\salma\\OneDrive\\Desktop\\nse_data.json\")\n",
    "data = file.read(100)\n",
    "file.close()\n",
    "print('Done')"
   ]
  },
  {
   "cell_type": "code",
   "execution_count": 35,
   "id": "c4cb057f-51e5-488f-bc90-cc66f800a91f",
   "metadata": {},
   "outputs": [
    {
     "data": {
      "text/plain": [
       "'{\"data\":[{\"name\":\"Footer\",\"term_id\":\"250\",\"url\":\"\",\"key\":\"footer\",\"type\":\"\",\"banner\":\"\",\"items\":[{\"n'"
      ]
     },
     "execution_count": 35,
     "metadata": {},
     "output_type": "execute_result"
    }
   ],
   "source": [
    "data"
   ]
  },
  {
   "cell_type": "code",
   "execution_count": 25,
   "id": "26117846-2dc4-4dc4-a7c5-8134f925be61",
   "metadata": {},
   "outputs": [
    {
     "name": "stdout",
     "output_type": "stream",
     "text": [
      "Done\n"
     ]
    }
   ],
   "source": [
    "f = open(r\"C:\\Users\\salma\\OneDrive\\Desktop\\EMP_DETAILS_GRASTECH.csv\")\n",
    "all_data = f.read()\n",
    "f.close()\n",
    "print('Done')"
   ]
  },
  {
   "cell_type": "code",
   "execution_count": 31,
   "id": "c519b4fa-ef5d-44bb-a3da-baaeed013494",
   "metadata": {},
   "outputs": [
    {
     "name": "stdout",
     "output_type": "stream",
     "text": [
      "EID,NAME,DEPT,SID,PID\n",
      "1,JATIN,IT,S101,P111\n",
      "2,HARRY,HR,S105,P112\n",
      "3,GAURAV,SALES,S109,P101\n",
      "4,MADAN,IT,S102,P118\n",
      "5,AKSHAY,ADMIN,S104,P120\n",
      "\n"
     ]
    }
   ],
   "source": [
    "print(all_data)"
   ]
  },
  {
   "cell_type": "code",
   "execution_count": 39,
   "id": "6675844a-5f26-42b7-9f79-559ffa3aa8b7",
   "metadata": {},
   "outputs": [],
   "source": [
    "d = '{data:[1,2,3]}'"
   ]
  },
  {
   "cell_type": "code",
   "execution_count": 41,
   "id": "2d07e156-3bb7-4489-8fa5-60113618d878",
   "metadata": {},
   "outputs": [
    {
     "data": {
      "text/plain": [
       "'{data:[1,2,3]}'"
      ]
     },
     "execution_count": 41,
     "metadata": {},
     "output_type": "execute_result"
    }
   ],
   "source": [
    "d"
   ]
  },
  {
   "cell_type": "code",
   "execution_count": 45,
   "id": "a820dd16-35d0-47ef-af25-f8a2724a6602",
   "metadata": {},
   "outputs": [
    {
     "ename": "UnicodeDecodeError",
     "evalue": "'charmap' codec can't decode byte 0x90 in position 10: character maps to <undefined>",
     "output_type": "error",
     "traceback": [
      "\u001b[1;31m---------------------------------------------------------------------------\u001b[0m",
      "\u001b[1;31mUnicodeDecodeError\u001b[0m                        Traceback (most recent call last)",
      "Cell \u001b[1;32mIn[45], line 2\u001b[0m\n\u001b[0;32m      1\u001b[0m fi \u001b[38;5;241m=\u001b[39m \u001b[38;5;28mopen\u001b[39m(\u001b[38;5;124mr\u001b[39m\u001b[38;5;124m\"\u001b[39m\u001b[38;5;124mC:\u001b[39m\u001b[38;5;124m\\\u001b[39m\u001b[38;5;124mUsers\u001b[39m\u001b[38;5;124m\\\u001b[39m\u001b[38;5;124msalma\u001b[39m\u001b[38;5;124m\\\u001b[39m\u001b[38;5;124mDownloads\u001b[39m\u001b[38;5;124m\\\u001b[39m\u001b[38;5;124mchime-alert-demo-309545.mp3\u001b[39m\u001b[38;5;124m\"\u001b[39m)\n\u001b[1;32m----> 2\u001b[0m fi\u001b[38;5;241m.\u001b[39mread()\n",
      "File \u001b[1;32m~\\anaconda3\\Lib\\encodings\\cp1252.py:23\u001b[0m, in \u001b[0;36mIncrementalDecoder.decode\u001b[1;34m(self, input, final)\u001b[0m\n\u001b[0;32m     22\u001b[0m \u001b[38;5;28;01mdef\u001b[39;00m \u001b[38;5;21mdecode\u001b[39m(\u001b[38;5;28mself\u001b[39m, \u001b[38;5;28minput\u001b[39m, final\u001b[38;5;241m=\u001b[39m\u001b[38;5;28;01mFalse\u001b[39;00m):\n\u001b[1;32m---> 23\u001b[0m     \u001b[38;5;28;01mreturn\u001b[39;00m codecs\u001b[38;5;241m.\u001b[39mcharmap_decode(\u001b[38;5;28minput\u001b[39m,\u001b[38;5;28mself\u001b[39m\u001b[38;5;241m.\u001b[39merrors,decoding_table)[\u001b[38;5;241m0\u001b[39m]\n",
      "\u001b[1;31mUnicodeDecodeError\u001b[0m: 'charmap' codec can't decode byte 0x90 in position 10: character maps to <undefined>"
     ]
    }
   ],
   "source": [
    "fi = open(r\"C:\\Users\\salma\\Downloads\\chime-alert-demo-309545.mp3\")\n",
    "fi.read()"
   ]
  },
  {
   "cell_type": "code",
   "execution_count": 51,
   "id": "8e58b90e-1b27-47eb-bc6b-046e4daa48e5",
   "metadata": {},
   "outputs": [
    {
     "name": "stdout",
     "output_type": "stream",
     "text": [
      "['EID,NAME,DEPT,SID,PID', '1,JATIN,IT,S101,P111', '2,HARRY,HR,S105,P112', '3,GAURAV,SALES,S109,P101', '4,MADAN,IT,S102,P118', '5,AKSHAY,ADMIN,S104,P120']\n"
     ]
    }
   ],
   "source": [
    "print(all_data.splitlines())"
   ]
  },
  {
   "cell_type": "code",
   "execution_count": 55,
   "id": "f16c51b7-fe92-442d-81cd-e143465ab2cd",
   "metadata": {},
   "outputs": [
    {
     "data": {
      "text/plain": [
       "['EID', 'NAME', 'DEPT', 'SID', 'PID']"
      ]
     },
     "execution_count": 55,
     "metadata": {},
     "output_type": "execute_result"
    }
   ],
   "source": [
    "all_data.splitlines()[0].split(',')"
   ]
  },
  {
   "cell_type": "code",
   "execution_count": 57,
   "id": "3fc77cfa-2347-41ea-a0bc-879a9f28ea35",
   "metadata": {},
   "outputs": [
    {
     "data": {
      "text/plain": [
       "['1', 'JATIN', 'IT', 'S101', 'P111']"
      ]
     },
     "execution_count": 57,
     "metadata": {},
     "output_type": "execute_result"
    }
   ],
   "source": [
    "all_data.splitlines()[1].split(',')"
   ]
  },
  {
   "cell_type": "code",
   "execution_count": 63,
   "id": "51a9c55a-ebb7-4921-bb30-1f5f47fc7fb9",
   "metadata": {},
   "outputs": [
    {
     "data": {
      "text/plain": [
       "'EID,NAME,DEPT,SID,PID\\n'"
      ]
     },
     "execution_count": 63,
     "metadata": {},
     "output_type": "execute_result"
    }
   ],
   "source": [
    "f = open(r\"C:\\Users\\salma\\OneDrive\\Desktop\\EMP_DETAILS_GRASTECH.csv\")\n",
    "f.readline()"
   ]
  },
  {
   "cell_type": "code",
   "execution_count": 75,
   "id": "54d6e832-60f2-4460-9fa5-3ad52b81b73f",
   "metadata": {},
   "outputs": [
    {
     "data": {
      "text/plain": [
       "''"
      ]
     },
     "execution_count": 75,
     "metadata": {},
     "output_type": "execute_result"
    }
   ],
   "source": [
    "f.readline()"
   ]
  },
  {
   "cell_type": "code",
   "execution_count": 83,
   "id": "6aaf5c36-2c62-42f0-af39-85881c224e6e",
   "metadata": {},
   "outputs": [
    {
     "name": "stdout",
     "output_type": "stream",
     "text": [
      "EID,NAME,DEPT,SID,PID\n",
      "1,JATIN,IT,S101,P111\n",
      "2,HARRY,HR,S105,P112\n",
      "3,GAURAV,SALES,S109,P101\n"
     ]
    }
   ],
   "source": [
    "f = open(r\"C:\\Users\\salma\\OneDrive\\Desktop\\EMP_DETAILS_GRASTECH.csv\")\n",
    "\n",
    "for i in range(4):\n",
    "    print(f.readline(),end = '')\n",
    "f.close()"
   ]
  },
  {
   "cell_type": "code",
   "execution_count": 89,
   "id": "3b79b354-b5c7-4a49-9561-d176139899d5",
   "metadata": {},
   "outputs": [
    {
     "name": "stdout",
     "output_type": "stream",
     "text": [
      "EID,NAME,DEPT,SID,PID\n",
      "1,JATIN,IT,S101,P111\n",
      "2,HARRY,HR,S105,P112\n",
      "3,GAURAV,SALES,S109,P101\n",
      "4,MADAN,IT,S102,P118\n",
      "5,AKSHAY,ADMIN,S104,P120\n"
     ]
    }
   ],
   "source": [
    "f = open(r\"C:\\Users\\salma\\OneDrive\\Desktop\\EMP_DETAILS_GRASTECH.csv\")\n",
    "\n",
    "for i in f.readlines():\n",
    "    print(i,end = '')"
   ]
  },
  {
   "cell_type": "code",
   "execution_count": 93,
   "id": "c45acbb4-5f79-4eb9-a323-efb7df540c1c",
   "metadata": {},
   "outputs": [],
   "source": [
    "f = open(r\"C:\\Users\\salma\\OneDrive\\Desktop\\EMP_DETAILS_GRASTECH.csv\")\n",
    "all_data = f.readlines()\n",
    "f.close()"
   ]
  },
  {
   "cell_type": "code",
   "execution_count": 95,
   "id": "7821e8f0-0036-4372-a1d1-c6250870c5ae",
   "metadata": {},
   "outputs": [
    {
     "data": {
      "text/plain": [
       "'3,GAURAV,SALES,S109,P101\\n'"
      ]
     },
     "execution_count": 95,
     "metadata": {},
     "output_type": "execute_result"
    }
   ],
   "source": [
    "all_data[3]"
   ]
  },
  {
   "cell_type": "code",
   "execution_count": 97,
   "id": "a6e0fe12-4e7d-4687-bbd0-bb4272cf126a",
   "metadata": {},
   "outputs": [],
   "source": [
    "# File write"
   ]
  },
  {
   "cell_type": "code",
   "execution_count": 103,
   "id": "9d062142-1713-48c5-90ec-0bf4fb4fca25",
   "metadata": {},
   "outputs": [
    {
     "name": "stdout",
     "output_type": "stream",
     "text": [
      "Done\n"
     ]
    }
   ],
   "source": [
    "import time\n",
    "file = open('asus.txt',mode = 'w')\n",
    "file.write(f'This is Python Class. File created at: {time.asctime()}')\n",
    "file.close()\n",
    "print('Done')"
   ]
  },
  {
   "cell_type": "markdown",
   "id": "fd3f91c0-0d24-479f-87f1-70e792a17d6a",
   "metadata": {},
   "source": [
    "# day 29"
   ]
  },
  {
   "cell_type": "code",
   "execution_count": 4,
   "id": "73c9db68-334e-4b4c-b849-cb6a036caee9",
   "metadata": {},
   "outputs": [
    {
     "name": "stdout",
     "output_type": "stream",
     "text": [
      "Done\n"
     ]
    }
   ],
   "source": [
    "f = open(r\"C:\\Users\\salma\\OneDrive\\Desktop\\dummy\\ankit.txt\",mode = 'w')\n",
    "f.write('This is Line number one\\n')\n",
    "f.write('This is Line number two\\n')\n",
    "f.write('This is Line number three\\n')\n",
    "f.close()\n",
    "print('Done')"
   ]
  },
  {
   "cell_type": "code",
   "execution_count": 6,
   "id": "43585432-7126-4525-b704-193517f5e5b6",
   "metadata": {},
   "outputs": [
    {
     "name": "stdout",
     "output_type": "stream",
     "text": [
      "Done\n"
     ]
    }
   ],
   "source": [
    "f = open(r\"C:\\Users\\salma\\OneDrive\\Desktop\\dummy\\ankit.txt\",mode = 'w')\n",
    "f.write('Hello World\\n')\n",
    "f.close()\n",
    "print('Done')"
   ]
  },
  {
   "cell_type": "code",
   "execution_count": 8,
   "id": "bb39b396-4020-497e-a48a-e82b6e090f90",
   "metadata": {},
   "outputs": [
    {
     "name": "stdout",
     "output_type": "stream",
     "text": [
      "Done\n"
     ]
    }
   ],
   "source": [
    "f1 = open('isha.py',mode = 'r')\n",
    "f2 = open(r\"C:\\Users\\salma\\OneDrive\\Desktop\\dummy\\ankit.py\",mode = 'w')\n",
    "f2.write(f1.read())\n",
    "f1.close()\n",
    "f2.close()\n",
    "print('Done')"
   ]
  },
  {
   "cell_type": "code",
   "execution_count": 10,
   "id": "7c791420-cbb1-4321-bd01-90a12b464107",
   "metadata": {},
   "outputs": [],
   "source": []
  },
  {
   "cell_type": "code",
   "execution_count": 22,
   "id": "75b6c49c-82a2-433a-8887-a80217ab2a12",
   "metadata": {},
   "outputs": [
    {
     "name": "stdout",
     "output_type": "stream",
     "text": [
      "Done\n"
     ]
    }
   ],
   "source": [
    "import time\n",
    "import os\n",
    "path1 = r\"C:\\Users\\salma\\OneDrive\\Desktop\\dummy\"\n",
    "path2 = r\"C:\\Users\\salma\\OneDrive\\Desktop\\Dummy_copy\"\n",
    "\n",
    "for i in os.listdir(path1):\n",
    "    read_path = path1 + '\\\\' +i\n",
    "    write_path = path2 + '\\\\' + 'copy_of_' + i\n",
    "\n",
    "    f1 = open(read_path,mode ='r')\n",
    "    f2 = open(write_path, mode = 'w')\n",
    "    f2.write(f1.read())\n",
    "    f1.close()\n",
    "    f2.close()\n",
    "    \n",
    "    time.sleep(1)\n",
    "    \n",
    "print('Done')\n",
    "    "
   ]
  },
  {
   "cell_type": "code",
   "execution_count": 24,
   "id": "5076315c-04d9-47ac-b948-d407b24908b2",
   "metadata": {},
   "outputs": [
    {
     "data": {
      "text/plain": [
       "'C:\\\\Users\\\\salma\\\\OneDrive\\\\Desktop\\\\Dummy_copy'"
      ]
     },
     "execution_count": 24,
     "metadata": {},
     "output_type": "execute_result"
    }
   ],
   "source": [
    "path2"
   ]
  },
  {
   "cell_type": "code",
   "execution_count": 32,
   "id": "323026a9-e01d-43f6-b7de-e9b9051cb929",
   "metadata": {},
   "outputs": [
    {
     "name": "stdout",
     "output_type": "stream",
     "text": [
      "Done\n"
     ]
    }
   ],
   "source": [
    "for file in os.listdir(path2):\n",
    "    file_path = path2+'\\\\' + file\n",
    "    if 'copy_of_mat.py' != file:\n",
    "        os.remove(file_path)\n",
    "print('Done')"
   ]
  },
  {
   "cell_type": "code",
   "execution_count": null,
   "id": "67348f10-2650-4c25-8383-9bf1b92d7a99",
   "metadata": {},
   "outputs": [],
   "source": [
    "for file in os.listdir(path2):\n",
    "    file_path = path2+'\\\\' + file\n",
    "    if 'mat' in file:\n",
    "        os.remove(file_path)\n",
    "print('Done')"
   ]
  },
  {
   "cell_type": "code",
   "execution_count": 42,
   "id": "e61c2199-fa8b-42df-9966-17abcc566e4f",
   "metadata": {},
   "outputs": [
    {
     "data": {
      "text/plain": [
       "'C:\\\\Users\\\\salma\\\\OneDrive\\\\Desktop\\\\dummy\\\\tutorial.txt'"
      ]
     },
     "execution_count": 42,
     "metadata": {},
     "output_type": "execute_result"
    }
   ],
   "source": [
    "# \"C:\\Users\\salma\\OneDrive\\Desktop\\dummy\\ankit.py\"\n",
    "path1 + '\\\\' + i"
   ]
  },
  {
   "cell_type": "code",
   "execution_count": 40,
   "id": "70c31515-565a-4d3a-8ac4-853c96ca8a6a",
   "metadata": {},
   "outputs": [
    {
     "data": {
      "text/plain": [
       "['ankit.py', 'ankit.txt', 'mat.py', 'tutorial.txt']"
      ]
     },
     "execution_count": 40,
     "metadata": {},
     "output_type": "execute_result"
    }
   ],
   "source": [
    "os.listdir(path1)"
   ]
  },
  {
   "cell_type": "code",
   "execution_count": 46,
   "id": "46316ac4-af50-4fc8-9708-dad9baf3dd5e",
   "metadata": {},
   "outputs": [],
   "source": [
    "# pip install Spire.Doc"
   ]
  },
  {
   "cell_type": "code",
   "execution_count": 50,
   "id": "b7d83f3f-c08c-423c-959c-721486bb36f9",
   "metadata": {},
   "outputs": [
    {
     "name": "stdout",
     "output_type": "stream",
     "text": [
      "Done\n"
     ]
    }
   ],
   "source": [
    "from spire.doc import *\n",
    "\n",
    "# Open the text file\n",
    "f = open('isha.py')\n",
    "f1 = open('isha.txt','w')\n",
    "f1.write(f.read())\n",
    "f1.close()\n",
    "f.close()\n",
    "\n",
    "doc = Document(\"isha.txt\")\n",
    "\n",
    "# Save the content to a .docx or .doc file\n",
    "doc.SaveToFile(path2+'\\\\'+'isha.docx', FileFormat.Docx2019)\n",
    "# doc.SaveToFile(\"TextFileToWord.doc\", FileFormat.Doc)\n",
    "doc.Close()\n",
    "print('Done')"
   ]
  },
  {
   "cell_type": "code",
   "execution_count": 54,
   "id": "de1c7068-2770-4324-9ec3-25002f8f8446",
   "metadata": {},
   "outputs": [],
   "source": [
    "# os.open(path2+'\\\\'+'isha.docx','print')"
   ]
  },
  {
   "cell_type": "code",
   "execution_count": 66,
   "id": "4eedf2f3-5cb1-4205-a618-4cbc23c87bf9",
   "metadata": {},
   "outputs": [],
   "source": [
    "# n=5\n",
    "# for i in range (n):\n",
    "#     for j in range(i):\n",
    "#         print(\" \"*(n-i)+chr(64+i),end=\" \")\n",
    "#     print()\n",
    "# # for i in range(n,0,-1):\n",
    "# #     for j in range(i):\n",
    "# #         print(\" \"*(n-i)+chr(64+i),end=\" \")\n",
    "# #     print()"
   ]
  },
  {
   "cell_type": "code",
   "execution_count": null,
   "id": "1ed9fd16-a339-4ede-9b40-aed70abb67a5",
   "metadata": {},
   "outputs": [],
   "source": []
  },
  {
   "cell_type": "markdown",
   "id": "31f857f6-7e70-4277-a41c-bd5597e6c543",
   "metadata": {},
   "source": [
    "# Day 30"
   ]
  },
  {
   "cell_type": "markdown",
   "id": "9faf6e81-516c-4933-bf0c-841f3ce72369",
   "metadata": {},
   "source": [
    "# Binary File Handling"
   ]
  },
  {
   "cell_type": "code",
   "execution_count": 4,
   "id": "b5a49471-a603-4d90-9e99-3e0f85d2c2f6",
   "metadata": {},
   "outputs": [],
   "source": [
    "# context manager"
   ]
  },
  {
   "cell_type": "code",
   "execution_count": 8,
   "id": "cc012816-d2d3-4be5-b4ee-410802222cf9",
   "metadata": {},
   "outputs": [
    {
     "name": "stdout",
     "output_type": "stream",
     "text": [
      "done\n"
     ]
    }
   ],
   "source": [
    "with open(r\"C:\\Users\\salma\\OneDrive\\Desktop\\amitabh.jpg\",mode = 'rb') as harry:\n",
    "    data = harry.read()\n",
    "print('done')"
   ]
  },
  {
   "cell_type": "code",
   "execution_count": 12,
   "id": "2787c9d6-a3b9-4522-bad7-7cf8e2e95713",
   "metadata": {},
   "outputs": [
    {
     "data": {
      "text/plain": [
       "bytes"
      ]
     },
     "execution_count": 12,
     "metadata": {},
     "output_type": "execute_result"
    }
   ],
   "source": [
    "type(data)"
   ]
  },
  {
   "cell_type": "code",
   "execution_count": null,
   "id": "cd7b8ce9-31cc-4bec-8db9-a4af995faa51",
   "metadata": {},
   "outputs": [],
   "source": []
  },
  {
   "cell_type": "code",
   "execution_count": 17,
   "id": "fb236601-c309-4296-a856-209c909045dc",
   "metadata": {},
   "outputs": [
    {
     "name": "stdout",
     "output_type": "stream",
     "text": [
      "Done\n"
     ]
    }
   ],
   "source": [
    "with open(r\"C:\\Users\\salma\\OneDrive\\Desktop\\Dummy_copy\\bachchan_sir.jpg\",mode = 'wb') as f:\n",
    "    f.write(data)\n",
    "print('Done')"
   ]
  },
  {
   "cell_type": "code",
   "execution_count": 23,
   "id": "8f9828e1-6ab8-48ea-9a01-77cd605d67b3",
   "metadata": {},
   "outputs": [],
   "source": [
    "url = 'https://upload.wikimedia.org/wikipedia/en/thumb/b/bd/Doraemon_character.png/250px-Doraemon_character.png'\n",
    "import requests as r\n",
    "\n",
    "doraemon_data = r.get(url).content"
   ]
  },
  {
   "cell_type": "code",
   "execution_count": 29,
   "id": "819ec5f3-89ab-4814-b8aa-66207e3afc64",
   "metadata": {},
   "outputs": [
    {
     "name": "stdout",
     "output_type": "stream",
     "text": [
      "Done\n"
     ]
    }
   ],
   "source": [
    "with open(r\"C:\\Users\\salma\\OneDrive\\Desktop\\Dummy_copy\\doraemon.png\",mode = 'wb') as f:\n",
    "    f.write(doraemon_data)\n",
    "print('Done')"
   ]
  },
  {
   "cell_type": "code",
   "execution_count": 35,
   "id": "a50a9d7b-6a21-4693-ac7f-a76789ce3b37",
   "metadata": {},
   "outputs": [
    {
     "name": "stdout",
     "output_type": "stream",
     "text": [
      "Done\n",
      "Done\n",
      "Done\n",
      "Done\n",
      "Done\n",
      "Done\n",
      "Done\n",
      "Done\n",
      "Done\n",
      "Done\n"
     ]
    }
   ],
   "source": [
    "folder_path = r'C:\\Users\\salma\\OneDrive\\Desktop\\Dummy_copy'\n",
    "\n",
    "import requests as r\n",
    "\n",
    "for i in range(10):\n",
    "    url = 'https://picsum.photos/1980/1080'\n",
    "    img_data = r.get(url).content\n",
    "    \n",
    "    final_path = folder_path + '\\\\' + f'image_{i}.jpg'\n",
    "    \n",
    "    with open(final_path,mode = 'wb') as f:\n",
    "        f.write(img_data)\n",
    "        print('Done')"
   ]
  },
  {
   "cell_type": "code",
   "execution_count": null,
   "id": "12859d4b-68d7-476b-9f81-879449924aff",
   "metadata": {},
   "outputs": [],
   "source": []
  },
  {
   "cell_type": "code",
   "execution_count": 40,
   "id": "eb373937-3b56-4920-a1b3-f9a4e3a252f5",
   "metadata": {},
   "outputs": [],
   "source": [
    "# mode\n",
    "\n",
    "# r,w\n",
    "# rb, wb"
   ]
  },
  {
   "cell_type": "code",
   "execution_count": 42,
   "id": "0c3d1a48-fea3-4d10-8fe6-c29b846d084e",
   "metadata": {},
   "outputs": [],
   "source": [
    "# a\n",
    "# x\n",
    "# r+\n",
    "# w+\n",
    "# a+\n",
    "# x+\n",
    "# rb+\n",
    "# wb+\n",
    "# ab+\n",
    "# xb+\n",
    "# t\n"
   ]
  },
  {
   "cell_type": "code",
   "execution_count": 44,
   "id": "7bfc0da8-7423-4c3c-b99c-dd005d3b5434",
   "metadata": {},
   "outputs": [],
   "source": [
    "import time\n",
    "with open('asus.txt','a') as f:\n",
    "    f.write(f'\\nThis is a new line, {time.asctime()}....')"
   ]
  },
  {
   "cell_type": "code",
   "execution_count": 50,
   "id": "90a85fb3-e808-4641-b109-fc76d6aa4eba",
   "metadata": {},
   "outputs": [
    {
     "name": "stdout",
     "output_type": "stream",
     "text": [
      "File Created!!\n"
     ]
    }
   ],
   "source": [
    "try:\n",
    "    with open('asus_new.txt','x') as f:\n",
    "        f.write('This is a new file!!')\n",
    "except Exception as e:\n",
    "    print('Something went wrong\\nFile not created successfully!!')\n",
    "    print(f'Reason: >> {e}')\n",
    "else:\n",
    "    print('File Created!!')"
   ]
  },
  {
   "cell_type": "code",
   "execution_count": 52,
   "id": "7dd901ea-6763-4f12-a56e-d1c65286f596",
   "metadata": {},
   "outputs": [],
   "source": [
    "import time\n",
    "with open('asus.txt','a+') as f:\n",
    "    f.write(f'\\nThis is again a new line, {time.asctime()}....')\n",
    "    f.seek(0)\n",
    "    data = f.read()"
   ]
  },
  {
   "cell_type": "code",
   "execution_count": 54,
   "id": "3b2b7461-3348-433c-bd05-cf6b714af80f",
   "metadata": {},
   "outputs": [
    {
     "name": "stdout",
     "output_type": "stream",
     "text": [
      "This is Python Class. File created at: Tue Jun  3 17:51:50 2025\n",
      "This is a new line, Thu Jun  5 17:53:02 2025....\n",
      "This is again a new line, Thu Jun  5 17:59:51 2025....\n"
     ]
    }
   ],
   "source": [
    "print(data)"
   ]
  },
  {
   "cell_type": "code",
   "execution_count": null,
   "id": "0db7272f-80f4-4530-a19d-8614dfb13ccf",
   "metadata": {},
   "outputs": [],
   "source": []
  }
 ],
 "metadata": {
  "kernelspec": {
   "display_name": "Python [conda env:base] *",
   "language": "python",
   "name": "conda-base-py"
  },
  "language_info": {
   "codemirror_mode": {
    "name": "ipython",
    "version": 3
   },
   "file_extension": ".py",
   "mimetype": "text/x-python",
   "name": "python",
   "nbconvert_exporter": "python",
   "pygments_lexer": "ipython3",
   "version": "3.12.7"
  }
 },
 "nbformat": 4,
 "nbformat_minor": 5
}
