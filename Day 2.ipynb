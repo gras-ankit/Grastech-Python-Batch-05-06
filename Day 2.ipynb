{
 "cells": [
  {
   "cell_type": "markdown",
   "id": "8e4fa04a-f019-4e4c-9719-7deb6b2f4299",
   "metadata": {},
   "source": [
    "# Python Syntax"
   ]
  },
  {
   "cell_type": "code",
   "execution_count": 2,
   "id": "3dc7b494-10f3-4a93-bfe6-3d338dc6ffdf",
   "metadata": {},
   "outputs": [
    {
     "name": "stdout",
     "output_type": "stream",
     "text": [
      "\n",
      "Here is a list of the Python keywords.  Enter any keyword to get more help.\n",
      "\n",
      "False               class               from                or\n",
      "None                continue            global              pass\n",
      "True                def                 if                  raise\n",
      "and                 del                 import              return\n",
      "as                  elif                in                  try\n",
      "assert              else                is                  while\n",
      "async               except              lambda              with\n",
      "await               finally             nonlocal            yield\n",
      "break               for                 not                 \n",
      "\n"
     ]
    }
   ],
   "source": [
    "help('keywords')"
   ]
  },
  {
   "cell_type": "code",
   "execution_count": 4,
   "id": "e5ab6493-d0f2-42d4-beca-ea691864aaba",
   "metadata": {},
   "outputs": [],
   "source": [
    "# Road Map\n",
    "# Basic Python\n",
    "# Intermediate Python\n",
    "# Advance Python\n",
    "# 25 hrs\n",
    "# Data Analysis Modules\n",
    "# Numpy\n",
    "# Pandas\n",
    "# Matplotlib\n",
    "# Seaborn\n",
    "# Plotly: Adv\n",
    "# Software Developer:-, Web developer, :- Python"
   ]
  },
  {
   "cell_type": "markdown",
   "id": "588391b1-4647-4557-a3da-c2f06e98855c",
   "metadata": {},
   "source": [
    "# # Basic Python"
   ]
  },
  {
   "cell_type": "code",
   "execution_count": 7,
   "id": "6b90b4fb-0578-40fa-bb72-4abfd2e5e144",
   "metadata": {},
   "outputs": [],
   "source": [
    "# how to write code\n",
    "# syntax\n",
    "# Rules\n",
    "# data Types"
   ]
  },
  {
   "cell_type": "code",
   "execution_count": 9,
   "id": "01c99026-1798-4fae-8ec4-79f8b4791f95",
   "metadata": {},
   "outputs": [
    {
     "name": "stdout",
     "output_type": "stream",
     "text": [
      "68\n"
     ]
    }
   ],
   "source": [
    "x = 23\n",
    "y = 45\n",
    "\n",
    "z = x + y\n",
    "\n",
    "print(z)"
   ]
  },
  {
   "cell_type": "code",
   "execution_count": 11,
   "id": "538fee1e-3594-45e6-9d37-d674c9f898e0",
   "metadata": {},
   "outputs": [],
   "source": [
    "# x:- variable:- identifier \n",
    "# 23:- value/Literals"
   ]
  },
  {
   "cell_type": "code",
   "execution_count": 13,
   "id": "f832c4d3-b631-460f-be20-407290073ce9",
   "metadata": {},
   "outputs": [],
   "source": [
    "# values:- Literals"
   ]
  },
  {
   "cell_type": "markdown",
   "id": "c6e6b73d-9448-4b67-8967-77a06d254611",
   "metadata": {},
   "source": [
    "# Data Types"
   ]
  },
  {
   "cell_type": "markdown",
   "id": "aeac30fd-bac0-4aa6-a80c-3bc0d0123241",
   "metadata": {},
   "source": [
    "#### Numerical Data Types\n",
    "- Integer :- No floating ya decimal values, Exact value\n",
    "- Float(Decimal)\n",
    "- Complex:- real +- img"
   ]
  },
  {
   "cell_type": "code",
   "execution_count": 22,
   "id": "ae543d7e-d576-4af4-8aa0-75f3cb3cbcb3",
   "metadata": {},
   "outputs": [
    {
     "name": "stdout",
     "output_type": "stream",
     "text": [
      "3456\n"
     ]
    }
   ],
   "source": [
    "a = 3456\n",
    "print(a)"
   ]
  },
  {
   "cell_type": "code",
   "execution_count": 20,
   "id": "2ee66ef2-c78b-4174-b390-a043a73278ea",
   "metadata": {},
   "outputs": [],
   "source": [
    "# type:- datatype batata hain"
   ]
  },
  {
   "cell_type": "code",
   "execution_count": 28,
   "id": "07481b95-e37e-46a5-aa1f-46895edef1d4",
   "metadata": {},
   "outputs": [
    {
     "data": {
      "text/plain": [
       "int"
      ]
     },
     "execution_count": 28,
     "metadata": {},
     "output_type": "execute_result"
    }
   ],
   "source": [
    "type(a)"
   ]
  },
  {
   "cell_type": "code",
   "execution_count": 30,
   "id": "e7bb743b-38e3-4b53-97e2-8a6fbb8d47c9",
   "metadata": {},
   "outputs": [
    {
     "name": "stdout",
     "output_type": "stream",
     "text": [
      "<class 'int'>\n"
     ]
    }
   ],
   "source": [
    "print(type(a))"
   ]
  },
  {
   "cell_type": "code",
   "execution_count": 32,
   "id": "fd7b03b6-5e00-4ef7-adf0-ab7c6dfeebc9",
   "metadata": {},
   "outputs": [],
   "source": [
    "# Python mein jo bhi data type hoga, wo kisi na kisi class ke naam se hoga"
   ]
  },
  {
   "cell_type": "code",
   "execution_count": 38,
   "id": "cdd20840-0217-46c6-b008-ce824f772564",
   "metadata": {},
   "outputs": [
    {
     "name": "stdout",
     "output_type": "stream",
     "text": [
      "45.67656567956598\n"
     ]
    }
   ],
   "source": [
    "a = 45.67656567956598\n",
    "print(a)"
   ]
  },
  {
   "cell_type": "code",
   "execution_count": 39,
   "id": "32207d7f-de7c-4ed4-a458-874438a70975",
   "metadata": {},
   "outputs": [
    {
     "name": "stdout",
     "output_type": "stream",
     "text": [
      "<class 'float'>\n"
     ]
    }
   ],
   "source": [
    "print(type(a))"
   ]
  },
  {
   "cell_type": "code",
   "execution_count": 42,
   "id": "4031ffdf-6b76-4e48-a57f-21eb1a39c68c",
   "metadata": {},
   "outputs": [],
   "source": [
    "# complex := real num:- int/float, +- img"
   ]
  },
  {
   "cell_type": "code",
   "execution_count": 44,
   "id": "0af5002a-944c-4d49-9128-ec7cc4c599af",
   "metadata": {},
   "outputs": [
    {
     "name": "stdout",
     "output_type": "stream",
     "text": [
      "(456+6.45j)\n"
     ]
    }
   ],
   "source": [
    "a = 456 + 6.45j\n",
    "print(a)"
   ]
  },
  {
   "cell_type": "code",
   "execution_count": 48,
   "id": "301b01d0-2d34-4832-957e-53ab1a1802e6",
   "metadata": {},
   "outputs": [
    {
     "data": {
      "text/plain": [
       "(101+52j)"
      ]
     },
     "execution_count": 48,
     "metadata": {},
     "output_type": "execute_result"
    }
   ],
   "source": [
    "a = 45 + 45j\n",
    "b = 56 + 7j\n",
    "\n",
    "a+b"
   ]
  },
  {
   "cell_type": "code",
   "execution_count": 50,
   "id": "1de35c6d-98c8-40e9-b2a5-a9c41cc762cb",
   "metadata": {},
   "outputs": [
    {
     "name": "stdout",
     "output_type": "stream",
     "text": [
      "<class 'complex'>\n"
     ]
    }
   ],
   "source": [
    "print(type(a))"
   ]
  },
  {
   "cell_type": "markdown",
   "id": "d96a2532-d35a-4d39-86d2-e3dd4920d005",
   "metadata": {},
   "source": [
    "# Sequencial data"
   ]
  },
  {
   "cell_type": "markdown",
   "id": "f361ebde-07fa-4d8c-8c53-c74d984964ab",
   "metadata": {},
   "source": [
    "# Text data Type:- String\n",
    "Koi bhi data agar quotes ke andar likh diya "
   ]
  },
  {
   "cell_type": "code",
   "execution_count": 55,
   "id": "c5672e16-cee5-4eb0-ad5f-4ee7d3f5143d",
   "metadata": {},
   "outputs": [
    {
     "name": "stdout",
     "output_type": "stream",
     "text": [
      "<class 'str'>\n"
     ]
    }
   ],
   "source": [
    "a = 'mohan'\n",
    "print(type(a))"
   ]
  },
  {
   "cell_type": "code",
   "execution_count": 57,
   "id": "64df7550-a9b9-4d36-97fe-acf9884cf8d7",
   "metadata": {},
   "outputs": [
    {
     "name": "stdout",
     "output_type": "stream",
     "text": [
      "<class 'str'>\n"
     ]
    }
   ],
   "source": [
    "a = \"mohan\"\n",
    "print(type(a))"
   ]
  },
  {
   "cell_type": "code",
   "execution_count": 59,
   "id": "ee255c82-46ff-4afe-a9bd-a19c3541e8b8",
   "metadata": {},
   "outputs": [
    {
     "name": "stdout",
     "output_type": "stream",
     "text": [
      "<class 'str'>\n"
     ]
    }
   ],
   "source": [
    "a = '''mohan'''\n",
    "print(type(a))"
   ]
  },
  {
   "cell_type": "code",
   "execution_count": 61,
   "id": "59c78afa-f698-406b-9077-32e7570e3f5a",
   "metadata": {},
   "outputs": [
    {
     "name": "stdout",
     "output_type": "stream",
     "text": [
      "<class 'str'>\n"
     ]
    }
   ],
   "source": [
    "a = \"\"\"mohan\"\"\"\n",
    "print(type(a))"
   ]
  },
  {
   "cell_type": "code",
   "execution_count": 65,
   "id": "8ab59fbc-65e7-4e4e-b502-e0edf9217e77",
   "metadata": {},
   "outputs": [
    {
     "name": "stdout",
     "output_type": "stream",
     "text": [
      "<class 'str'>\n"
     ]
    }
   ],
   "source": [
    "age = '456'\n",
    "print(type(age))"
   ]
  },
  {
   "cell_type": "code",
   "execution_count": null,
   "id": "a796ee53-201f-4f1f-8ae6-d84894f0c2c9",
   "metadata": {},
   "outputs": [],
   "source": []
  },
  {
   "cell_type": "markdown",
   "id": "3c700769-f807-4a2b-b9f9-8287de53ed3f",
   "metadata": {},
   "source": [
    "# collection data dtype\n",
    "# Tuple:\n",
    "- Round braces"
   ]
  },
  {
   "cell_type": "code",
   "execution_count": 74,
   "id": "32f91627-6cf4-452f-a379-172227b2a277",
   "metadata": {},
   "outputs": [
    {
     "name": "stdout",
     "output_type": "stream",
     "text": [
      "(43, 4576, 456567, 4547)\n"
     ]
    }
   ],
   "source": [
    "a = 43,4576,456567,4547\n",
    "print(a)"
   ]
  },
  {
   "cell_type": "code",
   "execution_count": 76,
   "id": "109508ef-b5fc-434a-be01-b408e7efd23a",
   "metadata": {},
   "outputs": [
    {
     "name": "stdout",
     "output_type": "stream",
     "text": [
      "(45, 35, 4, 53, 554, 6)\n"
     ]
    }
   ],
   "source": [
    "a = (45,35,4,53,554,6)\n",
    "print(a)"
   ]
  },
  {
   "cell_type": "code",
   "execution_count": 78,
   "id": "581d9b59-070e-4c64-92a0-57a8ba7475e9",
   "metadata": {},
   "outputs": [
    {
     "name": "stdout",
     "output_type": "stream",
     "text": [
      "<class 'tuple'>\n"
     ]
    }
   ],
   "source": [
    "print(type(a))"
   ]
  },
  {
   "cell_type": "markdown",
   "id": "e827f64c-3dc7-4c52-bfec-7d4363456c8c",
   "metadata": {},
   "source": [
    "# List data type\n",
    "- Collection data type\n",
    "- Square brackets"
   ]
  },
  {
   "cell_type": "code",
   "execution_count": 83,
   "id": "d8a0c7f9-e5e3-47e7-bb72-55a657cefba2",
   "metadata": {},
   "outputs": [
    {
     "name": "stdout",
     "output_type": "stream",
     "text": [
      "[34, 65, 534, 55, 47, 'mohan']\n"
     ]
    }
   ],
   "source": [
    "a = [34,65,534,55,47,'mohan']\n",
    "\n",
    "print(a)"
   ]
  },
  {
   "cell_type": "code",
   "execution_count": 85,
   "id": "4ac420df-6e29-4669-85e3-88a4057297af",
   "metadata": {},
   "outputs": [
    {
     "name": "stdout",
     "output_type": "stream",
     "text": [
      "<class 'list'>\n"
     ]
    }
   ],
   "source": [
    "print(type(a))"
   ]
  },
  {
   "cell_type": "markdown",
   "id": "324de0c1-2e23-470d-ba98-0d711631a788",
   "metadata": {},
   "source": [
    "# unordered data type\n",
    "- Set Data Type\n",
    "- allows only unique data at a time"
   ]
  },
  {
   "cell_type": "markdown",
   "id": "593c8f10-3a08-4e53-9dd2-64ef2fda5ea3",
   "metadata": {},
   "source": [
    "# Set data type"
   ]
  },
  {
   "cell_type": "code",
   "execution_count": 96,
   "id": "4622aa3e-5e3a-4f61-ac2f-d95dbb6e3465",
   "metadata": {},
   "outputs": [
    {
     "name": "stdout",
     "output_type": "stream",
     "text": [
      "{4353, 2, 35, 6, 26}\n"
     ]
    }
   ],
   "source": [
    "a = {2,35,4353,6,2,2,2,26,6,6}\n",
    "print(a)"
   ]
  },
  {
   "cell_type": "code",
   "execution_count": 100,
   "id": "507a7bdf-3a87-4ae8-ac1a-e6a1c87c0040",
   "metadata": {},
   "outputs": [
    {
     "name": "stdout",
     "output_type": "stream",
     "text": [
      "<class 'set'>\n"
     ]
    }
   ],
   "source": [
    "print(type(a))"
   ]
  },
  {
   "cell_type": "markdown",
   "id": "b001e76e-22a1-4fe5-a6fa-7ba93e76cc47",
   "metadata": {},
   "source": [
    "# Bool data type\n",
    "- 0/1\n",
    "- True/False"
   ]
  },
  {
   "cell_type": "code",
   "execution_count": 104,
   "id": "f2d420c5-6831-4837-be15-ec6bb6163d9d",
   "metadata": {},
   "outputs": [
    {
     "name": "stdout",
     "output_type": "stream",
     "text": [
      "True\n"
     ]
    }
   ],
   "source": [
    "a = True\n",
    "print(a)"
   ]
  },
  {
   "cell_type": "code",
   "execution_count": 106,
   "id": "e2706cf9-98d3-4992-810a-54d6e62229b3",
   "metadata": {},
   "outputs": [
    {
     "name": "stdout",
     "output_type": "stream",
     "text": [
      "<class 'bool'>\n"
     ]
    }
   ],
   "source": [
    "print(type(a))"
   ]
  },
  {
   "cell_type": "code",
   "execution_count": 108,
   "id": "114198aa-b6ca-4912-8ce9-3cb5ac11ac44",
   "metadata": {},
   "outputs": [
    {
     "name": "stdout",
     "output_type": "stream",
     "text": [
      "<class 'bool'>\n"
     ]
    }
   ],
   "source": [
    "a = False\n",
    "print(type(a))"
   ]
  },
  {
   "cell_type": "markdown",
   "id": "8c92baf7-f63d-4c2f-b3d4-020a3ef5bc76",
   "metadata": {},
   "source": [
    "# Mapping data type, hash data type, key value pair\n",
    "- Dict data type"
   ]
  },
  {
   "cell_type": "code",
   "execution_count": 111,
   "id": "d412c15b-5e54-4232-9d5b-48fd5dc97b02",
   "metadata": {},
   "outputs": [
    {
     "name": "stdout",
     "output_type": "stream",
     "text": [
      "{'roll_no': 23, 'Std_name': 'Mohan Verma', 'Key': 345}\n"
     ]
    }
   ],
   "source": [
    "a = {'roll_no':23,'Std_name':'Mohan Verma','Key':345}\n",
    "print(a)"
   ]
  },
  {
   "cell_type": "code",
   "execution_count": 113,
   "id": "225b5c56-5710-49de-bcc8-b24abc80cc6c",
   "metadata": {},
   "outputs": [
    {
     "name": "stdout",
     "output_type": "stream",
     "text": [
      "<class 'dict'>\n"
     ]
    }
   ],
   "source": [
    "print(type(a))"
   ]
  },
  {
   "cell_type": "markdown",
   "id": "0e5469f1-8d1b-4d15-8247-9a19baf749b9",
   "metadata": {},
   "source": [
    "# Special Data Type:\n",
    "- None"
   ]
  },
  {
   "cell_type": "markdown",
   "id": "cce9a121-f3bb-4db9-87f9-7adb80be0b81",
   "metadata": {},
   "source": [
    "# None Data Type"
   ]
  },
  {
   "cell_type": "code",
   "execution_count": 118,
   "id": "ecdd1b96-2c0d-4d3d-a923-7494ac2e90d2",
   "metadata": {},
   "outputs": [
    {
     "name": "stdout",
     "output_type": "stream",
     "text": [
      "None\n"
     ]
    }
   ],
   "source": [
    "a = None\n",
    "print(a)"
   ]
  },
  {
   "cell_type": "code",
   "execution_count": 120,
   "id": "7a1fd85a-f02c-40dd-bd70-6b8b7854f35c",
   "metadata": {},
   "outputs": [
    {
     "name": "stdout",
     "output_type": "stream",
     "text": [
      "<class 'NoneType'>\n"
     ]
    }
   ],
   "source": [
    "print(type(a))"
   ]
  },
  {
   "cell_type": "code",
   "execution_count": 122,
   "id": "d96014c0-5247-4c05-9868-24136be6a0e0",
   "metadata": {},
   "outputs": [],
   "source": [
    "# Numerical: Int, Float, Complex\n",
    "# Sequence/Collection:- Str, Tuple, List\n",
    "# Bool\n",
    "# Set\n",
    "# Dict\n",
    "# None\n"
   ]
  },
  {
   "attachments": {
    "1d2732d4-680b-4214-85e4-27d6c77ff41d.jpg": {
     "image/jpeg": "[encoded data removed]"
    }
   },
   "cell_type": "markdown",
   "id": "ab0d42da-f67a-457b-9dea-f8e17289cb38",
   "metadata": {},
   "source": [
    "![data-types-in-python---teachoo.jpg](attachment:1d2732d4-680b-4214-85e4-27d6c77ff41d.jpg)"
   ]
  },
  {
   "cell_type": "code",
   "execution_count": 125,
   "id": "28140af5-cbb0-4613-a40c-0faf5c82855e",
   "metadata": {},
   "outputs": [],
   "source": [
    "# Python is an open source high level object oriented  general purpose programming language with dynamic symantix"
   ]
  },
  {
   "cell_type": "code",
   "execution_count": 127,
   "id": "63e1c146-bb41-47df-94d4-304613f68322",
   "metadata": {},
   "outputs": [],
   "source": [
    " # dynamic symantix"
   ]
  },
  {
   "cell_type": "code",
   "execution_count": 129,
   "id": "3bb22d14-f6d8-45b6-8c04-eacef32095ab",
   "metadata": {},
   "outputs": [],
   "source": [
    "# int a = 45"
   ]
  },
  {
   "cell_type": "code",
   "execution_count": 131,
   "id": "e567e4fc-5bc1-49c8-a4dc-b0c4b15095f7",
   "metadata": {},
   "outputs": [],
   "source": [
    "#  dynamic symantix:- run time, compilation time pe samjh jata hai ki data type kya hai"
   ]
  },
  {
   "cell_type": "code",
   "execution_count": 133,
   "id": "16a3ac3d-9c25-49d5-ad0d-957a5a6213ac",
   "metadata": {},
   "outputs": [],
   "source": [
    "# object oriented :- Object:- oops\n",
    "# without object oriented :- Object:- oops"
   ]
  },
  {
   "cell_type": "markdown",
   "id": "ecefd3f6-4bf9-4063-a50b-b810585a829d",
   "metadata": {},
   "source": [
    "# Variables Rules"
   ]
  },
  {
   "cell_type": "markdown",
   "id": "0d5941fe-5498-4af2-b924-a1256db2bd35",
   "metadata": {},
   "source": [
    "# Rule1\n",
    "- It can not starts with digit"
   ]
  },
  {
   "cell_type": "code",
   "execution_count": 139,
   "id": "bef0bba8-9e27-42c9-b3e4-e79ec8aa9379",
   "metadata": {},
   "outputs": [
    {
     "name": "stdout",
     "output_type": "stream",
     "text": [
      "4\n"
     ]
    }
   ],
   "source": [
    "a = 4\n",
    "print(a)"
   ]
  },
  {
   "cell_type": "code",
   "execution_count": 141,
   "id": "530e89ef-0a91-43b4-98d9-633836aa43f8",
   "metadata": {},
   "outputs": [
    {
     "ename": "SyntaxError",
     "evalue": "invalid decimal literal (1515653195.py, line 1)",
     "output_type": "error",
     "traceback": [
      "\u001b[1;36m  Cell \u001b[1;32mIn[141], line 1\u001b[1;36m\u001b[0m\n\u001b[1;33m    234a = 56\u001b[0m\n\u001b[1;37m      ^\u001b[0m\n\u001b[1;31mSyntaxError\u001b[0m\u001b[1;31m:\u001b[0m invalid decimal literal\n"
     ]
    }
   ],
   "source": [
    "234a = 56\n",
    "print(234a)"
   ]
  },
  {
   "cell_type": "code",
   "execution_count": 143,
   "id": "b779a806-5ebe-485d-84d2-1a74d4f18352",
   "metadata": {},
   "outputs": [],
   "source": [
    "# SyntaxError:- code hi galat likha hai"
   ]
  },
  {
   "cell_type": "markdown",
   "id": "b53457bd-4075-4dbe-bde9-652286f4acac",
   "metadata": {},
   "source": [
    "# Rule2\n",
    "- Variables name must not contain any white spaces"
   ]
  },
  {
   "cell_type": "code",
   "execution_count": 147,
   "id": "9f8c16be-fc75-46a7-952a-efb00ee0a706",
   "metadata": {},
   "outputs": [
    {
     "ename": "SyntaxError",
     "evalue": "invalid syntax (3644308849.py, line 1)",
     "output_type": "error",
     "traceback": [
      "\u001b[1;36m  Cell \u001b[1;32mIn[147], line 1\u001b[1;36m\u001b[0m\n\u001b[1;33m    full name  = 'Ajay Baagga'\u001b[0m\n\u001b[1;37m         ^\u001b[0m\n\u001b[1;31mSyntaxError\u001b[0m\u001b[1;31m:\u001b[0m invalid syntax\n"
     ]
    }
   ],
   "source": [
    "full name  = 'Ajay Baagga'\n",
    "print(full name)"
   ]
  },
  {
   "cell_type": "markdown",
   "id": "2649c5ee-7005-4579-a70a-4c27bfa072fe",
   "metadata": {},
   "source": [
    "# Rule 3:\n",
    "- We can use underscore at any position"
   ]
  },
  {
   "cell_type": "code",
   "execution_count": 150,
   "id": "48745bad-b37b-4b08-9957-bd82458aad6c",
   "metadata": {},
   "outputs": [
    {
     "name": "stdout",
     "output_type": "stream",
     "text": [
      "345\n"
     ]
    }
   ],
   "source": [
    "_a = 345\n",
    "print(_a)"
   ]
  },
  {
   "cell_type": "code",
   "execution_count": 152,
   "id": "1a9dc4f5-c375-4884-8f0b-9a5703bb1ad1",
   "metadata": {},
   "outputs": [
    {
     "name": "stdout",
     "output_type": "stream",
     "text": [
      "Ajay Baagga\n"
     ]
    }
   ],
   "source": [
    "full_name  = 'Ajay Baagga'\n",
    "print(full_name)"
   ]
  },
  {
   "cell_type": "code",
   "execution_count": 154,
   "id": "0bfb2e50-f87c-48ba-9c10-505b1d632f4d",
   "metadata": {},
   "outputs": [
    {
     "name": "stdout",
     "output_type": "stream",
     "text": [
      "3467\n"
     ]
    }
   ],
   "source": [
    "b_b = 3467\n",
    "print(b_b)"
   ]
  },
  {
   "cell_type": "code",
   "execution_count": 156,
   "id": "77305542-615e-4679-accb-e42c06c23e77",
   "metadata": {},
   "outputs": [
    {
     "name": "stdout",
     "output_type": "stream",
     "text": [
      "4567\n"
     ]
    }
   ],
   "source": [
    "a_ = 4567\n",
    "print(a_)"
   ]
  },
  {
   "cell_type": "markdown",
   "id": "4c2afb8c-ce69-4d1f-8af0-de5b837291c8",
   "metadata": {},
   "source": [
    "# Rule 4\n",
    "- we can use digits after first index"
   ]
  },
  {
   "cell_type": "code",
   "execution_count": 160,
   "id": "93ab937f-7c00-464a-96d5-285585050e7e",
   "metadata": {},
   "outputs": [],
   "source": [
    "a9 = 345"
   ]
  },
  {
   "cell_type": "code",
   "execution_count": 162,
   "id": "f5354cb1-ff0b-4022-8b23-dab2bf6cce09",
   "metadata": {},
   "outputs": [
    {
     "name": "stdout",
     "output_type": "stream",
     "text": [
      "345\n"
     ]
    }
   ],
   "source": [
    "print(a9)"
   ]
  },
  {
   "cell_type": "code",
   "execution_count": 166,
   "id": "eae156cd-4108-404e-acf3-868d8e3cbfb5",
   "metadata": {},
   "outputs": [
    {
     "name": "stdout",
     "output_type": "stream",
     "text": [
      "komal\n",
      "Mohan\n",
      "Ajay\n"
     ]
    }
   ],
   "source": [
    "name1 = 'komal'\n",
    "name2 = 'Mohan'\n",
    "name3 = 'Ajay'\n",
    "\n",
    "print(name1)\n",
    "print(name2)\n",
    "print(name3)\n"
   ]
  },
  {
   "cell_type": "markdown",
   "id": "b23e0d8e-4218-4601-99b6-9d58c68377bd",
   "metadata": {},
   "source": [
    "# Rule 5:\n",
    "- Python is case sensitive"
   ]
  },
  {
   "cell_type": "code",
   "execution_count": 169,
   "id": "b3c2cdaa-27ad-4f11-a4d7-76507fab6f04",
   "metadata": {},
   "outputs": [],
   "source": [
    "name = 'Ankit'\n",
    "Name = 'Sanjeet'\n",
    "NAME = 'Abbas'\n",
    "NAme = 'Narendra'"
   ]
  },
  {
   "cell_type": "code",
   "execution_count": 177,
   "id": "d4dd4b24-6f7e-405a-b68c-c71706dbe2fe",
   "metadata": {},
   "outputs": [
    {
     "name": "stdout",
     "output_type": "stream",
     "text": [
      "Sanjeet\n"
     ]
    }
   ],
   "source": [
    "print(Name)"
   ]
  },
  {
   "cell_type": "markdown",
   "id": "56e83069-7dd2-453c-9068-efa857835f3c",
   "metadata": {},
   "source": [
    "# Rule 6:\n",
    "- We can not use any special characters except underscore"
   ]
  },
  {
   "cell_type": "code",
   "execution_count": 180,
   "id": "93a740b5-b475-452d-a3c3-aec33bf992ff",
   "metadata": {},
   "outputs": [
    {
     "ename": "SyntaxError",
     "evalue": "invalid syntax. Maybe you meant '==' or ':=' instead of '='? (1748972441.py, line 2)",
     "output_type": "error",
     "traceback": [
      "\u001b[1;36m  Cell \u001b[1;32mIn[180], line 2\u001b[1;36m\u001b[0m\n\u001b[1;33m    @a = 56\u001b[0m\n\u001b[1;37m     ^\u001b[0m\n\u001b[1;31mSyntaxError\u001b[0m\u001b[1;31m:\u001b[0m invalid syntax. Maybe you meant '==' or ':=' instead of '='?\n"
     ]
    }
   ],
   "source": [
    "a# = 56\n",
    "@a = 56\n",
    "name% = 667"
   ]
  },
  {
   "cell_type": "code",
   "execution_count": 182,
   "id": "a06b3575-8d2b-418e-aa3c-fd53453271d5",
   "metadata": {},
   "outputs": [
    {
     "name": "stdout",
     "output_type": "stream",
     "text": [
      "46\n"
     ]
    }
   ],
   "source": [
    "_ = 46\n",
    "print(_)"
   ]
  },
  {
   "cell_type": "code",
   "execution_count": 184,
   "id": "e6b7006e-4ef9-4a65-ac32-098fc1471d44",
   "metadata": {},
   "outputs": [
    {
     "name": "stdout",
     "output_type": "stream",
     "text": [
      "\n",
      "Here is a list of the Python keywords.  Enter any keyword to get more help.\n",
      "\n",
      "False               class               from                or\n",
      "None                continue            global              pass\n",
      "True                def                 if                  raise\n",
      "and                 del                 import              return\n",
      "as                  elif                in                  try\n",
      "assert              else                is                  while\n",
      "async               except              lambda              with\n",
      "await               finally             nonlocal            yield\n",
      "break               for                 not                 \n",
      "\n"
     ]
    }
   ],
   "source": [
    "help('keywords')"
   ]
  },
  {
   "cell_type": "markdown",
   "id": "6e2795a1-e66e-4891-adb8-4ffb5a3f7125",
   "metadata": {},
   "source": [
    "# Rule 7\n",
    "- Keywords are not allowed for variable declerations"
   ]
  },
  {
   "cell_type": "code",
   "execution_count": 190,
   "id": "61a0147b-4673-4114-9f99-aa64dda08cf9",
   "metadata": {},
   "outputs": [],
   "source": [
    "true = 'Mohan'"
   ]
  },
  {
   "cell_type": "code",
   "execution_count": 192,
   "id": "e53449fd-8cef-44f1-92f2-df08605a8367",
   "metadata": {},
   "outputs": [
    {
     "name": "stdout",
     "output_type": "stream",
     "text": [
      "Mohan\n"
     ]
    }
   ],
   "source": [
    "print(true)"
   ]
  },
  {
   "cell_type": "code",
   "execution_count": 194,
   "id": "8cdf3224-4f44-4828-87cb-36b805a540c3",
   "metadata": {},
   "outputs": [
    {
     "ename": "SyntaxError",
     "evalue": "cannot assign to True (2268521824.py, line 1)",
     "output_type": "error",
     "traceback": [
      "\u001b[1;36m  Cell \u001b[1;32mIn[194], line 1\u001b[1;36m\u001b[0m\n\u001b[1;33m    True = 'Komal'\u001b[0m\n\u001b[1;37m    ^\u001b[0m\n\u001b[1;31mSyntaxError\u001b[0m\u001b[1;31m:\u001b[0m cannot assign to True\n"
     ]
    }
   ],
   "source": [
    "True = 'Komal'"
   ]
  },
  {
   "cell_type": "code",
   "execution_count": 196,
   "id": "6fab37f0-93bf-47f7-91ae-73b7c59d018c",
   "metadata": {},
   "outputs": [
    {
     "ename": "SyntaxError",
     "evalue": "invalid syntax (2255375715.py, line 1)",
     "output_type": "error",
     "traceback": [
      "\u001b[1;36m  Cell \u001b[1;32mIn[196], line 1\u001b[1;36m\u001b[0m\n\u001b[1;33m    global = 'Lucky'\u001b[0m\n\u001b[1;37m           ^\u001b[0m\n\u001b[1;31mSyntaxError\u001b[0m\u001b[1;31m:\u001b[0m invalid syntax\n"
     ]
    }
   ],
   "source": [
    "global = 'Lucky'"
   ]
  },
  {
   "cell_type": "markdown",
   "id": "e0a5b279-a42b-4617-9539-ba6076967900",
   "metadata": {},
   "source": [
    "# Rule_etc variable name must be easy to understand"
   ]
  },
  {
   "cell_type": "code",
   "execution_count": 200,
   "id": "254f072c-d1c0-4dd8-9065-3f15e96e2585",
   "metadata": {},
   "outputs": [],
   "source": [
    "skjrngknrtk = 'Lucky'"
   ]
  },
  {
   "cell_type": "code",
   "execution_count": 202,
   "id": "55d05692-0d9e-4c1f-9de5-c0546f9a9d7a",
   "metadata": {},
   "outputs": [],
   "source": [
    "name = 'Lucky'"
   ]
  },
  {
   "cell_type": "code",
   "execution_count": 204,
   "id": "4b6232ec-e908-4449-99dd-275185ab05b1",
   "metadata": {},
   "outputs": [],
   "source": [
    "age = 45"
   ]
  },
  {
   "cell_type": "code",
   "execution_count": 206,
   "id": "70a87194-646a-47a2-ae37-02691537b3a7",
   "metadata": {},
   "outputs": [],
   "source": [
    "college_name = 'NIU'"
   ]
  },
  {
   "cell_type": "code",
   "execution_count": 208,
   "id": "5bb44c7b-83ef-47dc-b0fb-690b21ae7c92",
   "metadata": {},
   "outputs": [],
   "source": [
    "address = 'Noida'"
   ]
  },
  {
   "cell_type": "code",
   "execution_count": 216,
   "id": "94305b4d-2269-4f14-a749-644fd8c7eeca",
   "metadata": {},
   "outputs": [],
   "source": [
    "_ , _2gaurname = 34,45\n",
    "# adv, packing ya unpacking"
   ]
  },
  {
   "cell_type": "code",
   "execution_count": 220,
   "id": "f537eb35-50dc-4092-8d7b-8398815b1aaf",
   "metadata": {},
   "outputs": [
    {
     "name": "stdout",
     "output_type": "stream",
     "text": [
      "45\n"
     ]
    }
   ],
   "source": [
    "print(_2gaurname)"
   ]
  },
  {
   "cell_type": "code",
   "execution_count": 230,
   "id": "f4ca8253-d414-4d3b-8aa9-a2110cbcb75d",
   "metadata": {},
   "outputs": [
    {
     "name": "stdout",
     "output_type": "stream",
     "text": [
      "Gaurav\n"
     ]
    }
   ],
   "source": [
    "full_name = 'Gaurav'\n",
    "print(full_name)"
   ]
  },
  {
   "cell_type": "code",
   "execution_count": null,
   "id": "df145bbe-a0cb-4557-b69b-2db9286dded2",
   "metadata": {},
   "outputs": [],
   "source": []
  }
 ],
 "metadata": {
  "kernelspec": {
   "display_name": "Python [conda env:base] *",
   "language": "python",
   "name": "conda-base-py"
  },
  "language_info": {
   "codemirror_mode": {
    "name": "ipython",
    "version": 3
   },
   "file_extension": ".py",
   "mimetype": "text/x-python",
   "name": "python",
   "nbconvert_exporter": "python",
   "pygments_lexer": "ipython3",
   "version": "3.12.7"
  }
 },
 "nbformat": 4,
 "nbformat_minor": 5
}
