{
 "cells": [
  {
   "cell_type": "markdown",
   "id": "6c5563c5-f3c5-4d39-8b29-959736951c73",
   "metadata": {},
   "source": [
    "# Advance Function"
   ]
  },
  {
   "cell_type": "code",
   "execution_count": 2,
   "id": "aed96f58-3a18-44c4-b2af-a8e20d16e67a",
   "metadata": {},
   "outputs": [],
   "source": [
    "# Armstrong"
   ]
  },
  {
   "cell_type": "code",
   "execution_count": 4,
   "id": "1c498cdd-013f-4eae-86a4-dc693ad820a7",
   "metadata": {},
   "outputs": [],
   "source": [
    "# 153"
   ]
  },
  {
   "cell_type": "code",
   "execution_count": 6,
   "id": "9273433b-a0aa-400c-8dea-4451fdd27cec",
   "metadata": {},
   "outputs": [
    {
     "data": {
      "text/plain": [
       "153"
      ]
     },
     "execution_count": 6,
     "metadata": {},
     "output_type": "execute_result"
    }
   ],
   "source": [
    "1 **3 + 5**3 + 3**3"
   ]
  },
  {
   "cell_type": "code",
   "execution_count": 8,
   "id": "f8742088-ab47-42cf-91bd-6efc5db9a42c",
   "metadata": {},
   "outputs": [
    {
     "data": {
      "text/plain": [
       "3954"
      ]
     },
     "execution_count": 8,
     "metadata": {},
     "output_type": "execute_result"
    }
   ],
   "source": [
    "1674\n",
    "\n",
    "1**4 + 6**4 + 7**4 + 4**4"
   ]
  },
  {
   "cell_type": "code",
   "execution_count": 10,
   "id": "31e49dd8-6823-4eea-a310-8c79174cecdb",
   "metadata": {},
   "outputs": [],
   "source": [
    "def check_armstrong(num):\n",
    "    pw = len(str(num))\n",
    "\n",
    "    ans = 0\n",
    "\n",
    "    for i in str(num):\n",
    "        ans += int(i)**pw\n",
    "    if ans == num:\n",
    "        return 'Armstrong!!'\n",
    "    else:\n",
    "        return 'Not an Armstrong!!'"
   ]
  },
  {
   "cell_type": "code",
   "execution_count": null,
   "id": "e67d38d5-4bc7-40ee-b10d-fec56a2a4b88",
   "metadata": {},
   "outputs": [],
   "source": []
  },
  {
   "cell_type": "code",
   "execution_count": null,
   "id": "9e6ace21-4713-4a50-99c3-26b3711cf305",
   "metadata": {},
   "outputs": [],
   "source": []
  },
  {
   "cell_type": "code",
   "execution_count": 22,
   "id": "eebf2063-9512-44a8-a68d-18e2d8df6e55",
   "metadata": {},
   "outputs": [
    {
     "data": {
      "text/plain": [
       "'Armstrong!!'"
      ]
     },
     "execution_count": 22,
     "metadata": {},
     "output_type": "execute_result"
    }
   ],
   "source": [
    "check_armstrong(371)"
   ]
  },
  {
   "cell_type": "code",
   "execution_count": null,
   "id": "374b1f21-c957-4b61-a873-aed9aec9b630",
   "metadata": {},
   "outputs": [],
   "source": []
  },
  {
   "cell_type": "code",
   "execution_count": 376,
   "id": "2b43ae18-8269-4785-9342-ced039c6cca9",
   "metadata": {},
   "outputs": [],
   "source": [
    "def give_fibbo_seq(n = 2):\n",
    "    if type(n) == int:\n",
    "        fibbo = [0,1]\n",
    "        if n == 2:\n",
    "            return fibbo\n",
    "        elif n>2:\n",
    "            for i in range(n-2):\n",
    "                next_num = fibbo[-1] + fibbo[-2]\n",
    "                fibbo.append(next_num)\n",
    "            return fibbo\n",
    "            \n",
    "        else:\n",
    "            return 'Invalid Fibbo Range'\n",
    "    else:\n",
    "        return 'Invalid input!!'\n",
    "    "
   ]
  },
  {
   "cell_type": "code",
   "execution_count": 378,
   "id": "26dcc877-0b22-4085-992f-6789522c944e",
   "metadata": {},
   "outputs": [
    {
     "name": "stdout",
     "output_type": "stream",
     "text": [
      "[0, 1, 1, 2, 3, 5, 8, 13, 21, 34, 55, 89, 144, 233, 377, 610, 987, 1597, 2584, 4181, 6765, 10946, 17711, 28657, 46368, 75025, 121393, 196418, 317811, 514229, 832040, 1346269, 2178309, 3524578]\n"
     ]
    }
   ],
   "source": [
    "print(give_fibbo_seq(34))"
   ]
  },
  {
   "cell_type": "code",
   "execution_count": null,
   "id": "66985168-56bc-4fc0-9b1e-213c2c0cf8d4",
   "metadata": {},
   "outputs": [],
   "source": []
  },
  {
   "cell_type": "code",
   "execution_count": 80,
   "id": "476b150c-df83-4fe9-9014-de976cb90908",
   "metadata": {},
   "outputs": [],
   "source": [
    "# h/w\n",
    "# Even, odd\n",
    "# anagram\n",
    "# give_prime\n",
    "# give_armstrong\n",
    "# vowels/Consonants"
   ]
  },
  {
   "cell_type": "code",
   "execution_count": 82,
   "id": "dbffd4c3-cf7c-41ed-9af3-ef433d90dbbf",
   "metadata": {},
   "outputs": [],
   "source": [
    "# args, kwargs, nested func, scope of python\n",
    "# lambda func"
   ]
  },
  {
   "cell_type": "code",
   "execution_count": 84,
   "id": "f6266e87-ca47-4dd7-a5b4-bd29f1a2d4f7",
   "metadata": {},
   "outputs": [],
   "source": [
    "def add_two(a,b):\n",
    "    return a+b"
   ]
  },
  {
   "cell_type": "code",
   "execution_count": 94,
   "id": "2ec0fe16-0749-4e4d-9456-eed9a50fcde3",
   "metadata": {},
   "outputs": [
    {
     "data": {
      "text/plain": [
       "13"
      ]
     },
     "execution_count": 94,
     "metadata": {},
     "output_type": "execute_result"
    }
   ],
   "source": [
    "add_two(10,3)"
   ]
  },
  {
   "cell_type": "code",
   "execution_count": 96,
   "id": "72b2747b-1a5f-45f9-a6e8-83d8ac45f66f",
   "metadata": {},
   "outputs": [],
   "source": [
    "# *args:- ek se jayada arguments"
   ]
  },
  {
   "cell_type": "code",
   "execution_count": 104,
   "id": "b0628f26-31bc-4f0c-bd01-151faff7af86",
   "metadata": {},
   "outputs": [],
   "source": [
    "def add(*num):\n",
    "    return num"
   ]
  },
  {
   "cell_type": "code",
   "execution_count": 106,
   "id": "d5b73cd5-db68-41c1-9fee-70341c5863ec",
   "metadata": {},
   "outputs": [
    {
     "data": {
      "text/plain": [
       "(1, 2, 34, 5)"
      ]
     },
     "execution_count": 106,
     "metadata": {},
     "output_type": "execute_result"
    }
   ],
   "source": [
    "add(1,2,34,5)"
   ]
  },
  {
   "cell_type": "code",
   "execution_count": 110,
   "id": "6880be74-b2fc-4332-8a78-3b585bf27a44",
   "metadata": {},
   "outputs": [],
   "source": [
    "# print(3,4,5)"
   ]
  },
  {
   "cell_type": "code",
   "execution_count": 112,
   "id": "31aee0b2-94ce-4430-b2a1-85be16196df9",
   "metadata": {},
   "outputs": [],
   "source": [
    "def add(*nums):\n",
    "    ans = 0\n",
    "    for i in nums:\n",
    "        ans += i\n",
    "    return ans"
   ]
  },
  {
   "cell_type": "code",
   "execution_count": 114,
   "id": "d25a93ec-4c66-4848-8c42-8558ba01299a",
   "metadata": {},
   "outputs": [
    {
     "data": {
      "text/plain": [
       "3"
      ]
     },
     "execution_count": 114,
     "metadata": {},
     "output_type": "execute_result"
    }
   ],
   "source": [
    "add_two(1,2)"
   ]
  },
  {
   "cell_type": "code",
   "execution_count": 120,
   "id": "81fbb5d8-f1cd-4fab-bccb-a471fd2a524c",
   "metadata": {},
   "outputs": [
    {
     "data": {
      "text/plain": [
       "603"
      ]
     },
     "execution_count": 120,
     "metadata": {},
     "output_type": "execute_result"
    }
   ],
   "source": [
    "add(34,23,546)"
   ]
  },
  {
   "cell_type": "code",
   "execution_count": 118,
   "id": "15c8fce9-4b4c-4a3b-a65f-a0cf9b02ffaa",
   "metadata": {},
   "outputs": [
    {
     "data": {
      "text/plain": [
       "603"
      ]
     },
     "execution_count": 118,
     "metadata": {},
     "output_type": "execute_result"
    }
   ],
   "source": [
    "sum([34,23,546])"
   ]
  },
  {
   "cell_type": "code",
   "execution_count": 122,
   "id": "4a2be798-d48d-460e-900b-7ce0e452fd49",
   "metadata": {},
   "outputs": [],
   "source": [
    "# **kwargs"
   ]
  },
  {
   "cell_type": "code",
   "execution_count": 130,
   "id": "8b0d2833-586c-47d0-8851-6c067338b727",
   "metadata": {},
   "outputs": [],
   "source": [
    "def give_intro(name,age,salary,company_name):\n",
    "    print(f'My Name is: {name}')\n",
    "    print(f'My Age is: {age}')\n",
    "    print(f'My Salary is: {salary}')\n",
    "    print(f'My Company name is: {company_name.upper()}')"
   ]
  },
  {
   "cell_type": "code",
   "execution_count": 132,
   "id": "29c44055-849d-42f2-8109-9b5680102fd1",
   "metadata": {},
   "outputs": [
    {
     "name": "stdout",
     "output_type": "stream",
     "text": [
      "My Name is: Jatin\n",
      "My Age is: 23\n",
      "My Salary is: 234567\n",
      "My Company name is: TCS\n"
     ]
    }
   ],
   "source": [
    "give_intro('Jatin',23,234567,'Tcs')"
   ]
  },
  {
   "cell_type": "code",
   "execution_count": null,
   "id": "e8a07c7f-090e-42e6-901a-09af50b81e8b",
   "metadata": {},
   "outputs": [],
   "source": []
  },
  {
   "cell_type": "code",
   "execution_count": 135,
   "id": "dc8f6f93-3b29-4fe1-904c-5fe112bb5a46",
   "metadata": {},
   "outputs": [
    {
     "name": "stdout",
     "output_type": "stream",
     "text": [
      "My Name is: Tcs\n",
      "My Age is: 456789\n",
      "My Salary is: 23\n",
      "My Company name is: MOHAN\n"
     ]
    }
   ],
   "source": [
    "give_intro('Tcs',456789,23,'Mohan')"
   ]
  },
  {
   "cell_type": "code",
   "execution_count": 147,
   "id": "5363f1d5-316c-4099-a67b-e9b8b9f41008",
   "metadata": {},
   "outputs": [
    {
     "name": "stdout",
     "output_type": "stream",
     "text": [
      "My Name is: Komal\n",
      "My Age is: 34\n",
      "My Salary is: 345674\n",
      "My Company name is: KOMAL\n"
     ]
    }
   ],
   "source": [
    "give_intro('Komal',age=34,company_name='Komal',salary = 345674)"
   ]
  },
  {
   "cell_type": "code",
   "execution_count": 149,
   "id": "08fd1217-bf46-46ff-af3c-9be269157ebf",
   "metadata": {},
   "outputs": [
    {
     "ename": "TypeError",
     "evalue": "give_intro() got an unexpected keyword argument 'bonus'",
     "output_type": "error",
     "traceback": [
      "\u001b[1;31m---------------------------------------------------------------------------\u001b[0m",
      "\u001b[1;31mTypeError\u001b[0m                                 Traceback (most recent call last)",
      "Cell \u001b[1;32mIn[149], line 1\u001b[0m\n\u001b[1;32m----> 1\u001b[0m give_intro(\u001b[38;5;124m'\u001b[39m\u001b[38;5;124mKomal\u001b[39m\u001b[38;5;124m'\u001b[39m,age\u001b[38;5;241m=\u001b[39m\u001b[38;5;241m34\u001b[39m,company_name\u001b[38;5;241m=\u001b[39m\u001b[38;5;124m'\u001b[39m\u001b[38;5;124mKomal\u001b[39m\u001b[38;5;124m'\u001b[39m,salary \u001b[38;5;241m=\u001b[39m \u001b[38;5;241m345674\u001b[39m,bonus \u001b[38;5;241m=\u001b[39m \u001b[38;5;241m45\u001b[39m)\n",
      "\u001b[1;31mTypeError\u001b[0m: give_intro() got an unexpected keyword argument 'bonus'"
     ]
    }
   ],
   "source": [
    "give_intro('Komal',age=34,company_name='Komal',salary = 345674,bonus = 45)"
   ]
  },
  {
   "cell_type": "code",
   "execution_count": 151,
   "id": "65951873-534c-4043-8bdc-f01e1bf0bdb8",
   "metadata": {},
   "outputs": [],
   "source": [
    "# **kwargs"
   ]
  },
  {
   "cell_type": "code",
   "execution_count": 153,
   "id": "ea04fa7f-29f4-46e8-985d-4c70d59ca527",
   "metadata": {},
   "outputs": [],
   "source": [
    "# keyword arguments"
   ]
  },
  {
   "cell_type": "code",
   "execution_count": 199,
   "id": "2b04f8d5-b34d-4fcb-aad6-92f492c29e72",
   "metadata": {},
   "outputs": [],
   "source": [
    "def introduce(**kwargs):\n",
    "    for key,value in kwargs.items():\n",
    "        if '_' in key:\n",
    "            print(f'My {key} is {value}'.replace('_',' ').title())\n",
    "        else:\n",
    "            print(f'My {key} is {value}'.title())"
   ]
  },
  {
   "cell_type": "code",
   "execution_count": 211,
   "id": "b1cd2023-ba64-474e-bd0e-bb4e41aade34",
   "metadata": {},
   "outputs": [
    {
     "name": "stdout",
     "output_type": "stream",
     "text": [
      "My Name Is Jatin\n",
      "My Bonus Is 34\n",
      "My Company Name Is Wipro\n"
     ]
    }
   ],
   "source": [
    "introduce(name = 'Jatin',Bonus = 34,Company_name = 'Wipro')"
   ]
  },
  {
   "cell_type": "code",
   "execution_count": null,
   "id": "086618f2-c160-4d2f-9249-0ca2ec2c228e",
   "metadata": {},
   "outputs": [],
   "source": []
  },
  {
   "cell_type": "code",
   "execution_count": 188,
   "id": "f38d18c7-e012-497a-951f-0e996284ebb4",
   "metadata": {},
   "outputs": [],
   "source": [
    "# def introduce(**kwargs):\n",
    "#     ans = ''''''\n",
    "#     for key,value in kwargs.items():\n",
    "#         if '_' in key:\n",
    "#             ans += f'My {key} is {value}'.replace('_',' ')+'\\n'\n",
    "#         else:\n",
    "#             ans += f'My {key} is {value}'+'\\n'\n",
    "#     return ans"
   ]
  },
  {
   "cell_type": "code",
   "execution_count": 217,
   "id": "1acd643d-399d-4d26-8e8d-7dc1ee6942dc",
   "metadata": {},
   "outputs": [],
   "source": [
    "# print(print(print()))"
   ]
  },
  {
   "cell_type": "code",
   "execution_count": 267,
   "id": "248023ce-8f95-473e-9786-3b68b91f7a6c",
   "metadata": {},
   "outputs": [],
   "source": [
    "def show_db(**kwargs):\n",
    "    import pandas as pd\n",
    "    data = kwargs\n",
    "    if type(data['name']) in [list,tuple]:\n",
    "        table = pd.DataFrame(data)\n",
    "    else:\n",
    "        table = pd.DataFrame(data,index = [1])\n",
    "\n",
    "    return table\n",
    "    "
   ]
  },
  {
   "cell_type": "code",
   "execution_count": 271,
   "id": "8e4ec26b-cc9d-4a65-ac05-da747bc54111",
   "metadata": {},
   "outputs": [
    {
     "data": {
      "text/html": [
       "<div>\n",
       "<style scoped>\n",
       "    .dataframe tbody tr th:only-of-type {\n",
       "        vertical-align: middle;\n",
       "    }\n",
       "\n",
       "    .dataframe tbody tr th {\n",
       "        vertical-align: top;\n",
       "    }\n",
       "\n",
       "    .dataframe thead th {\n",
       "        text-align: right;\n",
       "    }\n",
       "</style>\n",
       "<table border=\"1\" class=\"dataframe\">\n",
       "  <thead>\n",
       "    <tr style=\"text-align: right;\">\n",
       "      <th></th>\n",
       "      <th>name</th>\n",
       "      <th>age</th>\n",
       "      <th>Class</th>\n",
       "      <th>address</th>\n",
       "    </tr>\n",
       "  </thead>\n",
       "  <tbody>\n",
       "    <tr>\n",
       "      <th>0</th>\n",
       "      <td>Mohan</td>\n",
       "      <td>12</td>\n",
       "      <td>7</td>\n",
       "      <td>Delhi</td>\n",
       "    </tr>\n",
       "    <tr>\n",
       "      <th>1</th>\n",
       "      <td>Daya</td>\n",
       "      <td>13</td>\n",
       "      <td>8</td>\n",
       "      <td>Noida</td>\n",
       "    </tr>\n",
       "  </tbody>\n",
       "</table>\n",
       "</div>"
      ],
      "text/plain": [
       "    name  age  Class address\n",
       "0  Mohan   12      7   Delhi\n",
       "1   Daya   13      8   Noida"
      ]
     },
     "execution_count": 271,
     "metadata": {},
     "output_type": "execute_result"
    }
   ],
   "source": [
    "show_db(name = ['Mohan','Daya'],age = [12,13],Class = [7,8],address = ['Delhi','Noida'])"
   ]
  },
  {
   "cell_type": "markdown",
   "id": "33218774-8a1c-457c-af54-e77051eec7f9",
   "metadata": {},
   "source": [
    "# Nested Func"
   ]
  },
  {
   "cell_type": "code",
   "execution_count": 326,
   "id": "59ac2559-1a66-4d51-bf23-36d21377effa",
   "metadata": {},
   "outputs": [],
   "source": [
    "def a():\n",
    "    print('I am a')\n",
    "\n",
    "    def b():\n",
    "        print('I am b')\n",
    "\n",
    "        def c():\n",
    "            print('I am c')\n",
    "        c()\n",
    "    b()\n",
    "\n",
    "    def e():\n",
    "        print('I am e')\n",
    "        \n",
    "    def d():\n",
    "        print('I am d')\n",
    "\n",
    "    d(),e(),d()"
   ]
  },
  {
   "cell_type": "code",
   "execution_count": 328,
   "id": "c63e3462-4be4-41da-9930-f0d32a76ccec",
   "metadata": {},
   "outputs": [
    {
     "name": "stdout",
     "output_type": "stream",
     "text": [
      "I am a\n",
      "I am b\n",
      "I am c\n",
      "I am d\n",
      "I am e\n",
      "I am d\n"
     ]
    }
   ],
   "source": [
    "a()"
   ]
  },
  {
   "cell_type": "code",
   "execution_count": 280,
   "id": "2f9b7d94-d008-4a6c-be33-dae71b15757b",
   "metadata": {},
   "outputs": [],
   "source": [
    "# b()"
   ]
  },
  {
   "cell_type": "code",
   "execution_count": 330,
   "id": "76f41c17-473e-41fd-8536-addc9f44c6cd",
   "metadata": {},
   "outputs": [],
   "source": [
    "# decorator"
   ]
  },
  {
   "cell_type": "code",
   "execution_count": 454,
   "id": "2f2e16db-89b4-4f90-b822-04cc85451ca3",
   "metadata": {},
   "outputs": [],
   "source": [
    "def home(light):\n",
    "    print('My Home')\n",
    "    light()\n",
    "    print('My Home got Light')"
   ]
  },
  {
   "cell_type": "code",
   "execution_count": 447,
   "id": "e3a48acc-c5f4-448e-bc3c-3d7c6ae0f57c",
   "metadata": {},
   "outputs": [],
   "source": [
    "def lgt():\n",
    "    print('🎇🎇')\n",
    "\n",
    "def water():\n",
    "    print('🙏🙏')"
   ]
  },
  {
   "cell_type": "code",
   "execution_count": 458,
   "id": "c3c5fdc8-61e3-452f-a741-ca4526f9c4f7",
   "metadata": {},
   "outputs": [
    {
     "name": "stdout",
     "output_type": "stream",
     "text": [
      "My Home\n",
      "🎇🎇\n",
      "My Home got Light\n"
     ]
    }
   ],
   "source": [
    "home(lgt)"
   ]
  },
  {
   "cell_type": "code",
   "execution_count": null,
   "id": "0a6cd8cf-f0c6-4bbc-9124-8a62ace422f0",
   "metadata": {},
   "outputs": [],
   "source": []
  },
  {
   "cell_type": "code",
   "execution_count": null,
   "id": "413c82b7-1830-4330-8e48-ee081ddef482",
   "metadata": {},
   "outputs": [],
   "source": []
  }
 ],
 "metadata": {
  "kernelspec": {
   "display_name": "Python [conda env:base] *",
   "language": "python",
   "name": "conda-base-py"
  },
  "language_info": {
   "codemirror_mode": {
    "name": "ipython",
    "version": 3
   },
   "file_extension": ".py",
   "mimetype": "text/x-python",
   "name": "python",
   "nbconvert_exporter": "python",
   "pygments_lexer": "ipython3",
   "version": "3.12.7"
  }
 },
 "nbformat": 4,
 "nbformat_minor": 5
}
