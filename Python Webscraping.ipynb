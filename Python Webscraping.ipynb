{
 "cells": [
  {
   "cell_type": "code",
   "execution_count": 1,
   "id": "abfc6f06-959d-4121-b0ef-c1bdb7831528",
   "metadata": {},
   "outputs": [],
   "source": [
    "# Data Analysis"
   ]
  },
  {
   "cell_type": "code",
   "execution_count": 2,
   "id": "26e8cb62-8cc8-45c8-a878-a1f395923bd3",
   "metadata": {},
   "outputs": [
    {
     "name": "stdout",
     "output_type": "stream",
     "text": [
      "<Response [200]>\n"
     ]
    }
   ],
   "source": [
    "import requests as r\n",
    "\n",
    "url = '''https://en.wikipedia.org/wiki/The_World%27s_Billionaires'''\n",
    "\n",
    "response = r.get(url)\n",
    "print(response)"
   ]
  },
  {
   "cell_type": "code",
   "execution_count": 3,
   "id": "dcd22ca4-8809-47ec-9368-7d59c5141ede",
   "metadata": {},
   "outputs": [],
   "source": [
    "html_data = response.content\n",
    "# print(html_data)"
   ]
  },
  {
   "cell_type": "code",
   "execution_count": 4,
   "id": "8a264ab5-f040-4556-9921-5c67ddc4f20e",
   "metadata": {},
   "outputs": [
    {
     "name": "stdout",
     "output_type": "stream",
     "text": [
      "Done\n"
     ]
    }
   ],
   "source": [
    "from bs4 import BeautifulSoup\n",
    "print('Done')"
   ]
  },
  {
   "cell_type": "code",
   "execution_count": 5,
   "id": "f8958a7b-87db-4e7b-b492-f2ed521df9a0",
   "metadata": {},
   "outputs": [],
   "source": [
    "# pip install beautifulsoup4"
   ]
  },
  {
   "cell_type": "code",
   "execution_count": 6,
   "id": "9d27269a-01c7-4a29-9f8e-146404690d09",
   "metadata": {},
   "outputs": [],
   "source": [
    "soup = BeautifulSoup(html_data)"
   ]
  },
  {
   "cell_type": "code",
   "execution_count": 7,
   "id": "2f49e933-1243-476b-b364-6e0f46f84ed7",
   "metadata": {},
   "outputs": [],
   "source": [
    "# print(soup.prettify())"
   ]
  },
  {
   "cell_type": "code",
   "execution_count": 8,
   "id": "4a7ed6ad-be75-478a-8b32-0780535e1519",
   "metadata": {},
   "outputs": [],
   "source": [
    "# soup"
   ]
  },
  {
   "cell_type": "code",
   "execution_count": 9,
   "id": "313f9e53-3c9e-4147-b909-679950ec5277",
   "metadata": {},
   "outputs": [
    {
     "name": "stdout",
     "output_type": "stream",
     "text": [
      "Done\n"
     ]
    }
   ],
   "source": [
    "final_data = []\n",
    "for index,value in enumerate(soup.find_all('tr')):\n",
    "    data = value.text.strip().splitlines()\n",
    "    if 20<=index<=30:\n",
    "        final_data.append(data)\n",
    "\n",
    "print('Done')"
   ]
  },
  {
   "cell_type": "code",
   "execution_count": 10,
   "id": "9205f346-f687-4113-b5d4-3d2b60055d29",
   "metadata": {},
   "outputs": [
    {
     "name": "stdout",
     "output_type": "stream",
     "text": [
      "done\n"
     ]
    }
   ],
   "source": [
    "final_final_data = []\n",
    "\n",
    "for i in final_data:\n",
    "    while '' in i:\n",
    "        i.remove('')\n",
    "    temp_data = []\n",
    "    for j in i:\n",
    "        temp_data.append(j.strip())\n",
    "    final_final_data.append(temp_data)\n",
    "\n",
    "print('done')\n",
    "    "
   ]
  },
  {
   "cell_type": "code",
   "execution_count": 11,
   "id": "ac1d5ae0-80cd-41a9-b8cd-e132e43f51fe",
   "metadata": {},
   "outputs": [
    {
     "data": {
      "text/plain": [
       "['No.',\n",
       " 'Name',\n",
       " 'Net worth (USD)',\n",
       " 'Age',\n",
       " 'Nationality',\n",
       " 'Primary source(s) of wealth']"
      ]
     },
     "execution_count": 11,
     "metadata": {},
     "output_type": "execute_result"
    }
   ],
   "source": [
    "final_final_data[0]"
   ]
  },
  {
   "cell_type": "code",
   "execution_count": 12,
   "id": "8886fd94-ae70-46d9-96ec-22a42c4c0010",
   "metadata": {},
   "outputs": [],
   "source": [
    "import pandas as pd"
   ]
  },
  {
   "cell_type": "code",
   "execution_count": 13,
   "id": "6f9b476c-1ef6-49e0-a90c-477ebd0f814d",
   "metadata": {},
   "outputs": [
    {
     "data": {
      "text/html": [
       "<div>\n",
       "<style scoped>\n",
       "    .dataframe tbody tr th:only-of-type {\n",
       "        vertical-align: middle;\n",
       "    }\n",
       "\n",
       "    .dataframe tbody tr th {\n",
       "        vertical-align: top;\n",
       "    }\n",
       "\n",
       "    .dataframe thead th {\n",
       "        text-align: right;\n",
       "    }\n",
       "</style>\n",
       "<table border=\"1\" class=\"dataframe\">\n",
       "  <thead>\n",
       "    <tr style=\"text-align: right;\">\n",
       "      <th></th>\n",
       "      <th>No.</th>\n",
       "      <th>Name</th>\n",
       "      <th>Net worth (USD)</th>\n",
       "      <th>Age</th>\n",
       "      <th>Nationality</th>\n",
       "      <th>Primary source(s) of wealth</th>\n",
       "    </tr>\n",
       "  </thead>\n",
       "  <tbody>\n",
       "    <tr>\n",
       "      <th>0</th>\n",
       "      <td>1</td>\n",
       "      <td>Elon Musk</td>\n",
       "      <td>$342 billion</td>\n",
       "      <td>53</td>\n",
       "      <td>South Africa Canada United States</td>\n",
       "      <td>Tesla and SpaceX</td>\n",
       "    </tr>\n",
       "    <tr>\n",
       "      <th>1</th>\n",
       "      <td>2</td>\n",
       "      <td>Mark Zuckerberg</td>\n",
       "      <td>$216 billion</td>\n",
       "      <td>40</td>\n",
       "      <td>United States</td>\n",
       "      <td>Meta Platforms</td>\n",
       "    </tr>\n",
       "    <tr>\n",
       "      <th>2</th>\n",
       "      <td>3</td>\n",
       "      <td>Jeff Bezos</td>\n",
       "      <td>$215 billion</td>\n",
       "      <td>61</td>\n",
       "      <td>United States</td>\n",
       "      <td>Amazon</td>\n",
       "    </tr>\n",
       "    <tr>\n",
       "      <th>3</th>\n",
       "      <td>4</td>\n",
       "      <td>Larry Ellison</td>\n",
       "      <td>$192 billion</td>\n",
       "      <td>80</td>\n",
       "      <td>United States</td>\n",
       "      <td>Oracle Corporation</td>\n",
       "    </tr>\n",
       "    <tr>\n",
       "      <th>4</th>\n",
       "      <td>5</td>\n",
       "      <td>Bernard Arnault &amp; family</td>\n",
       "      <td>$178 billion</td>\n",
       "      <td>76</td>\n",
       "      <td>France</td>\n",
       "      <td>LVMH</td>\n",
       "    </tr>\n",
       "    <tr>\n",
       "      <th>5</th>\n",
       "      <td>6</td>\n",
       "      <td>Warren Buffett</td>\n",
       "      <td>$154 billion</td>\n",
       "      <td>94</td>\n",
       "      <td>United States</td>\n",
       "      <td>Berkshire Hathaway</td>\n",
       "    </tr>\n",
       "    <tr>\n",
       "      <th>6</th>\n",
       "      <td>7</td>\n",
       "      <td>Larry Page</td>\n",
       "      <td>$144 billion</td>\n",
       "      <td>52</td>\n",
       "      <td>United States</td>\n",
       "      <td>Google</td>\n",
       "    </tr>\n",
       "    <tr>\n",
       "      <th>7</th>\n",
       "      <td>8</td>\n",
       "      <td>Sergey Brin</td>\n",
       "      <td>$138 billion</td>\n",
       "      <td>51</td>\n",
       "      <td>United States</td>\n",
       "      <td>Google</td>\n",
       "    </tr>\n",
       "    <tr>\n",
       "      <th>8</th>\n",
       "      <td>9</td>\n",
       "      <td>Amancio Ortega</td>\n",
       "      <td>$124 billion</td>\n",
       "      <td>89</td>\n",
       "      <td>Spain</td>\n",
       "      <td>Inditex, Zara</td>\n",
       "    </tr>\n",
       "    <tr>\n",
       "      <th>9</th>\n",
       "      <td>10</td>\n",
       "      <td>Steve Ballmer</td>\n",
       "      <td>$118 billion</td>\n",
       "      <td>69</td>\n",
       "      <td>United States</td>\n",
       "      <td>Microsoft</td>\n",
       "    </tr>\n",
       "  </tbody>\n",
       "</table>\n",
       "</div>"
      ],
      "text/plain": [
       "  No.                      Name Net worth (USD) Age  \\\n",
       "0   1                 Elon Musk    $342 billion  53   \n",
       "1   2           Mark Zuckerberg    $216 billion  40   \n",
       "2   3                Jeff Bezos    $215 billion  61   \n",
       "3   4             Larry Ellison    $192 billion  80   \n",
       "4   5  Bernard Arnault & family    $178 billion  76   \n",
       "5   6            Warren Buffett    $154 billion  94   \n",
       "6   7                Larry Page    $144 billion  52   \n",
       "7   8               Sergey Brin    $138 billion  51   \n",
       "8   9            Amancio Ortega    $124 billion  89   \n",
       "9  10             Steve Ballmer    $118 billion  69   \n",
       "\n",
       "                         Nationality Primary source(s) of wealth  \n",
       "0  South Africa Canada United States            Tesla and SpaceX  \n",
       "1                      United States              Meta Platforms  \n",
       "2                      United States                      Amazon  \n",
       "3                      United States          Oracle Corporation  \n",
       "4                             France                        LVMH  \n",
       "5                      United States          Berkshire Hathaway  \n",
       "6                      United States                      Google  \n",
       "7                      United States                      Google  \n",
       "8                              Spain               Inditex, Zara  \n",
       "9                      United States                   Microsoft  "
      ]
     },
     "execution_count": 13,
     "metadata": {},
     "output_type": "execute_result"
    }
   ],
   "source": [
    "pd.DataFrame(final_final_data[1:],columns=final_final_data[0])"
   ]
  },
  {
   "cell_type": "code",
   "execution_count": 14,
   "id": "7607a934-c8b0-46e2-b408-4798603d62e0",
   "metadata": {},
   "outputs": [
    {
     "name": "stdout",
     "output_type": "stream",
     "text": [
      "Done12345\n"
     ]
    }
   ],
   "source": [
    "print('Done12345')"
   ]
  }
 ],
 "metadata": {
  "kernelspec": {
   "display_name": "Python [conda env:base] *",
   "language": "python",
   "name": "conda-base-py"
  },
  "language_info": {
   "codemirror_mode": {
    "name": "ipython",
    "version": 3
   },
   "file_extension": ".py",
   "mimetype": "text/x-python",
   "name": "python",
   "nbconvert_exporter": "python",
   "pygments_lexer": "ipython3",
   "version": "3.12.7"
  }
 },
 "nbformat": 4,
 "nbformat_minor": 5
}
