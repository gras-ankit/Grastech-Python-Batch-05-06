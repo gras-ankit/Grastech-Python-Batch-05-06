{
 "cells": [
  {
   "cell_type": "code",
   "execution_count": 1,
   "id": "7a35430f-f428-445a-9605-229736713d6d",
   "metadata": {},
   "outputs": [],
   "source": [
    "# Lambda:- map,filter, reduce"
   ]
  },
  {
   "cell_type": "code",
   "execution_count": 86,
   "id": "9e4be7a6-f3ea-4dee-a558-871fedac56cf",
   "metadata": {},
   "outputs": [],
   "source": [
    "import random\n",
    "data = [random.randint(100,1000) for i in range(10)]\n",
    "\n"
   ]
  },
  {
   "cell_type": "code",
   "execution_count": 88,
   "id": "438d3097-e04e-4170-9fb6-ce0d28430a95",
   "metadata": {},
   "outputs": [
    {
     "data": {
      "text/plain": [
       "[533, 416, 970, 655, 211, 738, 910, 438, 380, 634]"
      ]
     },
     "execution_count": 88,
     "metadata": {},
     "output_type": "execute_result"
    }
   ],
   "source": [
    "data"
   ]
  },
  {
   "cell_type": "code",
   "execution_count": 90,
   "id": "705161b4-8e6e-4ec1-b5b7-c2d6286a5b74",
   "metadata": {},
   "outputs": [],
   "source": [
    "# import math\n",
    "f\"{sale:.2f}\""
   ]
  },
  {
   "cell_type": "code",
   "execution_count": 104,
   "id": "e04d9013-add2-4ce2-a089-86a46ca8ca93",
   "metadata": {},
   "outputs": [
    {
     "name": "stdout",
     "output_type": "stream",
     "text": [
      "['639.60', '499.20', '1164.00', '786.00', '253.20', '885.60', '1092.00', '525.60', '456.00', '760.80']\n"
     ]
    }
   ],
   "source": [
    "projected_sales = list(map(lambda num: f\"{num*1.2:.2f}\",data))\n",
    "print(projected_sales)"
   ]
  },
  {
   "cell_type": "code",
   "execution_count": 50,
   "id": "a75d61ce-4c6e-4a5c-9169-2ede041c6a58",
   "metadata": {},
   "outputs": [
    {
     "data": {
      "text/plain": [
       "3456.457"
      ]
     },
     "execution_count": 50,
     "metadata": {},
     "output_type": "execute_result"
    }
   ],
   "source": [
    "round(3456.45678,3)"
   ]
  },
  {
   "cell_type": "code",
   "execution_count": 106,
   "id": "7bbedf9d-835c-4d41-8e58-74c22850263d",
   "metadata": {},
   "outputs": [],
   "source": [
    "# filter"
   ]
  },
  {
   "cell_type": "code",
   "execution_count": 108,
   "id": "e2f4f7a0-77e2-4150-a968-35d4a5c0b574",
   "metadata": {},
   "outputs": [
    {
     "data": {
      "text/plain": [
       "[533, 416, 970, 655, 211, 738, 910, 438, 380, 634]"
      ]
     },
     "execution_count": 108,
     "metadata": {},
     "output_type": "execute_result"
    }
   ],
   "source": [
    "data"
   ]
  },
  {
   "cell_type": "code",
   "execution_count": 118,
   "id": "40fb56c5-fab2-4b6a-9093-dffb686e57c9",
   "metadata": {},
   "outputs": [
    {
     "data": {
      "text/plain": [
       "<function __main__.<lambda>(num)>"
      ]
     },
     "execution_count": 118,
     "metadata": {},
     "output_type": "execute_result"
    }
   ],
   "source": [
    "lambda num: num if num % 2 == 0 else None"
   ]
  },
  {
   "cell_type": "code",
   "execution_count": 122,
   "id": "7d1f083c-6dfe-4197-81ac-77ce280c92b3",
   "metadata": {},
   "outputs": [
    {
     "data": {
      "text/plain": [
       "[None, 416, 970, None, None, 738, 910, 438, 380, 634]"
      ]
     },
     "execution_count": 122,
     "metadata": {},
     "output_type": "execute_result"
    }
   ],
   "source": [
    "list(map(lambda num: num if num % 2 == 0 else None,data))"
   ]
  },
  {
   "cell_type": "code",
   "execution_count": 132,
   "id": "d197fe32-f5f0-4a89-a067-22a5f439d1fa",
   "metadata": {},
   "outputs": [
    {
     "data": {
      "text/plain": [
       "[416, 970, 738, 910, 438, 380, 634]"
      ]
     },
     "execution_count": 132,
     "metadata": {},
     "output_type": "execute_result"
    }
   ],
   "source": [
    "list(filter(lambda num: num if num % 2 == 0 else None,data))"
   ]
  },
  {
   "cell_type": "code",
   "execution_count": 138,
   "id": "a35f267e-8af8-4089-a77f-63ab78d51c5c",
   "metadata": {},
   "outputs": [
    {
     "data": {
      "text/plain": [
       "[None, 416, 970, None, None, 738, 910, 438, 380, 634]"
      ]
     },
     "execution_count": 138,
     "metadata": {},
     "output_type": "execute_result"
    }
   ],
   "source": [
    "list(map(lambda num: num if num % 2 == 0 else None,data))"
   ]
  },
  {
   "cell_type": "code",
   "execution_count": 148,
   "id": "dace5a80-579b-4c14-8b06-40d45ee2e439",
   "metadata": {},
   "outputs": [
    {
     "data": {
      "text/plain": [
       "[416, 970, 738, 910, 438, 380, 634]"
      ]
     },
     "execution_count": 148,
     "metadata": {},
     "output_type": "execute_result"
    }
   ],
   "source": [
    "list(filter(lambda num: num if num % 2 == 0 else None,data))"
   ]
  },
  {
   "cell_type": "code",
   "execution_count": 150,
   "id": "d55f89ed-4d7a-4664-869a-28ccb40e6942",
   "metadata": {},
   "outputs": [],
   "source": [
    "# reduce"
   ]
  },
  {
   "cell_type": "code",
   "execution_count": 152,
   "id": "ed197a07-005e-4a79-a1d8-fb505f16426a",
   "metadata": {},
   "outputs": [],
   "source": [
    "profit = data"
   ]
  },
  {
   "cell_type": "code",
   "execution_count": 154,
   "id": "83c84021-988c-419d-b54f-51235c0d2eeb",
   "metadata": {},
   "outputs": [
    {
     "data": {
      "text/plain": [
       "[533, 416, 970, 655, 211, 738, 910, 438, 380, 634]"
      ]
     },
     "execution_count": 154,
     "metadata": {},
     "output_type": "execute_result"
    }
   ],
   "source": [
    "profit"
   ]
  },
  {
   "cell_type": "code",
   "execution_count": 156,
   "id": "33dff9b1-678f-4757-aca6-02f6f660c561",
   "metadata": {},
   "outputs": [
    {
     "data": {
      "text/plain": [
       "5885"
      ]
     },
     "execution_count": 156,
     "metadata": {},
     "output_type": "execute_result"
    }
   ],
   "source": [
    "sum(profit)"
   ]
  },
  {
   "cell_type": "code",
   "execution_count": 158,
   "id": "c803a165-94fe-4faf-8040-f8a4bbc6c60e",
   "metadata": {},
   "outputs": [
    {
     "data": {
      "text/plain": [
       "<function __main__.<lambda>(x, y)>"
      ]
     },
     "execution_count": 158,
     "metadata": {},
     "output_type": "execute_result"
    }
   ],
   "source": [
    "lambda x,y : x + y"
   ]
  },
  {
   "cell_type": "code",
   "execution_count": null,
   "id": "3220fd5d-bb3f-403e-961b-f92f2ee36a39",
   "metadata": {},
   "outputs": [],
   "source": []
  },
  {
   "cell_type": "code",
   "execution_count": 165,
   "id": "221e3ef4-4afe-4ca1-b9f8-5b227cab540c",
   "metadata": {},
   "outputs": [
    {
     "data": {
      "text/plain": [
       "5885"
      ]
     },
     "execution_count": 165,
     "metadata": {},
     "output_type": "execute_result"
    }
   ],
   "source": [
    "from functools import reduce\n",
    "reduce(lambda x,y : x + y,profit)"
   ]
  },
  {
   "cell_type": "code",
   "execution_count": 167,
   "id": "08b765b5-1be8-40f6-a86c-20f8f4457bdc",
   "metadata": {},
   "outputs": [
    {
     "data": {
      "text/plain": [
       "5885"
      ]
     },
     "execution_count": 167,
     "metadata": {},
     "output_type": "execute_result"
    }
   ],
   "source": [
    "sum(profit)"
   ]
  },
  {
   "cell_type": "code",
   "execution_count": 169,
   "id": "75843fb3-ba92-4fd6-8102-753654a1b6ba",
   "metadata": {},
   "outputs": [],
   "source": [
    "# 5! = \n",
    "# 5*4*3*2*1"
   ]
  },
  {
   "cell_type": "code",
   "execution_count": 173,
   "id": "372c5daa-3c6c-45d3-a2d5-d5c528c90cb4",
   "metadata": {},
   "outputs": [
    {
     "data": {
      "text/plain": [
       "[1, 2, 3, 4, 5]"
      ]
     },
     "execution_count": 173,
     "metadata": {},
     "output_type": "execute_result"
    }
   ],
   "source": [
    "num = 5\n",
    "list(range(1,num+1))"
   ]
  },
  {
   "cell_type": "code",
   "execution_count": 179,
   "id": "4f5e01c1-7908-4e31-aace-4b496a993844",
   "metadata": {},
   "outputs": [
    {
     "data": {
      "text/plain": [
       "6689502913449127057588118054090372586752746333138029810295671352301633557244962989366874165271984981308157637893214090552534408589408121859898481114389650005964960521256960000000000000000000000000000"
      ]
     },
     "execution_count": 179,
     "metadata": {},
     "output_type": "execute_result"
    }
   ],
   "source": [
    "num = 120\n",
    "reduce(lambda a,b : a*b,range(1,num+1))"
   ]
  },
  {
   "cell_type": "code",
   "execution_count": 185,
   "id": "3deba24f-d659-4040-a5e2-29f0425612b7",
   "metadata": {},
   "outputs": [
    {
     "data": {
      "text/plain": [
       "597469526809995"
      ]
     },
     "execution_count": 185,
     "metadata": {},
     "output_type": "execute_result"
    }
   ],
   "source": [
    "n = 34567890\n",
    "\n",
    "reduce(lambda a,b : a + b,range(1,n+1))"
   ]
  },
  {
   "cell_type": "code",
   "execution_count": null,
   "id": "4a9d799f-94e6-4959-9e3f-abfcd96d7dc9",
   "metadata": {},
   "outputs": [],
   "source": []
  },
  {
   "cell_type": "markdown",
   "id": "500556ad-2211-4522-8453-8194e0801a05",
   "metadata": {},
   "source": [
    "# Decorator"
   ]
  },
  {
   "cell_type": "code",
   "execution_count": 189,
   "id": "fc163e27-89ab-41fa-ade9-1624fa39eb75",
   "metadata": {},
   "outputs": [],
   "source": [
    "def basic():\n",
    "    print('I am just a Basic func!!')"
   ]
  },
  {
   "cell_type": "code",
   "execution_count": 191,
   "id": "7f9cf150-71ef-4bad-a3d8-5a45dfff12a9",
   "metadata": {},
   "outputs": [
    {
     "name": "stdout",
     "output_type": "stream",
     "text": [
      "I am just a Basic func!!\n"
     ]
    }
   ],
   "source": [
    "basic()"
   ]
  },
  {
   "cell_type": "code",
   "execution_count": 201,
   "id": "5d670c4d-d8dd-4f96-b7fe-523652614a8b",
   "metadata": {},
   "outputs": [],
   "source": [
    "def decorate_any_func(func):\n",
    "    func()\n",
    "    c = 1\n",
    "    import time\n",
    "    print('Decoration in Process!!',end = '')\n",
    "    while c<4:\n",
    "        print('.',end = '')\n",
    "        time.sleep(1)\n",
    "        c += 1\n",
    "    display(clear=True)\n",
    "    print('Now I have been decorated')"
   ]
  },
  {
   "cell_type": "code",
   "execution_count": 203,
   "id": "02ab31ef-2ea4-40c3-959e-b4880fe561ca",
   "metadata": {},
   "outputs": [
    {
     "name": "stdout",
     "output_type": "stream",
     "text": [
      "I am just a Basic func!!\n"
     ]
    }
   ],
   "source": [
    "basic()"
   ]
  },
  {
   "cell_type": "code",
   "execution_count": 205,
   "id": "0284cfb8-37fa-4445-89b6-3afec1bbae90",
   "metadata": {},
   "outputs": [
    {
     "name": "stdout",
     "output_type": "stream",
     "text": [
      "Now I have been decorated\n"
     ]
    }
   ],
   "source": [
    "decorate_any_func(basic)"
   ]
  },
  {
   "cell_type": "code",
   "execution_count": 207,
   "id": "8b13cdf2-5780-42fc-9cd4-c34278984b53",
   "metadata": {},
   "outputs": [],
   "source": [
    "def hello():\n",
    "    print('Hello buddy!!')"
   ]
  },
  {
   "cell_type": "code",
   "execution_count": 209,
   "id": "d580eaf2-1f55-4f85-a349-d2a9ba3569c9",
   "metadata": {},
   "outputs": [
    {
     "name": "stdout",
     "output_type": "stream",
     "text": [
      "Now I have been decorated\n"
     ]
    }
   ],
   "source": [
    "decorate_any_func(hello)"
   ]
  },
  {
   "cell_type": "code",
   "execution_count": 213,
   "id": "5720341a-8a4d-4f0c-91ef-f7119c56f0c8",
   "metadata": {},
   "outputs": [
    {
     "name": "stdout",
     "output_type": "stream",
     "text": [
      "Now I have been decorated\n"
     ]
    }
   ],
   "source": [
    "\n",
    "@decorate_any_func\n",
    "def say_hello():\n",
    "    print('\\nHello buddy!1, how are you??')"
   ]
  },
  {
   "cell_type": "code",
   "execution_count": null,
   "id": "7c977416-5589-40a6-8aa5-e0deea5b7784",
   "metadata": {},
   "outputs": [],
   "source": []
  },
  {
   "cell_type": "code",
   "execution_count": null,
   "id": "19c3084b-be8f-459e-8be2-3efc87c63622",
   "metadata": {},
   "outputs": [],
   "source": []
  },
  {
   "cell_type": "code",
   "execution_count": 217,
   "id": "871e09b9-d4bb-4e7c-92b4-f9bba81175e1",
   "metadata": {},
   "outputs": [],
   "source": [
    "# modules\n",
    "# File and exception\n",
    "\n",
    "# oops\n",
    "\n",
    "# Python to dbms"
   ]
  },
  {
   "cell_type": "code",
   "execution_count": 223,
   "id": "2a24a0d0-1f94-451a-8efa-35b479f38d48",
   "metadata": {},
   "outputs": [],
   "source": [
    "import time\n",
    "import random\n",
    "import math\n",
    "import string\n",
    "import os\n",
    "import pygame\n",
    "from functools import reduce\n",
    "import cowsay\n",
    "# from gtts import gtts\n",
    "import pandas as pd"
   ]
  },
  {
   "cell_type": "code",
   "execution_count": 225,
   "id": "5ebfd19e-bfab-4e07-947d-cb88b106f8dd",
   "metadata": {},
   "outputs": [],
   "source": [
    "import cowsay"
   ]
  },
  {
   "cell_type": "code",
   "execution_count": 227,
   "id": "4bc6310b-8328-4745-aa20-fce8b1493bb3",
   "metadata": {},
   "outputs": [
    {
     "name": "stdout",
     "output_type": "stream",
     "text": [
      "  _____\n",
      "| Hello |\n",
      "  =====\n",
      "     \\\n",
      "      \\\n",
      "        ^__^\n",
      "        (oo)\\_______\n",
      "        (__)\\       )\\/\\\n",
      "            ||----w |\n",
      "            ||     ||\n"
     ]
    }
   ],
   "source": [
    "cowsay.cow('Hello')"
   ]
  },
  {
   "cell_type": "code",
   "execution_count": 229,
   "id": "3ef7bed8-30cd-4fa2-8487-dbd2ebeb26e7",
   "metadata": {},
   "outputs": [
    {
     "name": "stdout",
     "output_type": "stream",
     "text": [
      "  _____________\n",
      "| Hello Buddy!! |\n",
      "  =============\n",
      "                    \\\n",
      "                     \\\n",
      "                      \\\n",
      "                       \\\n",
      "                          .-=-==--==--.\n",
      "                    ..-==\"  ,'o`)      `.\n",
      "                  ,'         `\"'         \\\n",
      "                 :  (                     `.__...._\n",
      "                 |                  )    /         `-=-.\n",
      "                 :       ,vv.-._   /    /               `---==-._\n",
      "                  \\/\\/\\/VV ^ d88`;'    /                         `.\n",
      "                      ``  ^/d88P!'    /             ,              `._\n",
      "                         ^/    !'   ,.      ,      /                  \"-,,__,,--'\"\"\"\"-.\n",
      "                        ^/    !'  ,'  \\ . .(      (         _           )  ) ) ) ))_,-.\\\n",
      "                       ^(__ ,!',\"'   ;:+.:%:a.     \\:.. . ,'          )  )  ) ) ,\"'    '\n",
      "                       ',,,'','     /o:::\":%:%a.    \\:.:.:         .    )  ) _,'\n",
      "                        \"\"\"'       ;':::'' `+%%%a._  \\%:%|         ;.). _,-\"\"\n",
      "                               ,-='_.-'      ``:%::)  )%:|        /:._,\"\n",
      "                              (/(/\"           ,\" ,'_,'%%%:       (_,'\n",
      "                                             (  (//(`.___;        \\\n",
      "                                              \\     \\    `         `\n",
      "                                               `.    `.   `.        :\n",
      "                                                 \\. . .\\    : . . . :\n",
      "                                                  \\. . .:    `.. . .:\n",
      "                                                   `..:.:\\     \\:...\\\n",
      "                                                    ;:.:.;      ::...:\n",
      "                                                    ):%::       :::::;\n",
      "                                                __,::%:(        :::::\n",
      "                                             ,;:%%%%%%%:        ;:%::\n",
      "                                               ;,--\"\"-.`\\  ,=--':%:%:\\\n",
      "                                              /\"       \"| /-\".:%%%%%%%\\\n",
      "                                                              ;,-\"'`)%%)\n",
      "                                                             /\"      \"|\n"
     ]
    }
   ],
   "source": [
    "cowsay.trex('Hello Buddy!!')"
   ]
  },
  {
   "cell_type": "code",
   "execution_count": 231,
   "id": "a810eba4-cb67-4abc-8896-d697a70ec8d6",
   "metadata": {},
   "outputs": [],
   "source": [
    "# external modules\n",
    "# pip install cowsay"
   ]
  },
  {
   "cell_type": "code",
   "execution_count": 270,
   "id": "b7a58a4e-85cf-4699-ae68-0aa36d887c60",
   "metadata": {},
   "outputs": [
    {
     "ename": "KeyboardInterrupt",
     "evalue": "",
     "output_type": "error",
     "traceback": [
      "\u001b[1;31m---------------------------------------------------------------------------\u001b[0m",
      "\u001b[1;31mKeyboardInterrupt\u001b[0m                         Traceback (most recent call last)",
      "Cell \u001b[1;32mIn[270], line 10\u001b[0m\n\u001b[0;32m      8\u001b[0m name \u001b[38;5;241m=\u001b[39m random\u001b[38;5;241m.\u001b[39mchoice(companies)\n\u001b[0;32m      9\u001b[0m price \u001b[38;5;241m=\u001b[39m random\u001b[38;5;241m.\u001b[39mrandint(\u001b[38;5;241m100\u001b[39m,\u001b[38;5;241m1000\u001b[39m)\n\u001b[1;32m---> 10\u001b[0m time\u001b[38;5;241m.\u001b[39msleep(num)\n\u001b[0;32m     11\u001b[0m notification\u001b[38;5;241m.\u001b[39mnotify(title \u001b[38;5;241m=\u001b[39m \u001b[38;5;124mf\u001b[39m\u001b[38;5;124m\"\u001b[39m\u001b[38;5;132;01m{\u001b[39;00mname\u001b[38;5;132;01m}\u001b[39;00m\u001b[38;5;124m Buy Call\u001b[39m\u001b[38;5;124m\"\u001b[39m,message\u001b[38;5;241m=\u001b[39m\u001b[38;5;124mf\u001b[39m\u001b[38;5;124m\"\u001b[39m\u001b[38;5;132;01m{\u001b[39;00mname\u001b[38;5;132;01m}\u001b[39;00m\u001b[38;5;124m has crossed Rs \u001b[39m\u001b[38;5;132;01m{\u001b[39;00mprice\u001b[38;5;132;01m}\u001b[39;00m\u001b[38;5;124m, Buy alert!!\u001b[39m\u001b[38;5;124m\"\u001b[39m ,timeout\u001b[38;5;241m=\u001b[39m\u001b[38;5;241m2\u001b[39m)\n\u001b[0;32m     12\u001b[0m music \u001b[38;5;241m=\u001b[39m pygame\u001b[38;5;241m.\u001b[39mmixer\u001b[38;5;241m.\u001b[39mSound(\u001b[38;5;124mr\u001b[39m\u001b[38;5;124m\"\u001b[39m\u001b[38;5;124mC:\u001b[39m\u001b[38;5;124m\\\u001b[39m\u001b[38;5;124mUsers\u001b[39m\u001b[38;5;124m\\\u001b[39m\u001b[38;5;124msalma\u001b[39m\u001b[38;5;124m\\\u001b[39m\u001b[38;5;124mDownloads\u001b[39m\u001b[38;5;124m\\\u001b[39m\u001b[38;5;124mchime-alert-demo-309545.mp3\u001b[39m\u001b[38;5;124m\"\u001b[39m)\n",
      "\u001b[1;31mKeyboardInterrupt\u001b[0m: "
     ]
    }
   ],
   "source": [
    "import time\n",
    "from plyer import notification\n",
    "import pygame\n",
    "pygame.init()\n",
    "while True:\n",
    "    num = random.randint(1,60)\n",
    "    companies = ['SBI','AXIS','RELIANCE','ADANI POWER','TCS','WIPRO']\n",
    "    name = random.choice(companies)\n",
    "    price = random.randint(100,1000)\n",
    "    time.sleep(num)\n",
    "    notification.notify(title = f\"{name} Buy Call\",message=f\"{name} has crossed Rs {price}, Buy alert!!\" ,timeout=2)\n",
    "    music = pygame.mixer.Sound(r\"C:\\Users\\salma\\Downloads\\chime-alert-demo-309545.mp3\")\n",
    "    music.play()"
   ]
  },
  {
   "cell_type": "code",
   "execution_count": 234,
   "id": "79150a6c-9b79-47a2-bafb-0f70cd76d93d",
   "metadata": {},
   "outputs": [],
   "source": [
    "import winsound"
   ]
  },
  {
   "cell_type": "code",
   "execution_count": 250,
   "id": "bb777d83-cc8d-40c6-b423-e47ed49307dc",
   "metadata": {},
   "outputs": [],
   "source": [
    "winsound.Beep(100,1000)"
   ]
  },
  {
   "cell_type": "code",
   "execution_count": 266,
   "id": "01a1b3e0-205a-44a4-8aab-737388395bb0",
   "metadata": {},
   "outputs": [],
   "source": [
    "winsound.MessageBeep()"
   ]
  },
  {
   "cell_type": "code",
   "execution_count": 271,
   "id": "fab49986-beba-4b61-875c-dd1da349bc01",
   "metadata": {},
   "outputs": [],
   "source": [
    "import IPython"
   ]
  },
  {
   "cell_type": "code",
   "execution_count": 273,
   "id": "55cdfe7f-deb8-4939-a1cb-fd60478a896f",
   "metadata": {},
   "outputs": [],
   "source": [
    "from IPython import display"
   ]
  },
  {
   "cell_type": "code",
   "execution_count": 275,
   "id": "a1c03c83-2f6b-491f-973a-d76a31dfef49",
   "metadata": {},
   "outputs": [],
   "source": [
    "import turtle"
   ]
  },
  {
   "cell_type": "code",
   "execution_count": 277,
   "id": "4f4d60e2-e2f4-4cfb-9a8d-d15c958d8aa4",
   "metadata": {},
   "outputs": [],
   "source": [
    "ans = turtle.textinput(prompt = 'Select your option: ',title = 'KBC Game')"
   ]
  },
  {
   "cell_type": "code",
   "execution_count": 279,
   "id": "5aa9db58-0410-4a05-9824-dff70e45f35a",
   "metadata": {},
   "outputs": [
    {
     "data": {
      "text/plain": [
       "'a'"
      ]
     },
     "execution_count": 279,
     "metadata": {},
     "output_type": "execute_result"
    }
   ],
   "source": [
    "ans"
   ]
  },
  {
   "cell_type": "code",
   "execution_count": 281,
   "id": "f7177690-619b-4141-b780-e9ab3e557d1c",
   "metadata": {},
   "outputs": [
    {
     "data": {
      "text/plain": [
       "-488.0"
      ]
     },
     "execution_count": 281,
     "metadata": {},
     "output_type": "execute_result"
    }
   ],
   "source": [
    "ans = turtle.textinput(prompt = 'Write here',title = 'Calculator!!')\n",
    "eval(ans)"
   ]
  },
  {
   "cell_type": "code",
   "execution_count": null,
   "id": "dff6ec8d-54fb-4efd-910b-77aa739dbfab",
   "metadata": {},
   "outputs": [],
   "source": []
  }
 ],
 "metadata": {
  "kernelspec": {
   "display_name": "Python [conda env:base] *",
   "language": "python",
   "name": "conda-base-py"
  },
  "language_info": {
   "codemirror_mode": {
    "name": "ipython",
    "version": 3
   },
   "file_extension": ".py",
   "mimetype": "text/x-python",
   "name": "python",
   "nbconvert_exporter": "python",
   "pygments_lexer": "ipython3",
   "version": "3.12.7"
  }
 },
 "nbformat": 4,
 "nbformat_minor": 5
}
