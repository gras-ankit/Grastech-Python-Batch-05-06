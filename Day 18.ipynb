{
 "cells": [
  {
   "cell_type": "code",
   "execution_count": 1,
   "id": "98d5098a-7451-49ea-bbb1-06cd250896fd",
   "metadata": {},
   "outputs": [],
   "source": [
    "# Patterns\n",
    "# Functions\n",
    "# Exceptions\n",
    "# File handling\n",
    "# OOPS\n",
    "# Python:- Database connectivity\n",
    "# Project\n",
    "# =====================================\n",
    "# Data Analytic Libraries/Modules"
   ]
  },
  {
   "cell_type": "code",
   "execution_count": 3,
   "id": "be2dbfb9-e43d-410a-9d65-b5c1984eeac8",
   "metadata": {},
   "outputs": [],
   "source": [
    "# import pandas "
   ]
  },
  {
   "cell_type": "code",
   "execution_count": 5,
   "id": "3388b054-89fb-4dc2-8b54-e7944ad1142e",
   "metadata": {},
   "outputs": [],
   "source": [
    "# Patterns"
   ]
  },
  {
   "cell_type": "code",
   "execution_count": 9,
   "id": "481643e0-2dea-453d-b2a8-aedc8e1028f7",
   "metadata": {},
   "outputs": [],
   "source": [
    "# Anagram\n",
    "# Fibonnaci Series\n",
    "# armstrong number\n",
    "# Prime Number\n",
    "# palindrome\n",
    "# Reverse string using loop\n",
    "\n",
    "# =================\n",
    "# Patterns"
   ]
  },
  {
   "cell_type": "code",
   "execution_count": 39,
   "id": "bcc94fbc-5f56-40d1-86ef-d500c32b4bf0",
   "metadata": {},
   "outputs": [
    {
     "name": "stdout",
     "output_type": "stream",
     "text": [
      "Not a Palindrome\n"
     ]
    }
   ],
   "source": [
    "# palindrome:- \n",
    "\n",
    "word = 345\n",
    "word = str(word)\n",
    "print('Palindrome') if word.lower() == word.lower()[::-1] else print('Not a Palindrome')"
   ]
  },
  {
   "cell_type": "code",
   "execution_count": 41,
   "id": "af619cd1-725b-4818-9bb3-46dd2ce0732f",
   "metadata": {},
   "outputs": [],
   "source": [
    "# Reverse string using loop"
   ]
  },
  {
   "cell_type": "code",
   "execution_count": 43,
   "id": "3a784516-fd80-49bf-a945-cfbe97764442",
   "metadata": {},
   "outputs": [],
   "source": [
    "data = 'we are learning Python'"
   ]
  },
  {
   "cell_type": "code",
   "execution_count": 45,
   "id": "e6ba0fb7-5f33-4f67-a4e2-622d8096502c",
   "metadata": {},
   "outputs": [
    {
     "data": {
      "text/plain": [
       "'nohtyP gninrael era ew'"
      ]
     },
     "execution_count": 45,
     "metadata": {},
     "output_type": "execute_result"
    }
   ],
   "source": [
    "data[::-1]"
   ]
  },
  {
   "cell_type": "code",
   "execution_count": 49,
   "id": "58f3a664-46b3-4c39-ac06-afbb9323b1e7",
   "metadata": {},
   "outputs": [],
   "source": [
    "# for i in data[::-1]:\n",
    "#     print(i,end = '')"
   ]
  },
  {
   "cell_type": "code",
   "execution_count": 63,
   "id": "274be455-2310-4cf5-9320-c45f6757d63c",
   "metadata": {},
   "outputs": [
    {
     "name": "stdout",
     "output_type": "stream",
     "text": [
      "Not a Palindrome\n"
     ]
    }
   ],
   "source": [
    "data = 'ajay'\n",
    "ans = ''\n",
    "\n",
    "for i in range(-1,-len(data)-1,-1):\n",
    "    ans += data[i]\n",
    "    \n",
    "if data == ans:\n",
    "    print('Palindrome')\n",
    "else:\n",
    "    print('Not a Palindrome')"
   ]
  },
  {
   "cell_type": "code",
   "execution_count": 67,
   "id": "b85ce44d-280b-4aa0-8129-7f9df09f5d3b",
   "metadata": {},
   "outputs": [],
   "source": [
    "# Anagram\n",
    "# Fibonnaci Series\n",
    "# armstrong number"
   ]
  },
  {
   "cell_type": "code",
   "execution_count": 69,
   "id": "f98b592d-a1af-4eca-ac50-5963837af93d",
   "metadata": {},
   "outputs": [],
   "source": [
    "# Fibonnaci Series"
   ]
  },
  {
   "cell_type": "code",
   "execution_count": 91,
   "id": "53c69e7e-bb75-42b6-a964-8ae6b38fad85",
   "metadata": {},
   "outputs": [
    {
     "name": "stdout",
     "output_type": "stream",
     "text": [
      "Fibonnaci Series: [0, 1, 1, 2, 3, 5, 8, 13, 21, 34, 55, 89, 144, 233, 377]\n"
     ]
    }
   ],
   "source": [
    "n = 15\n",
    "fibo = [0,1]\n",
    "\n",
    "for i in range(n-2):\n",
    "    next_num = fibo[-1] + fibo[-2]\n",
    "    fibo.append(next_num)\n",
    "print(f'Fibonnaci Series: {fibo}')"
   ]
  },
  {
   "attachments": {},
   "cell_type": "markdown",
   "id": "23ff1cf2-c396-4ac6-b6be-7e118d4fbec4",
   "metadata": {},
   "source": [
    "<h3 style=\"color: red;\">Fibonacci Series</h3>\n",
    "<img src = 'https://mathmonks.com/wp-content/uploads/2023/12/Fibonacci-Sequence-Numbers.jpg' width = 400 height = 400 ></img>"
   ]
  },
  {
   "cell_type": "markdown",
   "id": "3d9299a2-d3a9-44b6-b049-c6edbe10f8e0",
   "metadata": {},
   "source": [
    "# Anagram"
   ]
  },
  {
   "cell_type": "code",
   "execution_count": 125,
   "id": "85eaebc9-9697-4a42-8c56-3caf78c867b4",
   "metadata": {},
   "outputs": [
    {
     "name": "stdout",
     "output_type": "stream",
     "text": [
      "Not an Anagram\n"
     ]
    }
   ],
   "source": [
    "word1 = 'earth'\n",
    "word2 = 'heartt'\n",
    "\n",
    "word_1_dict = {}\n",
    "word_2_dict = {}\n",
    "\n",
    "for i in word1:    \n",
    "    word_1_dict[i] = word1.count(i)\n",
    "    \n",
    "for j in word2:\n",
    "    word_2_dict[j] = word2.count(j)\n",
    "\n",
    "print('Anagram') if word_1_dict == word_2_dict else print('Not an Anagram')"
   ]
  },
  {
   "cell_type": "code",
   "execution_count": null,
   "id": "3fad40cc-0bbd-418e-aa92-3932c86053f6",
   "metadata": {},
   "outputs": [],
   "source": []
  },
  {
   "cell_type": "code",
   "execution_count": 127,
   "id": "79ad6321-9288-4d3d-b873-c82358342e64",
   "metadata": {},
   "outputs": [],
   "source": [
    "data = []"
   ]
  },
  {
   "cell_type": "code",
   "execution_count": 131,
   "id": "c66f64c5-36a5-4cb3-b110-ef0b76648a4e",
   "metadata": {},
   "outputs": [],
   "source": [
    "data = 120"
   ]
  },
  {
   "cell_type": "code",
   "execution_count": 133,
   "id": "2cdd47f4-7f83-4dd9-8d0c-e219555ae4fa",
   "metadata": {},
   "outputs": [
    {
     "data": {
      "text/plain": [
       "120"
      ]
     },
     "execution_count": 133,
     "metadata": {},
     "output_type": "execute_result"
    }
   ],
   "source": [
    "data"
   ]
  },
  {
   "cell_type": "code",
   "execution_count": 135,
   "id": "3f2f0276-896a-435e-8b98-71f169258be5",
   "metadata": {},
   "outputs": [
    {
     "ename": "NameError",
     "evalue": "name 'xrange' is not defined",
     "output_type": "error",
     "traceback": [
      "\u001b[1;31m---------------------------------------------------------------------------\u001b[0m",
      "\u001b[1;31mNameError\u001b[0m                                 Traceback (most recent call last)",
      "Cell \u001b[1;32mIn[135], line 1\u001b[0m\n\u001b[1;32m----> 1\u001b[0m xrange(\u001b[38;5;241m1\u001b[39m,\u001b[38;5;241m10\u001b[39m)\n",
      "\u001b[1;31mNameError\u001b[0m: name 'xrange' is not defined"
     ]
    }
   ],
   "source": [
    "xrange(1,10)"
   ]
  },
  {
   "cell_type": "code",
   "execution_count": 137,
   "id": "a602281a-af63-420e-8a33-1c055aa7bf4e",
   "metadata": {},
   "outputs": [],
   "source": [
    "# armstrong number"
   ]
  },
  {
   "cell_type": "code",
   "execution_count": 139,
   "id": "094160ed-8869-4b1c-b18e-d25dfbab88c6",
   "metadata": {},
   "outputs": [
    {
     "data": {
      "text/plain": [
       "153"
      ]
     },
     "execution_count": 139,
     "metadata": {},
     "output_type": "execute_result"
    }
   ],
   "source": [
    "153"
   ]
  },
  {
   "cell_type": "code",
   "execution_count": 141,
   "id": "966b7b30-2581-4d0c-a016-e09de3caf860",
   "metadata": {},
   "outputs": [
    {
     "data": {
      "text/plain": [
       "153"
      ]
     },
     "execution_count": 141,
     "metadata": {},
     "output_type": "execute_result"
    }
   ],
   "source": [
    "1**3  + 5**3 + 3**3"
   ]
  },
  {
   "cell_type": "code",
   "execution_count": 143,
   "id": "77b5ed96-5529-42d1-a899-b4e512bf3b4d",
   "metadata": {},
   "outputs": [],
   "source": [
    "# 1634"
   ]
  },
  {
   "cell_type": "code",
   "execution_count": 145,
   "id": "53401cfd-81c4-4e52-9c0f-c4cd796ade2a",
   "metadata": {},
   "outputs": [
    {
     "data": {
      "text/plain": [
       "1634"
      ]
     },
     "execution_count": 145,
     "metadata": {},
     "output_type": "execute_result"
    }
   ],
   "source": [
    "1**4 + 6**4 + 3**4 + 4**4"
   ]
  },
  {
   "cell_type": "code",
   "execution_count": 147,
   "id": "22478251-9b41-4559-86dc-eae389368024",
   "metadata": {},
   "outputs": [],
   "source": [
    "num = 1634"
   ]
  },
  {
   "cell_type": "code",
   "execution_count": 151,
   "id": "97204356-5290-49c6-9262-2e80ca175dbe",
   "metadata": {},
   "outputs": [
    {
     "data": {
      "text/plain": [
       "4"
      ]
     },
     "execution_count": 151,
     "metadata": {},
     "output_type": "execute_result"
    }
   ],
   "source": [
    "len(str(num))"
   ]
  },
  {
   "cell_type": "code",
   "execution_count": 171,
   "id": "53d4fc70-1c6b-460f-868a-589b43652bbd",
   "metadata": {},
   "outputs": [
    {
     "name": "stdout",
     "output_type": "stream",
     "text": [
      "Armstrong\n"
     ]
    }
   ],
   "source": [
    "num = 1634\n",
    "ans = 0\n",
    "for i in str(num):\n",
    "    pw = len(str(num))\n",
    "    ans += int(i)**pw\n",
    "print('Armstrong') if ans == num else print('Nahi')"
   ]
  },
  {
   "cell_type": "code",
   "execution_count": null,
   "id": "2f08f2ce-81d3-4957-a083-dd0bdbfe37f8",
   "metadata": {},
   "outputs": [],
   "source": []
  }
 ],
 "metadata": {
  "kernelspec": {
   "display_name": "Python [conda env:base] *",
   "language": "python",
   "name": "conda-base-py"
  },
  "language_info": {
   "codemirror_mode": {
    "name": "ipython",
    "version": 3
   },
   "file_extension": ".py",
   "mimetype": "text/x-python",
   "name": "python",
   "nbconvert_exporter": "python",
   "pygments_lexer": "ipython3",
   "version": "3.12.7"
  }
 },
 "nbformat": 4,
 "nbformat_minor": 5
}
