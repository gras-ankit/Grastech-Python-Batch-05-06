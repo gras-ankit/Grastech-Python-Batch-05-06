{
 "cells": [
  {
   "cell_type": "markdown",
   "id": "08f55368-e7fe-4d45-b793-2de97993996f",
   "metadata": {},
   "source": [
    "# Modules"
   ]
  },
  {
   "cell_type": "code",
   "execution_count": 2,
   "id": "0d236426-54f9-463d-95bc-7211883c66ae",
   "metadata": {},
   "outputs": [],
   "source": [
    "# Collection of class level of code or just func level code "
   ]
  },
  {
   "cell_type": "code",
   "execution_count": 4,
   "id": "53afdaed-bf7a-41d6-8cd2-4cca7157c6a6",
   "metadata": {},
   "outputs": [],
   "source": [
    "import random"
   ]
  },
  {
   "cell_type": "code",
   "execution_count": 6,
   "id": "11093316-5eb5-4f7a-99e2-624afae7512d",
   "metadata": {},
   "outputs": [],
   "source": [
    "from random import randint"
   ]
  },
  {
   "cell_type": "code",
   "execution_count": 10,
   "id": "67e579ee-3c86-45a3-a2bc-36257a5de55f",
   "metadata": {},
   "outputs": [
    {
     "data": {
      "text/plain": [
       "1"
      ]
     },
     "execution_count": 10,
     "metadata": {},
     "output_type": "execute_result"
    }
   ],
   "source": [
    "randint(1,10)"
   ]
  },
  {
   "cell_type": "code",
   "execution_count": 12,
   "id": "e1234ea9-19ac-4018-98e6-2886080677da",
   "metadata": {},
   "outputs": [],
   "source": [
    "import cowsay"
   ]
  },
  {
   "cell_type": "code",
   "execution_count": 14,
   "id": "a44924b4-8736-46ea-836b-08abb0ba9c61",
   "metadata": {},
   "outputs": [
    {
     "name": "stdout",
     "output_type": "stream",
     "text": [
      "  _____\n",
      "| Hello |\n",
      "  =====\n",
      "            \\\n",
      "             \\\n",
      "              \\\n",
      "               \\\n",
      "                  .-=-==--==--.\n",
      "            ..-==\"  ,'o`)      `.\n",
      "          ,'         `\"'         \\\n",
      "         :  (                     `.__...._\n",
      "         |                  )    /         `-=-.\n",
      "         :       ,vv.-._   /    /               `---==-._\n",
      "          \\/\\/\\/VV ^ d88`;'    /                         `.\n",
      "              ``  ^/d88P!'    /             ,              `._\n",
      "                 ^/    !'   ,.      ,      /                  \"-,,__,,--'\"\"\"\"-.\n",
      "                ^/    !'  ,'  \\ . .(      (         _           )  ) ) ) ))_,-.\\\n",
      "               ^(__ ,!',\"'   ;:+.:%:a.     \\:.. . ,'          )  )  ) ) ,\"'    '\n",
      "               ',,,'','     /o:::\":%:%a.    \\:.:.:         .    )  ) _,'\n",
      "                \"\"\"'       ;':::'' `+%%%a._  \\%:%|         ;.). _,-\"\"\n",
      "                       ,-='_.-'      ``:%::)  )%:|        /:._,\"\n",
      "                      (/(/\"           ,\" ,'_,'%%%:       (_,'\n",
      "                                     (  (//(`.___;        \\\n",
      "                                      \\     \\    `         `\n",
      "                                       `.    `.   `.        :\n",
      "                                         \\. . .\\    : . . . :\n",
      "                                          \\. . .:    `.. . .:\n",
      "                                           `..:.:\\     \\:...\\\n",
      "                                            ;:.:.;      ::...:\n",
      "                                            ):%::       :::::;\n",
      "                                        __,::%:(        :::::\n",
      "                                     ,;:%%%%%%%:        ;:%::\n",
      "                                       ;,--\"\"-.`\\  ,=--':%:%:\\\n",
      "                                      /\"       \"| /-\".:%%%%%%%\\\n",
      "                                                      ;,-\"'`)%%)\n",
      "                                                     /\"      \"|\n"
     ]
    }
   ],
   "source": [
    "cowsay.trex('Hello')"
   ]
  },
  {
   "cell_type": "code",
   "execution_count": 18,
   "id": "9dc6f83f-439e-466f-b262-baf40a354f63",
   "metadata": {},
   "outputs": [],
   "source": [
    "from cowsay import trex, cow, fox, octopus"
   ]
  },
  {
   "cell_type": "code",
   "execution_count": 20,
   "id": "15d6a97e-5e7b-42a6-a88c-7738223d82dc",
   "metadata": {},
   "outputs": [
    {
     "name": "stdout",
     "output_type": "stream",
     "text": [
      "  _____\n",
      "| Joker |\n",
      "  =====\n",
      "     \\\n",
      "      \\\n",
      "        ^__^\n",
      "        (oo)\\_______\n",
      "        (__)\\       )\\/\\\n",
      "            ||----w |\n",
      "            ||     ||\n"
     ]
    }
   ],
   "source": [
    "cow('Joker')"
   ]
  },
  {
   "cell_type": "code",
   "execution_count": 22,
   "id": "925e14d1-81b2-416b-a739-50db37898ff1",
   "metadata": {},
   "outputs": [
    {
     "name": "stdout",
     "output_type": "stream",
     "text": [
      "  _____\n",
      "| Hello |\n",
      "  =====\n",
      "      \\\n",
      "       \\\n",
      "        \\\n",
      "         |\\_/|,,_____,~~`\n",
      "         (.\".)~~     )`~}}\n",
      "          \\o/\\ /---~\\\\ ~}}\n",
      "            _//    _// ~}\n"
     ]
    }
   ],
   "source": [
    "fox('Hello')"
   ]
  },
  {
   "cell_type": "code",
   "execution_count": 24,
   "id": "a1f818bc-641d-44dc-86ed-a07bed7679c8",
   "metadata": {},
   "outputs": [],
   "source": [
    "import pandas as pd"
   ]
  },
  {
   "cell_type": "code",
   "execution_count": 26,
   "id": "3d191df2-5d2b-46dc-9753-a7a00f9740f2",
   "metadata": {},
   "outputs": [],
   "source": [
    "import math as m"
   ]
  },
  {
   "cell_type": "code",
   "execution_count": 28,
   "id": "fc0ae32c-946b-4d9b-a7fd-dc2f4555272b",
   "metadata": {},
   "outputs": [
    {
     "data": {
      "text/plain": [
       "3.141592653589793"
      ]
     },
     "execution_count": 28,
     "metadata": {},
     "output_type": "execute_result"
    }
   ],
   "source": [
    "m.pi"
   ]
  },
  {
   "cell_type": "code",
   "execution_count": 36,
   "id": "dae4d452-889e-474b-84c7-48cfbb28fb9c",
   "metadata": {},
   "outputs": [],
   "source": [
    "from cowsay import *"
   ]
  },
  {
   "cell_type": "code",
   "execution_count": 32,
   "id": "a5358135-0a97-4118-8df7-8119e414db78",
   "metadata": {},
   "outputs": [
    {
     "name": "stdout",
     "output_type": "stream",
     "text": [
      "  _____\n",
      "| Joker |\n",
      "  =====\n",
      "     \\\n",
      "      \\                  &************************&\n",
      "       \\             &******************************&\n",
      "        \\          &**********************************&\n",
      "                 &**************************************&\n",
      "               &*****************************************&\n",
      "              &*******************************************&\n",
      "             &*********************************************&\n",
      "            &***********************************************&\n",
      "           &************************************************&\n",
      "           &***#########********#########*******************&\n",
      "           &*##       ##########          ##################&\n",
      "           &*##   O   ##@**####   O       ##***************&\n",
      "           &***#########@*******#########*****************&\n",
      "           &***********@*********************************&\n",
      "           &**********@*********************************&\n",
      "           &*********@*********************************&\n",
      "           &********@@*********************************&\n",
      "            &*******@@@@@@****************************&\n",
      "             &**************************************&\n",
      "               &**************************************&\n",
      "                &******@@@@@@@@@@@@*********************&\n",
      "                  &*************************************&\n",
      "                    &************************************&\n",
      "                          &*******************************&\n",
      "                            &*****************************&\n"
     ]
    }
   ],
   "source": [
    "miki('Joker')"
   ]
  },
  {
   "cell_type": "code",
   "execution_count": 34,
   "id": "f78d1ff3-f383-468e-a5f9-0c5e2cec4b03",
   "metadata": {},
   "outputs": [
    {
     "name": "stdout",
     "output_type": "stream",
     "text": [
      "  _____\n",
      "| Joker |\n",
      "  =====\n",
      "     \\\n",
      "      \\\n",
      "       \\\n",
      "        \\\n",
      "                       _ ___.--'''`--''//-,-_--_.\n",
      "           \\\\`\"' ` || \\\\\\\\ \\\\ \\\\\\\\/ / // / ,-\\\\\\\\`,_\n",
      "          /'`  \\\\ \\\\ || Y  | \\\\|/ / // / - |__ `-,\n",
      "         /\\@\"\\\\  ` \\\\ `\\\\ |  | ||/ // | \\\\/  \\\\  `-._`-,_.,\n",
      "        /  _.-. `.-\\\\,___/\\\\ _/|_/_\\\\_\\\\/|_/ |     `-._._)\n",
      "        `-'``/  /  |  // \\\\__/\\\\__  /  \\\\__/ \\\\\n",
      "             `-'  /-\\\\/  | -|   \\\\__ \\\\   |-' |\n",
      "               __/\\\\ / _/ \\\\/ __,-'   ) ,' _|'\n",
      "              (((__/(((_.' ((___..-'((__,'\n"
     ]
    }
   ],
   "source": [
    "meow('Joker')"
   ]
  },
  {
   "cell_type": "code",
   "execution_count": 42,
   "id": "7f78e2e6-d532-45fa-a692-5c0d45c6bd2d",
   "metadata": {},
   "outputs": [],
   "source": [
    "import pandas as pd\n",
    "import numpy as np"
   ]
  },
  {
   "cell_type": "code",
   "execution_count": null,
   "id": "230dc017-0e14-4fb6-9d25-ce9452a69167",
   "metadata": {},
   "outputs": [],
   "source": []
  },
  {
   "cell_type": "code",
   "execution_count": 1,
   "id": "a94dc437-fd47-40ca-8787-3f71b2e24661",
   "metadata": {},
   "outputs": [
    {
     "name": "stdout",
     "output_type": "stream",
     "text": [
      "Done\n"
     ]
    }
   ],
   "source": [
    "import isha\n",
    "print('Done')"
   ]
  },
  {
   "cell_type": "code",
   "execution_count": 47,
   "id": "2cc7782c-7471-4568-9e26-88536b04eae0",
   "metadata": {},
   "outputs": [
    {
     "ename": "ModuleNotFoundError",
     "evalue": "No module named 'ankit'",
     "output_type": "error",
     "traceback": [
      "\u001b[1;31m---------------------------------------------------------------------------\u001b[0m",
      "\u001b[1;31mModuleNotFoundError\u001b[0m                       Traceback (most recent call last)",
      "Cell \u001b[1;32mIn[47], line 1\u001b[0m\n\u001b[1;32m----> 1\u001b[0m \u001b[38;5;28;01mimport\u001b[39;00m \u001b[38;5;21;01mankit\u001b[39;00m\n",
      "\u001b[1;31mModuleNotFoundError\u001b[0m: No module named 'ankit'"
     ]
    }
   ],
   "source": [
    "import ankit"
   ]
  },
  {
   "cell_type": "code",
   "execution_count": 5,
   "id": "833d1cc9-f335-4b47-be50-6b3372ac9526",
   "metadata": {},
   "outputs": [
    {
     "name": "stdout",
     "output_type": "stream",
     "text": [
      "Calling ANKIT📞.....\n",
      "The correct Option is: d\n"
     ]
    }
   ],
   "source": [
    "isha.phone_a_friend('Ankit')"
   ]
  },
  {
   "cell_type": "code",
   "execution_count": 7,
   "id": "50285bfa-9b43-4f78-8c01-61b548047aed",
   "metadata": {},
   "outputs": [
    {
     "data": {
      "text/plain": [
       "120"
      ]
     },
     "execution_count": 7,
     "metadata": {},
     "output_type": "execute_result"
    }
   ],
   "source": [
    "isha.facto(5)"
   ]
  },
  {
   "cell_type": "code",
   "execution_count": 1,
   "id": "7a034f43-66e5-47dd-8659-86324b2ec1f4",
   "metadata": {},
   "outputs": [
    {
     "name": "stdout",
     "output_type": "stream",
     "text": [
      "This isha module is of version 2.2.2.0\n",
      "Welcome to Python Programming!!\n",
      "Clich here: https://www.pygame.org/contribute.html\n"
     ]
    }
   ],
   "source": [
    "import isha"
   ]
  },
  {
   "cell_type": "code",
   "execution_count": 13,
   "id": "a346b3fb-1037-4dfc-ad46-2522814fb17d",
   "metadata": {},
   "outputs": [
    {
     "name": "stdout",
     "output_type": "stream",
     "text": [
      "Not a Prime Number!!\n"
     ]
    }
   ],
   "source": [
    "i.bhai_ka_prime_number_check_hoga(22)"
   ]
  },
  {
   "cell_type": "code",
   "execution_count": 3,
   "id": "3a992d8c-630b-4a7d-aec6-ad062a94afaa",
   "metadata": {},
   "outputs": [],
   "source": [
    "exit()"
   ]
  },
  {
   "cell_type": "code",
   "execution_count": 3,
   "id": "508181c6-f2f4-4090-9b50-f3f36eb29ac0",
   "metadata": {},
   "outputs": [
    {
     "name": "stdout",
     "output_type": "stream",
     "text": [
      "pygame 2.6.1 (SDL 2.28.4, Python 3.12.7)\n",
      "Hello from the pygame community. https://www.pygame.org/contribute.html\n"
     ]
    }
   ],
   "source": [
    "import pygame"
   ]
  },
  {
   "cell_type": "code",
   "execution_count": 7,
   "id": "fab16797-49d0-4801-a1cb-e2a96cc1a6a2",
   "metadata": {},
   "outputs": [
    {
     "name": "stdout",
     "output_type": "stream",
     "text": [
      "This isha module is of version 2.2.2.0\n",
      "Welcome to Python Programming!!\n",
      "Clich here: https://www.pygame.org/contribute.html\n",
      "Done\n"
     ]
    }
   ],
   "source": [
    "import himanshu\n",
    "print('Done')"
   ]
  },
  {
   "cell_type": "code",
   "execution_count": 7,
   "id": "7ec45db4-17fe-4e98-a900-e0a0124dcc0c",
   "metadata": {},
   "outputs": [],
   "source": [
    "import os"
   ]
  },
  {
   "cell_type": "code",
   "execution_count": 15,
   "id": "e789bba4-9781-456c-a9b5-165ce5f2368e",
   "metadata": {},
   "outputs": [],
   "source": [
    "import sys"
   ]
  },
  {
   "cell_type": "code",
   "execution_count": 13,
   "id": "12ee6b45-ced1-48be-8fd4-67e171f21e8a",
   "metadata": {},
   "outputs": [],
   "source": [
    "sys.path.append(r'D:\\All_modules')"
   ]
  },
  {
   "cell_type": "code",
   "execution_count": 1,
   "id": "3b09ecb7-dc7b-4807-a0b2-807dd3e3e488",
   "metadata": {},
   "outputs": [],
   "source": [
    "# exit()"
   ]
  },
  {
   "cell_type": "code",
   "execution_count": 17,
   "id": "08612573-ca75-4257-ac79-3fd615d783ee",
   "metadata": {},
   "outputs": [
    {
     "data": {
      "text/plain": [
       "['C:\\\\Users\\\\salma\\\\Python All Code_ Batch 05_06',\n",
       " 'C:\\\\Users\\\\salma\\\\anaconda3\\\\python312.zip',\n",
       " 'C:\\\\Users\\\\salma\\\\anaconda3\\\\DLLs',\n",
       " 'C:\\\\Users\\\\salma\\\\anaconda3\\\\Lib',\n",
       " 'C:\\\\Users\\\\salma\\\\anaconda3',\n",
       " '',\n",
       " 'C:\\\\Users\\\\salma\\\\anaconda3\\\\Lib\\\\site-packages',\n",
       " 'C:\\\\Users\\\\salma\\\\anaconda3\\\\Lib\\\\site-packages\\\\win32',\n",
       " 'C:\\\\Users\\\\salma\\\\anaconda3\\\\Lib\\\\site-packages\\\\win32\\\\lib',\n",
       " 'C:\\\\Users\\\\salma\\\\anaconda3\\\\Lib\\\\site-packages\\\\Pythonwin',\n",
       " 'C:\\\\Users\\\\salma\\\\anaconda3\\\\Lib\\\\site-packages\\\\setuptools\\\\_vendor',\n",
       " 'D:\\\\All_modules']"
      ]
     },
     "execution_count": 17,
     "metadata": {},
     "output_type": "execute_result"
    }
   ],
   "source": [
    "sys.path"
   ]
  },
  {
   "cell_type": "code",
   "execution_count": 21,
   "id": "d85e55fe-d6a3-4c65-858a-271fb581ec8d",
   "metadata": {},
   "outputs": [
    {
     "name": "stdout",
     "output_type": "stream",
     "text": [
      "Done\n"
     ]
    }
   ],
   "source": [
    "import ankit\n",
    "print('Done')"
   ]
  },
  {
   "cell_type": "code",
   "execution_count": 23,
   "id": "bbffb814-ab0c-423a-9a22-a6a9acf23ebc",
   "metadata": {},
   "outputs": [
    {
     "name": "stdout",
     "output_type": "stream",
     "text": [
      "This isha module is of version 2.2.2.0\n",
      "Welcome to Python Programming!!\n",
      "Clich here: https://www.pygame.org/contribute.html\n",
      "Done\n"
     ]
    }
   ],
   "source": [
    "import abbas\n",
    "print('Done')"
   ]
  },
  {
   "cell_type": "code",
   "execution_count": 25,
   "id": "bd9b6b94-112c-4e60-bc69-214ecc6ccbd4",
   "metadata": {},
   "outputs": [],
   "source": [
    "import abbas as a"
   ]
  },
  {
   "cell_type": "code",
   "execution_count": 27,
   "id": "7e5b1917-7c74-44a8-aaa7-30a5b3e7725a",
   "metadata": {},
   "outputs": [
    {
     "name": "stdout",
     "output_type": "stream",
     "text": [
      "Class Bunk ho gaya!!\n"
     ]
    }
   ],
   "source": [
    "a.class_bunk()"
   ]
  },
  {
   "cell_type": "code",
   "execution_count": 29,
   "id": "e38b3ad3-74c2-435f-93ca-b1bbeea5edad",
   "metadata": {},
   "outputs": [
    {
     "name": "stdout",
     "output_type": "stream",
     "text": [
      "Calling JATIN📞.....\n",
      "The correct Option is: a\n"
     ]
    }
   ],
   "source": [
    "a.phone_a_friend('Jatin')"
   ]
  },
  {
   "cell_type": "code",
   "execution_count": null,
   "id": "09b345b4-fcca-4a91-bcda-d663bf75a8a6",
   "metadata": {},
   "outputs": [],
   "source": []
  },
  {
   "cell_type": "code",
   "execution_count": null,
   "id": "6f423d94-66b5-451f-8ffa-3c734b97040b",
   "metadata": {},
   "outputs": [],
   "source": []
  },
  {
   "cell_type": "code",
   "execution_count": 33,
   "id": "f24f0a9a-0102-4e34-90f8-e73c3426ae61",
   "metadata": {},
   "outputs": [],
   "source": []
  },
  {
   "cell_type": "code",
   "execution_count": 5,
   "id": "d5e9d009-3663-4a8d-8425-291a11bd3c4c",
   "metadata": {},
   "outputs": [],
   "source": [
    "import turtle\n",
    "import random\n",
    "for i in range(100):\n",
    "    turtle.speed(0)\n",
    "    colors = ['yellow','red','green','blue','orange']\n",
    "    final_color = random.choice(colors)\n",
    "    turtle.bgcolor('black')\n",
    "    turtle.color(final_color)\n",
    "    turtle.circle(100)\n",
    "    turtle.left(3.6)\n",
    "    turtle.speed(10)\n"
   ]
  },
  {
   "cell_type": "code",
   "execution_count": null,
   "id": "e0d07321-665d-4bd5-8ffc-8669ac500be3",
   "metadata": {},
   "outputs": [],
   "source": []
  }
 ],
 "metadata": {
  "kernelspec": {
   "display_name": "Python [conda env:base] *",
   "language": "python",
   "name": "conda-base-py"
  },
  "language_info": {
   "codemirror_mode": {
    "name": "ipython",
    "version": 3
   },
   "file_extension": ".py",
   "mimetype": "text/x-python",
   "name": "python",
   "nbconvert_exporter": "python",
   "pygments_lexer": "ipython3",
   "version": "3.12.7"
  }
 },
 "nbformat": 4,
 "nbformat_minor": 5
}
