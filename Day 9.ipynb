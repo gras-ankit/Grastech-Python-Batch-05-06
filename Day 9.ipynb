{
 "cells": [
  {
   "cell_type": "code",
   "execution_count": 5,
   "id": "f776c6c8-0377-4fbe-902f-e0d98d2a88f8",
   "metadata": {},
   "outputs": [],
   "source": [
    "data = ([23,43,5,(3,54,6,[56])])\n",
    "\n",
    "# change 56 to 100"
   ]
  },
  {
   "cell_type": "code",
   "execution_count": 7,
   "id": "0b1e28b3-07ac-4519-b62b-e9b7c7343cdc",
   "metadata": {},
   "outputs": [
    {
     "data": {
      "text/plain": [
       "[23, 43, 5, (3, 54, 6, [56])]"
      ]
     },
     "execution_count": 7,
     "metadata": {},
     "output_type": "execute_result"
    }
   ],
   "source": [
    "data"
   ]
  },
  {
   "cell_type": "code",
   "execution_count": 15,
   "id": "2cd62bec-6502-4880-9ee7-27cff7a08ebe",
   "metadata": {},
   "outputs": [],
   "source": [
    "data[3][3][0] = 100"
   ]
  },
  {
   "cell_type": "code",
   "execution_count": 17,
   "id": "668b11db-f0c1-414a-87ca-8027cfc92083",
   "metadata": {},
   "outputs": [
    {
     "data": {
      "text/plain": [
       "[23, 43, 5, (3, 54, 6, [100])]"
      ]
     },
     "execution_count": 17,
     "metadata": {},
     "output_type": "execute_result"
    }
   ],
   "source": [
    "data"
   ]
  },
  {
   "cell_type": "markdown",
   "id": "e735fb5c-f1f8-42d0-be75-86b405a1d7e9",
   "metadata": {},
   "source": [
    "# Dictionary"
   ]
  },
  {
   "cell_type": "code",
   "execution_count": 20,
   "id": "338f52ac-a39c-4591-9547-d2e9648ec8c5",
   "metadata": {},
   "outputs": [],
   "source": [
    "#key value, hash, mapping"
   ]
  },
  {
   "cell_type": "code",
   "execution_count": 22,
   "id": "72906d23-a5bc-4bc4-98bb-07c60339cc1e",
   "metadata": {},
   "outputs": [
    {
     "name": "stdout",
     "output_type": "stream",
     "text": [
      "{'Name': 'Mohan', 'Age': 34}\n"
     ]
    }
   ],
   "source": [
    "data = {'Name':'Mohan','Age':34}\n",
    "print(data)"
   ]
  },
  {
   "cell_type": "code",
   "execution_count": 24,
   "id": "5c93b4b6-4f51-4e8a-9fa0-cd25e511878b",
   "metadata": {},
   "outputs": [
    {
     "data": {
      "text/plain": [
       "dict"
      ]
     },
     "execution_count": 24,
     "metadata": {},
     "output_type": "execute_result"
    }
   ],
   "source": [
    "type(data)"
   ]
  },
  {
   "cell_type": "code",
   "execution_count": 26,
   "id": "a17fe75a-770c-44f6-a3cd-16b2dd9527de",
   "metadata": {},
   "outputs": [],
   "source": [
    "# Key:value, key:value\n",
    "# item\n",
    "# items"
   ]
  },
  {
   "cell_type": "code",
   "execution_count": 50,
   "id": "453310e9-638a-4b0f-bddf-659ba62acfa3",
   "metadata": {},
   "outputs": [],
   "source": [
    "# Set:-not allowed"
   ]
  },
  {
   "cell_type": "code",
   "execution_count": 60,
   "id": "e7a8cf35-1633-44d2-8705-2516777fdcd5",
   "metadata": {},
   "outputs": [],
   "source": [
    "# Key:- str,tuple,int,float,complex,bool,None :- immutableb\n",
    "# value:- all"
   ]
  },
  {
   "cell_type": "code",
   "execution_count": 30,
   "id": "bda4ad19-4fb0-4c2f-9bb0-204bc4b5bd5b",
   "metadata": {},
   "outputs": [
    {
     "ename": "TypeError",
     "evalue": "unhashable type: 'list'",
     "output_type": "error",
     "traceback": [
      "\u001b[1;31m---------------------------------------------------------------------------\u001b[0m",
      "\u001b[1;31mTypeError\u001b[0m                                 Traceback (most recent call last)",
      "Cell \u001b[1;32mIn[30], line 1\u001b[0m\n\u001b[1;32m----> 1\u001b[0m data \u001b[38;5;241m=\u001b[39m {[\u001b[38;5;241m2\u001b[39m,\u001b[38;5;241m34\u001b[39m,\u001b[38;5;241m5\u001b[39m]:\u001b[38;5;124m'\u001b[39m\u001b[38;5;124mMohan\u001b[39m\u001b[38;5;124m'\u001b[39m}\n",
      "\u001b[1;31mTypeError\u001b[0m: unhashable type: 'list'"
     ]
    }
   ],
   "source": [
    "data = {[2,34,5]:'Mohan'}"
   ]
  },
  {
   "cell_type": "code",
   "execution_count": 32,
   "id": "0e835502-89d0-46a2-8d40-8a85f7015b39",
   "metadata": {},
   "outputs": [
    {
     "ename": "TypeError",
     "evalue": "unhashable type: 'dict'",
     "output_type": "error",
     "traceback": [
      "\u001b[1;31m---------------------------------------------------------------------------\u001b[0m",
      "\u001b[1;31mTypeError\u001b[0m                                 Traceback (most recent call last)",
      "Cell \u001b[1;32mIn[32], line 1\u001b[0m\n\u001b[1;32m----> 1\u001b[0m data \u001b[38;5;241m=\u001b[39m {{\u001b[38;5;124m'\u001b[39m\u001b[38;5;124mName\u001b[39m\u001b[38;5;124m'\u001b[39m:\u001b[38;5;124m'\u001b[39m\u001b[38;5;124mkaran\u001b[39m\u001b[38;5;124m'\u001b[39m}:\u001b[38;5;124m'\u001b[39m\u001b[38;5;124mMohan\u001b[39m\u001b[38;5;124m'\u001b[39m}\n",
      "\u001b[1;31mTypeError\u001b[0m: unhashable type: 'dict'"
     ]
    }
   ],
   "source": [
    "data = {{'Name':'karan'}:'Mohan'}"
   ]
  },
  {
   "cell_type": "code",
   "execution_count": 36,
   "id": "3518bc04-eb31-4ca0-aa32-8bbebb7d7bf7",
   "metadata": {},
   "outputs": [
    {
     "data": {
      "text/plain": [
       "{(2, 34, 5): 'Mohan'}"
      ]
     },
     "execution_count": 36,
     "metadata": {},
     "output_type": "execute_result"
    }
   ],
   "source": [
    "data = {(2,34,5):'Mohan'}\n",
    "data"
   ]
  },
  {
   "cell_type": "code",
   "execution_count": 40,
   "id": "03fbf3ab-31e8-4f4d-9b1c-69a092cbc292",
   "metadata": {},
   "outputs": [
    {
     "data": {
      "text/plain": [
       "{(2, 34): 'Mohan'}"
      ]
     },
     "execution_count": 40,
     "metadata": {},
     "output_type": "execute_result"
    }
   ],
   "source": [
    "data = {(2,34):'Mohan'}\n",
    "data"
   ]
  },
  {
   "cell_type": "code",
   "execution_count": 46,
   "id": "788e3c5a-6635-4329-8b97-276a64303770",
   "metadata": {},
   "outputs": [
    {
     "data": {
      "text/plain": [
       "{(3.6-9j): 'Mohan'}"
      ]
     },
     "execution_count": 46,
     "metadata": {},
     "output_type": "execute_result"
    }
   ],
   "source": [
    "data = {3.6-9j:'Mohan'}\n",
    "data"
   ]
  },
  {
   "cell_type": "code",
   "execution_count": 48,
   "id": "17778edd-96f5-46e2-9982-d5f431cf97b5",
   "metadata": {},
   "outputs": [
    {
     "ename": "TypeError",
     "evalue": "unhashable type: 'set'",
     "output_type": "error",
     "traceback": [
      "\u001b[1;31m---------------------------------------------------------------------------\u001b[0m",
      "\u001b[1;31mTypeError\u001b[0m                                 Traceback (most recent call last)",
      "Cell \u001b[1;32mIn[48], line 1\u001b[0m\n\u001b[1;32m----> 1\u001b[0m data \u001b[38;5;241m=\u001b[39m {{\u001b[38;5;241m2\u001b[39m,\u001b[38;5;241m34\u001b[39m,\u001b[38;5;241m5\u001b[39m}:\u001b[38;5;124m'\u001b[39m\u001b[38;5;124mMohan\u001b[39m\u001b[38;5;124m'\u001b[39m}\n\u001b[0;32m      2\u001b[0m data\n",
      "\u001b[1;31mTypeError\u001b[0m: unhashable type: 'set'"
     ]
    }
   ],
   "source": [
    "data = {{2,34,5}:'Mohan'}\n",
    "data"
   ]
  },
  {
   "cell_type": "code",
   "execution_count": 54,
   "id": "14355f38-6a6e-43c0-9b0d-16762dd9e6db",
   "metadata": {},
   "outputs": [
    {
     "data": {
      "text/plain": [
       "{True: 'Mohan'}"
      ]
     },
     "execution_count": 54,
     "metadata": {},
     "output_type": "execute_result"
    }
   ],
   "source": [
    "data = {True:'Mohan'}\n",
    "data"
   ]
  },
  {
   "cell_type": "code",
   "execution_count": 56,
   "id": "0c5becb4-209b-4110-998d-fabd9bad2540",
   "metadata": {},
   "outputs": [
    {
     "data": {
      "text/plain": [
       "{False: 'Mohan'}"
      ]
     },
     "execution_count": 56,
     "metadata": {},
     "output_type": "execute_result"
    }
   ],
   "source": [
    "data = {False:'Mohan'}\n",
    "data"
   ]
  },
  {
   "cell_type": "code",
   "execution_count": 58,
   "id": "f58f8af4-731e-464e-882d-57bd788f8a01",
   "metadata": {},
   "outputs": [
    {
     "data": {
      "text/plain": [
       "{None: 'Mohan'}"
      ]
     },
     "execution_count": 58,
     "metadata": {},
     "output_type": "execute_result"
    }
   ],
   "source": [
    "data = {None:'Mohan'}\n",
    "data"
   ]
  },
  {
   "cell_type": "code",
   "execution_count": 64,
   "id": "d60b68a7-b954-4ba1-8fe6-8360fe416f03",
   "metadata": {},
   "outputs": [
    {
     "name": "stdout",
     "output_type": "stream",
     "text": [
      "{1: [2, 344, 6], 2: (2, 34, 46), 3: 'Gaurav', 4: 4, 5: 5.6, 6: (9-9j), 7: {344, 2, 5}, 8: None, 9: True, 10: {'Name': 'Karan'}}\n"
     ]
    }
   ],
   "source": [
    "data = {1:[2,344,6],\n",
    "       2:(2,34,46),\n",
    "       3:'Gaurav',\n",
    "       4:4,\n",
    "       5:5.6,\n",
    "       6:9-9j,\n",
    "       7:{2,344,5},\n",
    "       8:None,\n",
    "       9:True,\n",
    "       10:{'Name':'Karan'}}\n",
    "print(data)"
   ]
  },
  {
   "cell_type": "code",
   "execution_count": null,
   "id": "bd88907b-1a06-4543-bffd-648a981492b1",
   "metadata": {},
   "outputs": [],
   "source": []
  },
  {
   "cell_type": "code",
   "execution_count": 67,
   "id": "521c114d-0c4a-463b-97a7-1ce31ace830b",
   "metadata": {},
   "outputs": [
    {
     "ename": "TypeError",
     "evalue": "unsupported operand type(s) for +: 'dict' and 'dict'",
     "output_type": "error",
     "traceback": [
      "\u001b[1;31m---------------------------------------------------------------------------\u001b[0m",
      "\u001b[1;31mTypeError\u001b[0m                                 Traceback (most recent call last)",
      "Cell \u001b[1;32mIn[67], line 4\u001b[0m\n\u001b[0;32m      1\u001b[0m a \u001b[38;5;241m=\u001b[39m {\u001b[38;5;124m'\u001b[39m\u001b[38;5;124mName\u001b[39m\u001b[38;5;124m'\u001b[39m:\u001b[38;5;124m'\u001b[39m\u001b[38;5;124mLucky\u001b[39m\u001b[38;5;124m'\u001b[39m,\u001b[38;5;124m'\u001b[39m\u001b[38;5;124mAge\u001b[39m\u001b[38;5;124m'\u001b[39m:\u001b[38;5;241m34\u001b[39m}\n\u001b[0;32m      2\u001b[0m b \u001b[38;5;241m=\u001b[39m {\u001b[38;5;124m'\u001b[39m\u001b[38;5;124mClass\u001b[39m\u001b[38;5;124m'\u001b[39m:\u001b[38;5;241m4\u001b[39m,\u001b[38;5;124m'\u001b[39m\u001b[38;5;124mSec\u001b[39m\u001b[38;5;124m'\u001b[39m:\u001b[38;5;124m'\u001b[39m\u001b[38;5;124mA\u001b[39m\u001b[38;5;124m'\u001b[39m}\n\u001b[1;32m----> 4\u001b[0m a \u001b[38;5;241m+\u001b[39m b\n",
      "\u001b[1;31mTypeError\u001b[0m: unsupported operand type(s) for +: 'dict' and 'dict'"
     ]
    }
   ],
   "source": [
    "a = {'Name':'Lucky','Age':34}\n",
    "b = {'Class':4,'Sec':'A'}\n",
    "\n",
    "a + b"
   ]
  },
  {
   "cell_type": "code",
   "execution_count": 69,
   "id": "0ac0a61b-220f-487a-a26e-c1984a6e7141",
   "metadata": {},
   "outputs": [
    {
     "ename": "TypeError",
     "evalue": "unsupported operand type(s) for -: 'dict' and 'dict'",
     "output_type": "error",
     "traceback": [
      "\u001b[1;31m---------------------------------------------------------------------------\u001b[0m",
      "\u001b[1;31mTypeError\u001b[0m                                 Traceback (most recent call last)",
      "Cell \u001b[1;32mIn[69], line 4\u001b[0m\n\u001b[0;32m      1\u001b[0m a \u001b[38;5;241m=\u001b[39m {\u001b[38;5;124m'\u001b[39m\u001b[38;5;124mName\u001b[39m\u001b[38;5;124m'\u001b[39m:\u001b[38;5;124m'\u001b[39m\u001b[38;5;124mLucky\u001b[39m\u001b[38;5;124m'\u001b[39m,\u001b[38;5;124m'\u001b[39m\u001b[38;5;124mAge\u001b[39m\u001b[38;5;124m'\u001b[39m:\u001b[38;5;241m34\u001b[39m}\n\u001b[0;32m      2\u001b[0m b \u001b[38;5;241m=\u001b[39m {\u001b[38;5;124m'\u001b[39m\u001b[38;5;124mClass\u001b[39m\u001b[38;5;124m'\u001b[39m:\u001b[38;5;241m4\u001b[39m,\u001b[38;5;124m'\u001b[39m\u001b[38;5;124mSec\u001b[39m\u001b[38;5;124m'\u001b[39m:\u001b[38;5;124m'\u001b[39m\u001b[38;5;124mA\u001b[39m\u001b[38;5;124m'\u001b[39m}\n\u001b[1;32m----> 4\u001b[0m a \u001b[38;5;241m-\u001b[39m b\n",
      "\u001b[1;31mTypeError\u001b[0m: unsupported operand type(s) for -: 'dict' and 'dict'"
     ]
    }
   ],
   "source": [
    "a = {'Name':'Lucky','Age':34}\n",
    "b = {'Class':4,'Sec':'A'}\n",
    "\n",
    "a - b"
   ]
  },
  {
   "cell_type": "code",
   "execution_count": 71,
   "id": "7d26ff58-6b89-4e23-88a8-b1e79b3ec718",
   "metadata": {},
   "outputs": [
    {
     "ename": "TypeError",
     "evalue": "unsupported operand type(s) for *: 'dict' and 'dict'",
     "output_type": "error",
     "traceback": [
      "\u001b[1;31m---------------------------------------------------------------------------\u001b[0m",
      "\u001b[1;31mTypeError\u001b[0m                                 Traceback (most recent call last)",
      "Cell \u001b[1;32mIn[71], line 4\u001b[0m\n\u001b[0;32m      1\u001b[0m a \u001b[38;5;241m=\u001b[39m {\u001b[38;5;124m'\u001b[39m\u001b[38;5;124mName\u001b[39m\u001b[38;5;124m'\u001b[39m:\u001b[38;5;124m'\u001b[39m\u001b[38;5;124mLucky\u001b[39m\u001b[38;5;124m'\u001b[39m,\u001b[38;5;124m'\u001b[39m\u001b[38;5;124mAge\u001b[39m\u001b[38;5;124m'\u001b[39m:\u001b[38;5;241m34\u001b[39m}\n\u001b[0;32m      2\u001b[0m b \u001b[38;5;241m=\u001b[39m {\u001b[38;5;124m'\u001b[39m\u001b[38;5;124mClass\u001b[39m\u001b[38;5;124m'\u001b[39m:\u001b[38;5;241m4\u001b[39m,\u001b[38;5;124m'\u001b[39m\u001b[38;5;124mSec\u001b[39m\u001b[38;5;124m'\u001b[39m:\u001b[38;5;124m'\u001b[39m\u001b[38;5;124mA\u001b[39m\u001b[38;5;124m'\u001b[39m}\n\u001b[1;32m----> 4\u001b[0m a \u001b[38;5;241m*\u001b[39m b\n",
      "\u001b[1;31mTypeError\u001b[0m: unsupported operand type(s) for *: 'dict' and 'dict'"
     ]
    }
   ],
   "source": [
    "a = {'Name':'Lucky','Age':34}\n",
    "b = {'Class':4,'Sec':'A'}\n",
    "\n",
    "a * b"
   ]
  },
  {
   "cell_type": "code",
   "execution_count": 73,
   "id": "bd83d6fe-4101-4986-b231-6855ef5cd201",
   "metadata": {},
   "outputs": [
    {
     "ename": "TypeError",
     "evalue": "unsupported operand type(s) for *: 'dict' and 'int'",
     "output_type": "error",
     "traceback": [
      "\u001b[1;31m---------------------------------------------------------------------------\u001b[0m",
      "\u001b[1;31mTypeError\u001b[0m                                 Traceback (most recent call last)",
      "Cell \u001b[1;32mIn[73], line 4\u001b[0m\n\u001b[0;32m      1\u001b[0m a \u001b[38;5;241m=\u001b[39m {\u001b[38;5;124m'\u001b[39m\u001b[38;5;124mName\u001b[39m\u001b[38;5;124m'\u001b[39m:\u001b[38;5;124m'\u001b[39m\u001b[38;5;124mLucky\u001b[39m\u001b[38;5;124m'\u001b[39m,\u001b[38;5;124m'\u001b[39m\u001b[38;5;124mAge\u001b[39m\u001b[38;5;124m'\u001b[39m:\u001b[38;5;241m34\u001b[39m}\n\u001b[0;32m      2\u001b[0m b \u001b[38;5;241m=\u001b[39m {\u001b[38;5;124m'\u001b[39m\u001b[38;5;124mClass\u001b[39m\u001b[38;5;124m'\u001b[39m:\u001b[38;5;241m4\u001b[39m,\u001b[38;5;124m'\u001b[39m\u001b[38;5;124mSec\u001b[39m\u001b[38;5;124m'\u001b[39m:\u001b[38;5;124m'\u001b[39m\u001b[38;5;124mA\u001b[39m\u001b[38;5;124m'\u001b[39m}\n\u001b[1;32m----> 4\u001b[0m a \u001b[38;5;241m*\u001b[39m\u001b[38;5;241m2\u001b[39m\n",
      "\u001b[1;31mTypeError\u001b[0m: unsupported operand type(s) for *: 'dict' and 'int'"
     ]
    }
   ],
   "source": [
    "a = {'Name':'Lucky','Age':34}\n",
    "b = {'Class':4,'Sec':'A'}\n",
    "\n",
    "a *2"
   ]
  },
  {
   "cell_type": "code",
   "execution_count": 75,
   "id": "930ed224-4869-4d20-8c31-e574cfd95e02",
   "metadata": {},
   "outputs": [
    {
     "ename": "TypeError",
     "evalue": "unsupported operand type(s) for //: 'dict' and 'int'",
     "output_type": "error",
     "traceback": [
      "\u001b[1;31m---------------------------------------------------------------------------\u001b[0m",
      "\u001b[1;31mTypeError\u001b[0m                                 Traceback (most recent call last)",
      "Cell \u001b[1;32mIn[75], line 4\u001b[0m\n\u001b[0;32m      1\u001b[0m a \u001b[38;5;241m=\u001b[39m {\u001b[38;5;124m'\u001b[39m\u001b[38;5;124mName\u001b[39m\u001b[38;5;124m'\u001b[39m:\u001b[38;5;124m'\u001b[39m\u001b[38;5;124mLucky\u001b[39m\u001b[38;5;124m'\u001b[39m,\u001b[38;5;124m'\u001b[39m\u001b[38;5;124mAge\u001b[39m\u001b[38;5;124m'\u001b[39m:\u001b[38;5;241m34\u001b[39m}\n\u001b[0;32m      2\u001b[0m b \u001b[38;5;241m=\u001b[39m {\u001b[38;5;124m'\u001b[39m\u001b[38;5;124mClass\u001b[39m\u001b[38;5;124m'\u001b[39m:\u001b[38;5;241m4\u001b[39m,\u001b[38;5;124m'\u001b[39m\u001b[38;5;124mSec\u001b[39m\u001b[38;5;124m'\u001b[39m:\u001b[38;5;124m'\u001b[39m\u001b[38;5;124mA\u001b[39m\u001b[38;5;124m'\u001b[39m}\n\u001b[1;32m----> 4\u001b[0m a \u001b[38;5;241m/\u001b[39m\u001b[38;5;241m/\u001b[39m\u001b[38;5;241m2\u001b[39m\n",
      "\u001b[1;31mTypeError\u001b[0m: unsupported operand type(s) for //: 'dict' and 'int'"
     ]
    }
   ],
   "source": [
    "a = {'Name':'Lucky','Age':34}\n",
    "b = {'Class':4,'Sec':'A'}\n",
    "\n",
    "a //2"
   ]
  },
  {
   "cell_type": "code",
   "execution_count": null,
   "id": "b6b09481-514b-4cc0-b357-c6f5a31d50c9",
   "metadata": {},
   "outputs": [],
   "source": []
  },
  {
   "cell_type": "code",
   "execution_count": 78,
   "id": "55b9d442-8997-46cd-98b2-95ee8cc78d93",
   "metadata": {},
   "outputs": [],
   "source": [
    "# Dictionary must have unique key"
   ]
  },
  {
   "cell_type": "code",
   "execution_count": 82,
   "id": "0eb2681f-7fba-4b7c-bee2-e7cd1140517b",
   "metadata": {},
   "outputs": [
    {
     "name": "stdout",
     "output_type": "stream",
     "text": [
      "{'Name': 'Lucky', 'Age': 56, 'Class': 5}\n"
     ]
    }
   ],
   "source": [
    "data = {'Name':'Mohan','Age':45,'Name':'Lucky','Age':56,'Class':5}\n",
    "print(data)"
   ]
  },
  {
   "cell_type": "code",
   "execution_count": 92,
   "id": "48908641-99e4-4f13-9908-fe0ef3f9596e",
   "metadata": {
    "scrolled": true
   },
   "outputs": [
    {
     "name": "stdout",
     "output_type": "stream",
     "text": [
      "{'Name': 'Mohan', 'Age': 45}\n"
     ]
    }
   ],
   "source": [
    "a = {'Name':'Mohan','Age':45}\n",
    "print(a)"
   ]
  },
  {
   "cell_type": "code",
   "execution_count": 94,
   "id": "bca6fede-bb54-4805-b139-ed5be6f22653",
   "metadata": {},
   "outputs": [],
   "source": [
    "# indexing or slicing no such concept"
   ]
  },
  {
   "cell_type": "code",
   "execution_count": 96,
   "id": "8d236494-0ada-4f8c-acf1-ccbae1fcdfa4",
   "metadata": {},
   "outputs": [
    {
     "data": {
      "text/plain": [
       "'Mohan'"
      ]
     },
     "execution_count": 96,
     "metadata": {},
     "output_type": "execute_result"
    }
   ],
   "source": [
    "a['Name']"
   ]
  },
  {
   "cell_type": "code",
   "execution_count": 98,
   "id": "3018221f-5869-4099-90ed-159ce983c157",
   "metadata": {},
   "outputs": [
    {
     "data": {
      "text/plain": [
       "45"
      ]
     },
     "execution_count": 98,
     "metadata": {},
     "output_type": "execute_result"
    }
   ],
   "source": [
    "a['Age']"
   ]
  },
  {
   "cell_type": "code",
   "execution_count": 100,
   "id": "3a554a04-352e-4387-a481-a34002450649",
   "metadata": {},
   "outputs": [
    {
     "ename": "KeyError",
     "evalue": "'age'",
     "output_type": "error",
     "traceback": [
      "\u001b[1;31m---------------------------------------------------------------------------\u001b[0m",
      "\u001b[1;31mKeyError\u001b[0m                                  Traceback (most recent call last)",
      "Cell \u001b[1;32mIn[100], line 1\u001b[0m\n\u001b[1;32m----> 1\u001b[0m a[\u001b[38;5;124m'\u001b[39m\u001b[38;5;124mage\u001b[39m\u001b[38;5;124m'\u001b[39m]\n",
      "\u001b[1;31mKeyError\u001b[0m: 'age'"
     ]
    }
   ],
   "source": [
    "a['age']"
   ]
  },
  {
   "cell_type": "code",
   "execution_count": 102,
   "id": "3ac20da3-a60d-49d6-b878-f41de4d94ba4",
   "metadata": {},
   "outputs": [
    {
     "data": {
      "text/plain": [
       "{'Name': 'Mohan', 'Age': 45}"
      ]
     },
     "execution_count": 102,
     "metadata": {},
     "output_type": "execute_result"
    }
   ],
   "source": [
    "a"
   ]
  },
  {
   "cell_type": "code",
   "execution_count": 106,
   "id": "f0fc6e8c-64b1-4d6b-8903-ebe9ca31f5a2",
   "metadata": {},
   "outputs": [],
   "source": [
    "a['class'] = 12"
   ]
  },
  {
   "cell_type": "code",
   "execution_count": 108,
   "id": "bb3c81fa-7f2a-4765-a133-e06408c1e2fc",
   "metadata": {},
   "outputs": [
    {
     "name": "stdout",
     "output_type": "stream",
     "text": [
      "{'Name': 'Mohan', 'Age': 45, 'class': 12}\n"
     ]
    }
   ],
   "source": [
    "print(a)"
   ]
  },
  {
   "cell_type": "code",
   "execution_count": 110,
   "id": "898eb195-5995-4391-8b2a-8f33dcdbaf58",
   "metadata": {},
   "outputs": [],
   "source": [
    "a['Sec'] = 'A'"
   ]
  },
  {
   "cell_type": "code",
   "execution_count": 112,
   "id": "0567bc58-a441-4a00-a9e2-c0ba2a02d34c",
   "metadata": {},
   "outputs": [
    {
     "name": "stdout",
     "output_type": "stream",
     "text": [
      "{'Name': 'Mohan', 'Age': 45, 'class': 12, 'Sec': 'A'}\n"
     ]
    }
   ],
   "source": [
    "print(a)"
   ]
  },
  {
   "cell_type": "code",
   "execution_count": 116,
   "id": "58782a1a-a34f-49de-a2af-13d1ea13e582",
   "metadata": {},
   "outputs": [],
   "source": [
    "a['Name'] = 'Mohan Verma'"
   ]
  },
  {
   "cell_type": "code",
   "execution_count": 118,
   "id": "c192dd9a-6c3f-40f1-8935-2a1174b81a25",
   "metadata": {},
   "outputs": [
    {
     "name": "stdout",
     "output_type": "stream",
     "text": [
      "{'Name': 'Mohan Verma', 'Age': 45, 'class': 12, 'Sec': 'A'}\n"
     ]
    }
   ],
   "source": [
    "print(a)"
   ]
  },
  {
   "cell_type": "code",
   "execution_count": 122,
   "id": "dcec442f-d29d-4e34-bf75-6d48789d2424",
   "metadata": {},
   "outputs": [],
   "source": [
    "a['Sec'] ='C'"
   ]
  },
  {
   "cell_type": "code",
   "execution_count": 124,
   "id": "a986a06c-5050-403d-aa0f-2dbc5472f9bc",
   "metadata": {},
   "outputs": [
    {
     "name": "stdout",
     "output_type": "stream",
     "text": [
      "{'Name': 'Mohan Verma', 'Age': 45, 'class': 12, 'Sec': 'C'}\n"
     ]
    }
   ],
   "source": [
    "print(a)"
   ]
  },
  {
   "cell_type": "code",
   "execution_count": 126,
   "id": "12510672-e578-415d-975c-c872aeb40a1d",
   "metadata": {},
   "outputs": [],
   "source": [
    "# del"
   ]
  },
  {
   "cell_type": "code",
   "execution_count": 132,
   "id": "5db4dea0-54db-48cf-bdb4-f1a43b17c473",
   "metadata": {},
   "outputs": [],
   "source": [
    "del a['class']"
   ]
  },
  {
   "cell_type": "code",
   "execution_count": 134,
   "id": "a4930c98-b120-4981-8fef-6b843f7674e5",
   "metadata": {},
   "outputs": [
    {
     "name": "stdout",
     "output_type": "stream",
     "text": [
      "{'Name': 'Mohan Verma', 'Age': 45, 'Sec': 'C'}\n"
     ]
    }
   ],
   "source": [
    "print(a)"
   ]
  },
  {
   "cell_type": "code",
   "execution_count": 136,
   "id": "a8ed908b-cda3-4362-b76a-c0c4ab37c816",
   "metadata": {},
   "outputs": [
    {
     "ename": "KeyError",
     "evalue": "'sec'",
     "output_type": "error",
     "traceback": [
      "\u001b[1;31m---------------------------------------------------------------------------\u001b[0m",
      "\u001b[1;31mKeyError\u001b[0m                                  Traceback (most recent call last)",
      "Cell \u001b[1;32mIn[136], line 2\u001b[0m\n\u001b[0;32m      1\u001b[0m \u001b[38;5;28;01mdel\u001b[39;00m a[\u001b[38;5;124m'\u001b[39m\u001b[38;5;124mAge\u001b[39m\u001b[38;5;124m'\u001b[39m]\n\u001b[1;32m----> 2\u001b[0m \u001b[38;5;28;01mdel\u001b[39;00m a[\u001b[38;5;124m'\u001b[39m\u001b[38;5;124msec\u001b[39m\u001b[38;5;124m'\u001b[39m]\n",
      "\u001b[1;31mKeyError\u001b[0m: 'sec'"
     ]
    }
   ],
   "source": [
    "del a['Age']\n",
    "del a['sec']"
   ]
  },
  {
   "cell_type": "code",
   "execution_count": 142,
   "id": "014ca5f2-0d08-443e-962b-ac87304f7f5e",
   "metadata": {},
   "outputs": [
    {
     "name": "stdout",
     "output_type": "stream",
     "text": [
      "{'Name': 'Mohan Verma'}\n"
     ]
    }
   ],
   "source": [
    "print(a)"
   ]
  },
  {
   "cell_type": "code",
   "execution_count": 144,
   "id": "6b94bb84-424f-468d-b712-1e6fb53ba25d",
   "metadata": {},
   "outputs": [
    {
     "ename": "KeyError",
     "evalue": "'Sec'",
     "output_type": "error",
     "traceback": [
      "\u001b[1;31m---------------------------------------------------------------------------\u001b[0m",
      "\u001b[1;31mKeyError\u001b[0m                                  Traceback (most recent call last)",
      "Cell \u001b[1;32mIn[144], line 1\u001b[0m\n\u001b[1;32m----> 1\u001b[0m \u001b[38;5;28;01mdel\u001b[39;00m a[\u001b[38;5;124m'\u001b[39m\u001b[38;5;124mSec\u001b[39m\u001b[38;5;124m'\u001b[39m]\n",
      "\u001b[1;31mKeyError\u001b[0m: 'Sec'"
     ]
    }
   ],
   "source": [
    "del a['Sec']"
   ]
  },
  {
   "cell_type": "code",
   "execution_count": null,
   "id": "d68ba5e4-ca65-4c31-853a-aaa580eeb3b5",
   "metadata": {},
   "outputs": [],
   "source": []
  },
  {
   "cell_type": "code",
   "execution_count": 203,
   "id": "9c5293ad-dce9-458d-9fca-5a9f6bb2de2e",
   "metadata": {},
   "outputs": [
    {
     "data": {
      "text/plain": [
       "array([80830, 40326, 65037, 88932, 51545])"
      ]
     },
     "execution_count": 203,
     "metadata": {},
     "output_type": "execute_result"
    }
   ],
   "source": [
    "# dict to dataframe:- table\n",
    "# dict to table\n",
    "\n",
    "import numpy as np\n"
   ]
  },
  {
   "cell_type": "code",
   "execution_count": 263,
   "id": "a1519ee4-41d9-4c59-b2eb-301794ebd149",
   "metadata": {},
   "outputs": [
    {
     "name": "stdout",
     "output_type": "stream",
     "text": [
      "{'Emp Name': ['Aman', 'Ravi', 'Karan', 'Ajay', 'Akhil'], 'Age': [23, 34, 45, 56, 67], 'Salary': array([58758, 73013, 62447, 40077, 62822]), 'Address': ['Noida', 'Greater Noida', 'Delhi', 'Faridabad', 'Gurgaon']}\n"
     ]
    }
   ],
   "source": [
    "data = {'Emp Name':['Aman','Ravi','Karan','Ajay','Akhil'],\n",
    "       'Age':[23,34,45,56,67],\n",
    "       'Salary':np.random.randint(40000,90000,5),\n",
    "       'Address':['Noida','Greater Noida','Delhi','Faridabad','Gurgaon']}\n",
    "print(data)"
   ]
  },
  {
   "cell_type": "code",
   "execution_count": 265,
   "id": "f1cc4d5e-9914-4fe8-ace1-07aee58d965a",
   "metadata": {},
   "outputs": [],
   "source": [
    "import pandas as pd"
   ]
  },
  {
   "cell_type": "code",
   "execution_count": 267,
   "id": "a308d009-0e8a-4318-9e39-d8027ecf2890",
   "metadata": {},
   "outputs": [
    {
     "data": {
      "text/html": [
       "<div>\n",
       "<style scoped>\n",
       "    .dataframe tbody tr th:only-of-type {\n",
       "        vertical-align: middle;\n",
       "    }\n",
       "\n",
       "    .dataframe tbody tr th {\n",
       "        vertical-align: top;\n",
       "    }\n",
       "\n",
       "    .dataframe thead th {\n",
       "        text-align: right;\n",
       "    }\n",
       "</style>\n",
       "<table border=\"1\" class=\"dataframe\">\n",
       "  <thead>\n",
       "    <tr style=\"text-align: right;\">\n",
       "      <th></th>\n",
       "      <th>Emp Name</th>\n",
       "      <th>Age</th>\n",
       "      <th>Salary</th>\n",
       "      <th>Address</th>\n",
       "    </tr>\n",
       "  </thead>\n",
       "  <tbody>\n",
       "    <tr>\n",
       "      <th>0</th>\n",
       "      <td>Aman</td>\n",
       "      <td>23</td>\n",
       "      <td>58758</td>\n",
       "      <td>Noida</td>\n",
       "    </tr>\n",
       "    <tr>\n",
       "      <th>1</th>\n",
       "      <td>Ravi</td>\n",
       "      <td>34</td>\n",
       "      <td>73013</td>\n",
       "      <td>Greater Noida</td>\n",
       "    </tr>\n",
       "    <tr>\n",
       "      <th>2</th>\n",
       "      <td>Karan</td>\n",
       "      <td>45</td>\n",
       "      <td>62447</td>\n",
       "      <td>Delhi</td>\n",
       "    </tr>\n",
       "    <tr>\n",
       "      <th>3</th>\n",
       "      <td>Ajay</td>\n",
       "      <td>56</td>\n",
       "      <td>40077</td>\n",
       "      <td>Faridabad</td>\n",
       "    </tr>\n",
       "    <tr>\n",
       "      <th>4</th>\n",
       "      <td>Akhil</td>\n",
       "      <td>67</td>\n",
       "      <td>62822</td>\n",
       "      <td>Gurgaon</td>\n",
       "    </tr>\n",
       "  </tbody>\n",
       "</table>\n",
       "</div>"
      ],
      "text/plain": [
       "  Emp Name  Age  Salary        Address\n",
       "0     Aman   23   58758          Noida\n",
       "1     Ravi   34   73013  Greater Noida\n",
       "2    Karan   45   62447          Delhi\n",
       "3     Ajay   56   40077      Faridabad\n",
       "4    Akhil   67   62822        Gurgaon"
      ]
     },
     "execution_count": 267,
     "metadata": {},
     "output_type": "execute_result"
    }
   ],
   "source": [
    "table = pd.DataFrame(data)\n",
    "table"
   ]
  },
  {
   "cell_type": "code",
   "execution_count": 269,
   "id": "29e55f6d-f7b3-46e7-8f05-6384d68cc2ff",
   "metadata": {},
   "outputs": [
    {
     "name": "stdout",
     "output_type": "stream",
     "text": [
      "Done\n"
     ]
    }
   ],
   "source": [
    "table.to_excel(r'C:\\Users\\salma\\OneDrive\\Desktop\\POWERBI 4-5\\emp_details.xlsx')\n",
    "print('Done')"
   ]
  },
  {
   "cell_type": "code",
   "execution_count": 270,
   "id": "7d457be3-3499-4969-af6f-162cd2868281",
   "metadata": {},
   "outputs": [
    {
     "data": {
      "text/html": [
       "<div>\n",
       "<style scoped>\n",
       "    .dataframe tbody tr th:only-of-type {\n",
       "        vertical-align: middle;\n",
       "    }\n",
       "\n",
       "    .dataframe tbody tr th {\n",
       "        vertical-align: top;\n",
       "    }\n",
       "\n",
       "    .dataframe thead th {\n",
       "        text-align: right;\n",
       "    }\n",
       "</style>\n",
       "<table border=\"1\" class=\"dataframe\">\n",
       "  <thead>\n",
       "    <tr style=\"text-align: right;\">\n",
       "      <th></th>\n",
       "      <th>Emp Name</th>\n",
       "      <th>Age</th>\n",
       "      <th>Salary</th>\n",
       "      <th>Address</th>\n",
       "    </tr>\n",
       "  </thead>\n",
       "  <tbody>\n",
       "    <tr>\n",
       "      <th>0</th>\n",
       "      <td>Aman</td>\n",
       "      <td>23</td>\n",
       "      <td>58758</td>\n",
       "      <td>Noida</td>\n",
       "    </tr>\n",
       "    <tr>\n",
       "      <th>1</th>\n",
       "      <td>Ravi</td>\n",
       "      <td>34</td>\n",
       "      <td>73013</td>\n",
       "      <td>Greater Noida</td>\n",
       "    </tr>\n",
       "    <tr>\n",
       "      <th>2</th>\n",
       "      <td>Karan</td>\n",
       "      <td>45</td>\n",
       "      <td>62447</td>\n",
       "      <td>Delhi</td>\n",
       "    </tr>\n",
       "    <tr>\n",
       "      <th>3</th>\n",
       "      <td>Ajay</td>\n",
       "      <td>56</td>\n",
       "      <td>40077</td>\n",
       "      <td>Faridabad</td>\n",
       "    </tr>\n",
       "    <tr>\n",
       "      <th>4</th>\n",
       "      <td>Akhil</td>\n",
       "      <td>67</td>\n",
       "      <td>62822</td>\n",
       "      <td>Gurgaon</td>\n",
       "    </tr>\n",
       "  </tbody>\n",
       "</table>\n",
       "</div>"
      ],
      "text/plain": [
       "  Emp Name  Age  Salary        Address\n",
       "0     Aman   23   58758          Noida\n",
       "1     Ravi   34   73013  Greater Noida\n",
       "2    Karan   45   62447          Delhi\n",
       "3     Ajay   56   40077      Faridabad\n",
       "4    Akhil   67   62822        Gurgaon"
      ]
     },
     "execution_count": 270,
     "metadata": {},
     "output_type": "execute_result"
    }
   ],
   "source": [
    "table"
   ]
  },
  {
   "cell_type": "code",
   "execution_count": 273,
   "id": "56b21b8a-aa82-431a-8b9c-3c8cf9e7e887",
   "metadata": {},
   "outputs": [],
   "source": [
    "import matplotlib.pyplot as plt"
   ]
  },
  {
   "cell_type": "code",
   "execution_count": 274,
   "id": "5e8290bd-84dd-432f-a2b2-3fba7be6827b",
   "metadata": {},
   "outputs": [
    {
     "data": {
      "image/png": "[encoded data removed]",
      "text/plain": [
       "<Figure size 640x480 with 1 Axes>"
      ]
     },
     "metadata": {},
     "output_type": "display_data"
    }
   ],
   "source": [
    "sanjeet = plt.bar(table['Emp Name'],table['Salary'],color = ['red','yellow','green','blue','pink'])\n",
    "plt.bar_label(sanjeet)\n",
    "plt.show()"
   ]
  },
  {
   "cell_type": "code",
   "execution_count": null,
   "id": "3b6e4893-0376-4338-9119-9b1b85b5dfa5",
   "metadata": {},
   "outputs": [],
   "source": []
  },
  {
   "cell_type": "code",
   "execution_count": 286,
   "id": "08d533e2-0223-4fa5-996a-46335ec9ccbd",
   "metadata": {},
   "outputs": [
    {
     "name": "stderr",
     "output_type": "stream",
     "text": [
      "\n",
      "KeyboardInterrupt\n",
      "\n"
     ]
    }
   ],
   "source": [
    "import time\n",
    "while True:\n",
    "    data = {'Emp Name':['Aman','Ravi','Karan','Ajay','Akhil'],\n",
    "       'Age':[23,34,45,56,67],\n",
    "       'Salary':np.random.randint(40000,90000,5),\n",
    "       'Address':['Noida','Greater Noida','Delhi','Faridabad','Gurgaon']}\n",
    "    display(clear= True)\n",
    "    table = pd.DataFrame(data)\n",
    "    sanjeet = plt.bar(table['Emp Name'],table['Salary'],color = ['red','yellow','green','blue','pink'])\n",
    "    plt.bar_label(sanjeet)\n",
    "    plt.show()\n",
    "    # time.sleep(1)"
   ]
  },
  {
   "cell_type": "code",
   "execution_count": null,
   "id": "0e6831a7-d2d6-4ddc-ab40-81b937f1cc2c",
   "metadata": {},
   "outputs": [],
   "source": []
  },
  {
   "cell_type": "markdown",
   "id": "aad69394-4f2a-449d-849a-4860a3ec0b2c",
   "metadata": {},
   "source": [
    "# Methods"
   ]
  },
  {
   "cell_type": "code",
   "execution_count": 292,
   "id": "2ca3cc23-049b-484a-a5cc-1c32c2204589",
   "metadata": {},
   "outputs": [],
   "source": [
    "# data.clear\n",
    "# data.copy\n",
    "# data.fromkeys\n",
    "# data.get\n",
    "# data.items\n",
    "# data.keys\n",
    "# data.pop\n",
    "# data.popitem\n",
    "# data.setdefault\n",
    "# data.update\n",
    "# data.values"
   ]
  },
  {
   "cell_type": "code",
   "execution_count": 294,
   "id": "f5a67209-6e5c-45f2-b916-b3d63af97349",
   "metadata": {},
   "outputs": [
    {
     "data": {
      "text/plain": [
       "{'Emp Name': ['Aman', 'Ravi', 'Karan', 'Ajay', 'Akhil'],\n",
       " 'Age': [23, 34, 45, 56, 67],\n",
       " 'Salary': array([64722, 84172, 63302, 44760, 84530]),\n",
       " 'Address': ['Noida', 'Greater Noida', 'Delhi', 'Faridabad', 'Gurgaon']}"
      ]
     },
     "execution_count": 294,
     "metadata": {},
     "output_type": "execute_result"
    }
   ],
   "source": [
    "data"
   ]
  },
  {
   "cell_type": "code",
   "execution_count": 296,
   "id": "00911509-a68b-4fb0-be78-e992222f4a9b",
   "metadata": {},
   "outputs": [],
   "source": [
    "data.clear()"
   ]
  },
  {
   "cell_type": "code",
   "execution_count": 302,
   "id": "afac84b6-5914-473b-aed8-0ae9d2beeeff",
   "metadata": {},
   "outputs": [
    {
     "name": "stdout",
     "output_type": "stream",
     "text": [
      "{}\n"
     ]
    }
   ],
   "source": [
    "print(data)"
   ]
  },
  {
   "cell_type": "code",
   "execution_count": 300,
   "id": "d9765cf9-a51c-471a-a326-18e10d02bcca",
   "metadata": {},
   "outputs": [
    {
     "data": {
      "text/plain": [
       "dict"
      ]
     },
     "execution_count": 300,
     "metadata": {},
     "output_type": "execute_result"
    }
   ],
   "source": [
    "type(data)"
   ]
  },
  {
   "cell_type": "code",
   "execution_count": 304,
   "id": "9f804d6f-b2df-4e12-a9ff-f9b21afb8501",
   "metadata": {},
   "outputs": [
    {
     "name": "stdout",
     "output_type": "stream",
     "text": [
      "{}\n",
      "<class 'dict'>\n"
     ]
    }
   ],
   "source": [
    "empty_set = {}\n",
    "print(empty_set)\n",
    "print(type(empty_set))"
   ]
  },
  {
   "cell_type": "code",
   "execution_count": 306,
   "id": "7eb99a4f-4b45-474d-a79c-7afcf8d1fcbd",
   "metadata": {},
   "outputs": [
    {
     "name": "stdout",
     "output_type": "stream",
     "text": [
      "set()\n",
      "<class 'set'>\n"
     ]
    }
   ],
   "source": [
    "empty_set =set()\n",
    "print(empty_set)\n",
    "print(type(empty_set))"
   ]
  },
  {
   "cell_type": "code",
   "execution_count": null,
   "id": "c0947180-5260-4e6d-96cf-5aa44c2a9a12",
   "metadata": {},
   "outputs": [],
   "source": []
  },
  {
   "cell_type": "code",
   "execution_count": 309,
   "id": "798c2fa3-f622-468f-a9c2-20cec2ca2dbf",
   "metadata": {},
   "outputs": [
    {
     "data": {
      "text/plain": [
       "{'Bank': [{'Area1': [1200], 'Area2': [1300]}]}"
      ]
     },
     "execution_count": 309,
     "metadata": {},
     "output_type": "execute_result"
    }
   ],
   "source": [
    "data = {'Bank':[{'Area1':[1200],'Area2':[1300]}]}\n",
    "data"
   ]
  },
  {
   "cell_type": "code",
   "execution_count": 311,
   "id": "06901c31-a9d7-4285-aac4-83f3d22cc50d",
   "metadata": {},
   "outputs": [],
   "source": [
    "# json"
   ]
  },
  {
   "cell_type": "code",
   "execution_count": 321,
   "id": "5579c372-56f9-4d59-b19c-4a2fa885db7a",
   "metadata": {},
   "outputs": [],
   "source": [
    "data['Bank'][0]['Area1'][0] = 1300"
   ]
  },
  {
   "cell_type": "code",
   "execution_count": 323,
   "id": "15032646-0a73-415d-b222-7031c12f6595",
   "metadata": {},
   "outputs": [
    {
     "data": {
      "text/plain": [
       "{'Bank': [{'Area1': [1300], 'Area2': [1300]}]}"
      ]
     },
     "execution_count": 323,
     "metadata": {},
     "output_type": "execute_result"
    }
   ],
   "source": [
    "data"
   ]
  },
  {
   "cell_type": "code",
   "execution_count": 333,
   "id": "1e179396-dfbe-4aae-9df1-8efdeae3305c",
   "metadata": {},
   "outputs": [],
   "source": [
    "data['Bank'][0]['Area2'][0] = 1200"
   ]
  },
  {
   "cell_type": "code",
   "execution_count": 335,
   "id": "5a4fbbd7-79bf-4ccd-b401-d5b7a997627b",
   "metadata": {},
   "outputs": [
    {
     "data": {
      "text/plain": [
       "{'Bank': [{'Area1': [1300], 'Area2': [1200]}]}"
      ]
     },
     "execution_count": 335,
     "metadata": {},
     "output_type": "execute_result"
    }
   ],
   "source": [
    "data"
   ]
  },
  {
   "cell_type": "code",
   "execution_count": 337,
   "id": "0f5e92c6-17d3-47b3-b557-69edeb1be6da",
   "metadata": {},
   "outputs": [],
   "source": [
    "data = {'a':[[[{'b':(2,[234567,{'Bank1':{'Name':'Mohan','Bank2':[[{'Bank3':[1200]}]]}}])}]]]}"
   ]
  },
  {
   "cell_type": "code",
   "execution_count": 339,
   "id": "53ddbcae-41e3-4fda-9cc3-917fa004a19e",
   "metadata": {},
   "outputs": [
    {
     "data": {
      "text/plain": [
       "{'a': [[[{'b': (2,\n",
       "      [234567,\n",
       "       {'Bank1': {'Name': 'Mohan', 'Bank2': [[{'Bank3': [1200]}]]}}])}]]]}"
      ]
     },
     "execution_count": 339,
     "metadata": {},
     "output_type": "execute_result"
    }
   ],
   "source": [
    "data"
   ]
  },
  {
   "cell_type": "code",
   "execution_count": 365,
   "id": "82384900-8be1-46eb-b836-b1baae9b07cb",
   "metadata": {},
   "outputs": [],
   "source": [
    "data['a'][0][0][0]['b'][1][1]['Bank1']['Bank2'][0][0]['Bank3'][0] = 1300"
   ]
  },
  {
   "cell_type": "code",
   "execution_count": 367,
   "id": "975cd1b8-6a1c-4fa6-88a7-d74ad5530835",
   "metadata": {},
   "outputs": [
    {
     "data": {
      "text/plain": [
       "{'a': [[[{'b': (2,\n",
       "      [234567,\n",
       "       {'Bank1': {'Name': 'Mohan', 'Bank2': [[{'Bank3': [1300]}]]}}])}]]]}"
      ]
     },
     "execution_count": 367,
     "metadata": {},
     "output_type": "execute_result"
    }
   ],
   "source": [
    "data"
   ]
  },
  {
   "cell_type": "code",
   "execution_count": 369,
   "id": "d4a4c338-11f3-4333-a1a3-05902ebaca9f",
   "metadata": {},
   "outputs": [],
   "source": [
    "data = {'a':[[[{'b':(2,[234567,{'Bank1':{'Name':'Mohan','Bank2':[[{'Bank3':{'Emp Name':['Aman','Ravi','Karan','Ajay','Akhil'],\n",
    "       'Age':[23,34,45,56,67],\n",
    "       'Salary':np.random.randint(40000,90000,5),\n",
    "       'Address':['Noida','Greater Noida','Delhi','Faridabad','Gurgaon']}}]]}}])}]]]}"
   ]
  },
  {
   "cell_type": "code",
   "execution_count": 371,
   "id": "ebdd2a50-cda7-4169-a8a2-a67f7a5827b4",
   "metadata": {},
   "outputs": [
    {
     "data": {
      "text/plain": [
       "{'a': [[[{'b': (2,\n",
       "      [234567,\n",
       "       {'Bank1': {'Name': 'Mohan',\n",
       "         'Bank2': [[{'Bank3': {'Emp Name': ['Aman',\n",
       "              'Ravi',\n",
       "              'Karan',\n",
       "              'Ajay',\n",
       "              'Akhil'],\n",
       "             'Age': [23, 34, 45, 56, 67],\n",
       "             'Salary': array([80971, 44095, 41443, 80443, 78119]),\n",
       "             'Address': ['Noida',\n",
       "              'Greater Noida',\n",
       "              'Delhi',\n",
       "              'Faridabad',\n",
       "              'Gurgaon']}}]]}}])}]]]}"
      ]
     },
     "execution_count": 371,
     "metadata": {},
     "output_type": "execute_result"
    }
   ],
   "source": [
    "data"
   ]
  },
  {
   "cell_type": "code",
   "execution_count": 377,
   "id": "d812f81a-2b57-483e-9f91-124dc7db48e4",
   "metadata": {},
   "outputs": [
    {
     "data": {
      "text/html": [
       "<div>\n",
       "<style scoped>\n",
       "    .dataframe tbody tr th:only-of-type {\n",
       "        vertical-align: middle;\n",
       "    }\n",
       "\n",
       "    .dataframe tbody tr th {\n",
       "        vertical-align: top;\n",
       "    }\n",
       "\n",
       "    .dataframe thead th {\n",
       "        text-align: right;\n",
       "    }\n",
       "</style>\n",
       "<table border=\"1\" class=\"dataframe\">\n",
       "  <thead>\n",
       "    <tr style=\"text-align: right;\">\n",
       "      <th></th>\n",
       "      <th>Emp Name</th>\n",
       "      <th>Age</th>\n",
       "      <th>Salary</th>\n",
       "      <th>Address</th>\n",
       "    </tr>\n",
       "  </thead>\n",
       "  <tbody>\n",
       "    <tr>\n",
       "      <th>0</th>\n",
       "      <td>Aman</td>\n",
       "      <td>23</td>\n",
       "      <td>80971</td>\n",
       "      <td>Noida</td>\n",
       "    </tr>\n",
       "    <tr>\n",
       "      <th>1</th>\n",
       "      <td>Ravi</td>\n",
       "      <td>34</td>\n",
       "      <td>44095</td>\n",
       "      <td>Greater Noida</td>\n",
       "    </tr>\n",
       "    <tr>\n",
       "      <th>2</th>\n",
       "      <td>Karan</td>\n",
       "      <td>45</td>\n",
       "      <td>41443</td>\n",
       "      <td>Delhi</td>\n",
       "    </tr>\n",
       "    <tr>\n",
       "      <th>3</th>\n",
       "      <td>Ajay</td>\n",
       "      <td>56</td>\n",
       "      <td>80443</td>\n",
       "      <td>Faridabad</td>\n",
       "    </tr>\n",
       "    <tr>\n",
       "      <th>4</th>\n",
       "      <td>Akhil</td>\n",
       "      <td>67</td>\n",
       "      <td>78119</td>\n",
       "      <td>Gurgaon</td>\n",
       "    </tr>\n",
       "  </tbody>\n",
       "</table>\n",
       "</div>"
      ],
      "text/plain": [
       "  Emp Name  Age  Salary        Address\n",
       "0     Aman   23   80971          Noida\n",
       "1     Ravi   34   44095  Greater Noida\n",
       "2    Karan   45   41443          Delhi\n",
       "3     Ajay   56   80443      Faridabad\n",
       "4    Akhil   67   78119        Gurgaon"
      ]
     },
     "execution_count": 377,
     "metadata": {},
     "output_type": "execute_result"
    }
   ],
   "source": [
    "tabular_dict = data['a'][0][0][0]['b'][1][1]['Bank1']['Bank2'][0][0]['Bank3']\n",
    "pd.DataFrame(tabular_dict)"
   ]
  },
  {
   "cell_type": "code",
   "execution_count": 379,
   "id": "e0112273-f047-4635-a920-1d643371b3f8",
   "metadata": {},
   "outputs": [],
   "source": [
    "# pd.rea"
   ]
  },
  {
   "cell_type": "code",
   "execution_count": 383,
   "id": "f0b7b5a3-e1d9-45e5-9fd7-5b5e96bc3c57",
   "metadata": {},
   "outputs": [
    {
     "data": {
      "text/plain": [
       "dict_keys(['a'])"
      ]
     },
     "execution_count": 383,
     "metadata": {},
     "output_type": "execute_result"
    }
   ],
   "source": [
    "data.keys()"
   ]
  },
  {
   "cell_type": "code",
   "execution_count": 385,
   "id": "0987da66-711c-47a5-ac35-fa93e7884bf7",
   "metadata": {},
   "outputs": [],
   "source": [
    "nifty = {\n",
    "  \"data\": {\n",
    "    \"marketCapitalization\": {\n",
    "      \"tlMKtCapTri\": 4.81555088575367,\n",
    "      \"tlMKtCapLacCr\": 412.434597381613,\n",
    "      \"timestamp\": \"16-Apr-2025\"\n",
    "    },\n",
    "    \"usdInr\": {\n",
    "      \"symbol\": \"USDINR\",\n",
    "      \"updated_time\": \"16-Apr-2025 17:00\",\n",
    "      \"ltp\": \"85.715\",\n",
    "      \"instrument_type\": \"FUTCUR\",\n",
    "      \"expiry_dt\": \"28-Apr-2025\"\n",
    "    },\n",
    "    \"giftNifty\": {\n",
    "      \"instrumenttype\": \"FUTIDX\",\n",
    "      \"symbol\": \"NIFTY\",\n",
    "      \"expirydate\": \"24-Apr-2025\",\n",
    "      \"optiontype\": \"-\",\n",
    "      \"strikeprice\": 0,\n",
    "      \"lastprice\": 23447.5,\n",
    "      \"daychange\": -21.5,\n",
    "      \"perchange\": -0.09,\n",
    "      \"contractstraded\": 48774,\n",
    "      \"timestmp\": \"16-Apr-2025 18:05\",\n",
    "      \"id\": \"1/NIFTYFUTIDX24-Apr-2025--\"\n",
    "    }\n",
    "  }\n",
    "}"
   ]
  },
  {
   "cell_type": "code",
   "execution_count": 387,
   "id": "5f5ecbdc-8a98-4255-917e-073dda57966c",
   "metadata": {},
   "outputs": [
    {
     "data": {
      "text/plain": [
       "{'data': {'marketCapitalization': {'tlMKtCapTri': 4.81555088575367,\n",
       "   'tlMKtCapLacCr': 412.434597381613,\n",
       "   'timestamp': '16-Apr-2025'},\n",
       "  'usdInr': {'symbol': 'USDINR',\n",
       "   'updated_time': '16-Apr-2025 17:00',\n",
       "   'ltp': '85.715',\n",
       "   'instrument_type': 'FUTCUR',\n",
       "   'expiry_dt': '28-Apr-2025'},\n",
       "  'giftNifty': {'instrumenttype': 'FUTIDX',\n",
       "   'symbol': 'NIFTY',\n",
       "   'expirydate': '24-Apr-2025',\n",
       "   'optiontype': '-',\n",
       "   'strikeprice': 0,\n",
       "   'lastprice': 23447.5,\n",
       "   'daychange': -21.5,\n",
       "   'perchange': -0.09,\n",
       "   'contractstraded': 48774,\n",
       "   'timestmp': '16-Apr-2025 18:05',\n",
       "   'id': '1/NIFTYFUTIDX24-Apr-2025--'}}}"
      ]
     },
     "execution_count": 387,
     "metadata": {},
     "output_type": "execute_result"
    }
   ],
   "source": [
    "nifty"
   ]
  },
  {
   "cell_type": "code",
   "execution_count": 397,
   "id": "fd3d98d4-cc9d-4351-bae7-4af94df04ca3",
   "metadata": {},
   "outputs": [],
   "source": [
    "contractstraded = nifty['data']['giftNifty']['contractstraded']"
   ]
  },
  {
   "cell_type": "code",
   "execution_count": 399,
   "id": "e855a3c1-80c3-4322-aae8-b5e288530b4c",
   "metadata": {},
   "outputs": [
    {
     "name": "stdout",
     "output_type": "stream",
     "text": [
      "contractstraded for today: 48774\n"
     ]
    }
   ],
   "source": [
    "print(f'contractstraded for today: {contractstraded }')"
   ]
  },
  {
   "cell_type": "code",
   "execution_count": 423,
   "id": "5c39bbcf-5461-4942-87ee-648952e45c96",
   "metadata": {},
   "outputs": [
    {
     "data": {
      "text/html": [
       "<div>\n",
       "<style scoped>\n",
       "    .dataframe tbody tr th:only-of-type {\n",
       "        vertical-align: middle;\n",
       "    }\n",
       "\n",
       "    .dataframe tbody tr th {\n",
       "        vertical-align: top;\n",
       "    }\n",
       "\n",
       "    .dataframe thead th {\n",
       "        text-align: right;\n",
       "    }\n",
       "</style>\n",
       "<table border=\"1\" class=\"dataframe\">\n",
       "  <thead>\n",
       "    <tr style=\"text-align: right;\">\n",
       "      <th></th>\n",
       "      <th>1</th>\n",
       "    </tr>\n",
       "  </thead>\n",
       "  <tbody>\n",
       "    <tr>\n",
       "      <th>instrumenttype</th>\n",
       "      <td>FUTIDX</td>\n",
       "    </tr>\n",
       "    <tr>\n",
       "      <th>symbol</th>\n",
       "      <td>NIFTY</td>\n",
       "    </tr>\n",
       "    <tr>\n",
       "      <th>expirydate</th>\n",
       "      <td>24-Apr-2025</td>\n",
       "    </tr>\n",
       "    <tr>\n",
       "      <th>optiontype</th>\n",
       "      <td>-</td>\n",
       "    </tr>\n",
       "    <tr>\n",
       "      <th>strikeprice</th>\n",
       "      <td>0</td>\n",
       "    </tr>\n",
       "    <tr>\n",
       "      <th>lastprice</th>\n",
       "      <td>23447.5</td>\n",
       "    </tr>\n",
       "    <tr>\n",
       "      <th>daychange</th>\n",
       "      <td>-21.5</td>\n",
       "    </tr>\n",
       "    <tr>\n",
       "      <th>perchange</th>\n",
       "      <td>-0.09</td>\n",
       "    </tr>\n",
       "    <tr>\n",
       "      <th>contractstraded</th>\n",
       "      <td>48774</td>\n",
       "    </tr>\n",
       "    <tr>\n",
       "      <th>timestmp</th>\n",
       "      <td>16-Apr-2025 18:05</td>\n",
       "    </tr>\n",
       "    <tr>\n",
       "      <th>id</th>\n",
       "      <td>1/NIFTYFUTIDX24-Apr-2025--</td>\n",
       "    </tr>\n",
       "  </tbody>\n",
       "</table>\n",
       "</div>"
      ],
      "text/plain": [
       "                                          1\n",
       "instrumenttype                       FUTIDX\n",
       "symbol                                NIFTY\n",
       "expirydate                      24-Apr-2025\n",
       "optiontype                                -\n",
       "strikeprice                               0\n",
       "lastprice                           23447.5\n",
       "daychange                             -21.5\n",
       "perchange                             -0.09\n",
       "contractstraded                       48774\n",
       "timestmp                  16-Apr-2025 18:05\n",
       "id               1/NIFTYFUTIDX24-Apr-2025--"
      ]
     },
     "execution_count": 423,
     "metadata": {},
     "output_type": "execute_result"
    }
   ],
   "source": [
    "pd.DataFrame(pd.DataFrame(nifty).loc['giftNifty']['data'],index = [1]).T"
   ]
  },
  {
   "cell_type": "code",
   "execution_count": null,
   "id": "0985f2f9-5ff3-49f3-9694-cfe6bae32ce2",
   "metadata": {},
   "outputs": [],
   "source": []
  }
 ],
 "metadata": {
  "kernelspec": {
   "display_name": "Python [conda env:base] *",
   "language": "python",
   "name": "conda-base-py"
  },
  "language_info": {
   "codemirror_mode": {
    "name": "ipython",
    "version": 3
   },
   "file_extension": ".py",
   "mimetype": "text/x-python",
   "name": "python",
   "nbconvert_exporter": "python",
   "pygments_lexer": "ipython3",
   "version": "3.12.7"
  }
 },
 "nbformat": 4,
 "nbformat_minor": 5
}
