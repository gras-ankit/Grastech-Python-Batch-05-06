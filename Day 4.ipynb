{
 "cells": [
  {
   "cell_type": "markdown",
   "id": "bbee8fb5-dab7-4d8e-955d-af6f780c49cf",
   "metadata": {},
   "source": [
    "# String Methods"
   ]
  },
  {
   "cell_type": "code",
   "execution_count": 2,
   "id": "db052970-0590-41d9-b7f1-2b0db6eba842",
   "metadata": {},
   "outputs": [],
   "source": [
    "# Lower\n",
    "# upper\n",
    "# title\n",
    "# count"
   ]
  },
  {
   "cell_type": "code",
   "execution_count": 4,
   "id": "e4a0245d-94cd-4e53-b4d9-d2ed6673adca",
   "metadata": {},
   "outputs": [],
   "source": [
    "a = 'Python is Awesome'"
   ]
  },
  {
   "cell_type": "code",
   "execution_count": 6,
   "id": "f9e7855b-1485-4757-962e-fa361e236987",
   "metadata": {},
   "outputs": [
    {
     "name": "stdout",
     "output_type": "stream",
     "text": [
      "Python is Awesome\n"
     ]
    }
   ],
   "source": [
    "print(a)"
   ]
  },
  {
   "cell_type": "code",
   "execution_count": 8,
   "id": "0eb99e7f-fe52-4703-98d4-7ec2cc5daf76",
   "metadata": {},
   "outputs": [
    {
     "data": {
      "text/plain": [
       "10"
      ]
     },
     "execution_count": 8,
     "metadata": {},
     "output_type": "execute_result"
    }
   ],
   "source": [
    "a.find('A')"
   ]
  },
  {
   "cell_type": "code",
   "execution_count": 10,
   "id": "2d712d98-1db6-4754-bef7-f4d14cbded43",
   "metadata": {},
   "outputs": [
    {
     "data": {
      "text/plain": [
       "'Python is Awesome'"
      ]
     },
     "execution_count": 10,
     "metadata": {},
     "output_type": "execute_result"
    }
   ],
   "source": [
    "a"
   ]
  },
  {
   "cell_type": "code",
   "execution_count": 12,
   "id": "a4855c07-a2ab-4c70-aa3e-40d2b7dff8ca",
   "metadata": {},
   "outputs": [
    {
     "data": {
      "text/plain": [
       "'Awesome'"
      ]
     },
     "execution_count": 12,
     "metadata": {},
     "output_type": "execute_result"
    }
   ],
   "source": [
    "a[10:]"
   ]
  },
  {
   "cell_type": "code",
   "execution_count": 14,
   "id": "ea4c1d97-8dba-43f1-b2e7-1f7f40a8f98c",
   "metadata": {},
   "outputs": [
    {
     "data": {
      "text/plain": [
       "'Awesome'"
      ]
     },
     "execution_count": 14,
     "metadata": {},
     "output_type": "execute_result"
    }
   ],
   "source": [
    "a[a.find('A'):]"
   ]
  },
  {
   "cell_type": "code",
   "execution_count": 16,
   "id": "deb63afc-b55e-425b-a15b-3139839d3331",
   "metadata": {},
   "outputs": [
    {
     "data": {
      "text/plain": [
       "'Python is Awesome'"
      ]
     },
     "execution_count": 16,
     "metadata": {},
     "output_type": "execute_result"
    }
   ],
   "source": [
    "a"
   ]
  },
  {
   "cell_type": "code",
   "execution_count": 18,
   "id": "25a91aab-d9e3-44ca-8ce1-e0c7151f8dd4",
   "metadata": {},
   "outputs": [
    {
     "data": {
      "text/plain": [
       "5"
      ]
     },
     "execution_count": 18,
     "metadata": {},
     "output_type": "execute_result"
    }
   ],
   "source": [
    "a.find('n')"
   ]
  },
  {
   "cell_type": "code",
   "execution_count": 22,
   "id": "cebd5489-fdea-4415-862c-4857790a7eb2",
   "metadata": {},
   "outputs": [
    {
     "data": {
      "text/plain": [
       "'Python'"
      ]
     },
     "execution_count": 22,
     "metadata": {},
     "output_type": "execute_result"
    }
   ],
   "source": [
    "a[0:a.find('n') + 1]"
   ]
  },
  {
   "cell_type": "code",
   "execution_count": 24,
   "id": "8a49c28a-4e85-4c85-88fe-a7a850bb00c5",
   "metadata": {},
   "outputs": [
    {
     "data": {
      "text/plain": [
       "'Python is Awesome'"
      ]
     },
     "execution_count": 24,
     "metadata": {},
     "output_type": "execute_result"
    }
   ],
   "source": [
    "a"
   ]
  },
  {
   "cell_type": "code",
   "execution_count": 26,
   "id": "ffc96d6a-841b-481d-928c-96511beaa6ce",
   "metadata": {},
   "outputs": [
    {
     "data": {
      "text/plain": [
       "12"
      ]
     },
     "execution_count": 26,
     "metadata": {},
     "output_type": "execute_result"
    }
   ],
   "source": [
    "a.find('e')"
   ]
  },
  {
   "cell_type": "code",
   "execution_count": 28,
   "id": "c601cc38-6554-4bdb-99e5-84d4a758ae6e",
   "metadata": {},
   "outputs": [
    {
     "data": {
      "text/plain": [
       "16"
      ]
     },
     "execution_count": 28,
     "metadata": {},
     "output_type": "execute_result"
    }
   ],
   "source": [
    "a.find('e',13)"
   ]
  },
  {
   "cell_type": "code",
   "execution_count": 30,
   "id": "71eff420-a99e-435e-9009-07ece38e083d",
   "metadata": {},
   "outputs": [
    {
     "data": {
      "text/plain": [
       "'Python is Awesome'"
      ]
     },
     "execution_count": 30,
     "metadata": {},
     "output_type": "execute_result"
    }
   ],
   "source": [
    "a"
   ]
  },
  {
   "cell_type": "code",
   "execution_count": 32,
   "id": "c6f2f5cd-f577-4cbf-b6ac-6d510f417171",
   "metadata": {},
   "outputs": [
    {
     "data": {
      "text/plain": [
       "4"
      ]
     },
     "execution_count": 32,
     "metadata": {},
     "output_type": "execute_result"
    }
   ],
   "source": [
    "a.find('o')"
   ]
  },
  {
   "cell_type": "code",
   "execution_count": 34,
   "id": "f52f854e-83c2-41f6-9c5d-4b0afcda0864",
   "metadata": {},
   "outputs": [
    {
     "data": {
      "text/plain": [
       "14"
      ]
     },
     "execution_count": 34,
     "metadata": {},
     "output_type": "execute_result"
    }
   ],
   "source": [
    "a.find('o',5)"
   ]
  },
  {
   "cell_type": "code",
   "execution_count": 38,
   "id": "c8282a2b-6d5c-462e-898c-5dbd592091b0",
   "metadata": {},
   "outputs": [
    {
     "data": {
      "text/plain": [
       "'Python is Awesome'"
      ]
     },
     "execution_count": 38,
     "metadata": {},
     "output_type": "execute_result"
    }
   ],
   "source": [
    "a"
   ]
  },
  {
   "cell_type": "code",
   "execution_count": 40,
   "id": "fa1ccf6d-ae5d-4d2f-8c3b-f6e299d5d47c",
   "metadata": {},
   "outputs": [
    {
     "data": {
      "text/plain": [
       "-1"
      ]
     },
     "execution_count": 40,
     "metadata": {},
     "output_type": "execute_result"
    }
   ],
   "source": [
    "a.find('z')"
   ]
  },
  {
   "cell_type": "code",
   "execution_count": 44,
   "id": "4ac44891-769e-4ec1-b6a7-167dc0f74903",
   "metadata": {},
   "outputs": [
    {
     "data": {
      "text/plain": [
       "10"
      ]
     },
     "execution_count": 44,
     "metadata": {},
     "output_type": "execute_result"
    }
   ],
   "source": [
    "a.index('A')"
   ]
  },
  {
   "cell_type": "code",
   "execution_count": 46,
   "id": "5170c632-722d-4ce8-b531-a438a9436ffc",
   "metadata": {},
   "outputs": [
    {
     "ename": "ValueError",
     "evalue": "substring not found",
     "output_type": "error",
     "traceback": [
      "\u001b[1;31m---------------------------------------------------------------------------\u001b[0m",
      "\u001b[1;31mValueError\u001b[0m                                Traceback (most recent call last)",
      "Cell \u001b[1;32mIn[46], line 1\u001b[0m\n\u001b[1;32m----> 1\u001b[0m a\u001b[38;5;241m.\u001b[39mindex(\u001b[38;5;124m'\u001b[39m\u001b[38;5;124mz\u001b[39m\u001b[38;5;124m'\u001b[39m)\n",
      "\u001b[1;31mValueError\u001b[0m: substring not found"
     ]
    }
   ],
   "source": [
    "a.index('z')"
   ]
  },
  {
   "cell_type": "code",
   "execution_count": 48,
   "id": "b1dc0281-1963-4b8f-861f-df40caf1b28d",
   "metadata": {},
   "outputs": [
    {
     "data": {
      "text/plain": [
       "-1"
      ]
     },
     "execution_count": 48,
     "metadata": {},
     "output_type": "execute_result"
    }
   ],
   "source": [
    "a.find('Z')"
   ]
  },
  {
   "cell_type": "code",
   "execution_count": 58,
   "id": "6a3591d5-6d68-4cfe-9150-f9b425036bde",
   "metadata": {},
   "outputs": [
    {
     "name": "stdout",
     "output_type": "stream",
     "text": [
      "I have Maruti car, having price of Rs 3456789 of model 2026\n"
     ]
    }
   ],
   "source": [
    "car = 'Maruti'\n",
    "price = 3456789\n",
    "year = 2026\n",
    "\n",
    "\n",
    "msg = 'I have {} car, having price of Rs {} of model {}'.format(car,price,year)\n",
    "print(msg)"
   ]
  },
  {
   "cell_type": "code",
   "execution_count": null,
   "id": "eda4e055-30b9-4048-8b1f-c8f16a54b9b4",
   "metadata": {},
   "outputs": [],
   "source": []
  },
  {
   "cell_type": "code",
   "execution_count": 61,
   "id": "17dd15aa-d536-4d70-9806-04a1877017ad",
   "metadata": {},
   "outputs": [
    {
     "name": "stdout",
     "output_type": "stream",
     "text": [
      "I have 3456789 car, having price of Rs 2026 of model Maruti\n"
     ]
    }
   ],
   "source": [
    "car = 'Maruti'\n",
    "price = 3456789\n",
    "year = 2026\n",
    "\n",
    "\n",
    "msg = 'I have {} car, having price of Rs {} of model {}'.format(price,year,car)\n",
    "print(msg)"
   ]
  },
  {
   "cell_type": "code",
   "execution_count": 65,
   "id": "eef798d8-9c4b-460c-90f1-df222bc75934",
   "metadata": {},
   "outputs": [
    {
     "name": "stdout",
     "output_type": "stream",
     "text": [
      "I have Maruti car, having price of Rs 3456789 of model 2026\n"
     ]
    }
   ],
   "source": [
    "car = 'Maruti'\n",
    "price = 3456789\n",
    "year = 2026\n",
    "\n",
    "\n",
    "msg = 'I have {2} car, having price of Rs {0} of model {1}'.format(price,year,car)\n",
    "print(msg)"
   ]
  },
  {
   "cell_type": "code",
   "execution_count": null,
   "id": "0919e0c8-bd0b-46c5-8999-85a540df9d3f",
   "metadata": {},
   "outputs": [],
   "source": []
  },
  {
   "cell_type": "code",
   "execution_count": 68,
   "id": "f461f277-1768-4348-86c3-fa200e967a7b",
   "metadata": {},
   "outputs": [],
   "source": [
    "# Fstring"
   ]
  },
  {
   "cell_type": "code",
   "execution_count": 70,
   "id": "d1d24a04-56b9-468d-9437-e67554d350a9",
   "metadata": {},
   "outputs": [
    {
     "name": "stdout",
     "output_type": "stream",
     "text": [
      "I have Maruti car, having price of Rs 3456789 of model 2026\n"
     ]
    }
   ],
   "source": [
    "c = 'Maruti'\n",
    "p = 3456789\n",
    "y = 2026\n",
    "\n",
    "\n",
    "msg = f'I have {c} car, having price of Rs {p} of model {y}'\n",
    "print(msg)"
   ]
  },
  {
   "cell_type": "code",
   "execution_count": 72,
   "id": "499ec74c-812c-4534-8fc9-5acd4a4a767d",
   "metadata": {},
   "outputs": [
    {
     "name": "stdout",
     "output_type": "stream",
     "text": [
      "I have 3456789 car, having price of Rs 3456789 of model 3456789\n"
     ]
    }
   ],
   "source": [
    "c = 'Maruti'\n",
    "p = 3456789\n",
    "y = 2026\n",
    "\n",
    "\n",
    "msg = f'I have {p} car, having price of Rs {p} of model {p}'\n",
    "print(msg)"
   ]
  },
  {
   "cell_type": "code",
   "execution_count": 74,
   "id": "1221d165-43b0-4cd3-addb-1a48d101e666",
   "metadata": {},
   "outputs": [
    {
     "data": {
      "text/plain": [
       "'Python is Awesome'"
      ]
     },
     "execution_count": 74,
     "metadata": {},
     "output_type": "execute_result"
    }
   ],
   "source": [
    "a"
   ]
  },
  {
   "cell_type": "code",
   "execution_count": 76,
   "id": "fcb3545d-f914-4e53-a106-25e3947193d2",
   "metadata": {},
   "outputs": [
    {
     "data": {
      "text/plain": [
       "'Python is Awesome'"
      ]
     },
     "execution_count": 76,
     "metadata": {},
     "output_type": "execute_result"
    }
   ],
   "source": [
    "a"
   ]
  },
  {
   "cell_type": "code",
   "execution_count": 86,
   "id": "4b68d74b-5d29-4d28-8dea-f05e65e1fcf9",
   "metadata": {},
   "outputs": [
    {
     "data": {
      "text/plain": [
       "False"
      ]
     },
     "execution_count": 86,
     "metadata": {},
     "output_type": "execute_result"
    }
   ],
   "source": [
    "a = 'Awe some123'\n",
    "a.isalnum()"
   ]
  },
  {
   "cell_type": "code",
   "execution_count": 98,
   "id": "6e193d19-c675-4ef3-a99a-25b9fb88607c",
   "metadata": {},
   "outputs": [
    {
     "data": {
      "text/plain": [
       "True"
      ]
     },
     "execution_count": 98,
     "metadata": {},
     "output_type": "execute_result"
    }
   ],
   "source": [
    "a = 'u'\n",
    "\n",
    "a.isalpha()"
   ]
  },
  {
   "cell_type": "code",
   "execution_count": 102,
   "id": "8cd22c7f-48f3-4341-b6f0-ccc030f67a67",
   "metadata": {},
   "outputs": [
    {
     "data": {
      "text/plain": [
       "False"
      ]
     },
     "execution_count": 102,
     "metadata": {},
     "output_type": "execute_result"
    }
   ],
   "source": [
    "a = '👍'\n",
    "a.isascii()"
   ]
  },
  {
   "cell_type": "code",
   "execution_count": null,
   "id": "39eafb89-ecc2-4628-a348-989f623a36a0",
   "metadata": {},
   "outputs": [],
   "source": []
  },
  {
   "cell_type": "code",
   "execution_count": 105,
   "id": "c26e42d1-a423-4900-b162-b8e66a3d918e",
   "metadata": {},
   "outputs": [
    {
     "data": {
      "text/plain": [
       "97"
      ]
     },
     "execution_count": 105,
     "metadata": {},
     "output_type": "execute_result"
    }
   ],
   "source": [
    "ord('a')"
   ]
  },
  {
   "cell_type": "code",
   "execution_count": 109,
   "id": "75262b3e-3212-4370-ae27-06ecebe5c331",
   "metadata": {},
   "outputs": [
    {
     "data": {
      "text/plain": [
       "98"
      ]
     },
     "execution_count": 109,
     "metadata": {},
     "output_type": "execute_result"
    }
   ],
   "source": [
    "ord('b')"
   ]
  },
  {
   "cell_type": "code",
   "execution_count": 111,
   "id": "8fe288a7-214b-4566-8661-a3fa637f358f",
   "metadata": {},
   "outputs": [
    {
     "data": {
      "text/plain": [
       "99"
      ]
     },
     "execution_count": 111,
     "metadata": {},
     "output_type": "execute_result"
    }
   ],
   "source": [
    "ord('c')"
   ]
  },
  {
   "cell_type": "code",
   "execution_count": 113,
   "id": "dde2ae7b-0fb9-4811-a27a-a61b6a2b690e",
   "metadata": {},
   "outputs": [
    {
     "data": {
      "text/plain": [
       "128077"
      ]
     },
     "execution_count": 113,
     "metadata": {},
     "output_type": "execute_result"
    }
   ],
   "source": [
    "ord('👍')"
   ]
  },
  {
   "cell_type": "code",
   "execution_count": 115,
   "id": "cbffa014-e451-4517-b681-314ca68725c4",
   "metadata": {},
   "outputs": [
    {
     "data": {
      "text/plain": [
       "'a'"
      ]
     },
     "execution_count": 115,
     "metadata": {},
     "output_type": "execute_result"
    }
   ],
   "source": [
    "chr(97)"
   ]
  },
  {
   "cell_type": "code",
   "execution_count": 117,
   "id": "3578b554-3666-4cee-ab4f-f315817069d0",
   "metadata": {},
   "outputs": [
    {
     "data": {
      "text/plain": [
       "'b'"
      ]
     },
     "execution_count": 117,
     "metadata": {},
     "output_type": "execute_result"
    }
   ],
   "source": [
    "chr(98)"
   ]
  },
  {
   "cell_type": "code",
   "execution_count": 119,
   "id": "f1331acc-ce40-4d84-99d2-c7e42cb38e52",
   "metadata": {},
   "outputs": [
    {
     "data": {
      "text/plain": [
       "'👍'"
      ]
     },
     "execution_count": 119,
     "metadata": {},
     "output_type": "execute_result"
    }
   ],
   "source": [
    "chr(128077)"
   ]
  },
  {
   "cell_type": "code",
   "execution_count": 121,
   "id": "646e10ee-6ce7-4a1e-99a3-2ecba9ddaf0c",
   "metadata": {},
   "outputs": [
    {
     "data": {
      "text/plain": [
       "'👎'"
      ]
     },
     "execution_count": 121,
     "metadata": {},
     "output_type": "execute_result"
    }
   ],
   "source": [
    "chr(128078)\n"
   ]
  },
  {
   "cell_type": "code",
   "execution_count": 133,
   "id": "b644a75b-7c7c-4512-9f9f-61bb3c6d5b24",
   "metadata": {},
   "outputs": [
    {
     "data": {
      "text/plain": [
       "'🐍'"
      ]
     },
     "execution_count": 133,
     "metadata": {},
     "output_type": "execute_result"
    }
   ],
   "source": [
    "chr(128013)\n"
   ]
  },
  {
   "cell_type": "code",
   "execution_count": 135,
   "id": "192de458-c407-49d1-9e56-5cb6eb82ffb7",
   "metadata": {},
   "outputs": [
    {
     "data": {
      "text/plain": [
       "True"
      ]
     },
     "execution_count": 135,
     "metadata": {},
     "output_type": "execute_result"
    }
   ],
   "source": [
    "a = 'k'\n",
    "a.isascii()"
   ]
  },
  {
   "cell_type": "code",
   "execution_count": 139,
   "id": "e1480027-3cee-4071-8181-5959ded787cd",
   "metadata": {},
   "outputs": [
    {
     "data": {
      "text/plain": [
       "True"
      ]
     },
     "execution_count": 139,
     "metadata": {},
     "output_type": "execute_result"
    }
   ],
   "source": [
    "a = 'A'\n",
    "a.isascii()"
   ]
  },
  {
   "cell_type": "code",
   "execution_count": 145,
   "id": "24457250-4cb7-47dc-a8d6-73c0de3240a6",
   "metadata": {},
   "outputs": [],
   "source": [
    "import emoji"
   ]
  },
  {
   "cell_type": "code",
   "execution_count": 143,
   "id": "49da2703-209d-4db9-af33-225f11994fc0",
   "metadata": {},
   "outputs": [
    {
     "name": "stdout",
     "output_type": "stream",
     "text": [
      "Collecting emoji\n",
      "  Downloading emoji-2.14.1-py3-none-any.whl.metadata (5.7 kB)\n",
      "Downloading emoji-2.14.1-py3-none-any.whl (590 kB)\n",
      "   ---------------------------------------- 0.0/590.6 kB ? eta -:--:--\n",
      "   ---------------------------------------- 590.6/590.6 kB 7.1 MB/s eta 0:00:00\n",
      "Installing collected packages: emoji\n",
      "Successfully installed emoji-2.14.1\n",
      "Note: you may need to restart the kernel to use updated packages.\n"
     ]
    }
   ],
   "source": [
    "# pip install emoji"
   ]
  },
  {
   "cell_type": "code",
   "execution_count": 151,
   "id": "3a119c97-c147-48c0-9e95-21b88046fe8e",
   "metadata": {
    "scrolled": true
   },
   "outputs": [
    {
     "data": {
      "text/plain": [
       "{'🥇': {'en': ':1st_place_medal:', 'status': 2, 'E': 3},\n",
       " '🥈': {'en': ':2nd_place_medal:', 'status': 2, 'E': 3},\n",
       " '🥉': {'en': ':3rd_place_medal:', 'status': 2, 'E': 3},\n",
       " '🆎': {'en': ':AB_button_(blood_type):',\n",
       "  'status': 2,\n",
       "  'E': 0.6,\n",
       "  'alias': [':ab:', ':ab_button_blood_type:']},\n",
       " '🏧': {'en': ':ATM_sign:',\n",
       "  'status': 2,\n",
       "  'E': 0.6,\n",
       "  'alias': [':atm:', ':atm_sign:']},\n",
       " '🅰️': {'en': ':A_button_(blood_type):',\n",
       "  'status': 2,\n",
       "  'E': 0.6,\n",
       "  'alias': [':a:', ':a_button_blood_type:'],\n",
       "  'variant': True},\n",
       " '🅰': {'en': ':A_button_(blood_type):',\n",
       "  'status': 4,\n",
       "  'E': 0.6,\n",
       "  'alias': [':a:', ':a_button_blood_type:'],\n",
       "  'variant': True},\n",
       " '🇦🇫': {'en': ':Afghanistan:',\n",
       "  'status': 2,\n",
       "  'E': 2,\n",
       "  'alias': [':flag_for_Afghanistan:', ':afghanistan:']},\n",
       " '🇦🇱': {'en': ':Albania:',\n",
       "  'status': 2,\n",
       "  'E': 2,\n",
       "  'alias': [':flag_for_Albania:', ':albania:']},\n",
       " '🇩🇿': {'en': ':Algeria:',\n",
       "  'status': 2,\n",
       "  'E': 2,\n",
       "  'alias': [':flag_for_Algeria:', ':algeria:']},\n",
       " '🇦🇸': {'en': ':American_Samoa:',\n",
       "  'status': 2,\n",
       "  'E': 2,\n",
       "  'alias': [':flag_for_American_Samoa:', ':american_samoa:']},\n",
       " '🇦🇩': {'en': ':Andorra:',\n",
       "  'status': 2,\n",
       "  'E': 2,\n",
       "  'alias': [':flag_for_Andorra:', ':andorra:']},\n",
       " '🇦🇴': {'en': ':Angola:',\n",
       "  'status': 2,\n",
       "  'E': 2,\n",
       "  'alias': [':flag_for_Angola:', ':angola:']},\n",
       " '🇦🇮': {'en': ':Anguilla:',\n",
       "  'status': 2,\n",
       "  'E': 2,\n",
       "  'alias': [':flag_for_Anguilla:', ':anguilla:']},\n",
       " '🇦🇶': {'en': ':Antarctica:',\n",
       "  'status': 2,\n",
       "  'E': 2,\n",
       "  'alias': [':flag_for_Antarctica:', ':antarctica:']},\n",
       " '🇦🇬': {'en': ':Antigua_&_Barbuda:',\n",
       "  'status': 2,\n",
       "  'E': 2,\n",
       "  'alias': [':flag_for_Antigua_&_Barbuda:', ':antigua_barbuda:']},\n",
       " '♒': {'en': ':Aquarius:',\n",
       "  'status': 2,\n",
       "  'E': 0.6,\n",
       "  'alias': [':aquarius:'],\n",
       "  'variant': True},\n",
       " '🇦🇷': {'en': ':Argentina:',\n",
       "  'status': 2,\n",
       "  'E': 2,\n",
       "  'alias': [':flag_for_Argentina:', ':argentina:']},\n",
       " '♈': {'en': ':Aries:',\n",
       "  'status': 2,\n",
       "  'E': 0.6,\n",
       "  'alias': [':aries:'],\n",
       "  'variant': True},\n",
       " '🇦🇲': {'en': ':Armenia:',\n",
       "  'status': 2,\n",
       "  'E': 2,\n",
       "  'alias': [':flag_for_Armenia:', ':armenia:']},\n",
       " '🇦🇼': {'en': ':Aruba:',\n",
       "  'status': 2,\n",
       "  'E': 2,\n",
       "  'alias': [':flag_for_Aruba:', ':aruba:']},\n",
       " '🇦🇨': {'en': ':Ascension_Island:',\n",
       "  'status': 2,\n",
       "  'E': 2,\n",
       "  'alias': [':flag_for_Ascension_Island:', ':ascension_island:']},\n",
       " '🇦🇺': {'en': ':Australia:',\n",
       "  'status': 2,\n",
       "  'E': 2,\n",
       "  'alias': [':flag_for_Australia:', ':australia:']},\n",
       " '🇦🇹': {'en': ':Austria:',\n",
       "  'status': 2,\n",
       "  'E': 2,\n",
       "  'alias': [':flag_for_Austria:', ':austria:']},\n",
       " '🇦🇿': {'en': ':Azerbaijan:',\n",
       "  'status': 2,\n",
       "  'E': 2,\n",
       "  'alias': [':flag_for_Azerbaijan:', ':azerbaijan:']},\n",
       " '🔙': {'en': ':BACK_arrow:',\n",
       "  'status': 2,\n",
       "  'E': 0.6,\n",
       "  'alias': [':back:', ':back_arrow:']},\n",
       " '🅱️': {'en': ':B_button_(blood_type):',\n",
       "  'status': 2,\n",
       "  'E': 0.6,\n",
       "  'alias': [':b:', ':b_button_blood_type:'],\n",
       "  'variant': True},\n",
       " '🅱': {'en': ':B_button_(blood_type):',\n",
       "  'status': 4,\n",
       "  'E': 0.6,\n",
       "  'alias': [':b:', ':b_button_blood_type:'],\n",
       "  'variant': True},\n",
       " '🇧🇸': {'en': ':Bahamas:',\n",
       "  'status': 2,\n",
       "  'E': 2,\n",
       "  'alias': [':flag_for_Bahamas:', ':bahamas:']},\n",
       " '🇧🇭': {'en': ':Bahrain:',\n",
       "  'status': 2,\n",
       "  'E': 2,\n",
       "  'alias': [':flag_for_Bahrain:', ':bahrain:']},\n",
       " '🇧🇩': {'en': ':Bangladesh:',\n",
       "  'status': 2,\n",
       "  'E': 2,\n",
       "  'alias': [':flag_for_Bangladesh:', ':bangladesh:']},\n",
       " '🇧🇧': {'en': ':Barbados:',\n",
       "  'status': 2,\n",
       "  'E': 2,\n",
       "  'alias': [':flag_for_Barbados:', ':barbados:']},\n",
       " '🇧🇾': {'en': ':Belarus:',\n",
       "  'status': 2,\n",
       "  'E': 2,\n",
       "  'alias': [':flag_for_Belarus:', ':belarus:']},\n",
       " '🇧🇪': {'en': ':Belgium:',\n",
       "  'status': 2,\n",
       "  'E': 2,\n",
       "  'alias': [':flag_for_Belgium:', ':belgium:']},\n",
       " '🇧🇿': {'en': ':Belize:',\n",
       "  'status': 2,\n",
       "  'E': 2,\n",
       "  'alias': [':flag_for_Belize:', ':belize:']},\n",
       " '🇧🇯': {'en': ':Benin:',\n",
       "  'status': 2,\n",
       "  'E': 2,\n",
       "  'alias': [':flag_for_Benin:', ':benin:']},\n",
       " '🇧🇲': {'en': ':Bermuda:',\n",
       "  'status': 2,\n",
       "  'E': 2,\n",
       "  'alias': [':flag_for_Bermuda:', ':bermuda:']},\n",
       " '🇧🇹': {'en': ':Bhutan:',\n",
       "  'status': 2,\n",
       "  'E': 2,\n",
       "  'alias': [':flag_for_Bhutan:', ':bhutan:']},\n",
       " '🇧🇴': {'en': ':Bolivia:',\n",
       "  'status': 2,\n",
       "  'E': 2,\n",
       "  'alias': [':flag_for_Bolivia:', ':bolivia:']},\n",
       " '🇧🇦': {'en': ':Bosnia_&_Herzegovina:',\n",
       "  'status': 2,\n",
       "  'E': 2,\n",
       "  'alias': [':flag_for_Bosnia_&_Herzegovina:', ':bosnia_herzegovina:']},\n",
       " '🇧🇼': {'en': ':Botswana:',\n",
       "  'status': 2,\n",
       "  'E': 2,\n",
       "  'alias': [':flag_for_Botswana:', ':botswana:']},\n",
       " '🇧🇻': {'en': ':Bouvet_Island:',\n",
       "  'status': 2,\n",
       "  'E': 2,\n",
       "  'alias': [':flag_for_Bouvet_Island:', ':bouvet_island:']},\n",
       " '🇧🇷': {'en': ':Brazil:',\n",
       "  'status': 2,\n",
       "  'E': 2,\n",
       "  'alias': [':flag_for_Brazil:', ':brazil:']},\n",
       " '🇮🇴': {'en': ':British_Indian_Ocean_Territory:',\n",
       "  'status': 2,\n",
       "  'E': 2,\n",
       "  'alias': [':flag_for_British_Indian_Ocean_Territory:',\n",
       "   ':british_indian_ocean_territory:']},\n",
       " '🇻🇬': {'en': ':British_Virgin_Islands:',\n",
       "  'status': 2,\n",
       "  'E': 2,\n",
       "  'alias': [':flag_for_British_Virgin_Islands:', ':british_virgin_islands:']},\n",
       " '🇧🇳': {'en': ':Brunei:',\n",
       "  'status': 2,\n",
       "  'E': 2,\n",
       "  'alias': [':flag_for_Brunei:', ':brunei:']},\n",
       " '🇧🇬': {'en': ':Bulgaria:',\n",
       "  'status': 2,\n",
       "  'E': 2,\n",
       "  'alias': [':flag_for_Bulgaria:', ':bulgaria:']},\n",
       " '🇧🇫': {'en': ':Burkina_Faso:',\n",
       "  'status': 2,\n",
       "  'E': 2,\n",
       "  'alias': [':flag_for_Burkina_Faso:', ':burkina_faso:']},\n",
       " '🇧🇮': {'en': ':Burundi:',\n",
       "  'status': 2,\n",
       "  'E': 2,\n",
       "  'alias': [':flag_for_Burundi:', ':burundi:']},\n",
       " '🆑': {'en': ':CL_button:',\n",
       "  'status': 2,\n",
       "  'E': 0.6,\n",
       "  'alias': [':cl:', ':cl_button:']},\n",
       " '🆒': {'en': ':COOL_button:',\n",
       "  'status': 2,\n",
       "  'E': 0.6,\n",
       "  'alias': [':cool:', ':cool_button:']},\n",
       " '🇰🇭': {'en': ':Cambodia:',\n",
       "  'status': 2,\n",
       "  'E': 2,\n",
       "  'alias': [':flag_for_Cambodia:', ':cambodia:']},\n",
       " '🇨🇲': {'en': ':Cameroon:',\n",
       "  'status': 2,\n",
       "  'E': 2,\n",
       "  'alias': [':flag_for_Cameroon:', ':cameroon:']},\n",
       " '🇨🇦': {'en': ':Canada:',\n",
       "  'status': 2,\n",
       "  'E': 2,\n",
       "  'alias': [':flag_for_Canada:', ':canada:']},\n",
       " '🇮🇨': {'en': ':Canary_Islands:',\n",
       "  'status': 2,\n",
       "  'E': 2,\n",
       "  'alias': [':flag_for_Canary_Islands:', ':canary_islands:']},\n",
       " '♋': {'en': ':Cancer:',\n",
       "  'status': 2,\n",
       "  'E': 0.6,\n",
       "  'alias': [':cancer:'],\n",
       "  'variant': True},\n",
       " '🇨🇻': {'en': ':Cape_Verde:',\n",
       "  'status': 2,\n",
       "  'E': 2,\n",
       "  'alias': [':flag_for_Cape_Verde:', ':cape_verde:']},\n",
       " '♑': {'en': ':Capricorn:',\n",
       "  'status': 2,\n",
       "  'E': 0.6,\n",
       "  'alias': [':capricorn:'],\n",
       "  'variant': True},\n",
       " '🇧🇶': {'en': ':Caribbean_Netherlands:',\n",
       "  'status': 2,\n",
       "  'E': 2,\n",
       "  'alias': [':flag_for_Caribbean_Netherlands:', ':caribbean_netherlands:']},\n",
       " '🇰🇾': {'en': ':Cayman_Islands:',\n",
       "  'status': 2,\n",
       "  'E': 2,\n",
       "  'alias': [':flag_for_Cayman_Islands:', ':cayman_islands:']},\n",
       " '🇨🇫': {'en': ':Central_African_Republic:',\n",
       "  'status': 2,\n",
       "  'E': 2,\n",
       "  'alias': [':flag_for_Central_African_Republic:',\n",
       "   ':central_african_republic:']},\n",
       " '🇪🇦': {'en': ':Ceuta_&_Melilla:',\n",
       "  'status': 2,\n",
       "  'E': 2,\n",
       "  'alias': [':flag_for_Ceuta_&_Melilla:', ':ceuta_melilla:']},\n",
       " '🇹🇩': {'en': ':Chad:',\n",
       "  'status': 2,\n",
       "  'E': 2,\n",
       "  'alias': [':flag_for_Chad:', ':chad:']},\n",
       " '🇨🇱': {'en': ':Chile:',\n",
       "  'status': 2,\n",
       "  'E': 2,\n",
       "  'alias': [':flag_for_Chile:', ':chile:']},\n",
       " '🇨🇳': {'en': ':China:',\n",
       "  'status': 2,\n",
       "  'E': 0.6,\n",
       "  'alias': [':flag_for_China:', ':cn:']},\n",
       " '🇨🇽': {'en': ':Christmas_Island:',\n",
       "  'status': 2,\n",
       "  'E': 2,\n",
       "  'alias': [':flag_for_Christmas_Island:', ':christmas_island:']},\n",
       " '🎄': {'en': ':Christmas_tree:',\n",
       "  'status': 2,\n",
       "  'E': 0.6,\n",
       "  'alias': [':christmas_tree:']},\n",
       " '🇨🇵': {'en': ':Clipperton_Island:',\n",
       "  'status': 2,\n",
       "  'E': 2,\n",
       "  'alias': [':flag_for_Clipperton_Island:', ':clipperton_island:']},\n",
       " '🇨🇨': {'en': ':Cocos_(Keeling)_Islands:',\n",
       "  'status': 2,\n",
       "  'E': 2,\n",
       "  'alias': [':flag_for_Cocos_Islands:', ':cocos_islands:']},\n",
       " '🇨🇴': {'en': ':Colombia:',\n",
       "  'status': 2,\n",
       "  'E': 2,\n",
       "  'alias': [':flag_for_Colombia:', ':colombia:']},\n",
       " '🇰🇲': {'en': ':Comoros:',\n",
       "  'status': 2,\n",
       "  'E': 2,\n",
       "  'alias': [':flag_for_Comoros:', ':comoros:']},\n",
       " '🇨🇬': {'en': ':Congo-Brazzaville:',\n",
       "  'status': 2,\n",
       "  'E': 2,\n",
       "  'alias': [':flag_for_Congo_Brazzaville:', ':congo_brazzaville:']},\n",
       " '🇨🇩': {'en': ':Congo-Kinshasa:',\n",
       "  'status': 2,\n",
       "  'E': 2,\n",
       "  'alias': [':flag_for_Congo_Kinshasa:', ':congo_kinshasa:']},\n",
       " '🇨🇰': {'en': ':Cook_Islands:',\n",
       "  'status': 2,\n",
       "  'E': 2,\n",
       "  'alias': [':flag_for_Cook_Islands:', ':cook_islands:']},\n",
       " '🇨🇷': {'en': ':Costa_Rica:',\n",
       "  'status': 2,\n",
       "  'E': 2,\n",
       "  'alias': [':flag_for_Costa_Rica:', ':costa_rica:']},\n",
       " '🇭🇷': {'en': ':Croatia:',\n",
       "  'status': 2,\n",
       "  'E': 2,\n",
       "  'alias': [':flag_for_Croatia:', ':croatia:']},\n",
       " '🇨🇺': {'en': ':Cuba:',\n",
       "  'status': 2,\n",
       "  'E': 2,\n",
       "  'alias': [':flag_for_Cuba:', ':cuba:']},\n",
       " '🇨🇼': {'en': ':Curaçao:',\n",
       "  'status': 2,\n",
       "  'E': 2,\n",
       "  'alias': [':flag_for_Curaçao:', ':curacao:']},\n",
       " '🇨🇾': {'en': ':Cyprus:',\n",
       "  'status': 2,\n",
       "  'E': 2,\n",
       "  'alias': [':flag_for_Cyprus:', ':cyprus:']},\n",
       " '🇨🇿': {'en': ':Czechia:',\n",
       "  'status': 2,\n",
       "  'E': 2,\n",
       "  'alias': [':flag_for_Czech_Republic:', ':czech_republic:']},\n",
       " '🇨🇮': {'en': ':Côte_d’Ivoire:',\n",
       "  'status': 2,\n",
       "  'E': 2,\n",
       "  'alias': [':flag_for_Côte_d’Ivoire:', ':cote_divoire:']},\n",
       " '🇩🇰': {'en': ':Denmark:',\n",
       "  'status': 2,\n",
       "  'E': 2,\n",
       "  'alias': [':flag_for_Denmark:', ':denmark:']},\n",
       " '🇩🇬': {'en': ':Diego_Garcia:',\n",
       "  'status': 2,\n",
       "  'E': 2,\n",
       "  'alias': [':flag_for_Diego_Garcia:', ':diego_garcia:']},\n",
       " '🇩🇯': {'en': ':Djibouti:',\n",
       "  'status': 2,\n",
       "  'E': 2,\n",
       "  'alias': [':flag_for_Djibouti:', ':djibouti:']},\n",
       " '🇩🇲': {'en': ':Dominica:',\n",
       "  'status': 2,\n",
       "  'E': 2,\n",
       "  'alias': [':flag_for_Dominica:', ':dominica:']},\n",
       " '🇩🇴': {'en': ':Dominican_Republic:',\n",
       "  'status': 2,\n",
       "  'E': 2,\n",
       "  'alias': [':flag_for_Dominican_Republic:', ':dominican_republic:']},\n",
       " '🔚': {'en': ':END_arrow:',\n",
       "  'status': 2,\n",
       "  'E': 0.6,\n",
       "  'alias': [':end:', ':end_arrow:']},\n",
       " '🇪🇨': {'en': ':Ecuador:',\n",
       "  'status': 2,\n",
       "  'E': 2,\n",
       "  'alias': [':flag_for_Ecuador:', ':ecuador:']},\n",
       " '🇪🇬': {'en': ':Egypt:',\n",
       "  'status': 2,\n",
       "  'E': 2,\n",
       "  'alias': [':flag_for_Egypt:', ':egypt:']},\n",
       " '🇸🇻': {'en': ':El_Salvador:',\n",
       "  'status': 2,\n",
       "  'E': 2,\n",
       "  'alias': [':flag_for_El_Salvador:', ':el_salvador:']},\n",
       " '🏴\\U000e0067\\U000e0062\\U000e0065\\U000e006e\\U000e0067\\U000e007f': {'en': ':England:',\n",
       "  'status': 2,\n",
       "  'E': 5,\n",
       "  'alias': [':england:']},\n",
       " '🇬🇶': {'en': ':Equatorial_Guinea:',\n",
       "  'status': 2,\n",
       "  'E': 2,\n",
       "  'alias': [':flag_for_Equatorial_Guinea:', ':equatorial_guinea:']},\n",
       " '🇪🇷': {'en': ':Eritrea:',\n",
       "  'status': 2,\n",
       "  'E': 2,\n",
       "  'alias': [':flag_for_Eritrea:', ':eritrea:']},\n",
       " '🇪🇪': {'en': ':Estonia:',\n",
       "  'status': 2,\n",
       "  'E': 2,\n",
       "  'alias': [':flag_for_Estonia:', ':estonia:']},\n",
       " '🇸🇿': {'en': ':Eswatini:',\n",
       "  'status': 2,\n",
       "  'E': 2,\n",
       "  'alias': [':flag_for_Swaziland:', ':swaziland:']},\n",
       " '🇪🇹': {'en': ':Ethiopia:',\n",
       "  'status': 2,\n",
       "  'E': 2,\n",
       "  'alias': [':flag_for_Ethiopia:', ':ethiopia:']},\n",
       " '🇪🇺': {'en': ':European_Union:',\n",
       "  'status': 2,\n",
       "  'E': 2,\n",
       "  'alias': [':flag_for_European_Union:', ':eu:', ':european_union:']},\n",
       " '🆓': {'en': ':FREE_button:',\n",
       "  'status': 2,\n",
       "  'E': 0.6,\n",
       "  'alias': [':free:', ':free_button:']},\n",
       " '🇫🇰': {'en': ':Falkland_Islands:',\n",
       "  'status': 2,\n",
       "  'E': 2,\n",
       "  'alias': [':flag_for_Falkland_Islands:', ':falkland_islands:']},\n",
       " '🇫🇴': {'en': ':Faroe_Islands:',\n",
       "  'status': 2,\n",
       "  'E': 2,\n",
       "  'alias': [':flag_for_Faroe_Islands:', ':faroe_islands:']},\n",
       " '🇫🇯': {'en': ':Fiji:',\n",
       "  'status': 2,\n",
       "  'E': 2,\n",
       "  'alias': [':flag_for_Fiji:', ':fiji:']},\n",
       " '🇫🇮': {'en': ':Finland:',\n",
       "  'status': 2,\n",
       "  'E': 2,\n",
       "  'alias': [':flag_for_Finland:', ':finland:']},\n",
       " '🇫🇷': {'en': ':France:',\n",
       "  'status': 2,\n",
       "  'E': 0.6,\n",
       "  'alias': [':flag_for_France:', ':fr:']},\n",
       " '🇬🇫': {'en': ':French_Guiana:',\n",
       "  'status': 2,\n",
       "  'E': 2,\n",
       "  'alias': [':flag_for_French_Guiana:', ':french_guiana:']},\n",
       " '🇵🇫': {'en': ':French_Polynesia:',\n",
       "  'status': 2,\n",
       "  'E': 2,\n",
       "  'alias': [':flag_for_French_Polynesia:', ':french_polynesia:']},\n",
       " '🇹🇫': {'en': ':French_Southern_Territories:',\n",
       "  'status': 2,\n",
       "  'E': 2,\n",
       "  'alias': [':flag_for_French_Southern_Territories:',\n",
       "   ':french_southern_territories:']},\n",
       " '🇬🇦': {'en': ':Gabon:',\n",
       "  'status': 2,\n",
       "  'E': 2,\n",
       "  'alias': [':flag_for_Gabon:', ':gabon:']},\n",
       " '🇬🇲': {'en': ':Gambia:',\n",
       "  'status': 2,\n",
       "  'E': 2,\n",
       "  'alias': [':flag_for_Gambia:', ':gambia:']},\n",
       " '♊': {'en': ':Gemini:',\n",
       "  'status': 2,\n",
       "  'E': 0.6,\n",
       "  'alias': [':gemini:'],\n",
       "  'variant': True},\n",
       " '🇬🇪': {'en': ':Georgia:',\n",
       "  'status': 2,\n",
       "  'E': 2,\n",
       "  'alias': [':flag_for_Georgia:', ':georgia:']},\n",
       " '🇩🇪': {'en': ':Germany:',\n",
       "  'status': 2,\n",
       "  'E': 0.6,\n",
       "  'alias': [':flag_for_Germany:', ':de:']},\n",
       " '🇬🇭': {'en': ':Ghana:',\n",
       "  'status': 2,\n",
       "  'E': 2,\n",
       "  'alias': [':flag_for_Ghana:', ':ghana:']},\n",
       " '🇬🇮': {'en': ':Gibraltar:',\n",
       "  'status': 2,\n",
       "  'E': 2,\n",
       "  'alias': [':flag_for_Gibraltar:', ':gibraltar:']},\n",
       " '🇬🇷': {'en': ':Greece:',\n",
       "  'status': 2,\n",
       "  'E': 2,\n",
       "  'alias': [':flag_for_Greece:', ':greece:']},\n",
       " '🇬🇱': {'en': ':Greenland:',\n",
       "  'status': 2,\n",
       "  'E': 2,\n",
       "  'alias': [':flag_for_Greenland:', ':greenland:']},\n",
       " '🇬🇩': {'en': ':Grenada:',\n",
       "  'status': 2,\n",
       "  'E': 2,\n",
       "  'alias': [':flag_for_Grenada:', ':grenada:']},\n",
       " '🇬🇵': {'en': ':Guadeloupe:',\n",
       "  'status': 2,\n",
       "  'E': 2,\n",
       "  'alias': [':flag_for_Guadeloupe:', ':guadeloupe:']},\n",
       " '🇬🇺': {'en': ':Guam:',\n",
       "  'status': 2,\n",
       "  'E': 2,\n",
       "  'alias': [':flag_for_Guam:', ':guam:']},\n",
       " '🇬🇹': {'en': ':Guatemala:',\n",
       "  'status': 2,\n",
       "  'E': 2,\n",
       "  'alias': [':flag_for_Guatemala:', ':guatemala:']},\n",
       " '🇬🇬': {'en': ':Guernsey:',\n",
       "  'status': 2,\n",
       "  'E': 2,\n",
       "  'alias': [':flag_for_Guernsey:', ':guernsey:']},\n",
       " '🇬🇳': {'en': ':Guinea:',\n",
       "  'status': 2,\n",
       "  'E': 2,\n",
       "  'alias': [':flag_for_Guinea:', ':guinea:']},\n",
       " '🇬🇼': {'en': ':Guinea-Bissau:',\n",
       "  'status': 2,\n",
       "  'E': 2,\n",
       "  'alias': [':flag_for_Guinea_Bissau:', ':guinea_bissau:']},\n",
       " '🇬🇾': {'en': ':Guyana:',\n",
       "  'status': 2,\n",
       "  'E': 2,\n",
       "  'alias': [':flag_for_Guyana:', ':guyana:']},\n",
       " '🇭🇹': {'en': ':Haiti:',\n",
       "  'status': 2,\n",
       "  'E': 2,\n",
       "  'alias': [':flag_for_Haiti:', ':haiti:']},\n",
       " '🇭🇲': {'en': ':Heard_&_McDonald_Islands:',\n",
       "  'status': 2,\n",
       "  'E': 2,\n",
       "  'alias': [':flag_for_Heard_&_McDonald_Islands:',\n",
       "   ':heard_mcdonald_islands:']},\n",
       " '🇭🇳': {'en': ':Honduras:',\n",
       "  'status': 2,\n",
       "  'E': 2,\n",
       "  'alias': [':flag_for_Honduras:', ':honduras:']},\n",
       " '🇭🇰': {'en': ':Hong_Kong_SAR_China:',\n",
       "  'status': 2,\n",
       "  'E': 2,\n",
       "  'alias': [':flag_for_Hong_Kong:', ':hong_kong:']},\n",
       " '🇭🇺': {'en': ':Hungary:',\n",
       "  'status': 2,\n",
       "  'E': 2,\n",
       "  'alias': [':flag_for_Hungary:', ':hungary:']},\n",
       " '🆔': {'en': ':ID_button:',\n",
       "  'status': 2,\n",
       "  'E': 0.6,\n",
       "  'alias': [':id:', ':id_button:']},\n",
       " '🇮🇸': {'en': ':Iceland:',\n",
       "  'status': 2,\n",
       "  'E': 2,\n",
       "  'alias': [':flag_for_Iceland:', ':iceland:']},\n",
       " '🇮🇳': {'en': ':India:',\n",
       "  'status': 2,\n",
       "  'E': 2,\n",
       "  'alias': [':flag_for_India:', ':india:']},\n",
       " '🇮🇩': {'en': ':Indonesia:',\n",
       "  'status': 2,\n",
       "  'E': 2,\n",
       "  'alias': [':flag_for_Indonesia:', ':indonesia:']},\n",
       " '🇮🇷': {'en': ':Iran:',\n",
       "  'status': 2,\n",
       "  'E': 2,\n",
       "  'alias': [':flag_for_Iran:', ':iran:']},\n",
       " '🇮🇶': {'en': ':Iraq:',\n",
       "  'status': 2,\n",
       "  'E': 2,\n",
       "  'alias': [':flag_for_Iraq:', ':iraq:']},\n",
       " '🇮🇪': {'en': ':Ireland:',\n",
       "  'status': 2,\n",
       "  'E': 2,\n",
       "  'alias': [':flag_for_Ireland:', ':ireland:']},\n",
       " '🇮🇲': {'en': ':Isle_of_Man:',\n",
       "  'status': 2,\n",
       "  'E': 2,\n",
       "  'alias': [':flag_for_Isle_of_Man:', ':isle_of_man:']},\n",
       " '🇮🇱': {'en': ':Israel:',\n",
       "  'status': 2,\n",
       "  'E': 2,\n",
       "  'alias': [':flag_for_Israel:', ':israel:']},\n",
       " '🇮🇹': {'en': ':Italy:',\n",
       "  'status': 2,\n",
       "  'E': 0.6,\n",
       "  'alias': [':flag_for_Italy:', ':it:']},\n",
       " '🇯🇲': {'en': ':Jamaica:',\n",
       "  'status': 2,\n",
       "  'E': 2,\n",
       "  'alias': [':flag_for_Jamaica:', ':jamaica:']},\n",
       " '🇯🇵': {'en': ':Japan:',\n",
       "  'status': 2,\n",
       "  'E': 0.6,\n",
       "  'alias': [':flag_for_Japan:', ':jp:']},\n",
       " '🉑': {'en': ':Japanese_acceptable_button:',\n",
       "  'status': 2,\n",
       "  'E': 0.6,\n",
       "  'alias': [':accept:', ':japanese_acceptable_button:']},\n",
       " '🈸': {'en': ':Japanese_application_button:',\n",
       "  'status': 2,\n",
       "  'E': 0.6,\n",
       "  'alias': [':u7533:', ':japanese_application_button:']},\n",
       " '🉐': {'en': ':Japanese_bargain_button:',\n",
       "  'status': 2,\n",
       "  'E': 0.6,\n",
       "  'alias': [':ideograph_advantage:', ':japanese_bargain_button:']},\n",
       " '🏯': {'en': ':Japanese_castle:',\n",
       "  'status': 2,\n",
       "  'E': 0.6,\n",
       "  'alias': [':japanese_castle:']},\n",
       " '㊗️': {'en': ':Japanese_congratulations_button:',\n",
       "  'status': 2,\n",
       "  'E': 0.6,\n",
       "  'alias': [':congratulations:', ':japanese_congratulations_button:'],\n",
       "  'variant': True},\n",
       " '㊗': {'en': ':Japanese_congratulations_button:',\n",
       "  'status': 4,\n",
       "  'E': 0.6,\n",
       "  'alias': [':congratulations:', ':japanese_congratulations_button:'],\n",
       "  'variant': True},\n",
       " '🈹': {'en': ':Japanese_discount_button:',\n",
       "  'status': 2,\n",
       "  'E': 0.6,\n",
       "  'alias': [':u5272:', ':japanese_discount_button:']},\n",
       " '🎎': {'en': ':Japanese_dolls:',\n",
       "  'status': 2,\n",
       "  'E': 0.6,\n",
       "  'alias': [':dolls:', ':japanese_dolls:']},\n",
       " '🈚': {'en': ':Japanese_free_of_charge_button:',\n",
       "  'status': 2,\n",
       "  'E': 0.6,\n",
       "  'alias': [':u7121:', ':japanese_free_of_charge_button:'],\n",
       "  'variant': True},\n",
       " '🈁': {'en': ':Japanese_here_button:',\n",
       "  'status': 2,\n",
       "  'E': 0.6,\n",
       "  'alias': [':koko:', ':japanese_here_button:']},\n",
       " '🈷️': {'en': ':Japanese_monthly_amount_button:',\n",
       "  'status': 2,\n",
       "  'E': 0.6,\n",
       "  'alias': [':u6708:', ':japanese_monthly_amount_button:'],\n",
       "  'variant': True},\n",
       " '🈷': {'en': ':Japanese_monthly_amount_button:',\n",
       "  'status': 4,\n",
       "  'E': 0.6,\n",
       "  'alias': [':u6708:', ':japanese_monthly_amount_button:'],\n",
       "  'variant': True},\n",
       " '🈵': {'en': ':Japanese_no_vacancy_button:',\n",
       "  'status': 2,\n",
       "  'E': 0.6,\n",
       "  'alias': [':u6e80:', ':japanese_no_vacancy_button:']},\n",
       " '🈶': {'en': ':Japanese_not_free_of_charge_button:',\n",
       "  'status': 2,\n",
       "  'E': 0.6,\n",
       "  'alias': [':u6709:', ':japanese_not_free_of_charge_button:']},\n",
       " '🈺': {'en': ':Japanese_open_for_business_button:',\n",
       "  'status': 2,\n",
       "  'E': 0.6,\n",
       "  'alias': [':u55b6:', ':japanese_open_for_business_button:']},\n",
       " '🈴': {'en': ':Japanese_passing_grade_button:',\n",
       "  'status': 2,\n",
       "  'E': 0.6,\n",
       "  'alias': [':u5408:', ':japanese_passing_grade_button:']},\n",
       " '🏣': {'en': ':Japanese_post_office:',\n",
       "  'status': 2,\n",
       "  'E': 0.6,\n",
       "  'alias': [':post_office:', ':japanese_post_office:']},\n",
       " '🈲': {'en': ':Japanese_prohibited_button:',\n",
       "  'status': 2,\n",
       "  'E': 0.6,\n",
       "  'alias': [':u7981:', ':japanese_prohibited_button:']},\n",
       " '🈯': {'en': ':Japanese_reserved_button:',\n",
       "  'status': 2,\n",
       "  'E': 0.6,\n",
       "  'alias': [':u6307:', ':japanese_reserved_button:'],\n",
       "  'variant': True},\n",
       " '㊙️': {'en': ':Japanese_secret_button:',\n",
       "  'status': 2,\n",
       "  'E': 0.6,\n",
       "  'alias': [':secret:', ':japanese_secret_button:'],\n",
       "  'variant': True},\n",
       " '㊙': {'en': ':Japanese_secret_button:',\n",
       "  'status': 4,\n",
       "  'E': 0.6,\n",
       "  'alias': [':secret:', ':japanese_secret_button:'],\n",
       "  'variant': True},\n",
       " '🈂️': {'en': ':Japanese_service_charge_button:',\n",
       "  'status': 2,\n",
       "  'E': 0.6,\n",
       "  'alias': [':sa:', ':japanese_service_charge_button:'],\n",
       "  'variant': True},\n",
       " '🈂': {'en': ':Japanese_service_charge_button:',\n",
       "  'status': 4,\n",
       "  'E': 0.6,\n",
       "  'alias': [':sa:', ':japanese_service_charge_button:'],\n",
       "  'variant': True},\n",
       " '🔰': {'en': ':Japanese_symbol_for_beginner:',\n",
       "  'status': 2,\n",
       "  'E': 0.6,\n",
       "  'alias': [':beginner:', ':japanese_symbol_for_beginner:']},\n",
       " '🈳': {'en': ':Japanese_vacancy_button:',\n",
       "  'status': 2,\n",
       "  'E': 0.6,\n",
       "  'alias': [':u7a7a:', ':japanese_vacancy_button:']},\n",
       " '🇯🇪': {'en': ':Jersey:',\n",
       "  'status': 2,\n",
       "  'E': 2,\n",
       "  'alias': [':flag_for_Jersey:', ':jersey:']},\n",
       " '🇯🇴': {'en': ':Jordan:',\n",
       "  'status': 2,\n",
       "  'E': 2,\n",
       "  'alias': [':flag_for_Jordan:', ':jordan:']},\n",
       " '🇰🇿': {'en': ':Kazakhstan:',\n",
       "  'status': 2,\n",
       "  'E': 2,\n",
       "  'alias': [':flag_for_Kazakhstan:', ':kazakhstan:']},\n",
       " '🇰🇪': {'en': ':Kenya:',\n",
       "  'status': 2,\n",
       "  'E': 2,\n",
       "  'alias': [':flag_for_Kenya:', ':kenya:']},\n",
       " '🇰🇮': {'en': ':Kiribati:',\n",
       "  'status': 2,\n",
       "  'E': 2,\n",
       "  'alias': [':flag_for_Kiribati:', ':kiribati:']},\n",
       " '🇽🇰': {'en': ':Kosovo:',\n",
       "  'status': 2,\n",
       "  'E': 2,\n",
       "  'alias': [':flag_for_Kosovo:', ':kosovo:']},\n",
       " '🇰🇼': {'en': ':Kuwait:',\n",
       "  'status': 2,\n",
       "  'E': 2,\n",
       "  'alias': [':flag_for_Kuwait:', ':kuwait:']},\n",
       " '🇰🇬': {'en': ':Kyrgyzstan:',\n",
       "  'status': 2,\n",
       "  'E': 2,\n",
       "  'alias': [':flag_for_Kyrgyzstan:', ':kyrgyzstan:']},\n",
       " '🇱🇦': {'en': ':Laos:',\n",
       "  'status': 2,\n",
       "  'E': 2,\n",
       "  'alias': [':flag_for_Laos:', ':laos:']},\n",
       " '🇱🇻': {'en': ':Latvia:',\n",
       "  'status': 2,\n",
       "  'E': 2,\n",
       "  'alias': [':flag_for_Latvia:', ':latvia:']},\n",
       " '🇱🇧': {'en': ':Lebanon:',\n",
       "  'status': 2,\n",
       "  'E': 2,\n",
       "  'alias': [':flag_for_Lebanon:', ':lebanon:']},\n",
       " '♌': {'en': ':Leo:',\n",
       "  'status': 2,\n",
       "  'E': 0.6,\n",
       "  'alias': [':leo:'],\n",
       "  'variant': True},\n",
       " '🇱🇸': {'en': ':Lesotho:',\n",
       "  'status': 2,\n",
       "  'E': 2,\n",
       "  'alias': [':flag_for_Lesotho:', ':lesotho:']},\n",
       " '🇱🇷': {'en': ':Liberia:',\n",
       "  'status': 2,\n",
       "  'E': 2,\n",
       "  'alias': [':flag_for_Liberia:', ':liberia:']},\n",
       " '♎': {'en': ':Libra:',\n",
       "  'status': 2,\n",
       "  'E': 0.6,\n",
       "  'alias': [':libra:'],\n",
       "  'variant': True},\n",
       " '🇱🇾': {'en': ':Libya:',\n",
       "  'status': 2,\n",
       "  'E': 2,\n",
       "  'alias': [':flag_for_Libya:', ':libya:']},\n",
       " '🇱🇮': {'en': ':Liechtenstein:',\n",
       "  'status': 2,\n",
       "  'E': 2,\n",
       "  'alias': [':flag_for_Liechtenstein:', ':liechtenstein:']},\n",
       " '🇱🇹': {'en': ':Lithuania:',\n",
       "  'status': 2,\n",
       "  'E': 2,\n",
       "  'alias': [':flag_for_Lithuania:', ':lithuania:']},\n",
       " '🇱🇺': {'en': ':Luxembourg:',\n",
       "  'status': 2,\n",
       "  'E': 2,\n",
       "  'alias': [':flag_for_Luxembourg:', ':luxembourg:']},\n",
       " '🇲🇴': {'en': ':Macao_SAR_China:',\n",
       "  'status': 2,\n",
       "  'E': 2,\n",
       "  'alias': [':flag_for_Macau:', ':macau:']},\n",
       " '🇲🇬': {'en': ':Madagascar:',\n",
       "  'status': 2,\n",
       "  'E': 2,\n",
       "  'alias': [':flag_for_Madagascar:', ':madagascar:']},\n",
       " '🇲🇼': {'en': ':Malawi:',\n",
       "  'status': 2,\n",
       "  'E': 2,\n",
       "  'alias': [':flag_for_Malawi:', ':malawi:']},\n",
       " '🇲🇾': {'en': ':Malaysia:',\n",
       "  'status': 2,\n",
       "  'E': 2,\n",
       "  'alias': [':flag_for_Malaysia:', ':malaysia:']},\n",
       " '🇲🇻': {'en': ':Maldives:',\n",
       "  'status': 2,\n",
       "  'E': 2,\n",
       "  'alias': [':flag_for_Maldives:', ':maldives:']},\n",
       " '🇲🇱': {'en': ':Mali:',\n",
       "  'status': 2,\n",
       "  'E': 2,\n",
       "  'alias': [':flag_for_Mali:', ':mali:']},\n",
       " '🇲🇹': {'en': ':Malta:',\n",
       "  'status': 2,\n",
       "  'E': 2,\n",
       "  'alias': [':flag_for_Malta:', ':malta:']},\n",
       " '🇲🇭': {'en': ':Marshall_Islands:',\n",
       "  'status': 2,\n",
       "  'E': 2,\n",
       "  'alias': [':flag_for_Marshall_Islands:', ':marshall_islands:']},\n",
       " '🇲🇶': {'en': ':Martinique:',\n",
       "  'status': 2,\n",
       "  'E': 2,\n",
       "  'alias': [':flag_for_Martinique:', ':martinique:']},\n",
       " '🇲🇷': {'en': ':Mauritania:',\n",
       "  'status': 2,\n",
       "  'E': 2,\n",
       "  'alias': [':flag_for_Mauritania:', ':mauritania:']},\n",
       " '🇲🇺': {'en': ':Mauritius:',\n",
       "  'status': 2,\n",
       "  'E': 2,\n",
       "  'alias': [':flag_for_Mauritius:', ':mauritius:']},\n",
       " '🇾🇹': {'en': ':Mayotte:',\n",
       "  'status': 2,\n",
       "  'E': 2,\n",
       "  'alias': [':flag_for_Mayotte:', ':mayotte:']},\n",
       " '🇲🇽': {'en': ':Mexico:',\n",
       "  'status': 2,\n",
       "  'E': 2,\n",
       "  'alias': [':flag_for_Mexico:', ':mexico:']},\n",
       " '🇫🇲': {'en': ':Micronesia:',\n",
       "  'status': 2,\n",
       "  'E': 2,\n",
       "  'alias': [':flag_for_Micronesia:', ':micronesia:']},\n",
       " '🇲🇩': {'en': ':Moldova:',\n",
       "  'status': 2,\n",
       "  'E': 2,\n",
       "  'alias': [':flag_for_Moldova:', ':moldova:']},\n",
       " '🇲🇨': {'en': ':Monaco:',\n",
       "  'status': 2,\n",
       "  'E': 2,\n",
       "  'alias': [':flag_for_Monaco:', ':monaco:']},\n",
       " '🇲🇳': {'en': ':Mongolia:',\n",
       "  'status': 2,\n",
       "  'E': 2,\n",
       "  'alias': [':flag_for_Mongolia:', ':mongolia:']},\n",
       " '🇲🇪': {'en': ':Montenegro:',\n",
       "  'status': 2,\n",
       "  'E': 2,\n",
       "  'alias': [':flag_for_Montenegro:', ':montenegro:']},\n",
       " '🇲🇸': {'en': ':Montserrat:',\n",
       "  'status': 2,\n",
       "  'E': 2,\n",
       "  'alias': [':flag_for_Montserrat:', ':montserrat:']},\n",
       " '🇲🇦': {'en': ':Morocco:',\n",
       "  'status': 2,\n",
       "  'E': 2,\n",
       "  'alias': [':flag_for_Morocco:', ':morocco:']},\n",
       " '🇲🇿': {'en': ':Mozambique:',\n",
       "  'status': 2,\n",
       "  'E': 2,\n",
       "  'alias': [':flag_for_Mozambique:', ':mozambique:']},\n",
       " '🤶': {'en': ':Mrs._Claus:', 'status': 2, 'E': 3, 'alias': [':mrs_claus:']},\n",
       " '🤶🏿': {'en': ':Mrs._Claus_dark_skin_tone:', 'status': 2, 'E': 3},\n",
       " '🤶🏻': {'en': ':Mrs._Claus_light_skin_tone:', 'status': 2, 'E': 3},\n",
       " '🤶🏾': {'en': ':Mrs._Claus_medium-dark_skin_tone:', 'status': 2, 'E': 3},\n",
       " '🤶🏼': {'en': ':Mrs._Claus_medium-light_skin_tone:', 'status': 2, 'E': 3},\n",
       " '🤶🏽': {'en': ':Mrs._Claus_medium_skin_tone:', 'status': 2, 'E': 3},\n",
       " '🧑\\u200d🎄': {'en': ':Mx_Claus:',\n",
       "  'status': 2,\n",
       "  'E': 13,\n",
       "  'alias': [':mx_claus:']},\n",
       " '🧑🏿\\u200d🎄': {'en': ':Mx_Claus_dark_skin_tone:', 'status': 2, 'E': 13},\n",
       " '🧑🏻\\u200d🎄': {'en': ':Mx_Claus_light_skin_tone:', 'status': 2, 'E': 13},\n",
       " '🧑🏾\\u200d🎄': {'en': ':Mx_Claus_medium-dark_skin_tone:', 'status': 2, 'E': 13},\n",
       " '🧑🏼\\u200d🎄': {'en': ':Mx_Claus_medium-light_skin_tone:',\n",
       "  'status': 2,\n",
       "  'E': 13},\n",
       " '🧑🏽\\u200d🎄': {'en': ':Mx_Claus_medium_skin_tone:', 'status': 2, 'E': 13},\n",
       " '🇲🇲': {'en': ':Myanmar_(Burma):',\n",
       "  'status': 2,\n",
       "  'E': 2,\n",
       "  'alias': [':flag_for_Myanmar:', ':myanmar:']},\n",
       " '🆕': {'en': ':NEW_button:',\n",
       "  'status': 2,\n",
       "  'E': 0.6,\n",
       "  'alias': [':new:', ':new_button:']},\n",
       " '🆖': {'en': ':NG_button:',\n",
       "  'status': 2,\n",
       "  'E': 0.6,\n",
       "  'alias': [':ng:', ':ng_button:']},\n",
       " '🇳🇦': {'en': ':Namibia:',\n",
       "  'status': 2,\n",
       "  'E': 2,\n",
       "  'alias': [':flag_for_Namibia:', ':namibia:']},\n",
       " '🇳🇷': {'en': ':Nauru:',\n",
       "  'status': 2,\n",
       "  'E': 2,\n",
       "  'alias': [':flag_for_Nauru:', ':nauru:']},\n",
       " '🇳🇵': {'en': ':Nepal:',\n",
       "  'status': 2,\n",
       "  'E': 2,\n",
       "  'alias': [':flag_for_Nepal:', ':nepal:']},\n",
       " '🇳🇱': {'en': ':Netherlands:',\n",
       "  'status': 2,\n",
       "  'E': 2,\n",
       "  'alias': [':flag_for_Netherlands:', ':netherlands:']},\n",
       " '🇳🇨': {'en': ':New_Caledonia:',\n",
       "  'status': 2,\n",
       "  'E': 2,\n",
       "  'alias': [':flag_for_New_Caledonia:', ':new_caledonia:']},\n",
       " '🇳🇿': {'en': ':New_Zealand:',\n",
       "  'status': 2,\n",
       "  'E': 2,\n",
       "  'alias': [':flag_for_New_Zealand:', ':new_zealand:']},\n",
       " '🇳🇮': {'en': ':Nicaragua:',\n",
       "  'status': 2,\n",
       "  'E': 2,\n",
       "  'alias': [':flag_for_Nicaragua:', ':nicaragua:']},\n",
       " '🇳🇪': {'en': ':Niger:',\n",
       "  'status': 2,\n",
       "  'E': 2,\n",
       "  'alias': [':flag_for_Niger:', ':niger:']},\n",
       " '🇳🇬': {'en': ':Nigeria:',\n",
       "  'status': 2,\n",
       "  'E': 2,\n",
       "  'alias': [':flag_for_Nigeria:', ':nigeria:']},\n",
       " '🇳🇺': {'en': ':Niue:',\n",
       "  'status': 2,\n",
       "  'E': 2,\n",
       "  'alias': [':flag_for_Niue:', ':niue:']},\n",
       " '🇳🇫': {'en': ':Norfolk_Island:',\n",
       "  'status': 2,\n",
       "  'E': 2,\n",
       "  'alias': [':flag_for_Norfolk_Island:', ':norfolk_island:']},\n",
       " '🇰🇵': {'en': ':North_Korea:',\n",
       "  'status': 2,\n",
       "  'E': 2,\n",
       "  'alias': [':flag_for_North_Korea:', ':north_korea:']},\n",
       " '🇲🇰': {'en': ':North_Macedonia:',\n",
       "  'status': 2,\n",
       "  'E': 2,\n",
       "  'alias': [':flag_for_Macedonia:', ':macedonia:']},\n",
       " '🇲🇵': {'en': ':Northern_Mariana_Islands:',\n",
       "  'status': 2,\n",
       "  'E': 2,\n",
       "  'alias': [':flag_for_Northern_Mariana_Islands:',\n",
       "   ':northern_mariana_islands:']},\n",
       " '🇳🇴': {'en': ':Norway:',\n",
       "  'status': 2,\n",
       "  'E': 2,\n",
       "  'alias': [':flag_for_Norway:', ':norway:']},\n",
       " '🆗': {'en': ':OK_button:',\n",
       "  'status': 2,\n",
       "  'E': 0.6,\n",
       "  'alias': [':ok:', ':ok_button:']},\n",
       " '👌': {'en': ':OK_hand:', 'status': 2, 'E': 0.6, 'alias': [':ok_hand:']},\n",
       " '👌🏿': {'en': ':OK_hand_dark_skin_tone:', 'status': 2, 'E': 1},\n",
       " '👌🏻': {'en': ':OK_hand_light_skin_tone:', 'status': 2, 'E': 1},\n",
       " '👌🏾': {'en': ':OK_hand_medium-dark_skin_tone:', 'status': 2, 'E': 1},\n",
       " '👌🏼': {'en': ':OK_hand_medium-light_skin_tone:', 'status': 2, 'E': 1},\n",
       " '👌🏽': {'en': ':OK_hand_medium_skin_tone:', 'status': 2, 'E': 1},\n",
       " '🔛': {'en': ':ON!_arrow:',\n",
       "  'status': 2,\n",
       "  'E': 0.6,\n",
       "  'alias': [':on:', ':on_arrow:', ':on!_arrow:']},\n",
       " '🅾️': {'en': ':O_button_(blood_type):',\n",
       "  'status': 2,\n",
       "  'E': 0.6,\n",
       "  'alias': [':o2:', ':o_button_blood_type:'],\n",
       "  'variant': True},\n",
       " '🅾': {'en': ':O_button_(blood_type):',\n",
       "  'status': 4,\n",
       "  'E': 0.6,\n",
       "  'alias': [':o2:', ':o_button_blood_type:'],\n",
       "  'variant': True},\n",
       " '🇴🇲': {'en': ':Oman:',\n",
       "  'status': 2,\n",
       "  'E': 2,\n",
       "  'alias': [':flag_for_Oman:', ':oman:']},\n",
       " '⛎': {'en': ':Ophiuchus:',\n",
       "  'status': 2,\n",
       "  'E': 0.6,\n",
       "  'alias': [':ophiuchus:'],\n",
       "  'variant': True},\n",
       " '🅿️': {'en': ':P_button:',\n",
       "  'status': 2,\n",
       "  'E': 0.6,\n",
       "  'alias': [':parking:', ':p_button:'],\n",
       "  'variant': True},\n",
       " '🅿': {'en': ':P_button:',\n",
       "  'status': 4,\n",
       "  'E': 0.6,\n",
       "  'alias': [':parking:', ':p_button:'],\n",
       "  'variant': True},\n",
       " '🇵🇰': {'en': ':Pakistan:',\n",
       "  'status': 2,\n",
       "  'E': 2,\n",
       "  'alias': [':flag_for_Pakistan:', ':pakistan:']},\n",
       " '🇵🇼': {'en': ':Palau:',\n",
       "  'status': 2,\n",
       "  'E': 2,\n",
       "  'alias': [':flag_for_Palau:', ':palau:']},\n",
       " '🇵🇸': {'en': ':Palestinian_Territories:',\n",
       "  'status': 2,\n",
       "  'E': 2,\n",
       "  'alias': [':flag_for_Palestinian_Territories:',\n",
       "   ':palestinian_territories:']},\n",
       " '🇵🇦': {'en': ':Panama:',\n",
       "  'status': 2,\n",
       "  'E': 2,\n",
       "  'alias': [':flag_for_Panama:', ':panama:']},\n",
       " '🇵🇬': {'en': ':Papua_New_Guinea:',\n",
       "  'status': 2,\n",
       "  'E': 2,\n",
       "  'alias': [':flag_for_Papua_New_Guinea:', ':papua_new_guinea:']},\n",
       " '🇵🇾': {'en': ':Paraguay:',\n",
       "  'status': 2,\n",
       "  'E': 2,\n",
       "  'alias': [':flag_for_Paraguay:', ':paraguay:']},\n",
       " '🇵🇪': {'en': ':Peru:',\n",
       "  'status': 2,\n",
       "  'E': 2,\n",
       "  'alias': [':flag_for_Peru:', ':peru:']},\n",
       " '🇵🇭': {'en': ':Philippines:',\n",
       "  'status': 2,\n",
       "  'E': 2,\n",
       "  'alias': [':flag_for_Philippines:', ':philippines:']},\n",
       " '♓': {'en': ':Pisces:',\n",
       "  'status': 2,\n",
       "  'E': 0.6,\n",
       "  'alias': [':pisces:'],\n",
       "  'variant': True},\n",
       " '🇵🇳': {'en': ':Pitcairn_Islands:',\n",
       "  'status': 2,\n",
       "  'E': 2,\n",
       "  'alias': [':flag_for_Pitcairn_Islands:', ':pitcairn_islands:']},\n",
       " '🇵🇱': {'en': ':Poland:',\n",
       "  'status': 2,\n",
       "  'E': 2,\n",
       "  'alias': [':flag_for_Poland:', ':poland:']},\n",
       " '🇵🇹': {'en': ':Portugal:',\n",
       "  'status': 2,\n",
       "  'E': 2,\n",
       "  'alias': [':flag_for_Portugal:', ':portugal:']},\n",
       " '🇵🇷': {'en': ':Puerto_Rico:',\n",
       "  'status': 2,\n",
       "  'E': 2,\n",
       "  'alias': [':flag_for_Puerto_Rico:', ':puerto_rico:']},\n",
       " '🇶🇦': {'en': ':Qatar:',\n",
       "  'status': 2,\n",
       "  'E': 2,\n",
       "  'alias': [':flag_for_Qatar:', ':qatar:']},\n",
       " '🇷🇴': {'en': ':Romania:',\n",
       "  'status': 2,\n",
       "  'E': 2,\n",
       "  'alias': [':flag_for_Romania:', ':romania:']},\n",
       " '🇷🇺': {'en': ':Russia:',\n",
       "  'status': 2,\n",
       "  'E': 0.6,\n",
       "  'alias': [':flag_for_Russia:', ':ru:']},\n",
       " '🇷🇼': {'en': ':Rwanda:',\n",
       "  'status': 2,\n",
       "  'E': 2,\n",
       "  'alias': [':flag_for_Rwanda:', ':rwanda:']},\n",
       " '🇷🇪': {'en': ':Réunion:',\n",
       "  'status': 2,\n",
       "  'E': 2,\n",
       "  'alias': [':flag_for_Réunion:', ':reunion:']},\n",
       " '🔜': {'en': ':SOON_arrow:',\n",
       "  'status': 2,\n",
       "  'E': 0.6,\n",
       "  'alias': [':soon:', ':soon_arrow:']},\n",
       " '🆘': {'en': ':SOS_button:',\n",
       "  'status': 2,\n",
       "  'E': 0.6,\n",
       "  'alias': [':sos:', ':sos_button:']},\n",
       " '♐': {'en': ':Sagittarius:',\n",
       "  'status': 2,\n",
       "  'E': 0.6,\n",
       "  'alias': [':sagittarius:'],\n",
       "  'variant': True},\n",
       " '🇼🇸': {'en': ':Samoa:',\n",
       "  'status': 2,\n",
       "  'E': 2,\n",
       "  'alias': [':flag_for_Samoa:', ':samoa:']},\n",
       " '🇸🇲': {'en': ':San_Marino:',\n",
       "  'status': 2,\n",
       "  'E': 2,\n",
       "  'alias': [':flag_for_San_Marino:', ':san_marino:']},\n",
       " '🎅': {'en': ':Santa_Claus:',\n",
       "  'status': 2,\n",
       "  'E': 0.6,\n",
       "  'alias': [':santa:', ':santa_claus:']},\n",
       " '🎅🏿': {'en': ':Santa_Claus_dark_skin_tone:', 'status': 2, 'E': 1},\n",
       " '🎅🏻': {'en': ':Santa_Claus_light_skin_tone:', 'status': 2, 'E': 1},\n",
       " '🎅🏾': {'en': ':Santa_Claus_medium-dark_skin_tone:', 'status': 2, 'E': 1},\n",
       " '🎅🏼': {'en': ':Santa_Claus_medium-light_skin_tone:', 'status': 2, 'E': 1},\n",
       " '🎅🏽': {'en': ':Santa_Claus_medium_skin_tone:', 'status': 2, 'E': 1},\n",
       " '🇨🇶': {'en': ':Sark:', 'status': 2, 'E': 16, 'alias': [':flag_for_Sark:']},\n",
       " '🇸🇦': {'en': ':Saudi_Arabia:',\n",
       "  'status': 2,\n",
       "  'E': 2,\n",
       "  'alias': [':flag_for_Saudi_Arabia:', ':saudi_arabia:']},\n",
       " '♏': {'en': ':Scorpio:',\n",
       "  'status': 2,\n",
       "  'E': 0.6,\n",
       "  'alias': [':scorpius:', ':scorpio:'],\n",
       "  'variant': True},\n",
       " '🏴\\U000e0067\\U000e0062\\U000e0073\\U000e0063\\U000e0074\\U000e007f': {'en': ':Scotland:',\n",
       "  'status': 2,\n",
       "  'E': 5,\n",
       "  'alias': [':scotland:']},\n",
       " '🇸🇳': {'en': ':Senegal:',\n",
       "  'status': 2,\n",
       "  'E': 2,\n",
       "  'alias': [':flag_for_Senegal:', ':senegal:']},\n",
       " '🇷🇸': {'en': ':Serbia:',\n",
       "  'status': 2,\n",
       "  'E': 2,\n",
       "  'alias': [':flag_for_Serbia:', ':serbia:']},\n",
       " '🇸🇨': {'en': ':Seychelles:',\n",
       "  'status': 2,\n",
       "  'E': 2,\n",
       "  'alias': [':flag_for_Seychelles:', ':seychelles:']},\n",
       " '🇸🇱': {'en': ':Sierra_Leone:',\n",
       "  'status': 2,\n",
       "  'E': 2,\n",
       "  'alias': [':flag_for_Sierra_Leone:', ':sierra_leone:']},\n",
       " '🇸🇬': {'en': ':Singapore:',\n",
       "  'status': 2,\n",
       "  'E': 2,\n",
       "  'alias': [':flag_for_Singapore:', ':singapore:']},\n",
       " '🇸🇽': {'en': ':Sint_Maarten:',\n",
       "  'status': 2,\n",
       "  'E': 2,\n",
       "  'alias': [':flag_for_Sint_Maarten:', ':sint_maarten:']},\n",
       " '🇸🇰': {'en': ':Slovakia:',\n",
       "  'status': 2,\n",
       "  'E': 2,\n",
       "  'alias': [':flag_for_Slovakia:', ':slovakia:']},\n",
       " '🇸🇮': {'en': ':Slovenia:',\n",
       "  'status': 2,\n",
       "  'E': 2,\n",
       "  'alias': [':flag_for_Slovenia:', ':slovenia:']},\n",
       " '🇸🇧': {'en': ':Solomon_Islands:',\n",
       "  'status': 2,\n",
       "  'E': 2,\n",
       "  'alias': [':flag_for_Solomon_Islands:', ':solomon_islands:']},\n",
       " '🇸🇴': {'en': ':Somalia:',\n",
       "  'status': 2,\n",
       "  'E': 2,\n",
       "  'alias': [':flag_for_Somalia:', ':somalia:']},\n",
       " '🇿🇦': {'en': ':South_Africa:',\n",
       "  'status': 2,\n",
       "  'E': 2,\n",
       "  'alias': [':flag_for_South_Africa:', ':south_africa:']},\n",
       " '🇬🇸': {'en': ':South_Georgia_&_South_Sandwich_Islands:',\n",
       "  'status': 2,\n",
       "  'E': 2,\n",
       "  'alias': [':flag_for_South_Georgia_&_South_Sandwich_Islands:',\n",
       "   ':south_georgia_south_sandwich_islands:']},\n",
       " '🇰🇷': {'en': ':South_Korea:',\n",
       "  'status': 2,\n",
       "  'E': 0.6,\n",
       "  'alias': [':flag_for_South_Korea:', ':kr:']},\n",
       " '🇸🇸': {'en': ':South_Sudan:',\n",
       "  'status': 2,\n",
       "  'E': 2,\n",
       "  'alias': [':flag_for_South_Sudan:', ':south_sudan:']},\n",
       " '🇪🇸': {'en': ':Spain:',\n",
       "  'status': 2,\n",
       "  'E': 0.6,\n",
       "  'alias': [':flag_for_Spain:', ':es:']},\n",
       " '🇱🇰': {'en': ':Sri_Lanka:',\n",
       "  'status': 2,\n",
       "  'E': 2,\n",
       "  'alias': [':flag_for_Sri_Lanka:', ':sri_lanka:']},\n",
       " '🇧🇱': {'en': ':St._Barthélemy:',\n",
       "  'status': 2,\n",
       "  'E': 2,\n",
       "  'alias': [':flag_for_St._Barthélemy:', ':st_barthelemy:']},\n",
       " '🇸🇭': {'en': ':St._Helena:',\n",
       "  'status': 2,\n",
       "  'E': 2,\n",
       "  'alias': [':flag_for_St._Helena:', ':st_helena:']},\n",
       " '🇰🇳': {'en': ':St._Kitts_&_Nevis:',\n",
       "  'status': 2,\n",
       "  'E': 2,\n",
       "  'alias': [':flag_for_St._Kitts_&_Nevis:', ':st_kitts_nevis:']},\n",
       " '🇱🇨': {'en': ':St._Lucia:',\n",
       "  'status': 2,\n",
       "  'E': 2,\n",
       "  'alias': [':flag_for_St._Lucia:', ':st_lucia:']},\n",
       " '🇲🇫': {'en': ':St._Martin:',\n",
       "  'status': 2,\n",
       "  'E': 2,\n",
       "  'alias': [':flag_for_St._Martin:', ':st_martin:']},\n",
       " '🇵🇲': {'en': ':St._Pierre_&_Miquelon:',\n",
       "  'status': 2,\n",
       "  'E': 2,\n",
       "  'alias': [':flag_for_St._Pierre_&_Miquelon:', ':st_pierre_miquelon:']},\n",
       " '🇻🇨': {'en': ':St._Vincent_&_Grenadines:',\n",
       "  'status': 2,\n",
       "  'E': 2,\n",
       "  'alias': [':flag_for_St._Vincent_&_Grenadines:', ':st_vincent_grenadines:']},\n",
       " '🗽': {'en': ':Statue_of_Liberty:',\n",
       "  'status': 2,\n",
       "  'E': 0.6,\n",
       "  'alias': [':statue_of_liberty:']},\n",
       " '🇸🇩': {'en': ':Sudan:',\n",
       "  'status': 2,\n",
       "  'E': 2,\n",
       "  'alias': [':flag_for_Sudan:', ':sudan:']},\n",
       " '🇸🇷': {'en': ':Suriname:',\n",
       "  'status': 2,\n",
       "  'E': 2,\n",
       "  'alias': [':flag_for_Suriname:', ':suriname:']},\n",
       " '🇸🇯': {'en': ':Svalbard_&_Jan_Mayen:',\n",
       "  'status': 2,\n",
       "  'E': 2,\n",
       "  'alias': [':flag_for_Svalbard_&_Jan_Mayen:', ':svalbard_jan_mayen:']},\n",
       " '🇸🇪': {'en': ':Sweden:',\n",
       "  'status': 2,\n",
       "  'E': 2,\n",
       "  'alias': [':flag_for_Sweden:', ':sweden:']},\n",
       " '🇨🇭': {'en': ':Switzerland:',\n",
       "  'status': 2,\n",
       "  'E': 2,\n",
       "  'alias': [':flag_for_Switzerland:', ':switzerland:']},\n",
       " '🇸🇾': {'en': ':Syria:',\n",
       "  'status': 2,\n",
       "  'E': 2,\n",
       "  'alias': [':flag_for_Syria:', ':syria:']},\n",
       " '🇸🇹': {'en': ':São_Tomé_&_Príncipe:',\n",
       "  'status': 2,\n",
       "  'E': 2,\n",
       "  'alias': [':flag_for_São_Tomé_&_Príncipe:', ':sao_tome_principe:']},\n",
       " '🦖': {'en': ':T-Rex:', 'status': 2, 'E': 5, 'alias': [':t-rex:', ':t_rex:']},\n",
       " '🔝': {'en': ':TOP_arrow:',\n",
       "  'status': 2,\n",
       "  'E': 0.6,\n",
       "  'alias': [':top:', ':top_arrow:']},\n",
       " '🇹🇼': {'en': ':Taiwan:',\n",
       "  'status': 2,\n",
       "  'E': 2,\n",
       "  'alias': [':flag_for_Taiwan:', ':taiwan:']},\n",
       " '🇹🇯': {'en': ':Tajikistan:',\n",
       "  'status': 2,\n",
       "  'E': 2,\n",
       "  'alias': [':flag_for_Tajikistan:', ':tajikistan:']},\n",
       " '🇹🇿': {'en': ':Tanzania:',\n",
       "  'status': 2,\n",
       "  'E': 2,\n",
       "  'alias': [':flag_for_Tanzania:', ':tanzania:']},\n",
       " '♉': {'en': ':Taurus:',\n",
       "  'status': 2,\n",
       "  'E': 0.6,\n",
       "  'alias': [':taurus:'],\n",
       "  'variant': True},\n",
       " '🇹🇭': {'en': ':Thailand:',\n",
       "  'status': 2,\n",
       "  'E': 2,\n",
       "  'alias': [':flag_for_Thailand:', ':thailand:']},\n",
       " '🇹🇱': {'en': ':Timor-Leste:',\n",
       "  'status': 2,\n",
       "  'E': 2,\n",
       "  'alias': [':flag_for_Timor_Leste:', ':timor_leste:']},\n",
       " '🇹🇬': {'en': ':Togo:',\n",
       "  'status': 2,\n",
       "  'E': 2,\n",
       "  'alias': [':flag_for_Togo:', ':togo:']},\n",
       " '🇹🇰': {'en': ':Tokelau:',\n",
       "  'status': 2,\n",
       "  'E': 2,\n",
       "  'alias': [':flag_for_Tokelau:', ':tokelau:']},\n",
       " '🗼': {'en': ':Tokyo_tower:',\n",
       "  'status': 2,\n",
       "  'E': 0.6,\n",
       "  'alias': [':tokyo_tower:']},\n",
       " '🇹🇴': {'en': ':Tonga:',\n",
       "  'status': 2,\n",
       "  'E': 2,\n",
       "  'alias': [':flag_for_Tonga:', ':tonga:']},\n",
       " '🇹🇹': {'en': ':Trinidad_&_Tobago:',\n",
       "  'status': 2,\n",
       "  'E': 2,\n",
       "  'alias': [':flag_for_Trinidad_&_Tobago:', ':trinidad_tobago:']},\n",
       " '🇹🇦': {'en': ':Tristan_da_Cunha:',\n",
       "  'status': 2,\n",
       "  'E': 2,\n",
       "  'alias': [':flag_for_Tristan_da_Cunha:', ':tristan_da_cunha:']},\n",
       " '🇹🇳': {'en': ':Tunisia:',\n",
       "  'status': 2,\n",
       "  'E': 2,\n",
       "  'alias': [':flag_for_Tunisia:', ':tunisia:']},\n",
       " '🇹🇲': {'en': ':Turkmenistan:',\n",
       "  'status': 2,\n",
       "  'E': 2,\n",
       "  'alias': [':flag_for_Turkmenistan:', ':turkmenistan:']},\n",
       " '🇹🇨': {'en': ':Turks_&_Caicos_Islands:',\n",
       "  'status': 2,\n",
       "  'E': 2,\n",
       "  'alias': [':flag_for_Turks_&_Caicos_Islands:', ':turks_caicos_islands:']},\n",
       " '🇹🇻': {'en': ':Tuvalu:',\n",
       "  'status': 2,\n",
       "  'E': 2,\n",
       "  'alias': [':flag_for_Tuvalu:', ':tuvalu:']},\n",
       " '🇹🇷': {'en': ':Türkiye:',\n",
       "  'status': 2,\n",
       "  'E': 2,\n",
       "  'alias': [':flag_for_Turkey:', ':Turkey:', ':tr:']},\n",
       " '🇺🇲': {'en': ':U.S._Outlying_Islands:',\n",
       "  'status': 2,\n",
       "  'E': 2,\n",
       "  'alias': [':flag_for_U.S._Outlying_Islands:', ':us_outlying_islands:']},\n",
       " '🇻🇮': {'en': ':U.S._Virgin_Islands:',\n",
       "  'status': 2,\n",
       "  'E': 2,\n",
       "  'alias': [':flag_for_U.S._Virgin_Islands:', ':us_virgin_islands:']},\n",
       " '🆙': {'en': ':UP!_button:',\n",
       "  'status': 2,\n",
       "  'E': 0.6,\n",
       "  'alias': [':up:', ':up_button:']},\n",
       " '🇺🇬': {'en': ':Uganda:',\n",
       "  'status': 2,\n",
       "  'E': 2,\n",
       "  'alias': [':flag_for_Uganda:', ':uganda:']},\n",
       " '🇺🇦': {'en': ':Ukraine:',\n",
       "  'status': 2,\n",
       "  'E': 2,\n",
       "  'alias': [':flag_for_Ukraine:', ':ukraine:']},\n",
       " '🇦🇪': {'en': ':United_Arab_Emirates:',\n",
       "  'status': 2,\n",
       "  'E': 2,\n",
       "  'alias': [':flag_for_United_Arab_Emirates:', ':united_arab_emirates:']},\n",
       " '🇬🇧': {'en': ':United_Kingdom:',\n",
       "  'status': 2,\n",
       "  'E': 0.6,\n",
       "  'alias': [':flag_for_United_Kingdom:', ':gb:', ':uk:']},\n",
       " '🇺🇳': {'en': ':United_Nations:',\n",
       "  'status': 2,\n",
       "  'E': 4,\n",
       "  'alias': [':united_nations:']},\n",
       " '🇺🇸': {'en': ':United_States:',\n",
       "  'status': 2,\n",
       "  'E': 0.6,\n",
       "  'alias': [':flag_for_United_States:', ':us:']},\n",
       " '🇺🇾': {'en': ':Uruguay:',\n",
       "  'status': 2,\n",
       "  'E': 2,\n",
       "  'alias': [':flag_for_Uruguay:', ':uruguay:']},\n",
       " '🇺🇿': {'en': ':Uzbekistan:',\n",
       "  'status': 2,\n",
       "  'E': 2,\n",
       "  'alias': [':flag_for_Uzbekistan:', ':uzbekistan:']},\n",
       " '🆚': {'en': ':VS_button:',\n",
       "  'status': 2,\n",
       "  'E': 0.6,\n",
       "  'alias': [':vs:', ':vs_button:']},\n",
       " '🇻🇺': {'en': ':Vanuatu:',\n",
       "  'status': 2,\n",
       "  'E': 2,\n",
       "  'alias': [':flag_for_Vanuatu:', ':vanuatu:']},\n",
       " '🇻🇦': {'en': ':Vatican_City:',\n",
       "  'status': 2,\n",
       "  'E': 2,\n",
       "  'alias': [':flag_for_Vatican_City:', ':vatican_city:']},\n",
       " '🇻🇪': {'en': ':Venezuela:',\n",
       "  'status': 2,\n",
       "  'E': 2,\n",
       "  'alias': [':flag_for_Venezuela:', ':venezuela:']},\n",
       " '🇻🇳': {'en': ':Vietnam:',\n",
       "  'status': 2,\n",
       "  'E': 2,\n",
       "  'alias': [':flag_for_Vietnam:', ':vietnam:']},\n",
       " '♍': {'en': ':Virgo:',\n",
       "  'status': 2,\n",
       "  'E': 0.6,\n",
       "  'alias': [':virgo:'],\n",
       "  'variant': True},\n",
       " '🏴\\U000e0067\\U000e0062\\U000e0077\\U000e006c\\U000e0073\\U000e007f': {'en': ':Wales:',\n",
       "  'status': 2,\n",
       "  'E': 5,\n",
       "  'alias': [':wales:']},\n",
       " '🇼🇫': {'en': ':Wallis_&_Futuna:',\n",
       "  'status': 2,\n",
       "  'E': 2,\n",
       "  'alias': [':flag_for_Wallis_&_Futuna:', ':wallis_futuna:']},\n",
       " '🇪🇭': {'en': ':Western_Sahara:',\n",
       "  'status': 2,\n",
       "  'E': 2,\n",
       "  'alias': [':flag_for_Western_Sahara:', ':western_sahara:']},\n",
       " '🇾🇪': {'en': ':Yemen:',\n",
       "  'status': 2,\n",
       "  'E': 2,\n",
       "  'alias': [':flag_for_Yemen:', ':yemen:']},\n",
       " '💤': {'en': ':ZZZ:', 'status': 2, 'E': 0.6, 'alias': [':zzz:']},\n",
       " '🇿🇲': {'en': ':Zambia:',\n",
       "  'status': 2,\n",
       "  'E': 2,\n",
       "  'alias': [':flag_for_Zambia:', ':zambia:']},\n",
       " '🇿🇼': {'en': ':Zimbabwe:',\n",
       "  'status': 2,\n",
       "  'E': 2,\n",
       "  'alias': [':flag_for_Zimbabwe:', ':zimbabwe:']},\n",
       " '🧮': {'en': ':abacus:', 'status': 2, 'E': 11},\n",
       " '🪗': {'en': ':accordion:', 'status': 2, 'E': 13},\n",
       " '🩹': {'en': ':adhesive_bandage:', 'status': 2, 'E': 12},\n",
       " '🎟️': {'en': ':admission_tickets:',\n",
       "  'status': 2,\n",
       "  'E': 0.7,\n",
       "  'alias': [':tickets:'],\n",
       "  'variant': True},\n",
       " '🎟': {'en': ':admission_tickets:',\n",
       "  'status': 4,\n",
       "  'E': 0.7,\n",
       "  'alias': [':tickets:'],\n",
       "  'variant': True},\n",
       " '🚡': {'en': ':aerial_tramway:', 'status': 2, 'E': 1},\n",
       " '✈️': {'en': ':airplane:', 'status': 2, 'E': 0.6, 'variant': True},\n",
       " '✈': {'en': ':airplane:', 'status': 4, 'E': 0.6, 'variant': True},\n",
       " '🛬': {'en': ':airplane_arrival:',\n",
       "  'status': 2,\n",
       "  'E': 1,\n",
       "  'alias': [':airplane_arriving:', ':flight_arrival:']},\n",
       " '🛫': {'en': ':airplane_departure:',\n",
       "  'status': 2,\n",
       "  'E': 1,\n",
       "  'alias': [':flight_departure:']},\n",
       " '⏰': {'en': ':alarm_clock:', 'status': 2, 'E': 0.6, 'variant': True},\n",
       " '⚗️': {'en': ':alembic:', 'status': 2, 'E': 1, 'variant': True},\n",
       " '⚗': {'en': ':alembic:', 'status': 4, 'E': 1, 'variant': True},\n",
       " '👽': {'en': ':alien:', 'status': 2, 'E': 0.6, 'variant': True},\n",
       " '👾': {'en': ':alien_monster:',\n",
       "  'status': 2,\n",
       "  'E': 0.6,\n",
       "  'alias': [':space_invader:']},\n",
       " '🚑': {'en': ':ambulance:', 'status': 2, 'E': 0.6, 'variant': True},\n",
       " '🏈': {'en': ':american_football:',\n",
       "  'status': 2,\n",
       "  'E': 0.6,\n",
       "  'alias': [':football:']},\n",
       " '🏺': {'en': ':amphora:', 'status': 2, 'E': 1},\n",
       " '🫀': {'en': ':anatomical_heart:', 'status': 2, 'E': 13},\n",
       " '⚓': {'en': ':anchor:', 'status': 2, 'E': 0.6, 'variant': True},\n",
       " '💢': {'en': ':anger_symbol:', 'status': 2, 'E': 0.6, 'alias': [':anger:']},\n",
       " '😠': {'en': ':angry_face:', 'status': 2, 'E': 0.6, 'alias': [':angry:']},\n",
       " '👿': {'en': ':angry_face_with_horns:',\n",
       "  'status': 2,\n",
       "  'E': 0.6,\n",
       "  'alias': [':imp:']},\n",
       " '😧': {'en': ':anguished_face:',\n",
       "  'status': 2,\n",
       "  'E': 1,\n",
       "  'alias': [':anguished:']},\n",
       " '🐜': {'en': ':ant:', 'status': 2, 'E': 0.6},\n",
       " '📶': {'en': ':antenna_bars:',\n",
       "  'status': 2,\n",
       "  'E': 0.6,\n",
       "  'alias': [':signal_strength:']},\n",
       " '😰': {'en': ':anxious_face_with_sweat:',\n",
       "  'status': 2,\n",
       "  'E': 0.6,\n",
       "  'alias': [':cold_sweat:']},\n",
       " '🚛': {'en': ':articulated_lorry:', 'status': 2, 'E': 1},\n",
       " '🧑\\u200d🎨': {'en': ':artist:', 'status': 2, 'E': 12.1},\n",
       " '🧑🏿\\u200d🎨': {'en': ':artist_dark_skin_tone:', 'status': 2, 'E': 12.1},\n",
       " '🧑🏻\\u200d🎨': {'en': ':artist_light_skin_tone:', 'status': 2, 'E': 12.1},\n",
       " '🧑🏾\\u200d🎨': {'en': ':artist_medium-dark_skin_tone:', 'status': 2, 'E': 12.1},\n",
       " '🧑🏼\\u200d🎨': {'en': ':artist_medium-light_skin_tone:',\n",
       "  'status': 2,\n",
       "  'E': 12.1},\n",
       " '🧑🏽\\u200d🎨': {'en': ':artist_medium_skin_tone:', 'status': 2, 'E': 12.1},\n",
       " '🎨': {'en': ':artist_palette:', 'status': 2, 'E': 0.6, 'alias': [':art:']},\n",
       " '😲': {'en': ':astonished_face:',\n",
       "  'status': 2,\n",
       "  'E': 0.6,\n",
       "  'alias': [':astonished:']},\n",
       " '🧑\\u200d🚀': {'en': ':astronaut:', 'status': 2, 'E': 12.1},\n",
       " '🧑🏿\\u200d🚀': {'en': ':astronaut_dark_skin_tone:', 'status': 2, 'E': 12.1},\n",
       " '🧑🏻\\u200d🚀': {'en': ':astronaut_light_skin_tone:', 'status': 2, 'E': 12.1},\n",
       " '🧑🏾\\u200d🚀': {'en': ':astronaut_medium-dark_skin_tone:',\n",
       "  'status': 2,\n",
       "  'E': 12.1},\n",
       " '🧑🏼\\u200d🚀': {'en': ':astronaut_medium-light_skin_tone:',\n",
       "  'status': 2,\n",
       "  'E': 12.1},\n",
       " '🧑🏽\\u200d🚀': {'en': ':astronaut_medium_skin_tone:', 'status': 2, 'E': 12.1},\n",
       " '⚛️': {'en': ':atom_symbol:', 'status': 2, 'E': 1, 'variant': True},\n",
       " '⚛': {'en': ':atom_symbol:', 'status': 4, 'E': 1, 'variant': True},\n",
       " '🛺': {'en': ':auto_rickshaw:', 'status': 2, 'E': 12},\n",
       " '🚗': {'en': ':automobile:',\n",
       "  'status': 2,\n",
       "  'E': 0.6,\n",
       "  'alias': [':car:', ':red_car:']},\n",
       " '🥑': {'en': ':avocado:', 'status': 2, 'E': 3},\n",
       " '🪓': {'en': ':axe:', 'status': 2, 'E': 12},\n",
       " '👶': {'en': ':baby:', 'status': 2, 'E': 0.6},\n",
       " '👼': {'en': ':baby_angel:', 'status': 2, 'E': 0.6, 'alias': [':angel:']},\n",
       " '👼🏿': {'en': ':baby_angel_dark_skin_tone:', 'status': 2, 'E': 1},\n",
       " '👼🏻': {'en': ':baby_angel_light_skin_tone:', 'status': 2, 'E': 1},\n",
       " '👼🏾': {'en': ':baby_angel_medium-dark_skin_tone:', 'status': 2, 'E': 1},\n",
       " '👼🏼': {'en': ':baby_angel_medium-light_skin_tone:', 'status': 2, 'E': 1},\n",
       " '👼🏽': {'en': ':baby_angel_medium_skin_tone:', 'status': 2, 'E': 1},\n",
       " '🍼': {'en': ':baby_bottle:', 'status': 2, 'E': 1},\n",
       " '🐤': {'en': ':baby_chick:', 'status': 2, 'E': 0.6},\n",
       " '👶🏿': {'en': ':baby_dark_skin_tone:', 'status': 2, 'E': 1},\n",
       " '👶🏻': {'en': ':baby_light_skin_tone:', 'status': 2, 'E': 1},\n",
       " '👶🏾': {'en': ':baby_medium-dark_skin_tone:', 'status': 2, 'E': 1},\n",
       " '👶🏼': {'en': ':baby_medium-light_skin_tone:', 'status': 2, 'E': 1},\n",
       " '👶🏽': {'en': ':baby_medium_skin_tone:', 'status': 2, 'E': 1},\n",
       " '🚼': {'en': ':baby_symbol:', 'status': 2, 'E': 0.6, 'variant': True},\n",
       " '👇': {'en': ':backhand_index_pointing_down:',\n",
       "  'status': 2,\n",
       "  'E': 0.6,\n",
       "  'alias': [':point_down:'],\n",
       "  'variant': True},\n",
       " '👇🏿': {'en': ':backhand_index_pointing_down_dark_skin_tone:',\n",
       "  'status': 2,\n",
       "  'E': 1},\n",
       " '👇🏻': {'en': ':backhand_index_pointing_down_light_skin_tone:',\n",
       "  'status': 2,\n",
       "  'E': 1},\n",
       " '👇🏾': {'en': ':backhand_index_pointing_down_medium-dark_skin_tone:',\n",
       "  'status': 2,\n",
       "  'E': 1},\n",
       " '👇🏼': {'en': ':backhand_index_pointing_down_medium-light_skin_tone:',\n",
       "  'status': 2,\n",
       "  'E': 1},\n",
       " '👇🏽': {'en': ':backhand_index_pointing_down_medium_skin_tone:',\n",
       "  'status': 2,\n",
       "  'E': 1},\n",
       " '👈': {'en': ':backhand_index_pointing_left:',\n",
       "  'status': 2,\n",
       "  'E': 0.6,\n",
       "  'alias': [':point_left:'],\n",
       "  'variant': True},\n",
       " '👈🏿': {'en': ':backhand_index_pointing_left_dark_skin_tone:',\n",
       "  'status': 2,\n",
       "  'E': 1},\n",
       " '👈🏻': {'en': ':backhand_index_pointing_left_light_skin_tone:',\n",
       "  'status': 2,\n",
       "  'E': 1},\n",
       " '👈🏾': {'en': ':backhand_index_pointing_left_medium-dark_skin_tone:',\n",
       "  'status': 2,\n",
       "  'E': 1},\n",
       " '👈🏼': {'en': ':backhand_index_pointing_left_medium-light_skin_tone:',\n",
       "  'status': 2,\n",
       "  'E': 1},\n",
       " '👈🏽': {'en': ':backhand_index_pointing_left_medium_skin_tone:',\n",
       "  'status': 2,\n",
       "  'E': 1},\n",
       " '👉': {'en': ':backhand_index_pointing_right:',\n",
       "  'status': 2,\n",
       "  'E': 0.6,\n",
       "  'alias': [':point_right:'],\n",
       "  'variant': True},\n",
       " '👉🏿': {'en': ':backhand_index_pointing_right_dark_skin_tone:',\n",
       "  'status': 2,\n",
       "  'E': 1},\n",
       " '👉🏻': {'en': ':backhand_index_pointing_right_light_skin_tone:',\n",
       "  'status': 2,\n",
       "  'E': 1},\n",
       " '👉🏾': {'en': ':backhand_index_pointing_right_medium-dark_skin_tone:',\n",
       "  'status': 2,\n",
       "  'E': 1},\n",
       " '👉🏼': {'en': ':backhand_index_pointing_right_medium-light_skin_tone:',\n",
       "  'status': 2,\n",
       "  'E': 1},\n",
       " '👉🏽': {'en': ':backhand_index_pointing_right_medium_skin_tone:',\n",
       "  'status': 2,\n",
       "  'E': 1},\n",
       " '👆': {'en': ':backhand_index_pointing_up:',\n",
       "  'status': 2,\n",
       "  'E': 0.6,\n",
       "  'alias': [':point_up_2:'],\n",
       "  'variant': True},\n",
       " '👆🏿': {'en': ':backhand_index_pointing_up_dark_skin_tone:',\n",
       "  'status': 2,\n",
       "  'E': 1},\n",
       " '👆🏻': {'en': ':backhand_index_pointing_up_light_skin_tone:',\n",
       "  'status': 2,\n",
       "  'E': 1},\n",
       " '👆🏾': {'en': ':backhand_index_pointing_up_medium-dark_skin_tone:',\n",
       "  'status': 2,\n",
       "  'E': 1},\n",
       " '👆🏼': {'en': ':backhand_index_pointing_up_medium-light_skin_tone:',\n",
       "  'status': 2,\n",
       "  'E': 1},\n",
       " '👆🏽': {'en': ':backhand_index_pointing_up_medium_skin_tone:',\n",
       "  'status': 2,\n",
       "  'E': 1},\n",
       " '🎒': {'en': ':backpack:',\n",
       "  'status': 2,\n",
       "  'E': 0.6,\n",
       "  'alias': [':school_satchel:']},\n",
       " '🥓': {'en': ':bacon:', 'status': 2, 'E': 3},\n",
       " '🦡': {'en': ':badger:', 'status': 2, 'E': 11},\n",
       " '🏸': {'en': ':badminton:',\n",
       "  'status': 2,\n",
       "  'E': 1,\n",
       "  'alias': [':badminton_racquet_and_shuttlecock:']},\n",
       " '🥯': {'en': ':bagel:', 'status': 2, 'E': 11},\n",
       " '🛄': {'en': ':baggage_claim:', 'status': 2, 'E': 1},\n",
       " '🥖': {'en': ':baguette_bread:', 'status': 2, 'E': 3},\n",
       " '⚖️': {'en': ':balance_scale:',\n",
       "  'status': 2,\n",
       "  'E': 1,\n",
       "  'alias': [':scales:'],\n",
       "  'variant': True},\n",
       " '⚖': {'en': ':balance_scale:',\n",
       "  'status': 4,\n",
       "  'E': 1,\n",
       "  'alias': [':scales:'],\n",
       "  'variant': True},\n",
       " '🦲': {'en': ':bald:', 'status': 1, 'E': 11},\n",
       " '🩰': {'en': ':ballet_shoes:', 'status': 2, 'E': 12},\n",
       " '🎈': {'en': ':balloon:', 'status': 2, 'E': 0.6},\n",
       " '🗳️': {'en': ':ballot_box_with_ballot:',\n",
       "  'status': 2,\n",
       "  'E': 0.7,\n",
       "  'alias': [':ballot_box:'],\n",
       "  'variant': True},\n",
       " '🗳': {'en': ':ballot_box_with_ballot:',\n",
       "  'status': 4,\n",
       "  'E': 0.7,\n",
       "  'alias': [':ballot_box:'],\n",
       "  'variant': True},\n",
       " '🍌': {'en': ':banana:', 'status': 2, 'E': 0.6},\n",
       " '🪕': {'en': ':banjo:', 'status': 2, 'E': 12},\n",
       " '🏦': {'en': ':bank:', 'status': 2, 'E': 0.6},\n",
       " '📊': {'en': ':bar_chart:', 'status': 2, 'E': 0.6},\n",
       " '💈': {'en': ':barber_pole:', 'status': 2, 'E': 0.6, 'alias': [':barber:']},\n",
       " '⚾': {'en': ':baseball:', 'status': 2, 'E': 0.6, 'variant': True},\n",
       " '🧺': {'en': ':basket:', 'status': 2, 'E': 11},\n",
       " '🏀': {'en': ':basketball:', 'status': 2, 'E': 0.6},\n",
       " '🦇': {'en': ':bat:', 'status': 2, 'E': 3},\n",
       " '🛁': {'en': ':bathtub:', 'status': 2, 'E': 1},\n",
       " '🔋': {'en': ':battery:', 'status': 2, 'E': 0.6},\n",
       " '🏖️': {'en': ':beach_with_umbrella:',\n",
       "  'status': 2,\n",
       "  'E': 0.7,\n",
       "  'alias': [':beach_umbrella:'],\n",
       "  'variant': True},\n",
       " '🏖': {'en': ':beach_with_umbrella:',\n",
       "  'status': 4,\n",
       "  'E': 0.7,\n",
       "  'alias': [':beach_umbrella:'],\n",
       "  'variant': True},\n",
       " '😁': {'en': ':beaming_face_with_smiling_eyes:',\n",
       "  'status': 2,\n",
       "  'E': 0.6,\n",
       "  'alias': [':grin:']},\n",
       " '🫘': {'en': ':beans:', 'status': 2, 'E': 14},\n",
       " '🐻': {'en': ':bear:', 'status': 2, 'E': 0.6},\n",
       " '💓': {'en': ':beating_heart:',\n",
       "  'status': 2,\n",
       "  'E': 0.6,\n",
       "  'alias': [':heartbeat:']},\n",
       " '🦫': {'en': ':beaver:', 'status': 2, 'E': 13},\n",
       " '🛏️': {'en': ':bed:', 'status': 2, 'E': 0.7, 'variant': True},\n",
       " '🛏': {'en': ':bed:', 'status': 4, 'E': 0.7, 'variant': True},\n",
       " '🍺': {'en': ':beer_mug:', 'status': 2, 'E': 0.6, 'alias': [':beer:']},\n",
       " '🪲': {'en': ':beetle:', 'status': 2, 'E': 13},\n",
       " '🔔': {'en': ':bell:', 'status': 2, 'E': 0.6},\n",
       " '🫑': {'en': ':bell_pepper:', 'status': 2, 'E': 13},\n",
       " '🔕': {'en': ':bell_with_slash:', 'status': 2, 'E': 1, 'alias': [':no_bell:']},\n",
       " '🛎️': {'en': ':bellhop_bell:', 'status': 2, 'E': 0.7, 'variant': True},\n",
       " '🛎': {'en': ':bellhop_bell:', 'status': 4, 'E': 0.7, 'variant': True},\n",
       " '🍱': {'en': ':bento_box:', 'status': 2, 'E': 0.6, 'alias': [':bento:']},\n",
       " '🧃': {'en': ':beverage_box:', 'status': 2, 'E': 12},\n",
       " '🚲': {'en': ':bicycle:',\n",
       "  'status': 2,\n",
       "  'E': 0.6,\n",
       "  'alias': [':bike:'],\n",
       "  'variant': True},\n",
       " '👙': {'en': ':bikini:', 'status': 2, 'E': 0.6},\n",
       " '🧢': {'en': ':billed_cap:', 'status': 2, 'E': 5},\n",
       " '☣️': {'en': ':biohazard:',\n",
       "  'status': 2,\n",
       "  'E': 1,\n",
       "  'alias': [':biohazard_sign:'],\n",
       "  'variant': True},\n",
       " '☣': {'en': ':biohazard:',\n",
       "  'status': 4,\n",
       "  'E': 1,\n",
       "  'alias': [':biohazard_sign:'],\n",
       "  'variant': True},\n",
       " '🐦': {'en': ':bird:', 'status': 2, 'E': 0.6, 'variant': True},\n",
       " '🎂': {'en': ':birthday_cake:',\n",
       "  'status': 2,\n",
       "  'E': 0.6,\n",
       "  'alias': [':birthday:']},\n",
       " '🦬': {'en': ':bison:', 'status': 2, 'E': 13},\n",
       " '🫦': {'en': ':biting_lip:', 'status': 2, 'E': 14},\n",
       " '🐦\\u200d⬛': {'en': ':black_bird:',\n",
       "  'status': 2,\n",
       "  'E': 15,\n",
       "  'alias': [':raven:', ':crow:', ':rook:']},\n",
       " '🐈\\u200d⬛': {'en': ':black_cat:', 'status': 2, 'E': 13},\n",
       " '⚫': {'en': ':black_circle:', 'status': 2, 'E': 0.6, 'variant': True},\n",
       " '🏴': {'en': ':black_flag:',\n",
       "  'status': 2,\n",
       "  'E': 1,\n",
       "  'alias': [':waving_black_flag:']},\n",
       " '🖤': {'en': ':black_heart:', 'status': 2, 'E': 3},\n",
       " '⬛': {'en': ':black_large_square:', 'status': 2, 'E': 0.6, 'variant': True},\n",
       " '◾': {'en': ':black_medium-small_square:',\n",
       "  'status': 2,\n",
       "  'E': 0.6,\n",
       "  'alias': [':black_medium_small_square:'],\n",
       "  'variant': True},\n",
       " '◼️': {'en': ':black_medium_square:', 'status': 2, 'E': 0.6, 'variant': True},\n",
       " '◼': {'en': ':black_medium_square:', 'status': 4, 'E': 0.6, 'variant': True},\n",
       " '✒️': {'en': ':black_nib:', 'status': 2, 'E': 0.6, 'variant': True},\n",
       " '✒': {'en': ':black_nib:', 'status': 4, 'E': 0.6, 'variant': True},\n",
       " '▪️': {'en': ':black_small_square:', 'status': 2, 'E': 0.6, 'variant': True},\n",
       " '▪': {'en': ':black_small_square:', 'status': 4, 'E': 0.6, 'variant': True},\n",
       " '🔲': {'en': ':black_square_button:', 'status': 2, 'E': 0.6},\n",
       " '🌼': {'en': ':blossom:', 'status': 2, 'E': 0.6},\n",
       " '🐡': {'en': ':blowfish:', 'status': 2, 'E': 0.6},\n",
       " '📘': {'en': ':blue_book:', 'status': 2, 'E': 0.6},\n",
       " '🔵': {'en': ':blue_circle:',\n",
       "  'status': 2,\n",
       "  'E': 0.6,\n",
       "  'alias': [':large_blue_circle:']},\n",
       " '💙': {'en': ':blue_heart:', 'status': 2, 'E': 0.6},\n",
       " '🟦': {'en': ':blue_square:', 'status': 2, 'E': 12},\n",
       " '🫐': {'en': ':blueberries:', 'status': 2, 'E': 13},\n",
       " '🐗': {'en': ':boar:', 'status': 2, 'E': 0.6},\n",
       " '💣': {'en': ':bomb:', 'status': 2, 'E': 0.6, 'variant': True},\n",
       " '🦴': {'en': ':bone:', 'status': 2, 'E': 11},\n",
       " '🔖': {'en': ':bookmark:', 'status': 2, 'E': 0.6},\n",
       " '📑': {'en': ':bookmark_tabs:', 'status': 2, 'E': 0.6},\n",
       " '📚': {'en': ':books:', 'status': 2, 'E': 0.6, 'variant': True},\n",
       " '🪃': {'en': ':boomerang:', 'status': 2, 'E': 13},\n",
       " '🍾': {'en': ':bottle_with_popping_cork:',\n",
       "  'status': 2,\n",
       "  'E': 1,\n",
       "  'alias': [':champagne:']},\n",
       " '💐': {'en': ':bouquet:', 'status': 2, 'E': 0.6},\n",
       " '🏹': {'en': ':bow_and_arrow:', 'status': 2, 'E': 1},\n",
       " '🥣': {'en': ':bowl_with_spoon:', 'status': 2, 'E': 5},\n",
       " '🎳': {'en': ':bowling:', 'status': 2, 'E': 0.6},\n",
       " '🥊': {'en': ':boxing_glove:', 'status': 2, 'E': 3},\n",
       " '👦': {'en': ':boy:', 'status': 2, 'E': 0.6},\n",
       " '👦🏿': {'en': ':boy_dark_skin_tone:', 'status': 2, 'E': 1},\n",
       " '👦🏻': {'en': ':boy_light_skin_tone:', 'status': 2, 'E': 1},\n",
       " '👦🏾': {'en': ':boy_medium-dark_skin_tone:', 'status': 2, 'E': 1},\n",
       " '👦🏼': {'en': ':boy_medium-light_skin_tone:', 'status': 2, 'E': 1},\n",
       " '👦🏽': {'en': ':boy_medium_skin_tone:', 'status': 2, 'E': 1},\n",
       " '🧠': {'en': ':brain:', 'status': 2, 'E': 5},\n",
       " '🍞': {'en': ':bread:', 'status': 2, 'E': 0.6},\n",
       " '🤱': {'en': ':breast-feeding:',\n",
       "  'status': 2,\n",
       "  'E': 5,\n",
       "  'alias': [':breast_feeding:']},\n",
       " '🤱🏿': {'en': ':breast-feeding_dark_skin_tone:', 'status': 2, 'E': 5},\n",
       " '🤱🏻': {'en': ':breast-feeding_light_skin_tone:', 'status': 2, 'E': 5},\n",
       " '🤱🏾': {'en': ':breast-feeding_medium-dark_skin_tone:', 'status': 2, 'E': 5},\n",
       " '🤱🏼': {'en': ':breast-feeding_medium-light_skin_tone:', 'status': 2, 'E': 5},\n",
       " '🤱🏽': {'en': ':breast-feeding_medium_skin_tone:', 'status': 2, 'E': 5},\n",
       " '🧱': {'en': ':brick:', 'status': 2, 'E': 11, 'alias': [':bricks:']},\n",
       " '🌉': {'en': ':bridge_at_night:', 'status': 2, 'E': 0.6},\n",
       " '💼': {'en': ':briefcase:', 'status': 2, 'E': 0.6},\n",
       " '🩲': {'en': ':briefs:', 'status': 2, 'E': 12, 'alias': [':swim_brief:']},\n",
       " '🔆': {'en': ':bright_button:',\n",
       "  'status': 2,\n",
       "  'E': 1,\n",
       "  'alias': [':high_brightness:']},\n",
       " '🥦': {'en': ':broccoli:', 'status': 2, 'E': 5},\n",
       " '⛓️\\u200d💥': {'en': ':broken_chain:', 'status': 2, 'E': 15.1},\n",
       " '⛓\\u200d💥': {'en': ':broken_chain:', 'status': 4, 'E': 15.1},\n",
       " '💔': {'en': ':broken_heart:', 'status': 2, 'E': 0.6},\n",
       " '🧹': {'en': ':broom:', 'status': 2, 'E': 11},\n",
       " '🟤': {'en': ':brown_circle:', 'status': 2, 'E': 12},\n",
       " '🤎': {'en': ':brown_heart:', 'status': 2, 'E': 12},\n",
       " '🍄\\u200d🟫': {'en': ':brown_mushroom:', 'status': 2, 'E': 15.1},\n",
       " '🟫': {'en': ':brown_square:', 'status': 2, 'E': 12},\n",
       " '🧋': {'en': ':bubble_tea:', 'status': 2, 'E': 13},\n",
       " '🫧': {'en': ':bubbles:', 'status': 2, 'E': 14},\n",
       " '🪣': {'en': ':bucket:', 'status': 2, 'E': 13},\n",
       " '🐛': {'en': ':bug:', 'status': 2, 'E': 0.6},\n",
       " '🏗️': {'en': ':building_construction:',\n",
       "  'status': 2,\n",
       "  'E': 0.7,\n",
       "  'variant': True},\n",
       " '🏗': {'en': ':building_construction:',\n",
       "  'status': 4,\n",
       "  'E': 0.7,\n",
       "  'variant': True},\n",
       " '🚅': {'en': ':bullet_train:',\n",
       "  'status': 2,\n",
       "  'E': 0.6,\n",
       "  'alias': [':bullettrain_front:']},\n",
       " '🎯': {'en': ':bullseye:', 'status': 2, 'E': 0.6, 'alias': [':dart:']},\n",
       " '🌯': {'en': ':burrito:', 'status': 2, 'E': 1},\n",
       " '🚌': {'en': ':bus:', 'status': 2, 'E': 0.6},\n",
       " '🚏': {'en': ':bus_stop:', 'status': 2, 'E': 0.6, 'alias': [':busstop:']},\n",
       " '👤': {'en': ':bust_in_silhouette:', 'status': 2, 'E': 0.6},\n",
       " '👥': {'en': ':busts_in_silhouette:', 'status': 2, 'E': 1},\n",
       " '🧈': {'en': ':butter:', 'status': 2, 'E': 12},\n",
       " '🦋': {'en': ':butterfly:', 'status': 2, 'E': 3},\n",
       " '🌵': {'en': ':cactus:', 'status': 2, 'E': 0.6},\n",
       " '📅': {'en': ':calendar:', 'status': 2, 'E': 0.6, 'alias': [':date:']},\n",
       " '🤙': {'en': ':call_me_hand:', 'status': 2, 'E': 3},\n",
       " '🤙🏿': {'en': ':call_me_hand_dark_skin_tone:', 'status': 2, 'E': 3},\n",
       " '🤙🏻': {'en': ':call_me_hand_light_skin_tone:', 'status': 2, 'E': 3},\n",
       " '🤙🏾': {'en': ':call_me_hand_medium-dark_skin_tone:', 'status': 2, 'E': 3},\n",
       " '🤙🏼': {'en': ':call_me_hand_medium-light_skin_tone:', 'status': 2, 'E': 3},\n",
       " '🤙🏽': {'en': ':call_me_hand_medium_skin_tone:', 'status': 2, 'E': 3},\n",
       " '🐪': {'en': ':camel:', 'status': 2, 'E': 1, 'alias': [':dromedary_camel:']},\n",
       " '📷': {'en': ':camera:', 'status': 2, 'E': 0.6, 'variant': True},\n",
       " '📸': {'en': ':camera_with_flash:',\n",
       "  'status': 2,\n",
       "  'E': 1,\n",
       "  'alias': [':camera_flash:']},\n",
       " '🏕️': {'en': ':camping:', 'status': 2, 'E': 0.7, 'variant': True},\n",
       " '🏕': {'en': ':camping:', 'status': 4, 'E': 0.7, 'variant': True},\n",
       " '🕯️': {'en': ':candle:', 'status': 2, 'E': 0.7, 'variant': True},\n",
       " '🕯': {'en': ':candle:', 'status': 4, 'E': 0.7, 'variant': True},\n",
       " '🍬': {'en': ':candy:', 'status': 2, 'E': 0.6},\n",
       " '🥫': {'en': ':canned_food:', 'status': 2, 'E': 5},\n",
       " '🛶': {'en': ':canoe:', 'status': 2, 'E': 3},\n",
       " '🗃️': {'en': ':card_file_box:', 'status': 2, 'E': 0.7, 'variant': True},\n",
       " '🗃': {'en': ':card_file_box:', 'status': 4, 'E': 0.7, 'variant': True},\n",
       " '📇': {'en': ':card_index:', 'status': 2, 'E': 0.6},\n",
       " '🗂️': {'en': ':card_index_dividers:', 'status': 2, 'E': 0.7, 'variant': True},\n",
       " '🗂': {'en': ':card_index_dividers:', 'status': 4, 'E': 0.7, 'variant': True},\n",
       " '🎠': {'en': ':carousel_horse:', 'status': 2, 'E': 0.6},\n",
       " '🎏': {'en': ':carp_streamer:', 'status': 2, 'E': 0.6, 'alias': [':flags:']},\n",
       " '🪚': {'en': ':carpentry_saw:', 'status': 2, 'E': 13},\n",
       " '🥕': {'en': ':carrot:', 'status': 2, 'E': 3},\n",
       " '🏰': {'en': ':castle:',\n",
       "  'status': 2,\n",
       "  'E': 0.6,\n",
       "  'alias': [':european_castle:']},\n",
       " '🐈': {'en': ':cat:',\n",
       "  'status': 2,\n",
       "  'E': 0.7,\n",
       "  'alias': [':cat2:'],\n",
       "  'variant': True},\n",
       " '🐱': {'en': ':cat_face:', 'status': 2, 'E': 0.6, 'alias': [':cat:']},\n",
       " '😹': {'en': ':cat_with_tears_of_joy:',\n",
       "  'status': 2,\n",
       "  'E': 0.6,\n",
       "  'alias': [':joy_cat:']},\n",
       " '😼': {'en': ':cat_with_wry_smile:',\n",
       "  'status': 2,\n",
       "  'E': 0.6,\n",
       "  'alias': [':smirk_cat:']},\n",
       " '⛓️': {'en': ':chains:', 'status': 2, 'E': 0.7, 'variant': True},\n",
       " '⛓': {'en': ':chains:', 'status': 4, 'E': 0.7, 'variant': True},\n",
       " '🪑': {'en': ':chair:', 'status': 2, 'E': 12},\n",
       " '📉': {'en': ':chart_decreasing:',\n",
       "  'status': 2,\n",
       "  'E': 0.6,\n",
       "  'alias': [':chart_with_downwards_trend:']},\n",
       " '📈': {'en': ':chart_increasing:',\n",
       "  'status': 2,\n",
       "  'E': 0.6,\n",
       "  'alias': [':chart_with_upwards_trend:']},\n",
       " '💹': {'en': ':chart_increasing_with_yen:',\n",
       "  'status': 2,\n",
       "  'E': 0.6,\n",
       "  'alias': [':chart:']},\n",
       " '☑️': {'en': ':check_box_with_check:',\n",
       "  'status': 2,\n",
       "  'E': 0.6,\n",
       "  'alias': [':ballot_box_with_check:'],\n",
       "  'variant': True},\n",
       " '☑': {'en': ':check_box_with_check:',\n",
       "  'status': 4,\n",
       "  'E': 0.6,\n",
       "  'alias': [':ballot_box_with_check:'],\n",
       "  'variant': True},\n",
       " '✔️': {'en': ':check_mark:',\n",
       "  'status': 2,\n",
       "  'E': 0.6,\n",
       "  'alias': [':heavy_check_mark:'],\n",
       "  'variant': True},\n",
       " '✔': {'en': ':check_mark:',\n",
       "  'status': 4,\n",
       "  'E': 0.6,\n",
       "  'alias': [':heavy_check_mark:'],\n",
       "  'variant': True},\n",
       " '✅': {'en': ':check_mark_button:',\n",
       "  'status': 2,\n",
       "  'E': 0.6,\n",
       "  'alias': [':white_check_mark:'],\n",
       "  'variant': True},\n",
       " '🧀': {'en': ':cheese_wedge:', 'status': 2, 'E': 1, 'alias': [':cheese:']},\n",
       " '🏁': {'en': ':chequered_flag:',\n",
       "  'status': 2,\n",
       "  'E': 0.6,\n",
       "  'alias': [':checkered_flag:']},\n",
       " '🍒': {'en': ':cherries:', 'status': 2, 'E': 0.6},\n",
       " '🌸': {'en': ':cherry_blossom:', 'status': 2, 'E': 0.6},\n",
       " '♟️': {'en': ':chess_pawn:', 'status': 2, 'E': 11, 'variant': True},\n",
       " '♟': {'en': ':chess_pawn:', 'status': 4, 'E': 11, 'variant': True},\n",
       " '🌰': {'en': ':chestnut:', 'status': 2, 'E': 0.6},\n",
       " '🐔': {'en': ':chicken:', 'status': 2, 'E': 0.6},\n",
       " '🧒': {'en': ':child:', 'status': 2, 'E': 5},\n",
       " '🧒🏿': {'en': ':child_dark_skin_tone:', 'status': 2, 'E': 5},\n",
       " '🧒🏻': {'en': ':child_light_skin_tone:', 'status': 2, 'E': 5},\n",
       " '🧒🏾': {'en': ':child_medium-dark_skin_tone:', 'status': 2, 'E': 5},\n",
       " '🧒🏼': {'en': ':child_medium-light_skin_tone:', 'status': 2, 'E': 5},\n",
       " '🧒🏽': {'en': ':child_medium_skin_tone:', 'status': 2, 'E': 5},\n",
       " '🚸': {'en': ':children_crossing:', 'status': 2, 'E': 1},\n",
       " '🐿️': {'en': ':chipmunk:', 'status': 2, 'E': 0.7, 'variant': True},\n",
       " '🐿': {'en': ':chipmunk:', 'status': 4, 'E': 0.7, 'variant': True},\n",
       " '🍫': {'en': ':chocolate_bar:', 'status': 2, 'E': 0.6},\n",
       " '🥢': {'en': ':chopsticks:', 'status': 2, 'E': 5},\n",
       " '⛪': {'en': ':church:', 'status': 2, 'E': 0.6, 'variant': True},\n",
       " '🚬': {'en': ':cigarette:', 'status': 2, 'E': 0.6, 'alias': [':smoking:']},\n",
       " '🎦': {'en': ':cinema:', 'status': 2, 'E': 0.6},\n",
       " 'Ⓜ️': {'en': ':circled_M:',\n",
       "  'status': 2,\n",
       "  'E': 0.6,\n",
       "  'alias': [':m:', ':circled_m:'],\n",
       "  'variant': True},\n",
       " 'Ⓜ': {'en': ':circled_M:',\n",
       "  'status': 4,\n",
       "  'E': 0.6,\n",
       "  'alias': [':m:', ':circled_m:'],\n",
       "  'variant': True},\n",
       " '🎪': {'en': ':circus_tent:', 'status': 2, 'E': 0.6},\n",
       " '🏙️': {'en': ':cityscape:', 'status': 2, 'E': 0.7, 'variant': True},\n",
       " '🏙': {'en': ':cityscape:', 'status': 4, 'E': 0.7, 'variant': True},\n",
       " '🌆': {'en': ':cityscape_at_dusk:',\n",
       "  'status': 2,\n",
       "  'E': 0.6,\n",
       "  'alias': [':city_sunset:']},\n",
       " '🗜️': {'en': ':clamp:',\n",
       "  'status': 2,\n",
       "  'E': 0.7,\n",
       "  'alias': [':compression:'],\n",
       "  'variant': True},\n",
       " '🗜': {'en': ':clamp:',\n",
       "  'status': 4,\n",
       "  'E': 0.7,\n",
       "  'alias': [':compression:'],\n",
       "  'variant': True},\n",
       " '🎬': {'en': ':clapper_board:',\n",
       "  'status': 2,\n",
       "  'E': 0.6,\n",
       "  'alias': [':clapper:'],\n",
       "  'variant': True},\n",
       " '👏': {'en': ':clapping_hands:', 'status': 2, 'E': 0.6, 'alias': [':clap:']},\n",
       " '👏🏿': {'en': ':clapping_hands_dark_skin_tone:', 'status': 2, 'E': 1},\n",
       " '👏🏻': {'en': ':clapping_hands_light_skin_tone:', 'status': 2, 'E': 1},\n",
       " '👏🏾': {'en': ':clapping_hands_medium-dark_skin_tone:', 'status': 2, 'E': 1},\n",
       " '👏🏼': {'en': ':clapping_hands_medium-light_skin_tone:', 'status': 2, 'E': 1},\n",
       " '👏🏽': {'en': ':clapping_hands_medium_skin_tone:', 'status': 2, 'E': 1},\n",
       " '🏛️': {'en': ':classical_building:', 'status': 2, 'E': 0.7, 'variant': True},\n",
       " '🏛': {'en': ':classical_building:', 'status': 4, 'E': 0.7, 'variant': True},\n",
       " '🍻': {'en': ':clinking_beer_mugs:',\n",
       "  'status': 2,\n",
       "  'E': 0.6,\n",
       "  'alias': [':beers:']},\n",
       " '🥂': {'en': ':clinking_glasses:', 'status': 2, 'E': 3},\n",
       " '📋': {'en': ':clipboard:', 'status': 2, 'E': 0.6, 'variant': True},\n",
       " '🔃': {'en': ':clockwise_vertical_arrows:',\n",
       "  'status': 2,\n",
       "  'E': 0.6,\n",
       "  'alias': [':arrows_clockwise:']},\n",
       " '📕': {'en': ':closed_book:', 'status': 2, 'E': 0.6},\n",
       " '📪': {'en': ':closed_mailbox_with_lowered_flag:',\n",
       "  'status': 2,\n",
       "  'E': 0.6,\n",
       "  'alias': [':mailbox_closed:'],\n",
       "  'variant': True},\n",
       " '📫': {'en': ':closed_mailbox_with_raised_flag:',\n",
       "  'status': 2,\n",
       "  'E': 0.6,\n",
       "  'alias': [':mailbox:'],\n",
       "  'variant': True},\n",
       " '🌂': {'en': ':closed_umbrella:', 'status': 2, 'E': 0.6},\n",
       " '☁️': {'en': ':cloud:', 'status': 2, 'E': 0.6, 'variant': True},\n",
       " '☁': {'en': ':cloud:', 'status': 4, 'E': 0.6, 'variant': True},\n",
       " '🌩️': {'en': ':cloud_with_lightning:',\n",
       "  'status': 2,\n",
       "  'E': 0.7,\n",
       "  'variant': True},\n",
       " '🌩': {'en': ':cloud_with_lightning:', 'status': 4, 'E': 0.7, 'variant': True},\n",
       " '⛈️': {'en': ':cloud_with_lightning_and_rain:',\n",
       "  'status': 2,\n",
       "  'E': 0.7,\n",
       "  'alias': [':thunder_cloud_and_rain:'],\n",
       "  'variant': True},\n",
       " '⛈': {'en': ':cloud_with_lightning_and_rain:',\n",
       "  'status': 4,\n",
       "  'E': 0.7,\n",
       "  'alias': [':thunder_cloud_and_rain:'],\n",
       "  'variant': True},\n",
       " '🌧️': {'en': ':cloud_with_rain:', 'status': 2, 'E': 0.7, 'variant': True},\n",
       " '🌧': {'en': ':cloud_with_rain:', 'status': 4, 'E': 0.7, 'variant': True},\n",
       " '🌨️': {'en': ':cloud_with_snow:', 'status': 2, 'E': 0.7, 'variant': True},\n",
       " '🌨': {'en': ':cloud_with_snow:', 'status': 4, 'E': 0.7, 'variant': True},\n",
       " '🤡': {'en': ':clown_face:', 'status': 2, 'E': 3},\n",
       " '♣️': {'en': ':club_suit:',\n",
       "  'status': 2,\n",
       "  'E': 0.6,\n",
       "  'alias': [':clubs:'],\n",
       "  'variant': True},\n",
       " '♣': {'en': ':club_suit:',\n",
       "  'status': 4,\n",
       "  'E': 0.6,\n",
       "  'alias': [':clubs:'],\n",
       "  'variant': True},\n",
       " '👝': {'en': ':clutch_bag:', 'status': 2, 'E': 0.6, 'alias': [':pouch:']},\n",
       " '🧥': {'en': ':coat:', 'status': 2, 'E': 5},\n",
       " '🪳': {'en': ':cockroach:', 'status': 2, 'E': 13},\n",
       " '🍸': {'en': ':cocktail_glass:',\n",
       "  'status': 2,\n",
       "  'E': 0.6,\n",
       "  'alias': [':cocktail:'],\n",
       "  'variant': True},\n",
       " '🥥': {'en': ':coconut:', 'status': 2, 'E': 5},\n",
       " '⚰️': {'en': ':coffin:', 'status': 2, 'E': 1, 'variant': True},\n",
       " '⚰': {'en': ':coffin:', 'status': 4, 'E': 1, 'variant': True},\n",
       " '🪙': {'en': ':coin:', 'status': 2, 'E': 13},\n",
       " '🥶': {'en': ':cold_face:', 'status': 2, 'E': 11},\n",
       " '💥': {'en': ':collision:', 'status': 2, 'E': 0.6, 'alias': [':boom:']},\n",
       " '☄️': {'en': ':comet:', 'status': 2, 'E': 1, 'variant': True},\n",
       " '☄': {'en': ':comet:', 'status': 4, 'E': 1, 'variant': True},\n",
       " '🧭': {'en': ':compass:', 'status': 2, 'E': 11},\n",
       " '💽': {'en': ':computer_disk:',\n",
       "  'status': 2,\n",
       "  'E': 0.6,\n",
       "  'alias': [':minidisc:']},\n",
       " '🖱️': {'en': ':computer_mouse:',\n",
       "  'status': 2,\n",
       "  'E': 0.7,\n",
       "  'alias': [':three_button_mouse:'],\n",
       "  'variant': True},\n",
       " '🖱': {'en': ':computer_mouse:',\n",
       "  'status': 4,\n",
       "  'E': 0.7,\n",
       "  'alias': [':three_button_mouse:'],\n",
       "  'variant': True},\n",
       " '🎊': {'en': ':confetti_ball:', 'status': 2, 'E': 0.6},\n",
       " '😖': {'en': ':confounded_face:',\n",
       "  'status': 2,\n",
       "  'E': 0.6,\n",
       "  'alias': [':confounded:']},\n",
       " '😕': {'en': ':confused_face:', 'status': 2, 'E': 1, 'alias': [':confused:']},\n",
       " '🚧': {'en': ':construction:', 'status': 2, 'E': 0.6},\n",
       " '👷': {'en': ':construction_worker:', 'status': 2, 'E': 0.6},\n",
       " '👷🏿': {'en': ':construction_worker_dark_skin_tone:', 'status': 2, 'E': 1},\n",
       " '👷🏻': {'en': ':construction_worker_light_skin_tone:', 'status': 2, 'E': 1},\n",
       " '👷🏾': {'en': ':construction_worker_medium-dark_skin_tone:',\n",
       "  'status': 2,\n",
       "  'E': 1},\n",
       " '👷🏼': {'en': ':construction_worker_medium-light_skin_tone:',\n",
       "  'status': 2,\n",
       "  'E': 1},\n",
       " '👷🏽': {'en': ':construction_worker_medium_skin_tone:', 'status': 2, 'E': 1},\n",
       " '🎛️': {'en': ':control_knobs:', 'status': 2, 'E': 0.7, 'variant': True},\n",
       " '🎛': {'en': ':control_knobs:', 'status': 4, 'E': 0.7, 'variant': True},\n",
       " '🏪': {'en': ':convenience_store:', 'status': 2, 'E': 0.6},\n",
       " '🧑\\u200d🍳': {'en': ':cook:', 'status': 2, 'E': 12.1},\n",
       " '🧑🏿\\u200d🍳': {'en': ':cook_dark_skin_tone:', 'status': 2, 'E': 12.1},\n",
       " '🧑🏻\\u200d🍳': {'en': ':cook_light_skin_tone:', 'status': 2, 'E': 12.1},\n",
       " '🧑🏾\\u200d🍳': {'en': ':cook_medium-dark_skin_tone:', 'status': 2, 'E': 12.1},\n",
       " '🧑🏼\\u200d🍳': {'en': ':cook_medium-light_skin_tone:', 'status': 2, 'E': 12.1},\n",
       " '🧑🏽\\u200d🍳': {'en': ':cook_medium_skin_tone:', 'status': 2, 'E': 12.1},\n",
       " '🍚': {'en': ':cooked_rice:', 'status': 2, 'E': 0.6, 'alias': [':rice:']},\n",
       " '🍪': {'en': ':cookie:', 'status': 2, 'E': 0.6},\n",
       " '🍳': {'en': ':cooking:',\n",
       "  'status': 2,\n",
       "  'E': 0.6,\n",
       "  'alias': [':egg:', ':fried_egg:']},\n",
       " '©️': {'en': ':copyright:', 'status': 2, 'E': 0.6, 'variant': True},\n",
       " '©': {'en': ':copyright:', 'status': 4, 'E': 0.6, 'variant': True},\n",
       " '🪸': {'en': ':coral:', 'status': 2, 'E': 14},\n",
       " '🛋️': {'en': ':couch_and_lamp:', 'status': 2, 'E': 0.7, 'variant': True},\n",
       " '🛋': {'en': ':couch_and_lamp:', 'status': 4, 'E': 0.7, 'variant': True},\n",
       " '🔄': {'en': ':counterclockwise_arrows_button:',\n",
       "  'status': 2,\n",
       "  'E': 1,\n",
       "  'alias': [':arrows_counterclockwise:']},\n",
       " '💑': {'en': ':couple_with_heart:', 'status': 2, 'E': 0.6},\n",
       " '💑🏿': {'en': ':couple_with_heart_dark_skin_tone:', 'status': 2, 'E': 13.1},\n",
       " '💑🏻': {'en': ':couple_with_heart_light_skin_tone:', 'status': 2, 'E': 13.1},\n",
       " '👨\\u200d❤️\\u200d👨': {'en': ':couple_with_heart_man_man:',\n",
       "  'status': 2,\n",
       "  'E': 2},\n",
       " '👨\\u200d❤\\u200d👨': {'en': ':couple_with_heart_man_man:', 'status': 3, 'E': 2},\n",
       " '👨🏿\\u200d❤️\\u200d👨🏿': {'en': ':couple_with_heart_man_man_dark_skin_tone:',\n",
       "  'status': 2,\n",
       "  'E': 13.1},\n",
       " '👨🏿\\u200d❤\\u200d👨🏿': {'en': ':couple_with_heart_man_man_dark_skin_tone:',\n",
       "  'status': 3,\n",
       "  'E': 13.1},\n",
       " '👨🏿\\u200d❤️\\u200d👨🏻': {'en': ':couple_with_heart_man_man_dark_skin_tone_light_skin_tone:',\n",
       "  'status': 2,\n",
       "  'E': 13.1},\n",
       " '👨🏿\\u200d❤\\u200d👨🏻': {'en': ':couple_with_heart_man_man_dark_skin_tone_light_skin_tone:',\n",
       "  'status': 3,\n",
       "  'E': 13.1},\n",
       " '👨🏿\\u200d❤️\\u200d👨🏾': {'en': ':couple_with_heart_man_man_dark_skin_tone_medium-dark_skin_tone:',\n",
       "  'status': 2,\n",
       "  'E': 13.1},\n",
       " '👨🏿\\u200d❤\\u200d👨🏾': {'en': ':couple_with_heart_man_man_dark_skin_tone_medium-dark_skin_tone:',\n",
       "  'status': 3,\n",
       "  'E': 13.1},\n",
       " '👨🏿\\u200d❤️\\u200d👨🏼': {'en': ':couple_with_heart_man_man_dark_skin_tone_medium-light_skin_tone:',\n",
       "  'status': 2,\n",
       "  'E': 13.1},\n",
       " '👨🏿\\u200d❤\\u200d👨🏼': {'en': ':couple_with_heart_man_man_dark_skin_tone_medium-light_skin_tone:',\n",
       "  'status': 3,\n",
       "  'E': 13.1},\n",
       " '👨🏿\\u200d❤️\\u200d👨🏽': {'en': ':couple_with_heart_man_man_dark_skin_tone_medium_skin_tone:',\n",
       "  'status': 2,\n",
       "  'E': 13.1},\n",
       " '👨🏿\\u200d❤\\u200d👨🏽': {'en': ':couple_with_heart_man_man_dark_skin_tone_medium_skin_tone:',\n",
       "  'status': 3,\n",
       "  'E': 13.1},\n",
       " '👨🏻\\u200d❤️\\u200d👨🏻': {'en': ':couple_with_heart_man_man_light_skin_tone:',\n",
       "  'status': 2,\n",
       "  'E': 13.1},\n",
       " '👨🏻\\u200d❤\\u200d👨🏻': {'en': ':couple_with_heart_man_man_light_skin_tone:',\n",
       "  'status': 3,\n",
       "  'E': 13.1},\n",
       " '👨🏻\\u200d❤️\\u200d👨🏿': {'en': ':couple_with_heart_man_man_light_skin_tone_dark_skin_tone:',\n",
       "  'status': 2,\n",
       "  'E': 13.1},\n",
       " '👨🏻\\u200d❤\\u200d👨🏿': {'en': ':couple_with_heart_man_man_light_skin_tone_dark_skin_tone:',\n",
       "  'status': 3,\n",
       "  'E': 13.1},\n",
       " '👨🏻\\u200d❤️\\u200d👨🏾': {'en': ':couple_with_heart_man_man_light_skin_tone_medium-dark_skin_tone:',\n",
       "  'status': 2,\n",
       "  'E': 13.1},\n",
       " '👨🏻\\u200d❤\\u200d👨🏾': {'en': ':couple_with_heart_man_man_light_skin_tone_medium-dark_skin_tone:',\n",
       "  'status': 3,\n",
       "  'E': 13.1},\n",
       " '👨🏻\\u200d❤️\\u200d👨🏼': {'en': ':couple_with_heart_man_man_light_skin_tone_medium-light_skin_tone:',\n",
       "  'status': 2,\n",
       "  'E': 13.1},\n",
       " '👨🏻\\u200d❤\\u200d👨🏼': {'en': ':couple_with_heart_man_man_light_skin_tone_medium-light_skin_tone:',\n",
       "  'status': 3,\n",
       "  'E': 13.1},\n",
       " '👨🏻\\u200d❤️\\u200d👨🏽': {'en': ':couple_with_heart_man_man_light_skin_tone_medium_skin_tone:',\n",
       "  'status': 2,\n",
       "  'E': 13.1},\n",
       " '👨🏻\\u200d❤\\u200d👨🏽': {'en': ':couple_with_heart_man_man_light_skin_tone_medium_skin_tone:',\n",
       "  'status': 3,\n",
       "  'E': 13.1},\n",
       " '👨🏾\\u200d❤️\\u200d👨🏾': {'en': ':couple_with_heart_man_man_medium-dark_skin_tone:',\n",
       "  'status': 2,\n",
       "  'E': 13.1},\n",
       " '👨🏾\\u200d❤\\u200d👨🏾': {'en': ':couple_with_heart_man_man_medium-dark_skin_tone:',\n",
       "  'status': 3,\n",
       "  'E': 13.1},\n",
       " '👨🏾\\u200d❤️\\u200d👨🏿': {'en': ':couple_with_heart_man_man_medium-dark_skin_tone_dark_skin_tone:',\n",
       "  'status': 2,\n",
       "  'E': 13.1},\n",
       " '👨🏾\\u200d❤\\u200d👨🏿': {'en': ':couple_with_heart_man_man_medium-dark_skin_tone_dark_skin_tone:',\n",
       "  'status': 3,\n",
       "  'E': 13.1},\n",
       " '👨🏾\\u200d❤️\\u200d👨🏻': {'en': ':couple_with_heart_man_man_medium-dark_skin_tone_light_skin_tone:',\n",
       "  'status': 2,\n",
       "  'E': 13.1},\n",
       " '👨🏾\\u200d❤\\u200d👨🏻': {'en': ':couple_with_heart_man_man_medium-dark_skin_tone_light_skin_tone:',\n",
       "  'status': 3,\n",
       "  'E': 13.1},\n",
       " '👨🏾\\u200d❤️\\u200d👨🏼': {'en': ':couple_with_heart_man_man_medium-dark_skin_tone_medium-light_skin_tone:',\n",
       "  'status': 2,\n",
       "  'E': 13.1},\n",
       " '👨🏾\\u200d❤\\u200d👨🏼': {'en': ':couple_with_heart_man_man_medium-dark_skin_tone_medium-light_skin_tone:',\n",
       "  'status': 3,\n",
       "  'E': 13.1},\n",
       " '👨🏾\\u200d❤️\\u200d👨🏽': {'en': ':couple_with_heart_man_man_medium-dark_skin_tone_medium_skin_tone:',\n",
       "  'status': 2,\n",
       "  'E': 13.1},\n",
       " '👨🏾\\u200d❤\\u200d👨🏽': {'en': ':couple_with_heart_man_man_medium-dark_skin_tone_medium_skin_tone:',\n",
       "  'status': 3,\n",
       "  'E': 13.1},\n",
       " '👨🏼\\u200d❤️\\u200d👨🏼': {'en': ':couple_with_heart_man_man_medium-light_skin_tone:',\n",
       "  'status': 2,\n",
       "  'E': 13.1},\n",
       " '👨🏼\\u200d❤\\u200d👨🏼': {'en': ':couple_with_heart_man_man_medium-light_skin_tone:',\n",
       "  'status': 3,\n",
       "  'E': 13.1},\n",
       " '👨🏼\\u200d❤️\\u200d👨🏿': {'en': ':couple_with_heart_man_man_medium-light_skin_tone_dark_skin_tone:',\n",
       "  'status': 2,\n",
       "  'E': 13.1},\n",
       " '👨🏼\\u200d❤\\u200d👨🏿': {'en': ':couple_with_heart_man_man_medium-light_skin_tone_dark_skin_tone:',\n",
       "  'status': 3,\n",
       "  'E': 13.1},\n",
       " '👨🏼\\u200d❤️\\u200d👨🏻': {'en': ':couple_with_heart_man_man_medium-light_skin_tone_light_skin_tone:',\n",
       "  'status': 2,\n",
       "  'E': 13.1},\n",
       " '👨🏼\\u200d❤\\u200d👨🏻': {'en': ':couple_with_heart_man_man_medium-light_skin_tone_light_skin_tone:',\n",
       "  'status': 3,\n",
       "  'E': 13.1},\n",
       " '👨🏼\\u200d❤️\\u200d👨🏾': {'en': ':couple_with_heart_man_man_medium-light_skin_tone_medium-dark_skin_tone:',\n",
       "  'status': 2,\n",
       "  'E': 13.1},\n",
       " '👨🏼\\u200d❤\\u200d👨🏾': {'en': ':couple_with_heart_man_man_medium-light_skin_tone_medium-dark_skin_tone:',\n",
       "  'status': 3,\n",
       "  'E': 13.1},\n",
       " '👨🏼\\u200d❤️\\u200d👨🏽': {'en': ':couple_with_heart_man_man_medium-light_skin_tone_medium_skin_tone:',\n",
       "  'status': 2,\n",
       "  'E': 13.1},\n",
       " '👨🏼\\u200d❤\\u200d👨🏽': {'en': ':couple_with_heart_man_man_medium-light_skin_tone_medium_skin_tone:',\n",
       "  'status': 3,\n",
       "  'E': 13.1},\n",
       " '👨🏽\\u200d❤️\\u200d👨🏽': {'en': ':couple_with_heart_man_man_medium_skin_tone:',\n",
       "  'status': 2,\n",
       "  'E': 13.1},\n",
       " '👨🏽\\u200d❤\\u200d👨🏽': {'en': ':couple_with_heart_man_man_medium_skin_tone:',\n",
       "  'status': 3,\n",
       "  'E': 13.1},\n",
       " '👨🏽\\u200d❤️\\u200d👨🏿': {'en': ':couple_with_heart_man_man_medium_skin_tone_dark_skin_tone:',\n",
       "  'status': 2,\n",
       "  'E': 13.1},\n",
       " '👨🏽\\u200d❤\\u200d👨🏿': {'en': ':couple_with_heart_man_man_medium_skin_tone_dark_skin_tone:',\n",
       "  'status': 3,\n",
       "  'E': 13.1},\n",
       " '👨🏽\\u200d❤️\\u200d👨🏻': {'en': ':couple_with_heart_man_man_medium_skin_tone_light_skin_tone:',\n",
       "  'status': 2,\n",
       "  'E': 13.1},\n",
       " '👨🏽\\u200d❤\\u200d👨🏻': {'en': ':couple_with_heart_man_man_medium_skin_tone_light_skin_tone:',\n",
       "  'status': 3,\n",
       "  'E': 13.1},\n",
       " '👨🏽\\u200d❤️\\u200d👨🏾': {'en': ':couple_with_heart_man_man_medium_skin_tone_medium-dark_skin_tone:',\n",
       "  'status': 2,\n",
       "  'E': 13.1},\n",
       " '👨🏽\\u200d❤\\u200d👨🏾': {'en': ':couple_with_heart_man_man_medium_skin_tone_medium-dark_skin_tone:',\n",
       "  'status': 3,\n",
       "  'E': 13.1},\n",
       " '👨🏽\\u200d❤️\\u200d👨🏼': {'en': ':couple_with_heart_man_man_medium_skin_tone_medium-light_skin_tone:',\n",
       "  'status': 2,\n",
       "  'E': 13.1},\n",
       " '👨🏽\\u200d❤\\u200d👨🏼': {'en': ':couple_with_heart_man_man_medium_skin_tone_medium-light_skin_tone:',\n",
       "  'status': 3,\n",
       "  'E': 13.1},\n",
       " '💑🏾': {'en': ':couple_with_heart_medium-dark_skin_tone:',\n",
       "  'status': 2,\n",
       "  'E': 13.1},\n",
       " '💑🏼': {'en': ':couple_with_heart_medium-light_skin_tone:',\n",
       "  'status': 2,\n",
       "  'E': 13.1},\n",
       " '💑🏽': {'en': ':couple_with_heart_medium_skin_tone:', 'status': 2, 'E': 13.1},\n",
       " '🧑🏿\\u200d❤️\\u200d🧑🏻': {'en': ':couple_with_heart_person_person_dark_skin_tone_light_skin_tone:',\n",
       "  'status': 2,\n",
       "  'E': 13.1},\n",
       " '🧑🏿\\u200d❤\\u200d🧑🏻': {'en': ':couple_with_heart_person_person_dark_skin_tone_light_skin_tone:',\n",
       "  'status': 3,\n",
       "  'E': 13.1},\n",
       " '🧑🏿\\u200d❤️\\u200d🧑🏾': {'en': ':couple_with_heart_person_person_dark_skin_tone_medium-dark_skin_tone:',\n",
       "  'status': 2,\n",
       "  'E': 13.1},\n",
       " '🧑🏿\\u200d❤\\u200d🧑🏾': {'en': ':couple_with_heart_person_person_dark_skin_tone_medium-dark_skin_tone:',\n",
       "  'status': 3,\n",
       "  'E': 13.1},\n",
       " '🧑🏿\\u200d❤️\\u200d🧑🏼': {'en': ':couple_with_heart_person_person_dark_skin_tone_medium-light_skin_tone:',\n",
       "  'status': 2,\n",
       "  'E': 13.1},\n",
       " '🧑🏿\\u200d❤\\u200d🧑🏼': {'en': ':couple_with_heart_person_person_dark_skin_tone_medium-light_skin_tone:',\n",
       "  'status': 3,\n",
       "  'E': 13.1},\n",
       " '🧑🏿\\u200d❤️\\u200d🧑🏽': {'en': ':couple_with_heart_person_person_dark_skin_tone_medium_skin_tone:',\n",
       "  'status': 2,\n",
       "  'E': 13.1},\n",
       " '🧑🏿\\u200d❤\\u200d🧑🏽': {'en': ':couple_with_heart_person_person_dark_skin_tone_medium_skin_tone:',\n",
       "  'status': 3,\n",
       "  'E': 13.1},\n",
       " '🧑🏻\\u200d❤️\\u200d🧑🏿': {'en': ':couple_with_heart_person_person_light_skin_tone_dark_skin_tone:',\n",
       "  'status': 2,\n",
       "  'E': 13.1},\n",
       " '🧑🏻\\u200d❤\\u200d🧑🏿': {'en': ':couple_with_heart_person_person_light_skin_tone_dark_skin_tone:',\n",
       "  'status': 3,\n",
       "  'E': 13.1},\n",
       " '🧑🏻\\u200d❤️\\u200d🧑🏾': {'en': ':couple_with_heart_person_person_light_skin_tone_medium-dark_skin_tone:',\n",
       "  'status': 2,\n",
       "  'E': 13.1},\n",
       " '🧑🏻\\u200d❤\\u200d🧑🏾': {'en': ':couple_with_heart_person_person_light_skin_tone_medium-dark_skin_tone:',\n",
       "  'status': 3,\n",
       "  'E': 13.1},\n",
       " '🧑🏻\\u200d❤️\\u200d🧑🏼': {'en': ':couple_with_heart_person_person_light_skin_tone_medium-light_skin_tone:',\n",
       "  'status': 2,\n",
       "  'E': 13.1},\n",
       " '🧑🏻\\u200d❤\\u200d🧑🏼': {'en': ':couple_with_heart_person_person_light_skin_tone_medium-light_skin_tone:',\n",
       "  'status': 3,\n",
       "  'E': 13.1},\n",
       " '🧑🏻\\u200d❤️\\u200d🧑🏽': {'en': ':couple_with_heart_person_person_light_skin_tone_medium_skin_tone:',\n",
       "  'status': 2,\n",
       "  'E': 13.1},\n",
       " '🧑🏻\\u200d❤\\u200d🧑🏽': {'en': ':couple_with_heart_person_person_light_skin_tone_medium_skin_tone:',\n",
       "  'status': 3,\n",
       "  'E': 13.1},\n",
       " '🧑🏾\\u200d❤️\\u200d🧑🏿': {'en': ':couple_with_heart_person_person_medium-dark_skin_tone_dark_skin_tone:',\n",
       "  'status': 2,\n",
       "  'E': 13.1},\n",
       " '🧑🏾\\u200d❤\\u200d🧑🏿': {'en': ':couple_with_heart_person_person_medium-dark_skin_tone_dark_skin_tone:',\n",
       "  'status': 3,\n",
       "  'E': 13.1},\n",
       " '🧑🏾\\u200d❤️\\u200d🧑🏻': {'en': ':couple_with_heart_person_person_medium-dark_skin_tone_light_skin_tone:',\n",
       "  'status': 2,\n",
       "  'E': 13.1},\n",
       " '🧑🏾\\u200d❤\\u200d🧑🏻': {'en': ':couple_with_heart_person_person_medium-dark_skin_tone_light_skin_tone:',\n",
       "  'status': 3,\n",
       "  'E': 13.1},\n",
       " '🧑🏾\\u200d❤️\\u200d🧑🏼': {'en': ':couple_with_heart_person_person_medium-dark_skin_tone_medium-light_skin_tone:',\n",
       "  'status': 2,\n",
       "  'E': 13.1},\n",
       " '🧑🏾\\u200d❤\\u200d🧑🏼': {'en': ':couple_with_heart_person_person_medium-dark_skin_tone_medium-light_skin_tone:',\n",
       "  'status': 3,\n",
       "  'E': 13.1},\n",
       " '🧑🏾\\u200d❤️\\u200d🧑🏽': {'en': ':couple_with_heart_person_person_medium-dark_skin_tone_medium_skin_tone:',\n",
       "  'status': 2,\n",
       "  'E': 13.1},\n",
       " '🧑🏾\\u200d❤\\u200d🧑🏽': {'en': ':couple_with_heart_person_person_medium-dark_skin_tone_medium_skin_tone:',\n",
       "  'status': 3,\n",
       "  'E': 13.1},\n",
       " '🧑🏼\\u200d❤️\\u200d🧑🏿': {'en': ':couple_with_heart_person_person_medium-light_skin_tone_dark_skin_tone:',\n",
       "  'status': 2,\n",
       "  'E': 13.1},\n",
       " '🧑🏼\\u200d❤\\u200d🧑🏿': {'en': ':couple_with_heart_person_person_medium-light_skin_tone_dark_skin_tone:',\n",
       "  'status': 3,\n",
       "  'E': 13.1},\n",
       " '🧑🏼\\u200d❤️\\u200d🧑🏻': {'en': ':couple_with_heart_person_person_medium-light_skin_tone_light_skin_tone:',\n",
       "  'status': 2,\n",
       "  'E': 13.1},\n",
       " '🧑🏼\\u200d❤\\u200d🧑🏻': {'en': ':couple_with_heart_person_person_medium-light_skin_tone_light_skin_tone:',\n",
       "  'status': 3,\n",
       "  'E': 13.1},\n",
       " '🧑🏼\\u200d❤️\\u200d🧑🏾': {'en': ':couple_with_heart_person_person_medium-light_skin_tone_medium-dark_skin_tone:',\n",
       "  'status': 2,\n",
       "  'E': 13.1},\n",
       " '🧑🏼\\u200d❤\\u200d🧑🏾': {'en': ':couple_with_heart_person_person_medium-light_skin_tone_medium-dark_skin_tone:',\n",
       "  'status': 3,\n",
       "  'E': 13.1},\n",
       " '🧑🏼\\u200d❤️\\u200d🧑🏽': {'en': ':couple_with_heart_person_person_medium-light_skin_tone_medium_skin_tone:',\n",
       "  'status': 2,\n",
       "  'E': 13.1},\n",
       " '🧑🏼\\u200d❤\\u200d🧑🏽': {'en': ':couple_with_heart_person_person_medium-light_skin_tone_medium_skin_tone:',\n",
       "  'status': 3,\n",
       "  'E': 13.1},\n",
       " '🧑🏽\\u200d❤️\\u200d🧑🏿': {'en': ':couple_with_heart_person_person_medium_skin_tone_dark_skin_tone:',\n",
       "  'status': 2,\n",
       "  'E': 13.1},\n",
       " '🧑🏽\\u200d❤\\u200d🧑🏿': {'en': ':couple_with_heart_person_person_medium_skin_tone_dark_skin_tone:',\n",
       "  'status': 3,\n",
       "  'E': 13.1},\n",
       " '🧑🏽\\u200d❤️\\u200d🧑🏻': {'en': ':couple_with_heart_person_person_medium_skin_tone_light_skin_tone:',\n",
       "  'status': 2,\n",
       "  'E': 13.1},\n",
       " '🧑🏽\\u200d❤\\u200d🧑🏻': {'en': ':couple_with_heart_person_person_medium_skin_tone_light_skin_tone:',\n",
       "  'status': 3,\n",
       "  'E': 13.1},\n",
       " '🧑🏽\\u200d❤️\\u200d🧑🏾': {'en': ':couple_with_heart_person_person_medium_skin_tone_medium-dark_skin_tone:',\n",
       "  'status': 2,\n",
       "  'E': 13.1},\n",
       " '🧑🏽\\u200d❤\\u200d🧑🏾': {'en': ':couple_with_heart_person_person_medium_skin_tone_medium-dark_skin_tone:',\n",
       "  'status': 3,\n",
       "  'E': 13.1},\n",
       " '🧑🏽\\u200d❤️\\u200d🧑🏼': {'en': ':couple_with_heart_person_person_medium_skin_tone_medium-light_skin_tone:',\n",
       "  'status': 2,\n",
       "  'E': 13.1},\n",
       " '🧑🏽\\u200d❤\\u200d🧑🏼': {'en': ':couple_with_heart_person_person_medium_skin_tone_medium-light_skin_tone:',\n",
       "  'status': 3,\n",
       "  'E': 13.1},\n",
       " '👩\\u200d❤️\\u200d👨': {'en': ':couple_with_heart_woman_man:',\n",
       "  'status': 2,\n",
       "  'E': 2},\n",
       " '👩\\u200d❤\\u200d👨': {'en': ':couple_with_heart_woman_man:',\n",
       "  'status': 3,\n",
       "  'E': 2},\n",
       " '👩🏿\\u200d❤️\\u200d👨🏿': {'en': ':couple_with_heart_woman_man_dark_skin_tone:',\n",
       "  'status': 2,\n",
       "  'E': 13.1},\n",
       " '👩🏿\\u200d❤\\u200d👨🏿': {'en': ':couple_with_heart_woman_man_dark_skin_tone:',\n",
       "  'status': 3,\n",
       "  'E': 13.1},\n",
       " '👩🏿\\u200d❤️\\u200d👨🏻': {'en': ':couple_with_heart_woman_man_dark_skin_tone_light_skin_tone:',\n",
       "  'status': 2,\n",
       "  'E': 13.1},\n",
       " '👩🏿\\u200d❤\\u200d👨🏻': {'en': ':couple_with_heart_woman_man_dark_skin_tone_light_skin_tone:',\n",
       "  'status': 3,\n",
       "  'E': 13.1},\n",
       " '👩🏿\\u200d❤️\\u200d👨🏾': {'en': ':couple_with_heart_woman_man_dark_skin_tone_medium-dark_skin_tone:',\n",
       "  'status': 2,\n",
       "  'E': 13.1},\n",
       " '👩🏿\\u200d❤\\u200d👨🏾': {'en': ':couple_with_heart_woman_man_dark_skin_tone_medium-dark_skin_tone:',\n",
       "  'status': 3,\n",
       "  'E': 13.1},\n",
       " '👩🏿\\u200d❤️\\u200d👨🏼': {'en': ':couple_with_heart_woman_man_dark_skin_tone_medium-light_skin_tone:',\n",
       "  'status': 2,\n",
       "  'E': 13.1},\n",
       " '👩🏿\\u200d❤\\u200d👨🏼': {'en': ':couple_with_heart_woman_man_dark_skin_tone_medium-light_skin_tone:',\n",
       "  'status': 3,\n",
       "  'E': 13.1},\n",
       " '👩🏿\\u200d❤️\\u200d👨🏽': {'en': ':couple_with_heart_woman_man_dark_skin_tone_medium_skin_tone:',\n",
       "  'status': 2,\n",
       "  'E': 13.1},\n",
       " '👩🏿\\u200d❤\\u200d👨🏽': {'en': ':couple_with_heart_woman_man_dark_skin_tone_medium_skin_tone:',\n",
       "  'status': 3,\n",
       "  'E': 13.1},\n",
       " '👩🏻\\u200d❤️\\u200d👨🏻': {'en': ':couple_with_heart_woman_man_light_skin_tone:',\n",
       "  'status': 2,\n",
       "  'E': 13.1},\n",
       " '👩🏻\\u200d❤\\u200d👨🏻': {'en': ':couple_with_heart_woman_man_light_skin_tone:',\n",
       "  'status': 3,\n",
       "  'E': 13.1},\n",
       " '👩🏻\\u200d❤️\\u200d👨🏿': {'en': ':couple_with_heart_woman_man_light_skin_tone_dark_skin_tone:',\n",
       "  'status': 2,\n",
       "  'E': 13.1},\n",
       " '👩🏻\\u200d❤\\u200d👨🏿': {'en': ':couple_with_heart_woman_man_light_skin_tone_dark_skin_tone:',\n",
       "  'status': 3,\n",
       "  'E': 13.1},\n",
       " '👩🏻\\u200d❤️\\u200d👨🏾': {'en': ':couple_with_heart_woman_man_light_skin_tone_medium-dark_skin_tone:',\n",
       "  'status': 2,\n",
       "  'E': 13.1},\n",
       " '👩🏻\\u200d❤\\u200d👨🏾': {'en': ':couple_with_heart_woman_man_light_skin_tone_medium-dark_skin_tone:',\n",
       "  'status': 3,\n",
       "  'E': 13.1},\n",
       " '👩🏻\\u200d❤️\\u200d👨🏼': {'en': ':couple_with_heart_woman_man_light_skin_tone_medium-light_skin_tone:',\n",
       "  'status': 2,\n",
       "  'E': 13.1},\n",
       " '👩🏻\\u200d❤\\u200d👨🏼': {'en': ':couple_with_heart_woman_man_light_skin_tone_medium-light_skin_tone:',\n",
       "  'status': 3,\n",
       "  'E': 13.1},\n",
       " '👩🏻\\u200d❤️\\u200d👨🏽': {'en': ':couple_with_heart_woman_man_light_skin_tone_medium_skin_tone:',\n",
       "  'status': 2,\n",
       "  'E': 13.1},\n",
       " '👩🏻\\u200d❤\\u200d👨🏽': {'en': ':couple_with_heart_woman_man_light_skin_tone_medium_skin_tone:',\n",
       "  'status': 3,\n",
       "  'E': 13.1},\n",
       " '👩🏾\\u200d❤️\\u200d👨🏾': {'en': ':couple_with_heart_woman_man_medium-dark_skin_tone:',\n",
       "  'status': 2,\n",
       "  'E': 13.1},\n",
       " '👩🏾\\u200d❤\\u200d👨🏾': {'en': ':couple_with_heart_woman_man_medium-dark_skin_tone:',\n",
       "  'status': 3,\n",
       "  'E': 13.1},\n",
       " '👩🏾\\u200d❤️\\u200d👨🏿': {'en': ':couple_with_heart_woman_man_medium-dark_skin_tone_dark_skin_tone:',\n",
       "  'status': 2,\n",
       "  'E': 13.1},\n",
       " '👩🏾\\u200d❤\\u200d👨🏿': {'en': ':couple_with_heart_woman_man_medium-dark_skin_tone_dark_skin_tone:',\n",
       "  'status': 3,\n",
       "  'E': 13.1},\n",
       " '👩🏾\\u200d❤️\\u200d👨🏻': {'en': ':couple_with_heart_woman_man_medium-dark_skin_tone_light_skin_tone:',\n",
       "  'status': 2,\n",
       "  'E': 13.1},\n",
       " '👩🏾\\u200d❤\\u200d👨🏻': {'en': ':couple_with_heart_woman_man_medium-dark_skin_tone_light_skin_tone:',\n",
       "  'status': 3,\n",
       "  'E': 13.1},\n",
       " '👩🏾\\u200d❤️\\u200d👨🏼': {'en': ':couple_with_heart_woman_man_medium-dark_skin_tone_medium-light_skin_tone:',\n",
       "  'status': 2,\n",
       "  'E': 13.1},\n",
       " '👩🏾\\u200d❤\\u200d👨🏼': {'en': ':couple_with_heart_woman_man_medium-dark_skin_tone_medium-light_skin_tone:',\n",
       "  'status': 3,\n",
       "  'E': 13.1},\n",
       " '👩🏾\\u200d❤️\\u200d👨🏽': {'en': ':couple_with_heart_woman_man_medium-dark_skin_tone_medium_skin_tone:',\n",
       "  'status': 2,\n",
       "  'E': 13.1},\n",
       " '👩🏾\\u200d❤\\u200d👨🏽': {'en': ':couple_with_heart_woman_man_medium-dark_skin_tone_medium_skin_tone:',\n",
       "  'status': 3,\n",
       "  'E': 13.1},\n",
       " '👩🏼\\u200d❤️\\u200d👨🏼': {'en': ':couple_with_heart_woman_man_medium-light_skin_tone:',\n",
       "  'status': 2,\n",
       "  'E': 13.1},\n",
       " '👩🏼\\u200d❤\\u200d👨🏼': {'en': ':couple_with_heart_woman_man_medium-light_skin_tone:',\n",
       "  'status': 3,\n",
       "  'E': 13.1},\n",
       " '👩🏼\\u200d❤️\\u200d👨🏿': {'en': ':couple_with_heart_woman_man_medium-light_skin_tone_dark_skin_tone:',\n",
       "  'status': 2,\n",
       "  'E': 13.1},\n",
       " '👩🏼\\u200d❤\\u200d👨🏿': {'en': ':couple_with_heart_woman_man_medium-light_skin_tone_dark_skin_tone:',\n",
       "  'status': 3,\n",
       "  'E': 13.1},\n",
       " '👩🏼\\u200d❤️\\u200d👨🏻': {'en': ':couple_with_heart_woman_man_medium-light_skin_tone_light_skin_tone:',\n",
       "  'status': 2,\n",
       "  'E': 13.1},\n",
       " '👩🏼\\u200d❤\\u200d👨🏻': {'en': ':couple_with_heart_woman_man_medium-light_skin_tone_light_skin_tone:',\n",
       "  'status': 3,\n",
       "  'E': 13.1},\n",
       " '👩🏼\\u200d❤️\\u200d👨🏾': {'en': ':couple_with_heart_woman_man_medium-light_skin_tone_medium-dark_skin_tone:',\n",
       "  'status': 2,\n",
       "  'E': 13.1},\n",
       " '👩🏼\\u200d❤\\u200d👨🏾': {'en': ':couple_with_heart_woman_man_medium-light_skin_tone_medium-dark_skin_tone:',\n",
       "  'status': 3,\n",
       "  'E': 13.1},\n",
       " '👩🏼\\u200d❤️\\u200d👨🏽': {'en': ':couple_with_heart_woman_man_medium-light_skin_tone_medium_skin_tone:',\n",
       "  'status': 2,\n",
       "  'E': 13.1},\n",
       " '👩🏼\\u200d❤\\u200d👨🏽': {'en': ':couple_with_heart_woman_man_medium-light_skin_tone_medium_skin_tone:',\n",
       "  'status': 3,\n",
       "  'E': 13.1},\n",
       " '👩🏽\\u200d❤️\\u200d👨🏽': {'en': ':couple_with_heart_woman_man_medium_skin_tone:',\n",
       "  'status': 2,\n",
       "  'E': 13.1},\n",
       " '👩🏽\\u200d❤\\u200d👨🏽': {'en': ':couple_with_heart_woman_man_medium_skin_tone:',\n",
       "  'status': 3,\n",
       "  'E': 13.1},\n",
       " '👩🏽\\u200d❤️\\u200d👨🏿': {'en': ':couple_with_heart_woman_man_medium_skin_tone_dark_skin_tone:',\n",
       "  'status': 2,\n",
       "  'E': 13.1},\n",
       " '👩🏽\\u200d❤\\u200d👨🏿': {'en': ':couple_with_heart_woman_man_medium_skin_tone_dark_skin_tone:',\n",
       "  'status': 3,\n",
       "  'E': 13.1},\n",
       " '👩🏽\\u200d❤️\\u200d👨🏻': {'en': ':couple_with_heart_woman_man_medium_skin_tone_light_skin_tone:',\n",
       "  'status': 2,\n",
       "  'E': 13.1},\n",
       " '👩🏽\\u200d❤\\u200d👨🏻': {'en': ':couple_with_heart_woman_man_medium_skin_tone_light_skin_tone:',\n",
       "  'status': 3,\n",
       "  'E': 13.1},\n",
       " '👩🏽\\u200d❤️\\u200d👨🏾': {'en': ':couple_with_heart_woman_man_medium_skin_tone_medium-dark_skin_tone:',\n",
       "  'status': 2,\n",
       "  'E': 13.1},\n",
       " '👩🏽\\u200d❤\\u200d👨🏾': {'en': ':couple_with_heart_woman_man_medium_skin_tone_medium-dark_skin_tone:',\n",
       "  'status': 3,\n",
       "  'E': 13.1},\n",
       " '👩🏽\\u200d❤️\\u200d👨🏼': {'en': ':couple_with_heart_woman_man_medium_skin_tone_medium-light_skin_tone:',\n",
       "  'status': 2,\n",
       "  'E': 13.1},\n",
       " '👩🏽\\u200d❤\\u200d👨🏼': {'en': ':couple_with_heart_woman_man_medium_skin_tone_medium-light_skin_tone:',\n",
       "  'status': 3,\n",
       "  'E': 13.1},\n",
       " '👩\\u200d❤️\\u200d👩': {'en': ':couple_with_heart_woman_woman:',\n",
       "  'status': 2,\n",
       "  'E': 2},\n",
       " '👩\\u200d❤\\u200d👩': {'en': ':couple_with_heart_woman_woman:',\n",
       "  'status': 3,\n",
       "  'E': 2},\n",
       " '👩🏿\\u200d❤️\\u200d👩🏿': {'en': ':couple_with_heart_woman_woman_dark_skin_tone:',\n",
       "  'status': 2,\n",
       "  'E': 13.1},\n",
       " '👩🏿\\u200d❤\\u200d👩🏿': {'en': ':couple_with_heart_woman_woman_dark_skin_tone:',\n",
       "  'status': 3,\n",
       "  'E': 13.1},\n",
       " '👩🏿\\u200d❤️\\u200d👩🏻': {'en': ':couple_with_heart_woman_woman_dark_skin_tone_light_skin_tone:',\n",
       "  'status': 2,\n",
       "  'E': 13.1},\n",
       " '👩🏿\\u200d❤\\u200d👩🏻': {'en': ':couple_with_heart_woman_woman_dark_skin_tone_light_skin_tone:',\n",
       "  'status': 3,\n",
       "  'E': 13.1},\n",
       " '👩🏿\\u200d❤️\\u200d👩🏾': {'en': ':couple_with_heart_woman_woman_dark_skin_tone_medium-dark_skin_tone:',\n",
       "  'status': 2,\n",
       "  'E': 13.1},\n",
       " '👩🏿\\u200d❤\\u200d👩🏾': {'en': ':couple_with_heart_woman_woman_dark_skin_tone_medium-dark_skin_tone:',\n",
       "  'status': 3,\n",
       "  'E': 13.1},\n",
       " '👩🏿\\u200d❤️\\u200d👩🏼': {'en': ':couple_with_heart_woman_woman_dark_skin_tone_medium-light_skin_tone:',\n",
       "  'status': 2,\n",
       "  'E': 13.1},\n",
       " '👩🏿\\u200d❤\\u200d👩🏼': {'en': ':couple_with_heart_woman_woman_dark_skin_tone_medium-light_skin_tone:',\n",
       "  'status': 3,\n",
       "  'E': 13.1},\n",
       " '👩🏿\\u200d❤️\\u200d👩🏽': {'en': ':couple_with_heart_woman_woman_dark_skin_tone_medium_skin_tone:',\n",
       "  'status': 2,\n",
       "  'E': 13.1},\n",
       " '👩🏿\\u200d❤\\u200d👩🏽': {'en': ':couple_with_heart_woman_woman_dark_skin_tone_medium_skin_tone:',\n",
       "  'status': 3,\n",
       "  'E': 13.1},\n",
       " '👩🏻\\u200d❤️\\u200d👩🏻': {'en': ':couple_with_heart_woman_woman_light_skin_tone:',\n",
       "  'status': 2,\n",
       "  'E': 13.1},\n",
       " '👩🏻\\u200d❤\\u200d👩🏻': {'en': ':couple_with_heart_woman_woman_light_skin_tone:',\n",
       "  'status': 3,\n",
       "  'E': 13.1},\n",
       " '👩🏻\\u200d❤️\\u200d👩🏿': {'en': ':couple_with_heart_woman_woman_light_skin_tone_dark_skin_tone:',\n",
       "  'status': 2,\n",
       "  'E': 13.1},\n",
       " '👩🏻\\u200d❤\\u200d👩🏿': {'en': ':couple_with_heart_woman_woman_light_skin_tone_dark_skin_tone:',\n",
       "  'status': 3,\n",
       "  'E': 13.1},\n",
       " '👩🏻\\u200d❤️\\u200d👩🏾': {'en': ':couple_with_heart_woman_woman_light_skin_tone_medium-dark_skin_tone:',\n",
       "  'status': 2,\n",
       "  'E': 13.1},\n",
       " '👩🏻\\u200d❤\\u200d👩🏾': {'en': ':couple_with_heart_woman_woman_light_skin_tone_medium-dark_skin_tone:',\n",
       "  'status': 3,\n",
       "  'E': 13.1},\n",
       " '👩🏻\\u200d❤️\\u200d👩🏼': {'en': ':couple_with_heart_woman_woman_light_skin_tone_medium-light_skin_tone:',\n",
       "  'status': 2,\n",
       "  'E': 13.1},\n",
       " '👩🏻\\u200d❤\\u200d👩🏼': {'en': ':couple_with_heart_woman_woman_light_skin_tone_medium-light_skin_tone:',\n",
       "  'status': 3,\n",
       "  'E': 13.1},\n",
       " '👩🏻\\u200d❤️\\u200d👩🏽': {'en': ':couple_with_heart_woman_woman_light_skin_tone_medium_skin_tone:',\n",
       "  'status': 2,\n",
       "  'E': 13.1},\n",
       " '👩🏻\\u200d❤\\u200d👩🏽': {'en': ':couple_with_heart_woman_woman_light_skin_tone_medium_skin_tone:',\n",
       "  'status': 3,\n",
       "  'E': 13.1},\n",
       " '👩🏾\\u200d❤️\\u200d👩🏾': {'en': ':couple_with_heart_woman_woman_medium-dark_skin_tone:',\n",
       "  'status': 2,\n",
       "  'E': 13.1},\n",
       " '👩🏾\\u200d❤\\u200d👩🏾': {'en': ':couple_with_heart_woman_woman_medium-dark_skin_tone:',\n",
       "  'status': 3,\n",
       "  'E': 13.1},\n",
       " '👩🏾\\u200d❤️\\u200d👩🏿': {'en': ':couple_with_heart_woman_woman_medium-dark_skin_tone_dark_skin_tone:',\n",
       "  'status': 2,\n",
       "  'E': 13.1},\n",
       " '👩🏾\\u200d❤\\u200d👩🏿': {'en': ':couple_with_heart_woman_woman_medium-dark_skin_tone_dark_skin_tone:',\n",
       "  'status': 3,\n",
       "  'E': 13.1},\n",
       " '👩🏾\\u200d❤️\\u200d👩🏻': {'en': ':couple_with_heart_woman_woman_medium-dark_skin_tone_light_skin_tone:',\n",
       "  'status': 2,\n",
       "  'E': 13.1},\n",
       " '👩🏾\\u200d❤\\u200d👩🏻': {'en': ':couple_with_heart_woman_woman_medium-dark_skin_tone_light_skin_tone:',\n",
       "  'status': 3,\n",
       "  'E': 13.1},\n",
       " '👩🏾\\u200d❤️\\u200d👩🏼': {'en': ':couple_with_heart_woman_woman_medium-dark_skin_tone_medium-light_skin_tone:',\n",
       "  'status': 2,\n",
       "  'E': 13.1},\n",
       " '👩🏾\\u200d❤\\u200d👩🏼': {'en': ':couple_with_heart_woman_woman_medium-dark_skin_tone_medium-light_skin_tone:',\n",
       "  'status': 3,\n",
       "  'E': 13.1},\n",
       " '👩🏾\\u200d❤️\\u200d👩🏽': {'en': ':couple_with_heart_woman_woman_medium-dark_skin_tone_medium_skin_tone:',\n",
       "  'status': 2,\n",
       "  'E': 13.1},\n",
       " '👩🏾\\u200d❤\\u200d👩🏽': {'en': ':couple_with_heart_woman_woman_medium-dark_skin_tone_medium_skin_tone:',\n",
       "  'status': 3,\n",
       "  'E': 13.1},\n",
       " '👩🏼\\u200d❤️\\u200d👩🏼': {'en': ':couple_with_heart_woman_woman_medium-light_skin_tone:',\n",
       "  'status': 2,\n",
       "  'E': 13.1},\n",
       " '👩🏼\\u200d❤\\u200d👩🏼': {'en': ':couple_with_heart_woman_woman_medium-light_skin_tone:',\n",
       "  'status': 3,\n",
       "  'E': 13.1},\n",
       " '👩🏼\\u200d❤️\\u200d👩🏿': {'en': ':couple_with_heart_woman_woman_medium-light_skin_tone_dark_skin_tone:',\n",
       "  'status': 2,\n",
       "  'E': 13.1},\n",
       " '👩🏼\\u200d❤\\u200d👩🏿': {'en': ':couple_with_heart_woman_woman_medium-light_skin_tone_dark_skin_tone:',\n",
       "  'status': 3,\n",
       "  'E': 13.1},\n",
       " '👩🏼\\u200d❤️\\u200d👩🏻': {'en': ':couple_with_heart_woman_woman_medium-light_skin_tone_light_skin_tone:',\n",
       "  'status': 2,\n",
       "  'E': 13.1},\n",
       " '👩🏼\\u200d❤\\u200d👩🏻': {'en': ':couple_with_heart_woman_woman_medium-light_skin_tone_light_skin_tone:',\n",
       "  'status': 3,\n",
       "  'E': 13.1},\n",
       " '👩🏼\\u200d❤️\\u200d👩🏾': {'en': ':couple_with_heart_woman_woman_medium-light_skin_tone_medium-dark_skin_tone:',\n",
       "  'status': 2,\n",
       "  'E': 13.1},\n",
       " '👩🏼\\u200d❤\\u200d👩🏾': {'en': ':couple_with_heart_woman_woman_medium-light_skin_tone_medium-dark_skin_tone:',\n",
       "  'status': 3,\n",
       "  'E': 13.1},\n",
       " '👩🏼\\u200d❤️\\u200d👩🏽': {'en': ':couple_with_heart_woman_woman_medium-light_skin_tone_medium_skin_tone:',\n",
       "  'status': 2,\n",
       "  'E': 13.1},\n",
       " '👩🏼\\u200d❤\\u200d👩🏽': {'en': ':couple_with_heart_woman_woman_medium-light_skin_tone_medium_skin_tone:',\n",
       "  'status': 3,\n",
       "  'E': 13.1},\n",
       " '👩🏽\\u200d❤️\\u200d👩🏽': {'en': ':couple_with_heart_woman_woman_medium_skin_tone:',\n",
       "  'status': 2,\n",
       "  'E': 13.1},\n",
       " '👩🏽\\u200d❤\\u200d👩🏽': {'en': ':couple_with_heart_woman_woman_medium_skin_tone:',\n",
       "  'status': 3,\n",
       "  'E': 13.1},\n",
       " '👩🏽\\u200d❤️\\u200d👩🏿': {'en': ':couple_with_heart_woman_woman_medium_skin_tone_dark_skin_tone:',\n",
       "  'status': 2,\n",
       "  'E': 13.1},\n",
       " '👩🏽\\u200d❤\\u200d👩🏿': {'en': ':couple_with_heart_woman_woman_medium_skin_tone_dark_skin_tone:',\n",
       "  'status': 3,\n",
       "  'E': 13.1},\n",
       " '👩🏽\\u200d❤️\\u200d👩🏻': {'en': ':couple_with_heart_woman_woman_medium_skin_tone_light_skin_tone:',\n",
       "  'status': 2,\n",
       "  'E': 13.1},\n",
       " '👩🏽\\u200d❤\\u200d👩🏻': {'en': ':couple_with_heart_woman_woman_medium_skin_tone_light_skin_tone:',\n",
       "  'status': 3,\n",
       "  'E': 13.1},\n",
       " '👩🏽\\u200d❤️\\u200d👩🏾': {'en': ':couple_with_heart_woman_woman_medium_skin_tone_medium-dark_skin_tone:',\n",
       "  'status': 2,\n",
       "  'E': 13.1},\n",
       " '👩🏽\\u200d❤\\u200d👩🏾': {'en': ':couple_with_heart_woman_woman_medium_skin_tone_medium-dark_skin_tone:',\n",
       "  'status': 3,\n",
       "  'E': 13.1},\n",
       " '👩🏽\\u200d❤️\\u200d👩🏼': {'en': ':couple_with_heart_woman_woman_medium_skin_tone_medium-light_skin_tone:',\n",
       "  'status': 2,\n",
       "  'E': 13.1},\n",
       " '👩🏽\\u200d❤\\u200d👩🏼': {'en': ':couple_with_heart_woman_woman_medium_skin_tone_medium-light_skin_tone:',\n",
       "  'status': 3,\n",
       "  'E': 13.1},\n",
       " '🐄': {'en': ':cow:', 'status': 2, 'E': 1, 'alias': [':cow2:']},\n",
       " '🐮': {'en': ':cow_face:', 'status': 2, 'E': 0.6, 'alias': [':cow:']},\n",
       " '🤠': {'en': ':cowboy_hat_face:', 'status': 2, 'E': 3},\n",
       " '🦀': {'en': ':crab:', 'status': 2, 'E': 1},\n",
       " '🖍️': {'en': ':crayon:',\n",
       "  'status': 2,\n",
       "  'E': 0.7,\n",
       "  'alias': [':lower_left_crayon:'],\n",
       "  'variant': True},\n",
       " '🖍': {'en': ':crayon:',\n",
       "  'status': 4,\n",
       "  'E': 0.7,\n",
       "  'alias': [':lower_left_crayon:'],\n",
       "  'variant': True},\n",
       " '💳': {'en': ':credit_card:', 'status': 2, 'E': 0.6, 'variant': True},\n",
       " '🌙': {'en': ':crescent_moon:', 'status': 2, 'E': 0.6},\n",
       " '🦗': {'en': ':cricket:', 'status': 2, 'E': 5},\n",
       " '🏏': {'en': ':cricket_game:',\n",
       "  'status': 2,\n",
       "  'E': 1,\n",
       "  'alias': [':cricket_bat_and_ball:']},\n",
       " '🐊': {'en': ':crocodile:', 'status': 2, 'E': 1},\n",
       " '🥐': {'en': ':croissant:', 'status': 2, 'E': 3},\n",
       " '❌': {'en': ':cross_mark:',\n",
       "  'status': 2,\n",
       "  'E': 0.6,\n",
       "  'alias': [':x:'],\n",
       "  'variant': True},\n",
       " '❎': {'en': ':cross_mark_button:',\n",
       "  'status': 2,\n",
       "  'E': 0.6,\n",
       "  'alias': [':negative_squared_cross_mark:'],\n",
       "  'variant': True},\n",
       " '🤞': {'en': ':crossed_fingers:', 'status': 2, 'E': 3},\n",
       " '🤞🏿': {'en': ':crossed_fingers_dark_skin_tone:', 'status': 2, 'E': 3},\n",
       " '🤞🏻': {'en': ':crossed_fingers_light_skin_tone:', 'status': 2, 'E': 3},\n",
       " '🤞🏾': {'en': ':crossed_fingers_medium-dark_skin_tone:', 'status': 2, 'E': 3},\n",
       " '🤞🏼': {'en': ':crossed_fingers_medium-light_skin_tone:', 'status': 2, 'E': 3},\n",
       " '🤞🏽': {'en': ':crossed_fingers_medium_skin_tone:', 'status': 2, 'E': 3},\n",
       " '🎌': {'en': ':crossed_flags:', 'status': 2, 'E': 0.6},\n",
       " '⚔️': {'en': ':crossed_swords:', 'status': 2, 'E': 1, 'variant': True},\n",
       " '⚔': {'en': ':crossed_swords:', 'status': 4, 'E': 1, 'variant': True},\n",
       " '👑': {'en': ':crown:', 'status': 2, 'E': 0.6},\n",
       " '🩼': {'en': ':crutch:', 'status': 2, 'E': 14},\n",
       " '😿': {'en': ':crying_cat:',\n",
       "  'status': 2,\n",
       "  'E': 0.6,\n",
       "  'alias': [':crying_cat_face:']},\n",
       " '😢': {'en': ':crying_face:', 'status': 2, 'E': 0.6, 'alias': [':cry:']},\n",
       " '🔮': {'en': ':crystal_ball:', 'status': 2, 'E': 0.6},\n",
       " '🥒': {'en': ':cucumber:', 'status': 2, 'E': 3},\n",
       " '🥤': {'en': ':cup_with_straw:', 'status': 2, 'E': 5},\n",
       " '🧁': {'en': ':cupcake:', 'status': 2, 'E': 11},\n",
       " '🥌': {'en': ':curling_stone:', 'status': 2, 'E': 5},\n",
       " '🦱': {'en': ':curly_hair:', 'status': 1, 'E': 11},\n",
       " '➰': {'en': ':curly_loop:', 'status': 2, 'E': 0.6, 'variant': True},\n",
       " '💱': {'en': ':currency_exchange:', 'status': 2, 'E': 0.6},\n",
       " '🍛': {'en': ':curry_rice:', 'status': 2, 'E': 0.6, 'alias': [':curry:']},\n",
       " '🍮': {'en': ':custard:', 'status': 2, 'E': 0.6},\n",
       " '🛃': {'en': ':customs:', 'status': 2, 'E': 1},\n",
       " '🥩': {'en': ':cut_of_meat:', 'status': 2, 'E': 5},\n",
       " '🌀': {'en': ':cyclone:', 'status': 2, 'E': 0.6},\n",
       " '🗡️': {'en': ':dagger:',\n",
       "  'status': 2,\n",
       "  'E': 0.7,\n",
       "  'alias': [':dagger_knife:'],\n",
       "  'variant': True},\n",
       " '🗡': {'en': ':dagger:',\n",
       "  'status': 4,\n",
       "  'E': 0.7,\n",
       "  'alias': [':dagger_knife:'],\n",
       "  'variant': True},\n",
       " '🍡': {'en': ':dango:', 'status': 2, 'E': 0.6},\n",
       " '🏿': {'en': ':dark_skin_tone:',\n",
       "  'status': 1,\n",
       "  'E': 1,\n",
       "  'alias': [':emoji_modifier_fitzpatrick_type_6:']},\n",
       " '💨': {'en': ':dashing_away:', 'status': 2, 'E': 0.6, 'alias': [':dash:']},\n",
       " '🧏\\u200d♂️': {'en': ':deaf_man:', 'status': 2, 'E': 12},\n",
       " '🧏\\u200d♂': {'en': ':deaf_man:', 'status': 3, 'E': 12},\n",
       " '🧏🏿\\u200d♂️': {'en': ':deaf_man_dark_skin_tone:', 'status': 2, 'E': 12},\n",
       " '🧏🏿\\u200d♂': {'en': ':deaf_man_dark_skin_tone:', 'status': 3, 'E': 12},\n",
       " '🧏🏻\\u200d♂️': {'en': ':deaf_man_light_skin_tone:', 'status': 2, 'E': 12},\n",
       " '🧏🏻\\u200d♂': {'en': ':deaf_man_light_skin_tone:', 'status': 3, 'E': 12},\n",
       " '🧏🏾\\u200d♂️': {'en': ':deaf_man_medium-dark_skin_tone:',\n",
       "  'status': 2,\n",
       "  'E': 12},\n",
       " '🧏🏾\\u200d♂': {'en': ':deaf_man_medium-dark_skin_tone:', 'status': 3, 'E': 12},\n",
       " '🧏🏼\\u200d♂️': {'en': ':deaf_man_medium-light_skin_tone:',\n",
       "  'status': 2,\n",
       "  'E': 12},\n",
       " '🧏🏼\\u200d♂': {'en': ':deaf_man_medium-light_skin_tone:',\n",
       "  'status': 3,\n",
       "  'E': 12},\n",
       " '🧏🏽\\u200d♂️': {'en': ':deaf_man_medium_skin_tone:', 'status': 2, 'E': 12},\n",
       " '🧏🏽\\u200d♂': {'en': ':deaf_man_medium_skin_tone:', 'status': 3, 'E': 12},\n",
       " '🧏': {'en': ':deaf_person:', 'status': 2, 'E': 12},\n",
       " '🧏🏿': {'en': ':deaf_person_dark_skin_tone:', 'status': 2, 'E': 12},\n",
       " '🧏🏻': {'en': ':deaf_person_light_skin_tone:', 'status': 2, 'E': 12},\n",
       " '🧏🏾': {'en': ':deaf_person_medium-dark_skin_tone:', 'status': 2, 'E': 12},\n",
       " '🧏🏼': {'en': ':deaf_person_medium-light_skin_tone:', 'status': 2, 'E': 12},\n",
       " '🧏🏽': {'en': ':deaf_person_medium_skin_tone:', 'status': 2, 'E': 12},\n",
       " '🧏\\u200d♀️': {'en': ':deaf_woman:', 'status': 2, 'E': 12},\n",
       " '🧏\\u200d♀': {'en': ':deaf_woman:', 'status': 3, 'E': 12},\n",
       " '🧏🏿\\u200d♀️': {'en': ':deaf_woman_dark_skin_tone:', 'status': 2, 'E': 12},\n",
       " '🧏🏿\\u200d♀': {'en': ':deaf_woman_dark_skin_tone:', 'status': 3, 'E': 12},\n",
       " '🧏🏻\\u200d♀️': {'en': ':deaf_woman_light_skin_tone:', 'status': 2, 'E': 12},\n",
       " '🧏🏻\\u200d♀': {'en': ':deaf_woman_light_skin_tone:', 'status': 3, 'E': 12},\n",
       " '🧏🏾\\u200d♀️': {'en': ':deaf_woman_medium-dark_skin_tone:',\n",
       "  'status': 2,\n",
       "  'E': 12},\n",
       " '🧏🏾\\u200d♀': {'en': ':deaf_woman_medium-dark_skin_tone:',\n",
       "  'status': 3,\n",
       "  'E': 12},\n",
       " '🧏🏼\\u200d♀️': {'en': ':deaf_woman_medium-light_skin_tone:',\n",
       "  'status': 2,\n",
       "  'E': 12},\n",
       " '🧏🏼\\u200d♀': {'en': ':deaf_woman_medium-light_skin_tone:',\n",
       "  'status': 3,\n",
       "  'E': 12},\n",
       " '🧏🏽\\u200d♀️': {'en': ':deaf_woman_medium_skin_tone:', 'status': 2, 'E': 12},\n",
       " '🧏🏽\\u200d♀': {'en': ':deaf_woman_medium_skin_tone:', 'status': 3, 'E': 12},\n",
       " '🌳': {'en': ':deciduous_tree:', 'status': 2, 'E': 1},\n",
       " '🦌': {'en': ':deer:', 'status': 2, 'E': 3},\n",
       " '🚚': {'en': ':delivery_truck:', 'status': 2, 'E': 0.6, 'alias': [':truck:']},\n",
       " '🏬': {'en': ':department_store:', 'status': 2, 'E': 0.6},\n",
       " ...}"
      ]
     },
     "execution_count": 151,
     "metadata": {},
     "output_type": "execute_result"
    }
   ],
   "source": [
    "emoji.EMOJI_DATA"
   ]
  },
  {
   "cell_type": "code",
   "execution_count": 155,
   "id": "154d56c2-8ff9-4b1e-a63f-d965641aa33a",
   "metadata": {},
   "outputs": [
    {
     "data": {
      "text/plain": [
       "False"
      ]
     },
     "execution_count": 155,
     "metadata": {},
     "output_type": "execute_result"
    }
   ],
   "source": [
    "a = 'sxcfg⬇️hjkl'\n",
    "a.isascii()"
   ]
  },
  {
   "cell_type": "code",
   "execution_count": 159,
   "id": "c3812ed5-e06e-4d53-aa2a-c1fb22e28d61",
   "metadata": {},
   "outputs": [
    {
     "data": {
      "text/plain": [
       "False"
      ]
     },
     "execution_count": 159,
     "metadata": {},
     "output_type": "execute_result"
    }
   ],
   "source": [
    "a = 'ejbGjwrjtg'\n",
    "a.islower()"
   ]
  },
  {
   "cell_type": "code",
   "execution_count": 165,
   "id": "3e27148d-dc18-4e50-91ae-4a2f32221c12",
   "metadata": {},
   "outputs": [
    {
     "data": {
      "text/plain": [
       "False"
      ]
     },
     "execution_count": 165,
     "metadata": {},
     "output_type": "execute_result"
    }
   ],
   "source": [
    "a = 'JHVUIghjkjkJK'\n",
    "a.isupper()"
   ]
  },
  {
   "cell_type": "code",
   "execution_count": 167,
   "id": "823f4bad-763c-44ca-868c-f39066f9359b",
   "metadata": {},
   "outputs": [
    {
     "data": {
      "text/plain": [
       "True"
      ]
     },
     "execution_count": 167,
     "metadata": {},
     "output_type": "execute_result"
    }
   ],
   "source": [
    "a = '4567'\n",
    "a.isdecimal()"
   ]
  },
  {
   "cell_type": "code",
   "execution_count": 173,
   "id": "5c08910b-045b-4ba4-9338-4aad060cba31",
   "metadata": {},
   "outputs": [],
   "source": [
    "a = 'This is Python Class'"
   ]
  },
  {
   "cell_type": "code",
   "execution_count": 175,
   "id": "475a85a2-2b9d-4bad-b69f-49d130513189",
   "metadata": {},
   "outputs": [
    {
     "data": {
      "text/plain": [
       "False"
      ]
     },
     "execution_count": 175,
     "metadata": {},
     "output_type": "execute_result"
    }
   ],
   "source": [
    "a.istitle()"
   ]
  },
  {
   "cell_type": "code",
   "execution_count": 177,
   "id": "6f1f5e55-2a0e-4bbe-a973-3f3e6aa72f79",
   "metadata": {},
   "outputs": [],
   "source": [
    "# a.join\n",
    "# a.capitalize\n",
    "# a.center\n",
    "# a.count\n",
    "# a.endswith\n",
    "# a.format\n",
    "# a.isalpha\n",
    "# a.join\n",
    "# a.lower\n",
    "# a.lstrip\n",
    "# a.partition\n",
    "# a.removeprefix\n",
    "# a.removesuffix\n",
    "# a.replace\n",
    "# a.split\n",
    "# a.startswith\n",
    "# a.strip\n",
    "# a.swapcase\n",
    "# a.upper\n",
    "# a.zfill\n",
    "# a.title"
   ]
  },
  {
   "cell_type": "code",
   "execution_count": 201,
   "id": "59f3e30e-db4e-40a2-b561-aafe8f892c81",
   "metadata": {},
   "outputs": [],
   "source": [
    "# a.join\n",
    "\n",
    "msg = ['My','Name','Is','Gautam']"
   ]
  },
  {
   "cell_type": "code",
   "execution_count": 203,
   "id": "0d16401e-c1e0-452c-ac83-c4c510974e67",
   "metadata": {},
   "outputs": [
    {
     "name": "stdout",
     "output_type": "stream",
     "text": [
      "My Name Is Gautam\n"
     ]
    }
   ],
   "source": [
    "ans = ' '\n",
    "print(ans.join(msg))"
   ]
  },
  {
   "cell_type": "code",
   "execution_count": 211,
   "id": "ac62f052-e6d1-4a7f-997d-b61356c380e3",
   "metadata": {},
   "outputs": [
    {
     "data": {
      "text/plain": [
       "'H O L L Y W O O D'"
      ]
     },
     "execution_count": 211,
     "metadata": {},
     "output_type": "execute_result"
    }
   ],
   "source": [
    "msg = 'Hollywood'.upper()\n",
    "\n",
    "ans = ' '\n",
    "ans.join(msg)\n",
    "\n",
    "# H O L L Y W O O D"
   ]
  },
  {
   "cell_type": "code",
   "execution_count": 215,
   "id": "1c19b01a-407c-487e-b412-d691884cffae",
   "metadata": {},
   "outputs": [
    {
     "data": {
      "text/plain": [
       "False"
      ]
     },
     "execution_count": 215,
     "metadata": {},
     "output_type": "execute_result"
    }
   ],
   "source": [
    "# a.endswith\n",
    "\n",
    "a = 'This is Elon Musk'\n",
    "\n",
    "a.endswith('musk')"
   ]
  },
  {
   "cell_type": "code",
   "execution_count": 217,
   "id": "1d190eec-7562-49f3-acd4-c6d8b19cf52b",
   "metadata": {},
   "outputs": [
    {
     "data": {
      "text/plain": [
       "True"
      ]
     },
     "execution_count": 217,
     "metadata": {},
     "output_type": "execute_result"
    }
   ],
   "source": [
    "a.endswith('k')"
   ]
  },
  {
   "cell_type": "code",
   "execution_count": 219,
   "id": "ada7a3af-fd2e-4d7b-a1e9-a262e8b27c30",
   "metadata": {},
   "outputs": [
    {
     "data": {
      "text/plain": [
       "'This is Elon Musk'"
      ]
     },
     "execution_count": 219,
     "metadata": {},
     "output_type": "execute_result"
    }
   ],
   "source": [
    "a = '         This is Elon Musk'\n",
    "\n",
    "a.lstrip()"
   ]
  },
  {
   "cell_type": "code",
   "execution_count": 221,
   "id": "7c115dde-9463-4735-84dd-83c148d2f601",
   "metadata": {},
   "outputs": [
    {
     "data": {
      "text/plain": [
       "'This is Elon Musk      '"
      ]
     },
     "execution_count": 221,
     "metadata": {},
     "output_type": "execute_result"
    }
   ],
   "source": [
    "a = 'This is Elon Musk      '\n",
    "a"
   ]
  },
  {
   "cell_type": "code",
   "execution_count": 223,
   "id": "58d72153-3674-488f-9191-65d7fb13c82e",
   "metadata": {},
   "outputs": [
    {
     "data": {
      "text/plain": [
       "'This is Elon Musk'"
      ]
     },
     "execution_count": 223,
     "metadata": {},
     "output_type": "execute_result"
    }
   ],
   "source": [
    "a.rstrip()"
   ]
  },
  {
   "cell_type": "code",
   "execution_count": 225,
   "id": "41f2c973-77c4-4cff-8201-698ca674a6cf",
   "metadata": {},
   "outputs": [],
   "source": [
    "a = '      This is Elon Musk        '"
   ]
  },
  {
   "cell_type": "code",
   "execution_count": 227,
   "id": "a73c2a05-4dda-48b7-a4a1-5ed99a31f759",
   "metadata": {},
   "outputs": [
    {
     "data": {
      "text/plain": [
       "'      This is Elon Musk        '"
      ]
     },
     "execution_count": 227,
     "metadata": {},
     "output_type": "execute_result"
    }
   ],
   "source": [
    "a"
   ]
  },
  {
   "cell_type": "code",
   "execution_count": 229,
   "id": "9ea591b8-c405-402f-bdd1-fc5ae40216db",
   "metadata": {},
   "outputs": [
    {
     "data": {
      "text/plain": [
       "'This is Elon Musk'"
      ]
     },
     "execution_count": 229,
     "metadata": {},
     "output_type": "execute_result"
    }
   ],
   "source": [
    "a.strip()"
   ]
  },
  {
   "cell_type": "code",
   "execution_count": 231,
   "id": "78bc4741-17b5-4897-86c2-f972b848f165",
   "metadata": {},
   "outputs": [],
   "source": [
    "a = '      This is Musk'"
   ]
  },
  {
   "cell_type": "code",
   "execution_count": 233,
   "id": "3d828960-2f35-4f1c-99dc-f82861e7854c",
   "metadata": {},
   "outputs": [
    {
     "data": {
      "text/plain": [
       "'      This is Musk'"
      ]
     },
     "execution_count": 233,
     "metadata": {},
     "output_type": "execute_result"
    }
   ],
   "source": [
    "a"
   ]
  },
  {
   "cell_type": "code",
   "execution_count": 235,
   "id": "9457a300-7f1f-4309-b460-39f3b51acad2",
   "metadata": {},
   "outputs": [
    {
     "data": {
      "text/plain": [
       "'This is Musk'"
      ]
     },
     "execution_count": 235,
     "metadata": {},
     "output_type": "execute_result"
    }
   ],
   "source": [
    "a.strip()"
   ]
  },
  {
   "cell_type": "code",
   "execution_count": 239,
   "id": "decdf41b-9410-4c9b-80cb-034f667e865e",
   "metadata": {},
   "outputs": [],
   "source": [
    "# a.partition:- 3 part\n",
    "# a.split :- multiple part"
   ]
  },
  {
   "cell_type": "code",
   "execution_count": 247,
   "id": "a7520d46-dded-4530-a7fb-b99ab37ea180",
   "metadata": {},
   "outputs": [],
   "source": [
    "a = 'My name is Gautam'"
   ]
  },
  {
   "cell_type": "code",
   "execution_count": 249,
   "id": "7a3480a0-976c-419a-8fc7-6bd43f2df3d5",
   "metadata": {},
   "outputs": [
    {
     "data": {
      "text/plain": [
       "('My name ', 'is', ' Gautam')"
      ]
     },
     "execution_count": 249,
     "metadata": {},
     "output_type": "execute_result"
    }
   ],
   "source": [
    "a.partition('is')"
   ]
  },
  {
   "cell_type": "code",
   "execution_count": 251,
   "id": "2217300f-0555-459f-ba54-60d7927e2974",
   "metadata": {},
   "outputs": [],
   "source": [
    "# a.split"
   ]
  },
  {
   "cell_type": "code",
   "execution_count": 253,
   "id": "db88ab79-e221-4f56-8409-05a81f3965ac",
   "metadata": {},
   "outputs": [
    {
     "data": {
      "text/plain": [
       "'My name is Gautam'"
      ]
     },
     "execution_count": 253,
     "metadata": {},
     "output_type": "execute_result"
    }
   ],
   "source": [
    "a"
   ]
  },
  {
   "cell_type": "code",
   "execution_count": 255,
   "id": "0c8c7b4b-06a3-49b0-9e0f-fba027d930ce",
   "metadata": {},
   "outputs": [
    {
     "data": {
      "text/plain": [
       "['My', 'name', 'is', 'Gautam']"
      ]
     },
     "execution_count": 255,
     "metadata": {},
     "output_type": "execute_result"
    }
   ],
   "source": [
    "a.split(' ')"
   ]
  },
  {
   "cell_type": "code",
   "execution_count": 257,
   "id": "37de148c-92e4-428f-9cef-b830001f23a5",
   "metadata": {},
   "outputs": [],
   "source": [
    "data = '''अ देवनागरी लिपि का पहला वर्ण तथा संस्कृत, हिंदी , मराठी, नेपाली आदि भाषाओं की वर्णमाला का पहला अक्षर एवं ध्वनि है। यह एक स्वर है। यह कंठ्य वर्ण है।। इसका उच्चारण स्थान कंठ है। इसकी ध्वनि को पाश्चात्य भाषाविज्ञान में श्वा कहा जाता है।\n",
    "\n",
    "यह संस्कृत तथा भारत की समस्त प्रादेशिक भाषाओं की वर्णमाला का प्रथम अक्षर है। इब्राली भाषा का 'अलेफ्', यूनानी का 'अल्फा' और लातिनी, इतालीय तथा अंग्रेजी का ए (A) इसके समकक्ष हैं।'''"
   ]
  },
  {
   "cell_type": "code",
   "execution_count": 259,
   "id": "679a1548-876f-4f0f-b849-6ed21ce4c193",
   "metadata": {},
   "outputs": [
    {
     "name": "stdout",
     "output_type": "stream",
     "text": [
      "अ देवनागरी लिपि का पहला वर्ण तथा संस्कृत, हिंदी , मराठी, नेपाली आदि भाषाओं की वर्णमाला का पहला अक्षर एवं ध्वनि है। यह एक स्वर है। यह कंठ्य वर्ण है।। इसका उच्चारण स्थान कंठ है। इसकी ध्वनि को पाश्चात्य भाषाविज्ञान में श्वा कहा जाता है।\n",
      "\n",
      "यह संस्कृत तथा भारत की समस्त प्रादेशिक भाषाओं की वर्णमाला का प्रथम अक्षर है। इब्राली भाषा का 'अलेफ्', यूनानी का 'अल्फा' और लातिनी, इतालीय तथा अंग्रेजी का ए (A) इसके समकक्ष हैं।\n"
     ]
    }
   ],
   "source": [
    "print(data)"
   ]
  },
  {
   "cell_type": "code",
   "execution_count": 267,
   "id": "b86498e8-735b-481e-a555-6b32c227beed",
   "metadata": {},
   "outputs": [
    {
     "name": "stdout",
     "output_type": "stream",
     "text": [
      "['अ', 'देवनागरी', 'लिपि', 'का', 'पहला', 'वर्ण', 'तथा', 'संस्कृत,', 'हिंदी', ',', 'मराठी,', 'नेपाली', 'आदि', 'भाषाओं', 'की', 'वर्णमाला', 'का', 'पहला', 'अक्षर', 'एवं', 'ध्वनि', 'है।', 'यह', 'एक', 'स्वर', 'है।', 'यह', 'कंठ्य', 'वर्ण', 'है।।', 'इसका', 'उच्चारण', 'स्थान', 'कंठ', 'है।', 'इसकी', 'ध्वनि', 'को', 'पाश्चात्य', 'भाषाविज्ञान', 'में', 'श्वा', 'कहा', 'जाता', 'है।\\n\\nयह', 'संस्कृत', 'तथा', 'भारत', 'की', 'समस्त', 'प्रादेशिक', 'भाषाओं', 'की', 'वर्णमाला', 'का', 'प्रथम', 'अक्षर', 'है।', 'इब्राली', 'भाषा', 'का', \"'अलेफ्',\", 'यूनानी', 'का', \"'अल्फा'\", 'और', 'लातिनी,', 'इतालीय', 'तथा', 'अंग्रेजी', 'का', 'ए', '(A)', 'इसके', 'समकक्ष', 'हैं।']\n"
     ]
    }
   ],
   "source": [
    "print(data.split(' '))"
   ]
  },
  {
   "cell_type": "code",
   "execution_count": 271,
   "id": "edd7e1f2-4cc1-4e18-9c65-69b2615e7c10",
   "metadata": {},
   "outputs": [],
   "source": [
    "all_data = data.split('\\n\\n')"
   ]
  },
  {
   "cell_type": "code",
   "execution_count": 275,
   "id": "395c7c45-60e2-48e2-a07c-f35324e021bd",
   "metadata": {},
   "outputs": [
    {
     "data": {
      "text/plain": [
       "'अ देवनागरी लिपि का पहला वर्ण तथा संस्कृत, हिंदी , मराठी, नेपाली आदि भाषाओं की वर्णमाला का पहला अक्षर एवं ध्वनि है। यह एक स्वर है। यह कंठ्य वर्ण है।। इसका उच्चारण स्थान कंठ है। इसकी ध्वनि को पाश्चात्य भाषाविज्ञान में श्वा कहा जाता है।'"
      ]
     },
     "execution_count": 275,
     "metadata": {},
     "output_type": "execute_result"
    }
   ],
   "source": [
    "all_data[0]"
   ]
  },
  {
   "cell_type": "code",
   "execution_count": 277,
   "id": "cf0bd71a-8697-4ff4-b721-8d9fa95c749e",
   "metadata": {},
   "outputs": [
    {
     "data": {
      "text/plain": [
       "\"यह संस्कृत तथा भारत की समस्त प्रादेशिक भाषाओं की वर्णमाला का प्रथम अक्षर है। इब्राली भाषा का 'अलेफ्', यूनानी का 'अल्फा' और लातिनी, इतालीय तथा अंग्रेजी का ए (A) इसके समकक्ष हैं।\""
      ]
     },
     "execution_count": 277,
     "metadata": {},
     "output_type": "execute_result"
    }
   ],
   "source": [
    "all_data[1]"
   ]
  },
  {
   "cell_type": "code",
   "execution_count": 283,
   "id": "10979f2d-e71b-443c-9045-3bafbdc68f5d",
   "metadata": {},
   "outputs": [],
   "source": [
    "msg = '''अ देवनागरी लिपि का पहला वर्ण तथा संस्कृत, हिंदी , मराठी, नेपाली आदि भाषाओं की वर्णमाला का पहला अक्षर एवं ध्वनि है। यह एक स्वर है। यह कंठ्य वर्ण है।। इसका उच्चारण स्थान कंठ है। इसकी ध्वनि को पाश्चात्य भाषाविज्ञान में श्वा कहा जाता है।'''"
   ]
  },
  {
   "cell_type": "code",
   "execution_count": 285,
   "id": "73538bbe-9329-48ca-9e65-8a0257b3a610",
   "metadata": {},
   "outputs": [
    {
     "name": "stdout",
     "output_type": "stream",
     "text": [
      "अ देवनागरी लिपि का पहला वर्ण तथा संस्कृत, हिंदी , मराठी, नेपाली आदि भाषाओं की वर्णमाला का पहला अक्षर एवं ध्वनि है। यह एक स्वर है। यह कंठ्य वर्ण है।। इसका उच्चारण स्थान कंठ है। इसकी ध्वनि को पाश्चात्य भाषाविज्ञान में श्वा कहा जाता है।\n"
     ]
    }
   ],
   "source": [
    "print(msg)"
   ]
  },
  {
   "cell_type": "code",
   "execution_count": 289,
   "id": "162e5d0c-b72a-4bff-ade4-db46161d2faf",
   "metadata": {},
   "outputs": [
    {
     "data": {
      "text/plain": [
       "42"
      ]
     },
     "execution_count": 289,
     "metadata": {},
     "output_type": "execute_result"
    }
   ],
   "source": [
    "msg.find('हिंदी')"
   ]
  },
  {
   "cell_type": "code",
   "execution_count": 299,
   "id": "fcfc9e9f-0de1-4be6-8cc0-2b0eb3a1b710",
   "metadata": {},
   "outputs": [
    {
     "data": {
      "text/plain": [
       "'अ देवनागरी लिपि का पहला वर्ण तथा संस्कृत, हिंदी'"
      ]
     },
     "execution_count": 299,
     "metadata": {},
     "output_type": "execute_result"
    }
   ],
   "source": [
    "msg[0:47]"
   ]
  },
  {
   "cell_type": "code",
   "execution_count": 301,
   "id": "31e8b249-0a48-4027-aef9-4218196026ab",
   "metadata": {},
   "outputs": [],
   "source": [
    "# a.removeprefix\n",
    "# a.removesuffix\n",
    "# a.replace\n",
    "# a.swapcase\n",
    "# a.zfill"
   ]
  },
  {
   "cell_type": "code",
   "execution_count": 305,
   "id": "c81e167f-85c4-49e6-9558-a2e96e3d1765",
   "metadata": {},
   "outputs": [],
   "source": [
    "a = 'Mr Ajay Verma'"
   ]
  },
  {
   "cell_type": "code",
   "execution_count": 307,
   "id": "51e7fd71-5fd1-4d23-bef4-d44527295b5a",
   "metadata": {},
   "outputs": [
    {
     "data": {
      "text/plain": [
       "'Ajay Verma'"
      ]
     },
     "execution_count": 307,
     "metadata": {},
     "output_type": "execute_result"
    }
   ],
   "source": [
    "a.removeprefix('Mr ')"
   ]
  },
  {
   "cell_type": "code",
   "execution_count": 309,
   "id": "fef8ce5a-b416-4017-8123-447fdcb22406",
   "metadata": {},
   "outputs": [],
   "source": [
    "a = 'Mr Ajay Verma Kanpur Waale'"
   ]
  },
  {
   "cell_type": "code",
   "execution_count": 313,
   "id": "6bbf1c8d-45ed-4836-9dab-57670076d80d",
   "metadata": {},
   "outputs": [
    {
     "data": {
      "text/plain": [
       "'Ajay Verma'"
      ]
     },
     "execution_count": 313,
     "metadata": {},
     "output_type": "execute_result"
    }
   ],
   "source": [
    "a.removesuffix(' Kanpur Waale').removeprefix('Mr ')"
   ]
  },
  {
   "cell_type": "code",
   "execution_count": 315,
   "id": "6a8cc10c-d943-4db5-b88e-bf29b8473d54",
   "metadata": {},
   "outputs": [],
   "source": [
    "# a.replace\n",
    "# a.swapcase\n",
    "# a.zfill"
   ]
  },
  {
   "cell_type": "code",
   "execution_count": 321,
   "id": "0e88e253-a404-4a88-8cab-581e4ebbf6c0",
   "metadata": {},
   "outputs": [],
   "source": [
    "a = 'We are in Noida'"
   ]
  },
  {
   "cell_type": "code",
   "execution_count": 323,
   "id": "97323196-bd60-453f-b03e-445357421adb",
   "metadata": {},
   "outputs": [
    {
     "data": {
      "text/plain": [
       "'We are in Grastech'"
      ]
     },
     "execution_count": 323,
     "metadata": {},
     "output_type": "execute_result"
    }
   ],
   "source": [
    "a.replace('Noida','Grastech')"
   ]
  },
  {
   "cell_type": "code",
   "execution_count": 325,
   "id": "61988122-e901-46e6-9877-1a0a3087a54f",
   "metadata": {},
   "outputs": [],
   "source": [
    "# a.swapcase "
   ]
  },
  {
   "cell_type": "code",
   "execution_count": 329,
   "id": "060d6f9a-437c-4a7e-a8bd-e2287bb52ce2",
   "metadata": {},
   "outputs": [],
   "source": [
    "a = 'We are in Noida sec 3'"
   ]
  },
  {
   "cell_type": "code",
   "execution_count": 331,
   "id": "892cb906-d54d-4dfe-ba46-2bae05b5ed58",
   "metadata": {},
   "outputs": [
    {
     "data": {
      "text/plain": [
       "'wE ARE IN nOIDA SEC 3'"
      ]
     },
     "execution_count": 331,
     "metadata": {},
     "output_type": "execute_result"
    }
   ],
   "source": [
    "a.swapcase()"
   ]
  },
  {
   "cell_type": "code",
   "execution_count": 333,
   "id": "4961daa4-f429-4a38-847e-e98bd2d75c2d",
   "metadata": {},
   "outputs": [],
   "source": [
    "# a.zfill"
   ]
  },
  {
   "cell_type": "code",
   "execution_count": 337,
   "id": "9a60d723-f51a-4bff-a5f9-b23954f34d06",
   "metadata": {},
   "outputs": [],
   "source": [
    "a = 'Ajay'\n",
    "b = 'Sanjeet'"
   ]
  },
  {
   "cell_type": "code",
   "execution_count": 339,
   "id": "ff521d2e-d833-4788-b269-b311f93134e5",
   "metadata": {},
   "outputs": [
    {
     "data": {
      "text/plain": [
       "'000000Ajay'"
      ]
     },
     "execution_count": 339,
     "metadata": {},
     "output_type": "execute_result"
    }
   ],
   "source": [
    "a.zfill(10)"
   ]
  },
  {
   "cell_type": "code",
   "execution_count": 341,
   "id": "f6f07d05-ae21-4baf-9e1b-32a9db2dd7c8",
   "metadata": {},
   "outputs": [
    {
     "data": {
      "text/plain": [
       "'000Sanjeet'"
      ]
     },
     "execution_count": 341,
     "metadata": {},
     "output_type": "execute_result"
    }
   ],
   "source": [
    "b.zfill(10)"
   ]
  },
  {
   "cell_type": "code",
   "execution_count": 343,
   "id": "8d529baf-c6ed-4a33-948b-0c059d32af55",
   "metadata": {},
   "outputs": [
    {
     "data": {
      "text/plain": [
       "'Ajay'"
      ]
     },
     "execution_count": 343,
     "metadata": {},
     "output_type": "execute_result"
    }
   ],
   "source": [
    "a"
   ]
  },
  {
   "cell_type": "code",
   "execution_count": 351,
   "id": "c5df0938-2dbe-4438-9dda-cfefffceea5f",
   "metadata": {},
   "outputs": [
    {
     "data": {
      "text/plain": [
       "'Ajay00000'"
      ]
     },
     "execution_count": 351,
     "metadata": {},
     "output_type": "execute_result"
    }
   ],
   "source": [
    "a.ljust(9,'0')"
   ]
  },
  {
   "cell_type": "code",
   "execution_count": 353,
   "id": "40923901-68b2-467b-bee8-f5e301072a35",
   "metadata": {},
   "outputs": [],
   "source": [
    "msg = 'This is Python class'"
   ]
  },
  {
   "cell_type": "code",
   "execution_count": 355,
   "id": "87932adc-33a2-4f84-b7a1-4f6d6429fa2b",
   "metadata": {},
   "outputs": [
    {
     "name": "stdout",
     "output_type": "stream",
     "text": [
      "This is Python class\n"
     ]
    }
   ],
   "source": [
    "print(msg)"
   ]
  },
  {
   "cell_type": "code",
   "execution_count": 365,
   "id": "3187a9a9-e810-4a32-91ae-37e3c79134c5",
   "metadata": {},
   "outputs": [
    {
     "data": {
      "text/plain": [
       "15"
      ]
     },
     "execution_count": 365,
     "metadata": {},
     "output_type": "execute_result"
    }
   ],
   "source": [
    "msg.find('class')"
   ]
  },
  {
   "cell_type": "code",
   "execution_count": 367,
   "id": "ee721598-5fdd-4a80-be81-f12f094f72d4",
   "metadata": {},
   "outputs": [
    {
     "data": {
      "text/plain": [
       "'This is Python00class'"
      ]
     },
     "execution_count": 367,
     "metadata": {},
     "output_type": "execute_result"
    }
   ],
   "source": [
    "msg[0:msg.find(' ',8)] + '0'*2 + msg[15:]"
   ]
  },
  {
   "cell_type": "code",
   "execution_count": null,
   "id": "bd38be54-8d20-411b-918d-aba3675a8ef9",
   "metadata": {},
   "outputs": [],
   "source": []
  }
 ],
 "metadata": {
  "kernelspec": {
   "display_name": "Python [conda env:base] *",
   "language": "python",
   "name": "conda-base-py"
  },
  "language_info": {
   "codemirror_mode": {
    "name": "ipython",
    "version": 3
   },
   "file_extension": ".py",
   "mimetype": "text/x-python",
   "name": "python",
   "nbconvert_exporter": "python",
   "pygments_lexer": "ipython3",
   "version": "3.12.7"
  }
 },
 "nbformat": 4,
 "nbformat_minor": 5
}
