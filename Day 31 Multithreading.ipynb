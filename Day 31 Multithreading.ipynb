{
 "cells": [
  {
   "cell_type": "markdown",
   "id": "6d31f758-8c36-4141-9810-76bb725bc335",
   "metadata": {},
   "source": [
    "# Multithreading"
   ]
  },
  {
   "cell_type": "code",
   "execution_count": null,
   "id": "83d44991-8aba-43b4-9f70-14ef27eb57a3",
   "metadata": {},
   "outputs": [],
   "source": []
  },
  {
   "cell_type": "markdown",
   "id": "c0a0dcc2-64fb-4405-9624-eaa5f39a1045",
   "metadata": {},
   "source": [
    "### Basic Concept to download 50 images"
   ]
  },
  {
   "cell_type": "code",
   "execution_count": 8,
   "id": "b3986bc4-8347-46a7-baa1-c0854b7bc3ba",
   "metadata": {},
   "outputs": [
    {
     "name": "stdout",
     "output_type": "stream",
     "text": [
      "Done:  33.851160526275635\n"
     ]
    }
   ],
   "source": [
    "import requests as r\n",
    "import time\n",
    "\n",
    "start = time.time()\n",
    "\n",
    "for i in range(10):\n",
    "    url = 'https://picsum.photos/1500/1080'\n",
    "    img_data = r.get(url).content\n",
    "    path = r\"C:\\Users\\salma\\OneDrive\\Desktop\\good_images\"\n",
    "    final_path = path + '\\\\' + f'image_{i}.jpeg' \n",
    "    \n",
    "    with open(final_path,'wb') as f:\n",
    "        f.write(img_data)\n",
    "\n",
    "\n",
    "end = time.time()\n",
    "\n",
    "print('Done: ',end - start)"
   ]
  },
  {
   "cell_type": "code",
   "execution_count": 14,
   "id": "c6f3095d-b85b-4d87-ac2e-f230075f8e00",
   "metadata": {},
   "outputs": [],
   "source": [
    "# 10 Image = 34 Sec\n",
    "# 100 Images = 340 Sec = 6 min\n",
    "# 1000 Images = 3400 Sec 1 hr\n",
    "# 5000 Images = 5 Hr\n",
    "# 100000 Images = 10 Hr"
   ]
  },
  {
   "cell_type": "code",
   "execution_count": 16,
   "id": "4508d052-0368-4bbd-af2d-4df8e7037867",
   "metadata": {},
   "outputs": [],
   "source": [
    "# 3400/60"
   ]
  },
  {
   "cell_type": "markdown",
   "id": "82bedba2-adbd-428b-aa11-ec75d1680f45",
   "metadata": {},
   "source": [
    "# MultiThreading Concept"
   ]
  },
  {
   "cell_type": "code",
   "execution_count": 19,
   "id": "5e421535-3efc-4a42-b2f1-b69f1ad84573",
   "metadata": {},
   "outputs": [],
   "source": [
    "import threading as th"
   ]
  },
  {
   "cell_type": "code",
   "execution_count": 21,
   "id": "bd0b8bd7-60e3-4e72-b427-83a43fef6e1f",
   "metadata": {},
   "outputs": [],
   "source": [
    "def download_image(name):\n",
    "    url = 'https://picsum.photos/1500/1080'\n",
    "    img_data = r.get(url).content\n",
    "    path = r\"C:\\Users\\salma\\OneDrive\\Desktop\\good_images\"\n",
    "    final_path = path + '\\\\' + f'image_{name}.jpeg'\n",
    "    with open(final_path,'wb') as f:\n",
    "        f.write(img_data)"
   ]
  },
  {
   "cell_type": "code",
   "execution_count": 25,
   "id": "876b0430-6750-4813-b439-1148729e1d5a",
   "metadata": {},
   "outputs": [],
   "source": [
    "download_image(3)"
   ]
  },
  {
   "cell_type": "code",
   "execution_count": 27,
   "id": "26602067-8875-459f-b0b8-c5e48eb55981",
   "metadata": {},
   "outputs": [],
   "source": [
    "# Sub process, small task"
   ]
  },
  {
   "cell_type": "code",
   "execution_count": null,
   "id": "5d96508f-6dfa-4ba1-9ea2-ca3f6951a530",
   "metadata": {},
   "outputs": [],
   "source": [
    "start = time.time()\n",
    "\n",
    "all_tasks = []\n",
    "\n",
    "for i in range(10000):\n",
    "    small_task = th.Thread(target=download_image,args=[i])\n",
    "    all_tasks.append(small_task)\n",
    "\n",
    "for j in all_tasks:\n",
    "    j.start()\n",
    "\n",
    "for k in all_tasks:\n",
    "    k.join()\n",
    "\n",
    "end = time.time()\n",
    "\n",
    "print('Total Time Taken: ',end - start)"
   ]
  },
  {
   "cell_type": "code",
   "execution_count": 35,
   "id": "a7f67183-55c1-4f77-8a92-b787720de3d9",
   "metadata": {},
   "outputs": [
    {
     "data": {
      "text/plain": [
       "60.0"
      ]
     },
     "execution_count": 35,
     "metadata": {},
     "output_type": "execute_result"
    }
   ],
   "source": [
    "360/6"
   ]
  },
  {
   "cell_type": "code",
   "execution_count": 41,
   "id": "a9655b97-9c41-48e6-a10d-e10a335e65fa",
   "metadata": {},
   "outputs": [
    {
     "data": {
      "text/plain": [
       "150.0"
      ]
     },
     "execution_count": 41,
     "metadata": {},
     "output_type": "execute_result"
    }
   ],
   "source": [
    "3600/24"
   ]
  },
  {
   "cell_type": "code",
   "execution_count": null,
   "id": "ec2b6ff6-992e-4c7a-837d-391e76037c23",
   "metadata": {},
   "outputs": [],
   "source": []
  }
 ],
 "metadata": {
  "kernelspec": {
   "display_name": "Python [conda env:base] *",
   "language": "python",
   "name": "conda-base-py"
  },
  "language_info": {
   "codemirror_mode": {
    "name": "ipython",
    "version": 3
   },
   "file_extension": ".py",
   "mimetype": "text/x-python",
   "name": "python",
   "nbconvert_exporter": "python",
   "pygments_lexer": "ipython3",
   "version": "3.12.7"
  }
 },
 "nbformat": 4,
 "nbformat_minor": 5
}
