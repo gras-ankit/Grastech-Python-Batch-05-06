{
 "cells": [
  {
   "cell_type": "code",
   "execution_count": 4,
   "id": "94bb3c1f-73f9-4cb7-971f-13c8a1b15255",
   "metadata": {},
   "outputs": [
    {
     "data": {
      "text/plain": [
       "[1, 1, 1, 2, 2, 2, 2, 3, 3, 3, 3, 4, 54, 4, 5, 6]"
      ]
     },
     "execution_count": 4,
     "metadata": {},
     "output_type": "execute_result"
    }
   ],
   "source": [
    "data = [1,1,1,2,2,2,2,3,3,3,3,4,54,4,5,6]\n",
    "\n",
    "data"
   ]
  },
  {
   "cell_type": "code",
   "execution_count": 8,
   "id": "141a598f-88c3-4778-871a-99ad0c385ff8",
   "metadata": {},
   "outputs": [
    {
     "data": {
      "text/plain": [
       "[1, 2, 3, 4, 5, 6, 54]"
      ]
     },
     "execution_count": 8,
     "metadata": {},
     "output_type": "execute_result"
    }
   ],
   "source": [
    "list(set(data))"
   ]
  },
  {
   "cell_type": "markdown",
   "id": "f58d99b7-9cd2-4a4e-a419-084986a65e9b",
   "metadata": {},
   "source": [
    "# Loop:- task, Again, Execute\n",
    "# For Loop\n",
    "    range():- jana kitna hai\n",
    "# While Loop:\n",
    "    condition ke form mein"
   ]
  },
  {
   "cell_type": "code",
   "execution_count": 14,
   "id": "f6c5755a-15ae-4de3-bb7e-5f796c66acc4",
   "metadata": {},
   "outputs": [],
   "source": [
    "# others PL\n",
    "# Do While\n",
    "# For Each"
   ]
  },
  {
   "cell_type": "code",
   "execution_count": 16,
   "id": "735727e8-cf6e-4700-9b5f-a5bd1de93dbb",
   "metadata": {},
   "outputs": [],
   "source": [
    "# # table print 2\n",
    "# # allowed: datatype_collection :- list, tuple, str, set, dict\n",
    "# # not allowed:- int, float, complex, True\n",
    "\n",
    "# for temp_var in datatype_collection:\n",
    "#     code block"
   ]
  },
  {
   "cell_type": "code",
   "execution_count": 18,
   "id": "970a13ec-8fa7-41cc-bab2-8c7b49ee94b5",
   "metadata": {},
   "outputs": [],
   "source": [
    "# for temp_var in datatype_collection:\n",
    "#     code block"
   ]
  },
  {
   "cell_type": "code",
   "execution_count": 20,
   "id": "f7a2f550-f412-48cc-a42b-25b35d2ccc4a",
   "metadata": {},
   "outputs": [],
   "source": [
    "# for i in iterables:\n",
    "#     code block"
   ]
  },
  {
   "cell_type": "code",
   "execution_count": 22,
   "id": "2209c0fc-6e5f-478b-9656-6fbfbf45b44a",
   "metadata": {},
   "outputs": [
    {
     "name": "stdout",
     "output_type": "stream",
     "text": [
      "Hello Ankit\n",
      "Hello Mohan\n",
      "Hello Karan\n"
     ]
    }
   ],
   "source": [
    "Students = ['Ankit','Mohan','Karan']\n",
    "\n",
    "print('Hello Ankit')\n",
    "print('Hello Mohan')\n",
    "print('Hello Karan')\n"
   ]
  },
  {
   "cell_type": "code",
   "execution_count": 24,
   "id": "4c8eb618-5033-4674-b927-00dea795e737",
   "metadata": {},
   "outputs": [],
   "source": [
    "# DRY:- "
   ]
  },
  {
   "cell_type": "code",
   "execution_count": 32,
   "id": "9e4407ea-4223-4e59-b7d6-5d70c50c584f",
   "metadata": {},
   "outputs": [
    {
     "name": "stdout",
     "output_type": "stream",
     "text": [
      "Ankit\n",
      "Mohan\n",
      "Karan\n",
      "Lucky\n",
      "Ajay\n"
     ]
    }
   ],
   "source": [
    "import time\n",
    "\n",
    "Students = ['Ankit','Mohan','Karan','Lucky','Ajay']\n",
    "for i in Students:\n",
    "    print(i)\n",
    "    time.sleep(1)"
   ]
  },
  {
   "cell_type": "code",
   "execution_count": 36,
   "id": "4a404476-29f3-4624-a25d-7b70a586a630",
   "metadata": {},
   "outputs": [
    {
     "name": "stdout",
     "output_type": "stream",
     "text": [
      "Ankit\n",
      "Mohan\n",
      "Karan\n",
      "Lucky\n",
      "Ajay\n"
     ]
    }
   ],
   "source": [
    "import time\n",
    "\n",
    "s = ['Ankit','Mohan','Karan','Lucky','Ajay']\n",
    "for i in s:\n",
    "    print(i)\n",
    "    time.sleep(1)"
   ]
  },
  {
   "cell_type": "code",
   "execution_count": 38,
   "id": "a6a49edc-b665-4704-82d4-f36b48f548a8",
   "metadata": {},
   "outputs": [
    {
     "name": "stdout",
     "output_type": "stream",
     "text": [
      "Ankit\n",
      "Mohan\n",
      "Karan\n",
      "Lucky\n",
      "Ajay\n"
     ]
    }
   ],
   "source": [
    "import time\n",
    "\n",
    "s = ['Ankit','Mohan','Karan','Lucky','Ajay']\n",
    "for grastech in s:\n",
    "    print(grastech)\n",
    "    time.sleep(1)"
   ]
  },
  {
   "cell_type": "code",
   "execution_count": 40,
   "id": "22b55b61-ea0a-4b43-8649-9b77d2183b34",
   "metadata": {},
   "outputs": [
    {
     "name": "stdout",
     "output_type": "stream",
     "text": [
      "2 x 1 = 2\n",
      "2 x 2 = 4\n",
      "2 x 3 = 6\n",
      "2 x 4 = 8\n",
      "2 x 5 = 10\n",
      "2 x 6 = 12\n",
      "2 x 7 = 14\n",
      "2 x 8 = 16\n",
      "2 x 9 = 18\n",
      "2 x 10 = 20\n"
     ]
    }
   ],
   "source": [
    "# table print\n",
    "# 2:- \n",
    "\n",
    "print('2 x 1 = 2')\n",
    "print('2 x 2 = 4')\n",
    "print('2 x 3 = 6')\n",
    "print('2 x 4 = 8')\n",
    "print('2 x 5 = 10')\n",
    "print('2 x 6 = 12')\n",
    "print('2 x 7 = 14')\n",
    "print('2 x 8 = 16')\n",
    "print('2 x 9 = 18')\n",
    "print('2 x 10 = 20')\n"
   ]
  },
  {
   "cell_type": "code",
   "execution_count": 48,
   "id": "66a32aac-313b-41dd-bc63-717f9f791e3e",
   "metadata": {},
   "outputs": [
    {
     "name": "stdout",
     "output_type": "stream",
     "text": [
      "18 x 1 = 18\n",
      "18 x 2 = 36\n",
      "18 x 3 = 54\n",
      "18 x 4 = 72\n",
      "18 x 5 = 90\n",
      "18 x 6 = 108\n",
      "18 x 7 = 126\n",
      "18 x 8 = 144\n",
      "18 x 9 = 162\n",
      "18 x 10 = 180\n"
     ]
    }
   ],
   "source": [
    "table = 18\n",
    "for i in [1,2,3,4,5,6,7,8,9,10]:\n",
    "    print(f'{table} x {i} = {table*i}')"
   ]
  },
  {
   "cell_type": "code",
   "execution_count": 54,
   "id": "d3176e3c-969c-4d49-9dea-1e74b67b7e8f",
   "metadata": {},
   "outputs": [
    {
     "name": "stdout",
     "output_type": "stream",
     "text": [
      "23456 x 1 = 23456\n",
      "23456 x 2 = 46912\n",
      "23456 x 3 = 70368\n",
      "23456 x 4 = 93824\n",
      "23456 x 5 = 117280\n",
      "23456 x 6 = 140736\n",
      "23456 x 7 = 164192\n",
      "23456 x 8 = 187648\n",
      "23456 x 9 = 211104\n",
      "23456 x 10 = 234560\n"
     ]
    }
   ],
   "source": [
    "table = 23456\n",
    "for i in range(1,11):\n",
    "    print(f'{table} x {i} = {table*i}')"
   ]
  },
  {
   "cell_type": "code",
   "execution_count": 56,
   "id": "6d21e6c7-4265-4a23-b50f-453822a15b25",
   "metadata": {},
   "outputs": [
    {
     "name": "stdout",
     "output_type": "stream",
     "text": [
      "23456 x 2 = 46912\n",
      "23456 x 4 = 93824\n",
      "23456 x 6 = 140736\n",
      "23456 x 8 = 187648\n",
      "23456 x 10 = 234560\n"
     ]
    }
   ],
   "source": [
    "table = 23456\n",
    "for i in range(2,11,2):\n",
    "    print(f'{table} x {i} = {table*i}')"
   ]
  },
  {
   "cell_type": "code",
   "execution_count": 72,
   "id": "65bdfef7-5c6d-468d-8a71-d0b1f2e441d4",
   "metadata": {},
   "outputs": [
    {
     "name": "stdout",
     "output_type": "stream",
     "text": [
      "23456 x 1 = 23456\n",
      "23456 x 2 = 46912\n",
      "23456 x 3 = 70368\n",
      "23456 x 4 = 93824\n",
      "23456 x 5 = 117280\n",
      "23456 x 6 = 140736\n",
      "23456 x 7 = 164192\n",
      "23456 x 8 = 187648\n",
      "23456 x 9 = 211104\n",
      "23456 x 10 = 234560\n"
     ]
    }
   ],
   "source": [
    "table = 23456\n",
    "for i in range(1,11):\n",
    "    print(f'{table} x {i} = {table*i}')"
   ]
  },
  {
   "cell_type": "code",
   "execution_count": 62,
   "id": "e7e7ac60-c1ab-444f-9ff9-ecd6bdc9fa1c",
   "metadata": {},
   "outputs": [],
   "source": [
    "# range(start,stop,step/skip)"
   ]
  },
  {
   "cell_type": "code",
   "execution_count": 78,
   "id": "32d701b9-c4d6-4837-bae1-84905a0708e2",
   "metadata": {},
   "outputs": [
    {
     "name": "stdout",
     "output_type": "stream",
     "text": [
      "Hello 🤝 Ankit\n",
      "Hello 🤝 Mohan\n",
      "Hello 🤝 Karan\n",
      "Hello 🤝 Lucky\n",
      "Hello 🤝 Ajay\n"
     ]
    }
   ],
   "source": [
    "s = ['Ankit','Mohan','Karan','Lucky','Ajay']\n",
    "for i in s:\n",
    "    print('Hello 🤝',i)"
   ]
  },
  {
   "cell_type": "code",
   "execution_count": 86,
   "id": "67aa1bfc-d66f-49ca-89df-68e9f30e492f",
   "metadata": {},
   "outputs": [
    {
     "name": "stdout",
     "output_type": "stream",
     "text": [
      "['@ANKIT', '@MOHAN', '@KARAN', '@LUCKY', '@AJAY']\n"
     ]
    }
   ],
   "source": [
    "database = ['Ankit','Mohan','Karan','Lucky','Ajay']\n",
    "final_database = []\n",
    "\n",
    "for i in database:\n",
    "    final_database.append('@'+i.upper())\n",
    "\n",
    "print(final_database)"
   ]
  },
  {
   "cell_type": "code",
   "execution_count": 88,
   "id": "21b76ea1-8ad6-40d1-99ea-7f8f6552a18e",
   "metadata": {},
   "outputs": [],
   "source": [
    "# pass, break, continue, else, nested for loop, list comphrension"
   ]
  },
  {
   "cell_type": "code",
   "execution_count": 90,
   "id": "7579bb8a-0130-4726-bf6a-a565bb900499",
   "metadata": {},
   "outputs": [
    {
     "name": "stdout",
     "output_type": "stream",
     "text": [
      "Even List:  [4, 32, 54, 6, 34, 56, 784, 84, 468]\n",
      "Odd List:  [3, 565, 635, 645, 7, 3, 74645, 567, 67, 57, 65, 7]\n"
     ]
    }
   ],
   "source": [
    "data = [3,4,32,54,565,635,6,34,645,7,56,3,74645,784,567,67,84,57,468,65,7]\n",
    "\n",
    "even = []\n",
    "odd = []\n",
    "\n",
    "for i in data:\n",
    "    if i % 2 == 0:\n",
    "        even.append(i)\n",
    "    else:\n",
    "        odd.append(i)\n",
    "\n",
    "print('Even List: ',even)\n",
    "print('Odd List: ',odd)\n"
   ]
  },
  {
   "cell_type": "code",
   "execution_count": 92,
   "id": "5a55bb1e-eb40-4a67-bf21-7a401474d54c",
   "metadata": {},
   "outputs": [
    {
     "name": "stdout",
     "output_type": "stream",
     "text": [
      "['ADANI', 'INFOSYS']\n"
     ]
    }
   ],
   "source": [
    "data = ['Tata','Adani','Reliance','WIPRO','HCL','InFosyS','GRASTEch']\n",
    "\n",
    "vowels = []\n",
    "consonants = []\n",
    "\n",
    "for i in data:\n",
    "    if i[0].lower() in 'aeiou':\n",
    "        vowels.append(i.upper())\n",
    "    else:\n",
    "        consonants.append(i.upper())\n",
    "print(vowels)"
   ]
  },
  {
   "cell_type": "code",
   "execution_count": 94,
   "id": "df498498-b9fe-4789-a8a9-4d4ab3b224a6",
   "metadata": {},
   "outputs": [
    {
     "name": "stdout",
     "output_type": "stream",
     "text": [
      "['TATA', 'RELIANCE', 'WIPRO', 'HCL', 'GRASTECH']\n"
     ]
    }
   ],
   "source": [
    "print(consonants)"
   ]
  },
  {
   "cell_type": "code",
   "execution_count": 96,
   "id": "2ef91757-5316-4017-b8ca-feaafb02eabe",
   "metadata": {},
   "outputs": [],
   "source": [
    "######\n",
    "######\n",
    "######\n",
    "###\n",
    "###\n",
    "###"
   ]
  },
  {
   "cell_type": "code",
   "execution_count": 153,
   "id": "913b83bb-e4fd-4b1b-b1e3-46530ba68be1",
   "metadata": {},
   "outputs": [
    {
     "name": "stdout",
     "output_type": "stream",
     "text": [
      "%%%%%%\n",
      "%%%%%%\n",
      "%%%%%%\n",
      "%%%\n",
      "%%%\n",
      "%%%\n"
     ]
    }
   ],
   "source": [
    "number = 6\n",
    "symbol = '%'\n",
    "\n",
    "for i in range(1,number+1):\n",
    "    if i <= (number//2):\n",
    "        print(symbol*number)\n",
    "    else:\n",
    "        print(symbol*(number//2))"
   ]
  },
  {
   "cell_type": "code",
   "execution_count": 139,
   "id": "58d5285a-2b4f-4276-8eb2-e2e6ffa7bd8f",
   "metadata": {},
   "outputs": [
    {
     "data": {
      "text/plain": [
       "2"
      ]
     },
     "execution_count": 139,
     "metadata": {},
     "output_type": "execute_result"
    }
   ],
   "source": [
    "5//2"
   ]
  },
  {
   "cell_type": "code",
   "execution_count": 155,
   "id": "bed13677-0061-452d-bb0c-473e76eb87d6",
   "metadata": {},
   "outputs": [],
   "source": [
    "# game number guess"
   ]
  },
  {
   "cell_type": "code",
   "execution_count": 179,
   "id": "07ec7adb-4df5-4d69-99b7-8b58cb454010",
   "metadata": {},
   "outputs": [
    {
     "name": "stdout",
     "output_type": "stream",
     "text": [
      "User Collection: -20\n",
      "Company Collection: 30\n"
     ]
    }
   ],
   "source": [
    "limit = 5\n",
    "company_collection = 0  \n",
    "user_collection = 0\n",
    "\n",
    "import random\n",
    "import pygame as pg\n",
    "pg.init()\n",
    "\n",
    "print('Welcome to MyGame'.center(100,' '))\n",
    "\n",
    "intro_sound = pg.mixer.Sound(r\"C:\\Users\\salma\\Downloads\\intro.mp3\")\n",
    "intro_sound.play()\n",
    "\n",
    "time.sleep(3)\n",
    "\n",
    "for i in range(1, limit+1):\n",
    "    company_collection += 10\n",
    "    comp_choice = random.randint(1,10)\n",
    "    user_choice = int(input('Enter your choice: (1-10): '))\n",
    "    \n",
    "    print(f'Computer choice: {comp_choice}\\nUser choice: {user_choice}')\n",
    "\n",
    "    \n",
    "    if comp_choice == user_choice:\n",
    "        print('You Won!!🎇🎇')\n",
    "        user_collection += 20\n",
    "        win_sound = pg.mixer.Sound(r\"C:\\Users\\salma\\Downloads\\Win.mp3\")\n",
    "        win_sound.play()\n",
    "        company_collection -= 20\n",
    "\n",
    "    \n",
    "    else:\n",
    "        print('You Lose!!😔😔')\n",
    "        user_collection -= 10\n",
    "        lose_sound = pg.mixer.Sound(r\"C:\\Users\\salma\\Downloads\\Lose.mp3\")\n",
    "        lose_sound.play()\n",
    "    print(f'Attemp Left: {limit - i }')\n",
    "\n",
    "    display(clear = True)\n",
    "\n",
    "print(f'''User Collection: {user_collection}\n",
    "Company Collection: {company_collection}''')\n",
    "\n"
   ]
  },
  {
   "cell_type": "code",
   "execution_count": 167,
   "id": "e19c2927-196d-4ef6-a045-83b162a15694",
   "metadata": {},
   "outputs": [],
   "source": [
    "# pip install pygame"
   ]
  },
  {
   "cell_type": "code",
   "execution_count": 175,
   "id": "fd60e1cd-372a-4b62-a0c5-427cf64e948c",
   "metadata": {},
   "outputs": [
    {
     "data": {
      "text/plain": [
       "<pygame.mixer.Channel at 0x1f5b5c493f0>"
      ]
     },
     "execution_count": 175,
     "metadata": {},
     "output_type": "execute_result"
    }
   ],
   "source": [
    "\n",
    "\n"
   ]
  },
  {
   "cell_type": "code",
   "execution_count": null,
   "id": "bfc4483b-b4b8-4180-a978-90b7593ee47a",
   "metadata": {},
   "outputs": [],
   "source": []
  }
 ],
 "metadata": {
  "kernelspec": {
   "display_name": "Python [conda env:base] *",
   "language": "python",
   "name": "conda-base-py"
  },
  "language_info": {
   "codemirror_mode": {
    "name": "ipython",
    "version": 3
   },
   "file_extension": ".py",
   "mimetype": "text/x-python",
   "name": "python",
   "nbconvert_exporter": "python",
   "pygments_lexer": "ipython3",
   "version": "3.12.7"
  }
 },
 "nbformat": 4,
 "nbformat_minor": 5
}
