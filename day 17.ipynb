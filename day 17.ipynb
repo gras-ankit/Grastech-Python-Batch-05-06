{
 "cells": [
  {
   "cell_type": "code",
   "execution_count": 1,
   "id": "06504429-b1c7-47c9-8f73-b8063600bb29",
   "metadata": {},
   "outputs": [],
   "source": [
    "# While Pass, Continue"
   ]
  },
  {
   "cell_type": "code",
   "execution_count": 13,
   "id": "866840db-b88b-4078-952e-146add56d2e9",
   "metadata": {},
   "outputs": [
    {
     "name": "stdout",
     "output_type": "stream",
     "text": [
      "46 : 2116\n",
      "42 : 1764\n",
      "54 : 2916\n"
     ]
    }
   ],
   "source": [
    "data = [3,46,42,435,54,67]\n",
    "\n",
    "c = 0\n",
    "\n",
    "while c < len(data):\n",
    "    if data[c] % 2 == 0:\n",
    "        print(data[c],':',data[c]**2)\n",
    "    else:\n",
    "        ...\n",
    "        pass\n",
    "    c += 1"
   ]
  },
  {
   "cell_type": "code",
   "execution_count": 15,
   "id": "fb52d65c-09b8-463a-b944-b7146e6c9400",
   "metadata": {},
   "outputs": [],
   "source": [
    "# Continue:- skip the iteration"
   ]
  },
  {
   "cell_type": "code",
   "execution_count": 25,
   "id": "2c578d6d-113f-46cf-adfd-a622f29674f6",
   "metadata": {},
   "outputs": [
    {
     "name": "stdout",
     "output_type": "stream",
     "text": [
      "3 : 9\n",
      "45 : 2025\n",
      "3 : 9\n",
      "54 : 2916\n",
      "567 : 321489\n",
      "5 : 25\n",
      "456 : 207936\n",
      "45 : 2025\n",
      "67 : 4489\n",
      "86 : 7396\n",
      "3 : 9\n",
      "4 : 16\n",
      "6 : 36\n",
      "756 : 571536\n",
      "85 : 7225\n"
     ]
    }
   ],
   "source": [
    "data = [3,45,3,54,567,5,'007',456,45,67,86,'007',3,4,6,756,85]\n",
    "\n",
    "\n",
    "c = 0\n",
    "while c < len(data):\n",
    "    if data[c] == '007':\n",
    "        c += 1\n",
    "        continue\n",
    "        print('Continue code chal gaya')\n",
    "    else:\n",
    "        print(data[c],':',data[c]**2)\n",
    "    c += 1"
   ]
  },
  {
   "cell_type": "code",
   "execution_count": null,
   "id": "dfa03308-a6d2-49be-af84-d8f6184a2c47",
   "metadata": {},
   "outputs": [],
   "source": []
  },
  {
   "cell_type": "code",
   "execution_count": 30,
   "id": "53d47b91-cc14-40b4-aeea-19b549df1475",
   "metadata": {},
   "outputs": [],
   "source": [
    "# # prime numbers:\n",
    "# # self divisible, 1\n",
    "# # 1:- prime nahi, 2:- factor\n",
    "# 2:- 2, 1:- even prime number\n",
    "# 3:- 3, 1\n",
    "# 4:- 4,1,2"
   ]
  },
  {
   "cell_type": "code",
   "execution_count": 32,
   "id": "92744f07-57b5-40c4-ad9a-1411c310289f",
   "metadata": {},
   "outputs": [],
   "source": [
    "# 2,20"
   ]
  },
  {
   "cell_type": "code",
   "execution_count": 83,
   "id": "0da19c67-8ea5-4c25-90a3-d718797133b3",
   "metadata": {},
   "outputs": [
    {
     "name": "stdout",
     "output_type": "stream",
     "text": [
      "19913 is a Prime Number!!\n"
     ]
    }
   ],
   "source": [
    "number = 19913\n",
    "\n",
    "if number <= 1:\n",
    "    print(f'{number} is not a Prime Number!!')\n",
    "\n",
    "else:\n",
    "    for i in range(2,number):\n",
    "        if number % i == 0:\n",
    "            print(f'{number} is Not a Prime Number!!')\n",
    "            break\n",
    "    else:\n",
    "        print(f'{number} is a Prime Number!!')"
   ]
  },
  {
   "cell_type": "code",
   "execution_count": null,
   "id": "cae6dc03-fc0a-4dfa-b7e3-a9ef33cc538f",
   "metadata": {},
   "outputs": [],
   "source": []
  },
  {
   "cell_type": "code",
   "execution_count": 85,
   "id": "97427aaf-2984-49a7-881e-6753058515fd",
   "metadata": {},
   "outputs": [
    {
     "name": "stdout",
     "output_type": "stream",
     "text": [
      "List of all Prime Numbers b/w (2 to 2000):\n",
      "[2, 3, 5, 7, 11, 13, 17, 19, 23, 29, 31, 37, 41, 43, 47, 53, 59, 61, 67, 71, 73, 79, 83, 89, 97, 101, 103, 107, 109, 113, 127, 131, 137, 139, 149, 151, 157, 163, 167, 173, 179, 181, 191, 193, 197, 199, 211, 223, 227, 229, 233, 239, 241, 251, 257, 263, 269, 271, 277, 281, 283, 293, 307, 311, 313, 317, 331, 337, 347, 349, 353, 359, 367, 373, 379, 383, 389, 397, 401, 409, 419, 421, 431, 433, 439, 443, 449, 457, 461, 463, 467, 479, 487, 491, 499, 503, 509, 521, 523, 541, 547, 557, 563, 569, 571, 577, 587, 593, 599, 601, 607, 613, 617, 619, 631, 641, 643, 647, 653, 659, 661, 673, 677, 683, 691, 701, 709, 719, 727, 733, 739, 743, 751, 757, 761, 769, 773, 787, 797, 809, 811, 821, 823, 827, 829, 839, 853, 857, 859, 863, 877, 881, 883, 887, 907, 911, 919, 929, 937, 941, 947, 953, 967, 971, 977, 983, 991, 997, 1009, 1013, 1019, 1021, 1031, 1033, 1039, 1049, 1051, 1061, 1063, 1069, 1087, 1091, 1093, 1097, 1103, 1109, 1117, 1123, 1129, 1151, 1153, 1163, 1171, 1181, 1187, 1193, 1201, 1213, 1217, 1223, 1229, 1231, 1237, 1249, 1259, 1277, 1279, 1283, 1289, 1291, 1297, 1301, 1303, 1307, 1319, 1321, 1327, 1361, 1367, 1373, 1381, 1399, 1409, 1423, 1427, 1429, 1433, 1439, 1447, 1451, 1453, 1459, 1471, 1481, 1483, 1487, 1489, 1493, 1499, 1511, 1523, 1531, 1543, 1549, 1553, 1559, 1567, 1571, 1579, 1583, 1597, 1601, 1607, 1609, 1613, 1619, 1621, 1627, 1637, 1657, 1663, 1667, 1669, 1693, 1697, 1699, 1709, 1721, 1723, 1733, 1741, 1747, 1753, 1759, 1777, 1783, 1787, 1789, 1801, 1811, 1823, 1831, 1847, 1861, 1867, 1871, 1873, 1877, 1879, 1889, 1901, 1907, 1913, 1931, 1933, 1949, 1951, 1973, 1979, 1987, 1993, 1997, 1999]\n"
     ]
    }
   ],
   "source": [
    "limit = 2000\n",
    "number = 2\n",
    "ans = []\n",
    "while number <= limit:\n",
    "    for i in range(2,number):\n",
    "        if number % i == 0:\n",
    "            # print(f'{number} is Not a Prime Number!!')\n",
    "            break\n",
    "    else:\n",
    "        ans.append(number)\n",
    "        # print(f'{number} is a Prime Number!!')\n",
    "    number += 1\n",
    "print(f'List of all Prime Numbers b/w (2 to {number-1}):\\n{ans}')"
   ]
  },
  {
   "cell_type": "code",
   "execution_count": null,
   "id": "2b04809b-d7eb-4e00-8345-bfa4ce6dc743",
   "metadata": {},
   "outputs": [],
   "source": []
  },
  {
   "cell_type": "code",
   "execution_count": 88,
   "id": "d510edbd-1784-4602-8ab8-556df9809b93",
   "metadata": {},
   "outputs": [],
   "source": [
    "# Pattern Printing"
   ]
  },
  {
   "cell_type": "code",
   "execution_count": 90,
   "id": "33ab0ae4-3986-4b19-b3d1-191f9ee0b15b",
   "metadata": {},
   "outputs": [],
   "source": [
    "number = 5\n",
    "\n",
    "# * * * * *\n",
    "# * * * * *\n",
    "# * * * * *\n",
    "# * * * * *\n",
    "# * * * * *\n"
   ]
  },
  {
   "cell_type": "code",
   "execution_count": 96,
   "id": "442d27a2-9308-4900-835b-ec7f2ea78aa0",
   "metadata": {},
   "outputs": [
    {
     "name": "stdout",
     "output_type": "stream",
     "text": [
      "* * * * * \n",
      "* * * * * \n",
      "* * * * * \n",
      "* * * * * \n",
      "* * * * * \n"
     ]
    }
   ],
   "source": [
    "for i in range(number):\n",
    "    print('* '*number)"
   ]
  },
  {
   "cell_type": "code",
   "execution_count": 98,
   "id": "6bd26955-2dbd-4516-b000-427cf1566aa8",
   "metadata": {},
   "outputs": [],
   "source": [
    "# KBC Game\n",
    "# Number Guess User must not win"
   ]
  },
  {
   "cell_type": "code",
   "execution_count": 114,
   "id": "3bf16f0b-acb4-4dd3-a6c1-917ada3463af",
   "metadata": {},
   "outputs": [
    {
     "data": {
      "text/plain": [
       "[1, 2, 3, 4, 5, 6, 7, 8, 10]"
      ]
     },
     "execution_count": 114,
     "metadata": {},
     "output_type": "execute_result"
    }
   ],
   "source": [
    "user = 9\n",
    "3\n",
    "a = list(range(1,11))\n",
    "a.remove(user)\n",
    "# a.pop()\n",
    "a"
   ]
  },
  {
   "cell_type": "code",
   "execution_count": null,
   "id": "07abaae9-d273-46c1-a53c-b7eb58649977",
   "metadata": {},
   "outputs": [],
   "source": []
  }
 ],
 "metadata": {
  "kernelspec": {
   "display_name": "Python [conda env:base] *",
   "language": "python",
   "name": "conda-base-py"
  },
  "language_info": {
   "codemirror_mode": {
    "name": "ipython",
    "version": 3
   },
   "file_extension": ".py",
   "mimetype": "text/x-python",
   "name": "python",
   "nbconvert_exporter": "python",
   "pygments_lexer": "ipython3",
   "version": "3.12.7"
  }
 },
 "nbformat": 4,
 "nbformat_minor": 5
}
