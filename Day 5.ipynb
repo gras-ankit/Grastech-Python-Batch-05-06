{
 "cells": [
  {
   "cell_type": "markdown",
   "id": "a1667aa9-9ab5-4f5c-8a9c-07bdd1824835",
   "metadata": {},
   "source": [
    "# List"
   ]
  },
  {
   "cell_type": "code",
   "execution_count": 2,
   "id": "d1e37c01-ee0d-45ff-8c3a-297fbec23cb5",
   "metadata": {},
   "outputs": [],
   "source": [
    "data = [12,45.6,'Komal',[2,35,6],(2,34,5),56-8j,{'Name':'Ajay'},\n",
    "       True, None, {23,434,6}]"
   ]
  },
  {
   "cell_type": "code",
   "execution_count": 4,
   "id": "c5e31434-cb08-4de0-8dd2-ea1dc9edaedc",
   "metadata": {},
   "outputs": [
    {
     "name": "stdout",
     "output_type": "stream",
     "text": [
      "[12, 45.6, 'Komal', [2, 35, 6], (2, 34, 5), (56-8j), {'Name': 'Ajay'}, True, None, {434, 6, 23}]\n"
     ]
    }
   ],
   "source": [
    "print(data)"
   ]
  },
  {
   "cell_type": "code",
   "execution_count": 8,
   "id": "91150ae2-495a-4aca-80bf-dd51af90d3d0",
   "metadata": {},
   "outputs": [
    {
     "name": "stdout",
     "output_type": "stream",
     "text": [
      "<class 'list'>\n"
     ]
    }
   ],
   "source": [
    "print(type(data))"
   ]
  },
  {
   "cell_type": "code",
   "execution_count": 12,
   "id": "5cc2d255-f6b3-42e5-b3a6-a085a737f2bb",
   "metadata": {},
   "outputs": [],
   "source": [
    "# collection data type, sequence"
   ]
  },
  {
   "cell_type": "code",
   "execution_count": 98,
   "id": "552cf2f3-25dc-4d13-bc21-103d522c9679",
   "metadata": {},
   "outputs": [],
   "source": [
    "students = ['Ajay','Vijay','Karan','Abbas','Sanjeet']"
   ]
  },
  {
   "cell_type": "code",
   "execution_count": 18,
   "id": "f2b3152e-3ed8-4d4b-9619-8dae245a423f",
   "metadata": {},
   "outputs": [],
   "source": [
    "# data = [e1,e2,e3,e4,e5]\n",
    "       # [0, 1, 2, 3, 4]\n",
    "       # [-5,-4,-3,-2,-1]"
   ]
  },
  {
   "cell_type": "code",
   "execution_count": 22,
   "id": "96241059-2d74-4450-a1e4-a2b0f88886c6",
   "metadata": {},
   "outputs": [
    {
     "data": {
      "text/plain": [
       "'Karan'"
      ]
     },
     "execution_count": 22,
     "metadata": {},
     "output_type": "execute_result"
    }
   ],
   "source": [
    "students[2]"
   ]
  },
  {
   "cell_type": "code",
   "execution_count": 24,
   "id": "d6057c3d-4338-4c0a-b453-24b72b7cc711",
   "metadata": {},
   "outputs": [],
   "source": [
    "# list data can be mutate, so list is mutable data type"
   ]
  },
  {
   "cell_type": "code",
   "execution_count": 26,
   "id": "e118ae0d-dd47-4a0f-85ed-76ccbcd789ed",
   "metadata": {},
   "outputs": [
    {
     "data": {
      "text/plain": [
       "['Ajay', 'Vijay', 'Karan', 'Abbas', 'Sanjeet']"
      ]
     },
     "execution_count": 26,
     "metadata": {},
     "output_type": "execute_result"
    }
   ],
   "source": [
    "students"
   ]
  },
  {
   "cell_type": "code",
   "execution_count": 30,
   "id": "dd1495bb-db16-44ba-9e01-123f9755f52a",
   "metadata": {},
   "outputs": [],
   "source": [
    "students[1] = 'Vijay Shekhar Sharma'"
   ]
  },
  {
   "cell_type": "code",
   "execution_count": 34,
   "id": "b915cd29-aee7-4bf5-beb9-eeb4d47cb04e",
   "metadata": {},
   "outputs": [
    {
     "name": "stdout",
     "output_type": "stream",
     "text": [
      "['Ajay', 'Vijay Shekhar Sharma', 'Karan', 'Abbas', 'Sanjeet']\n"
     ]
    }
   ],
   "source": [
    "print(students)"
   ]
  },
  {
   "cell_type": "code",
   "execution_count": 36,
   "id": "f70bb081-47d6-4902-be9a-793127460e61",
   "metadata": {},
   "outputs": [
    {
     "data": {
      "text/plain": [
       "'Abbas'"
      ]
     },
     "execution_count": 36,
     "metadata": {},
     "output_type": "execute_result"
    }
   ],
   "source": [
    "students[3]"
   ]
  },
  {
   "cell_type": "code",
   "execution_count": 40,
   "id": "5c678fcf-6e1f-42fc-9308-917125552c63",
   "metadata": {},
   "outputs": [],
   "source": [
    "students[-2] = 'Abbas Mehdi'"
   ]
  },
  {
   "cell_type": "code",
   "execution_count": 42,
   "id": "0be9e677-3b9d-4388-9367-c98ff315647a",
   "metadata": {},
   "outputs": [
    {
     "name": "stdout",
     "output_type": "stream",
     "text": [
      "['Ajay', 'Vijay Shekhar Sharma', 'Karan', 'Abbas Mehdi', 'Sanjeet']\n"
     ]
    }
   ],
   "source": [
    "print(students)"
   ]
  },
  {
   "cell_type": "code",
   "execution_count": 46,
   "id": "122c948d-1c1c-4c64-a36b-937a631b9d0c",
   "metadata": {},
   "outputs": [],
   "source": [
    "students[4] = 'Sanjeet Sharma'"
   ]
  },
  {
   "cell_type": "code",
   "execution_count": 48,
   "id": "d6e44101-0caa-4488-ac8c-9095f6a85d39",
   "metadata": {},
   "outputs": [
    {
     "name": "stdout",
     "output_type": "stream",
     "text": [
      "['Ajay', 'Vijay Shekhar Sharma', 'Karan', 'Abbas Mehdi', 'Sanjeet Sharma']\n"
     ]
    }
   ],
   "source": [
    "print(students)"
   ]
  },
  {
   "cell_type": "code",
   "execution_count": 50,
   "id": "72b6b3e4-1db5-4891-b510-1e3a4e84c90f",
   "metadata": {},
   "outputs": [],
   "source": [
    "a = 'Ajay'"
   ]
  },
  {
   "cell_type": "code",
   "execution_count": 54,
   "id": "dbe9516e-d12f-48de-bc2c-f8b059c6ba41",
   "metadata": {},
   "outputs": [
    {
     "ename": "TypeError",
     "evalue": "'str' object does not support item assignment",
     "output_type": "error",
     "traceback": [
      "\u001b[1;31m---------------------------------------------------------------------------\u001b[0m",
      "\u001b[1;31mTypeError\u001b[0m                                 Traceback (most recent call last)",
      "Cell \u001b[1;32mIn[54], line 1\u001b[0m\n\u001b[1;32m----> 1\u001b[0m a[\u001b[38;5;241m1\u001b[39m] \u001b[38;5;241m=\u001b[39m \u001b[38;5;124m'\u001b[39m\u001b[38;5;124mk\u001b[39m\u001b[38;5;124m'\u001b[39m\n",
      "\u001b[1;31mTypeError\u001b[0m: 'str' object does not support item assignment"
     ]
    }
   ],
   "source": [
    "a[1] = 'k'"
   ]
  },
  {
   "cell_type": "code",
   "execution_count": 56,
   "id": "c3a6730e-4e25-4778-b55d-4264525c8576",
   "metadata": {},
   "outputs": [],
   "source": [
    "# list support item assignment"
   ]
  },
  {
   "cell_type": "code",
   "execution_count": 58,
   "id": "2bc3c7ac-3757-4a26-811e-27905486458d",
   "metadata": {},
   "outputs": [],
   "source": [
    "# str does not support item assignment"
   ]
  },
  {
   "cell_type": "code",
   "execution_count": 60,
   "id": "bec6fe9c-623a-4e14-ac7a-084ce0580efb",
   "metadata": {},
   "outputs": [
    {
     "name": "stdout",
     "output_type": "stream",
     "text": [
      "['Ajay', 'Vijay Shekhar Sharma', 'Karan', 'Abbas Mehdi', 'Sanjeet Sharma']\n"
     ]
    }
   ],
   "source": [
    "print(students)"
   ]
  },
  {
   "cell_type": "code",
   "execution_count": 62,
   "id": "ca54ef8d-5ceb-4406-9571-17170abe49ba",
   "metadata": {},
   "outputs": [],
   "source": [
    "# slice"
   ]
  },
  {
   "cell_type": "code",
   "execution_count": 68,
   "id": "c7f5bc5a-a343-495c-8419-60d028408308",
   "metadata": {},
   "outputs": [
    {
     "data": {
      "text/plain": [
       "['Ajay', 'Vijay Shekhar Sharma', 'Karan']"
      ]
     },
     "execution_count": 68,
     "metadata": {},
     "output_type": "execute_result"
    }
   ],
   "source": [
    "students[:3]"
   ]
  },
  {
   "cell_type": "code",
   "execution_count": 70,
   "id": "a7130c88-f539-4169-9299-c36707a43fc7",
   "metadata": {},
   "outputs": [
    {
     "data": {
      "text/plain": [
       "['Karan', 'Abbas Mehdi', 'Sanjeet Sharma']"
      ]
     },
     "execution_count": 70,
     "metadata": {},
     "output_type": "execute_result"
    }
   ],
   "source": [
    "students[2:]"
   ]
  },
  {
   "cell_type": "code",
   "execution_count": 72,
   "id": "38439800-65d6-4824-9fa1-d44dc83b7f4a",
   "metadata": {},
   "outputs": [],
   "source": [
    "students[2:] = ['A','B','C']"
   ]
  },
  {
   "cell_type": "code",
   "execution_count": 74,
   "id": "40e8d178-307b-4272-8b19-48ee199ce4a1",
   "metadata": {},
   "outputs": [
    {
     "name": "stdout",
     "output_type": "stream",
     "text": [
      "['Ajay', 'Vijay Shekhar Sharma', 'A', 'B', 'C']\n"
     ]
    }
   ],
   "source": [
    "print(students)"
   ]
  },
  {
   "cell_type": "code",
   "execution_count": 82,
   "id": "d533d7d4-7110-492f-8307-41286b874616",
   "metadata": {},
   "outputs": [],
   "source": [
    "students[2:] = [1,2]"
   ]
  },
  {
   "cell_type": "code",
   "execution_count": 84,
   "id": "095f224e-c502-49fb-a2ff-685ba41bbfcf",
   "metadata": {},
   "outputs": [
    {
     "name": "stdout",
     "output_type": "stream",
     "text": [
      "['Ajay', 'Vijay Shekhar Sharma', 1, 2]\n"
     ]
    }
   ],
   "source": [
    "print(students)"
   ]
  },
  {
   "cell_type": "code",
   "execution_count": 100,
   "id": "e50212f8-be0d-4ec6-becd-c151022e5d79",
   "metadata": {},
   "outputs": [
    {
     "data": {
      "text/plain": [
       "['Ajay', 'Vijay', 'Karan', 'Abbas', 'Sanjeet']"
      ]
     },
     "execution_count": 100,
     "metadata": {},
     "output_type": "execute_result"
    }
   ],
   "source": [
    "students"
   ]
  },
  {
   "cell_type": "code",
   "execution_count": 102,
   "id": "9aae02b1-0472-47c7-a9fd-ffd751a95674",
   "metadata": {},
   "outputs": [
    {
     "data": {
      "text/plain": [
       "['Vijay', 'Karan', 'Abbas', 'Sanjeet']"
      ]
     },
     "execution_count": 102,
     "metadata": {},
     "output_type": "execute_result"
    }
   ],
   "source": [
    "students[1:]"
   ]
  },
  {
   "cell_type": "code",
   "execution_count": 108,
   "id": "561280d8-d3dc-4aa3-bd3b-37132bf52afc",
   "metadata": {},
   "outputs": [],
   "source": [
    "students[1:] = ()"
   ]
  },
  {
   "cell_type": "code",
   "execution_count": 110,
   "id": "861ec2af-a5ae-4da5-8ae8-2d367e1c2e03",
   "metadata": {},
   "outputs": [
    {
     "name": "stdout",
     "output_type": "stream",
     "text": [
      "['Ajay']\n"
     ]
    }
   ],
   "source": [
    "print(students)"
   ]
  },
  {
   "cell_type": "code",
   "execution_count": 112,
   "id": "7b32ae8d-c64b-4833-a68f-62c09c512af9",
   "metadata": {},
   "outputs": [],
   "source": [
    "students = ['Ajay','Vijay','Karan','Abbas','Sanjeet']"
   ]
  },
  {
   "cell_type": "code",
   "execution_count": 116,
   "id": "8791f129-d7eb-4fcc-b5fe-44da64747ad5",
   "metadata": {},
   "outputs": [
    {
     "data": {
      "text/plain": [
       "['Abbas', 'Sanjeet']"
      ]
     },
     "execution_count": 116,
     "metadata": {},
     "output_type": "execute_result"
    }
   ],
   "source": [
    "students[3:]"
   ]
  },
  {
   "cell_type": "code",
   "execution_count": 122,
   "id": "ff715040-281d-404a-ad6e-32495fba68c8",
   "metadata": {},
   "outputs": [],
   "source": [
    "students[3:] = [3,'Mohan',55,None,'Ajay',76,8]"
   ]
  },
  {
   "cell_type": "code",
   "execution_count": 124,
   "id": "625455d7-198e-4ddc-89cf-a363c1f98845",
   "metadata": {},
   "outputs": [
    {
     "name": "stdout",
     "output_type": "stream",
     "text": [
      "['Ajay', 'Vijay', 'Karan', 3, 'Mohan', 55, None, 'Ajay', 76, 8]\n"
     ]
    }
   ],
   "source": [
    "print(students)"
   ]
  },
  {
   "cell_type": "code",
   "execution_count": 132,
   "id": "23d41a02-846e-45cd-b8d7-094d03713fd7",
   "metadata": {},
   "outputs": [],
   "source": [
    "students[3:] = ['@','.','#','$']"
   ]
  },
  {
   "cell_type": "code",
   "execution_count": 128,
   "id": "7c4299c1-2f2f-42a2-bee3-61d29d337b27",
   "metadata": {},
   "outputs": [
    {
     "name": "stdout",
     "output_type": "stream",
     "text": [
      "['Ajay', 'Vijay', 'Karan', '@', '.', '#', '$']\n"
     ]
    }
   ],
   "source": [
    "print(students)"
   ]
  },
  {
   "cell_type": "code",
   "execution_count": 134,
   "id": "d296042b-60ab-4f7f-b533-009d6c41cbb9",
   "metadata": {},
   "outputs": [],
   "source": [
    "data = [1,2,3,4,5,6,7,8,9,10]"
   ]
  },
  {
   "cell_type": "code",
   "execution_count": 136,
   "id": "074b9564-90da-4c6e-9161-d812addf8a17",
   "metadata": {},
   "outputs": [],
   "source": [
    "# range"
   ]
  },
  {
   "cell_type": "code",
   "execution_count": 138,
   "id": "9f2d2841-ea0c-4ec4-9100-6fb21a6aed7b",
   "metadata": {},
   "outputs": [
    {
     "data": {
      "text/plain": [
       "[1, 2, 3, 4, 5, 6, 7, 8, 9, 10]"
      ]
     },
     "execution_count": 138,
     "metadata": {},
     "output_type": "execute_result"
    }
   ],
   "source": [
    "list(range(1,11))"
   ]
  },
  {
   "cell_type": "code",
   "execution_count": 140,
   "id": "5d3745cb-8461-4d58-89a0-db9f4703b921",
   "metadata": {},
   "outputs": [],
   "source": [
    "# [Start:Stop:Step]\n",
    "# range(start,Stop,Step)"
   ]
  },
  {
   "cell_type": "code",
   "execution_count": 148,
   "id": "eef5fcf9-4768-4bc3-8899-3e147156f346",
   "metadata": {},
   "outputs": [
    {
     "name": "stdout",
     "output_type": "stream",
     "text": [
      "[2, 4, 6, 8, 10, 12, 14, 16, 18, 20]\n"
     ]
    }
   ],
   "source": [
    "two_table = list(range(2,21,2))\n",
    "print(two_table)"
   ]
  },
  {
   "cell_type": "code",
   "execution_count": 150,
   "id": "1e371ccc-cbfc-4439-b993-743bc68aecd8",
   "metadata": {},
   "outputs": [
    {
     "name": "stdout",
     "output_type": "stream",
     "text": [
      "[17, 34, 51, 68, 85, 102, 119, 136, 153, 170]\n"
     ]
    }
   ],
   "source": [
    "table = list(range(17,171,17))\n",
    "print(table)"
   ]
  },
  {
   "cell_type": "code",
   "execution_count": 154,
   "id": "a65b4b0f-34df-4ba5-943f-ef8acecd2995",
   "metadata": {},
   "outputs": [
    {
     "name": "stdout",
     "output_type": "stream",
     "text": [
      "[1, 4, 7, 10, 13, 16, 19, 22, 25, 28, 31, 34, 37, 40, 43, 46, 49, 52, 55, 58, 61, 64, 67, 70, 73, 76, 79, 82, 85, 88, 91, 94, 97, 100, 103, 106, 109, 112, 115, 118, 121, 124, 127, 130, 133, 136, 139, 142, 145, 148, 151, 154, 157, 160, 163, 166, 169, 172, 175, 178, 181, 184, 187, 190, 193, 196, 199, 202, 205, 208, 211, 214, 217, 220, 223, 226, 229, 232, 235, 238, 241, 244, 247, 250, 253, 256, 259, 262, 265, 268, 271, 274, 277, 280, 283, 286, 289, 292, 295, 298, 301, 304, 307, 310, 313, 316, 319, 322, 325, 328, 331, 334, 337, 340, 343, 346, 349, 352, 355, 358, 361, 364, 367, 370, 373, 376, 379, 382, 385, 388, 391, 394, 397, 400, 403, 406, 409, 412, 415, 418, 421, 424, 427, 430, 433, 436, 439, 442, 445, 448, 451, 454, 457, 460, 463, 466, 469, 472, 475, 478, 481, 484, 487, 490, 493, 496, 499, 502, 505, 508, 511, 514, 517, 520, 523, 526, 529, 532, 535, 538, 541, 544, 547, 550, 553, 556, 559, 562, 565, 568, 571, 574, 577, 580, 583, 586, 589, 592, 595, 598, 601, 604, 607, 610, 613, 616, 619, 622, 625, 628, 631, 634, 637, 640, 643, 646, 649, 652, 655, 658, 661, 664, 667, 670, 673, 676, 679, 682, 685, 688, 691, 694, 697, 700, 703, 706, 709, 712, 715, 718, 721, 724, 727, 730, 733, 736, 739, 742, 745, 748, 751, 754, 757, 760, 763, 766, 769, 772, 775, 778, 781, 784, 787, 790, 793, 796, 799, 802, 805, 808, 811, 814, 817, 820, 823, 826, 829, 832, 835, 838, 841, 844, 847, 850, 853, 856, 859, 862, 865, 868, 871, 874, 877, 880, 883, 886, 889, 892, 895, 898, 901, 904, 907, 910, 913, 916, 919, 922, 925, 928, 931, 934, 937, 940, 943, 946, 949, 952, 955, 958, 961, 964, 967, 970, 973, 976, 979, 982, 985, 988, 991, 994, 997, 1000]\n"
     ]
    }
   ],
   "source": [
    "print(list(range(1,1001,3)))"
   ]
  },
  {
   "cell_type": "code",
   "execution_count": 162,
   "id": "01a18c49-d887-41a2-9d35-131d68247891",
   "metadata": {},
   "outputs": [
    {
     "name": "stdout",
     "output_type": "stream",
     "text": [
      "[1, 3, 5, 7, 9, 11, 13, 15, 17, 19, 21, 23, 25, 27, 29]\n"
     ]
    }
   ],
   "source": [
    "print(list(range(1,30,2)))"
   ]
  },
  {
   "cell_type": "code",
   "execution_count": 164,
   "id": "e9d482e3-b95d-41a0-8dcd-791cec366f23",
   "metadata": {},
   "outputs": [
    {
     "name": "stdout",
     "output_type": "stream",
     "text": [
      "[1, 3, 5, 7, 9, 11, 13, 15, 17, 19, 21, 23, 25, 27, 29]\n"
     ]
    }
   ],
   "source": [
    "data = list(range(1,30,2))\n",
    "print(data)"
   ]
  },
  {
   "cell_type": "code",
   "execution_count": 168,
   "id": "9548f240-f95d-4131-9ef7-1e4d7ec2ead3",
   "metadata": {},
   "outputs": [],
   "source": [
    "data[7] = 1500"
   ]
  },
  {
   "cell_type": "code",
   "execution_count": 170,
   "id": "e2895a70-f5cb-4efe-971c-375162056cbc",
   "metadata": {},
   "outputs": [
    {
     "name": "stdout",
     "output_type": "stream",
     "text": [
      "[1, 3, 5, 7, 9, 11, 13, 1500, 17, 19, 21, 23, 25, 27, 29]\n"
     ]
    }
   ],
   "source": [
    "print(data)"
   ]
  },
  {
   "cell_type": "code",
   "execution_count": 174,
   "id": "11a12f1f-bac8-4870-9093-b37b32c9e735",
   "metadata": {},
   "outputs": [],
   "source": [
    "data[-3] = 2500"
   ]
  },
  {
   "cell_type": "code",
   "execution_count": 176,
   "id": "cebd0ba1-bdf5-44de-9d4e-3e4b8b971d39",
   "metadata": {},
   "outputs": [
    {
     "name": "stdout",
     "output_type": "stream",
     "text": [
      "[1, 3, 5, 7, 9, 11, 13, 1500, 17, 19, 21, 23, 2500, 27, 29]\n"
     ]
    }
   ],
   "source": [
    "print(data)"
   ]
  },
  {
   "cell_type": "code",
   "execution_count": 178,
   "id": "36245c57-ffa3-43b4-8e18-ae9a9db786ca",
   "metadata": {},
   "outputs": [],
   "source": [
    "# \n",
    "\n",
    "a = [23,54,567]\n",
    "b = [34,65,76]"
   ]
  },
  {
   "cell_type": "code",
   "execution_count": 180,
   "id": "830bf681-48b0-4d3f-a84c-8874412a296d",
   "metadata": {},
   "outputs": [
    {
     "name": "stdout",
     "output_type": "stream",
     "text": [
      "[23, 54, 567]\n"
     ]
    }
   ],
   "source": [
    "print(a)"
   ]
  },
  {
   "cell_type": "code",
   "execution_count": 182,
   "id": "f4560d74-cef2-4319-882a-f461f42e6c94",
   "metadata": {},
   "outputs": [
    {
     "name": "stdout",
     "output_type": "stream",
     "text": [
      "[34, 65, 76]\n"
     ]
    }
   ],
   "source": [
    "print(b)"
   ]
  },
  {
   "cell_type": "code",
   "execution_count": 186,
   "id": "fd337d46-6cc3-4db3-876a-cb55b6523f16",
   "metadata": {},
   "outputs": [
    {
     "data": {
      "text/plain": [
       "[23, 54, 567, 34, 65, 76, 23, 54, 567]"
      ]
     },
     "execution_count": 186,
     "metadata": {},
     "output_type": "execute_result"
    }
   ],
   "source": [
    "a + b + a"
   ]
  },
  {
   "cell_type": "code",
   "execution_count": 188,
   "id": "9fb7b45f-a8bb-491a-b064-7e9016079e08",
   "metadata": {},
   "outputs": [],
   "source": [
    "a = [2,354,6567,6]"
   ]
  },
  {
   "cell_type": "code",
   "execution_count": 190,
   "id": "059e3132-3ca7-4e5c-9ed4-aca4d3eed8a9",
   "metadata": {},
   "outputs": [
    {
     "data": {
      "text/plain": [
       "[2, 354, 6567, 6, 2, 354, 6567, 6]"
      ]
     },
     "execution_count": 190,
     "metadata": {},
     "output_type": "execute_result"
    }
   ],
   "source": [
    "a * 2"
   ]
  },
  {
   "cell_type": "code",
   "execution_count": 196,
   "id": "f453f91d-351a-4362-8d62-fdf3d88d83d7",
   "metadata": {},
   "outputs": [
    {
     "data": {
      "text/plain": [
       "'Ajay Ajay Ajay Ajay Ajay '"
      ]
     },
     "execution_count": 196,
     "metadata": {},
     "output_type": "execute_result"
    }
   ],
   "source": [
    "a = 'Ajay '\n",
    "a * 5"
   ]
  },
  {
   "cell_type": "markdown",
   "id": "22a425ce-fc05-4511-a2f6-b25dcc715dfc",
   "metadata": {},
   "source": [
    "# List Methods"
   ]
  },
  {
   "cell_type": "code",
   "execution_count": 199,
   "id": "03d325f8-0f98-4e44-a990-2e27aa4d5430",
   "metadata": {},
   "outputs": [],
   "source": [
    "data = [3,455,67]"
   ]
  },
  {
   "cell_type": "code",
   "execution_count": 201,
   "id": "b3964437-79e9-4b6e-917a-e1a1a7d61de7",
   "metadata": {},
   "outputs": [],
   "source": [
    "# data.append\n",
    "# data.clear\n",
    "# data.copy\n",
    "# data.count\n",
    "# data.extend\n",
    "# data.index\n",
    "# data.insert\n",
    "# data.remove\n",
    "# data.pop\n",
    "# data.reverse\n",
    "# data.sort"
   ]
  },
  {
   "cell_type": "code",
   "execution_count": 203,
   "id": "a13ad588-d8ca-49df-9ba4-06443c704382",
   "metadata": {},
   "outputs": [],
   "source": [
    "students = ['Ajay','Vijay','Karan','Abbas','Sanjeet']"
   ]
  },
  {
   "cell_type": "code",
   "execution_count": 205,
   "id": "656089d8-de16-4559-b713-3ad53b2ece01",
   "metadata": {},
   "outputs": [
    {
     "name": "stdout",
     "output_type": "stream",
     "text": [
      "['Ajay', 'Vijay', 'Karan', 'Abbas', 'Sanjeet']\n"
     ]
    }
   ],
   "source": [
    "print(students)"
   ]
  },
  {
   "cell_type": "code",
   "execution_count": 215,
   "id": "aee1aeca-43dc-45c9-9d8e-efb10926b47c",
   "metadata": {},
   "outputs": [],
   "source": [
    "students.append('Mysql')"
   ]
  },
  {
   "cell_type": "code",
   "execution_count": 217,
   "id": "474c81ba-478e-4581-ad16-44f1d61a7db5",
   "metadata": {},
   "outputs": [
    {
     "name": "stdout",
     "output_type": "stream",
     "text": [
      "['Ajay', 'Vijay', 'Karan', 'Abbas', 'Sanjeet', 'Ankit', 'Python', 'Mysql']\n"
     ]
    }
   ],
   "source": [
    "print(students)"
   ]
  },
  {
   "cell_type": "code",
   "execution_count": 221,
   "id": "a45ce7b2-632a-4f47-b920-eb88e085918e",
   "metadata": {},
   "outputs": [],
   "source": [
    "# append:- koi bhi data append ho jayge"
   ]
  },
  {
   "cell_type": "code",
   "execution_count": 223,
   "id": "f0b0b34e-18d6-45c6-9014-466cf389e8bc",
   "metadata": {},
   "outputs": [],
   "source": [
    "students.append(['KBC','CID','Big Boss'])"
   ]
  },
  {
   "cell_type": "code",
   "execution_count": 225,
   "id": "cb080425-f663-44c2-ba6b-a36bc71528d8",
   "metadata": {},
   "outputs": [
    {
     "name": "stdout",
     "output_type": "stream",
     "text": [
      "['Ajay', 'Vijay', 'Karan', 'Abbas', 'Sanjeet', 'Ankit', 'Python', 'Mysql', ['KBC', 'CID', 'Big Boss']]\n"
     ]
    }
   ],
   "source": [
    "print(students)"
   ]
  },
  {
   "cell_type": "code",
   "execution_count": 227,
   "id": "745f723a-7513-4d5a-9ffb-5b48dfd69af1",
   "metadata": {},
   "outputs": [],
   "source": [
    "students.extend(['A','B','C','D'])"
   ]
  },
  {
   "cell_type": "code",
   "execution_count": 229,
   "id": "38eff641-b004-47c2-a094-5c3bda08ecc5",
   "metadata": {},
   "outputs": [
    {
     "name": "stdout",
     "output_type": "stream",
     "text": [
      "['Ajay', 'Vijay', 'Karan', 'Abbas', 'Sanjeet', 'Ankit', 'Python', 'Mysql', ['KBC', 'CID', 'Big Boss'], 'A', 'B', 'C', 'D']\n"
     ]
    }
   ],
   "source": [
    "print(students)"
   ]
  },
  {
   "cell_type": "code",
   "execution_count": 231,
   "id": "e14b419c-411b-4716-94c0-43d0f2f9988a",
   "metadata": {},
   "outputs": [],
   "source": [
    "students.append((1,2,3,54))"
   ]
  },
  {
   "cell_type": "code",
   "execution_count": 233,
   "id": "cc69039a-af0e-466f-bd1b-b1aacc448d67",
   "metadata": {},
   "outputs": [
    {
     "name": "stdout",
     "output_type": "stream",
     "text": [
      "['Ajay', 'Vijay', 'Karan', 'Abbas', 'Sanjeet', 'Ankit', 'Python', 'Mysql', ['KBC', 'CID', 'Big Boss'], 'A', 'B', 'C', 'D', (1, 2, 3, 54)]\n"
     ]
    }
   ],
   "source": [
    "print(students)"
   ]
  },
  {
   "cell_type": "code",
   "execution_count": 235,
   "id": "86338329-2a80-4b44-9823-0a4e16a1c5f9",
   "metadata": {},
   "outputs": [],
   "source": [
    "students.extend((6,7,8,9))"
   ]
  },
  {
   "cell_type": "code",
   "execution_count": 237,
   "id": "1437ec05-6ae4-4bb8-a37f-7783947fb9ca",
   "metadata": {},
   "outputs": [
    {
     "name": "stdout",
     "output_type": "stream",
     "text": [
      "['Ajay', 'Vijay', 'Karan', 'Abbas', 'Sanjeet', 'Ankit', 'Python', 'Mysql', ['KBC', 'CID', 'Big Boss'], 'A', 'B', 'C', 'D', (1, 2, 3, 54), 6, 7, 8, 9]\n"
     ]
    }
   ],
   "source": [
    "print(students)"
   ]
  },
  {
   "cell_type": "code",
   "execution_count": 239,
   "id": "d639282f-361e-4a25-8a68-40d2324cacc9",
   "metadata": {},
   "outputs": [],
   "source": [
    "# Insert"
   ]
  },
  {
   "cell_type": "code",
   "execution_count": 243,
   "id": "e99ac644-d453-4a65-8c95-7ed0b66ab930",
   "metadata": {},
   "outputs": [
    {
     "name": "stdout",
     "output_type": "stream",
     "text": [
      "['Ajay', 'Vijay', 'Karan', 'Abbas', 'Sanjeet', 'Ankit', 'Python', 'Mysql', ['KBC', 'CID', 'Big Boss'], 'A', 'B', 'C', 'D', (1, 2, 3, 54), 6, 7, 8, 9]\n"
     ]
    }
   ],
   "source": [
    "print(students)"
   ]
  },
  {
   "cell_type": "code",
   "execution_count": 245,
   "id": "d35d1e83-17f4-4f3f-8a14-256387842cf9",
   "metadata": {},
   "outputs": [],
   "source": [
    "students.insert(2,None)"
   ]
  },
  {
   "cell_type": "code",
   "execution_count": 247,
   "id": "d9d0f72f-c1a5-4fc1-a468-aeaad089efd3",
   "metadata": {},
   "outputs": [
    {
     "name": "stdout",
     "output_type": "stream",
     "text": [
      "['Ajay', 'Vijay', None, 'Karan', 'Abbas', 'Sanjeet', 'Ankit', 'Python', 'Mysql', ['KBC', 'CID', 'Big Boss'], 'A', 'B', 'C', 'D', (1, 2, 3, 54), 6, 7, 8, 9]\n"
     ]
    }
   ],
   "source": [
    "print(students)"
   ]
  },
  {
   "cell_type": "code",
   "execution_count": 249,
   "id": "a6de1fd3-2968-457f-8269-61efba0906b3",
   "metadata": {},
   "outputs": [],
   "source": [
    "students.insert(6,'Bahubali')"
   ]
  },
  {
   "cell_type": "code",
   "execution_count": 251,
   "id": "8ddb9cbe-cc57-4086-b0c4-df4a28f3358a",
   "metadata": {},
   "outputs": [
    {
     "name": "stdout",
     "output_type": "stream",
     "text": [
      "['Ajay', 'Vijay', None, 'Karan', 'Abbas', 'Sanjeet', 'Bahubali', 'Ankit', 'Python', 'Mysql', ['KBC', 'CID', 'Big Boss'], 'A', 'B', 'C', 'D', (1, 2, 3, 54), 6, 7, 8, 9]\n"
     ]
    }
   ],
   "source": [
    "print(students)"
   ]
  },
  {
   "cell_type": "code",
   "execution_count": 253,
   "id": "f883c3b3-01dc-44d4-a76a-de2fcedcfb66",
   "metadata": {},
   "outputs": [],
   "source": [
    "students.insert(0,'Salman Bhai')"
   ]
  },
  {
   "cell_type": "code",
   "execution_count": 255,
   "id": "0002b96f-7564-4ecc-82bc-eb720f68a2e7",
   "metadata": {},
   "outputs": [
    {
     "name": "stdout",
     "output_type": "stream",
     "text": [
      "['Salman Bhai', 'Ajay', 'Vijay', None, 'Karan', 'Abbas', 'Sanjeet', 'Bahubali', 'Ankit', 'Python', 'Mysql', ['KBC', 'CID', 'Big Boss'], 'A', 'B', 'C', 'D', (1, 2, 3, 54), 6, 7, 8, 9]\n"
     ]
    }
   ],
   "source": [
    "print(students)"
   ]
  },
  {
   "cell_type": "code",
   "execution_count": 257,
   "id": "071750ed-7c20-4df7-83e1-58633624f160",
   "metadata": {},
   "outputs": [
    {
     "data": {
      "text/plain": [
       "21"
      ]
     },
     "execution_count": 257,
     "metadata": {},
     "output_type": "execute_result"
    }
   ],
   "source": [
    "len(students)"
   ]
  },
  {
   "cell_type": "code",
   "execution_count": 259,
   "id": "65210bc8-652d-4646-a2b9-974e49e3084f",
   "metadata": {},
   "outputs": [],
   "source": [
    "students.insert(-1,'Raju Bhai')"
   ]
  },
  {
   "cell_type": "code",
   "execution_count": 261,
   "id": "bb812b9a-979a-41dd-9ffb-11696882a669",
   "metadata": {},
   "outputs": [
    {
     "name": "stdout",
     "output_type": "stream",
     "text": [
      "['Salman Bhai', 'Ajay', 'Vijay', None, 'Karan', 'Abbas', 'Sanjeet', 'Bahubali', 'Ankit', 'Python', 'Mysql', ['KBC', 'CID', 'Big Boss'], 'A', 'B', 'C', 'D', (1, 2, 3, 54), 6, 7, 8, 'Raju Bhai', 9]\n"
     ]
    }
   ],
   "source": [
    "print(students)"
   ]
  },
  {
   "cell_type": "code",
   "execution_count": 263,
   "id": "1216b525-93ca-4409-9780-7e135ac84154",
   "metadata": {},
   "outputs": [],
   "source": [
    "students.insert(22,'Grastech')"
   ]
  },
  {
   "cell_type": "code",
   "execution_count": 265,
   "id": "9ddb7848-6a43-410e-8e1a-1ae4e1f6820e",
   "metadata": {},
   "outputs": [
    {
     "name": "stdout",
     "output_type": "stream",
     "text": [
      "['Salman Bhai', 'Ajay', 'Vijay', None, 'Karan', 'Abbas', 'Sanjeet', 'Bahubali', 'Ankit', 'Python', 'Mysql', ['KBC', 'CID', 'Big Boss'], 'A', 'B', 'C', 'D', (1, 2, 3, 54), 6, 7, 8, 'Raju Bhai', 9, 'Grastech']\n"
     ]
    }
   ],
   "source": [
    "print(students)"
   ]
  },
  {
   "cell_type": "code",
   "execution_count": 269,
   "id": "67967b8a-20e7-4547-92de-3be7485779ba",
   "metadata": {},
   "outputs": [],
   "source": [
    "students.insert(len(students),'Noida')"
   ]
  },
  {
   "cell_type": "code",
   "execution_count": 271,
   "id": "c8684cfd-3222-48e2-a224-da89f5836f55",
   "metadata": {},
   "outputs": [
    {
     "name": "stdout",
     "output_type": "stream",
     "text": [
      "['Salman Bhai', 'Ajay', 'Vijay', None, 'Karan', 'Abbas', 'Sanjeet', 'Bahubali', 'Ankit', 'Python', 'Mysql', ['KBC', 'CID', 'Big Boss'], 'A', 'B', 'C', 'D', (1, 2, 3, 54), 6, 7, 8, 'Raju Bhai', 9, 'Grastech', 'Noida']\n"
     ]
    }
   ],
   "source": [
    "print(students)"
   ]
  },
  {
   "cell_type": "code",
   "execution_count": 273,
   "id": "1f6d4b78-1457-453a-bb3d-87e32f9ad7b3",
   "metadata": {},
   "outputs": [
    {
     "data": {
      "text/plain": [
       "20"
      ]
     },
     "execution_count": 273,
     "metadata": {},
     "output_type": "execute_result"
    }
   ],
   "source": [
    "students.index('Raju Bhai')"
   ]
  },
  {
   "cell_type": "code",
   "execution_count": 275,
   "id": "c9e7c522-314a-4212-bd0b-20be64581cb9",
   "metadata": {},
   "outputs": [],
   "source": [
    "students.insert(20,'Ajay Devgan')"
   ]
  },
  {
   "cell_type": "code",
   "execution_count": 277,
   "id": "ac66b89c-dec3-4609-b2d5-2811959b599c",
   "metadata": {},
   "outputs": [
    {
     "name": "stdout",
     "output_type": "stream",
     "text": [
      "['Salman Bhai', 'Ajay', 'Vijay', None, 'Karan', 'Abbas', 'Sanjeet', 'Bahubali', 'Ankit', 'Python', 'Mysql', ['KBC', 'CID', 'Big Boss'], 'A', 'B', 'C', 'D', (1, 2, 3, 54), 6, 7, 8, 'Ajay Devgan', 'Raju Bhai', 9, 'Grastech', 'Noida']\n"
     ]
    }
   ],
   "source": [
    "print(students)"
   ]
  },
  {
   "cell_type": "code",
   "execution_count": null,
   "id": "1b0b4ec6-8774-4488-8acf-8762eb9a51a5",
   "metadata": {},
   "outputs": [],
   "source": []
  },
  {
   "cell_type": "code",
   "execution_count": 284,
   "id": "eff36dd7-1683-438d-8770-047f900735aa",
   "metadata": {},
   "outputs": [],
   "source": [
    "students.insert(students.index('Bahubali'),'BabuBhaiya')"
   ]
  },
  {
   "cell_type": "code",
   "execution_count": 286,
   "id": "f9b1dc5c-eb03-400f-9dc4-bb482a6d04eb",
   "metadata": {},
   "outputs": [
    {
     "name": "stdout",
     "output_type": "stream",
     "text": [
      "['Salman Bhai', 'Ajay', 'Vijay', None, 'Karan', 'Abbas', 'Sanjeet', 'BabuBhaiya', 'Bahubali', 'Ankit', 'Python', 'Mysql', ['KBC', 'CID', 'Big Boss'], 'A', 'B', 'C', 'D', (1, 2, 3, 54), 6, 7, 8, 'Ajay Devgan', 'Raju Bhai', 9, 'Grastech', 'Noida']\n"
     ]
    }
   ],
   "source": [
    "print(students)"
   ]
  },
  {
   "cell_type": "code",
   "execution_count": null,
   "id": "c638c8ff-11f1-4587-bd72-5f37b9f09897",
   "metadata": {},
   "outputs": [],
   "source": []
  },
  {
   "cell_type": "code",
   "execution_count": null,
   "id": "8c341761-6b88-4072-b985-8f8f997cc43b",
   "metadata": {},
   "outputs": [],
   "source": []
  },
  {
   "cell_type": "code",
   "execution_count": 302,
   "id": "e991d77a-39e7-4bdb-8d7f-5717cd251089",
   "metadata": {},
   "outputs": [],
   "source": [
    "data = ['komal','Ajay','Vijay','komal','Ajay','Mishra','komal','Lucky']"
   ]
  },
  {
   "cell_type": "code",
   "execution_count": 306,
   "id": "7292485d-ae05-4816-8654-8e604ffe1df0",
   "metadata": {},
   "outputs": [],
   "source": [
    "data.insert(data.index('komal',4),'Babu Bhiaya')"
   ]
  },
  {
   "cell_type": "code",
   "execution_count": 308,
   "id": "b304a00c-3360-4ade-b9f2-004f91600655",
   "metadata": {},
   "outputs": [
    {
     "name": "stdout",
     "output_type": "stream",
     "text": [
      "['komal', 'Ajay', 'Vijay', 'komal', 'Ajay', 'Mishra', 'Babu Bhiaya', 'komal', 'Lucky']\n"
     ]
    }
   ],
   "source": [
    "print(data)"
   ]
  },
  {
   "cell_type": "code",
   "execution_count": 314,
   "id": "84943014-8a16-4ee8-8759-80a751127f95",
   "metadata": {},
   "outputs": [
    {
     "name": "stdout",
     "output_type": "stream",
     "text": [
      "0 komal\n",
      "3 komal\n",
      "7 komal\n"
     ]
    }
   ],
   "source": [
    "for i,j in enumerate(data):\n",
    "    if j == 'komal':\n",
    "        print(i,j)"
   ]
  },
  {
   "cell_type": "code",
   "execution_count": 316,
   "id": "9f1074d7-8856-4fcf-b29d-9d4ff5faf0b0",
   "metadata": {},
   "outputs": [],
   "source": [
    "# data.clear\n",
    "# data.count"
   ]
  },
  {
   "cell_type": "code",
   "execution_count": 320,
   "id": "f2a3992b-b14a-412c-a59b-afde33b4f812",
   "metadata": {},
   "outputs": [
    {
     "name": "stdout",
     "output_type": "stream",
     "text": [
      "['komal', 'Ajay', 'Vijay', 'komal', 'Ajay', 'Mishra', 'Babu Bhiaya', 'komal', 'Lucky']\n"
     ]
    }
   ],
   "source": [
    "print(data)"
   ]
  },
  {
   "cell_type": "code",
   "execution_count": 322,
   "id": "fb4657da-fa87-4090-afa0-d33385e305bf",
   "metadata": {},
   "outputs": [
    {
     "data": {
      "text/plain": [
       "3"
      ]
     },
     "execution_count": 322,
     "metadata": {},
     "output_type": "execute_result"
    }
   ],
   "source": [
    "data.count('komal')"
   ]
  },
  {
   "cell_type": "code",
   "execution_count": 324,
   "id": "5ca2fda6-ed92-4c0e-b038-d7b755a9f872",
   "metadata": {},
   "outputs": [],
   "source": [
    "data = [33,3,3,4,4,4,4,4,4,4,55,5,5,5,5,5,5,5,5,5,5,56,6,6,6,6,6]"
   ]
  },
  {
   "cell_type": "code",
   "execution_count": 326,
   "id": "bd7eb447-bd57-4391-833f-54d9e7e975bf",
   "metadata": {},
   "outputs": [
    {
     "data": {
      "text/plain": [
       "10"
      ]
     },
     "execution_count": 326,
     "metadata": {},
     "output_type": "execute_result"
    }
   ],
   "source": [
    "data.count(5)"
   ]
  },
  {
   "cell_type": "code",
   "execution_count": 330,
   "id": "4ac92ce0-2651-4e76-97e6-3fa36d53edba",
   "metadata": {},
   "outputs": [
    {
     "name": "stdout",
     "output_type": "stream",
     "text": [
      "[33, 3, 3, 4, 4, 4, 4, 4, 4, 4, 55, 5, 5, 5, 5, 5, 5, 5, 5, 5, 5, 56, 6, 6, 6, 6, 6]\n"
     ]
    }
   ],
   "source": [
    "print(data)"
   ]
  },
  {
   "cell_type": "code",
   "execution_count": 332,
   "id": "53ab6a6b-af1f-4a6e-adcd-b2431aa7d7ef",
   "metadata": {},
   "outputs": [],
   "source": [
    "data.clear()"
   ]
  },
  {
   "cell_type": "code",
   "execution_count": 334,
   "id": "28a83e37-81f8-4f55-84bb-bd41ea70aad8",
   "metadata": {},
   "outputs": [
    {
     "name": "stdout",
     "output_type": "stream",
     "text": [
      "[]\n"
     ]
    }
   ],
   "source": [
    "print(data)"
   ]
  },
  {
   "cell_type": "code",
   "execution_count": 336,
   "id": "39faefed-0ca9-4dc9-ab84-8d22095a6455",
   "metadata": {},
   "outputs": [],
   "source": [
    "# khali list:- Empty list"
   ]
  },
  {
   "cell_type": "code",
   "execution_count": 338,
   "id": "53d35de9-2cfb-4336-b5ef-9feb7db16688",
   "metadata": {},
   "outputs": [
    {
     "name": "stdout",
     "output_type": "stream",
     "text": [
      "[]\n"
     ]
    }
   ],
   "source": [
    "a = []\n",
    "print(a)"
   ]
  },
  {
   "cell_type": "code",
   "execution_count": 342,
   "id": "962ec765-ff3b-409d-8100-d682bd62656c",
   "metadata": {},
   "outputs": [
    {
     "data": {
      "text/plain": [
       "26"
      ]
     },
     "execution_count": 342,
     "metadata": {},
     "output_type": "execute_result"
    }
   ],
   "source": [
    "len(students)"
   ]
  },
  {
   "cell_type": "code",
   "execution_count": 344,
   "id": "b3a881b3-ad15-41c8-abca-4519ba574810",
   "metadata": {},
   "outputs": [],
   "source": [
    "students.clear()"
   ]
  },
  {
   "cell_type": "code",
   "execution_count": 346,
   "id": "ca5fda71-cd60-4175-9302-3037270a3dc4",
   "metadata": {},
   "outputs": [
    {
     "name": "stdout",
     "output_type": "stream",
     "text": [
      "[]\n"
     ]
    }
   ],
   "source": [
    "print(students)"
   ]
  },
  {
   "cell_type": "code",
   "execution_count": null,
   "id": "5e774178-b70c-41f8-8523-5b49fee5dfe3",
   "metadata": {},
   "outputs": [],
   "source": []
  }
 ],
 "metadata": {
  "kernelspec": {
   "display_name": "Python [conda env:base] *",
   "language": "python",
   "name": "conda-base-py"
  },
  "language_info": {
   "codemirror_mode": {
    "name": "ipython",
    "version": 3
   },
   "file_extension": ".py",
   "mimetype": "text/x-python",
   "name": "python",
   "nbconvert_exporter": "python",
   "pygments_lexer": "ipython3",
   "version": "3.12.7"
  }
 },
 "nbformat": 4,
 "nbformat_minor": 5
}
