{
 "cells": [
  {
   "cell_type": "markdown",
   "id": "697bb741-a146-4eaa-bdcc-2e864d9b5bca",
   "metadata": {},
   "source": [
    "# File Handling"
   ]
  },
  {
   "cell_type": "markdown",
   "id": "6f83f8c2-facd-4c81-90ff-d3dba82a7dca",
   "metadata": {},
   "source": [
    "# Textual File\n",
    "    - Notepad, .html, .txt, .java, .py, .csv, .tsv, .json, .xml\n",
    "# Binary File:\n",
    "    - Software: .exe, .xlsx, .mp3, .mp4, .jpeg, .png"
   ]
  },
  {
   "cell_type": "code",
   "execution_count": 4,
   "id": "c8f54bf7-1d21-4072-a94c-6c4aa69c2520",
   "metadata": {},
   "outputs": [],
   "source": [
    "# manage: open, close, copy, read, write, data add"
   ]
  },
  {
   "cell_type": "code",
   "execution_count": null,
   "id": "5500ebfe-797f-473d-ae18-96654cbf9862",
   "metadata": {},
   "outputs": [],
   "source": []
  },
  {
   "cell_type": "code",
   "execution_count": 7,
   "id": "3d107711-674b-4963-9500-beaa523f59dd",
   "metadata": {},
   "outputs": [],
   "source": [
    "# open, close, read"
   ]
  },
  {
   "cell_type": "code",
   "execution_count": 21,
   "id": "77d0f82e-6d61-4ff0-91be-15951ac0b8dd",
   "metadata": {},
   "outputs": [
    {
     "name": "stdout",
     "output_type": "stream",
     "text": [
      "Done\n"
     ]
    }
   ],
   "source": [
    "file = open(r\"C:\\Users\\salma\\OneDrive\\Desktop\\nse_data.json\")\n",
    "data = file.read(100)\n",
    "file.close()\n",
    "print('Done')"
   ]
  },
  {
   "cell_type": "code",
   "execution_count": 35,
   "id": "c4cb057f-51e5-488f-bc90-cc66f800a91f",
   "metadata": {},
   "outputs": [
    {
     "data": {
      "text/plain": [
       "'{\"data\":[{\"name\":\"Footer\",\"term_id\":\"250\",\"url\":\"\",\"key\":\"footer\",\"type\":\"\",\"banner\":\"\",\"items\":[{\"n'"
      ]
     },
     "execution_count": 35,
     "metadata": {},
     "output_type": "execute_result"
    }
   ],
   "source": [
    "data"
   ]
  },
  {
   "cell_type": "code",
   "execution_count": 25,
   "id": "26117846-2dc4-4dc4-a7c5-8134f925be61",
   "metadata": {},
   "outputs": [
    {
     "name": "stdout",
     "output_type": "stream",
     "text": [
      "Done\n"
     ]
    }
   ],
   "source": [
    "f = open(r\"C:\\Users\\salma\\OneDrive\\Desktop\\EMP_DETAILS_GRASTECH.csv\")\n",
    "all_data = f.read()\n",
    "f.close()\n",
    "print('Done')"
   ]
  },
  {
   "cell_type": "code",
   "execution_count": 31,
   "id": "c519b4fa-ef5d-44bb-a3da-baaeed013494",
   "metadata": {},
   "outputs": [
    {
     "name": "stdout",
     "output_type": "stream",
     "text": [
      "EID,NAME,DEPT,SID,PID\n",
      "1,JATIN,IT,S101,P111\n",
      "2,HARRY,HR,S105,P112\n",
      "3,GAURAV,SALES,S109,P101\n",
      "4,MADAN,IT,S102,P118\n",
      "5,AKSHAY,ADMIN,S104,P120\n",
      "\n"
     ]
    }
   ],
   "source": [
    "print(all_data)"
   ]
  },
  {
   "cell_type": "code",
   "execution_count": 39,
   "id": "6675844a-5f26-42b7-9f79-559ffa3aa8b7",
   "metadata": {},
   "outputs": [],
   "source": [
    "d = '{data:[1,2,3]}'"
   ]
  },
  {
   "cell_type": "code",
   "execution_count": 41,
   "id": "2d07e156-3bb7-4489-8fa5-60113618d878",
   "metadata": {},
   "outputs": [
    {
     "data": {
      "text/plain": [
       "'{data:[1,2,3]}'"
      ]
     },
     "execution_count": 41,
     "metadata": {},
     "output_type": "execute_result"
    }
   ],
   "source": [
    "d"
   ]
  },
  {
   "cell_type": "code",
   "execution_count": 45,
   "id": "a820dd16-35d0-47ef-af25-f8a2724a6602",
   "metadata": {},
   "outputs": [
    {
     "ename": "UnicodeDecodeError",
     "evalue": "'charmap' codec can't decode byte 0x90 in position 10: character maps to <undefined>",
     "output_type": "error",
     "traceback": [
      "\u001b[1;31m---------------------------------------------------------------------------\u001b[0m",
      "\u001b[1;31mUnicodeDecodeError\u001b[0m                        Traceback (most recent call last)",
      "Cell \u001b[1;32mIn[45], line 2\u001b[0m\n\u001b[0;32m      1\u001b[0m fi \u001b[38;5;241m=\u001b[39m \u001b[38;5;28mopen\u001b[39m(\u001b[38;5;124mr\u001b[39m\u001b[38;5;124m\"\u001b[39m\u001b[38;5;124mC:\u001b[39m\u001b[38;5;124m\\\u001b[39m\u001b[38;5;124mUsers\u001b[39m\u001b[38;5;124m\\\u001b[39m\u001b[38;5;124msalma\u001b[39m\u001b[38;5;124m\\\u001b[39m\u001b[38;5;124mDownloads\u001b[39m\u001b[38;5;124m\\\u001b[39m\u001b[38;5;124mchime-alert-demo-309545.mp3\u001b[39m\u001b[38;5;124m\"\u001b[39m)\n\u001b[1;32m----> 2\u001b[0m fi\u001b[38;5;241m.\u001b[39mread()\n",
      "File \u001b[1;32m~\\anaconda3\\Lib\\encodings\\cp1252.py:23\u001b[0m, in \u001b[0;36mIncrementalDecoder.decode\u001b[1;34m(self, input, final)\u001b[0m\n\u001b[0;32m     22\u001b[0m \u001b[38;5;28;01mdef\u001b[39;00m \u001b[38;5;21mdecode\u001b[39m(\u001b[38;5;28mself\u001b[39m, \u001b[38;5;28minput\u001b[39m, final\u001b[38;5;241m=\u001b[39m\u001b[38;5;28;01mFalse\u001b[39;00m):\n\u001b[1;32m---> 23\u001b[0m     \u001b[38;5;28;01mreturn\u001b[39;00m codecs\u001b[38;5;241m.\u001b[39mcharmap_decode(\u001b[38;5;28minput\u001b[39m,\u001b[38;5;28mself\u001b[39m\u001b[38;5;241m.\u001b[39merrors,decoding_table)[\u001b[38;5;241m0\u001b[39m]\n",
      "\u001b[1;31mUnicodeDecodeError\u001b[0m: 'charmap' codec can't decode byte 0x90 in position 10: character maps to <undefined>"
     ]
    }
   ],
   "source": [
    "fi = open(r\"C:\\Users\\salma\\Downloads\\chime-alert-demo-309545.mp3\")\n",
    "fi.read()"
   ]
  },
  {
   "cell_type": "code",
   "execution_count": 51,
   "id": "8e58b90e-1b27-47eb-bc6b-046e4daa48e5",
   "metadata": {},
   "outputs": [
    {
     "name": "stdout",
     "output_type": "stream",
     "text": [
      "['EID,NAME,DEPT,SID,PID', '1,JATIN,IT,S101,P111', '2,HARRY,HR,S105,P112', '3,GAURAV,SALES,S109,P101', '4,MADAN,IT,S102,P118', '5,AKSHAY,ADMIN,S104,P120']\n"
     ]
    }
   ],
   "source": [
    "print(all_data.splitlines())"
   ]
  },
  {
   "cell_type": "code",
   "execution_count": 55,
   "id": "f16c51b7-fe92-442d-81cd-e143465ab2cd",
   "metadata": {},
   "outputs": [
    {
     "data": {
      "text/plain": [
       "['EID', 'NAME', 'DEPT', 'SID', 'PID']"
      ]
     },
     "execution_count": 55,
     "metadata": {},
     "output_type": "execute_result"
    }
   ],
   "source": [
    "all_data.splitlines()[0].split(',')"
   ]
  },
  {
   "cell_type": "code",
   "execution_count": 57,
   "id": "3fc77cfa-2347-41ea-a0bc-879a9f28ea35",
   "metadata": {},
   "outputs": [
    {
     "data": {
      "text/plain": [
       "['1', 'JATIN', 'IT', 'S101', 'P111']"
      ]
     },
     "execution_count": 57,
     "metadata": {},
     "output_type": "execute_result"
    }
   ],
   "source": [
    "all_data.splitlines()[1].split(',')"
   ]
  },
  {
   "cell_type": "code",
   "execution_count": 63,
   "id": "51a9c55a-ebb7-4921-bb30-1f5f47fc7fb9",
   "metadata": {},
   "outputs": [
    {
     "data": {
      "text/plain": [
       "'EID,NAME,DEPT,SID,PID\\n'"
      ]
     },
     "execution_count": 63,
     "metadata": {},
     "output_type": "execute_result"
    }
   ],
   "source": [
    "f = open(r\"C:\\Users\\salma\\OneDrive\\Desktop\\EMP_DETAILS_GRASTECH.csv\")\n",
    "f.readline()"
   ]
  },
  {
   "cell_type": "code",
   "execution_count": 75,
   "id": "54d6e832-60f2-4460-9fa5-3ad52b81b73f",
   "metadata": {},
   "outputs": [
    {
     "data": {
      "text/plain": [
       "''"
      ]
     },
     "execution_count": 75,
     "metadata": {},
     "output_type": "execute_result"
    }
   ],
   "source": [
    "f.readline()"
   ]
  },
  {
   "cell_type": "code",
   "execution_count": 83,
   "id": "6aaf5c36-2c62-42f0-af39-85881c224e6e",
   "metadata": {},
   "outputs": [
    {
     "name": "stdout",
     "output_type": "stream",
     "text": [
      "EID,NAME,DEPT,SID,PID\n",
      "1,JATIN,IT,S101,P111\n",
      "2,HARRY,HR,S105,P112\n",
      "3,GAURAV,SALES,S109,P101\n"
     ]
    }
   ],
   "source": [
    "f = open(r\"C:\\Users\\salma\\OneDrive\\Desktop\\EMP_DETAILS_GRASTECH.csv\")\n",
    "\n",
    "for i in range(4):\n",
    "    print(f.readline(),end = '')\n",
    "f.close()"
   ]
  },
  {
   "cell_type": "code",
   "execution_count": 89,
   "id": "3b79b354-b5c7-4a49-9561-d176139899d5",
   "metadata": {},
   "outputs": [
    {
     "name": "stdout",
     "output_type": "stream",
     "text": [
      "EID,NAME,DEPT,SID,PID\n",
      "1,JATIN,IT,S101,P111\n",
      "2,HARRY,HR,S105,P112\n",
      "3,GAURAV,SALES,S109,P101\n",
      "4,MADAN,IT,S102,P118\n",
      "5,AKSHAY,ADMIN,S104,P120\n"
     ]
    }
   ],
   "source": [
    "f = open(r\"C:\\Users\\salma\\OneDrive\\Desktop\\EMP_DETAILS_GRASTECH.csv\")\n",
    "\n",
    "for i in f.readlines():\n",
    "    print(i,end = '')"
   ]
  },
  {
   "cell_type": "code",
   "execution_count": 93,
   "id": "c45acbb4-5f79-4eb9-a323-efb7df540c1c",
   "metadata": {},
   "outputs": [],
   "source": [
    "f = open(r\"C:\\Users\\salma\\OneDrive\\Desktop\\EMP_DETAILS_GRASTECH.csv\")\n",
    "all_data = f.readlines()\n",
    "f.close()"
   ]
  },
  {
   "cell_type": "code",
   "execution_count": 95,
   "id": "7821e8f0-0036-4372-a1d1-c6250870c5ae",
   "metadata": {},
   "outputs": [
    {
     "data": {
      "text/plain": [
       "'3,GAURAV,SALES,S109,P101\\n'"
      ]
     },
     "execution_count": 95,
     "metadata": {},
     "output_type": "execute_result"
    }
   ],
   "source": [
    "all_data[3]"
   ]
  },
  {
   "cell_type": "code",
   "execution_count": 97,
   "id": "a6e0fe12-4e7d-4687-bbd0-bb4272cf126a",
   "metadata": {},
   "outputs": [],
   "source": [
    "# File write"
   ]
  },
  {
   "cell_type": "code",
   "execution_count": 103,
   "id": "9d062142-1713-48c5-90ec-0bf4fb4fca25",
   "metadata": {},
   "outputs": [
    {
     "name": "stdout",
     "output_type": "stream",
     "text": [
      "Done\n"
     ]
    }
   ],
   "source": [
    "import time\n",
    "file = open('asus.txt',mode = 'w')\n",
    "file.write(f'This is Python Class. File created at: {time.asctime()}')\n",
    "file.close()\n",
    "print('Done')"
   ]
  },
  {
   "cell_type": "code",
   "execution_count": null,
   "id": "76082b33-43f0-4e3b-9430-ae8b1cfc9a19",
   "metadata": {},
   "outputs": [],
   "source": []
  }
 ],
 "metadata": {
  "kernelspec": {
   "display_name": "Python [conda env:base] *",
   "language": "python",
   "name": "conda-base-py"
  },
  "language_info": {
   "codemirror_mode": {
    "name": "ipython",
    "version": 3
   },
   "file_extension": ".py",
   "mimetype": "text/x-python",
   "name": "python",
   "nbconvert_exporter": "python",
   "pygments_lexer": "ipython3",
   "version": "3.12.7"
  }
 },
 "nbformat": 4,
 "nbformat_minor": 5
}
