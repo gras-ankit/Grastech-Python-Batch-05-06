{
 "cells": [
  {
   "cell_type": "markdown",
   "id": "02ae8237-82fe-434b-93d7-b122d4a7eff1",
   "metadata": {},
   "source": [
    "# Tuple"
   ]
  },
  {
   "cell_type": "code",
   "execution_count": 2,
   "id": "a1989dbb-3893-498b-b220-9813d7db1c87",
   "metadata": {},
   "outputs": [
    {
     "name": "stdout",
     "output_type": "stream",
     "text": [
      "(23, 543, 64, 532, 6)\n"
     ]
    }
   ],
   "source": [
    "data = (23,543,64,532,6)\n",
    "print(data)"
   ]
  },
  {
   "cell_type": "code",
   "execution_count": 5,
   "id": "450a57c8-8323-4c2b-a18c-de48f908addf",
   "metadata": {},
   "outputs": [
    {
     "name": "stdout",
     "output_type": "stream",
     "text": [
      "<class 'tuple'>\n"
     ]
    }
   ],
   "source": [
    "print(type(data))"
   ]
  },
  {
   "cell_type": "code",
   "execution_count": 7,
   "id": "acc065aa-e9c1-40d6-8898-963907e00d49",
   "metadata": {},
   "outputs": [],
   "source": [
    "# immutabale object/var"
   ]
  },
  {
   "cell_type": "code",
   "execution_count": 9,
   "id": "a12451a1-8f18-4d6c-beca-55a3ad7f96e9",
   "metadata": {},
   "outputs": [],
   "source": [
    "# tuple collection data-type"
   ]
  },
  {
   "cell_type": "code",
   "execution_count": 11,
   "id": "f2e1e7a4-59b1-4217-8bd2-9e5022264214",
   "metadata": {},
   "outputs": [],
   "source": [
    "# slicing, Indexing"
   ]
  },
  {
   "cell_type": "code",
   "execution_count": 13,
   "id": "62870361-7d23-44cd-9f7d-8ff6568b7459",
   "metadata": {},
   "outputs": [],
   "source": [
    "# Multiple datatypes"
   ]
  },
  {
   "cell_type": "code",
   "execution_count": 15,
   "id": "efe63cef-af13-4758-8ec0-46671ac6e67f",
   "metadata": {},
   "outputs": [],
   "source": [
    "students = ('Anita','Mohan','Ravi','Sunita','Kavita')"
   ]
  },
  {
   "cell_type": "code",
   "execution_count": 17,
   "id": "e8a7db78-84a5-4e31-9b18-dde1882ff32d",
   "metadata": {},
   "outputs": [
    {
     "data": {
      "text/plain": [
       "'Ravi'"
      ]
     },
     "execution_count": 17,
     "metadata": {},
     "output_type": "execute_result"
    }
   ],
   "source": [
    "students[2]"
   ]
  },
  {
   "cell_type": "code",
   "execution_count": 19,
   "id": "40b4a0fe-a1a8-4492-b779-d62ae8e08a34",
   "metadata": {},
   "outputs": [
    {
     "ename": "TypeError",
     "evalue": "'tuple' object does not support item assignment",
     "output_type": "error",
     "traceback": [
      "\u001b[1;31m---------------------------------------------------------------------------\u001b[0m",
      "\u001b[1;31mTypeError\u001b[0m                                 Traceback (most recent call last)",
      "Cell \u001b[1;32mIn[19], line 1\u001b[0m\n\u001b[1;32m----> 1\u001b[0m students[\u001b[38;5;241m2\u001b[39m] \u001b[38;5;241m=\u001b[39m \u001b[38;5;124m'\u001b[39m\u001b[38;5;124mRavi Malhotra\u001b[39m\u001b[38;5;124m'\u001b[39m\n",
      "\u001b[1;31mTypeError\u001b[0m: 'tuple' object does not support item assignment"
     ]
    }
   ],
   "source": [
    "students[2] = 'Ravi Malhotra'"
   ]
  },
  {
   "cell_type": "code",
   "execution_count": 21,
   "id": "131225e0-1ae4-4e8d-8717-e21a3767a7c9",
   "metadata": {},
   "outputs": [],
   "source": [
    "# tuple' object does not support item assignment"
   ]
  },
  {
   "cell_type": "code",
   "execution_count": 23,
   "id": "043e8bcc-9079-4d6a-b8ab-75900a1c69c9",
   "metadata": {},
   "outputs": [
    {
     "data": {
      "text/plain": [
       "('Anita', 'Mohan', 'Ravi', 'Sunita', 'Kavita')"
      ]
     },
     "execution_count": 23,
     "metadata": {},
     "output_type": "execute_result"
    }
   ],
   "source": [
    "students"
   ]
  },
  {
   "cell_type": "code",
   "execution_count": 25,
   "id": "1451bd4d-17b8-44ef-8833-e00247cfdd04",
   "metadata": {},
   "outputs": [
    {
     "data": {
      "text/plain": [
       "('Mohan', 'Ravi', 'Sunita')"
      ]
     },
     "execution_count": 25,
     "metadata": {},
     "output_type": "execute_result"
    }
   ],
   "source": [
    "students[1:-1]"
   ]
  },
  {
   "cell_type": "code",
   "execution_count": 27,
   "id": "89396c6b-8e96-4a75-b174-a0d3eb0df0ff",
   "metadata": {},
   "outputs": [],
   "source": [
    "# students.count\n",
    "# students.index"
   ]
  },
  {
   "cell_type": "code",
   "execution_count": 29,
   "id": "b95243f2-fbc2-45c5-b222-3fde3d1cb4af",
   "metadata": {},
   "outputs": [
    {
     "data": {
      "text/plain": [
       "4"
      ]
     },
     "execution_count": 29,
     "metadata": {},
     "output_type": "execute_result"
    }
   ],
   "source": [
    "data = (23,3,4,4,4,4,54,5,5,5,5,6,6,6,6,7,7,8,8,9)\n",
    "\n",
    "data.count(6)"
   ]
  },
  {
   "cell_type": "code",
   "execution_count": 31,
   "id": "fa8c64a4-55b0-4bf3-899a-1896493e3828",
   "metadata": {},
   "outputs": [
    {
     "data": {
      "text/plain": [
       "3"
      ]
     },
     "execution_count": 31,
     "metadata": {},
     "output_type": "execute_result"
    }
   ],
   "source": [
    "students.index('Sunita')"
   ]
  },
  {
   "cell_type": "code",
   "execution_count": 33,
   "id": "bb1242a3-4a95-4a54-bb5e-481699a7aeb8",
   "metadata": {},
   "outputs": [
    {
     "ename": "ValueError",
     "evalue": "tuple.index(x): x not in tuple",
     "output_type": "error",
     "traceback": [
      "\u001b[1;31m---------------------------------------------------------------------------\u001b[0m",
      "\u001b[1;31mValueError\u001b[0m                                Traceback (most recent call last)",
      "Cell \u001b[1;32mIn[33], line 1\u001b[0m\n\u001b[1;32m----> 1\u001b[0m students\u001b[38;5;241m.\u001b[39mindex(\u001b[38;5;124m'\u001b[39m\u001b[38;5;124msunita\u001b[39m\u001b[38;5;124m'\u001b[39m)\n",
      "\u001b[1;31mValueError\u001b[0m: tuple.index(x): x not in tuple"
     ]
    }
   ],
   "source": [
    "students.index('sunita')"
   ]
  },
  {
   "cell_type": "code",
   "execution_count": 35,
   "id": "0cbf4d64-3fe0-4ebc-a1ba-e41d27e26c2d",
   "metadata": {},
   "outputs": [],
   "source": [
    "# password store"
   ]
  },
  {
   "cell_type": "code",
   "execution_count": 37,
   "id": "b18725a9-1c83-4b91-90ff-812cb10c0e57",
   "metadata": {},
   "outputs": [],
   "source": [
    "# operators"
   ]
  },
  {
   "cell_type": "code",
   "execution_count": 51,
   "id": "007f3e97-f139-441f-a467-3b2e3f015ecb",
   "metadata": {},
   "outputs": [],
   "source": [
    "a = (5,23,4,56)\n",
    "b = (3,45,547)"
   ]
  },
  {
   "cell_type": "code",
   "execution_count": 55,
   "id": "57a69564-f8d9-480c-b884-0a06b736e8ab",
   "metadata": {},
   "outputs": [
    {
     "data": {
      "text/plain": [
       "(5, 23, 4, 56, 3, 45, 547)"
      ]
     },
     "execution_count": 55,
     "metadata": {},
     "output_type": "execute_result"
    }
   ],
   "source": [
    "c  = a + b\n",
    "c"
   ]
  },
  {
   "cell_type": "code",
   "execution_count": 43,
   "id": "201108fb-3397-4a0f-8e4a-8452afba87a6",
   "metadata": {},
   "outputs": [
    {
     "ename": "TypeError",
     "evalue": "unsupported operand type(s) for -: 'tuple' and 'tuple'",
     "output_type": "error",
     "traceback": [
      "\u001b[1;31m---------------------------------------------------------------------------\u001b[0m",
      "\u001b[1;31mTypeError\u001b[0m                                 Traceback (most recent call last)",
      "Cell \u001b[1;32mIn[43], line 1\u001b[0m\n\u001b[1;32m----> 1\u001b[0m a \u001b[38;5;241m-\u001b[39m b\n",
      "\u001b[1;31mTypeError\u001b[0m: unsupported operand type(s) for -: 'tuple' and 'tuple'"
     ]
    }
   ],
   "source": [
    "a - b"
   ]
  },
  {
   "cell_type": "code",
   "execution_count": 45,
   "id": "1997e45f-71fd-469e-b8f2-b37a28436293",
   "metadata": {},
   "outputs": [],
   "source": [
    "a = 'mohan'\n",
    "b = 'ravi'"
   ]
  },
  {
   "cell_type": "code",
   "execution_count": 47,
   "id": "f733c805-ebf4-4d99-a4e5-2474ae1e9c8b",
   "metadata": {},
   "outputs": [
    {
     "data": {
      "text/plain": [
       "'mohanravi'"
      ]
     },
     "execution_count": 47,
     "metadata": {},
     "output_type": "execute_result"
    }
   ],
   "source": [
    "a + b"
   ]
  },
  {
   "cell_type": "code",
   "execution_count": 49,
   "id": "730f83dc-c7cb-4676-b101-6dbfcb867095",
   "metadata": {},
   "outputs": [
    {
     "data": {
      "text/plain": [
       "(5, 23, 4, 56, 5, 23, 4, 56, 5, 23, 4, 56)"
      ]
     },
     "execution_count": 49,
     "metadata": {},
     "output_type": "execute_result"
    }
   ],
   "source": [
    "a = (5,23,4,56)\n",
    "a * 3"
   ]
  },
  {
   "cell_type": "code",
   "execution_count": 57,
   "id": "ac987b60-13e7-4d2b-88b2-df46dcc3eb2f",
   "metadata": {},
   "outputs": [],
   "source": [
    "a = 'python'"
   ]
  },
  {
   "cell_type": "code",
   "execution_count": 59,
   "id": "fb6c4c1b-7a98-43ca-9cf8-bcc2beb45b6b",
   "metadata": {},
   "outputs": [
    {
     "data": {
      "text/plain": [
       "'pythonpython'"
      ]
     },
     "execution_count": 59,
     "metadata": {},
     "output_type": "execute_result"
    }
   ],
   "source": [
    "a*2"
   ]
  },
  {
   "cell_type": "code",
   "execution_count": 61,
   "id": "4ab1a982-ef4f-4993-9653-c2937db6d767",
   "metadata": {},
   "outputs": [],
   "source": [
    "a = [2,3,46]"
   ]
  },
  {
   "cell_type": "code",
   "execution_count": 63,
   "id": "5ad12898-628d-4afc-b5d5-7dee9fca3190",
   "metadata": {},
   "outputs": [
    {
     "data": {
      "text/plain": [
       "[2, 3, 46, 2, 3, 46, 2, 3, 46, 2, 3, 46, 2, 3, 46]"
      ]
     },
     "execution_count": 63,
     "metadata": {},
     "output_type": "execute_result"
    }
   ],
   "source": [
    "a*5"
   ]
  },
  {
   "cell_type": "code",
   "execution_count": 65,
   "id": "16cd182d-7212-4c89-8ec4-4a528b283642",
   "metadata": {},
   "outputs": [
    {
     "ename": "TypeError",
     "evalue": "can't multiply sequence by non-int of type 'tuple'",
     "output_type": "error",
     "traceback": [
      "\u001b[1;31m---------------------------------------------------------------------------\u001b[0m",
      "\u001b[1;31mTypeError\u001b[0m                                 Traceback (most recent call last)",
      "Cell \u001b[1;32mIn[65], line 5\u001b[0m\n\u001b[0;32m      1\u001b[0m a \u001b[38;5;241m=\u001b[39m (\u001b[38;5;241m5\u001b[39m,\u001b[38;5;241m23\u001b[39m,\u001b[38;5;241m4\u001b[39m,\u001b[38;5;241m56\u001b[39m)\n\u001b[0;32m      2\u001b[0m b \u001b[38;5;241m=\u001b[39m (\u001b[38;5;241m3\u001b[39m,\u001b[38;5;241m45\u001b[39m,\u001b[38;5;241m547\u001b[39m)\n\u001b[1;32m----> 5\u001b[0m a \u001b[38;5;241m*\u001b[39m b\n",
      "\u001b[1;31mTypeError\u001b[0m: can't multiply sequence by non-int of type 'tuple'"
     ]
    }
   ],
   "source": [
    "a = (5,23,4,56)\n",
    "b = (3,45,547)\n",
    "\n",
    "\n",
    "a * b"
   ]
  },
  {
   "cell_type": "code",
   "execution_count": 69,
   "id": "7969eb03-a62f-4c43-9d0d-5f92b3b72dcc",
   "metadata": {},
   "outputs": [],
   "source": [
    "# how to change elements inside tuple"
   ]
  },
  {
   "cell_type": "code",
   "execution_count": 71,
   "id": "04c10059-38f2-4c20-989e-cb75894ce165",
   "metadata": {},
   "outputs": [
    {
     "name": "stdout",
     "output_type": "stream",
     "text": [
      "(2, 34, 5, 3, 54, 6, 32, 5457)\n"
     ]
    }
   ],
   "source": [
    "data = (2,34,5,3,54,6,32,5457)\n",
    "print(data)"
   ]
  },
  {
   "cell_type": "code",
   "execution_count": 73,
   "id": "7f02749b-1306-4064-a7a5-c72e345380fb",
   "metadata": {},
   "outputs": [
    {
     "data": {
      "text/plain": [
       "4"
      ]
     },
     "execution_count": 73,
     "metadata": {},
     "output_type": "execute_result"
    }
   ],
   "source": [
    "data.index(54)"
   ]
  },
  {
   "cell_type": "code",
   "execution_count": 77,
   "id": "312c979f-2923-4ae6-9a52-77ae3847a150",
   "metadata": {},
   "outputs": [
    {
     "ename": "TypeError",
     "evalue": "'tuple' object does not support item assignment",
     "output_type": "error",
     "traceback": [
      "\u001b[1;31m---------------------------------------------------------------------------\u001b[0m",
      "\u001b[1;31mTypeError\u001b[0m                                 Traceback (most recent call last)",
      "Cell \u001b[1;32mIn[77], line 1\u001b[0m\n\u001b[1;32m----> 1\u001b[0m data[\u001b[38;5;241m4\u001b[39m] \u001b[38;5;241m=\u001b[39m \u001b[38;5;241m56\u001b[39m\n",
      "\u001b[1;31mTypeError\u001b[0m: 'tuple' object does not support item assignment"
     ]
    }
   ],
   "source": [
    "data[4] = 56"
   ]
  },
  {
   "cell_type": "code",
   "execution_count": 89,
   "id": "ae253891-31f2-4acd-8688-4c2184349bc9",
   "metadata": {},
   "outputs": [
    {
     "name": "stdout",
     "output_type": "stream",
     "text": [
      "(2, 34, 5, 3, 54, 6, 32, 5457)\n"
     ]
    }
   ],
   "source": [
    "data = (2,34,5,3,54,6,32,5457)\n",
    "print(data)"
   ]
  },
  {
   "cell_type": "code",
   "execution_count": 91,
   "id": "e51e388a-f393-47ea-82f5-434264d678f5",
   "metadata": {},
   "outputs": [],
   "source": [
    "# type casting"
   ]
  },
  {
   "cell_type": "code",
   "execution_count": 93,
   "id": "a14295d0-329a-4860-baa0-0137d0b8df88",
   "metadata": {},
   "outputs": [
    {
     "name": "stdout",
     "output_type": "stream",
     "text": [
      "(2, 34, 5, 3, 34567, 6, 32, 5457)\n"
     ]
    }
   ],
   "source": [
    "data = list(data)\n",
    "data[4] = 34567\n",
    "\n",
    "data = tuple(data)\n",
    "\n",
    "print(data)"
   ]
  },
  {
   "cell_type": "code",
   "execution_count": null,
   "id": "d69c2a47-f2da-4419-b5ab-6371b482d139",
   "metadata": {},
   "outputs": [],
   "source": []
  },
  {
   "cell_type": "code",
   "execution_count": null,
   "id": "dac4efc4-ec64-4be6-b4e7-06ee62097a09",
   "metadata": {},
   "outputs": [],
   "source": []
  },
  {
   "cell_type": "code",
   "execution_count": 110,
   "id": "9b20b8db-4e6b-40cb-8e3f-cff40f399b06",
   "metadata": {},
   "outputs": [
    {
     "name": "stdout",
     "output_type": "stream",
     "text": [
      "('Anita', 'Mohan', 'Ravi', 'Sunita', 'Kavita', 'Harry')\n"
     ]
    }
   ],
   "source": [
    "a = ('Anita','Mohan','Ravi','Sunita','Kavita')\n",
    "b = ('Harry',)\n",
    "\n",
    "print(a + b)"
   ]
  },
  {
   "cell_type": "code",
   "execution_count": 96,
   "id": "36f45275-fc56-48bf-9b53-9312fc1b1910",
   "metadata": {},
   "outputs": [],
   "source": [
    "# How to create generator using tuple\n",
    "# generator"
   ]
  },
  {
   "cell_type": "code",
   "execution_count": 104,
   "id": "cee569dc-1700-452a-932d-7af2196bedf6",
   "metadata": {},
   "outputs": [
    {
     "name": "stdout",
     "output_type": "stream",
     "text": [
      "<class 'tuple'>\n"
     ]
    }
   ],
   "source": [
    "a = (56,)\n",
    "print(type(a))"
   ]
  },
  {
   "cell_type": "code",
   "execution_count": 112,
   "id": "be044122-ee12-40ab-9712-266c546c6335",
   "metadata": {},
   "outputs": [],
   "source": [
    "# single element tuple"
   ]
  },
  {
   "cell_type": "code",
   "execution_count": 114,
   "id": "e2ec4ee7-7cf9-41ac-bbc1-fb9561f35044",
   "metadata": {},
   "outputs": [],
   "source": [
    "# empty tuple"
   ]
  },
  {
   "cell_type": "code",
   "execution_count": 116,
   "id": "b0ce854d-e19b-46aa-a664-c8ba6aaced1c",
   "metadata": {},
   "outputs": [
    {
     "name": "stdout",
     "output_type": "stream",
     "text": [
      "()\n",
      "<class 'tuple'>\n"
     ]
    }
   ],
   "source": [
    "a = ()\n",
    "print(a)\n",
    "print(type(a))"
   ]
  },
  {
   "cell_type": "code",
   "execution_count": 118,
   "id": "905ba7e8-2fa6-49a8-9cfa-154448aca233",
   "metadata": {},
   "outputs": [
    {
     "name": "stdout",
     "output_type": "stream",
     "text": [
      "()\n",
      "<class 'tuple'>\n"
     ]
    }
   ],
   "source": [
    "a = tuple()\n",
    "print(a)\n",
    "print(type(a))"
   ]
  },
  {
   "cell_type": "code",
   "execution_count": 126,
   "id": "6776432b-b9d2-4053-8732-1b1cc12b40f0",
   "metadata": {},
   "outputs": [
    {
     "name": "stdout",
     "output_type": "stream",
     "text": [
      "('k', 'a', 'r', 'a', 'n')\n"
     ]
    }
   ],
   "source": [
    "a = tuple(('karan',))\n",
    "print(a)"
   ]
  },
  {
   "cell_type": "code",
   "execution_count": 128,
   "id": "1eb730b8-e071-4472-b0ca-9b20d6862671",
   "metadata": {},
   "outputs": [],
   "source": [
    "name = 'harry verma'"
   ]
  },
  {
   "cell_type": "code",
   "execution_count": 130,
   "id": "cfec74de-3787-4254-9ff8-3eba2a56f950",
   "metadata": {},
   "outputs": [
    {
     "data": {
      "text/plain": [
       "['h', 'a', 'r', 'r', 'y', ' ', 'v', 'e', 'r', 'm', 'a']"
      ]
     },
     "execution_count": 130,
     "metadata": {},
     "output_type": "execute_result"
    }
   ],
   "source": [
    "list(name)"
   ]
  },
  {
   "cell_type": "code",
   "execution_count": 132,
   "id": "4e380980-64bf-4101-988f-3fdae7bdda6f",
   "metadata": {},
   "outputs": [
    {
     "data": {
      "text/plain": [
       "('h', 'a', 'r', 'r', 'y', ' ', 'v', 'e', 'r', 'm', 'a')"
      ]
     },
     "execution_count": 132,
     "metadata": {},
     "output_type": "execute_result"
    }
   ],
   "source": [
    "tuple(name)"
   ]
  },
  {
   "cell_type": "code",
   "execution_count": 134,
   "id": "fcf91d44-3821-4d60-89d3-8511a8acb3ea",
   "metadata": {},
   "outputs": [
    {
     "name": "stdout",
     "output_type": "stream",
     "text": [
      "('karan',)\n"
     ]
    }
   ],
   "source": [
    "a = tuple(['karan'])\n",
    "print(a)"
   ]
  },
  {
   "cell_type": "code",
   "execution_count": 144,
   "id": "e0a2cfc1-7592-4ba7-8513-267c7d24e64a",
   "metadata": {},
   "outputs": [
    {
     "name": "stdout",
     "output_type": "stream",
     "text": [
      "done\n"
     ]
    }
   ],
   "source": [
    "data = [i for i in range(1,100000000)]\n",
    "print('done')"
   ]
  },
  {
   "cell_type": "code",
   "execution_count": 166,
   "id": "90a00620-c9f4-4c47-8dd3-9a4637bd5e05",
   "metadata": {},
   "outputs": [
    {
     "name": "stdout",
     "output_type": "stream",
     "text": [
      "done\n"
     ]
    }
   ],
   "source": [
    "data = (i for i in range(1,1000000000))\n",
    "print('done')"
   ]
  },
  {
   "cell_type": "code",
   "execution_count": 168,
   "id": "5ade1b38-77ef-4ca5-b4cb-e0dcc40b4205",
   "metadata": {},
   "outputs": [
    {
     "data": {
      "text/plain": [
       "<generator object <genexpr> at 0x000001CE66436200>"
      ]
     },
     "execution_count": 168,
     "metadata": {},
     "output_type": "execute_result"
    }
   ],
   "source": [
    "data"
   ]
  },
  {
   "cell_type": "code",
   "execution_count": 182,
   "id": "82b69856-d84c-4fb1-bf95-d35aa540a7d1",
   "metadata": {},
   "outputs": [
    {
     "data": {
      "text/plain": [
       "7"
      ]
     },
     "execution_count": 182,
     "metadata": {},
     "output_type": "execute_result"
    }
   ],
   "source": [
    "next(data)"
   ]
  },
  {
   "cell_type": "code",
   "execution_count": null,
   "id": "8753adc0-02c1-4a2c-81f7-bc4525e390e6",
   "metadata": {},
   "outputs": [],
   "source": []
  },
  {
   "cell_type": "code",
   "execution_count": 185,
   "id": "3d637525-b356-4cfe-b708-8ee9431a94fd",
   "metadata": {},
   "outputs": [],
   "source": [
    "# nested list or nested tuple"
   ]
  },
  {
   "cell_type": "code",
   "execution_count": 187,
   "id": "6378dee0-5868-4bd7-b083-764328c2a359",
   "metadata": {},
   "outputs": [],
   "source": [
    "data = [2,354,5,325,[3,5,436,[3,4554,7]]]"
   ]
  },
  {
   "cell_type": "code",
   "execution_count": 195,
   "id": "2b13e213-5384-4b6b-98b8-f64ddf6888f2",
   "metadata": {},
   "outputs": [],
   "source": [
    "data[4][3][1] = 100"
   ]
  },
  {
   "cell_type": "code",
   "execution_count": 197,
   "id": "d8aa0fe6-4ee6-41ad-a2a4-2ff5409150ed",
   "metadata": {},
   "outputs": [
    {
     "name": "stdout",
     "output_type": "stream",
     "text": [
      "[2, 354, 5, 325, [3, 5, 436, [3, 100, 7]]]\n"
     ]
    }
   ],
   "source": [
    "print(data)"
   ]
  },
  {
   "cell_type": "code",
   "execution_count": 199,
   "id": "255559c1-fc9d-427c-aa89-f31c613734ed",
   "metadata": {},
   "outputs": [],
   "source": [
    "data = [23,54,532,4,[23,454,432,45,[23,534,35432,5,[235,34,6]]]]"
   ]
  },
  {
   "cell_type": "code",
   "execution_count": 201,
   "id": "de4b7a0e-4631-4712-b14f-09fe22c71df9",
   "metadata": {},
   "outputs": [
    {
     "name": "stdout",
     "output_type": "stream",
     "text": [
      "[23, 54, 532, 4, [23, 454, 432, 45, [23, 534, 35432, 5, [235, 34, 6]]]]\n"
     ]
    }
   ],
   "source": [
    "print(data)"
   ]
  },
  {
   "cell_type": "code",
   "execution_count": 211,
   "id": "8779cee2-5651-4574-9854-d2a16c139051",
   "metadata": {},
   "outputs": [],
   "source": [
    "data[4][4][4][1] = 420"
   ]
  },
  {
   "cell_type": "code",
   "execution_count": 213,
   "id": "07f2fc0f-3d98-4c82-a732-260c374d1ef1",
   "metadata": {},
   "outputs": [
    {
     "name": "stdout",
     "output_type": "stream",
     "text": [
      "[23, 54, 532, 4, [23, 454, 432, 45, [23, 534, 35432, 5, [235, 420, 6]]]]\n"
     ]
    }
   ],
   "source": [
    "print(data)"
   ]
  },
  {
   "cell_type": "code",
   "execution_count": 225,
   "id": "ab3bd85a-5c90-4b67-a7d4-4153fd532d8e",
   "metadata": {},
   "outputs": [],
   "source": [
    "data[-1][-1][-1][-2] = 100"
   ]
  },
  {
   "cell_type": "code",
   "execution_count": 227,
   "id": "87feb347-fa5c-4b47-a377-4ba1bfbf58e3",
   "metadata": {},
   "outputs": [
    {
     "name": "stdout",
     "output_type": "stream",
     "text": [
      "[23, 54, 532, 4, [23, 454, 432, 45, [23, 534, 35432, 5, [235, 100, 6]]]]\n"
     ]
    }
   ],
   "source": [
    "print(data)"
   ]
  },
  {
   "cell_type": "code",
   "execution_count": 231,
   "id": "f7b8cd7a-a8f9-461b-a368-83f49a6e3c2f",
   "metadata": {},
   "outputs": [
    {
     "name": "stdout",
     "output_type": "stream",
     "text": [
      "[23, 54, 532, 4, [23, 454, 432, 45, [23, 534, 35432, 5, [235, 100, 6]]], 23, 54, 532, 4, [23, 454, 432, 45, [23, 534, 35432, 5, [235, 100, 6]]]]\n"
     ]
    }
   ],
   "source": [
    "print(data * 2)"
   ]
  },
  {
   "cell_type": "code",
   "execution_count": 233,
   "id": "306065a8-6467-4444-a9b3-67a6b1ddafc3",
   "metadata": {},
   "outputs": [],
   "source": [
    "# nested tuple"
   ]
  },
  {
   "cell_type": "code",
   "execution_count": 235,
   "id": "a436f61b-4404-41f0-b948-c72e50a3d1a8",
   "metadata": {},
   "outputs": [],
   "source": [
    "data = (12,43,5,(2,354,6,(23,46,6)))"
   ]
  },
  {
   "cell_type": "code",
   "execution_count": 237,
   "id": "d43e6a73-7f14-4cda-8632-a68761b0f285",
   "metadata": {},
   "outputs": [
    {
     "data": {
      "text/plain": [
       "3"
      ]
     },
     "execution_count": 237,
     "metadata": {},
     "output_type": "execute_result"
    }
   ],
   "source": [
    "data.index((2,354,6,(23,46,6)))"
   ]
  },
  {
   "cell_type": "code",
   "execution_count": 241,
   "id": "c8d1c388-8846-4b61-acc0-f1d8defbbcd0",
   "metadata": {},
   "outputs": [
    {
     "data": {
      "text/plain": [
       "3"
      ]
     },
     "execution_count": 241,
     "metadata": {},
     "output_type": "execute_result"
    }
   ],
   "source": [
    "data[3].index((23, 46, 6))"
   ]
  },
  {
   "cell_type": "code",
   "execution_count": 247,
   "id": "24b18de7-e3bc-4a4f-a933-b2cd9b46fb3e",
   "metadata": {},
   "outputs": [
    {
     "data": {
      "text/plain": [
       "1"
      ]
     },
     "execution_count": 247,
     "metadata": {},
     "output_type": "execute_result"
    }
   ],
   "source": [
    "data[3][3].index(46)"
   ]
  },
  {
   "cell_type": "code",
   "execution_count": 249,
   "id": "b58c3447-43dd-4701-94d0-66f128445cca",
   "metadata": {},
   "outputs": [
    {
     "data": {
      "text/plain": [
       "46"
      ]
     },
     "execution_count": 249,
     "metadata": {},
     "output_type": "execute_result"
    }
   ],
   "source": [
    "data[3][3][1]"
   ]
  },
  {
   "cell_type": "code",
   "execution_count": 251,
   "id": "e2a8ae52-ee13-4228-94bb-c00c3a5816a2",
   "metadata": {},
   "outputs": [
    {
     "data": {
      "text/plain": [
       "(12, 43, 5, (2, 354, 6, (23, 46, 6)))"
      ]
     },
     "execution_count": 251,
     "metadata": {},
     "output_type": "execute_result"
    }
   ],
   "source": [
    "data = (12,43,5,(2,354,6,(23,46,6)))\n",
    "data"
   ]
  },
  {
   "cell_type": "code",
   "execution_count": 265,
   "id": "28a5ffa6-e54d-46f7-877f-8c7332abd2a2",
   "metadata": {},
   "outputs": [
    {
     "name": "stdout",
     "output_type": "stream",
     "text": [
      "(12, 43, 5, (2, 354, 6, (23, 10900, 6)))\n"
     ]
    }
   ],
   "source": [
    "data = list(data)\n",
    "data[3] = list(data[3])\n",
    "data[3][3] = list(data[3][3])\n",
    "data[3][3][1] = 10900\n",
    "data[3][3] = tuple(data[3][3])\n",
    "data[3] = tuple(data[3])\n",
    "data = tuple(data)\n",
    "\n",
    "print(data)"
   ]
  },
  {
   "cell_type": "code",
   "execution_count": null,
   "id": "c50fef4e-dfa4-4c15-a007-2a5d6a2d477f",
   "metadata": {},
   "outputs": [],
   "source": []
  }
 ],
 "metadata": {
  "kernelspec": {
   "display_name": "Python [conda env:base] *",
   "language": "python",
   "name": "conda-base-py"
  },
  "language_info": {
   "codemirror_mode": {
    "name": "ipython",
    "version": 3
   },
   "file_extension": ".py",
   "mimetype": "text/x-python",
   "name": "python",
   "nbconvert_exporter": "python",
   "pygments_lexer": "ipython3",
   "version": "3.12.7"
  }
 },
 "nbformat": 4,
 "nbformat_minor": 5
}
