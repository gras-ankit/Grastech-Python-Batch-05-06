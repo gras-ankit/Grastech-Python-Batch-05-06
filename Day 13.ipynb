{
 "cells": [
  {
   "cell_type": "code",
   "execution_count": 1,
   "id": "3423eac2-4349-46eb-977e-a9484df2bae7",
   "metadata": {},
   "outputs": [],
   "source": [
    "# one liner if else\n",
    "# pass"
   ]
  },
  {
   "cell_type": "code",
   "execution_count": 23,
   "id": "697c0dc0-5f67-4340-9228-217af61e130d",
   "metadata": {},
   "outputs": [
    {
     "name": "stdout",
     "output_type": "stream",
     "text": [
      "Odd\n"
     ]
    }
   ],
   "source": [
    "num = 3\n",
    "\n",
    "if (num % 2) == 0:\n",
    "   print('Even')\n",
    "else:\n",
    "    print('Odd')"
   ]
  },
  {
   "cell_type": "code",
   "execution_count": 25,
   "id": "b9d96bc4-0fb4-412d-9309-b136895e9bfd",
   "metadata": {},
   "outputs": [
    {
     "name": "stdout",
     "output_type": "stream",
     "text": [
      "Even\n"
     ]
    }
   ],
   "source": [
    "num = 4\n",
    "print('Even') if num % 2 == 0 else print('Odd')"
   ]
  },
  {
   "cell_type": "code",
   "execution_count": 29,
   "id": "ddee4ae3-3452-4c6c-8a82-574d07a72f6f",
   "metadata": {},
   "outputs": [
    {
     "name": "stdout",
     "output_type": "stream",
     "text": [
      "Vowels\n"
     ]
    }
   ],
   "source": [
    "word = 'india'\n",
    "\n",
    "if word[0].lower() in 'aeiou':\n",
    "    print('Vowels')\n",
    "else:\n",
    "    print('Consonants')"
   ]
  },
  {
   "cell_type": "code",
   "execution_count": 31,
   "id": "afa004d9-1a9d-4972-b605-ed12e5fe60d0",
   "metadata": {},
   "outputs": [
    {
     "name": "stdout",
     "output_type": "stream",
     "text": [
      "Vowels\n"
     ]
    }
   ],
   "source": [
    "word = 'india'\n",
    "\n",
    "print('Vowels') if word[0].lower() in 'aeiou' else print('Consonants')"
   ]
  },
  {
   "cell_type": "code",
   "execution_count": 33,
   "id": "cbae0308-5b50-490f-b959-455fc5888cd6",
   "metadata": {},
   "outputs": [],
   "source": [
    "#elif must not be used in one liner if else"
   ]
  },
  {
   "cell_type": "code",
   "execution_count": 37,
   "id": "08f5f234-4f5a-43f8-860a-164bc6e4fd81",
   "metadata": {},
   "outputs": [
    {
     "name": "stdout",
     "output_type": "stream",
     "text": [
      "c is greatest\n"
     ]
    }
   ],
   "source": [
    "a = 4\n",
    "b = 5\n",
    "c = 6\n",
    "\n",
    "if (a>b) and (a>c):\n",
    "    print('a is greatest')\n",
    "elif (b>a) and (b>c):\n",
    "    print('b is greatest')\n",
    "elif (c>a) and (c>b):\n",
    "    print('c is greatest')\n",
    "else:\n",
    "    print('Don\\'t know')"
   ]
  },
  {
   "cell_type": "code",
   "execution_count": 49,
   "id": "8edab554-b979-4cdd-9b8d-1638c0df0331",
   "metadata": {},
   "outputs": [
    {
     "name": "stdout",
     "output_type": "stream",
     "text": [
      "Don't know\n"
     ]
    }
   ],
   "source": [
    "a = 400\n",
    "b = 400\n",
    "c = 400\n",
    "\n",
    "print('a is greatest') if (a>b) and (a>c) else print('b is greatest') if (b>a) and (b>c) else print('c is greatest') if (c>a) and (c>b) else print('Don\\'t know')\n"
   ]
  },
  {
   "cell_type": "code",
   "execution_count": 51,
   "id": "03867f79-d9db-46c4-be74-bf8f66a1196a",
   "metadata": {},
   "outputs": [],
   "source": [
    "# pass"
   ]
  },
  {
   "cell_type": "code",
   "execution_count": 57,
   "id": "5c30d7c3-ed79-4d67-9529-6df7a44fea14",
   "metadata": {},
   "outputs": [],
   "source": [
    "a = 5\n",
    "b = 5\n",
    "c = 5\n",
    "\n",
    "if (a>b) and (a>c):\n",
    "    print('a is greatest')\n",
    "elif (b>a) and (b>c):\n",
    "    print('b is greatest')\n",
    "elif (c>a) and (c>b):\n",
    "    print('c is greatest')\n",
    "else:\n",
    "    pass"
   ]
  },
  {
   "cell_type": "code",
   "execution_count": 59,
   "id": "f59d726f-b5d6-4bc5-8ddb-f9b9e2d0649f",
   "metadata": {},
   "outputs": [],
   "source": [
    "a = 5\n",
    "b = 5\n",
    "c = 5\n",
    "\n",
    "if (a>b) and (a>c):\n",
    "    pass\n",
    "    \n",
    "elif (b>a) and (b>c):\n",
    "    pass\n",
    "    \n",
    "elif (c>a) and (c>b):\n",
    "    pass\n",
    "    \n",
    "else:\n",
    "    pass"
   ]
  },
  {
   "cell_type": "code",
   "execution_count": null,
   "id": "b216f94a-fe8a-4731-9300-c05bf42c28f4",
   "metadata": {},
   "outputs": [],
   "source": []
  },
  {
   "cell_type": "code",
   "execution_count": 62,
   "id": "ca8051ca-1eb3-47fc-af12-74d8d0ccd1af",
   "metadata": {},
   "outputs": [],
   "source": [
    "# random password "
   ]
  },
  {
   "cell_type": "code",
   "execution_count": 89,
   "id": "f506adef-22db-4079-abde-6d00ad77d290",
   "metadata": {},
   "outputs": [],
   "source": [
    "import random\n",
    "import string\n",
    "\n",
    "possible_chars = string.ascii_lowercase +' ' +string.ascii_uppercase + string.digits + string.punctuation"
   ]
  },
  {
   "cell_type": "code",
   "execution_count": 91,
   "id": "471fdc40-2251-42e0-99a2-6b5c07e4b89a",
   "metadata": {},
   "outputs": [
    {
     "name": "stdout",
     "output_type": "stream",
     "text": [
      "abcdefghijklmnopqrstuvwxyz ABCDEFGHIJKLMNOPQRSTUVWXYZ0123456789!\"#$%&'()*+,-./:;<=>?@[\\]^_`{|}~\n"
     ]
    }
   ],
   "source": [
    "print(possible_chars)"
   ]
  },
  {
   "cell_type": "code",
   "execution_count": 201,
   "id": "a6bb2212-34c5-4b7d-a9a5-030de1958bc1",
   "metadata": {},
   "outputs": [
    {
     "name": "stdout",
     "output_type": "stream",
     "text": [
      "=l S=!z@|>G5H}ij}\\g|\n"
     ]
    }
   ],
   "source": [
    "user_kitna_length_pwd = 20\n",
    "\n",
    "pwd_list = random.choices(possible_chars,k = user_kitna_length_pwd )\n",
    "\n",
    "final_password = ''.join(pwd_list)\n",
    "\n",
    "print(final_password)"
   ]
  },
  {
   "cell_type": "code",
   "execution_count": 203,
   "id": "69ac5791-9c58-4a16-8550-e872c5797b99",
   "metadata": {},
   "outputs": [],
   "source": [
    "# ''.join(('a','b','c'))"
   ]
  },
  {
   "cell_type": "code",
   "execution_count": 205,
   "id": "5a793ca7-6c4f-4f88-8ddc-83704ba5fa1f",
   "metadata": {},
   "outputs": [],
   "source": [
    "# ''.join(random.choices(possible_chars,k = user_kitna_length_pwd ))"
   ]
  },
  {
   "cell_type": "code",
   "execution_count": 207,
   "id": "78116b28-a914-40fb-89f3-8753d3b51b02",
   "metadata": {},
   "outputs": [],
   "source": [
    "# (2,4,35,32,5)"
   ]
  },
  {
   "cell_type": "code",
   "execution_count": 209,
   "id": "01ac8e22-2605-42d7-a58a-acdf22321fad",
   "metadata": {},
   "outputs": [],
   "source": [
    "# ''.join([23,434,66])"
   ]
  },
  {
   "cell_type": "code",
   "execution_count": 224,
   "id": "2f9035f0-38f0-43c0-96f0-389642238449",
   "metadata": {},
   "outputs": [
    {
     "data": {
      "image/png": "[encoded data removed]",
      "text/plain": [
       "<IPython.core.display.Image object>"
      ]
     },
     "execution_count": 224,
     "metadata": {
      "image/png": {
       "height": 20,
       "width": 20
      }
     },
     "output_type": "execute_result"
    }
   ],
   "source": [
    "import IPython\n"
   ]
  },
  {
   "cell_type": "code",
   "execution_count": 244,
   "id": "b6fa5892-4279-4a8b-87dc-11bb916c9b47",
   "metadata": {},
   "outputs": [
    {
     "name": "stdin",
     "output_type": "stream",
     "text": [
      "Enter shape name:  circle\n",
      "Enter radius of a circle:  23\n"
     ]
    },
    {
     "name": "stdout",
     "output_type": "stream",
     "text": [
      "Area: 1661.06 sq unit\n",
      "perimeter: 144.44 unit\n"
     ]
    },
    {
     "data": {
      "image/jpeg": "[encoded data removed]",
      "text/plain": [
       "<IPython.core.display.Image object>"
      ]
     },
     "metadata": {
      "image/jpeg": {
       "height": 50,
       "width": 50
      }
     },
     "output_type": "display_data"
    }
   ],
   "source": [
    "shape_name = input('Enter shape name: ').lower()\n",
    "\n",
    "if shape_name == 'triangle':\n",
    "    \n",
    "    a = float(input('Enter first side: '))\n",
    "    b = float(input('Enter second side: '))\n",
    "    c = float(input('Enter third side: '))\n",
    "    \n",
    "    if (a+b>c) and (b+c>a) and (c+a>b):\n",
    "        display(IPython.display.Image('https://static-00.iconduck.com/assets.00/triangle-icon-512x441-91396790.png',width=50,height=50))\n",
    "        perimeter = a + b + c\n",
    "        s = perimeter /2\n",
    "        area = (s*(s-a)*(s-b)*(s-c))**0.5\n",
    "        \n",
    "        print(f'Area: {area} sq unit')\n",
    "        print(f'perimeter: {perimeter} unit')\n",
    "    else:\n",
    "        print('Invalid Side!!')\n",
    "    \n",
    "\n",
    "elif shape_name == 'square':\n",
    "    side = float(input('Enter Side of a square: '))\n",
    "    area = side * side\n",
    "    perimeter = 4*side\n",
    "    print(f'Area: {area} sq unit')\n",
    "    print(f'perimeter: {perimeter} unit')\n",
    "\n",
    "\n",
    "elif shape_name == 'circle':\n",
    "    radius = float(input('Enter radius of a circle: '))\n",
    "    area = 3.14 * radius * radius\n",
    "    perimeter = 2*3.14* radius\n",
    "    print(f'Area: {area} sq unit')\n",
    "    print(f'perimeter: {perimeter} unit')\n",
    "    display(IPython.display.Image('https://www.shutterstock.com/shutterstock/videos/3489040067/thumb/1.jpg',width=50,height=50))\n",
    "    \n",
    "\n",
    "elif shape_name == 'rectangle':\n",
    "    l = float(input('Enter length of a rectangle: '))\n",
    "    b = float(input('Enter breadth of a rectangle: '))\n",
    "    perimeter = 2*(l+b)\n",
    "    area = l*b\n",
    "    print(f'Area: {area} sq unit')\n",
    "    print(f'perimeter: {perimeter} unit')\n",
    "\n",
    "else:\n",
    "    print('Unknown Shape')"
   ]
  },
  {
   "cell_type": "code",
   "execution_count": null,
   "id": "217f742b-9eaf-4507-be96-f3834f7cd846",
   "metadata": {},
   "outputs": [],
   "source": []
  }
 ],
 "metadata": {
  "kernelspec": {
   "display_name": "Python [conda env:base] *",
   "language": "python",
   "name": "conda-base-py"
  },
  "language_info": {
   "codemirror_mode": {
    "name": "ipython",
    "version": 3
   },
   "file_extension": ".py",
   "mimetype": "text/x-python",
   "name": "python",
   "nbconvert_exporter": "python",
   "pygments_lexer": "ipython3",
   "version": "3.12.7"
  }
 },
 "nbformat": 4,
 "nbformat_minor": 5
}
