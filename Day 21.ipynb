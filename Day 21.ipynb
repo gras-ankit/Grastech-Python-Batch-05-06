{
 "cells": [
  {
   "cell_type": "markdown",
   "id": "679fe814-4166-4b30-bd2d-da86b8df3947",
   "metadata": {},
   "source": [
    "# Functions:"
   ]
  },
  {
   "cell_type": "code",
   "execution_count": 74,
   "id": "8fb47bc1-e4ff-4e44-99e6-55920097a44a",
   "metadata": {},
   "outputs": [
    {
     "name": "stdout",
     "output_type": "stream",
     "text": [
      "Hello Buddy!!,how are you??\n"
     ]
    }
   ],
   "source": [
    "greet()"
   ]
  },
  {
   "cell_type": "code",
   "execution_count": 2,
   "id": "6cc23652-55f0-4fca-8290-facbdcb03433",
   "metadata": {},
   "outputs": [],
   "source": [
    "# Software:\n",
    "#     Packages:\n",
    "#         Libraries:\n",
    "#             Modules:\n",
    "#                 class:\n",
    "#                     Functions:\n",
    "#                         Conditional programming"
   ]
  },
  {
   "cell_type": "code",
   "execution_count": 6,
   "id": "47c18954-9a56-467a-9fcc-81238fa01cf2",
   "metadata": {},
   "outputs": [
    {
     "name": "stdout",
     "output_type": "stream",
     "text": [
      "Hello karan, how are you??\n"
     ]
    }
   ],
   "source": [
    "name = 'karan'\n",
    "\n",
    "print(f'Hello {name}, how are you??')"
   ]
  },
  {
   "cell_type": "code",
   "execution_count": null,
   "id": "46144d67-fe8b-4862-b801-c3ed870afc4e",
   "metadata": {},
   "outputs": [],
   "source": []
  },
  {
   "cell_type": "code",
   "execution_count": null,
   "id": "3bfd3617-eafb-413a-a79d-23721d14241d",
   "metadata": {},
   "outputs": [],
   "source": []
  },
  {
   "cell_type": "code",
   "execution_count": null,
   "id": "f6a89d16-df80-4fe0-8075-f88cc0ebcde9",
   "metadata": {},
   "outputs": [],
   "source": []
  },
  {
   "cell_type": "code",
   "execution_count": null,
   "id": "09f9c1ac-af0b-4276-a5ad-920fb4d1beba",
   "metadata": {},
   "outputs": [],
   "source": []
  },
  {
   "cell_type": "code",
   "execution_count": null,
   "id": "fed22ad1-3c3a-48a7-af1a-57a62ea517d7",
   "metadata": {},
   "outputs": [],
   "source": []
  },
  {
   "cell_type": "code",
   "execution_count": null,
   "id": "e4c79834-1bf8-4549-a7e9-17977bc1c714",
   "metadata": {},
   "outputs": [],
   "source": []
  },
  {
   "cell_type": "code",
   "execution_count": null,
   "id": "2f50a8d8-efe3-4774-8b18-7b5c6c73395d",
   "metadata": {},
   "outputs": [],
   "source": []
  },
  {
   "cell_type": "code",
   "execution_count": null,
   "id": "4411d454-2c71-42a6-9123-a223aba91e3c",
   "metadata": {},
   "outputs": [],
   "source": []
  },
  {
   "cell_type": "code",
   "execution_count": 16,
   "id": "9b7f656f-bca9-4f8d-81af-dd61ec48ed43",
   "metadata": {},
   "outputs": [],
   "source": [
    "# Wrapper(Func): code logic/.code blocks"
   ]
  },
  {
   "cell_type": "code",
   "execution_count": 18,
   "id": "72f66f9d-a721-477b-b006-bc7f8b2fba46",
   "metadata": {},
   "outputs": [
    {
     "name": "stdout",
     "output_type": "stream",
     "text": [
      "Hello karan, how are you??\n"
     ]
    }
   ],
   "source": [
    "name = 'karan'\n",
    "\n",
    "print(f'Hello {name}, how are you??')"
   ]
  },
  {
   "cell_type": "code",
   "execution_count": 20,
   "id": "3c0c7516-4bc9-4349-9123-2419e5c2f184",
   "metadata": {},
   "outputs": [],
   "source": [
    "# def lower_case(variable concept):\n",
    "#     code blocks\n",
    "#     ...."
   ]
  },
  {
   "cell_type": "code",
   "execution_count": 24,
   "id": "6cd61026-77a3-4d26-99ef-8073c0227de4",
   "metadata": {},
   "outputs": [],
   "source": [
    "def greet():\n",
    "    print('Hello Buddy!!,how are you??')"
   ]
  },
  {
   "cell_type": "code",
   "execution_count": 28,
   "id": "4ce0e8e1-e14e-4e4a-8629-99a36b86d4d7",
   "metadata": {},
   "outputs": [
    {
     "name": "stdout",
     "output_type": "stream",
     "text": [
      "Hello Buddy!!,how are you??\n"
     ]
    }
   ],
   "source": [
    "greet()"
   ]
  },
  {
   "cell_type": "code",
   "execution_count": null,
   "id": "9b5b2bac-77ce-4ac5-873a-ad68013aa090",
   "metadata": {},
   "outputs": [],
   "source": []
  },
  {
   "cell_type": "code",
   "execution_count": null,
   "id": "cd8837d2-7caa-4382-afda-ba4359ae0301",
   "metadata": {},
   "outputs": [],
   "source": []
  },
  {
   "cell_type": "markdown",
   "id": "2068dec6-e2ad-453d-a87e-5b44416ea6ab",
   "metadata": {},
   "source": [
    "# Types of Functions\n",
    "- with Parameter\n",
    "- without Parameter\n",
    "- Print vs Return vs None\n",
    "- Single vs Multiple Args\n",
    "- single vs Multiple Kwargs\n",
    "- Single Liner AnonymousFunc:- Lambda Func"
   ]
  },
  {
   "cell_type": "code",
   "execution_count": 79,
   "id": "a0150a4b-6dd5-4487-9a3b-baeade25813d",
   "metadata": {},
   "outputs": [],
   "source": [
    "# without Parameter"
   ]
  },
  {
   "cell_type": "code",
   "execution_count": 81,
   "id": "014e69a2-09b6-4a07-8901-f9433d8c375e",
   "metadata": {},
   "outputs": [],
   "source": [
    "def say_hello():\n",
    "    print('Hello Buddy!!')"
   ]
  },
  {
   "cell_type": "code",
   "execution_count": 83,
   "id": "6e4ad99c-c75a-4244-9d19-71e810853885",
   "metadata": {},
   "outputs": [
    {
     "name": "stdout",
     "output_type": "stream",
     "text": [
      "Hello Buddy!!\n"
     ]
    }
   ],
   "source": [
    "say_hello()"
   ]
  },
  {
   "cell_type": "code",
   "execution_count": 85,
   "id": "9fa3556b-1068-4f76-b0d4-f45ea0db1b25",
   "metadata": {},
   "outputs": [
    {
     "name": "stdout",
     "output_type": "stream",
     "text": [
      "Hello Buddy!!\n"
     ]
    }
   ],
   "source": [
    "say_hello()"
   ]
  },
  {
   "cell_type": "code",
   "execution_count": 87,
   "id": "449a21b2-089d-42d1-b3f4-5762c71675d8",
   "metadata": {},
   "outputs": [
    {
     "name": "stdout",
     "output_type": "stream",
     "text": [
      "Hello Buddy!!\n",
      "Hello Buddy!!\n",
      "Hello Buddy!!\n",
      "Hello Buddy!!\n",
      "Hello Buddy!!\n"
     ]
    }
   ],
   "source": [
    "for i in range(5):\n",
    "    say_hello()"
   ]
  },
  {
   "cell_type": "code",
   "execution_count": null,
   "id": "03f5b821-540f-442a-97e9-8ece7bd58dad",
   "metadata": {},
   "outputs": [],
   "source": []
  },
  {
   "cell_type": "code",
   "execution_count": 39,
   "id": "bbc0e739-f0e5-4730-a80a-444b981636f6",
   "metadata": {},
   "outputs": [
    {
     "name": "stdout",
     "output_type": "stream",
     "text": [
      "Hello Buddy!!,how are you??\n"
     ]
    }
   ],
   "source": [
    "greet()"
   ]
  },
  {
   "cell_type": "code",
   "execution_count": null,
   "id": "d77e1c0a-29fa-4fa2-ab42-e06a93ee4b11",
   "metadata": {},
   "outputs": [],
   "source": []
  },
  {
   "cell_type": "code",
   "execution_count": 72,
   "id": "d14643c5-7045-4552-85cc-a0d12e78efe6",
   "metadata": {},
   "outputs": [
    {
     "name": "stdout",
     "output_type": "stream",
     "text": [
      "Hello Buddy!!,how are you??\n"
     ]
    }
   ],
   "source": [
    "greet()"
   ]
  },
  {
   "cell_type": "code",
   "execution_count": null,
   "id": "ee1d0d70-2f07-45c1-a287-4d6f317b6768",
   "metadata": {},
   "outputs": [],
   "source": []
  },
  {
   "cell_type": "code",
   "execution_count": 107,
   "id": "13394773-39af-44e1-ba60-b566631aa664",
   "metadata": {},
   "outputs": [],
   "source": [
    "def abhi_ka_time():\n",
    "    import time\n",
    "    print(time.asctime().split(' ')[-2])"
   ]
  },
  {
   "cell_type": "code",
   "execution_count": 116,
   "id": "84a0168a-7578-4436-b122-bd613f8f3c4a",
   "metadata": {},
   "outputs": [
    {
     "name": "stdout",
     "output_type": "stream",
     "text": [
      "17:33:26\n"
     ]
    }
   ],
   "source": [
    "abhi_ka_time()"
   ]
  },
  {
   "cell_type": "code",
   "execution_count": null,
   "id": "debf111a-7227-4bb0-a421-2916c5d16de1",
   "metadata": {},
   "outputs": [],
   "source": []
  },
  {
   "cell_type": "code",
   "execution_count": 128,
   "id": "81851a51-6682-4873-9a3c-876122456307",
   "metadata": {},
   "outputs": [
    {
     "name": "stdout",
     "output_type": "stream",
     "text": [
      "17:35:43\n"
     ]
    }
   ],
   "source": [
    "import time\n",
    "for i in range(5):\n",
    "    abhi_ka_time()\n",
    "    time.sleep(1)\n",
    "    display(clear = 1)"
   ]
  },
  {
   "cell_type": "code",
   "execution_count": 130,
   "id": "5060689c-b8ad-45f2-9f02-f0985db8218d",
   "metadata": {},
   "outputs": [],
   "source": [
    "# Pyqt5\n",
    "# tkinter\n",
    "# pygame"
   ]
  },
  {
   "cell_type": "code",
   "execution_count": 134,
   "id": "3307a65e-7c16-48c9-8873-cb476b70cee8",
   "metadata": {},
   "outputs": [],
   "source": [
    "# with Parameter"
   ]
  },
  {
   "cell_type": "code",
   "execution_count": 146,
   "id": "e6ce8ab5-5924-475b-86c8-ffbb1329ad85",
   "metadata": {},
   "outputs": [],
   "source": [
    "def greet_by_name(n):\n",
    "    print(f'Hello {n}, or bhai kya haal hai??')"
   ]
  },
  {
   "cell_type": "code",
   "execution_count": 150,
   "id": "d10a7184-50f5-4b8f-b6a7-761904071767",
   "metadata": {},
   "outputs": [
    {
     "name": "stdout",
     "output_type": "stream",
     "text": [
      "Hello Mohan, or bhai kya haal hai??\n"
     ]
    }
   ],
   "source": [
    "greet_by_name('Mohan') #argument"
   ]
  },
  {
   "cell_type": "code",
   "execution_count": 160,
   "id": "b3a0de27-383a-437d-86f7-158fb288a4ef",
   "metadata": {},
   "outputs": [
    {
     "name": "stdout",
     "output_type": "stream",
     "text": [
      "Hello JATIN, or bhai kya haal hai??\n",
      "Hello KOMAL, or bhai kya haal hai??\n",
      "Hello RAVI, or bhai kya haal hai??\n",
      "Hello MOHAN, or bhai kya haal hai??\n",
      "Hello AJAY, or bhai kya haal hai??\n"
     ]
    }
   ],
   "source": [
    "students = ['jatin','komal','ravi','Mohan','Ajay']\n",
    "\n",
    "for student in students:\n",
    "    greet_by_name(student.upper())"
   ]
  },
  {
   "cell_type": "code",
   "execution_count": null,
   "id": "8b10e4de-7ad0-44d1-84a2-ed187eb35cb8",
   "metadata": {},
   "outputs": [],
   "source": []
  },
  {
   "cell_type": "code",
   "execution_count": 163,
   "id": "53f150a4-41cf-4c50-94dc-472754b6cb87",
   "metadata": {},
   "outputs": [],
   "source": [
    "# Single vs Multiple Args"
   ]
  },
  {
   "cell_type": "code",
   "execution_count": 165,
   "id": "f645ecea-0d6e-405a-b33a-bf060cea217d",
   "metadata": {},
   "outputs": [],
   "source": [
    "def add_two_numbers(a,b):\n",
    "    print('Final Answer is: ',a+b)"
   ]
  },
  {
   "cell_type": "code",
   "execution_count": 171,
   "id": "6e248334-13b5-4dae-bc8e-8cc2d60ff1ca",
   "metadata": {},
   "outputs": [
    {
     "name": "stdout",
     "output_type": "stream",
     "text": [
      "Final Answer is:  112\n"
     ]
    }
   ],
   "source": [
    "add_two_numbers(23,89)"
   ]
  },
  {
   "cell_type": "code",
   "execution_count": 173,
   "id": "cbf617b7-b89e-4773-9ad5-66b60fbf3c3a",
   "metadata": {},
   "outputs": [],
   "source": [
    "def add_two_numbers(a,b):\n",
    "    print(a+b)"
   ]
  },
  {
   "cell_type": "code",
   "execution_count": 177,
   "id": "eda1136b-8cc1-4ffc-87dd-631a8a989eea",
   "metadata": {},
   "outputs": [
    {
     "name": "stdout",
     "output_type": "stream",
     "text": [
      "35\n"
     ]
    },
    {
     "ename": "TypeError",
     "evalue": "unsupported operand type(s) for +: 'int' and 'NoneType'",
     "output_type": "error",
     "traceback": [
      "\u001b[1;31m---------------------------------------------------------------------------\u001b[0m",
      "\u001b[1;31mTypeError\u001b[0m                                 Traceback (most recent call last)",
      "Cell \u001b[1;32mIn[177], line 1\u001b[0m\n\u001b[1;32m----> 1\u001b[0m \u001b[38;5;241m10\u001b[39m \u001b[38;5;241m+\u001b[39m add_two_numbers(\u001b[38;5;241m12\u001b[39m,\u001b[38;5;241m23\u001b[39m)\n",
      "\u001b[1;31mTypeError\u001b[0m: unsupported operand type(s) for +: 'int' and 'NoneType'"
     ]
    }
   ],
   "source": [
    "10 + add_two_numbers(12,23)"
   ]
  },
  {
   "cell_type": "code",
   "execution_count": 179,
   "id": "bc6d58ac-10e8-4d47-8a9f-91d48468de4a",
   "metadata": {},
   "outputs": [
    {
     "ename": "TypeError",
     "evalue": "unsupported operand type(s) for +: 'int' and 'NoneType'",
     "output_type": "error",
     "traceback": [
      "\u001b[1;31m---------------------------------------------------------------------------\u001b[0m",
      "\u001b[1;31mTypeError\u001b[0m                                 Traceback (most recent call last)",
      "Cell \u001b[1;32mIn[179], line 1\u001b[0m\n\u001b[1;32m----> 1\u001b[0m \u001b[38;5;241m10\u001b[39m \u001b[38;5;241m+\u001b[39m \u001b[38;5;28;01mNone\u001b[39;00m\n",
      "\u001b[1;31mTypeError\u001b[0m: unsupported operand type(s) for +: 'int' and 'NoneType'"
     ]
    }
   ],
   "source": [
    "10 + None"
   ]
  },
  {
   "cell_type": "code",
   "execution_count": 181,
   "id": "03bdbb2c-94b6-40da-850a-5760626dbf09",
   "metadata": {},
   "outputs": [],
   "source": [
    "# function with return"
   ]
  },
  {
   "cell_type": "code",
   "execution_count": 204,
   "id": "4784fe3e-151c-49b1-8a01-3d0d73b5ed93",
   "metadata": {},
   "outputs": [],
   "source": [
    "def add_two(x,y):\n",
    "    return (x+y)"
   ]
  },
  {
   "cell_type": "code",
   "execution_count": 206,
   "id": "c1ece2fa-e5b6-4b90-ae2c-a6fd62ede97b",
   "metadata": {},
   "outputs": [
    {
     "data": {
      "text/plain": [
       "32"
      ]
     },
     "execution_count": 206,
     "metadata": {},
     "output_type": "execute_result"
    }
   ],
   "source": [
    "10 + add_two(12,10)"
   ]
  },
  {
   "cell_type": "code",
   "execution_count": null,
   "id": "dfa4c2ac-149b-4bb8-b661-103d2d0b3482",
   "metadata": {},
   "outputs": [],
   "source": []
  },
  {
   "cell_type": "code",
   "execution_count": 209,
   "id": "3d4abf89-cfb5-4978-997c-62c81baa3f96",
   "metadata": {},
   "outputs": [],
   "source": [
    "# True()"
   ]
  },
  {
   "cell_type": "code",
   "execution_count": 211,
   "id": "b670e7d4-b12e-4f47-a84a-17d1494616d3",
   "metadata": {},
   "outputs": [],
   "source": [
    "# min()"
   ]
  },
  {
   "cell_type": "code",
   "execution_count": 213,
   "id": "7dbf14f2-356e-492d-96c7-ad74fe857df6",
   "metadata": {},
   "outputs": [],
   "source": [
    "# print()"
   ]
  },
  {
   "cell_type": "code",
   "execution_count": 217,
   "id": "a06edbdc-ca85-4584-837b-e1e6d29d91b5",
   "metadata": {},
   "outputs": [
    {
     "name": "stdout",
     "output_type": "stream",
     "text": [
      "34\n"
     ]
    }
   ],
   "source": [
    "print(34)"
   ]
  },
  {
   "cell_type": "code",
   "execution_count": 223,
   "id": "8c0d0832-1c74-420e-a2bf-d97df18d36f8",
   "metadata": {},
   "outputs": [],
   "source": [
    "# True"
   ]
  },
  {
   "cell_type": "code",
   "execution_count": 225,
   "id": "71829778-8e26-46c6-a3b7-91724881cd9f",
   "metadata": {},
   "outputs": [],
   "source": [
    "# empty func"
   ]
  },
  {
   "cell_type": "code",
   "execution_count": 227,
   "id": "629decde-4184-4a82-8525-fb639ac9ded7",
   "metadata": {},
   "outputs": [],
   "source": [
    "def empty():\n",
    "    return None"
   ]
  },
  {
   "cell_type": "code",
   "execution_count": 237,
   "id": "397b1c99-e499-47e9-b34d-01a18bd89cf7",
   "metadata": {},
   "outputs": [
    {
     "name": "stdout",
     "output_type": "stream",
     "text": [
      "None\n"
     ]
    }
   ],
   "source": [
    "print(empty())"
   ]
  },
  {
   "cell_type": "code",
   "execution_count": 241,
   "id": "329427a7-d044-4185-b14c-7fda9880121c",
   "metadata": {},
   "outputs": [],
   "source": [
    "def empty():\n",
    "    pass"
   ]
  },
  {
   "cell_type": "code",
   "execution_count": 243,
   "id": "e4ee90e3-639e-437c-81c5-2040db5e2319",
   "metadata": {},
   "outputs": [],
   "source": [
    "empty()"
   ]
  },
  {
   "cell_type": "code",
   "execution_count": 245,
   "id": "8ad7150f-2879-4f98-a7e3-0b6241189c51",
   "metadata": {},
   "outputs": [],
   "source": [
    "def empty():\n",
    "    ..."
   ]
  },
  {
   "cell_type": "code",
   "execution_count": 247,
   "id": "9ad41384-205d-48c0-a9fb-db494645ccfd",
   "metadata": {},
   "outputs": [],
   "source": [
    "empty()"
   ]
  },
  {
   "cell_type": "markdown",
   "id": "9ab8b8b6-e555-46c2-81e3-efc1654b6fea",
   "metadata": {},
   "source": [
    "# Inbuilt vs user defined func"
   ]
  },
  {
   "cell_type": "code",
   "execution_count": 252,
   "id": "d08f8414-846e-45a0-b24a-db605371e7d7",
   "metadata": {},
   "outputs": [],
   "source": [
    "# Inbuilt\n",
    "# round()\n",
    "# min()\n",
    "# max()\n",
    "# len()\n",
    "# sum()\n",
    "# print()"
   ]
  },
  {
   "cell_type": "code",
   "execution_count": 254,
   "id": "d57b6b49-b8d5-48eb-a559-3a443986e2ef",
   "metadata": {},
   "outputs": [],
   "source": [
    "# UDF\n",
    "# greet()\n",
    "# greet_by_name()\n",
    "# say_hello()\n"
   ]
  },
  {
   "cell_type": "code",
   "execution_count": null,
   "id": "677fe5df-baad-418b-b318-b0dfba78fa0e",
   "metadata": {},
   "outputs": [],
   "source": []
  },
  {
   "cell_type": "code",
   "execution_count": 269,
   "id": "e5c5ae17-376e-4aef-8fe7-ef0c7bf504ed",
   "metadata": {},
   "outputs": [
    {
     "name": "stdout",
     "output_type": "stream",
     "text": [
      "Prime Number!!\n"
     ]
    }
   ],
   "source": [
    "number = 2\n",
    "if number>= 2:\n",
    "    for i in range(2,number):\n",
    "        if number % i == 0:\n",
    "            print('Not a Prime Number!!')\n",
    "            break\n",
    "    else:\n",
    "        print('Prime Number!!')\n",
    "else:\n",
    "    print('Number must be greater than or equal to 2!!')"
   ]
  },
  {
   "cell_type": "code",
   "execution_count": 291,
   "id": "e783d3e8-76a2-4678-9b8b-3fa28a6dd9d1",
   "metadata": {},
   "outputs": [],
   "source": [
    "def bhai_ka_prime_number_check_hoga(number:int) -> None:\n",
    "    '''Bhai ye prime Number check karega, so number aap integer hi pass karna!!'''\n",
    "    if type(number) == int:\n",
    "        if number>= 2:\n",
    "            for i in range(2,number):\n",
    "                if number % i == 0:\n",
    "                    print('Not a Prime Number!!')\n",
    "                    break\n",
    "            else:\n",
    "                print('Prime Number!!')\n",
    "        else:\n",
    "            print('Number must be greater than or equal to 2!!')\n",
    "    else:\n",
    "        print('Number Must be Integer!!')"
   ]
  },
  {
   "cell_type": "code",
   "execution_count": 293,
   "id": "e5bfe660-8f35-4360-b326-630c14c9f37a",
   "metadata": {},
   "outputs": [
    {
     "name": "stdout",
     "output_type": "stream",
     "text": [
      "Number Must be Integer!!\n"
     ]
    }
   ],
   "source": [
    "check_prime_number('cvjk')"
   ]
  },
  {
   "cell_type": "code",
   "execution_count": 295,
   "id": "ac5eae52-e8fa-4be7-a408-19e5ee2e7f66",
   "metadata": {},
   "outputs": [
    {
     "name": "stdout",
     "output_type": "stream",
     "text": [
      "Prime Number!!\n"
     ]
    }
   ],
   "source": [
    "bhai_ka_prime_number_check_hoga(23)"
   ]
  },
  {
   "cell_type": "code",
   "execution_count": null,
   "id": "fce928d9-723e-477d-a78d-29b14d6f898c",
   "metadata": {},
   "outputs": [],
   "source": []
  },
  {
   "cell_type": "code",
   "execution_count": 300,
   "id": "3d5af057-8de9-419a-bbcb-20b73ba232f7",
   "metadata": {},
   "outputs": [],
   "source": [
    "# pip install gTTS|"
   ]
  },
  {
   "cell_type": "code",
   "execution_count": 302,
   "id": "c28cfc39-03a8-4e75-a317-81fb21f6d097",
   "metadata": {},
   "outputs": [
    {
     "name": "stdout",
     "output_type": "stream",
     "text": [
      "done\n"
     ]
    }
   ],
   "source": [
    "from gtts import gTTS\n",
    "message = 'Or Bhai, Kya kar raha hai.'\n",
    "tts = gTTS(message)\n",
    "tts.save('message.mp3')\n",
    "print('done')"
   ]
  },
  {
   "cell_type": "code",
   "execution_count": 310,
   "id": "ea730e9a-049d-424c-a3bf-1873b858903a",
   "metadata": {},
   "outputs": [
    {
     "data": {
      "text/plain": [
       "(5, 0)"
      ]
     },
     "execution_count": 310,
     "metadata": {},
     "output_type": "execute_result"
    }
   ],
   "source": [
    "import pygame\n",
    "pygame.init()"
   ]
  },
  {
   "cell_type": "code",
   "execution_count": 338,
   "id": "d026ca1a-4e17-45c1-bc8b-4587568b5ead",
   "metadata": {},
   "outputs": [],
   "source": [
    "def paytm(amount,company = 'Paytm'):\n",
    "    message = f'{company} par {amount} rupees prapt hue'\n",
    "    tts = gTTS(message)\n",
    "    tts.save('message.mp3')\n",
    "    audio = pygame.mixer.Sound('message.mp3')\n",
    "    audio.play()"
   ]
  },
  {
   "cell_type": "code",
   "execution_count": null,
   "id": "9913a602-39a6-47ee-a4c6-e69ee0eae13e",
   "metadata": {},
   "outputs": [],
   "source": []
  },
  {
   "cell_type": "code",
   "execution_count": null,
   "id": "e95cba5d-1617-4ce7-95a0-611723dd2d1a",
   "metadata": {},
   "outputs": [],
   "source": []
  },
  {
   "cell_type": "code",
   "execution_count": 342,
   "id": "9fa06985-3a7f-4e3c-b96e-466d7bef6478",
   "metadata": {},
   "outputs": [],
   "source": [
    "paytm(120,'phone pe')"
   ]
  },
  {
   "cell_type": "code",
   "execution_count": null,
   "id": "57b7c05f-9a29-419e-ae69-6c7dae316506",
   "metadata": {},
   "outputs": [],
   "source": []
  }
 ],
 "metadata": {
  "kernelspec": {
   "display_name": "Python [conda env:base] *",
   "language": "python",
   "name": "conda-base-py"
  },
  "language_info": {
   "codemirror_mode": {
    "name": "ipython",
    "version": 3
   },
   "file_extension": ".py",
   "mimetype": "text/x-python",
   "name": "python",
   "nbconvert_exporter": "python",
   "pygments_lexer": "ipython3",
   "version": "3.12.7"
  }
 },
 "nbformat": 4,
 "nbformat_minor": 5
}
