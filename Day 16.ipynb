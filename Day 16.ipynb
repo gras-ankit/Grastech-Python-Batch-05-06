{
 "cells": [
  {
   "cell_type": "markdown",
   "id": "7b40fac3-2378-4676-91c1-ba237ef9ae36",
   "metadata": {},
   "source": [
    "# While Loop\n",
    "    When we want to run loop based on some condition/s "
   ]
  },
  {
   "cell_type": "code",
   "execution_count": 2,
   "id": "f9a71381-14ad-4810-8379-759022a02760",
   "metadata": {},
   "outputs": [],
   "source": [
    "# syntax\n",
    "\n",
    "# while (condition/conditions):\n",
    "#     code block"
   ]
  },
  {
   "cell_type": "code",
   "execution_count": 4,
   "id": "f01912f3-780e-43dc-91e4-c8b3eac41d0c",
   "metadata": {},
   "outputs": [],
   "source": [
    "# 1, 10 number using while loop"
   ]
  },
  {
   "cell_type": "code",
   "execution_count": 6,
   "id": "72e08c61-eacb-44a6-ba0e-96126dc4d380",
   "metadata": {},
   "outputs": [
    {
     "name": "stdout",
     "output_type": "stream",
     "text": [
      "1\n",
      "2\n",
      "3\n",
      "4\n",
      "5\n",
      "6\n",
      "7\n",
      "8\n",
      "9\n",
      "10\n"
     ]
    }
   ],
   "source": [
    "for i in range(1,11):\n",
    "    print(i)"
   ]
  },
  {
   "cell_type": "code",
   "execution_count": 8,
   "id": "1d9f52b4-dd43-44d6-8c82-271ab5cf4393",
   "metadata": {},
   "outputs": [],
   "source": [
    "# counter variable"
   ]
  },
  {
   "cell_type": "code",
   "execution_count": 1,
   "id": "3b20b379-ff51-49d8-80c4-b2280063ccb8",
   "metadata": {},
   "outputs": [
    {
     "name": "stdout",
     "output_type": "stream",
     "text": [
      "1\n",
      "2\n",
      "3\n",
      "4\n",
      "5\n",
      "6\n",
      "7\n",
      "8\n",
      "9\n",
      "10\n"
     ]
    }
   ],
   "source": [
    "c = 1\n",
    "while c<=10:\n",
    "    print(c)\n",
    "    c = c + 1"
   ]
  },
  {
   "cell_type": "code",
   "execution_count": 3,
   "id": "273e07f2-3faf-495d-a194-271e1bf63c92",
   "metadata": {},
   "outputs": [
    {
     "name": "stdout",
     "output_type": "stream",
     "text": [
      "1\n",
      "2\n",
      "3\n",
      "4\n",
      "5\n",
      "6\n",
      "7\n",
      "8\n",
      "9\n",
      "10\n"
     ]
    }
   ],
   "source": [
    "c = 1\n",
    "while c<=10:\n",
    "    print(c)\n",
    "    c += 1 "
   ]
  },
  {
   "cell_type": "code",
   "execution_count": 7,
   "id": "79984166-2efe-465c-8d6c-399cc9ed3f3b",
   "metadata": {},
   "outputs": [
    {
     "name": "stdout",
     "output_type": "stream",
     "text": [
      "12 x 1 = 12\n",
      "12 x 2 = 24\n",
      "12 x 3 = 36\n",
      "12 x 4 = 48\n",
      "12 x 5 = 60\n",
      "12 x 6 = 72\n",
      "12 x 7 = 84\n",
      "12 x 8 = 96\n",
      "12 x 9 = 108\n",
      "12 x 10 = 120\n"
     ]
    }
   ],
   "source": [
    "table = 12\n",
    "c = 1\n",
    "while c <= 10:\n",
    "    print(f'{table} x {c} = {table * c}')\n",
    "    c += 1"
   ]
  },
  {
   "cell_type": "code",
   "execution_count": 9,
   "id": "04491bf8-97c3-4756-a5f8-e46b364a273c",
   "metadata": {},
   "outputs": [],
   "source": [
    "# nested loop:- for loop, for loop, while inside while"
   ]
  },
  {
   "cell_type": "code",
   "execution_count": 11,
   "id": "7a78c085-6991-4a63-8b00-8d59a3345de4",
   "metadata": {},
   "outputs": [
    {
     "name": "stdout",
     "output_type": "stream",
     "text": [
      "Table for 2: \n",
      "2 x 2 = 2\n",
      "2 x 2 = 4\n",
      "2 x 2 = 6\n",
      "2 x 2 = 8\n",
      "2 x 2 = 10\n",
      "2 x 2 = 12\n",
      "2 x 2 = 14\n",
      "2 x 2 = 16\n",
      "2 x 2 = 18\n",
      "2 x 2 = 20\n",
      "\n",
      "\n",
      "\n",
      "Table for 3: \n",
      "3 x 3 = 3\n",
      "3 x 3 = 6\n",
      "3 x 3 = 9\n",
      "3 x 3 = 12\n",
      "3 x 3 = 15\n",
      "3 x 3 = 18\n",
      "3 x 3 = 21\n",
      "3 x 3 = 24\n",
      "3 x 3 = 27\n",
      "3 x 3 = 30\n",
      "\n",
      "\n",
      "\n",
      "Table for 4: \n",
      "4 x 4 = 4\n",
      "4 x 4 = 8\n",
      "4 x 4 = 12\n",
      "4 x 4 = 16\n",
      "4 x 4 = 20\n",
      "4 x 4 = 24\n",
      "4 x 4 = 28\n",
      "4 x 4 = 32\n",
      "4 x 4 = 36\n",
      "4 x 4 = 40\n",
      "\n",
      "\n",
      "\n",
      "Table for 5: \n",
      "5 x 5 = 5\n",
      "5 x 5 = 10\n",
      "5 x 5 = 15\n",
      "5 x 5 = 20\n",
      "5 x 5 = 25\n",
      "5 x 5 = 30\n",
      "5 x 5 = 35\n",
      "5 x 5 = 40\n",
      "5 x 5 = 45\n",
      "5 x 5 = 50\n",
      "\n",
      "\n",
      "\n",
      "Table for 6: \n",
      "6 x 6 = 6\n",
      "6 x 6 = 12\n",
      "6 x 6 = 18\n",
      "6 x 6 = 24\n",
      "6 x 6 = 30\n",
      "6 x 6 = 36\n",
      "6 x 6 = 42\n",
      "6 x 6 = 48\n",
      "6 x 6 = 54\n",
      "6 x 6 = 60\n",
      "\n",
      "\n",
      "\n",
      "Table for 7: \n",
      "7 x 7 = 7\n",
      "7 x 7 = 14\n",
      "7 x 7 = 21\n",
      "7 x 7 = 28\n",
      "7 x 7 = 35\n",
      "7 x 7 = 42\n",
      "7 x 7 = 49\n",
      "7 x 7 = 56\n",
      "7 x 7 = 63\n",
      "7 x 7 = 70\n",
      "\n",
      "\n",
      "\n",
      "Table for 8: \n",
      "8 x 8 = 8\n",
      "8 x 8 = 16\n",
      "8 x 8 = 24\n",
      "8 x 8 = 32\n",
      "8 x 8 = 40\n",
      "8 x 8 = 48\n",
      "8 x 8 = 56\n",
      "8 x 8 = 64\n",
      "8 x 8 = 72\n",
      "8 x 8 = 80\n",
      "\n",
      "\n",
      "\n",
      "Table for 9: \n",
      "9 x 9 = 9\n",
      "9 x 9 = 18\n",
      "9 x 9 = 27\n",
      "9 x 9 = 36\n",
      "9 x 9 = 45\n",
      "9 x 9 = 54\n",
      "9 x 9 = 63\n",
      "9 x 9 = 72\n",
      "9 x 9 = 81\n",
      "9 x 9 = 90\n",
      "\n",
      "\n",
      "\n",
      "Table for 10: \n",
      "10 x 10 = 10\n",
      "10 x 10 = 20\n",
      "10 x 10 = 30\n",
      "10 x 10 = 40\n",
      "10 x 10 = 50\n",
      "10 x 10 = 60\n",
      "10 x 10 = 70\n",
      "10 x 10 = 80\n",
      "10 x 10 = 90\n",
      "10 x 10 = 100\n",
      "\n",
      "\n",
      "\n",
      "Table for 11: \n",
      "11 x 11 = 11\n",
      "11 x 11 = 22\n",
      "11 x 11 = 33\n",
      "11 x 11 = 44\n",
      "11 x 11 = 55\n",
      "11 x 11 = 66\n",
      "11 x 11 = 77\n",
      "11 x 11 = 88\n",
      "11 x 11 = 99\n",
      "11 x 11 = 110\n",
      "\n",
      "\n",
      "\n",
      "Table for 12: \n",
      "12 x 12 = 12\n",
      "12 x 12 = 24\n",
      "12 x 12 = 36\n",
      "12 x 12 = 48\n",
      "12 x 12 = 60\n",
      "12 x 12 = 72\n",
      "12 x 12 = 84\n",
      "12 x 12 = 96\n",
      "12 x 12 = 108\n",
      "12 x 12 = 120\n",
      "\n",
      "\n",
      "\n",
      "Table for 13: \n",
      "13 x 13 = 13\n",
      "13 x 13 = 26\n",
      "13 x 13 = 39\n",
      "13 x 13 = 52\n",
      "13 x 13 = 65\n",
      "13 x 13 = 78\n",
      "13 x 13 = 91\n",
      "13 x 13 = 104\n",
      "13 x 13 = 117\n",
      "13 x 13 = 130\n",
      "\n",
      "\n",
      "\n",
      "Table for 14: \n",
      "14 x 14 = 14\n",
      "14 x 14 = 28\n",
      "14 x 14 = 42\n",
      "14 x 14 = 56\n",
      "14 x 14 = 70\n",
      "14 x 14 = 84\n",
      "14 x 14 = 98\n",
      "14 x 14 = 112\n",
      "14 x 14 = 126\n",
      "14 x 14 = 140\n",
      "\n",
      "\n",
      "\n",
      "Table for 15: \n",
      "15 x 15 = 15\n",
      "15 x 15 = 30\n",
      "15 x 15 = 45\n",
      "15 x 15 = 60\n",
      "15 x 15 = 75\n",
      "15 x 15 = 90\n",
      "15 x 15 = 105\n",
      "15 x 15 = 120\n",
      "15 x 15 = 135\n",
      "15 x 15 = 150\n",
      "\n",
      "\n",
      "\n",
      "Table for 16: \n",
      "16 x 16 = 16\n",
      "16 x 16 = 32\n",
      "16 x 16 = 48\n",
      "16 x 16 = 64\n",
      "16 x 16 = 80\n",
      "16 x 16 = 96\n",
      "16 x 16 = 112\n",
      "16 x 16 = 128\n",
      "16 x 16 = 144\n",
      "16 x 16 = 160\n",
      "\n",
      "\n",
      "\n",
      "Table for 17: \n",
      "17 x 17 = 17\n",
      "17 x 17 = 34\n",
      "17 x 17 = 51\n",
      "17 x 17 = 68\n",
      "17 x 17 = 85\n",
      "17 x 17 = 102\n",
      "17 x 17 = 119\n",
      "17 x 17 = 136\n",
      "17 x 17 = 153\n",
      "17 x 17 = 170\n",
      "\n",
      "\n",
      "\n",
      "Table for 18: \n",
      "18 x 18 = 18\n",
      "18 x 18 = 36\n",
      "18 x 18 = 54\n",
      "18 x 18 = 72\n",
      "18 x 18 = 90\n",
      "18 x 18 = 108\n",
      "18 x 18 = 126\n",
      "18 x 18 = 144\n",
      "18 x 18 = 162\n",
      "18 x 18 = 180\n",
      "\n",
      "\n",
      "\n",
      "Table for 19: \n",
      "19 x 19 = 19\n",
      "19 x 19 = 38\n",
      "19 x 19 = 57\n",
      "19 x 19 = 76\n",
      "19 x 19 = 95\n",
      "19 x 19 = 114\n",
      "19 x 19 = 133\n",
      "19 x 19 = 152\n",
      "19 x 19 = 171\n",
      "19 x 19 = 190\n",
      "\n",
      "\n",
      "\n",
      "Table for 20: \n",
      "20 x 20 = 20\n",
      "20 x 20 = 40\n",
      "20 x 20 = 60\n",
      "20 x 20 = 80\n",
      "20 x 20 = 100\n",
      "20 x 20 = 120\n",
      "20 x 20 = 140\n",
      "20 x 20 = 160\n",
      "20 x 20 = 180\n",
      "20 x 20 = 200\n",
      "\n",
      "\n",
      "\n"
     ]
    }
   ],
   "source": [
    "i = 2\n",
    "while i < 21:\n",
    "    print(f'Table for {i}: ')\n",
    "    for j in range(1,11):\n",
    "       print(f'{i} x {i} = {i*j}') \n",
    "    i += 1 \n",
    "    print(end = '\\n'*3)"
   ]
  },
  {
   "cell_type": "code",
   "execution_count": 19,
   "id": "dde05584-7500-48a2-b56b-6247d3edf691",
   "metadata": {},
   "outputs": [
    {
     "name": "stdout",
     "output_type": "stream",
     "text": [
      "Table for 2: \n",
      "2 x 1 = 2\n",
      "2 x 2 = 4\n",
      "2 x 3 = 6\n",
      "2 x 4 = 8\n",
      "2 x 5 = 10\n",
      "2 x 6 = 12\n",
      "2 x 7 = 14\n",
      "2 x 8 = 16\n",
      "2 x 9 = 18\n",
      "2 x 10 = 20\n",
      "\n",
      "\n",
      "\n",
      "Table for 3: \n",
      "3 x 1 = 3\n",
      "3 x 2 = 6\n",
      "3 x 3 = 9\n",
      "3 x 4 = 12\n",
      "3 x 5 = 15\n",
      "3 x 6 = 18\n",
      "3 x 7 = 21\n",
      "3 x 8 = 24\n",
      "3 x 9 = 27\n",
      "3 x 10 = 30\n",
      "\n",
      "\n",
      "\n",
      "Table for 4: \n",
      "4 x 1 = 4\n",
      "4 x 2 = 8\n",
      "4 x 3 = 12\n",
      "4 x 4 = 16\n",
      "4 x 5 = 20\n",
      "4 x 6 = 24\n",
      "4 x 7 = 28\n",
      "4 x 8 = 32\n",
      "4 x 9 = 36\n",
      "4 x 10 = 40\n",
      "\n",
      "\n",
      "\n",
      "Table for 5: \n",
      "5 x 1 = 5\n",
      "5 x 2 = 10\n",
      "5 x 3 = 15\n",
      "5 x 4 = 20\n",
      "5 x 5 = 25\n",
      "5 x 6 = 30\n",
      "5 x 7 = 35\n",
      "5 x 8 = 40\n",
      "5 x 9 = 45\n",
      "5 x 10 = 50\n",
      "\n",
      "\n",
      "\n",
      "Table for 6: \n",
      "6 x 1 = 6\n",
      "6 x 2 = 12\n",
      "6 x 3 = 18\n",
      "6 x 4 = 24\n",
      "6 x 5 = 30\n",
      "6 x 6 = 36\n",
      "6 x 7 = 42\n",
      "6 x 8 = 48\n",
      "6 x 9 = 54\n",
      "6 x 10 = 60\n",
      "\n",
      "\n",
      "\n",
      "Table for 7: \n",
      "7 x 1 = 7\n",
      "7 x 2 = 14\n",
      "7 x 3 = 21\n",
      "7 x 4 = 28\n",
      "7 x 5 = 35\n",
      "7 x 6 = 42\n",
      "7 x 7 = 49\n",
      "7 x 8 = 56\n",
      "7 x 9 = 63\n",
      "7 x 10 = 70\n",
      "\n",
      "\n",
      "\n",
      "Table for 8: \n",
      "8 x 1 = 8\n",
      "8 x 2 = 16\n",
      "8 x 3 = 24\n",
      "8 x 4 = 32\n",
      "8 x 5 = 40\n",
      "8 x 6 = 48\n",
      "8 x 7 = 56\n",
      "8 x 8 = 64\n",
      "8 x 9 = 72\n",
      "8 x 10 = 80\n",
      "\n",
      "\n",
      "\n",
      "Table for 9: \n",
      "9 x 1 = 9\n",
      "9 x 2 = 18\n",
      "9 x 3 = 27\n",
      "9 x 4 = 36\n",
      "9 x 5 = 45\n",
      "9 x 6 = 54\n",
      "9 x 7 = 63\n",
      "9 x 8 = 72\n",
      "9 x 9 = 81\n",
      "9 x 10 = 90\n",
      "\n",
      "\n",
      "\n",
      "Table for 10: \n",
      "10 x 1 = 10\n",
      "10 x 2 = 20\n",
      "10 x 3 = 30\n",
      "10 x 4 = 40\n",
      "10 x 5 = 50\n",
      "10 x 6 = 60\n",
      "10 x 7 = 70\n",
      "10 x 8 = 80\n",
      "10 x 9 = 90\n",
      "10 x 10 = 100\n",
      "\n",
      "\n",
      "\n",
      "Table for 11: \n",
      "11 x 1 = 11\n",
      "11 x 2 = 22\n",
      "11 x 3 = 33\n",
      "11 x 4 = 44\n",
      "11 x 5 = 55\n",
      "11 x 6 = 66\n",
      "11 x 7 = 77\n",
      "11 x 8 = 88\n",
      "11 x 9 = 99\n",
      "11 x 10 = 110\n",
      "\n",
      "\n",
      "\n",
      "Table for 12: \n",
      "12 x 1 = 12\n",
      "12 x 2 = 24\n",
      "12 x 3 = 36\n",
      "12 x 4 = 48\n",
      "12 x 5 = 60\n",
      "12 x 6 = 72\n",
      "12 x 7 = 84\n",
      "12 x 8 = 96\n",
      "12 x 9 = 108\n",
      "12 x 10 = 120\n",
      "\n",
      "\n",
      "\n",
      "Table for 13: \n",
      "13 x 1 = 13\n",
      "13 x 2 = 26\n",
      "13 x 3 = 39\n",
      "13 x 4 = 52\n",
      "13 x 5 = 65\n",
      "13 x 6 = 78\n",
      "13 x 7 = 91\n",
      "13 x 8 = 104\n",
      "13 x 9 = 117\n",
      "13 x 10 = 130\n",
      "\n",
      "\n",
      "\n",
      "Table for 14: \n",
      "14 x 1 = 14\n",
      "14 x 2 = 28\n",
      "14 x 3 = 42\n",
      "14 x 4 = 56\n",
      "14 x 5 = 70\n",
      "14 x 6 = 84\n",
      "14 x 7 = 98\n",
      "14 x 8 = 112\n",
      "14 x 9 = 126\n",
      "14 x 10 = 140\n",
      "\n",
      "\n",
      "\n",
      "Table for 15: \n",
      "15 x 1 = 15\n",
      "15 x 2 = 30\n",
      "15 x 3 = 45\n",
      "15 x 4 = 60\n",
      "15 x 5 = 75\n",
      "15 x 6 = 90\n",
      "15 x 7 = 105\n",
      "15 x 8 = 120\n",
      "15 x 9 = 135\n",
      "15 x 10 = 150\n",
      "\n",
      "\n",
      "\n",
      "Table for 16: \n",
      "16 x 1 = 16\n",
      "16 x 2 = 32\n",
      "16 x 3 = 48\n",
      "16 x 4 = 64\n",
      "16 x 5 = 80\n",
      "16 x 6 = 96\n",
      "16 x 7 = 112\n",
      "16 x 8 = 128\n",
      "16 x 9 = 144\n",
      "16 x 10 = 160\n",
      "\n",
      "\n",
      "\n",
      "Table for 17: \n",
      "17 x 1 = 17\n",
      "17 x 2 = 34\n",
      "17 x 3 = 51\n",
      "17 x 4 = 68\n",
      "17 x 5 = 85\n",
      "17 x 6 = 102\n",
      "17 x 7 = 119\n",
      "17 x 8 = 136\n",
      "17 x 9 = 153\n",
      "17 x 10 = 170\n",
      "\n",
      "\n",
      "\n",
      "Table for 18: \n",
      "18 x 1 = 18\n",
      "18 x 2 = 36\n",
      "18 x 3 = 54\n",
      "18 x 4 = 72\n",
      "18 x 5 = 90\n",
      "18 x 6 = 108\n",
      "18 x 7 = 126\n",
      "18 x 8 = 144\n",
      "18 x 9 = 162\n",
      "18 x 10 = 180\n",
      "\n",
      "\n",
      "\n",
      "Table for 19: \n",
      "19 x 1 = 19\n",
      "19 x 2 = 38\n",
      "19 x 3 = 57\n",
      "19 x 4 = 76\n",
      "19 x 5 = 95\n",
      "19 x 6 = 114\n",
      "19 x 7 = 133\n",
      "19 x 8 = 152\n",
      "19 x 9 = 171\n",
      "19 x 10 = 190\n",
      "\n",
      "\n",
      "\n",
      "Table for 20: \n",
      "20 x 1 = 20\n",
      "20 x 2 = 40\n",
      "20 x 3 = 60\n",
      "20 x 4 = 80\n",
      "20 x 5 = 100\n",
      "20 x 6 = 120\n",
      "20 x 7 = 140\n",
      "20 x 8 = 160\n",
      "20 x 9 = 180\n",
      "20 x 10 = 200\n",
      "\n",
      "\n",
      "\n"
     ]
    }
   ],
   "source": [
    "i = 2\n",
    "j = 1\n",
    "while i <= 20:\n",
    "    print(f'Table for {i}: ')\n",
    "    while j <= 10:\n",
    "        print(f'{i} x {j} = {i*j}')\n",
    "        j += 1\n",
    "    i += 1\n",
    "    j = 1\n",
    "    print(end = '\\n'*3)"
   ]
  },
  {
   "cell_type": "code",
   "execution_count": null,
   "id": "49ff08f7-7fc0-4576-b323-cca62a0276c1",
   "metadata": {},
   "outputs": [],
   "source": []
  },
  {
   "cell_type": "code",
   "execution_count": 30,
   "id": "28303d83-2abf-4794-b9d3-77e14be7368d",
   "metadata": {},
   "outputs": [
    {
     "name": "stdout",
     "output_type": "stream",
     "text": [
      "[23, 54]\n"
     ]
    }
   ],
   "source": [
    "a = [23,5,45,238,54,70,456,7568]\n",
    "b = [34,6565,70,3,23,5,54,7]\n",
    "d = [23,456,63,43,78,54,5457]\n",
    "c = []\n",
    "\n",
    "for i in a:\n",
    "    for j in b:\n",
    "        for k in d:\n",
    "            if i == j == k:\n",
    "                c.append(i)\n",
    "print(c)"
   ]
  },
  {
   "cell_type": "code",
   "execution_count": 96,
   "id": "56b57197-47ea-4a63-9db2-06ed0fa6069b",
   "metadata": {},
   "outputs": [],
   "source": [
    "a = [23,5,45,238,54,70,456,7568]\n",
    "b = [34,6565,70,3,23,5,54,7]\n",
    "d = [23,456,63,43,78,54,5457]\n",
    "\n"
   ]
  },
  {
   "cell_type": "code",
   "execution_count": 98,
   "id": "41b08b2f-5c59-4a77-927a-05f1e362eafb",
   "metadata": {},
   "outputs": [
    {
     "data": {
      "text/plain": [
       "{23, 54}"
      ]
     },
     "execution_count": 98,
     "metadata": {},
     "output_type": "execute_result"
    }
   ],
   "source": [
    "set(a).intersection(*(b,d))"
   ]
  },
  {
   "cell_type": "code",
   "execution_count": null,
   "id": "89a9ea45-3c7f-4124-a1f2-fc4e4da33383",
   "metadata": {},
   "outputs": [],
   "source": []
  },
  {
   "cell_type": "code",
   "execution_count": 102,
   "id": "375ce36f-71c2-4e18-b830-121c9fa44616",
   "metadata": {},
   "outputs": [
    {
     "data": {
      "text/plain": [
       "[23, 456, 63, 43, 78, 54, 5457]"
      ]
     },
     "execution_count": 102,
     "metadata": {},
     "output_type": "execute_result"
    }
   ],
   "source": [
    "d"
   ]
  },
  {
   "cell_type": "code",
   "execution_count": 52,
   "id": "c0caf869-115d-478a-8e2e-b0e69916198e",
   "metadata": {},
   "outputs": [],
   "source": [
    "# [*[b,d]]"
   ]
  },
  {
   "cell_type": "code",
   "execution_count": 54,
   "id": "17a274c6-9257-4f66-a95f-046d91b77088",
   "metadata": {},
   "outputs": [],
   "source": [
    "a = {'Name':'Mohan'}\n",
    "b = {'Age':23}\n",
    "c = {'Class':12}"
   ]
  },
  {
   "cell_type": "code",
   "execution_count": 58,
   "id": "ccd85e45-8d7b-47cc-bb1c-3ee04d36a0a7",
   "metadata": {},
   "outputs": [
    {
     "data": {
      "text/plain": [
       "{'Age', 'Class', 'Name'}"
      ]
     },
     "execution_count": 58,
     "metadata": {},
     "output_type": "execute_result"
    }
   ],
   "source": [
    "d = {*a,*b,*c}\n",
    "d"
   ]
  },
  {
   "cell_type": "code",
   "execution_count": 86,
   "id": "e9b3fc67-122c-43c9-b2e7-d5ed764573dd",
   "metadata": {},
   "outputs": [],
   "source": [
    "d = [2,3534,64,567]"
   ]
  },
  {
   "cell_type": "code",
   "execution_count": 88,
   "id": "b337c645-5938-4a1b-902b-1d97d38a2b05",
   "metadata": {},
   "outputs": [
    {
     "data": {
      "text/plain": [
       "[2, 3534, 64, 567]"
      ]
     },
     "execution_count": 88,
     "metadata": {},
     "output_type": "execute_result"
    }
   ],
   "source": [
    "e = [*d]\n",
    "e"
   ]
  },
  {
   "cell_type": "code",
   "execution_count": 90,
   "id": "fba4ab99-68c1-457b-8c8b-1956c46a2398",
   "metadata": {},
   "outputs": [
    {
     "data": {
      "text/plain": [
       "1846862026368"
      ]
     },
     "execution_count": 90,
     "metadata": {},
     "output_type": "execute_result"
    }
   ],
   "source": [
    "id(e)"
   ]
  },
  {
   "cell_type": "code",
   "execution_count": 92,
   "id": "777b706e-7160-40db-a600-70236fdc2a54",
   "metadata": {},
   "outputs": [
    {
     "data": {
      "text/plain": [
       "1846862026368"
      ]
     },
     "execution_count": 92,
     "metadata": {},
     "output_type": "execute_result"
    }
   ],
   "source": [
    "id(d)"
   ]
  },
  {
   "cell_type": "code",
   "execution_count": 104,
   "id": "b021d85a-afb9-4e55-bd40-279e7e7f9d8e",
   "metadata": {},
   "outputs": [],
   "source": [
    "a = [23,5,45,238,54,70,456,7568]\n",
    "b = [34,6565,70,3,23,5,54,7]"
   ]
  },
  {
   "cell_type": "code",
   "execution_count": 112,
   "id": "db80fd5c-8b53-454a-88f3-b02c1ec77da9",
   "metadata": {},
   "outputs": [],
   "source": [
    "# help(set(a).intersection(*[]))"
   ]
  },
  {
   "cell_type": "code",
   "execution_count": 114,
   "id": "7b676c34-80c6-4619-ad3e-937bbeb9d581",
   "metadata": {},
   "outputs": [],
   "source": [
    "# while , pass, break, or continue"
   ]
  },
  {
   "cell_type": "code",
   "execution_count": 116,
   "id": "be520ca3-e773-48dc-a4fa-dfa6db678949",
   "metadata": {},
   "outputs": [],
   "source": [
    "# while True: infinite loop"
   ]
  },
  {
   "cell_type": "code",
   "execution_count": 124,
   "id": "85a0b84b-fcf6-41f8-b35b-41c130e9e09f",
   "metadata": {},
   "outputs": [
    {
     "name": "stderr",
     "output_type": "stream",
     "text": [
      "\n",
      "KeyboardInterrupt\n",
      "\n"
     ]
    }
   ],
   "source": [
    "import random\n",
    "while True:\n",
    "    comp_choice = random.randint(1,10)\n",
    "    user = input('Enter number (1-10): ')\n",
    "\n",
    "    if user.lower() == 'exit':\n",
    "        print('Bye!! Bye!!')\n",
    "        break\n",
    "    else:\n",
    "        try:\n",
    "            if 1 <=int(user) <=10:\n",
    "                user = int(user)\n",
    "                if user == comp_choice:\n",
    "                    print('Won!!')\n",
    "                else:\n",
    "                    print('Better Luck Next time!!')\n",
    "            else:\n",
    "                print('Value Must be b/w 1-10')\n",
    "        except:\n",
    "            print('Invalid Input!!')\n",
    "    display(clear = True)\n",
    "            "
   ]
  },
  {
   "cell_type": "code",
   "execution_count": 126,
   "id": "aed2e3aa-e90c-4876-b74b-1854ffa736e0",
   "metadata": {},
   "outputs": [],
   "source": [
    "# task,\n",
    "# Game: 10 GK\n",
    "# options\n",
    "# b"
   ]
  },
  {
   "cell_type": "code",
   "execution_count": null,
   "id": "5a7e9464-b3e8-40e9-9767-f86e3fda76ca",
   "metadata": {},
   "outputs": [],
   "source": []
  }
 ],
 "metadata": {
  "kernelspec": {
   "display_name": "Python [conda env:base] *",
   "language": "python",
   "name": "conda-base-py"
  },
  "language_info": {
   "codemirror_mode": {
    "name": "ipython",
    "version": 3
   },
   "file_extension": ".py",
   "mimetype": "text/x-python",
   "name": "python",
   "nbconvert_exporter": "python",
   "pygments_lexer": "ipython3",
   "version": "3.12.7"
  }
 },
 "nbformat": 4,
 "nbformat_minor": 5
}
