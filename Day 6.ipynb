{
 "cells": [
  {
   "cell_type": "markdown",
   "id": "de657c59-3183-4858-8f0c-be6713272110",
   "metadata": {},
   "source": [
    "# List Methods"
   ]
  },
  {
   "cell_type": "code",
   "execution_count": 2,
   "id": "326ee8bb-5b82-4e38-ab8d-9fb9938c53b4",
   "metadata": {},
   "outputs": [],
   "source": [
    "a = [3,465,6,435,567,346,7678]"
   ]
  },
  {
   "cell_type": "code",
   "execution_count": 4,
   "id": "bad23de7-8779-4fc2-a36d-add848b7ad6d",
   "metadata": {},
   "outputs": [],
   "source": [
    "# a.pop\n",
    "# a.copy\n",
    "# a.remove\n",
    "# a.reverse\n",
    "# a.sort"
   ]
  },
  {
   "cell_type": "code",
   "execution_count": 12,
   "id": "9a308135-c13d-46b3-ad50-f661c04f5fa3",
   "metadata": {},
   "outputs": [
    {
     "data": {
      "text/plain": [
       "435"
      ]
     },
     "execution_count": 12,
     "metadata": {},
     "output_type": "execute_result"
    }
   ],
   "source": [
    "a.pop()"
   ]
  },
  {
   "cell_type": "code",
   "execution_count": 14,
   "id": "4cd9aad1-a181-432a-afce-ea1ec2ccb3c7",
   "metadata": {},
   "outputs": [
    {
     "name": "stdout",
     "output_type": "stream",
     "text": [
      "[3, 465, 6]\n"
     ]
    }
   ],
   "source": [
    "print(a)"
   ]
  },
  {
   "cell_type": "code",
   "execution_count": 16,
   "id": "2f82814f-6d9a-4be0-bef3-52bc2c7d0f8e",
   "metadata": {},
   "outputs": [],
   "source": [
    "# remove"
   ]
  },
  {
   "cell_type": "code",
   "execution_count": 18,
   "id": "a9f6ca41-ece9-4dc9-9b25-a2643a4875cc",
   "metadata": {},
   "outputs": [
    {
     "name": "stdout",
     "output_type": "stream",
     "text": [
      "[3, 465, 6, 435, 567, 346, 7678]\n"
     ]
    }
   ],
   "source": [
    "a = [3,465,6,435,567,346,7678]\n",
    "print(a)"
   ]
  },
  {
   "cell_type": "code",
   "execution_count": 20,
   "id": "5a862683-c685-4a75-b34a-d989e7effd38",
   "metadata": {},
   "outputs": [],
   "source": [
    "a.remove(435)"
   ]
  },
  {
   "cell_type": "code",
   "execution_count": 22,
   "id": "e462f6d4-c514-40e6-8049-94eadeef013f",
   "metadata": {},
   "outputs": [
    {
     "name": "stdout",
     "output_type": "stream",
     "text": [
      "[3, 465, 6, 567, 346, 7678]\n"
     ]
    }
   ],
   "source": [
    "print(a)"
   ]
  },
  {
   "cell_type": "code",
   "execution_count": 24,
   "id": "d75284cf-9af3-4f73-91fb-7e31eff97352",
   "metadata": {},
   "outputs": [
    {
     "name": "stdout",
     "output_type": "stream",
     "text": [
      "[4, 4, 4, 4, 5, 5, 56, 5, 67, 7, 6, 6, 65, 4, 5, 6]\n"
     ]
    }
   ],
   "source": [
    "a = [4,4,4,4,5,5,56,5,67,7,6,6,65,4,5,6]\n",
    "\n",
    "print(a)"
   ]
  },
  {
   "cell_type": "code",
   "execution_count": 42,
   "id": "48fe6bd7-6a93-429d-8602-28f203cd97e2",
   "metadata": {},
   "outputs": [
    {
     "ename": "ValueError",
     "evalue": "list.remove(x): x not in list",
     "output_type": "error",
     "traceback": [
      "\u001b[1;31m---------------------------------------------------------------------------\u001b[0m",
      "\u001b[1;31mValueError\u001b[0m                                Traceback (most recent call last)",
      "Cell \u001b[1;32mIn[42], line 1\u001b[0m\n\u001b[1;32m----> 1\u001b[0m a\u001b[38;5;241m.\u001b[39mremove(\u001b[38;5;241m5\u001b[39m)\n",
      "\u001b[1;31mValueError\u001b[0m: list.remove(x): x not in list"
     ]
    }
   ],
   "source": [
    "a.remove(5)"
   ]
  },
  {
   "cell_type": "code",
   "execution_count": 40,
   "id": "e7cc88fc-28d0-44b9-8779-a010c0cb8153",
   "metadata": {},
   "outputs": [
    {
     "name": "stdout",
     "output_type": "stream",
     "text": [
      "[4, 4, 4, 4, 56, 67, 7, 6, 6, 65, 4, 6]\n"
     ]
    }
   ],
   "source": [
    "print(a)"
   ]
  },
  {
   "cell_type": "code",
   "execution_count": 44,
   "id": "e773a258-5f8d-451d-afe2-d9a76024058e",
   "metadata": {},
   "outputs": [],
   "source": [
    "students = ['Karan','Ajay','Ravi','Mohan']"
   ]
  },
  {
   "cell_type": "code",
   "execution_count": 52,
   "id": "8b4264e4-5051-4dc4-ae00-22c923882a55",
   "metadata": {},
   "outputs": [],
   "source": [
    "students.append('karan')"
   ]
  },
  {
   "cell_type": "code",
   "execution_count": 54,
   "id": "c82c4dfe-7404-42d8-9ddd-50a49c4974b0",
   "metadata": {},
   "outputs": [
    {
     "name": "stdout",
     "output_type": "stream",
     "text": [
      "['Karan', 'Ajay', 'Ravi', 'Mohan', 'Gagan', 'karan']\n"
     ]
    }
   ],
   "source": [
    "print(students)"
   ]
  },
  {
   "cell_type": "code",
   "execution_count": 58,
   "id": "e269171b-b372-446f-b10e-6573469c2a45",
   "metadata": {},
   "outputs": [],
   "source": [
    "students.remove('Karan')"
   ]
  },
  {
   "cell_type": "code",
   "execution_count": 60,
   "id": "664f1fe1-5cae-4574-ad85-16931f22ef5f",
   "metadata": {},
   "outputs": [
    {
     "name": "stdout",
     "output_type": "stream",
     "text": [
      "['Ajay', 'Ravi', 'Mohan', 'Gagan', 'karan']\n"
     ]
    }
   ],
   "source": [
    "print(students)"
   ]
  },
  {
   "cell_type": "code",
   "execution_count": 62,
   "id": "88267c8f-90e9-479a-b549-0d3c351cbbb6",
   "metadata": {},
   "outputs": [],
   "source": [
    "students = ['Karan','Ajay','Ravi','Mohan','Ajay','Vijay','Karan']"
   ]
  },
  {
   "cell_type": "code",
   "execution_count": 64,
   "id": "2c20cef4-3c72-4b79-bb47-943f8fcc3edf",
   "metadata": {},
   "outputs": [
    {
     "name": "stdout",
     "output_type": "stream",
     "text": [
      "['Karan', 'Ajay', 'Ravi', 'Mohan', 'Ajay', 'Vijay', 'Karan']\n"
     ]
    }
   ],
   "source": [
    "print(students)"
   ]
  },
  {
   "cell_type": "code",
   "execution_count": 68,
   "id": "701c72cb-3769-4846-8179-b644a03d9a52",
   "metadata": {},
   "outputs": [
    {
     "data": {
      "text/plain": [
       "4"
      ]
     },
     "execution_count": 68,
     "metadata": {},
     "output_type": "execute_result"
    }
   ],
   "source": [
    "students.index('Ajay',2)"
   ]
  },
  {
   "cell_type": "code",
   "execution_count": 70,
   "id": "56c3f29a-108e-4a3e-8f01-0b5e2db9b80e",
   "metadata": {},
   "outputs": [
    {
     "data": {
      "text/plain": [
       "'Ajay'"
      ]
     },
     "execution_count": 70,
     "metadata": {},
     "output_type": "execute_result"
    }
   ],
   "source": [
    "students[4]"
   ]
  },
  {
   "cell_type": "code",
   "execution_count": 76,
   "id": "cf1a5811-45f3-4828-8e56-326916cf742d",
   "metadata": {},
   "outputs": [],
   "source": [
    "del students[4]"
   ]
  },
  {
   "cell_type": "code",
   "execution_count": 78,
   "id": "b977f71f-43f1-4c11-a36f-f37adfd230e7",
   "metadata": {},
   "outputs": [
    {
     "name": "stdout",
     "output_type": "stream",
     "text": [
      "['Karan', 'Ajay', 'Ravi', 'Mohan', 'Vijay', 'Karan']\n"
     ]
    }
   ],
   "source": [
    "print(students)"
   ]
  },
  {
   "cell_type": "code",
   "execution_count": 80,
   "id": "cc13253e-4a6e-477a-aadc-a97a0b69bf68",
   "metadata": {},
   "outputs": [
    {
     "data": {
      "text/plain": [
       "'Mohan'"
      ]
     },
     "execution_count": 80,
     "metadata": {},
     "output_type": "execute_result"
    }
   ],
   "source": [
    "students[-3]"
   ]
  },
  {
   "cell_type": "code",
   "execution_count": 86,
   "id": "0f04c25f-0d24-41c8-8b23-d35a196f49a8",
   "metadata": {},
   "outputs": [],
   "source": [
    "del(students[students.index('Mohan')])"
   ]
  },
  {
   "cell_type": "code",
   "execution_count": 88,
   "id": "e3f35841-7690-46e2-9ab3-e78dbbe91f26",
   "metadata": {},
   "outputs": [
    {
     "name": "stdout",
     "output_type": "stream",
     "text": [
      "['Karan', 'Ajay', 'Ravi', 'Vijay', 'Karan']\n"
     ]
    }
   ],
   "source": [
    "print(students)"
   ]
  },
  {
   "cell_type": "code",
   "execution_count": 92,
   "id": "06cbe9ed-4ae0-46c5-a410-f1fa20da721c",
   "metadata": {},
   "outputs": [],
   "source": [
    "del students[1:4]"
   ]
  },
  {
   "cell_type": "code",
   "execution_count": 94,
   "id": "afa9e0ff-5b3f-4965-ae3e-cd7f381d2615",
   "metadata": {},
   "outputs": [
    {
     "name": "stdout",
     "output_type": "stream",
     "text": [
      "['Karan', 'Karan']\n"
     ]
    }
   ],
   "source": [
    "print(students)"
   ]
  },
  {
   "cell_type": "code",
   "execution_count": 96,
   "id": "ec84b8b8-5339-4b06-8599-963ad2649c8e",
   "metadata": {},
   "outputs": [],
   "source": [
    "students = ['Karan','Ajay','Ravi','Mohan','Ajay','Vijay','Karan']"
   ]
  },
  {
   "cell_type": "code",
   "execution_count": 98,
   "id": "626d45dd-19cd-41f5-851c-dd229cc0c59f",
   "metadata": {},
   "outputs": [
    {
     "ename": "ValueError",
     "evalue": "list.remove(x): x not in list",
     "output_type": "error",
     "traceback": [
      "\u001b[1;31m---------------------------------------------------------------------------\u001b[0m",
      "\u001b[1;31mValueError\u001b[0m                                Traceback (most recent call last)",
      "Cell \u001b[1;32mIn[98], line 1\u001b[0m\n\u001b[1;32m----> 1\u001b[0m students\u001b[38;5;241m.\u001b[39mremove([\u001b[38;5;124m'\u001b[39m\u001b[38;5;124mAjay\u001b[39m\u001b[38;5;124m'\u001b[39m,\u001b[38;5;124m'\u001b[39m\u001b[38;5;124mRavi\u001b[39m\u001b[38;5;124m'\u001b[39m,\u001b[38;5;124m'\u001b[39m\u001b[38;5;124mVijay\u001b[39m\u001b[38;5;124m'\u001b[39m])\n",
      "\u001b[1;31mValueError\u001b[0m: list.remove(x): x not in list"
     ]
    }
   ],
   "source": [
    "students.remove(['Ajay','Ravi','Vijay'])"
   ]
  },
  {
   "cell_type": "code",
   "execution_count": 100,
   "id": "1142d7a9-0d50-40a6-8d61-fb2a8f884a5c",
   "metadata": {},
   "outputs": [],
   "source": [
    "students = ['Karan','Ajay','Ravi','Mohan',['Ajay','Ravi','Vijay'],'Ajay','Vijay','Karan']"
   ]
  },
  {
   "cell_type": "code",
   "execution_count": 102,
   "id": "56229df2-0784-487b-83ae-6250b8947160",
   "metadata": {},
   "outputs": [
    {
     "name": "stdout",
     "output_type": "stream",
     "text": [
      "['Karan', 'Ajay', 'Ravi', 'Mohan', ['Ajay', 'Ravi', 'Vijay'], 'Ajay', 'Vijay', 'Karan']\n"
     ]
    }
   ],
   "source": [
    "print(students)"
   ]
  },
  {
   "cell_type": "code",
   "execution_count": 104,
   "id": "d8b95161-aa08-4cf0-8bde-aa5c548cde4b",
   "metadata": {},
   "outputs": [],
   "source": [
    "students.remove(['Ajay','Ravi','Vijay'])"
   ]
  },
  {
   "cell_type": "code",
   "execution_count": 106,
   "id": "d4bbefcc-cafd-4e93-9369-96085f6ec09f",
   "metadata": {},
   "outputs": [
    {
     "name": "stdout",
     "output_type": "stream",
     "text": [
      "['Karan', 'Ajay', 'Ravi', 'Mohan', 'Ajay', 'Vijay', 'Karan']\n"
     ]
    }
   ],
   "source": [
    "print(students)"
   ]
  },
  {
   "cell_type": "code",
   "execution_count": 108,
   "id": "b452c894-5932-4afe-aed7-4b408ac53e36",
   "metadata": {},
   "outputs": [],
   "source": [
    "# print()"
   ]
  },
  {
   "cell_type": "code",
   "execution_count": 110,
   "id": "e0d48cb2-92a9-4814-ad63-242aea7857f7",
   "metadata": {},
   "outputs": [
    {
     "name": "stdout",
     "output_type": "stream",
     "text": [
      "Python 3.12.7\n"
     ]
    }
   ],
   "source": [
    "!python -V"
   ]
  },
  {
   "cell_type": "code",
   "execution_count": 112,
   "id": "e6ae28af-41c5-43f2-89b3-effee811802e",
   "metadata": {},
   "outputs": [
    {
     "name": "stdout",
     "output_type": "stream",
     "text": [
      "3456\n"
     ]
    }
   ],
   "source": [
    "print(3456)"
   ]
  },
  {
   "cell_type": "code",
   "execution_count": 114,
   "id": "a8244afb-f7cd-4cde-8988-c4088e4b0453",
   "metadata": {},
   "outputs": [
    {
     "ename": "SyntaxError",
     "evalue": "Missing parentheses in call to 'print'. Did you mean print(...)? (172191968.py, line 1)",
     "output_type": "error",
     "traceback": [
      "\u001b[1;36m  Cell \u001b[1;32mIn[114], line 1\u001b[1;36m\u001b[0m\n\u001b[1;33m    print 2345\u001b[0m\n\u001b[1;37m    ^\u001b[0m\n\u001b[1;31mSyntaxError\u001b[0m\u001b[1;31m:\u001b[0m Missing parentheses in call to 'print'. Did you mean print(...)?\n"
     ]
    }
   ],
   "source": [
    "print 2345"
   ]
  },
  {
   "cell_type": "code",
   "execution_count": 116,
   "id": "572832dc-a2bc-4341-8823-44af80165226",
   "metadata": {},
   "outputs": [],
   "source": [
    "students = ['Karan','Ajay','Ravi','Mohan','Ajay','Vijay','Karan']"
   ]
  },
  {
   "cell_type": "code",
   "execution_count": 120,
   "id": "1aa758c5-ee2a-4009-bf39-e59e6f2bac56",
   "metadata": {},
   "outputs": [],
   "source": [
    "students[2:4] = [students[2:4]]"
   ]
  },
  {
   "cell_type": "code",
   "execution_count": 122,
   "id": "94b17ff9-93a2-43d7-b41a-6e0843c88893",
   "metadata": {},
   "outputs": [
    {
     "name": "stdout",
     "output_type": "stream",
     "text": [
      "['Karan', 'Ajay', ['Ravi', 'Mohan'], 'Ajay', 'Vijay', 'Karan']\n"
     ]
    }
   ],
   "source": [
    "print(students)"
   ]
  },
  {
   "cell_type": "code",
   "execution_count": 126,
   "id": "8d3180ab-e457-4005-9699-471c78b20aa7",
   "metadata": {},
   "outputs": [],
   "source": [
    "students[-2] = students[-2] + 'Shekar Sharma'"
   ]
  },
  {
   "cell_type": "code",
   "execution_count": 128,
   "id": "c82f2291-a657-47a6-add1-8dfd96de7c6f",
   "metadata": {},
   "outputs": [
    {
     "name": "stdout",
     "output_type": "stream",
     "text": [
      "['Karan', 'Ajay', ['Ravi', 'Mohan'], 'Ajay', 'VijayShekar Sharma', 'Karan']\n"
     ]
    }
   ],
   "source": [
    "print(students)"
   ]
  },
  {
   "cell_type": "code",
   "execution_count": null,
   "id": "c038c4da-b58e-444a-8429-599fe3387923",
   "metadata": {},
   "outputs": [],
   "source": []
  },
  {
   "cell_type": "code",
   "execution_count": null,
   "id": "08d6424c-2f2a-4bf9-8f94-672e7f726109",
   "metadata": {},
   "outputs": [],
   "source": []
  },
  {
   "cell_type": "code",
   "execution_count": 134,
   "id": "71ec6ded-93d4-46d7-9c1d-c7cf9c3e39d3",
   "metadata": {},
   "outputs": [],
   "source": [
    "# a.reverse\n",
    "# a.sort\n",
    "# a.copy"
   ]
  },
  {
   "cell_type": "code",
   "execution_count": 138,
   "id": "03f36898-308c-4966-943a-7890fae3a952",
   "metadata": {},
   "outputs": [
    {
     "name": "stdout",
     "output_type": "stream",
     "text": [
      "['Karan', 'Ajay', 'Ravi', 'Mohan']\n"
     ]
    }
   ],
   "source": [
    "a = ['Karan','Ajay','Ravi','Mohan']\n",
    "print(a)"
   ]
  },
  {
   "cell_type": "code",
   "execution_count": 140,
   "id": "f4e8d3f3-a25e-402e-a048-2172ab55034a",
   "metadata": {},
   "outputs": [],
   "source": [
    "a.reverse()"
   ]
  },
  {
   "cell_type": "code",
   "execution_count": 142,
   "id": "5cdc3bae-15a4-4808-914b-9c13d95c2ec5",
   "metadata": {},
   "outputs": [
    {
     "name": "stdout",
     "output_type": "stream",
     "text": [
      "['Mohan', 'Ravi', 'Ajay', 'Karan']\n"
     ]
    }
   ],
   "source": [
    "print(a)"
   ]
  },
  {
   "cell_type": "code",
   "execution_count": 144,
   "id": "18881100-dd85-4645-8896-37369c2270ae",
   "metadata": {},
   "outputs": [],
   "source": [
    "a.reverse()"
   ]
  },
  {
   "cell_type": "code",
   "execution_count": 146,
   "id": "b04e382b-d6be-4b0b-aac1-e002d41fb753",
   "metadata": {},
   "outputs": [
    {
     "name": "stdout",
     "output_type": "stream",
     "text": [
      "['Karan', 'Ajay', 'Ravi', 'Mohan']\n"
     ]
    }
   ],
   "source": [
    "print(a)"
   ]
  },
  {
   "cell_type": "code",
   "execution_count": 148,
   "id": "4139c7ee-8da7-49c2-9244-d389ffbf6004",
   "metadata": {},
   "outputs": [
    {
     "name": "stdout",
     "output_type": "stream",
     "text": [
      "['Karan', 'Ajay', 'Ravi', 'Mohan']\n"
     ]
    }
   ],
   "source": [
    "a = ['Karan','Ajay','Ravi','Mohan']\n",
    "print(a)"
   ]
  },
  {
   "cell_type": "code",
   "execution_count": 150,
   "id": "f1dc9d34-2f53-4445-b893-802789419955",
   "metadata": {},
   "outputs": [
    {
     "name": "stdout",
     "output_type": "stream",
     "text": [
      "Ajay\n"
     ]
    }
   ],
   "source": [
    "name = 'Ajay'\n",
    "print(name)"
   ]
  },
  {
   "cell_type": "code",
   "execution_count": 154,
   "id": "e1e27db8-8176-417d-a430-cb340b104c02",
   "metadata": {},
   "outputs": [
    {
     "data": {
      "text/plain": [
       "'yajA'"
      ]
     },
     "execution_count": 154,
     "metadata": {},
     "output_type": "execute_result"
    }
   ],
   "source": [
    "name[::-1]"
   ]
  },
  {
   "cell_type": "code",
   "execution_count": 156,
   "id": "c3637b01-a3eb-47df-ae5c-3410f3e5a3fd",
   "metadata": {},
   "outputs": [
    {
     "data": {
      "text/plain": [
       "['Karan', 'Ajay', 'Ravi', 'Mohan']"
      ]
     },
     "execution_count": 156,
     "metadata": {},
     "output_type": "execute_result"
    }
   ],
   "source": [
    "a"
   ]
  },
  {
   "cell_type": "code",
   "execution_count": 158,
   "id": "2897e606-e537-4cdf-96a2-3ab8235466c6",
   "metadata": {},
   "outputs": [
    {
     "data": {
      "text/plain": [
       "['Mohan', 'Ravi', 'Ajay', 'Karan']"
      ]
     },
     "execution_count": 158,
     "metadata": {},
     "output_type": "execute_result"
    }
   ],
   "source": [
    "a[::-1]"
   ]
  },
  {
   "cell_type": "code",
   "execution_count": null,
   "id": "73f4737f-6b5e-4388-921f-2330dee0e5cd",
   "metadata": {},
   "outputs": [],
   "source": []
  },
  {
   "cell_type": "code",
   "execution_count": 161,
   "id": "92273533-67dd-4375-8f8a-9e7fa76f276b",
   "metadata": {},
   "outputs": [
    {
     "name": "stdout",
     "output_type": "stream",
     "text": [
      "[3, 46, 5464, 4567, 657, 4, 564, 567, 8, 434, 5546, 6]\n"
     ]
    }
   ],
   "source": [
    "# a.sort\n",
    "\n",
    "a = [3,46,5464,4567,657,4,564,567,8,434,5546,6]\n",
    "\n",
    "print(a)"
   ]
  },
  {
   "cell_type": "code",
   "execution_count": 163,
   "id": "2ae396a3-662e-4ae7-8b6d-abd241f9720f",
   "metadata": {},
   "outputs": [],
   "source": [
    "a.sort()"
   ]
  },
  {
   "cell_type": "code",
   "execution_count": 165,
   "id": "fb3c1046-ab38-4d8e-8a07-609ca92fab62",
   "metadata": {},
   "outputs": [
    {
     "name": "stdout",
     "output_type": "stream",
     "text": [
      "[3, 4, 6, 8, 46, 434, 564, 567, 657, 4567, 5464, 5546]\n"
     ]
    }
   ],
   "source": [
    "print(a)"
   ]
  },
  {
   "cell_type": "code",
   "execution_count": 167,
   "id": "dafbfa72-6c80-4108-adc9-8dd9dc198c37",
   "metadata": {},
   "outputs": [],
   "source": [
    "a.reverse()"
   ]
  },
  {
   "cell_type": "code",
   "execution_count": 169,
   "id": "7c00e177-d2cb-4026-890c-37940fa05399",
   "metadata": {},
   "outputs": [
    {
     "name": "stdout",
     "output_type": "stream",
     "text": [
      "[5546, 5464, 4567, 657, 567, 564, 434, 46, 8, 6, 4, 3]\n"
     ]
    }
   ],
   "source": [
    "print(a)"
   ]
  },
  {
   "cell_type": "code",
   "execution_count": 171,
   "id": "7f15e9ee-b8fc-4517-adf5-5af2a1171e2d",
   "metadata": {},
   "outputs": [],
   "source": [
    "abc = [3,46,5464,4567,657,4,564,567,8,434,5546,6]\n"
   ]
  },
  {
   "cell_type": "code",
   "execution_count": 173,
   "id": "fc946879-5c68-442d-a879-1490a60ef1e3",
   "metadata": {},
   "outputs": [
    {
     "name": "stdout",
     "output_type": "stream",
     "text": [
      "[3, 46, 5464, 4567, 657, 4, 564, 567, 8, 434, 5546, 6]\n"
     ]
    }
   ],
   "source": [
    "print(abc)"
   ]
  },
  {
   "cell_type": "code",
   "execution_count": 177,
   "id": "6f54be06-fef0-4002-a4c9-4a68811f94c4",
   "metadata": {},
   "outputs": [],
   "source": [
    "abc.sort(reverse=True)"
   ]
  },
  {
   "cell_type": "code",
   "execution_count": 179,
   "id": "2f5003b8-8f85-4ff7-8bcc-5f9c5bff836f",
   "metadata": {},
   "outputs": [
    {
     "name": "stdout",
     "output_type": "stream",
     "text": [
      "[5546, 5464, 4567, 657, 567, 564, 434, 46, 8, 6, 4, 3]\n"
     ]
    }
   ],
   "source": [
    "print(abc)"
   ]
  },
  {
   "cell_type": "code",
   "execution_count": null,
   "id": "49d6c1db-3cb0-4c0d-b445-91e4f0eef882",
   "metadata": {},
   "outputs": [],
   "source": []
  },
  {
   "cell_type": "code",
   "execution_count": 197,
   "id": "b3e76190-ea11-4b59-b086-7b0ecd42d204",
   "metadata": {},
   "outputs": [],
   "source": [
    "# deep copy"
   ]
  },
  {
   "cell_type": "code",
   "execution_count": 183,
   "id": "c8800b72-415b-461b-bc37-dc87519d6ca0",
   "metadata": {},
   "outputs": [],
   "source": [
    "ankit = [1200,2500]\n",
    "\n",
    "sanjeet = ankit"
   ]
  },
  {
   "cell_type": "code",
   "execution_count": 185,
   "id": "c5dfb59c-476d-4d40-b3a9-9222a54a798e",
   "metadata": {},
   "outputs": [
    {
     "name": "stdout",
     "output_type": "stream",
     "text": [
      "[1200, 2500]\n"
     ]
    }
   ],
   "source": [
    "print(ankit)"
   ]
  },
  {
   "cell_type": "code",
   "execution_count": 187,
   "id": "4c5fd2b1-42dc-4f0c-88b0-648b79341557",
   "metadata": {},
   "outputs": [
    {
     "name": "stdout",
     "output_type": "stream",
     "text": [
      "[1200, 2500]\n"
     ]
    }
   ],
   "source": [
    "print(sanjeet)"
   ]
  },
  {
   "cell_type": "code",
   "execution_count": 191,
   "id": "d37453c6-a539-4639-bf52-a4ee705e2672",
   "metadata": {},
   "outputs": [],
   "source": [
    "ankit[-1] = 5000"
   ]
  },
  {
   "cell_type": "code",
   "execution_count": 193,
   "id": "2c4bd5be-b844-49ba-a912-d7d84717162f",
   "metadata": {},
   "outputs": [
    {
     "name": "stdout",
     "output_type": "stream",
     "text": [
      "[1200, 5000]\n"
     ]
    }
   ],
   "source": [
    "print(ankit)"
   ]
  },
  {
   "cell_type": "code",
   "execution_count": 195,
   "id": "2f9945f7-582e-4728-a02f-72f40df86b8f",
   "metadata": {},
   "outputs": [
    {
     "name": "stdout",
     "output_type": "stream",
     "text": [
      "[1200, 5000]\n"
     ]
    }
   ],
   "source": [
    "print(sanjeet)"
   ]
  },
  {
   "cell_type": "code",
   "execution_count": 201,
   "id": "705e3ff2-69e3-40fe-85ec-301de3b5927c",
   "metadata": {},
   "outputs": [],
   "source": [
    "sanjeet[0] = 35000"
   ]
  },
  {
   "cell_type": "code",
   "execution_count": 203,
   "id": "d09fa23c-6302-497b-974b-6afef1e65f34",
   "metadata": {},
   "outputs": [
    {
     "name": "stdout",
     "output_type": "stream",
     "text": [
      "[35000, 5000]\n"
     ]
    }
   ],
   "source": [
    "print(sanjeet)"
   ]
  },
  {
   "cell_type": "code",
   "execution_count": 205,
   "id": "79338251-82dd-4fc5-b5a5-89e636592ad1",
   "metadata": {},
   "outputs": [
    {
     "name": "stdout",
     "output_type": "stream",
     "text": [
      "[35000, 5000]\n"
     ]
    }
   ],
   "source": [
    "print(ankit)"
   ]
  },
  {
   "cell_type": "code",
   "execution_count": 207,
   "id": "ae498571-2d3c-4ff0-a0b8-a9bd4e25bd74",
   "metadata": {},
   "outputs": [
    {
     "data": {
      "text/plain": [
       "2694460205504"
      ]
     },
     "execution_count": 207,
     "metadata": {},
     "output_type": "execute_result"
    }
   ],
   "source": [
    "id(sanjeet)"
   ]
  },
  {
   "cell_type": "code",
   "execution_count": 209,
   "id": "2677e03d-68f5-491d-8cc8-0e86705a9004",
   "metadata": {},
   "outputs": [
    {
     "data": {
      "text/plain": [
       "2694460205504"
      ]
     },
     "execution_count": 209,
     "metadata": {},
     "output_type": "execute_result"
    }
   ],
   "source": [
    "id(ankit)"
   ]
  },
  {
   "cell_type": "code",
   "execution_count": 223,
   "id": "230e33bf-bdda-4e1e-a283-e2dab57dfec2",
   "metadata": {},
   "outputs": [],
   "source": [
    "a = 254"
   ]
  },
  {
   "cell_type": "code",
   "execution_count": 225,
   "id": "6b9b1430-2ee2-4656-a0ee-9ffd4c433a17",
   "metadata": {},
   "outputs": [],
   "source": [
    "b = 254"
   ]
  },
  {
   "cell_type": "code",
   "execution_count": 227,
   "id": "fb8052de-c081-4abb-9e15-9d0278e6e042",
   "metadata": {},
   "outputs": [
    {
     "name": "stdout",
     "output_type": "stream",
     "text": [
      "254\n"
     ]
    }
   ],
   "source": [
    "print(a)"
   ]
  },
  {
   "cell_type": "code",
   "execution_count": 229,
   "id": "f37e609a-6a6c-43fb-bfba-3911ca305d7c",
   "metadata": {},
   "outputs": [
    {
     "name": "stdout",
     "output_type": "stream",
     "text": [
      "254\n"
     ]
    }
   ],
   "source": [
    "print(b)"
   ]
  },
  {
   "cell_type": "code",
   "execution_count": 231,
   "id": "6c2c3fa0-a3b6-480f-9c67-9fb5f5724c36",
   "metadata": {},
   "outputs": [
    {
     "data": {
      "text/plain": [
       "140723671943512"
      ]
     },
     "execution_count": 231,
     "metadata": {},
     "output_type": "execute_result"
    }
   ],
   "source": [
    "id(a)"
   ]
  },
  {
   "cell_type": "code",
   "execution_count": 233,
   "id": "4d8bc9e2-5dc3-4fca-8f92-f000fc242094",
   "metadata": {},
   "outputs": [
    {
     "data": {
      "text/plain": [
       "140723671943512"
      ]
     },
     "execution_count": 233,
     "metadata": {},
     "output_type": "execute_result"
    }
   ],
   "source": [
    "id(b)"
   ]
  },
  {
   "cell_type": "code",
   "execution_count": null,
   "id": "94e47a45-2297-4e63-822a-45afefa2b856",
   "metadata": {},
   "outputs": [],
   "source": []
  },
  {
   "cell_type": "code",
   "execution_count": 240,
   "id": "79ca85e2-85fd-49f4-a183-b559323fa089",
   "metadata": {},
   "outputs": [
    {
     "data": {
      "text/plain": [
       "<memory at 0x000002735A469000>"
      ]
     },
     "execution_count": 240,
     "metadata": {},
     "output_type": "execute_result"
    }
   ],
   "source": [
    "memoryview(bytes(b))"
   ]
  },
  {
   "cell_type": "code",
   "execution_count": 246,
   "id": "66aa8697-3ca9-4385-81b9-4af3c5b7886b",
   "metadata": {},
   "outputs": [
    {
     "data": {
      "text/plain": [
       "<memory at 0x000002735A3EEF80>"
      ]
     },
     "execution_count": 246,
     "metadata": {},
     "output_type": "execute_result"
    }
   ],
   "source": [
    "memoryview(bytes(a))"
   ]
  },
  {
   "cell_type": "code",
   "execution_count": 248,
   "id": "89ba7acf-5c90-40f9-9658-ef676df1acfe",
   "metadata": {},
   "outputs": [],
   "source": [
    "name = 'Mohan'"
   ]
  },
  {
   "cell_type": "code",
   "execution_count": 250,
   "id": "93630397-d5c9-400d-85c8-f5d93c2d3d9e",
   "metadata": {},
   "outputs": [
    {
     "name": "stdout",
     "output_type": "stream",
     "text": [
      "Mohan\n"
     ]
    }
   ],
   "source": [
    "print(name)"
   ]
  },
  {
   "cell_type": "code",
   "execution_count": 252,
   "id": "6e15e138-bbe3-464e-b6ea-22754c97c55b",
   "metadata": {},
   "outputs": [
    {
     "name": "stdout",
     "output_type": "stream",
     "text": [
      "Mohan\n"
     ]
    }
   ],
   "source": [
    "print(name)"
   ]
  },
  {
   "cell_type": "code",
   "execution_count": 1,
   "id": "7f330deb-9fbd-4680-b48b-543979872a6e",
   "metadata": {},
   "outputs": [
    {
     "ename": "NameError",
     "evalue": "name 'name' is not defined",
     "output_type": "error",
     "traceback": [
      "\u001b[1;31m---------------------------------------------------------------------------\u001b[0m",
      "\u001b[1;31mNameError\u001b[0m                                 Traceback (most recent call last)",
      "Cell \u001b[1;32mIn[1], line 1\u001b[0m\n\u001b[1;32m----> 1\u001b[0m \u001b[38;5;28mprint\u001b[39m(name)\n",
      "\u001b[1;31mNameError\u001b[0m: name 'name' is not defined"
     ]
    }
   ],
   "source": [
    "print(name)"
   ]
  },
  {
   "cell_type": "code",
   "execution_count": 3,
   "id": "c5864d69-a5c0-40cf-9c68-2ba14d1f6ce5",
   "metadata": {},
   "outputs": [],
   "source": [
    "# Shallow Copy"
   ]
  },
  {
   "cell_type": "code",
   "execution_count": 5,
   "id": "688e9eb7-b8ba-4268-94fe-a1596eb15a3b",
   "metadata": {},
   "outputs": [
    {
     "name": "stdout",
     "output_type": "stream",
     "text": [
      "[2000, 3500]\n"
     ]
    }
   ],
   "source": [
    "naman = [2000,3500]\n",
    "\n",
    "karan = naman.copy()\n",
    "print(karan)"
   ]
  },
  {
   "cell_type": "code",
   "execution_count": 7,
   "id": "91957a3e-cb13-4256-b172-3efa129b2303",
   "metadata": {},
   "outputs": [
    {
     "name": "stdout",
     "output_type": "stream",
     "text": [
      "[2000, 3500]\n"
     ]
    }
   ],
   "source": [
    "print(naman)"
   ]
  },
  {
   "cell_type": "code",
   "execution_count": 9,
   "id": "c8b57a90-924f-418c-8227-070551bc7abb",
   "metadata": {},
   "outputs": [],
   "source": [
    "karan[-1] = 5500"
   ]
  },
  {
   "cell_type": "code",
   "execution_count": 11,
   "id": "656da0b8-5349-4b60-98a1-17c24d8ff761",
   "metadata": {},
   "outputs": [
    {
     "name": "stdout",
     "output_type": "stream",
     "text": [
      "[2000, 5500]\n"
     ]
    }
   ],
   "source": [
    "print(karan)"
   ]
  },
  {
   "cell_type": "code",
   "execution_count": 13,
   "id": "6db4e8ac-a5ed-420d-ac1d-0729d689efba",
   "metadata": {},
   "outputs": [
    {
     "name": "stdout",
     "output_type": "stream",
     "text": [
      "[2000, 3500]\n"
     ]
    }
   ],
   "source": [
    "print(naman)"
   ]
  },
  {
   "cell_type": "code",
   "execution_count": 15,
   "id": "c48e5295-eede-4545-9e7f-7fd27f14c459",
   "metadata": {},
   "outputs": [],
   "source": [
    "naman[0] = 100"
   ]
  },
  {
   "cell_type": "code",
   "execution_count": 17,
   "id": "e7fbe145-33ed-408d-a092-65d2200d8e82",
   "metadata": {},
   "outputs": [
    {
     "name": "stdout",
     "output_type": "stream",
     "text": [
      "[100, 3500]\n"
     ]
    }
   ],
   "source": [
    "print(naman)"
   ]
  },
  {
   "cell_type": "code",
   "execution_count": 19,
   "id": "b0877434-2a51-41ef-b0a7-dd41faac9c86",
   "metadata": {},
   "outputs": [
    {
     "name": "stdout",
     "output_type": "stream",
     "text": [
      "[2000, 5500]\n"
     ]
    }
   ],
   "source": [
    "print(karan)"
   ]
  },
  {
   "cell_type": "code",
   "execution_count": 21,
   "id": "d35e3419-ff0c-4d5c-9b7e-858ccfad3e54",
   "metadata": {},
   "outputs": [],
   "source": [
    "sales = [3,45,65,32,546,78]"
   ]
  },
  {
   "cell_type": "code",
   "execution_count": 23,
   "id": "d48f760c-b57e-4bdf-bf05-e7e510357fd8",
   "metadata": {},
   "outputs": [
    {
     "data": {
      "text/plain": [
       "32"
      ]
     },
     "execution_count": 23,
     "metadata": {},
     "output_type": "execute_result"
    }
   ],
   "source": [
    "sales.pop(-3)"
   ]
  },
  {
   "cell_type": "code",
   "execution_count": 25,
   "id": "f0384969-c140-4bb4-a73e-b085a5afb5b7",
   "metadata": {},
   "outputs": [
    {
     "name": "stdout",
     "output_type": "stream",
     "text": [
      "[3, 45, 65, 546, 78]\n"
     ]
    }
   ],
   "source": [
    "print(sales)"
   ]
  },
  {
   "cell_type": "code",
   "execution_count": null,
   "id": "6ce2e1f2-6151-4927-9640-d5e12ec7558d",
   "metadata": {},
   "outputs": [],
   "source": []
  }
 ],
 "metadata": {
  "kernelspec": {
   "display_name": "Python [conda env:base] *",
   "language": "python",
   "name": "conda-base-py"
  },
  "language_info": {
   "codemirror_mode": {
    "name": "ipython",
    "version": 3
   },
   "file_extension": ".py",
   "mimetype": "text/x-python",
   "name": "python",
   "nbconvert_exporter": "python",
   "pygments_lexer": "ipython3",
   "version": "3.12.7"
  }
 },
 "nbformat": 4,
 "nbformat_minor": 5
}
