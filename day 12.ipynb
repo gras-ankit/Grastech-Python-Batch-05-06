{
 "cells": [
  {
   "cell_type": "code",
   "execution_count": 1,
   "id": "31563179-ba30-41a5-ba68-259db46e4234",
   "metadata": {},
   "outputs": [],
   "source": [
    "# One liner if else/\n",
    "# pass\n",
    "# nested if else\n",
    "# Game\n",
    "# Login form"
   ]
  },
  {
   "cell_type": "markdown",
   "id": "346ca17b-df2d-41dd-90b3-a02895e693c5",
   "metadata": {},
   "source": [
    "# Number Guess Game"
   ]
  },
  {
   "cell_type": "code",
   "execution_count": 42,
   "id": "d9c5ad7d-88f8-402a-9371-8847b5eaedc9",
   "metadata": {},
   "outputs": [
    {
     "name": "stdout",
     "output_type": "stream",
     "text": [
      "                                                                  Number Guess Game                                                                   \n",
      "\n",
      "\n"
     ]
    },
    {
     "name": "stdin",
     "output_type": "stream",
     "text": [
      "Guess a Number b/w(1-10):  45\n"
     ]
    },
    {
     "name": "stdout",
     "output_type": "stream",
     "text": [
      "Your Choice is: 45\n",
      "Computer choice is: 7\n",
      "\n",
      "\n",
      "Better Luck next time!!😔😔\n"
     ]
    }
   ],
   "source": [
    "print('Number Guess Game'.center(150,' '))\n",
    "\n",
    "print()\n",
    "print()\n",
    "\n",
    "import random\n",
    "comp_choice = random.randint(1,10)\n",
    "user_choice = int(input('Guess a Number b/w(1-10): '))\n",
    "\n",
    "print(f'''Your Choice is: {user_choice }\n",
    "Computer choice is: {comp_choice }''')\n",
    "\n",
    "print()\n",
    "print()\n",
    "\n",
    "if user_choice == comp_choice:\n",
    "    print('You Won!!🎇🎇')\n",
    "else:\n",
    "    print('Better Luck next time!!😔😔')"
   ]
  },
  {
   "cell_type": "code",
   "execution_count": null,
   "id": "02cfb8d1-2f07-4b82-bbf8-14518802ee6c",
   "metadata": {},
   "outputs": [],
   "source": []
  },
  {
   "cell_type": "code",
   "execution_count": null,
   "id": "889d8887-0e29-4d43-b85d-54d24a018076",
   "metadata": {},
   "outputs": [],
   "source": []
  },
  {
   "cell_type": "markdown",
   "id": "ea8bfba9-0518-40a2-b7fa-d35b1f4ea828",
   "metadata": {},
   "source": [
    "# Rock Paper Scissors Game"
   ]
  },
  {
   "cell_type": "code",
   "execution_count": null,
   "id": "0398e558-c6a8-40ec-845c-3d42554556ad",
   "metadata": {},
   "outputs": [],
   "source": []
  },
  {
   "cell_type": "code",
   "execution_count": 76,
   "id": "ba85d960-9fa4-47cd-ad51-4465a7728eaa",
   "metadata": {},
   "outputs": [
    {
     "name": "stdout",
     "output_type": "stream",
     "text": [
      "                                                               Rock Paper Scissors Game                                                               \n",
      "\n",
      "\n"
     ]
    },
    {
     "name": "stdin",
     "output_type": "stream",
     "text": [
      "Enter your choice:  345678\n"
     ]
    },
    {
     "name": "stdout",
     "output_type": "stream",
     "text": [
      "Computer choice is: rock\n",
      "User choice: 345678\n",
      "\n",
      "\n",
      "Incorrect Choice by user!!\n"
     ]
    }
   ],
   "source": [
    "print('Rock Paper Scissors Game'.center(150,' '))\n",
    "\n",
    "print()\n",
    "print()\n",
    "\n",
    "import random\n",
    "\n",
    "possible_choices = ['rock','paper','scissors']\n",
    "\n",
    "comp_choice = random.choice(possible_choices)\n",
    "user_choice = input('Enter your choice: ').lower()\n",
    "\n",
    "\n",
    "\n",
    "print(f'''Computer choice is: {comp_choice}\n",
    "User choice: {user_choice}''')\n",
    "\n",
    "print()\n",
    "print()\n",
    "\n",
    "if user_choice in possible_choices:\n",
    "    # tie check\n",
    "    if comp_choice == user_choice:\n",
    "        print('Tie, match Draw!!')\n",
    "    \n",
    "    #if comp is rock\n",
    "    elif comp_choice == 'rock':\n",
    "        if user_choice == 'paper':\n",
    "            print('User Wins, Computer Lose!!')\n",
    "        else:\n",
    "            print('Computer Wins, User Lose!!')\n",
    "    \n",
    "    #if comp is paper\n",
    "    elif comp_choice == 'paper':\n",
    "        if user_choice == 'scissors':\n",
    "            print('User Wins, Computer Lose!!')\n",
    "        else:\n",
    "            print('Computer Wins, User Lose!!')\n",
    "    \n",
    "    #if comp is scissors\n",
    "    else:\n",
    "        if user_choice == 'rock':\n",
    "            print('User Wins, Computer Lose!!')\n",
    "        else:\n",
    "            print('Computer Wins, User Lose!!')\n",
    "else:\n",
    "    print('Incorrect Choice by user!!')"
   ]
  },
  {
   "cell_type": "code",
   "execution_count": null,
   "id": "96d8528d-e677-481a-b1d5-ec4baffe7f56",
   "metadata": {},
   "outputs": [],
   "source": []
  },
  {
   "cell_type": "code",
   "execution_count": null,
   "id": "5abbafb0-b811-4f4a-a3ff-425bd1b48b87",
   "metadata": {},
   "outputs": [],
   "source": []
  },
  {
   "cell_type": "code",
   "execution_count": 104,
   "id": "821b74c9-63d8-4028-acbc-21f9b82b54c9",
   "metadata": {},
   "outputs": [
    {
     "name": "stdout",
     "output_type": "stream",
     "text": [
      "choose the option given \n",
      "1 for Rock\n",
      "2 for Paper\n",
      "3 for Scissors\n"
     ]
    },
    {
     "name": "stdin",
     "output_type": "stream",
     "text": [
      " 4\n"
     ]
    },
    {
     "name": "stdout",
     "output_type": "stream",
     "text": [
      "please select valid input!!\n"
     ]
    }
   ],
   "source": [
    "#in this i am going to make rock paper scissors game\n",
    "import random \n",
    "print('choose the option given \\n1 for Rock\\n2 for Paper\\n3 for Scissors')\n",
    "chosen = int(input())\n",
    "if chosen  in  (1,2,3):\n",
    "    choice = ['rock','paper','scissors']\n",
    "    players_choice = choice[chosen-1]\n",
    "    computer_choice = random.choice(choice)\n",
    "    print(f'Player Choice:{players_choice}')\n",
    "    print(f'computer Choice:{computer_choice}')\n",
    "\n",
    "    if players_choice == computer_choice:\n",
    "        print('match draw!')\n",
    "    elif (players_choice == \"rock\" and computer_choice == \"paper\"):\n",
    "        print(\"computer win's\");\n",
    "    elif (players_choice == 'paper' and computer_choice == 'scissors'):\n",
    "        print(\"computer win's\");\n",
    "    elif (players_choice == 'scissors' and computer_choice == 'rock'):\n",
    "        print(\"computer win's\");\n",
    "    else:\n",
    "        print('you win');\n",
    "else:\n",
    "    print('please select valid input!!')"
   ]
  },
  {
   "cell_type": "code",
   "execution_count": 90,
   "id": "e00ebe0f-1510-45b9-ba2a-205b74d435e4",
   "metadata": {},
   "outputs": [
    {
     "name": "stdin",
     "output_type": "stream",
     "text": [
      " 1\n"
     ]
    },
    {
     "data": {
      "text/plain": [
       "(False, 2, 3)"
      ]
     },
     "execution_count": 90,
     "metadata": {},
     "output_type": "execute_result"
    }
   ],
   "source": [
    "chosen = input()\n",
    "chosen == 1,2,3"
   ]
  },
  {
   "cell_type": "code",
   "execution_count": 122,
   "id": "e35509e9-46a8-418d-bb52-18bf3099dbfd",
   "metadata": {},
   "outputs": [
    {
     "data": {
      "text/plain": [
       "1986"
      ]
     },
     "execution_count": 122,
     "metadata": {},
     "output_type": "execute_result"
    }
   ],
   "source": []
  },
  {
   "cell_type": "markdown",
   "id": "6d9643fb-b06a-4171-9503-38aac833e838",
   "metadata": {},
   "source": [
    "# Login Form"
   ]
  },
  {
   "cell_type": "code",
   "execution_count": 130,
   "id": "428e9a9b-a750-4550-8c62-6bce305d84df",
   "metadata": {},
   "outputs": [
    {
     "name": "stdin",
     "output_type": "stream",
     "text": [
      "Enter Your name:  Naman\n",
      "Create your user id:  naman@git\n",
      "Create your Password:  naman@123\n"
     ]
    },
    {
     "name": "stdout",
     "output_type": "stream",
     "text": [
      "\n",
      "\n"
     ]
    },
    {
     "name": "stdin",
     "output_type": "stream",
     "text": [
      "Enter yes to Login:  yes\n",
      "Enter your user id:  naman@git\n",
      "Enter your password:  namanW\n"
     ]
    },
    {
     "name": "stdout",
     "output_type": "stream",
     "text": [
      "Incorrect ID or Password!!\n"
     ]
    },
    {
     "name": "stdin",
     "output_type": "stream",
     "text": [
      "Forgot password:  yes\n",
      "Enter your 10 digits phone_number:  8787676543\n"
     ]
    },
    {
     "name": "stdout",
     "output_type": "stream",
     "text": [
      "OTP has been sent to registered number📱📱\n",
      "OTP Sending....\n",
      "Your OTP is: 6796\n"
     ]
    },
    {
     "name": "stdin",
     "output_type": "stream",
     "text": [
      "Enter OTP:  6796\n",
      "Create your new password:  naman@naman\n",
      "Enter again:  naman@naman\n"
     ]
    },
    {
     "name": "stdout",
     "output_type": "stream",
     "text": [
      "Password changed successfully!!\n"
     ]
    }
   ],
   "source": [
    "name = input('Enter Your name: ')\n",
    "user_id = input('Create your user id: ')\n",
    "password = input('Create your Password: ')\n",
    "\n",
    "print()\n",
    "print()\n",
    "\n",
    "if input('Enter yes to Login: ').lower() == 'yes':\n",
    "    uid = input('Enter your user id: ')\n",
    "    pwd = input('Enter your password: ')\n",
    "\n",
    "    if (uid == user_id) and (password == pwd):\n",
    "        print('Login Successfully!!')\n",
    "        print(f'Hello {name},how are you??')\n",
    "        \n",
    "    else:\n",
    "        print('Incorrect ID or Password!!')\n",
    "        temp_ans = input('Forgot password: ').lower()\n",
    "        if temp_ans == 'yes':\n",
    "            phone_number = input('Enter your 10 digits phone_number: ')\n",
    "            if (phone_number.isdecimal() == True) and len(phone_number) == 10:\n",
    "                print('OTP has been sent to registered number📱📱')\n",
    "                import random\n",
    "                otp = random.randint(1111,9999)\n",
    "                import time\n",
    "                print('OTP Sending....')\n",
    "                time.sleep(4)\n",
    "\n",
    "                print(f'Your OTP is: {otp}')\n",
    "\n",
    "                user_otp_inp = int(input('Enter OTP: '))\n",
    "                \n",
    "                if user_otp_inp == otp:\n",
    "                    new_pwd_1 = input('Create your new password: ')\n",
    "                    new_pwd_2 = input('Enter again: ')\n",
    "\n",
    "                    if new_pwd_1 == new_pwd_2:\n",
    "                        print('Password changed successfully!!')\n",
    "                        password = new_pwd_2\n",
    "                        \n",
    "                    else:\n",
    "                        print('Password not matched!!')\n",
    "                else:\n",
    "                    print('Incorrect OTP!!')\n",
    "            else:\n",
    "                print('Incorrect Phone Number!!')\n",
    "                \n",
    "        else:\n",
    "            print('Try Again!!')\n",
    "\n",
    "else:\n",
    "    print('Thanks for creating your account👋👋')"
   ]
  },
  {
   "cell_type": "code",
   "execution_count": 132,
   "id": "ca2a5b75-7f81-4861-980c-302aface4097",
   "metadata": {},
   "outputs": [
    {
     "data": {
      "text/plain": [
       "'naman@naman'"
      ]
     },
     "execution_count": 132,
     "metadata": {},
     "output_type": "execute_result"
    }
   ],
   "source": [
    "password"
   ]
  },
  {
   "cell_type": "code",
   "execution_count": null,
   "id": "c72bcf65-5caa-4f82-addc-c24ad3ff8307",
   "metadata": {},
   "outputs": [],
   "source": []
  }
 ],
 "metadata": {
  "kernelspec": {
   "display_name": "Python [conda env:base] *",
   "language": "python",
   "name": "conda-base-py"
  },
  "language_info": {
   "codemirror_mode": {
    "name": "ipython",
    "version": 3
   },
   "file_extension": ".py",
   "mimetype": "text/x-python",
   "name": "python",
   "nbconvert_exporter": "python",
   "pygments_lexer": "ipython3",
   "version": "3.12.7"
  }
 },
 "nbformat": 4,
 "nbformat_minor": 5
}
