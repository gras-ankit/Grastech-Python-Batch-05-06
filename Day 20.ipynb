{
 "cells": [
  {
   "cell_type": "code",
   "execution_count": 156,
   "id": "e58c951b-89fa-4e78-8508-588262f7d9a1",
   "metadata": {},
   "outputs": [
    {
     "data": {
      "text/plain": [
       "['a', 'd']"
      ]
     },
     "execution_count": 156,
     "metadata": {},
     "output_type": "execute_result"
    }
   ],
   "source": [
    "ans ='a' \n",
    "possible_op = list('abcd')\n",
    "\n",
    "correct_ans_index = possible_op.index(ans)\n",
    "\n",
    "all_op_index = list(range(0,4))\n",
    "all_op_index.remove(correct_ans_index)\n",
    "\n",
    "import random\n",
    "random.shuffle(all_op_index)\n",
    "all_op_index.pop()\n",
    "\n",
    "next_op = possible_op[random.choice(all_op_index)]\n",
    "op_50_correct = [ans,next_op]\n",
    "random.shuffle(op_50_correct)\n",
    "op_50_correct"
   ]
  },
  {
   "cell_type": "code",
   "execution_count": null,
   "id": "af7d8e12-ece9-44d5-a215-467e1116fc1e",
   "metadata": {},
   "outputs": [],
   "source": [
    "ans = 'd'\n",
    "all_op = list('abcd')\n",
    "all_op.remove(ans)\n",
    "next_op   = random.choice(all_op)\n",
    "\n",
    "final_50 = [ans,next_op]\n",
    "random.shuffle(final_50)\n",
    "final_50"
   ]
  },
  {
   "cell_type": "code",
   "execution_count": 231,
   "id": "c040531d-d384-475b-ad5c-3bdbadd27b59",
   "metadata": {},
   "outputs": [],
   "source": [
    "# [100"
   ]
  },
  {
   "cell_type": "code",
   "execution_count": null,
   "id": "9fee499d-1331-4884-97d3-23d7914fb121",
   "metadata": {},
   "outputs": [],
   "source": [
    "success_index = [3,6,9]\n",
    "\n",
    "BA"
   ]
  }
 ],
 "metadata": {
  "kernelspec": {
   "display_name": "Python [conda env:base] *",
   "language": "python",
   "name": "conda-base-py"
  },
  "language_info": {
   "codemirror_mode": {
    "name": "ipython",
    "version": 3
   },
   "file_extension": ".py",
   "mimetype": "text/x-python",
   "name": "python",
   "nbconvert_exporter": "python",
   "pygments_lexer": "ipython3",
   "version": "3.12.7"
  }
 },
 "nbformat": 4,
 "nbformat_minor": 5
}
