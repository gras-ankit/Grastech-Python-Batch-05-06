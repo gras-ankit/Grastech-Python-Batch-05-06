{
 "cells": [
  {
   "cell_type": "code",
   "execution_count": 2,
   "id": "d4fb7dfe-4f12-4cad-a410-61e03269f1a8",
   "metadata": {},
   "outputs": [],
   "source": [
    "# Exceptions: Error raise while execution of any program or code"
   ]
  },
  {
   "cell_type": "code",
   "execution_count": 6,
   "id": "ba78b6a8-8929-4b50-b4f6-576a102c8ba9",
   "metadata": {},
   "outputs": [
    {
     "ename": "ZeroDivisionError",
     "evalue": "division by zero",
     "output_type": "error",
     "traceback": [
      "\u001b[1;31m---------------------------------------------------------------------------\u001b[0m",
      "\u001b[1;31mZeroDivisionError\u001b[0m                         Traceback (most recent call last)",
      "Cell \u001b[1;32mIn[6], line 3\u001b[0m\n\u001b[0;32m      1\u001b[0m a \u001b[38;5;241m=\u001b[39m \u001b[38;5;241m456\u001b[39m\n\u001b[1;32m----> 3\u001b[0m \u001b[38;5;28mprint\u001b[39m(a\u001b[38;5;241m/\u001b[39m\u001b[38;5;241m0\u001b[39m)\n\u001b[0;32m      5\u001b[0m \u001b[38;5;28mprint\u001b[39m(\u001b[38;5;124m'\u001b[39m\u001b[38;5;124mhello World\u001b[39m\u001b[38;5;124m'\u001b[39m)\n",
      "\u001b[1;31mZeroDivisionError\u001b[0m: division by zero"
     ]
    }
   ],
   "source": [
    "a = 456\n",
    "\n",
    "print(a/0)\n",
    "\n",
    "print('hello World')\n",
    "\n",
    "# 5,50,200,255"
   ]
  },
  {
   "cell_type": "code",
   "execution_count": 8,
   "id": "9b6c008b-32f4-4f79-8ac4-33adda681e26",
   "metadata": {},
   "outputs": [
    {
     "ename": "IndexError",
     "evalue": "list assignment index out of range",
     "output_type": "error",
     "traceback": [
      "\u001b[1;31m---------------------------------------------------------------------------\u001b[0m",
      "\u001b[1;31mIndexError\u001b[0m                                Traceback (most recent call last)",
      "Cell \u001b[1;32mIn[8], line 3\u001b[0m\n\u001b[0;32m      1\u001b[0m data \u001b[38;5;241m=\u001b[39m [\u001b[38;5;241m234\u001b[39m,\u001b[38;5;241m65\u001b[39m,\u001b[38;5;241m78\u001b[39m]\n\u001b[1;32m----> 3\u001b[0m data[\u001b[38;5;241m12\u001b[39m] \u001b[38;5;241m=\u001b[39m \u001b[38;5;241m34\u001b[39m\n",
      "\u001b[1;31mIndexError\u001b[0m: list assignment index out of range"
     ]
    }
   ],
   "source": [
    "data = [234,65,78]\n",
    "\n",
    "data[12] = 34"
   ]
  },
  {
   "cell_type": "code",
   "execution_count": 12,
   "id": "18c9cb1d-a501-49ed-9abb-d299b3b30561",
   "metadata": {},
   "outputs": [
    {
     "ename": "ValueError",
     "evalue": "could not convert string to float: 'fdghyk'",
     "output_type": "error",
     "traceback": [
      "\u001b[1;31m---------------------------------------------------------------------------\u001b[0m",
      "\u001b[1;31mValueError\u001b[0m                                Traceback (most recent call last)",
      "Cell \u001b[1;32mIn[12], line 2\u001b[0m\n\u001b[0;32m      1\u001b[0m a \u001b[38;5;241m=\u001b[39m \u001b[38;5;124m'\u001b[39m\u001b[38;5;124mfdghyk\u001b[39m\u001b[38;5;124m'\u001b[39m\n\u001b[1;32m----> 2\u001b[0m \u001b[38;5;28mfloat\u001b[39m(a)\n",
      "\u001b[1;31mValueError\u001b[0m: could not convert string to float: 'fdghyk'"
     ]
    }
   ],
   "source": [
    "a = 'fdghyk'\n",
    "float(a)"
   ]
  },
  {
   "cell_type": "code",
   "execution_count": 16,
   "id": "6ac9f23a-a734-4831-88e5-4d3b243ebabc",
   "metadata": {},
   "outputs": [
    {
     "ename": "ValueError",
     "evalue": "invalid literal for int() with base 10: '45.6'",
     "output_type": "error",
     "traceback": [
      "\u001b[1;31m---------------------------------------------------------------------------\u001b[0m",
      "\u001b[1;31mValueError\u001b[0m                                Traceback (most recent call last)",
      "Cell \u001b[1;32mIn[16], line 1\u001b[0m\n\u001b[1;32m----> 1\u001b[0m \u001b[38;5;28mint\u001b[39m(\u001b[38;5;124m'\u001b[39m\u001b[38;5;124m45.6\u001b[39m\u001b[38;5;124m'\u001b[39m)\n",
      "\u001b[1;31mValueError\u001b[0m: invalid literal for int() with base 10: '45.6'"
     ]
    }
   ],
   "source": [
    "int('45.6')"
   ]
  },
  {
   "cell_type": "code",
   "execution_count": 20,
   "id": "1074c608-2eb0-4a92-8b3b-68da8cc00b4b",
   "metadata": {},
   "outputs": [
    {
     "ename": "TypeError",
     "evalue": "unsupported operand type(s) for /: 'str' and 'int'",
     "output_type": "error",
     "traceback": [
      "\u001b[1;31m---------------------------------------------------------------------------\u001b[0m",
      "\u001b[1;31mTypeError\u001b[0m                                 Traceback (most recent call last)",
      "Cell \u001b[1;32mIn[20], line 1\u001b[0m\n\u001b[1;32m----> 1\u001b[0m \u001b[38;5;124m'\u001b[39m\u001b[38;5;124msdgh\u001b[39m\u001b[38;5;124m'\u001b[39m\u001b[38;5;241m/\u001b[39m\u001b[38;5;241m456\u001b[39m\n",
      "\u001b[1;31mTypeError\u001b[0m: unsupported operand type(s) for /: 'str' and 'int'"
     ]
    }
   ],
   "source": [
    "'sdgh'/456"
   ]
  },
  {
   "cell_type": "code",
   "execution_count": 22,
   "id": "9380b1a4-514c-482f-b6a3-215e77da5675",
   "metadata": {},
   "outputs": [
    {
     "ename": "SyntaxError",
     "evalue": "unterminated string literal (detected at line 1) (244291070.py, line 1)",
     "output_type": "error",
     "traceback": [
      "\u001b[1;36m  Cell \u001b[1;32mIn[22], line 1\u001b[1;36m\u001b[0m\n\u001b[1;33m    'Hello world\u001b[0m\n\u001b[1;37m    ^\u001b[0m\n\u001b[1;31mSyntaxError\u001b[0m\u001b[1;31m:\u001b[0m unterminated string literal (detected at line 1)\n"
     ]
    }
   ],
   "source": [
    "'Hello world"
   ]
  },
  {
   "cell_type": "code",
   "execution_count": 30,
   "id": "206b81b5-e939-4c5d-8b13-68bd3a53c98c",
   "metadata": {},
   "outputs": [
    {
     "ename": "IndentationError",
     "evalue": "expected an indented block after 'if' statement on line 1 (1569980561.py, line 2)",
     "output_type": "error",
     "traceback": [
      "\u001b[1;36m  Cell \u001b[1;32mIn[30], line 2\u001b[1;36m\u001b[0m\n\u001b[1;33m    print('hello')\u001b[0m\n\u001b[1;37m    ^\u001b[0m\n\u001b[1;31mIndentationError\u001b[0m\u001b[1;31m:\u001b[0m expected an indented block after 'if' statement on line 1\n"
     ]
    }
   ],
   "source": [
    "\n",
    "if 2==2:\n",
    "print('hello')\n"
   ]
  },
  {
   "cell_type": "code",
   "execution_count": 32,
   "id": "6c942bd9-5bf2-454d-8d81-910bfc3fa683",
   "metadata": {},
   "outputs": [],
   "source": [
    "def a():\n",
    "    a()"
   ]
  },
  {
   "cell_type": "code",
   "execution_count": 34,
   "id": "03d21f46-5def-4902-80d6-427133dc05cd",
   "metadata": {},
   "outputs": [
    {
     "ename": "RecursionError",
     "evalue": "maximum recursion depth exceeded",
     "output_type": "error",
     "traceback": [
      "\u001b[1;31m---------------------------------------------------------------------------\u001b[0m",
      "\u001b[1;31mRecursionError\u001b[0m                            Traceback (most recent call last)",
      "Cell \u001b[1;32mIn[34], line 1\u001b[0m\n\u001b[1;32m----> 1\u001b[0m a()\n",
      "Cell \u001b[1;32mIn[32], line 2\u001b[0m, in \u001b[0;36ma\u001b[1;34m()\u001b[0m\n\u001b[0;32m      1\u001b[0m \u001b[38;5;28;01mdef\u001b[39;00m \u001b[38;5;21ma\u001b[39m():\n\u001b[1;32m----> 2\u001b[0m     a()\n",
      "Cell \u001b[1;32mIn[32], line 2\u001b[0m, in \u001b[0;36ma\u001b[1;34m()\u001b[0m\n\u001b[0;32m      1\u001b[0m \u001b[38;5;28;01mdef\u001b[39;00m \u001b[38;5;21ma\u001b[39m():\n\u001b[1;32m----> 2\u001b[0m     a()\n",
      "    \u001b[1;31m[... skipping similar frames: a at line 2 (2974 times)]\u001b[0m\n",
      "Cell \u001b[1;32mIn[32], line 2\u001b[0m, in \u001b[0;36ma\u001b[1;34m()\u001b[0m\n\u001b[0;32m      1\u001b[0m \u001b[38;5;28;01mdef\u001b[39;00m \u001b[38;5;21ma\u001b[39m():\n\u001b[1;32m----> 2\u001b[0m     a()\n",
      "\u001b[1;31mRecursionError\u001b[0m: maximum recursion depth exceeded"
     ]
    }
   ],
   "source": [
    "a()"
   ]
  },
  {
   "cell_type": "code",
   "execution_count": 36,
   "id": "07f0d140-1a69-4b95-89d6-562969b477d9",
   "metadata": {},
   "outputs": [
    {
     "ename": "NameError",
     "evalue": "name 'A' is not defined",
     "output_type": "error",
     "traceback": [
      "\u001b[1;31m---------------------------------------------------------------------------\u001b[0m",
      "\u001b[1;31mNameError\u001b[0m                                 Traceback (most recent call last)",
      "Cell \u001b[1;32mIn[36], line 2\u001b[0m\n\u001b[0;32m      1\u001b[0m a \u001b[38;5;241m=\u001b[39m \u001b[38;5;124m'\u001b[39m\u001b[38;5;124mnaman\u001b[39m\u001b[38;5;124m'\u001b[39m\n\u001b[1;32m----> 2\u001b[0m \u001b[38;5;28mprint\u001b[39m(A)\n",
      "\u001b[1;31mNameError\u001b[0m: name 'A' is not defined"
     ]
    }
   ],
   "source": [
    "a = 'naman'\n",
    "print(A)"
   ]
  },
  {
   "cell_type": "code",
   "execution_count": 38,
   "id": "1990f2df-d86a-4e0e-b9bb-971721f6bf02",
   "metadata": {},
   "outputs": [
    {
     "ename": "KeyboardInterrupt",
     "evalue": "",
     "output_type": "error",
     "traceback": [
      "\u001b[1;31m---------------------------------------------------------------------------\u001b[0m",
      "\u001b[1;31mKeyboardInterrupt\u001b[0m                         Traceback (most recent call last)",
      "Cell \u001b[1;32mIn[38], line 1\u001b[0m\n\u001b[1;32m----> 1\u001b[0m [i\u001b[38;5;241m*\u001b[39m\u001b[38;5;241m*\u001b[39mi \u001b[38;5;28;01mfor\u001b[39;00m i \u001b[38;5;129;01min\u001b[39;00m \u001b[38;5;28mrange\u001b[39m(\u001b[38;5;241m12345678345678934567834567\u001b[39m)]\n",
      "\u001b[1;31mKeyboardInterrupt\u001b[0m: "
     ]
    }
   ],
   "source": [
    "[i**i for i in range(12345678345678934567834567)]"
   ]
  },
  {
   "cell_type": "code",
   "execution_count": 40,
   "id": "b85d0364-17c7-4f1c-bd7d-8e36fa26f982",
   "metadata": {},
   "outputs": [],
   "source": [
    "data = {'age':345}"
   ]
  },
  {
   "cell_type": "code",
   "execution_count": 42,
   "id": "8e0478a4-018b-410a-9f54-6be262a50d62",
   "metadata": {},
   "outputs": [
    {
     "ename": "KeyError",
     "evalue": "'Age'",
     "output_type": "error",
     "traceback": [
      "\u001b[1;31m---------------------------------------------------------------------------\u001b[0m",
      "\u001b[1;31mKeyError\u001b[0m                                  Traceback (most recent call last)",
      "Cell \u001b[1;32mIn[42], line 1\u001b[0m\n\u001b[1;32m----> 1\u001b[0m data[\u001b[38;5;124m'\u001b[39m\u001b[38;5;124mAge\u001b[39m\u001b[38;5;124m'\u001b[39m]\n",
      "\u001b[1;31mKeyError\u001b[0m: 'Age'"
     ]
    }
   ],
   "source": [
    "data['Age']"
   ]
  },
  {
   "cell_type": "code",
   "execution_count": 44,
   "id": "11c8bc66-e40b-4d19-9edb-a3710268731a",
   "metadata": {},
   "outputs": [],
   "source": [
    "# Exceptions Handing"
   ]
  },
  {
   "cell_type": "code",
   "execution_count": 46,
   "id": "aaa7d20c-683c-4442-b058-8497d195e07e",
   "metadata": {},
   "outputs": [],
   "source": [
    "# try\n",
    "# except\n"
   ]
  },
  {
   "cell_type": "code",
   "execution_count": 48,
   "id": "8ac6b97e-d279-4f88-b4b5-0b3fdd977c57",
   "metadata": {},
   "outputs": [],
   "source": [
    "# try\n",
    "# except\n",
    "# else\n",
    "# finally"
   ]
  },
  {
   "cell_type": "code",
   "execution_count": 50,
   "id": "22c5f272-b438-4ae9-b9b2-7b68bb1a2276",
   "metadata": {},
   "outputs": [],
   "source": [
    "# error message show\n",
    "# based on error handle"
   ]
  },
  {
   "cell_type": "code",
   "execution_count": 58,
   "id": "fad183f5-008a-4a17-9b4f-59e0c8e45211",
   "metadata": {},
   "outputs": [
    {
     "name": "stdout",
     "output_type": "stream",
     "text": [
      "Something went wrong!!\n"
     ]
    }
   ],
   "source": [
    "try:\n",
    "    data = {'age':345}\n",
    "    print(data['Class'])\n",
    "except:\n",
    "    print('Something went wrong!!')"
   ]
  },
  {
   "cell_type": "code",
   "execution_count": 60,
   "id": "578cab23-92ce-4cb0-95f2-0506a8a5971a",
   "metadata": {},
   "outputs": [],
   "source": [
    "# nested try except"
   ]
  },
  {
   "cell_type": "code",
   "execution_count": 64,
   "id": "bb6d6117-ce05-4099-997b-96c904666213",
   "metadata": {},
   "outputs": [],
   "source": [
    "try:\n",
    "    try:\n",
    "        pass\n",
    "    except:\n",
    "        try:\n",
    "            pass\n",
    "        except:\n",
    "            pass\n",
    "    try:\n",
    "        pass\n",
    "    except:\n",
    "        pass\n",
    "except:\n",
    "    try:\n",
    "        pass\n",
    "    except:\n",
    "        pass\n"
   ]
  },
  {
   "cell_type": "code",
   "execution_count": 80,
   "id": "ad92eef6-6cd4-41de-aace-df9bd3e0f239",
   "metadata": {},
   "outputs": [
    {
     "name": "stdout",
     "output_type": "stream",
     "text": [
      "Hello\n",
      "Something went wrong!!\n"
     ]
    }
   ],
   "source": [
    "try:\n",
    "    data = {'age':345}\n",
    "    \n",
    "    try:\n",
    "        print('Hello')\n",
    "        print(data['Class'])\n",
    "    except:\n",
    "        print('WE',ab)\n",
    "except:\n",
    "    print('Something went wrong!!')"
   ]
  },
  {
   "cell_type": "code",
   "execution_count": 68,
   "id": "d9f2108d-33e0-4d2d-b7c4-b628f1720a39",
   "metadata": {},
   "outputs": [
    {
     "name": "stdout",
     "output_type": "stream",
     "text": [
      "Hello from try block\n",
      "Something went wrong!! except block\n"
     ]
    }
   ],
   "source": [
    "try:\n",
    "    data = {'age':345}\n",
    "    print('Hello from try block')\n",
    "    print(data['Class'])\n",
    "    print('World')\n",
    "except:\n",
    "    print('Something went wrong!! except block')"
   ]
  },
  {
   "cell_type": "code",
   "execution_count": null,
   "id": "bab1e1ed-2537-4f6b-abcb-384ccf4aeced",
   "metadata": {},
   "outputs": [],
   "source": []
  },
  {
   "cell_type": "code",
   "execution_count": 89,
   "id": "b1744a3d-b172-48ec-a396-6b9a81090557",
   "metadata": {},
   "outputs": [
    {
     "name": "stdout",
     "output_type": "stream",
     "text": [
      "Code block that might can return error--Try block\n",
      "Code block to run if try fails!!--except block\n",
      "Run at any cost!!--finally block\n"
     ]
    }
   ],
   "source": [
    "try:\n",
    "    print('Code block that might can return error--Try block')\n",
    "    # print(1/0)\n",
    "    print(naman)\n",
    "    \n",
    "except:\n",
    "    print('Code block to run if try fails!!--except block')\n",
    "    \n",
    "else:\n",
    "    print('It runs when try runs successfully!!--else block')\n",
    "    \n",
    "finally:\n",
    "    print('Run at any cost!!--finally block')"
   ]
  },
  {
   "cell_type": "code",
   "execution_count": null,
   "id": "dcc3b3ff-8cd4-4f15-a7bb-d7002f2bf5b4",
   "metadata": {},
   "outputs": [],
   "source": []
  },
  {
   "cell_type": "code",
   "execution_count": null,
   "id": "09018b51-b982-4b1e-ab3a-529189524ae0",
   "metadata": {},
   "outputs": [],
   "source": []
  },
  {
   "cell_type": "code",
   "execution_count": 103,
   "id": "197e96c6-0b77-40fc-9169-51109977fb77",
   "metadata": {},
   "outputs": [
    {
     "name": "stdout",
     "output_type": "stream",
     "text": [
      "Code block that might can return error--Try block\n",
      "Something went wrong!!\n"
     ]
    }
   ],
   "source": [
    "try:\n",
    "    print('Code block that might can return error--Try block')\n",
    "    # print(1/0)\n",
    "    print(naman)\n",
    "except:\n",
    "    print('Something went wrong!!')"
   ]
  },
  {
   "cell_type": "code",
   "execution_count": 101,
   "id": "90426500-e651-4cd7-9fc9-7093038da1ec",
   "metadata": {},
   "outputs": [
    {
     "ename": "NameError",
     "evalue": "name 'naman' is not defined",
     "output_type": "error",
     "traceback": [
      "\u001b[1;31m---------------------------------------------------------------------------\u001b[0m",
      "\u001b[1;31mNameError\u001b[0m                                 Traceback (most recent call last)",
      "Cell \u001b[1;32mIn[101], line 1\u001b[0m\n\u001b[1;32m----> 1\u001b[0m \u001b[38;5;28mprint\u001b[39m(naman)\n",
      "\u001b[1;31mNameError\u001b[0m: name 'naman' is not defined"
     ]
    }
   ],
   "source": [
    "print(naman)"
   ]
  },
  {
   "cell_type": "code",
   "execution_count": 136,
   "id": "2162d724-fefa-43f8-b27f-b0c54ea51650",
   "metadata": {},
   "outputs": [
    {
     "name": "stdout",
     "output_type": "stream",
     "text": [
      "Code block that might can return error--Try block\n",
      "You can not divide any number by zero\n",
      "Reason:-division by zero\n"
     ]
    }
   ],
   "source": [
    "try:\n",
    "    print('Code block that might can return error--Try block')\n",
    "    print(1/0)\n",
    "    # print(naman)\n",
    "    data = [235,46,32,56]\n",
    "    data[123] = 34567\n",
    "\n",
    "except NameError as n:\n",
    "    print('User is not defined or not found!')\n",
    "\n",
    "except IndexError as i:\n",
    "    print(f'Wrong Index passed\\nReason:-{i}')\n",
    "\n",
    "except ZeroDivisionError as z:\n",
    "    print(f'You can not divide any number by zero\\nReason:-{z}')\n",
    "\n",
    "except Exception as e:\n",
    "    print('Final Exception: Something went wrong!!\\nBecause:',end = '-')\n",
    "    print(e)"
   ]
  },
  {
   "cell_type": "code",
   "execution_count": null,
   "id": "a110fed0-c7be-4124-9384-e1dae18012c0",
   "metadata": {},
   "outputs": [],
   "source": []
  },
  {
   "cell_type": "code",
   "execution_count": 124,
   "id": "7bf40a89-f510-42cc-b8dd-29f91fbe7d1b",
   "metadata": {},
   "outputs": [
    {
     "name": "stdout",
     "output_type": "stream",
     "text": [
      "['ArithmeticError', 'AssertionError', 'AttributeError', 'BaseException', 'BaseExceptionGroup', 'BlockingIOError', 'BrokenPipeError', 'BufferError', 'BytesWarning', 'ChildProcessError', 'ConnectionAbortedError', 'ConnectionError', 'ConnectionRefusedError', 'ConnectionResetError', 'DeprecationWarning', 'EOFError', 'Ellipsis', 'EncodingWarning', 'EnvironmentError', 'Exception', 'ExceptionGroup', 'False', 'FileExistsError', 'FileNotFoundError', 'FloatingPointError', 'FutureWarning', 'GeneratorExit', 'IOError', 'ImportError', 'ImportWarning', 'IndentationError', 'IndexError', 'InterruptedError', 'IsADirectoryError', 'KeyError', 'KeyboardInterrupt', 'LookupError', 'MemoryError', 'ModuleNotFoundError', 'NameError', 'None', 'NotADirectoryError', 'NotImplemented', 'NotImplementedError', 'OSError', 'OverflowError', 'PendingDeprecationWarning', 'PermissionError', 'ProcessLookupError', 'RecursionError', 'ReferenceError', 'ResourceWarning', 'RuntimeError', 'RuntimeWarning', 'StopAsyncIteration', 'StopIteration', 'SyntaxError', 'SyntaxWarning', 'SystemError', 'SystemExit', 'TabError', 'TimeoutError', 'True', 'TypeError', 'UnboundLocalError', 'UnicodeDecodeError', 'UnicodeEncodeError', 'UnicodeError', 'UnicodeTranslateError', 'UnicodeWarning', 'UserWarning', 'ValueError', 'Warning', 'WindowsError', 'ZeroDivisionError', '__IPYTHON__', '__build_class__', '__debug__', '__doc__', '__import__', '__loader__', '__name__', '__package__', '__spec__', 'abs', 'aiter', 'all', 'anext', 'any', 'ascii', 'bin', 'bool', 'breakpoint', 'bytearray', 'bytes', 'callable', 'chr', 'classmethod', 'compile', 'complex', 'copyright', 'credits', 'delattr', 'dict', 'dir', 'display', 'divmod', 'enumerate', 'eval', 'exec', 'execfile', 'filter', 'float', 'format', 'frozenset', 'get_ipython', 'getattr', 'globals', 'hasattr', 'hash', 'help', 'hex', 'id', 'input', 'int', 'isinstance', 'issubclass', 'iter', 'len', 'license', 'list', 'locals', 'map', 'max', 'memoryview', 'min', 'next', 'object', 'oct', 'open', 'ord', 'pow', 'print', 'property', 'range', 'repr', 'reversed', 'round', 'runfile', 'set', 'setattr', 'slice', 'sorted', 'staticmethod', 'str', 'sum', 'super', 'tuple', 'type', 'vars', 'zip']\n"
     ]
    }
   ],
   "source": [
    "print(dir(__builtins__))"
   ]
  },
  {
   "cell_type": "code",
   "execution_count": null,
   "id": "e7ab40fb-1ec6-4539-86be-a9c145e57ceb",
   "metadata": {},
   "outputs": [],
   "source": []
  },
  {
   "cell_type": "code",
   "execution_count": null,
   "id": "fdae0ab1-bfeb-46aa-a6ce-0699ad68f25b",
   "metadata": {},
   "outputs": [],
   "source": []
  },
  {
   "cell_type": "code",
   "execution_count": 142,
   "id": "59b8c006-02d7-41b9-955a-82e40f4bdbd8",
   "metadata": {},
   "outputs": [],
   "source": [
    "# How to raise own error"
   ]
  },
  {
   "cell_type": "code",
   "execution_count": 150,
   "id": "18cfcd6d-07dc-4ecf-8ecd-2b96ccbb85a5",
   "metadata": {},
   "outputs": [],
   "source": [
    "class Ankit_Bhai_Ka_Error(Exception):\n",
    "    pass"
   ]
  },
  {
   "cell_type": "code",
   "execution_count": 162,
   "id": "2a57d066-2441-4969-8d14-7836eb9f3581",
   "metadata": {},
   "outputs": [
    {
     "name": "stdout",
     "output_type": "stream",
     "text": [
      "Error aa gaya\n",
      "Bye!!\n"
     ]
    }
   ],
   "source": [
    "age = 2\n",
    "\n",
    "try:\n",
    "    if age>=18:\n",
    "        print('hello!!')\n",
    "    else:\n",
    "        raise Ankit_Bhai_Ka_Error('Ankit Bhai ne bole hai age 18 hogi ya upper!!')\n",
    "except:\n",
    "    print('Error aa gaya')\n",
    "finally:\n",
    "    print('Bye!!')"
   ]
  },
  {
   "cell_type": "code",
   "execution_count": null,
   "id": "e6299e8c-6e4b-41fb-bbd1-ce45f091c528",
   "metadata": {},
   "outputs": [],
   "source": []
  }
 ],
 "metadata": {
  "kernelspec": {
   "display_name": "Python [conda env:base] *",
   "language": "python",
   "name": "conda-base-py"
  },
  "language_info": {
   "codemirror_mode": {
    "name": "ipython",
    "version": 3
   },
   "file_extension": ".py",
   "mimetype": "text/x-python",
   "name": "python",
   "nbconvert_exporter": "python",
   "pygments_lexer": "ipython3",
   "version": "3.12.7"
  }
 },
 "nbformat": 4,
 "nbformat_minor": 5
}
