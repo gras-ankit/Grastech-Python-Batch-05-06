{
 "cells": [
  {
   "cell_type": "code",
   "execution_count": 3,
   "id": "e4e72f1a-4dde-407d-bbf5-2fa64876c02a",
   "metadata": {},
   "outputs": [],
   "source": [
    "# 1 :- DATA Analyst:- 50%\n",
    "# 2 - Data Science: 50%"
   ]
  },
  {
   "cell_type": "code",
   "execution_count": 5,
   "id": "4f39b487-e228-4fae-8322-a8f185d68a94",
   "metadata": {},
   "outputs": [],
   "source": [
    "# Str\n",
    "# List\n",
    "# Tuple\n",
    "# int\n",
    "# float\n",
    "# complex\n",
    "# dict\n",
    "# bool\n",
    "# Set\n",
    "# None"
   ]
  },
  {
   "cell_type": "code",
   "execution_count": 7,
   "id": "429c7da4-1a19-4c29-b5f8-306bb0c0b437",
   "metadata": {},
   "outputs": [],
   "source": [
    "# Numerical data Type"
   ]
  },
  {
   "cell_type": "code",
   "execution_count": 9,
   "id": "1dac888f-9cbe-4630-9325-e6d16c847d32",
   "metadata": {},
   "outputs": [],
   "source": [
    "# int\n",
    "# float\n",
    "# complex"
   ]
  },
  {
   "cell_type": "code",
   "execution_count": 11,
   "id": "d5f8a818-111f-46aa-a310-3f47f601890d",
   "metadata": {},
   "outputs": [
    {
     "name": "stdout",
     "output_type": "stream",
     "text": [
      "345678\n"
     ]
    }
   ],
   "source": [
    "# int:- -ve infinite to +ve -infinite\n",
    "a = 345678\n",
    "print(a)"
   ]
  },
  {
   "cell_type": "code",
   "execution_count": 13,
   "id": "e2d611a6-353c-4d55-b3f8-eada7bfbc41f",
   "metadata": {},
   "outputs": [
    {
     "name": "stdout",
     "output_type": "stream",
     "text": [
      "<class 'int'>\n"
     ]
    }
   ],
   "source": [
    "print(type(a))"
   ]
  },
  {
   "cell_type": "code",
   "execution_count": 15,
   "id": "f9f87c20-a8b3-4f98-aff5-896693da4de4",
   "metadata": {},
   "outputs": [],
   "source": [
    "# float"
   ]
  },
  {
   "cell_type": "code",
   "execution_count": 17,
   "id": "290c76e4-6444-4f68-b62a-5cea32f16902",
   "metadata": {},
   "outputs": [],
   "source": [
    "a = 4567.67"
   ]
  },
  {
   "cell_type": "code",
   "execution_count": 19,
   "id": "f21539cd-afb0-4107-b122-29f52b57e68a",
   "metadata": {},
   "outputs": [
    {
     "name": "stdout",
     "output_type": "stream",
     "text": [
      "4567.67\n",
      "<class 'float'>\n"
     ]
    }
   ],
   "source": [
    "print(a)\n",
    "print(type(a))"
   ]
  },
  {
   "cell_type": "code",
   "execution_count": 21,
   "id": "f1c4e123-5681-40ea-9318-9419b7524ff6",
   "metadata": {},
   "outputs": [],
   "source": [
    "# -ve decimal to +ve decimal"
   ]
  },
  {
   "cell_type": "code",
   "execution_count": 23,
   "id": "02c219e7-ba65-412f-a9cd-92bc7f0933f6",
   "metadata": {},
   "outputs": [
    {
     "name": "stdout",
     "output_type": "stream",
     "text": [
      "-345678.0\n"
     ]
    }
   ],
   "source": [
    "f = 45678.456789\n",
    "d = -345678.0\n",
    "print(d)"
   ]
  },
  {
   "cell_type": "code",
   "execution_count": 25,
   "id": "85149637-0195-4d65-8da9-0d5579b5a897",
   "metadata": {},
   "outputs": [
    {
     "name": "stdout",
     "output_type": "stream",
     "text": [
      "<class 'float'>\n"
     ]
    }
   ],
   "source": [
    "print(type(d))"
   ]
  },
  {
   "cell_type": "code",
   "execution_count": 27,
   "id": "9e6c6eb2-ee4c-4103-8d37-5b451ca83021",
   "metadata": {},
   "outputs": [],
   "source": [
    "# complex:- real, img"
   ]
  },
  {
   "cell_type": "code",
   "execution_count": 29,
   "id": "c88e98e8-d382-40a2-9e7d-96d97783bb13",
   "metadata": {},
   "outputs": [],
   "source": [
    "# img:- iota"
   ]
  },
  {
   "cell_type": "code",
   "execution_count": 31,
   "id": "d9300cc7-ee3c-4864-87d8-473f1945b7a0",
   "metadata": {},
   "outputs": [],
   "source": [
    "# img :- i\n",
    "# img:- j"
   ]
  },
  {
   "cell_type": "code",
   "execution_count": 45,
   "id": "60489fd3-08dd-4f5d-9bcc-959846b5a430",
   "metadata": {},
   "outputs": [],
   "source": [
    "a = 4567 + 9j"
   ]
  },
  {
   "cell_type": "code",
   "execution_count": 47,
   "id": "0baf1573-dcdc-4fa3-bb91-552dd5c5f603",
   "metadata": {},
   "outputs": [
    {
     "name": "stdout",
     "output_type": "stream",
     "text": [
      "<class 'complex'>\n"
     ]
    }
   ],
   "source": [
    "print(type(a))"
   ]
  },
  {
   "cell_type": "code",
   "execution_count": null,
   "id": "fd5a8142-709b-4f4b-8608-53211e849bd5",
   "metadata": {},
   "outputs": [],
   "source": []
  },
  {
   "cell_type": "code",
   "execution_count": null,
   "id": "c083567c-bdd2-4ba5-83c0-76da9c9acf45",
   "metadata": {},
   "outputs": [],
   "source": []
  },
  {
   "cell_type": "markdown",
   "id": "51c225d4-612c-44f4-93a6-5e8ebd084c71",
   "metadata": {},
   "source": [
    "# String"
   ]
  },
  {
   "cell_type": "code",
   "execution_count": 52,
   "id": "8bb5116a-f844-4405-911c-6884af6f2f2d",
   "metadata": {},
   "outputs": [],
   "source": [
    "# textual"
   ]
  },
  {
   "cell_type": "code",
   "execution_count": 54,
   "id": "f2a33f7a-7573-4158-a29e-997616180a73",
   "metadata": {},
   "outputs": [
    {
     "name": "stdout",
     "output_type": "stream",
     "text": [
      "I am learning Python\n"
     ]
    }
   ],
   "source": [
    "msg = 'I am learning Python'\n",
    "print(msg)"
   ]
  },
  {
   "cell_type": "code",
   "execution_count": 56,
   "id": "cd444380-d8f4-442e-b394-bdcea98bebf4",
   "metadata": {},
   "outputs": [
    {
     "name": "stdout",
     "output_type": "stream",
     "text": [
      "I am learning Python\n"
     ]
    }
   ],
   "source": [
    "msg = \"I am learning Python\"\n",
    "print(msg)"
   ]
  },
  {
   "cell_type": "code",
   "execution_count": 62,
   "id": "4b9628aa-813a-45e7-bfa9-fafa6c346fb7",
   "metadata": {},
   "outputs": [
    {
     "name": "stdout",
     "output_type": "stream",
     "text": [
      "This is Python's Book\n"
     ]
    }
   ],
   "source": [
    "msg = '''This is Python's Book'''\n",
    "print(msg)"
   ]
  },
  {
   "cell_type": "code",
   "execution_count": 64,
   "id": "179078a6-e5d2-4602-8ee1-9b58be42b69d",
   "metadata": {},
   "outputs": [
    {
     "name": "stdout",
     "output_type": "stream",
     "text": [
      "This is Python's Book\n"
     ]
    }
   ],
   "source": [
    "msg = \"This is Python's Book\"\n",
    "print(msg)"
   ]
  },
  {
   "cell_type": "code",
   "execution_count": 70,
   "id": "8ef56d91-f595-47d1-84d0-8ac97e6bcc7c",
   "metadata": {},
   "outputs": [
    {
     "name": "stdout",
     "output_type": "stream",
     "text": [
      "\"The future belongs to those who believe in the beauty of their dream's.\"\n"
     ]
    }
   ],
   "source": [
    "msg = '''\"The future belongs to those who believe in the beauty of their dream's.\"'''\n",
    "print(msg)"
   ]
  },
  {
   "cell_type": "code",
   "execution_count": 78,
   "id": "e04df264-635d-41d5-8f7d-1196003f9f43",
   "metadata": {},
   "outputs": [
    {
     "name": "stdout",
     "output_type": "stream",
     "text": [
      "Twinkle, twinkle, little star,\n",
      "How I wonder what you are!\n",
      "Up above the world so high,\n",
      "Like a diamond in the sky.\n",
      "\n",
      "                                When the blazing sun is gone,\n",
      "                                When he nothing shines upon,\n",
      "                                Then you show your little light,\n",
      "                                Twinkle, twinkle, all the night.\n",
      "                                \n",
      "                                Then the traveler in the dark\n",
      "                                Thanks you for your tiny spark,\n",
      "                                How could he see where to go,\n",
      "                                If you did not twinkle so?\n",
      "\n",
      "In the dark blue sky you keep,\n",
      "Often through my curtains peep\n",
      "For you never shut your eye,\n",
      "Till the sun is in the sky.\n",
      "\n",
      "As your bright and tiny spark\n",
      "Lights the traveler in the dark,\n",
      "Though I know not what you are,\n",
      "Twinkle, twinkle, little star.\n"
     ]
    }
   ],
   "source": [
    "poem = '''Twinkle, twinkle, little star,\n",
    "How I wonder what you are!\n",
    "Up above the world so high,\n",
    "Like a diamond in the sky.\n",
    "\n",
    "                                When the blazing sun is gone,\n",
    "                                When he nothing shines upon,\n",
    "                                Then you show your little light,\n",
    "                                Twinkle, twinkle, all the night.\n",
    "                                \n",
    "                                Then the traveler in the dark\n",
    "                                Thanks you for your tiny spark,\n",
    "                                How could he see where to go,\n",
    "                                If you did not twinkle so?\n",
    "\n",
    "In the dark blue sky you keep,\n",
    "Often through my curtains peep\n",
    "For you never shut your eye,\n",
    "Till the sun is in the sky.\n",
    "\n",
    "As your bright and tiny spark\n",
    "Lights the traveler in the dark,\n",
    "Though I know not what you are,\n",
    "Twinkle, twinkle, little star.'''\n",
    "\n",
    "print(poem)"
   ]
  },
  {
   "cell_type": "code",
   "execution_count": 98,
   "id": "c67220e2-8bd4-4630-a920-2ab7feae5552",
   "metadata": {},
   "outputs": [],
   "source": [
    "name = 'ankit'"
   ]
  },
  {
   "cell_type": "code",
   "execution_count": 82,
   "id": "b45e6f5d-e516-42aa-b49d-acd43bc8a3c3",
   "metadata": {},
   "outputs": [
    {
     "data": {
      "text/plain": [
       "'ANKIT'"
      ]
     },
     "execution_count": 82,
     "metadata": {},
     "output_type": "execute_result"
    }
   ],
   "source": [
    "name.upper()"
   ]
  },
  {
   "cell_type": "code",
   "execution_count": 90,
   "id": "a50dacf5-d5f8-461d-b34e-8e08516730a7",
   "metadata": {},
   "outputs": [
    {
     "name": "stdout",
     "output_type": "stream",
     "text": [
      "TWINKLE, TWINKLE, LITTLE STAR,\n",
      "HOW I WONDER WHAT YOU ARE!\n",
      "UP ABOVE THE WORLD SO HIGH,\n",
      "LIKE A DIAMOND IN THE SKY.\n",
      "\n",
      "                                WHEN THE BLAZING SUN IS GONE,\n",
      "                                WHEN HE NOTHING SHINES UPON,\n",
      "                                THEN YOU SHOW YOUR LITTLE LIGHT,\n",
      "                                TWINKLE, TWINKLE, ALL THE NIGHT.\n",
      "                                \n",
      "                                THEN THE TRAVELER IN THE DARK\n",
      "                                THANKS YOU FOR YOUR TINY SPARK,\n",
      "                                HOW COULD HE SEE WHERE TO GO,\n",
      "                                IF YOU DID NOT TWINKLE SO?\n",
      "\n",
      "IN THE DARK BLUE SKY YOU KEEP,\n",
      "OFTEN THROUGH MY CURTAINS PEEP\n",
      "FOR YOU NEVER SHUT YOUR EYE,\n",
      "TILL THE SUN IS IN THE SKY.\n",
      "\n",
      "AS YOUR BRIGHT AND TINY SPARK\n",
      "LIGHTS THE TRAVELER IN THE DARK,\n",
      "THOUGH I KNOW NOT WHAT YOU ARE,\n",
      "TWINKLE, TWINKLE, LITTLE STAR.\n"
     ]
    }
   ],
   "source": [
    "print(poem.upper())"
   ]
  },
  {
   "cell_type": "code",
   "execution_count": 92,
   "id": "db2de80a-683f-4e76-82fe-3f49fcf05877",
   "metadata": {},
   "outputs": [],
   "source": [
    "name = 45"
   ]
  },
  {
   "cell_type": "code",
   "execution_count": 94,
   "id": "87282b9d-ae93-49ea-8450-eb460f3f24b8",
   "metadata": {},
   "outputs": [
    {
     "ename": "AttributeError",
     "evalue": "'int' object has no attribute 'upper'",
     "output_type": "error",
     "traceback": [
      "\u001b[1;31m---------------------------------------------------------------------------\u001b[0m",
      "\u001b[1;31mAttributeError\u001b[0m                            Traceback (most recent call last)",
      "Cell \u001b[1;32mIn[94], line 1\u001b[0m\n\u001b[1;32m----> 1\u001b[0m name\u001b[38;5;241m.\u001b[39mupper()\n",
      "\u001b[1;31mAttributeError\u001b[0m: 'int' object has no attribute 'upper'"
     ]
    }
   ],
   "source": [
    "name.upper()"
   ]
  },
  {
   "cell_type": "code",
   "execution_count": 96,
   "id": "f4d7c2e6-76b8-41c7-ae61-cab65d752cd3",
   "metadata": {},
   "outputs": [],
   "source": [
    "# methods"
   ]
  },
  {
   "cell_type": "code",
   "execution_count": 100,
   "id": "9c1443ea-983a-4f3c-856e-a9bfc2412720",
   "metadata": {},
   "outputs": [
    {
     "data": {
      "text/plain": [
       "'ankit'"
      ]
     },
     "execution_count": 100,
     "metadata": {},
     "output_type": "execute_result"
    }
   ],
   "source": [
    "name.lower()"
   ]
  },
  {
   "cell_type": "code",
   "execution_count": 102,
   "id": "59eed4a1-fc02-4b2a-b4bc-f9da909e5605",
   "metadata": {},
   "outputs": [
    {
     "data": {
      "text/plain": [
       "'ANKIT'"
      ]
     },
     "execution_count": 102,
     "metadata": {},
     "output_type": "execute_result"
    }
   ],
   "source": [
    "name.upper()"
   ]
  },
  {
   "cell_type": "code",
   "execution_count": 104,
   "id": "eb3a2c4f-35ee-4bb6-ae42-22aa0cfe9a90",
   "metadata": {},
   "outputs": [
    {
     "ename": "AttributeError",
     "evalue": "'int' object has no attribute 'upper'",
     "output_type": "error",
     "traceback": [
      "\u001b[1;31m---------------------------------------------------------------------------\u001b[0m",
      "\u001b[1;31mAttributeError\u001b[0m                            Traceback (most recent call last)",
      "Cell \u001b[1;32mIn[104], line 2\u001b[0m\n\u001b[0;32m      1\u001b[0m age \u001b[38;5;241m=\u001b[39m \u001b[38;5;241m34\u001b[39m\n\u001b[1;32m----> 2\u001b[0m age\u001b[38;5;241m.\u001b[39mupper()\n",
      "\u001b[1;31mAttributeError\u001b[0m: 'int' object has no attribute 'upper'"
     ]
    }
   ],
   "source": [
    "age = 34\n",
    "age.upper()"
   ]
  },
  {
   "cell_type": "code",
   "execution_count": 106,
   "id": "b634b8bc-09a3-458a-a448-192db79c6fcf",
   "metadata": {},
   "outputs": [],
   "source": [
    "address = 'greater noida'"
   ]
  },
  {
   "cell_type": "code",
   "execution_count": 108,
   "id": "4fb1ebf5-f728-4a88-9b12-c8b26e8e71a5",
   "metadata": {},
   "outputs": [
    {
     "data": {
      "text/plain": [
       "'GREATER NOIDA'"
      ]
     },
     "execution_count": 108,
     "metadata": {},
     "output_type": "execute_result"
    }
   ],
   "source": [
    "address.upper()"
   ]
  },
  {
   "cell_type": "code",
   "execution_count": 110,
   "id": "beaee8ae-211d-4acd-9465-f038e503986c",
   "metadata": {},
   "outputs": [
    {
     "data": {
      "text/plain": [
       "'Greater noida'"
      ]
     },
     "execution_count": 110,
     "metadata": {},
     "output_type": "execute_result"
    }
   ],
   "source": [
    "address.capitalize()"
   ]
  },
  {
   "cell_type": "code",
   "execution_count": 112,
   "id": "e6ccca8e-1480-46c9-8dff-693ca8a5aced",
   "metadata": {},
   "outputs": [
    {
     "data": {
      "text/plain": [
       "'Greater Noida'"
      ]
     },
     "execution_count": 112,
     "metadata": {},
     "output_type": "execute_result"
    }
   ],
   "source": [
    "address.title()"
   ]
  },
  {
   "cell_type": "code",
   "execution_count": 114,
   "id": "0b245ea9-d8a3-4a9c-9339-12edfbd8562f",
   "metadata": {},
   "outputs": [
    {
     "data": {
      "text/plain": [
       "'greater noida'"
      ]
     },
     "execution_count": 114,
     "metadata": {},
     "output_type": "execute_result"
    }
   ],
   "source": [
    "address.lower()"
   ]
  },
  {
   "cell_type": "code",
   "execution_count": 122,
   "id": "052aae87-b402-47ad-b7e5-f69b4e35a88e",
   "metadata": {},
   "outputs": [],
   "source": [
    "data = 'we are in noida and learning python'"
   ]
  },
  {
   "cell_type": "code",
   "execution_count": 124,
   "id": "7247a81d-e66f-4274-a79d-404c28043e4d",
   "metadata": {},
   "outputs": [
    {
     "data": {
      "text/plain": [
       "'WE ARE IN NOIDA AND LEARNING PYTHON'"
      ]
     },
     "execution_count": 124,
     "metadata": {},
     "output_type": "execute_result"
    }
   ],
   "source": [
    "data.upper()"
   ]
  },
  {
   "cell_type": "code",
   "execution_count": 128,
   "id": "b9a6ff4e-4912-4dc9-8bdc-cbe7927ef6ca",
   "metadata": {},
   "outputs": [
    {
     "data": {
      "text/plain": [
       "'We are in noida and learning python'"
      ]
     },
     "execution_count": 128,
     "metadata": {},
     "output_type": "execute_result"
    }
   ],
   "source": [
    "data.capitalize()"
   ]
  },
  {
   "cell_type": "code",
   "execution_count": 130,
   "id": "bdb4610c-3a61-4ffb-925a-ca552c51a85e",
   "metadata": {},
   "outputs": [
    {
     "data": {
      "text/plain": [
       "'We Are In Noida And Learning Python'"
      ]
     },
     "execution_count": 130,
     "metadata": {},
     "output_type": "execute_result"
    }
   ],
   "source": [
    "data.title()"
   ]
  },
  {
   "cell_type": "code",
   "execution_count": null,
   "id": "6af79d20-c91b-4248-adc4-c325f7d45d2f",
   "metadata": {},
   "outputs": [],
   "source": []
  },
  {
   "cell_type": "code",
   "execution_count": null,
   "id": "d299189a-5863-43f4-a053-e6400f533969",
   "metadata": {},
   "outputs": [],
   "source": []
  },
  {
   "cell_type": "markdown",
   "id": "df7a7cc9-fb77-466c-9cef-af4088b11e2e",
   "metadata": {},
   "source": [
    "# Indexing"
   ]
  },
  {
   "cell_type": "code",
   "execution_count": 133,
   "id": "83f2dba9-34c7-476d-9245-79554965f14d",
   "metadata": {},
   "outputs": [
    {
     "data": {
      "text/plain": [
       "'s'"
      ]
     },
     "execution_count": 133,
     "metadata": {},
     "output_type": "execute_result"
    }
   ],
   "source": [
    "data = 'Grastech'\n",
    "data[3]"
   ]
  },
  {
   "cell_type": "code",
   "execution_count": 135,
   "id": "07450b40-a106-4a73-98d4-477d76f21ee2",
   "metadata": {},
   "outputs": [
    {
     "data": {
      "text/plain": [
       "'c'"
      ]
     },
     "execution_count": 135,
     "metadata": {},
     "output_type": "execute_result"
    }
   ],
   "source": [
    "data[6]"
   ]
  },
  {
   "cell_type": "code",
   "execution_count": 137,
   "id": "b709109e-f81a-470a-8aca-8afe3c824009",
   "metadata": {},
   "outputs": [
    {
     "data": {
      "text/plain": [
       "'h'"
      ]
     },
     "execution_count": 137,
     "metadata": {},
     "output_type": "execute_result"
    }
   ],
   "source": [
    "data[7]"
   ]
  },
  {
   "cell_type": "code",
   "execution_count": 203,
   "id": "0baff85e-00bc-4e0e-868a-0b6e3aa47e9d",
   "metadata": {},
   "outputs": [],
   "source": [
    "a = 'I am in Noida'"
   ]
  },
  {
   "cell_type": "code",
   "execution_count": 141,
   "id": "fb84c561-cebc-4a77-8ebf-d1411185eb13",
   "metadata": {},
   "outputs": [
    {
     "data": {
      "text/plain": [
       "'N'"
      ]
     },
     "execution_count": 141,
     "metadata": {},
     "output_type": "execute_result"
    }
   ],
   "source": [
    "a[8]"
   ]
  },
  {
   "cell_type": "code",
   "execution_count": 143,
   "id": "19f1d5ab-4a76-4f8b-8c6a-450b7f399ae8",
   "metadata": {},
   "outputs": [
    {
     "data": {
      "text/plain": [
       "'Grastech'"
      ]
     },
     "execution_count": 143,
     "metadata": {},
     "output_type": "execute_result"
    }
   ],
   "source": [
    "data"
   ]
  },
  {
   "cell_type": "code",
   "execution_count": 147,
   "id": "91891af1-9c83-4b83-9081-541cff477b80",
   "metadata": {},
   "outputs": [],
   "source": [
    "# 'Grastech'\n",
    "#  01234567"
   ]
  },
  {
   "cell_type": "code",
   "execution_count": 149,
   "id": "b2e13463-8294-43a7-ad85-b04e46ca2810",
   "metadata": {},
   "outputs": [],
   "source": [
    "# Slicing: String slice"
   ]
  },
  {
   "cell_type": "code",
   "execution_count": 151,
   "id": "bef90d62-48aa-433d-9cc3-8b515b59278a",
   "metadata": {},
   "outputs": [
    {
     "data": {
      "text/plain": [
       "'I am in Noida'"
      ]
     },
     "execution_count": 151,
     "metadata": {},
     "output_type": "execute_result"
    }
   ],
   "source": [
    "a"
   ]
  },
  {
   "cell_type": "code",
   "execution_count": 155,
   "id": "a67010d3-e856-4dec-80f6-fb3dfbe8c282",
   "metadata": {},
   "outputs": [],
   "source": [
    "# a[start:stop:step]"
   ]
  },
  {
   "cell_type": "code",
   "execution_count": 159,
   "id": "afada671-9388-452c-9c2e-4ef97bde51d6",
   "metadata": {},
   "outputs": [
    {
     "data": {
      "text/plain": [
       "'am in'"
      ]
     },
     "execution_count": 159,
     "metadata": {},
     "output_type": "execute_result"
    }
   ],
   "source": [
    "a[2:7]"
   ]
  },
  {
   "cell_type": "code",
   "execution_count": 161,
   "id": "7ef56c96-9778-43b6-906f-06a0a6be0edc",
   "metadata": {},
   "outputs": [
    {
     "data": {
      "text/plain": [
       "'Noida'"
      ]
     },
     "execution_count": 161,
     "metadata": {},
     "output_type": "execute_result"
    }
   ],
   "source": [
    "a[8:13]"
   ]
  },
  {
   "cell_type": "code",
   "execution_count": 163,
   "id": "1e91525d-5005-4936-9fc1-dea091b9dc30",
   "metadata": {},
   "outputs": [
    {
     "data": {
      "text/plain": [
       "'Noida'"
      ]
     },
     "execution_count": 163,
     "metadata": {},
     "output_type": "execute_result"
    }
   ],
   "source": [
    "a[8:]"
   ]
  },
  {
   "cell_type": "code",
   "execution_count": 165,
   "id": "51be37c3-22c7-4f67-93b3-86deb0141d8e",
   "metadata": {},
   "outputs": [
    {
     "data": {
      "text/plain": [
       "'I am in Noida'"
      ]
     },
     "execution_count": 165,
     "metadata": {},
     "output_type": "execute_result"
    }
   ],
   "source": [
    "a"
   ]
  },
  {
   "cell_type": "code",
   "execution_count": 167,
   "id": "e8cd021b-0bcb-4966-b231-530a22ff33db",
   "metadata": {},
   "outputs": [
    {
     "data": {
      "text/plain": [
       "'am in Noida'"
      ]
     },
     "execution_count": 167,
     "metadata": {},
     "output_type": "execute_result"
    }
   ],
   "source": [
    "a[2:]"
   ]
  },
  {
   "cell_type": "code",
   "execution_count": 169,
   "id": "adbf228e-0327-4c3b-9b50-4270b70490c2",
   "metadata": {},
   "outputs": [
    {
     "data": {
      "text/plain": [
       "'I am in Noida'"
      ]
     },
     "execution_count": 169,
     "metadata": {},
     "output_type": "execute_result"
    }
   ],
   "source": [
    "a"
   ]
  },
  {
   "cell_type": "code",
   "execution_count": 171,
   "id": "06e19623-f483-4915-9a88-245b8c58f63d",
   "metadata": {},
   "outputs": [
    {
     "data": {
      "text/plain": [
       "'I am in'"
      ]
     },
     "execution_count": 171,
     "metadata": {},
     "output_type": "execute_result"
    }
   ],
   "source": [
    "a[0:7]"
   ]
  },
  {
   "cell_type": "code",
   "execution_count": 173,
   "id": "6c97a9f5-61eb-4a18-aab1-10da83dc4e8e",
   "metadata": {},
   "outputs": [
    {
     "data": {
      "text/plain": [
       "'I am in'"
      ]
     },
     "execution_count": 173,
     "metadata": {},
     "output_type": "execute_result"
    }
   ],
   "source": [
    "a[:7]"
   ]
  },
  {
   "cell_type": "code",
   "execution_count": 175,
   "id": "78e8f1a5-eac2-406e-836f-f2d700d79a39",
   "metadata": {},
   "outputs": [
    {
     "data": {
      "text/plain": [
       "'I am in Noida'"
      ]
     },
     "execution_count": 175,
     "metadata": {},
     "output_type": "execute_result"
    }
   ],
   "source": [
    "a"
   ]
  },
  {
   "cell_type": "code",
   "execution_count": 177,
   "id": "7368771f-315f-4f37-b342-f4b6a705477b",
   "metadata": {},
   "outputs": [
    {
     "data": {
      "text/plain": [
       "'Ia nNia'"
      ]
     },
     "execution_count": 177,
     "metadata": {},
     "output_type": "execute_result"
    }
   ],
   "source": [
    "a[::2]\n",
    "# Ia nNia"
   ]
  },
  {
   "cell_type": "code",
   "execution_count": 181,
   "id": "48932139-1efc-48bb-b309-14d376c80820",
   "metadata": {},
   "outputs": [],
   "source": [
    "a = 'Grastech'"
   ]
  },
  {
   "cell_type": "code",
   "execution_count": 183,
   "id": "32d9c21c-5abe-4cb9-b1fe-0c068289f63b",
   "metadata": {},
   "outputs": [],
   "source": [
    "# hcetsarG"
   ]
  },
  {
   "cell_type": "code",
   "execution_count": 185,
   "id": "a189b1d0-0171-4d6a-8387-363753682abd",
   "metadata": {},
   "outputs": [
    {
     "data": {
      "text/plain": [
       "'hcetsarG'"
      ]
     },
     "execution_count": 185,
     "metadata": {},
     "output_type": "execute_result"
    }
   ],
   "source": [
    "a[::-1]"
   ]
  },
  {
   "cell_type": "code",
   "execution_count": 195,
   "id": "b0836196-5917-4493-bdbe-636ffb282e38",
   "metadata": {},
   "outputs": [],
   "source": [
    "name = 'yaja'"
   ]
  },
  {
   "cell_type": "code",
   "execution_count": 197,
   "id": "15ce8053-d3ab-4b49-8c51-edca26c786b9",
   "metadata": {},
   "outputs": [
    {
     "data": {
      "text/plain": [
       "'ajay'"
      ]
     },
     "execution_count": 197,
     "metadata": {},
     "output_type": "execute_result"
    }
   ],
   "source": [
    "name[::-1]"
   ]
  },
  {
   "cell_type": "code",
   "execution_count": 199,
   "id": "cdd8b406-b401-4df2-924b-dce8cb35bbc3",
   "metadata": {},
   "outputs": [
    {
     "data": {
      "text/plain": [
       "'Grastech'"
      ]
     },
     "execution_count": 199,
     "metadata": {},
     "output_type": "execute_result"
    }
   ],
   "source": [
    "data"
   ]
  },
  {
   "cell_type": "code",
   "execution_count": 201,
   "id": "f0f94d7e-e58f-45eb-b0da-b4a762067b34",
   "metadata": {},
   "outputs": [
    {
     "data": {
      "text/plain": [
       "'Grastech'"
      ]
     },
     "execution_count": 201,
     "metadata": {},
     "output_type": "execute_result"
    }
   ],
   "source": [
    "a"
   ]
  },
  {
   "cell_type": "code",
   "execution_count": 205,
   "id": "81b4c1d7-cb27-45fb-ab8e-951d51e269c7",
   "metadata": {},
   "outputs": [
    {
     "data": {
      "text/plain": [
       "'I am in Noida'"
      ]
     },
     "execution_count": 205,
     "metadata": {},
     "output_type": "execute_result"
    }
   ],
   "source": [
    "a"
   ]
  },
  {
   "cell_type": "code",
   "execution_count": 207,
   "id": "a2a91f50-794f-4663-b713-1da289cb1dad",
   "metadata": {},
   "outputs": [
    {
     "data": {
      "text/plain": [
       "'adioN ni ma I'"
      ]
     },
     "execution_count": 207,
     "metadata": {},
     "output_type": "execute_result"
    }
   ],
   "source": [
    "a[::-1]"
   ]
  },
  {
   "cell_type": "code",
   "execution_count": 209,
   "id": "de957d56-cea2-46b8-aab5-161343b0c5eb",
   "metadata": {},
   "outputs": [
    {
     "data": {
      "text/plain": [
       "'I am in Noida'"
      ]
     },
     "execution_count": 209,
     "metadata": {},
     "output_type": "execute_result"
    }
   ],
   "source": [
    "a"
   ]
  },
  {
   "cell_type": "code",
   "execution_count": 211,
   "id": "6f1e277e-0594-4df6-8fcd-3d1e093f143c",
   "metadata": {},
   "outputs": [],
   "source": [
    "# reverse index:- negative index"
   ]
  },
  {
   "cell_type": "code",
   "execution_count": 213,
   "id": "07bb4bac-2975-4e85-82b5-b14146962408",
   "metadata": {},
   "outputs": [
    {
     "data": {
      "text/plain": [
       "'Noida'"
      ]
     },
     "execution_count": 213,
     "metadata": {},
     "output_type": "execute_result"
    }
   ],
   "source": [
    "a[8:]"
   ]
  },
  {
   "cell_type": "code",
   "execution_count": 215,
   "id": "40087226-0c8e-44f1-9ed7-ffc55ab3013c",
   "metadata": {},
   "outputs": [
    {
     "data": {
      "text/plain": [
       "'Noida'"
      ]
     },
     "execution_count": 215,
     "metadata": {},
     "output_type": "execute_result"
    }
   ],
   "source": [
    "a[-5:]"
   ]
  },
  {
   "cell_type": "code",
   "execution_count": null,
   "id": "bcccbab1-f393-48a9-a693-508952f6830e",
   "metadata": {},
   "outputs": [],
   "source": []
  },
  {
   "cell_type": "code",
   "execution_count": 218,
   "id": "55861b27-e447-4e65-b68b-f5527b06047f",
   "metadata": {},
   "outputs": [],
   "source": [
    "# lower\n",
    "# upper\n",
    "# capitalize\n",
    "# title\n"
   ]
  },
  {
   "cell_type": "code",
   "execution_count": 236,
   "id": "c2932232-b358-474f-a87b-fd3cb91770e3",
   "metadata": {},
   "outputs": [
    {
     "data": {
      "text/plain": [
       "'My NAME is HARRY'"
      ]
     },
     "execution_count": 236,
     "metadata": {},
     "output_type": "execute_result"
    }
   ],
   "source": [
    "a = 'My NAME is HARRY'\n",
    "a"
   ]
  },
  {
   "cell_type": "code",
   "execution_count": 238,
   "id": "181312e6-3ae2-4570-bb3e-9b0416ee200f",
   "metadata": {},
   "outputs": [
    {
     "data": {
      "text/plain": [
       "'my name is harry'"
      ]
     },
     "execution_count": 238,
     "metadata": {},
     "output_type": "execute_result"
    }
   ],
   "source": [
    "a.casefold()"
   ]
  },
  {
   "cell_type": "code",
   "execution_count": 240,
   "id": "12616108-41fe-419d-bd80-3f15a2c746dd",
   "metadata": {},
   "outputs": [
    {
     "data": {
      "text/plain": [
       "'My NAME is HARRY'"
      ]
     },
     "execution_count": 240,
     "metadata": {},
     "output_type": "execute_result"
    }
   ],
   "source": [
    "a"
   ]
  },
  {
   "cell_type": "code",
   "execution_count": 246,
   "id": "5ec77536-9b81-4bcd-b340-ccf34e7a2ef5",
   "metadata": {},
   "outputs": [],
   "source": [
    "a = a.lower()"
   ]
  },
  {
   "cell_type": "code",
   "execution_count": 248,
   "id": "bdccb96f-acc3-4107-ba7c-2baf9925b924",
   "metadata": {},
   "outputs": [
    {
     "data": {
      "text/plain": [
       "'my name is harry'"
      ]
     },
     "execution_count": 248,
     "metadata": {},
     "output_type": "execute_result"
    }
   ],
   "source": [
    "a"
   ]
  },
  {
   "cell_type": "code",
   "execution_count": 258,
   "id": "4785a445-23f8-4efa-9dbb-8f470ed084bb",
   "metadata": {},
   "outputs": [],
   "source": [
    "a = 'My NAME is HARRY'"
   ]
  },
  {
   "cell_type": "code",
   "execution_count": 280,
   "id": "b2eaaa8e-0b12-4a44-83e8-9bd10f392651",
   "metadata": {},
   "outputs": [
    {
     "name": "stdout",
     "output_type": "stream",
     "text": [
      "******************************************My NAME is HARRY******************************************\n"
     ]
    }
   ],
   "source": [
    "print(a.center(100,'*'))"
   ]
  },
  {
   "cell_type": "code",
   "execution_count": 282,
   "id": "35b6a33d-8c2e-46fd-918f-4a25c1732e09",
   "metadata": {},
   "outputs": [
    {
     "data": {
      "text/plain": [
       "'My NAME is HARRY'"
      ]
     },
     "execution_count": 282,
     "metadata": {},
     "output_type": "execute_result"
    }
   ],
   "source": [
    "a"
   ]
  },
  {
   "cell_type": "code",
   "execution_count": 284,
   "id": "1ce3df59-f9b4-4bac-9c90-b0600e8f7c51",
   "metadata": {},
   "outputs": [],
   "source": [
    "a = a.lower()"
   ]
  },
  {
   "cell_type": "code",
   "execution_count": 286,
   "id": "4029eabc-02ba-453f-b17e-b6fe8b1c4dee",
   "metadata": {},
   "outputs": [
    {
     "data": {
      "text/plain": [
       "'my name is harry'"
      ]
     },
     "execution_count": 286,
     "metadata": {},
     "output_type": "execute_result"
    }
   ],
   "source": [
    "a"
   ]
  },
  {
   "cell_type": "code",
   "execution_count": 292,
   "id": "342c30ac-b599-4cec-9ab9-7fd892faaa77",
   "metadata": {},
   "outputs": [],
   "source": [
    "poem = poem.lower()"
   ]
  },
  {
   "cell_type": "code",
   "execution_count": 294,
   "id": "454bec76-5093-4814-b63f-e64e9b257baf",
   "metadata": {},
   "outputs": [
    {
     "name": "stdout",
     "output_type": "stream",
     "text": [
      "twinkle, twinkle, little star,\n",
      "how i wonder what you are!\n",
      "up above the world so high,\n",
      "like a diamond in the sky.\n",
      "\n",
      "                                when the blazing sun is gone,\n",
      "                                when he nothing shines upon,\n",
      "                                then you show your little light,\n",
      "                                twinkle, twinkle, all the night.\n",
      "                                \n",
      "                                then the traveler in the dark\n",
      "                                thanks you for your tiny spark,\n",
      "                                how could he see where to go,\n",
      "                                if you did not twinkle so?\n",
      "\n",
      "in the dark blue sky you keep,\n",
      "often through my curtains peep\n",
      "for you never shut your eye,\n",
      "till the sun is in the sky.\n",
      "\n",
      "as your bright and tiny spark\n",
      "lights the traveler in the dark,\n",
      "though i know not what you are,\n",
      "twinkle, twinkle, little star.\n"
     ]
    }
   ],
   "source": [
    "print(poem)"
   ]
  },
  {
   "cell_type": "code",
   "execution_count": 310,
   "id": "81b9360c-d2ba-49a8-8c67-329cfba3ee79",
   "metadata": {},
   "outputs": [
    {
     "data": {
      "text/plain": [
       "17"
      ]
     },
     "execution_count": 310,
     "metadata": {},
     "output_type": "execute_result"
    }
   ],
   "source": [
    "poem.count('')"
   ]
  },
  {
   "cell_type": "code",
   "execution_count": 312,
   "id": "3394c916-abe3-4518-bb92-2842013785fb",
   "metadata": {},
   "outputs": [
    {
     "data": {
      "text/plain": [
       "893"
      ]
     },
     "execution_count": 312,
     "metadata": {},
     "output_type": "execute_result"
    }
   ],
   "source": [
    "len(poem)"
   ]
  },
  {
   "cell_type": "code",
   "execution_count": 322,
   "id": "77f2721f-4fb4-455e-8c5b-fbb60016a3cd",
   "metadata": {},
   "outputs": [],
   "source": [
    "a = 'This'"
   ]
  },
  {
   "cell_type": "code",
   "execution_count": 324,
   "id": "8d0c1fbb-40f2-42a9-9509-17ac67cc303b",
   "metadata": {},
   "outputs": [
    {
     "data": {
      "text/plain": [
       "5"
      ]
     },
     "execution_count": 324,
     "metadata": {},
     "output_type": "execute_result"
    }
   ],
   "source": [
    "a.count('')"
   ]
  },
  {
   "cell_type": "code",
   "execution_count": 326,
   "id": "176cab06-5ac2-4450-8120-a81eb15b1ba9",
   "metadata": {},
   "outputs": [
    {
     "data": {
      "text/plain": [
       "4"
      ]
     },
     "execution_count": 326,
     "metadata": {},
     "output_type": "execute_result"
    }
   ],
   "source": [
    "len(a)"
   ]
  },
  {
   "cell_type": "code",
   "execution_count": 328,
   "id": "c2823ea4-160e-45fa-9be2-cfa69c01abe0",
   "metadata": {},
   "outputs": [],
   "source": [
    "a = 'This is Grastech'"
   ]
  },
  {
   "cell_type": "code",
   "execution_count": 330,
   "id": "9d4e435c-ce57-41a9-b67b-bf0b1952132e",
   "metadata": {},
   "outputs": [
    {
     "data": {
      "text/plain": [
       "'This is Elon Musk'"
      ]
     },
     "execution_count": 330,
     "metadata": {},
     "output_type": "execute_result"
    }
   ],
   "source": [
    "a.replace('Grastech','Elon Musk')"
   ]
  },
  {
   "cell_type": "code",
   "execution_count": 336,
   "id": "b2f4a8e7-eee5-4c80-8eb7-547c9c07e131",
   "metadata": {},
   "outputs": [
    {
     "name": "stdout",
     "output_type": "stream",
     "text": [
      "This\tis\tGrastech\n"
     ]
    }
   ],
   "source": [
    "print(a.replace(' ','\\t'))"
   ]
  },
  {
   "cell_type": "code",
   "execution_count": null,
   "id": "21c609ba-76e3-4088-b971-3404481c1e0c",
   "metadata": {},
   "outputs": [],
   "source": []
  }
 ],
 "metadata": {
  "kernelspec": {
   "display_name": "Python [conda env:base] *",
   "language": "python",
   "name": "conda-base-py"
  },
  "language_info": {
   "codemirror_mode": {
    "name": "ipython",
    "version": 3
   },
   "file_extension": ".py",
   "mimetype": "text/x-python",
   "name": "python",
   "nbconvert_exporter": "python",
   "pygments_lexer": "ipython3",
   "version": "3.12.7"
  }
 },
 "nbformat": 4,
 "nbformat_minor": 5
}
