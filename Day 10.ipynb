{
 "cells": [
  {
   "cell_type": "markdown",
   "id": "31ed193c-332b-478b-a6f3-3804d41d4f20",
   "metadata": {},
   "source": [
    "# Dict Methods\n",
    "# Set and Methods"
   ]
  },
  {
   "cell_type": "code",
   "execution_count": 3,
   "id": "c78d700f-7fa1-4053-954f-5a0a3d067f02",
   "metadata": {},
   "outputs": [
    {
     "name": "stdout",
     "output_type": "stream",
     "text": [
      "{'Name': 'Karan', 'Age': 34}\n"
     ]
    }
   ],
   "source": [
    "a = {'Name':'Karan','Age':34}\n",
    "print(a)"
   ]
  },
  {
   "cell_type": "code",
   "execution_count": 5,
   "id": "262f909e-eebb-4ce4-9608-82d0abc982f1",
   "metadata": {},
   "outputs": [],
   "source": [
    "b = a"
   ]
  },
  {
   "cell_type": "code",
   "execution_count": 7,
   "id": "41430cc3-7b4a-4817-a731-4f661f808236",
   "metadata": {},
   "outputs": [
    {
     "data": {
      "text/plain": [
       "{'Name': 'Karan', 'Age': 34}"
      ]
     },
     "execution_count": 7,
     "metadata": {},
     "output_type": "execute_result"
    }
   ],
   "source": [
    "b"
   ]
  },
  {
   "cell_type": "code",
   "execution_count": 9,
   "id": "cb8ae956-8254-405e-96c8-c317ac6c4f07",
   "metadata": {},
   "outputs": [],
   "source": [
    "a['Age'] = 100"
   ]
  },
  {
   "cell_type": "code",
   "execution_count": 11,
   "id": "0149e656-f596-4205-9ca8-42eca72df083",
   "metadata": {},
   "outputs": [
    {
     "name": "stdout",
     "output_type": "stream",
     "text": [
      "{'Name': 'Karan', 'Age': 100}\n"
     ]
    }
   ],
   "source": [
    "print(a)"
   ]
  },
  {
   "cell_type": "code",
   "execution_count": 13,
   "id": "aac04e6a-3062-4d4d-9cb7-342e7c6272f4",
   "metadata": {},
   "outputs": [
    {
     "data": {
      "text/plain": [
       "{'Name': 'Karan', 'Age': 100}"
      ]
     },
     "execution_count": 13,
     "metadata": {},
     "output_type": "execute_result"
    }
   ],
   "source": [
    "b"
   ]
  },
  {
   "cell_type": "code",
   "execution_count": 15,
   "id": "170d5d9f-d5a9-46aa-9952-55c5cdd107c2",
   "metadata": {},
   "outputs": [],
   "source": [
    "c = a.copy()"
   ]
  },
  {
   "cell_type": "code",
   "execution_count": 17,
   "id": "aa9dcfb4-3b31-4f8a-a586-04c71d93af28",
   "metadata": {},
   "outputs": [
    {
     "data": {
      "text/plain": [
       "{'Name': 'Karan', 'Age': 100}"
      ]
     },
     "execution_count": 17,
     "metadata": {},
     "output_type": "execute_result"
    }
   ],
   "source": [
    "c"
   ]
  },
  {
   "cell_type": "code",
   "execution_count": 19,
   "id": "1f9a1684-34a7-4ef8-91e3-eb7efd55acf9",
   "metadata": {},
   "outputs": [
    {
     "data": {
      "text/plain": [
       "{'Name': 'Karan', 'Age': 100}"
      ]
     },
     "execution_count": 19,
     "metadata": {},
     "output_type": "execute_result"
    }
   ],
   "source": [
    "a"
   ]
  },
  {
   "cell_type": "code",
   "execution_count": 21,
   "id": "b5fe1ce4-508d-4e99-95a3-cb6280ebd928",
   "metadata": {},
   "outputs": [],
   "source": [
    "a['Name'] = 'Mohan'"
   ]
  },
  {
   "cell_type": "code",
   "execution_count": 23,
   "id": "d735ff40-5c86-47b3-b024-329f827407a7",
   "metadata": {},
   "outputs": [
    {
     "data": {
      "text/plain": [
       "{'Name': 'Mohan', 'Age': 100}"
      ]
     },
     "execution_count": 23,
     "metadata": {},
     "output_type": "execute_result"
    }
   ],
   "source": [
    "a"
   ]
  },
  {
   "cell_type": "code",
   "execution_count": 25,
   "id": "095ac555-6e19-4d2b-b17b-d8f77144e449",
   "metadata": {},
   "outputs": [
    {
     "data": {
      "text/plain": [
       "{'Name': 'Karan', 'Age': 100}"
      ]
     },
     "execution_count": 25,
     "metadata": {},
     "output_type": "execute_result"
    }
   ],
   "source": [
    "c"
   ]
  },
  {
   "cell_type": "code",
   "execution_count": 33,
   "id": "fb6e5d76-701e-4d25-a30b-205f13a6d14e",
   "metadata": {},
   "outputs": [],
   "source": [
    "a['Age'] = 450"
   ]
  },
  {
   "cell_type": "code",
   "execution_count": 31,
   "id": "6c4cdefa-22bf-4164-9cb8-76820ee143f0",
   "metadata": {},
   "outputs": [
    {
     "ename": "SyntaxError",
     "evalue": "cannot assign to function call here. Maybe you meant '==' instead of '='? (2427342823.py, line 1)",
     "output_type": "error",
     "traceback": [
      "\u001b[1;36m  Cell \u001b[1;32mIn[31], line 1\u001b[1;36m\u001b[0m\n\u001b[1;33m    a.get('Age') = 200\u001b[0m\n\u001b[1;37m    ^\u001b[0m\n\u001b[1;31mSyntaxError\u001b[0m\u001b[1;31m:\u001b[0m cannot assign to function call here. Maybe you meant '==' instead of '='?\n"
     ]
    }
   ],
   "source": [
    "a.get('Age') = 200"
   ]
  },
  {
   "cell_type": "code",
   "execution_count": 35,
   "id": "fb56a14a-3a23-4e7a-812c-23875d406310",
   "metadata": {},
   "outputs": [
    {
     "data": {
      "text/plain": [
       "{'Name': 'Mohan', 'Age': 450}"
      ]
     },
     "execution_count": 35,
     "metadata": {},
     "output_type": "execute_result"
    }
   ],
   "source": [
    "a"
   ]
  },
  {
   "cell_type": "code",
   "execution_count": 45,
   "id": "cf70184c-755a-4bf3-9d1f-9f2bdf69c7d0",
   "metadata": {},
   "outputs": [],
   "source": [
    "data = ['Naam','Age','gender','Address','Class']"
   ]
  },
  {
   "cell_type": "code",
   "execution_count": 47,
   "id": "4c943674-56dd-4bef-bad7-fc2c47e36f64",
   "metadata": {},
   "outputs": [],
   "source": [
    "a = {}\n",
    "a = a.fromkeys(data)"
   ]
  },
  {
   "cell_type": "code",
   "execution_count": 49,
   "id": "25c9dcd6-d1dd-4849-acf1-c7d586456825",
   "metadata": {},
   "outputs": [
    {
     "data": {
      "text/plain": [
       "{'Naam': None, 'Age': None, 'gender': None, 'Address': None, 'Class': None}"
      ]
     },
     "execution_count": 49,
     "metadata": {},
     "output_type": "execute_result"
    }
   ],
   "source": [
    "a"
   ]
  },
  {
   "cell_type": "code",
   "execution_count": 51,
   "id": "790e40fc-5d5e-481b-9124-b450815cbd59",
   "metadata": {},
   "outputs": [
    {
     "name": "stdout",
     "output_type": "stream",
     "text": [
      "{'Name': 'Karan', 'Age': 34}\n"
     ]
    }
   ],
   "source": [
    "a = {'Name':'Karan','Age':34}\n",
    "print(a)"
   ]
  },
  {
   "cell_type": "code",
   "execution_count": 71,
   "id": "246399cc-2d2a-4136-8cb5-8091df883b9b",
   "metadata": {},
   "outputs": [
    {
     "data": {
      "text/plain": [
       "dict_items([('Name', 'Karan'), ('Age', 34)])"
      ]
     },
     "execution_count": 71,
     "metadata": {},
     "output_type": "execute_result"
    }
   ],
   "source": [
    "a.items()"
   ]
  },
  {
   "cell_type": "code",
   "execution_count": 65,
   "id": "52dbc2d6-ca7e-4b65-b4d6-e5c72c5c7ec2",
   "metadata": {},
   "outputs": [
    {
     "data": {
      "text/plain": [
       "dict_keys(['Name', 'Age'])"
      ]
     },
     "execution_count": 65,
     "metadata": {},
     "output_type": "execute_result"
    }
   ],
   "source": [
    "a.keys()"
   ]
  },
  {
   "cell_type": "code",
   "execution_count": 67,
   "id": "0c72a18b-5789-48bf-bc01-fb1529f700e6",
   "metadata": {},
   "outputs": [
    {
     "data": {
      "text/plain": [
       "dict_values(['Karan', 34])"
      ]
     },
     "execution_count": 67,
     "metadata": {},
     "output_type": "execute_result"
    }
   ],
   "source": [
    "a.values()"
   ]
  },
  {
   "cell_type": "code",
   "execution_count": 63,
   "id": "547baf6e-799f-4a2d-a51f-6680e7fd45b5",
   "metadata": {},
   "outputs": [
    {
     "data": {
      "text/plain": [
       "2"
      ]
     },
     "execution_count": 63,
     "metadata": {},
     "output_type": "execute_result"
    }
   ],
   "source": [
    "len(a)"
   ]
  },
  {
   "cell_type": "code",
   "execution_count": 73,
   "id": "814e5155-a567-4cc3-ab2b-caf149ff8428",
   "metadata": {},
   "outputs": [],
   "source": [
    "# a.pop\n",
    "# a.popitem\n",
    "# a.setdefault\n",
    "# a.update"
   ]
  },
  {
   "cell_type": "code",
   "execution_count": 75,
   "id": "9fc26f7f-b82a-4d5d-95b0-a3750f150ccd",
   "metadata": {},
   "outputs": [
    {
     "data": {
      "text/plain": [
       "{'Name': 'Karan', 'Age': 34}"
      ]
     },
     "execution_count": 75,
     "metadata": {},
     "output_type": "execute_result"
    }
   ],
   "source": [
    "a"
   ]
  },
  {
   "cell_type": "code",
   "execution_count": 77,
   "id": "ee540924-acde-486a-8cad-f60123d9d7fe",
   "metadata": {},
   "outputs": [
    {
     "data": {
      "text/plain": [
       "('Age', 34)"
      ]
     },
     "execution_count": 77,
     "metadata": {},
     "output_type": "execute_result"
    }
   ],
   "source": [
    "a.popitem()"
   ]
  },
  {
   "cell_type": "code",
   "execution_count": 79,
   "id": "350801fa-367e-4d1a-85e6-2280461db0c3",
   "metadata": {},
   "outputs": [
    {
     "data": {
      "text/plain": [
       "{'Name': 'Karan'}"
      ]
     },
     "execution_count": 79,
     "metadata": {},
     "output_type": "execute_result"
    }
   ],
   "source": [
    "a"
   ]
  },
  {
   "cell_type": "code",
   "execution_count": 81,
   "id": "d416cf8f-5f36-4807-b23a-264b7f1f4eda",
   "metadata": {},
   "outputs": [
    {
     "name": "stdout",
     "output_type": "stream",
     "text": [
      "{'Name': 'Karan', 'Age': 34}\n"
     ]
    }
   ],
   "source": [
    "a = {'Name':'Karan','Age':34}\n",
    "print(a)"
   ]
  },
  {
   "cell_type": "code",
   "execution_count": 87,
   "id": "f48e342c-4e0f-4a0e-b2bc-50d684d5f432",
   "metadata": {},
   "outputs": [
    {
     "ename": "KeyError",
     "evalue": "'popitem(): dictionary is empty'",
     "output_type": "error",
     "traceback": [
      "\u001b[1;31m---------------------------------------------------------------------------\u001b[0m",
      "\u001b[1;31mKeyError\u001b[0m                                  Traceback (most recent call last)",
      "Cell \u001b[1;32mIn[87], line 1\u001b[0m\n\u001b[1;32m----> 1\u001b[0m a\u001b[38;5;241m.\u001b[39mpopitem()\n",
      "\u001b[1;31mKeyError\u001b[0m: 'popitem(): dictionary is empty'"
     ]
    }
   ],
   "source": [
    "a.popitem()"
   ]
  },
  {
   "cell_type": "code",
   "execution_count": 89,
   "id": "6c5ab79b-1ad9-45a0-871a-e2dfd36e2a94",
   "metadata": {},
   "outputs": [
    {
     "name": "stdout",
     "output_type": "stream",
     "text": [
      "{'Name': 'Karan', 'Age': 34}\n"
     ]
    }
   ],
   "source": [
    "a = {'Name':'Karan','Age':34}\n",
    "print(a)"
   ]
  },
  {
   "cell_type": "code",
   "execution_count": 91,
   "id": "0f4255d6-f9f3-451e-ac84-7c263be9bec8",
   "metadata": {},
   "outputs": [
    {
     "data": {
      "text/plain": [
       "34"
      ]
     },
     "execution_count": 91,
     "metadata": {},
     "output_type": "execute_result"
    }
   ],
   "source": [
    "a.pop('Age')"
   ]
  },
  {
   "cell_type": "code",
   "execution_count": 93,
   "id": "d0b2bb68-c0ab-4a90-a184-8b1e7b651c20",
   "metadata": {},
   "outputs": [
    {
     "data": {
      "text/plain": [
       "{'Name': 'Karan'}"
      ]
     },
     "execution_count": 93,
     "metadata": {},
     "output_type": "execute_result"
    }
   ],
   "source": [
    "a"
   ]
  },
  {
   "cell_type": "code",
   "execution_count": 95,
   "id": "47ae763f-ce65-469f-84e6-c94f451f6d85",
   "metadata": {},
   "outputs": [
    {
     "ename": "KeyError",
     "evalue": "'NName'",
     "output_type": "error",
     "traceback": [
      "\u001b[1;31m---------------------------------------------------------------------------\u001b[0m",
      "\u001b[1;31mKeyError\u001b[0m                                  Traceback (most recent call last)",
      "Cell \u001b[1;32mIn[95], line 1\u001b[0m\n\u001b[1;32m----> 1\u001b[0m a\u001b[38;5;241m.\u001b[39mpop(\u001b[38;5;124m'\u001b[39m\u001b[38;5;124mNName\u001b[39m\u001b[38;5;124m'\u001b[39m)\n",
      "\u001b[1;31mKeyError\u001b[0m: 'NName'"
     ]
    }
   ],
   "source": [
    "a.pop('NName')"
   ]
  },
  {
   "cell_type": "code",
   "execution_count": 97,
   "id": "3d95dd65-309f-46b7-a852-a8e2ddef45a9",
   "metadata": {},
   "outputs": [
    {
     "name": "stdout",
     "output_type": "stream",
     "text": [
      "{'Name': 'Karan', 'Age': 34}\n"
     ]
    }
   ],
   "source": [
    "a = {'Name':'Karan','Age':34}\n",
    "print(a)"
   ]
  },
  {
   "cell_type": "code",
   "execution_count": 99,
   "id": "ef689d52-5bf9-46fb-827b-1dcb145196f6",
   "metadata": {},
   "outputs": [
    {
     "data": {
      "text/plain": [
       "'Karan'"
      ]
     },
     "execution_count": 99,
     "metadata": {},
     "output_type": "execute_result"
    }
   ],
   "source": [
    "a.pop('Name')"
   ]
  },
  {
   "cell_type": "code",
   "execution_count": 103,
   "id": "5d579a19-4a5b-47e7-8b0e-46ef37076bab",
   "metadata": {},
   "outputs": [
    {
     "data": {
      "text/plain": [
       "{'Age': 34}"
      ]
     },
     "execution_count": 103,
     "metadata": {},
     "output_type": "execute_result"
    }
   ],
   "source": [
    "a"
   ]
  },
  {
   "cell_type": "code",
   "execution_count": 105,
   "id": "de5fab1e-ab00-4c8f-907f-2b61187b5180",
   "metadata": {},
   "outputs": [],
   "source": [
    "a.setdefault('Class')"
   ]
  },
  {
   "cell_type": "code",
   "execution_count": 107,
   "id": "54e50562-11c4-4a6f-99ea-101a06e5b9d1",
   "metadata": {},
   "outputs": [
    {
     "data": {
      "text/plain": [
       "{'Age': 34, 'Class': None}"
      ]
     },
     "execution_count": 107,
     "metadata": {},
     "output_type": "execute_result"
    }
   ],
   "source": [
    "a"
   ]
  },
  {
   "cell_type": "code",
   "execution_count": 109,
   "id": "c911675e-2a60-439e-bfbd-3357a23f6acb",
   "metadata": {},
   "outputs": [],
   "source": [
    "a.setdefault('Address')"
   ]
  },
  {
   "cell_type": "code",
   "execution_count": 111,
   "id": "f32aeaa0-cb58-4d7b-8d32-e8540843a847",
   "metadata": {},
   "outputs": [
    {
     "data": {
      "text/plain": [
       "{'Age': 34, 'Class': None, 'Address': None}"
      ]
     },
     "execution_count": 111,
     "metadata": {},
     "output_type": "execute_result"
    }
   ],
   "source": [
    "a"
   ]
  },
  {
   "cell_type": "code",
   "execution_count": 113,
   "id": "af1698e3-5952-4e4c-9ea5-aaf6b52f3665",
   "metadata": {},
   "outputs": [
    {
     "data": {
      "text/plain": [
       "'B'"
      ]
     },
     "execution_count": 113,
     "metadata": {},
     "output_type": "execute_result"
    }
   ],
   "source": [
    "a.setdefault('Sec','B')"
   ]
  },
  {
   "cell_type": "code",
   "execution_count": 115,
   "id": "cd122a47-66e3-483f-9b6e-e0cf6ffb854f",
   "metadata": {},
   "outputs": [
    {
     "data": {
      "text/plain": [
       "{'Age': 34, 'Class': None, 'Address': None, 'Sec': 'B'}"
      ]
     },
     "execution_count": 115,
     "metadata": {},
     "output_type": "execute_result"
    }
   ],
   "source": [
    "a"
   ]
  },
  {
   "cell_type": "code",
   "execution_count": 117,
   "id": "1cc52bfe-80a3-4828-a58c-2fdb53300a5b",
   "metadata": {},
   "outputs": [],
   "source": [
    "a.setdefault(12)"
   ]
  },
  {
   "cell_type": "code",
   "execution_count": 119,
   "id": "8dacd08b-34a7-4fa1-880a-3ea4a7ee57c7",
   "metadata": {},
   "outputs": [
    {
     "data": {
      "text/plain": [
       "{'Age': 34, 'Class': None, 'Address': None, 'Sec': 'B', 12: None}"
      ]
     },
     "execution_count": 119,
     "metadata": {},
     "output_type": "execute_result"
    }
   ],
   "source": [
    "a"
   ]
  },
  {
   "cell_type": "code",
   "execution_count": 121,
   "id": "b5fecacc-5920-4fd2-bd56-e21dc1364446",
   "metadata": {},
   "outputs": [
    {
     "data": {
      "text/plain": [
       "45"
      ]
     },
     "execution_count": 121,
     "metadata": {},
     "output_type": "execute_result"
    }
   ],
   "source": [
    "a.setdefault(34,45)"
   ]
  },
  {
   "cell_type": "code",
   "execution_count": 123,
   "id": "a2ea7f8b-0252-4542-b06d-af1f5fde0fa7",
   "metadata": {},
   "outputs": [
    {
     "data": {
      "text/plain": [
       "{'Age': 34, 'Class': None, 'Address': None, 'Sec': 'B', 12: None, 34: 45}"
      ]
     },
     "execution_count": 123,
     "metadata": {},
     "output_type": "execute_result"
    }
   ],
   "source": [
    "a"
   ]
  },
  {
   "cell_type": "code",
   "execution_count": 125,
   "id": "b6b9f9bc-4023-4a1f-a1cf-5d92f543e9a4",
   "metadata": {},
   "outputs": [
    {
     "data": {
      "text/plain": [
       "34"
      ]
     },
     "execution_count": 125,
     "metadata": {},
     "output_type": "execute_result"
    }
   ],
   "source": [
    "a.setdefault('Age',120)"
   ]
  },
  {
   "cell_type": "code",
   "execution_count": 127,
   "id": "c5e7cad2-5a0e-4c26-8370-e6f3cc836084",
   "metadata": {},
   "outputs": [
    {
     "data": {
      "text/plain": [
       "{'Age': 34, 'Class': None, 'Address': None, 'Sec': 'B', 12: None, 34: 45}"
      ]
     },
     "execution_count": 127,
     "metadata": {},
     "output_type": "execute_result"
    }
   ],
   "source": [
    "a"
   ]
  },
  {
   "cell_type": "code",
   "execution_count": 139,
   "id": "d90a5f35-de35-4b7a-8691-0a7ffb811ac6",
   "metadata": {},
   "outputs": [],
   "source": [
    "a.setdefault(12,200)"
   ]
  },
  {
   "cell_type": "code",
   "execution_count": 141,
   "id": "158600d3-4e62-49ba-9134-068772c5d414",
   "metadata": {},
   "outputs": [],
   "source": [
    "a[12] = 12345"
   ]
  },
  {
   "cell_type": "code",
   "execution_count": 143,
   "id": "150a2a13-eedc-4ba2-beb8-1fb7cd715f79",
   "metadata": {},
   "outputs": [
    {
     "data": {
      "text/plain": [
       "{'Age': 34, 'Class': None, 'Address': None, 'Sec': 'B', 12: 12345, 34: 45}"
      ]
     },
     "execution_count": 143,
     "metadata": {},
     "output_type": "execute_result"
    }
   ],
   "source": [
    "a"
   ]
  },
  {
   "cell_type": "code",
   "execution_count": 145,
   "id": "6d7d8593-7e31-4f26-ac47-f60fb5de3027",
   "metadata": {},
   "outputs": [
    {
     "data": {
      "text/plain": [
       "34"
      ]
     },
     "execution_count": 145,
     "metadata": {},
     "output_type": "execute_result"
    }
   ],
   "source": [
    "a.setdefault('Age',340)"
   ]
  },
  {
   "cell_type": "code",
   "execution_count": 147,
   "id": "c8e9112a-16f6-4940-9218-4dc4601fd464",
   "metadata": {},
   "outputs": [],
   "source": [
    "a.update({'Age':45})"
   ]
  },
  {
   "cell_type": "code",
   "execution_count": 149,
   "id": "3ae44ac9-3a8f-4c6b-9d52-02c67a735f21",
   "metadata": {},
   "outputs": [
    {
     "data": {
      "text/plain": [
       "{'Age': 45, 'Class': None, 'Address': None, 'Sec': 'B', 12: 12345, 34: 45}"
      ]
     },
     "execution_count": 149,
     "metadata": {},
     "output_type": "execute_result"
    }
   ],
   "source": [
    "a"
   ]
  },
  {
   "cell_type": "code",
   "execution_count": 151,
   "id": "c6378bf4-f483-4fdd-b0f8-ed5c0f6f6acb",
   "metadata": {},
   "outputs": [],
   "source": [
    "a.update({'New key':'Value'})"
   ]
  },
  {
   "cell_type": "code",
   "execution_count": 153,
   "id": "e16cf981-ff19-4478-bfc1-0ef9da5c8f15",
   "metadata": {},
   "outputs": [
    {
     "data": {
      "text/plain": [
       "{'Age': 45,\n",
       " 'Class': None,\n",
       " 'Address': None,\n",
       " 'Sec': 'B',\n",
       " 12: 12345,\n",
       " 34: 45,\n",
       " 'New key': 'Value'}"
      ]
     },
     "execution_count": 153,
     "metadata": {},
     "output_type": "execute_result"
    }
   ],
   "source": [
    "a"
   ]
  },
  {
   "cell_type": "code",
   "execution_count": 155,
   "id": "968aea58-5b99-4996-89b9-2d8397252300",
   "metadata": {},
   "outputs": [],
   "source": [
    "cars = {'Audi':2345678}"
   ]
  },
  {
   "cell_type": "code",
   "execution_count": 157,
   "id": "fa73eed1-4951-4253-afd3-ef5067d0c6aa",
   "metadata": {},
   "outputs": [],
   "source": [
    "cars.update({'BMW':9876543})"
   ]
  },
  {
   "cell_type": "code",
   "execution_count": 163,
   "id": "3a494d7c-ffcd-479b-a92d-062019da84a9",
   "metadata": {},
   "outputs": [],
   "source": [
    "cars.update({'Maruti':345675})"
   ]
  },
  {
   "cell_type": "code",
   "execution_count": 165,
   "id": "ed71805c-afbe-4238-96f5-dc6b10f1f01e",
   "metadata": {},
   "outputs": [
    {
     "data": {
      "text/plain": [
       "{'Audi': 2345678, 'BMW': 9876543, 'Maruti': 345675}"
      ]
     },
     "execution_count": 165,
     "metadata": {},
     "output_type": "execute_result"
    }
   ],
   "source": [
    "cars"
   ]
  },
  {
   "cell_type": "code",
   "execution_count": 167,
   "id": "6a2b0a47-2a20-44c4-bcc8-357f6053f47c",
   "metadata": {},
   "outputs": [],
   "source": [
    "cars['Toyota'] = 345678"
   ]
  },
  {
   "cell_type": "code",
   "execution_count": 169,
   "id": "fafac17b-f66e-41ae-a630-ed3e6e63bdca",
   "metadata": {},
   "outputs": [
    {
     "data": {
      "text/plain": [
       "{'Audi': 2345678, 'BMW': 9876543, 'Maruti': 345675, 'Toyota': 345678}"
      ]
     },
     "execution_count": 169,
     "metadata": {},
     "output_type": "execute_result"
    }
   ],
   "source": [
    "cars"
   ]
  },
  {
   "cell_type": "code",
   "execution_count": 171,
   "id": "66829170-ecd7-4394-a882-1c1ba2119e24",
   "metadata": {},
   "outputs": [],
   "source": [
    "cars['Audi']  = 35"
   ]
  },
  {
   "cell_type": "code",
   "execution_count": 173,
   "id": "fcecaf36-ad48-4cb0-86d5-688df443fd8c",
   "metadata": {},
   "outputs": [
    {
     "data": {
      "text/plain": [
       "{'Audi': 35, 'BMW': 9876543, 'Maruti': 345675, 'Toyota': 345678}"
      ]
     },
     "execution_count": 173,
     "metadata": {},
     "output_type": "execute_result"
    }
   ],
   "source": [
    "cars"
   ]
  },
  {
   "cell_type": "code",
   "execution_count": 175,
   "id": "d89e1a60-4929-40a6-92eb-b7366e08b7c4",
   "metadata": {},
   "outputs": [],
   "source": [
    "cars['Car1'] = 2345678\n",
    "cars['Car2'] = 876543\n",
    "cars['Car3'] = 3456789\n",
    "cars['Car4'] = 456789\n"
   ]
  },
  {
   "cell_type": "code",
   "execution_count": 177,
   "id": "314c28f3-905a-4cf6-a92f-8b35cfc3d3c3",
   "metadata": {},
   "outputs": [
    {
     "data": {
      "text/plain": [
       "{'Audi': 35,\n",
       " 'BMW': 9876543,\n",
       " 'Maruti': 345675,\n",
       " 'Toyota': 345678,\n",
       " 'Car1': 2345678,\n",
       " 'Car2': 876543,\n",
       " 'Car3': 3456789,\n",
       " 'Car4': 456789}"
      ]
     },
     "execution_count": 177,
     "metadata": {},
     "output_type": "execute_result"
    }
   ],
   "source": [
    "cars"
   ]
  },
  {
   "cell_type": "code",
   "execution_count": 181,
   "id": "0f494400-f84d-4cf4-98cb-6f09163e6722",
   "metadata": {},
   "outputs": [],
   "source": [
    "cars.update({'car5':3456789,'car6':4567890,'Car7':3456})"
   ]
  },
  {
   "cell_type": "code",
   "execution_count": 183,
   "id": "1a033fc0-3f0f-4193-9d7c-d22508d5c57e",
   "metadata": {},
   "outputs": [
    {
     "data": {
      "text/plain": [
       "{'Audi': 35,\n",
       " 'BMW': 9876543,\n",
       " 'Maruti': 345675,\n",
       " 'Toyota': 345678,\n",
       " 'Car1': 2345678,\n",
       " 'Car2': 876543,\n",
       " 'Car3': 3456789,\n",
       " 'Car4': 456789,\n",
       " 'car5': 3456789,\n",
       " 'car6': 4567890,\n",
       " 'Car7': 3456}"
      ]
     },
     "execution_count": 183,
     "metadata": {},
     "output_type": "execute_result"
    }
   ],
   "source": [
    "cars"
   ]
  },
  {
   "cell_type": "code",
   "execution_count": 185,
   "id": "db4feda4-5405-4cac-9de3-893aedadd5ab",
   "metadata": {},
   "outputs": [
    {
     "data": {
      "text/plain": [
       "876543"
      ]
     },
     "execution_count": 185,
     "metadata": {},
     "output_type": "execute_result"
    }
   ],
   "source": [
    "cars['Car2']"
   ]
  },
  {
   "cell_type": "code",
   "execution_count": 189,
   "id": "293bfc1a-7506-48f5-96a8-0d5b601b8e30",
   "metadata": {},
   "outputs": [
    {
     "data": {
      "text/plain": [
       "3456789"
      ]
     },
     "execution_count": 189,
     "metadata": {},
     "output_type": "execute_result"
    }
   ],
   "source": [
    "cars.get('car5')"
   ]
  },
  {
   "cell_type": "markdown",
   "id": "4932884f-5db2-4b91-a746-576dff6e0e2b",
   "metadata": {},
   "source": [
    "# Set"
   ]
  },
  {
   "cell_type": "code",
   "execution_count": 196,
   "id": "8ad88b49-c71e-449c-b7b6-f33ce8fe6f5e",
   "metadata": {},
   "outputs": [],
   "source": [
    "# Unordered collection of unique data"
   ]
  },
  {
   "cell_type": "code",
   "execution_count": 214,
   "id": "00cda3b3-57e0-4e81-9850-7b97f7d966bb",
   "metadata": {},
   "outputs": [
    {
     "data": {
      "text/plain": [
       "{0, 2, 3, 34, 340, 35, 4, 43, 433, 56, 678, 'karan'}"
      ]
     },
     "execution_count": 214,
     "metadata": {},
     "output_type": "execute_result"
    }
   ],
   "source": [
    "data = {2,433,4,4,3,43,'karan',4,4,34,0,34,34,34,340,34,34,35,56,678}\n",
    "data"
   ]
  },
  {
   "cell_type": "code",
   "execution_count": 216,
   "id": "3aa22260-7352-40c5-9173-5adae9369c39",
   "metadata": {},
   "outputs": [],
   "source": [
    "students = ['Ajay','Vikrant','Gaurav','Harry','Ajay','Vikrant','Gaurav','Harry','Gaurav']"
   ]
  },
  {
   "cell_type": "code",
   "execution_count": 222,
   "id": "c1375f98-113f-4b53-a806-91b7aab28d83",
   "metadata": {},
   "outputs": [
    {
     "name": "stdout",
     "output_type": "stream",
     "text": [
      "['Ajay', 'Vikrant', 'Gaurav', 'Harry', 'Ajay', 'Vikrant', 'Gaurav', 'Harry', 'Gaurav']\n"
     ]
    }
   ],
   "source": [
    "print(students)"
   ]
  },
  {
   "cell_type": "code",
   "execution_count": 220,
   "id": "2e4f447d-ec32-4626-bbfc-5e1edb7ae047",
   "metadata": {},
   "outputs": [
    {
     "data": {
      "text/plain": [
       "{'Ajay', 'Gaurav', 'Harry', 'Vikrant'}"
      ]
     },
     "execution_count": 220,
     "metadata": {},
     "output_type": "execute_result"
    }
   ],
   "source": [
    "set(students)"
   ]
  },
  {
   "cell_type": "code",
   "execution_count": 226,
   "id": "3bb1531b-819a-4ffb-80a6-8d940f4c6907",
   "metadata": {},
   "outputs": [],
   "source": [
    "# set can contain multiple data types,immutable"
   ]
  },
  {
   "cell_type": "code",
   "execution_count": 228,
   "id": "9e974595-a783-4571-b321-ec207ce293c4",
   "metadata": {},
   "outputs": [
    {
     "ename": "TypeError",
     "evalue": "unhashable type: 'list'",
     "output_type": "error",
     "traceback": [
      "\u001b[1;31m---------------------------------------------------------------------------\u001b[0m",
      "\u001b[1;31mTypeError\u001b[0m                                 Traceback (most recent call last)",
      "Cell \u001b[1;32mIn[228], line 1\u001b[0m\n\u001b[1;32m----> 1\u001b[0m data \u001b[38;5;241m=\u001b[39m {\u001b[38;5;241m234\u001b[39m,\u001b[38;5;241m36\u001b[39m,\u001b[38;5;241m547\u001b[39m,[\u001b[38;5;241m23\u001b[39m,\u001b[38;5;241m544\u001b[39m,\u001b[38;5;241m6\u001b[39m]}\n",
      "\u001b[1;31mTypeError\u001b[0m: unhashable type: 'list'"
     ]
    }
   ],
   "source": [
    "data = {234,36,547,[23,544,6]}"
   ]
  },
  {
   "cell_type": "code",
   "execution_count": 230,
   "id": "ffae5f40-881e-41cd-9b32-50611f96dc08",
   "metadata": {},
   "outputs": [
    {
     "data": {
      "text/plain": [
       "{(23, 544, 6), 234, 36, 547}"
      ]
     },
     "execution_count": 230,
     "metadata": {},
     "output_type": "execute_result"
    }
   ],
   "source": [
    "data = {234,36,547,(23,544,6)}\n",
    "data"
   ]
  },
  {
   "cell_type": "code",
   "execution_count": 232,
   "id": "1b6c3367-b39f-4bcb-8c6b-7a493ac4a89b",
   "metadata": {},
   "outputs": [
    {
     "ename": "TypeError",
     "evalue": "unhashable type: 'dict'",
     "output_type": "error",
     "traceback": [
      "\u001b[1;31m---------------------------------------------------------------------------\u001b[0m",
      "\u001b[1;31mTypeError\u001b[0m                                 Traceback (most recent call last)",
      "Cell \u001b[1;32mIn[232], line 1\u001b[0m\n\u001b[1;32m----> 1\u001b[0m data \u001b[38;5;241m=\u001b[39m {\u001b[38;5;241m234\u001b[39m,\u001b[38;5;241m36\u001b[39m,\u001b[38;5;241m547\u001b[39m,{\u001b[38;5;124m'\u001b[39m\u001b[38;5;124mName\u001b[39m\u001b[38;5;124m'\u001b[39m:\u001b[38;5;124m'\u001b[39m\u001b[38;5;124mlucky\u001b[39m\u001b[38;5;124m'\u001b[39m}}\n\u001b[0;32m      2\u001b[0m data\n",
      "\u001b[1;31mTypeError\u001b[0m: unhashable type: 'dict'"
     ]
    }
   ],
   "source": [
    "data = {234,36,547,{'Name':'lucky'}}\n",
    "data"
   ]
  },
  {
   "cell_type": "code",
   "execution_count": 234,
   "id": "a40c8cd2-12c8-4483-b971-4985067d8143",
   "metadata": {},
   "outputs": [
    {
     "ename": "TypeError",
     "evalue": "unhashable type: 'set'",
     "output_type": "error",
     "traceback": [
      "\u001b[1;31m---------------------------------------------------------------------------\u001b[0m",
      "\u001b[1;31mTypeError\u001b[0m                                 Traceback (most recent call last)",
      "Cell \u001b[1;32mIn[234], line 1\u001b[0m\n\u001b[1;32m----> 1\u001b[0m data \u001b[38;5;241m=\u001b[39m {\u001b[38;5;241m234\u001b[39m,\u001b[38;5;241m36\u001b[39m,\u001b[38;5;241m547\u001b[39m,{\u001b[38;5;241m2\u001b[39m,\u001b[38;5;241m34\u001b[39m,\u001b[38;5;241m346\u001b[39m}}\n",
      "\u001b[1;31mTypeError\u001b[0m: unhashable type: 'set'"
     ]
    }
   ],
   "source": [
    "data = {234,36,547,{2,34,346}}\n"
   ]
  },
  {
   "cell_type": "code",
   "execution_count": 238,
   "id": "71d5f6f8-f5e2-494a-86e2-7fe403f987dd",
   "metadata": {},
   "outputs": [
    {
     "data": {
      "text/plain": [
       "{(56-8j), 234, 36, 45.56, 547, 'Mohan', True}"
      ]
     },
     "execution_count": 238,
     "metadata": {},
     "output_type": "execute_result"
    }
   ],
   "source": [
    "data = {234,36,547,45.56,True,56-8j,'Mohan'}\n",
    "data"
   ]
  },
  {
   "cell_type": "code",
   "execution_count": 240,
   "id": "6f33e4ae-360c-4adb-95d3-ee35dd7247cc",
   "metadata": {},
   "outputs": [],
   "source": [
    "# set ke andar set"
   ]
  },
  {
   "cell_type": "code",
   "execution_count": 244,
   "id": "b2a1e35b-33d3-4069-9c26-feb37c10545c",
   "metadata": {},
   "outputs": [],
   "source": [
    "a = {12,43,52,3445,67,8}"
   ]
  },
  {
   "cell_type": "code",
   "execution_count": 246,
   "id": "334c4726-d4c5-470e-9963-9065b04f40cc",
   "metadata": {},
   "outputs": [],
   "source": [
    "b = {43,52,3445,3456,36}"
   ]
  },
  {
   "cell_type": "code",
   "execution_count": 248,
   "id": "90df9d13-5bd5-48dc-9044-5742ce6d0a1a",
   "metadata": {},
   "outputs": [
    {
     "data": {
      "text/plain": [
       "{43, 52, 3445}"
      ]
     },
     "execution_count": 248,
     "metadata": {},
     "output_type": "execute_result"
    }
   ],
   "source": [
    "a.intersection(b)"
   ]
  },
  {
   "cell_type": "code",
   "execution_count": 250,
   "id": "a666ec6e-e4d9-44d7-aed0-51f9c9476ecf",
   "metadata": {},
   "outputs": [
    {
     "data": {
      "text/plain": [
       "{8, 12, 36, 43, 52, 67, 3445, 3456}"
      ]
     },
     "execution_count": 250,
     "metadata": {},
     "output_type": "execute_result"
    }
   ],
   "source": [
    "a.union(b)"
   ]
  },
  {
   "cell_type": "code",
   "execution_count": 252,
   "id": "84229464-6f50-4145-9248-1402c9a9c38b",
   "metadata": {},
   "outputs": [
    {
     "data": {
      "text/plain": [
       "{8, 12, 36, 43, 52, 67, 3445, 3456}"
      ]
     },
     "execution_count": 252,
     "metadata": {},
     "output_type": "execute_result"
    }
   ],
   "source": [
    "a | b"
   ]
  },
  {
   "cell_type": "code",
   "execution_count": 254,
   "id": "f67be482-ae1c-4728-b38a-67ced56cedbb",
   "metadata": {},
   "outputs": [
    {
     "data": {
      "text/plain": [
       "{43, 52, 3445}"
      ]
     },
     "execution_count": 254,
     "metadata": {},
     "output_type": "execute_result"
    }
   ],
   "source": [
    "a & b"
   ]
  },
  {
   "cell_type": "code",
   "execution_count": 256,
   "id": "e39252a9-210d-4c40-ba0b-5ea9bef45409",
   "metadata": {},
   "outputs": [
    {
     "data": {
      "text/plain": [
       "{8, 12, 43, 52, 67, 3445}"
      ]
     },
     "execution_count": 256,
     "metadata": {},
     "output_type": "execute_result"
    }
   ],
   "source": [
    "a"
   ]
  },
  {
   "cell_type": "code",
   "execution_count": 258,
   "id": "fbd0aafe-1c00-46eb-9614-7ebab0964d85",
   "metadata": {},
   "outputs": [
    {
     "data": {
      "text/plain": [
       "{36, 43, 52, 3445, 3456}"
      ]
     },
     "execution_count": 258,
     "metadata": {},
     "output_type": "execute_result"
    }
   ],
   "source": [
    "b"
   ]
  },
  {
   "cell_type": "code",
   "execution_count": 262,
   "id": "b9c7223a-3d6a-4167-97e5-c35e434231ef",
   "metadata": {},
   "outputs": [],
   "source": [
    "# a + b"
   ]
  },
  {
   "cell_type": "code",
   "execution_count": 264,
   "id": "5d9b3a3d-cbfd-481f-bb92-2f85ed06ba93",
   "metadata": {},
   "outputs": [
    {
     "data": {
      "text/plain": [
       "{8, 12, 67}"
      ]
     },
     "execution_count": 264,
     "metadata": {},
     "output_type": "execute_result"
    }
   ],
   "source": [
    "a - b"
   ]
  },
  {
   "cell_type": "code",
   "execution_count": 266,
   "id": "bc5dbb5c-14b5-4bf7-a0ec-1aac6a7ed56b",
   "metadata": {},
   "outputs": [
    {
     "data": {
      "text/plain": [
       "{36, 3456}"
      ]
     },
     "execution_count": 266,
     "metadata": {},
     "output_type": "execute_result"
    }
   ],
   "source": [
    "b - a"
   ]
  },
  {
   "cell_type": "code",
   "execution_count": 268,
   "id": "bf2eb045-3eff-4af2-8bb3-8f5a9323dd3b",
   "metadata": {},
   "outputs": [
    {
     "data": {
      "text/plain": [
       "{8, 12, 67}"
      ]
     },
     "execution_count": 268,
     "metadata": {},
     "output_type": "execute_result"
    }
   ],
   "source": [
    "a.difference(b)"
   ]
  },
  {
   "cell_type": "code",
   "execution_count": 270,
   "id": "1b80b160-349f-4ed6-9c8e-95f435b0c7a4",
   "metadata": {},
   "outputs": [
    {
     "data": {
      "text/plain": [
       "{36, 3456}"
      ]
     },
     "execution_count": 270,
     "metadata": {},
     "output_type": "execute_result"
    }
   ],
   "source": [
    "b.difference(a)"
   ]
  },
  {
   "cell_type": "code",
   "execution_count": 272,
   "id": "479a0d18-8473-4fa1-ba1e-11ec98be3ace",
   "metadata": {},
   "outputs": [
    {
     "data": {
      "text/plain": [
       "{8, 12, 43, 52, 67, 3445}"
      ]
     },
     "execution_count": 272,
     "metadata": {},
     "output_type": "execute_result"
    }
   ],
   "source": [
    "a"
   ]
  },
  {
   "cell_type": "code",
   "execution_count": 274,
   "id": "ce336dd8-fcbe-4a84-b5fc-5e87a8e6ce2a",
   "metadata": {},
   "outputs": [
    {
     "data": {
      "text/plain": [
       "{36, 43, 52, 3445, 3456}"
      ]
     },
     "execution_count": 274,
     "metadata": {},
     "output_type": "execute_result"
    }
   ],
   "source": [
    "b"
   ]
  },
  {
   "cell_type": "code",
   "execution_count": 276,
   "id": "aab18518-82fe-46cd-a0f3-92c3784ef265",
   "metadata": {},
   "outputs": [],
   "source": [
    "# {8,12,67,36,3456}"
   ]
  },
  {
   "cell_type": "code",
   "execution_count": 278,
   "id": "e57829ea-64fe-49d0-a47d-a1323de8fd5a",
   "metadata": {},
   "outputs": [
    {
     "data": {
      "text/plain": [
       "{8, 12, 36, 67, 3456}"
      ]
     },
     "execution_count": 278,
     "metadata": {},
     "output_type": "execute_result"
    }
   ],
   "source": [
    "a.symmetric_difference(b)"
   ]
  },
  {
   "cell_type": "code",
   "execution_count": 282,
   "id": "992f56a2-30d4-41a4-a54e-66ae56b1eadc",
   "metadata": {},
   "outputs": [
    {
     "data": {
      "text/plain": [
       "{8, 12, 36, 67, 3456}"
      ]
     },
     "execution_count": 282,
     "metadata": {},
     "output_type": "execute_result"
    }
   ],
   "source": [
    "b.symmetric_difference(a)"
   ]
  },
  {
   "cell_type": "code",
   "execution_count": 284,
   "id": "9fcea8ae-a7ae-404c-8417-aa78a75addf9",
   "metadata": {},
   "outputs": [
    {
     "data": {
      "text/plain": [
       "{8, 12, 36, 67, 3456}"
      ]
     },
     "execution_count": 284,
     "metadata": {},
     "output_type": "execute_result"
    }
   ],
   "source": [
    "a ^ b"
   ]
  },
  {
   "cell_type": "code",
   "execution_count": 286,
   "id": "19649ba7-5450-475d-9507-6ca1bc86dcb0",
   "metadata": {},
   "outputs": [
    {
     "data": {
      "text/plain": [
       "{8, 12, 43, 52, 67, 3445}"
      ]
     },
     "execution_count": 286,
     "metadata": {},
     "output_type": "execute_result"
    }
   ],
   "source": [
    "a"
   ]
  },
  {
   "cell_type": "code",
   "execution_count": 288,
   "id": "c406a095-7605-4a1b-a13f-21dec241831a",
   "metadata": {},
   "outputs": [
    {
     "ename": "TypeError",
     "evalue": "'set' object is not subscriptable",
     "output_type": "error",
     "traceback": [
      "\u001b[1;31m---------------------------------------------------------------------------\u001b[0m",
      "\u001b[1;31mTypeError\u001b[0m                                 Traceback (most recent call last)",
      "Cell \u001b[1;32mIn[288], line 1\u001b[0m\n\u001b[1;32m----> 1\u001b[0m a[\u001b[38;5;241m1\u001b[39m]\n",
      "\u001b[1;31mTypeError\u001b[0m: 'set' object is not subscriptable"
     ]
    }
   ],
   "source": [
    "a[1]"
   ]
  },
  {
   "cell_type": "code",
   "execution_count": 290,
   "id": "eaa087df-8689-4f41-bd18-3d950de637c5",
   "metadata": {},
   "outputs": [
    {
     "data": {
      "text/plain": [
       "{8, 12, 43, 52, 67, 3445}"
      ]
     },
     "execution_count": 290,
     "metadata": {},
     "output_type": "execute_result"
    }
   ],
   "source": [
    "a"
   ]
  },
  {
   "cell_type": "code",
   "execution_count": 292,
   "id": "90c8601d-cbe5-437e-9914-027393b7f8d9",
   "metadata": {},
   "outputs": [],
   "source": [
    "a.add(1000)"
   ]
  },
  {
   "cell_type": "code",
   "execution_count": 294,
   "id": "5cfa71bb-c8ca-477d-8a9a-73f0e716eeca",
   "metadata": {},
   "outputs": [
    {
     "data": {
      "text/plain": [
       "{8, 12, 43, 52, 67, 1000, 3445}"
      ]
     },
     "execution_count": 294,
     "metadata": {},
     "output_type": "execute_result"
    }
   ],
   "source": [
    "a"
   ]
  },
  {
   "cell_type": "code",
   "execution_count": 296,
   "id": "40ebbed9-45c7-4aad-8b7e-db20d32314b1",
   "metadata": {},
   "outputs": [],
   "source": [
    "a.clear()"
   ]
  },
  {
   "cell_type": "code",
   "execution_count": 298,
   "id": "4c5d1c10-442b-442b-a691-39bffde963af",
   "metadata": {},
   "outputs": [
    {
     "data": {
      "text/plain": [
       "set()"
      ]
     },
     "execution_count": 298,
     "metadata": {},
     "output_type": "execute_result"
    }
   ],
   "source": [
    "a"
   ]
  },
  {
   "cell_type": "code",
   "execution_count": 300,
   "id": "d0dc514d-5232-425f-9073-351329076242",
   "metadata": {},
   "outputs": [
    {
     "name": "stdout",
     "output_type": "stream",
     "text": [
      "set()\n"
     ]
    }
   ],
   "source": [
    "empty_set =set()\n",
    "print(empty_set)"
   ]
  },
  {
   "cell_type": "code",
   "execution_count": 302,
   "id": "d88b4f98-83e9-47a0-9371-86d821a06f56",
   "metadata": {},
   "outputs": [],
   "source": [
    "a = {3,544,6}\n",
    "b = a"
   ]
  },
  {
   "cell_type": "code",
   "execution_count": 304,
   "id": "8bd0938f-d3c9-4c0a-bd8e-3f81b5c89078",
   "metadata": {},
   "outputs": [],
   "source": [
    "a.add(500)"
   ]
  },
  {
   "cell_type": "code",
   "execution_count": 306,
   "id": "ff67432c-c5f9-4516-a9ac-fdc1d4a69827",
   "metadata": {},
   "outputs": [
    {
     "data": {
      "text/plain": [
       "{3, 6, 500, 544}"
      ]
     },
     "execution_count": 306,
     "metadata": {},
     "output_type": "execute_result"
    }
   ],
   "source": [
    "a"
   ]
  },
  {
   "cell_type": "code",
   "execution_count": 308,
   "id": "67d48dd5-77ea-4e6d-8472-39a5b3a34fb1",
   "metadata": {},
   "outputs": [
    {
     "data": {
      "text/plain": [
       "{3, 6, 500, 544}"
      ]
     },
     "execution_count": 308,
     "metadata": {},
     "output_type": "execute_result"
    }
   ],
   "source": [
    "b"
   ]
  },
  {
   "cell_type": "code",
   "execution_count": 310,
   "id": "a0ef6f9a-c5bf-447d-a6f9-768ba6707d10",
   "metadata": {},
   "outputs": [],
   "source": [
    "d = {34,234,5456,7}\n",
    "c = d.copy()"
   ]
  },
  {
   "cell_type": "code",
   "execution_count": 312,
   "id": "85ac1e3d-f635-4079-99a8-250df75a732c",
   "metadata": {},
   "outputs": [],
   "source": [
    "d.add(23456789)"
   ]
  },
  {
   "cell_type": "code",
   "execution_count": 314,
   "id": "53e06ac1-5c1d-4233-9fff-2f9c5be5238a",
   "metadata": {},
   "outputs": [
    {
     "data": {
      "text/plain": [
       "{7, 34, 234, 5456, 23456789}"
      ]
     },
     "execution_count": 314,
     "metadata": {},
     "output_type": "execute_result"
    }
   ],
   "source": [
    "d"
   ]
  },
  {
   "cell_type": "code",
   "execution_count": 316,
   "id": "6d0b264d-1109-4be8-b5ec-de6db73a328c",
   "metadata": {},
   "outputs": [
    {
     "data": {
      "text/plain": [
       "{7, 34, 234, 5456}"
      ]
     },
     "execution_count": 316,
     "metadata": {},
     "output_type": "execute_result"
    }
   ],
   "source": [
    "c"
   ]
  },
  {
   "cell_type": "code",
   "execution_count": 318,
   "id": "5d82e8cc-6ad6-4fc3-8f5e-61b14791087b",
   "metadata": {},
   "outputs": [
    {
     "data": {
      "text/plain": [
       "{7, 34, 234, 5456}"
      ]
     },
     "execution_count": 318,
     "metadata": {},
     "output_type": "execute_result"
    }
   ],
   "source": [
    "c"
   ]
  },
  {
   "cell_type": "code",
   "execution_count": 324,
   "id": "57211ef2-beae-4ed7-8ce1-6ae1ae129064",
   "metadata": {},
   "outputs": [
    {
     "data": {
      "text/plain": [
       "234"
      ]
     },
     "execution_count": 324,
     "metadata": {},
     "output_type": "execute_result"
    }
   ],
   "source": [
    "c.pop()"
   ]
  },
  {
   "cell_type": "code",
   "execution_count": 326,
   "id": "e45e7411-9ed1-4d79-b1fe-22a4236db8f5",
   "metadata": {},
   "outputs": [
    {
     "data": {
      "text/plain": [
       "{7}"
      ]
     },
     "execution_count": 326,
     "metadata": {},
     "output_type": "execute_result"
    }
   ],
   "source": [
    "c"
   ]
  },
  {
   "cell_type": "code",
   "execution_count": 328,
   "id": "42570724-16c6-4f16-97d9-99d5f092cd38",
   "metadata": {},
   "outputs": [
    {
     "data": {
      "text/plain": [
       "{7, 34, 234, 5456, 23456789}"
      ]
     },
     "execution_count": 328,
     "metadata": {},
     "output_type": "execute_result"
    }
   ],
   "source": [
    "d"
   ]
  },
  {
   "cell_type": "code",
   "execution_count": 330,
   "id": "a628e92d-3452-4e34-bc2d-192b64f011ab",
   "metadata": {},
   "outputs": [],
   "source": [
    "d.remove(234)"
   ]
  },
  {
   "cell_type": "code",
   "execution_count": 332,
   "id": "4cc2e404-1b9f-409f-85d6-4165ee604b52",
   "metadata": {},
   "outputs": [
    {
     "data": {
      "text/plain": [
       "{7, 34, 5456, 23456789}"
      ]
     },
     "execution_count": 332,
     "metadata": {},
     "output_type": "execute_result"
    }
   ],
   "source": [
    "d"
   ]
  },
  {
   "cell_type": "code",
   "execution_count": 334,
   "id": "05b19c64-ba77-4029-b54d-e20fa3efde67",
   "metadata": {},
   "outputs": [
    {
     "ename": "KeyError",
     "evalue": "23456",
     "output_type": "error",
     "traceback": [
      "\u001b[1;31m---------------------------------------------------------------------------\u001b[0m",
      "\u001b[1;31mKeyError\u001b[0m                                  Traceback (most recent call last)",
      "Cell \u001b[1;32mIn[334], line 1\u001b[0m\n\u001b[1;32m----> 1\u001b[0m d\u001b[38;5;241m.\u001b[39mremove(\u001b[38;5;241m23456\u001b[39m)\n",
      "\u001b[1;31mKeyError\u001b[0m: 23456"
     ]
    }
   ],
   "source": [
    "d.remove(23456)"
   ]
  },
  {
   "cell_type": "code",
   "execution_count": 336,
   "id": "4ce19e00-0f64-4360-9a52-2b1647d2de63",
   "metadata": {},
   "outputs": [
    {
     "data": {
      "text/plain": [
       "{2, 6, 534, 3544}"
      ]
     },
     "execution_count": 336,
     "metadata": {},
     "output_type": "execute_result"
    }
   ],
   "source": [
    "a = {2,3544,534,6}\n",
    "a"
   ]
  },
  {
   "cell_type": "code",
   "execution_count": 338,
   "id": "bb1746dd-383d-448d-8016-4713e311ba80",
   "metadata": {},
   "outputs": [],
   "source": [
    "b = {2,3546,57}"
   ]
  },
  {
   "cell_type": "code",
   "execution_count": 340,
   "id": "fb22ea83-ad4a-4027-a116-8790f87c5ba0",
   "metadata": {},
   "outputs": [],
   "source": [
    "a.update(b)"
   ]
  },
  {
   "cell_type": "code",
   "execution_count": 342,
   "id": "0433832d-1751-41aa-9f88-33565c77750a",
   "metadata": {},
   "outputs": [
    {
     "data": {
      "text/plain": [
       "{2, 6, 57, 534, 3544, 3546}"
      ]
     },
     "execution_count": 342,
     "metadata": {},
     "output_type": "execute_result"
    }
   ],
   "source": [
    "a"
   ]
  },
  {
   "cell_type": "code",
   "execution_count": 344,
   "id": "34a9921a-d98e-487a-896b-99a20f1f9edc",
   "metadata": {},
   "outputs": [
    {
     "data": {
      "text/plain": [
       "{345678, 'audi'}"
      ]
     },
     "execution_count": 344,
     "metadata": {},
     "output_type": "execute_result"
    }
   ],
   "source": [
    "a = {'audi',345678}\n",
    "a"
   ]
  },
  {
   "cell_type": "code",
   "execution_count": 354,
   "id": "1fe1b07e-07ee-41a0-add0-68ad6fd3f4a4",
   "metadata": {},
   "outputs": [],
   "source": [
    "a.update({'w',3456789})"
   ]
  },
  {
   "cell_type": "code",
   "execution_count": 356,
   "id": "39c466b5-3ae9-45b5-be6b-4420640af32f",
   "metadata": {},
   "outputs": [
    {
     "data": {
      "text/plain": [
       "{345678, 3456789, 'B', 'Bmw', 'Bw', 'audi', 'w'}"
      ]
     },
     "execution_count": 356,
     "metadata": {},
     "output_type": "execute_result"
    }
   ],
   "source": [
    "a"
   ]
  },
  {
   "cell_type": "code",
   "execution_count": 378,
   "id": "3b3ce0e3-6e13-43d6-a14b-ada8c7103463",
   "metadata": {},
   "outputs": [],
   "source": [
    "a = {12,3423,4535,235,45,234,45}\n",
    "b = {3423,235,45}"
   ]
  },
  {
   "cell_type": "code",
   "execution_count": 380,
   "id": "aade85cf-c621-459b-83e4-7fd30fdc9230",
   "metadata": {},
   "outputs": [
    {
     "data": {
      "text/plain": [
       "True"
      ]
     },
     "execution_count": 380,
     "metadata": {},
     "output_type": "execute_result"
    }
   ],
   "source": [
    "a.issuperset(b)"
   ]
  },
  {
   "cell_type": "code",
   "execution_count": 382,
   "id": "a4c5c464-6e9a-4514-a84e-3fff3670c4e6",
   "metadata": {},
   "outputs": [
    {
     "data": {
      "text/plain": [
       "True"
      ]
     },
     "execution_count": 382,
     "metadata": {},
     "output_type": "execute_result"
    }
   ],
   "source": [
    "b.issubset(a)"
   ]
  },
  {
   "cell_type": "code",
   "execution_count": null,
   "id": "71b0e2de-7fc0-48cf-88a6-2488d33e864d",
   "metadata": {},
   "outputs": [],
   "source": []
  },
  {
   "cell_type": "code",
   "execution_count": 389,
   "id": "a7940a6a-40a3-41b4-97bf-bdb1e7461966",
   "metadata": {},
   "outputs": [],
   "source": [
    "a = {2,3454,36,34}\n",
    "b = {5,634,36,7}"
   ]
  },
  {
   "cell_type": "code",
   "execution_count": 391,
   "id": "cbd1cc75-6b0d-45ab-8596-789d09a1eae7",
   "metadata": {},
   "outputs": [
    {
     "data": {
      "text/plain": [
       "False"
      ]
     },
     "execution_count": 391,
     "metadata": {},
     "output_type": "execute_result"
    }
   ],
   "source": [
    "a.isdisjoint(b)"
   ]
  },
  {
   "cell_type": "code",
   "execution_count": 393,
   "id": "2dca39b0-5ced-4b81-8252-ad56c43b0047",
   "metadata": {},
   "outputs": [],
   "source": [
    "a = {2,3454,36,34}\n",
    "b = {5,634,36,7}"
   ]
  },
  {
   "cell_type": "code",
   "execution_count": 395,
   "id": "ad82b8b0-fe23-4a93-af65-f3ae225d0edd",
   "metadata": {},
   "outputs": [
    {
     "ename": "KeyError",
     "evalue": "100",
     "output_type": "error",
     "traceback": [
      "\u001b[1;31m---------------------------------------------------------------------------\u001b[0m",
      "\u001b[1;31mKeyError\u001b[0m                                  Traceback (most recent call last)",
      "Cell \u001b[1;32mIn[395], line 1\u001b[0m\n\u001b[1;32m----> 1\u001b[0m a\u001b[38;5;241m.\u001b[39mremove(\u001b[38;5;241m100\u001b[39m)\n",
      "\u001b[1;31mKeyError\u001b[0m: 100"
     ]
    }
   ],
   "source": [
    "a.remove(100)"
   ]
  },
  {
   "cell_type": "code",
   "execution_count": 399,
   "id": "cf26c468-fb92-493d-97c3-89e6f21b27cc",
   "metadata": {},
   "outputs": [],
   "source": [
    "a.discard(36)"
   ]
  },
  {
   "cell_type": "code",
   "execution_count": 401,
   "id": "8aa03d08-6a76-460a-91b7-59b81812877f",
   "metadata": {},
   "outputs": [
    {
     "data": {
      "text/plain": [
       "{2, 34, 3454}"
      ]
     },
     "execution_count": 401,
     "metadata": {},
     "output_type": "execute_result"
    }
   ],
   "source": [
    "a"
   ]
  },
  {
   "cell_type": "code",
   "execution_count": 403,
   "id": "cb1e36dd-05e4-4462-800c-041e63cd7d8a",
   "metadata": {},
   "outputs": [],
   "source": [
    "a.discard(2)"
   ]
  },
  {
   "cell_type": "code",
   "execution_count": 405,
   "id": "cffaf350-cc1c-4897-8b85-f32e27973a99",
   "metadata": {},
   "outputs": [
    {
     "data": {
      "text/plain": [
       "{34, 3454}"
      ]
     },
     "execution_count": 405,
     "metadata": {},
     "output_type": "execute_result"
    }
   ],
   "source": [
    "a"
   ]
  },
  {
   "cell_type": "code",
   "execution_count": 407,
   "id": "bc455dea-b9ed-4858-93b9-526d60dc95e1",
   "metadata": {},
   "outputs": [],
   "source": [
    "a.discard(5990)"
   ]
  },
  {
   "cell_type": "code",
   "execution_count": 409,
   "id": "d61e3f2a-bfbe-4bdf-b84c-a99a9fe699d5",
   "metadata": {},
   "outputs": [
    {
     "data": {
      "text/plain": [
       "{34, 3454}"
      ]
     },
     "execution_count": 409,
     "metadata": {},
     "output_type": "execute_result"
    }
   ],
   "source": [
    "a"
   ]
  },
  {
   "cell_type": "code",
   "execution_count": 411,
   "id": "0750a6fd-ad0f-4508-a9a9-dd047155ac5f",
   "metadata": {},
   "outputs": [],
   "source": [
    "a = {456,35,45,23,5456,5463}"
   ]
  },
  {
   "cell_type": "code",
   "execution_count": 413,
   "id": "43053545-c210-4917-b67a-8ff18fba4d63",
   "metadata": {},
   "outputs": [
    {
     "data": {
      "text/plain": [
       "{23, 35, 45, 456, 5456, 5463}"
      ]
     },
     "execution_count": 413,
     "metadata": {},
     "output_type": "execute_result"
    }
   ],
   "source": [
    "a"
   ]
  },
  {
   "cell_type": "code",
   "execution_count": 415,
   "id": "e386caa2-62be-4cf9-854c-6e2646f76dda",
   "metadata": {},
   "outputs": [],
   "source": [
    "a = {2,345,6,32,54,65}"
   ]
  },
  {
   "cell_type": "code",
   "execution_count": 417,
   "id": "4e99c7ee-2705-4661-8633-8195917e1410",
   "metadata": {},
   "outputs": [],
   "source": [
    "b = {23,4,654,6}"
   ]
  },
  {
   "cell_type": "code",
   "execution_count": 419,
   "id": "5be203f3-7307-43ff-8f18-7851eca62a31",
   "metadata": {},
   "outputs": [
    {
     "data": {
      "text/plain": [
       "{6}"
      ]
     },
     "execution_count": 419,
     "metadata": {},
     "output_type": "execute_result"
    }
   ],
   "source": [
    "a.intersection(b)"
   ]
  },
  {
   "cell_type": "code",
   "execution_count": 421,
   "id": "d10361d2-ad5e-4c95-9974-46904556f522",
   "metadata": {},
   "outputs": [],
   "source": [
    "a.intersection_update(b)"
   ]
  },
  {
   "cell_type": "code",
   "execution_count": 423,
   "id": "7169af40-8a0f-40c9-ad1d-bcb63207623a",
   "metadata": {},
   "outputs": [
    {
     "data": {
      "text/plain": [
       "{6}"
      ]
     },
     "execution_count": 423,
     "metadata": {},
     "output_type": "execute_result"
    }
   ],
   "source": [
    "a"
   ]
  },
  {
   "cell_type": "code",
   "execution_count": 425,
   "id": "1215a088-a2de-4128-ac3f-51d44b9ddba0",
   "metadata": {},
   "outputs": [],
   "source": [
    "a = {2,345,6,32,54,65}\n",
    "b = {23,4,654,6}"
   ]
  },
  {
   "cell_type": "code",
   "execution_count": 427,
   "id": "beb159d8-16bb-4ee9-a173-9be7d40bd2e3",
   "metadata": {},
   "outputs": [
    {
     "data": {
      "text/plain": [
       "{2, 4, 23, 32, 54, 65, 345, 654}"
      ]
     },
     "execution_count": 427,
     "metadata": {},
     "output_type": "execute_result"
    }
   ],
   "source": [
    "a.symmetric_difference(b)"
   ]
  },
  {
   "cell_type": "code",
   "execution_count": 429,
   "id": "62feb2bf-d39f-4d94-86c4-7ac683ab678b",
   "metadata": {},
   "outputs": [],
   "source": [
    "a.symmetric_difference_update(b)"
   ]
  },
  {
   "cell_type": "code",
   "execution_count": 431,
   "id": "970e25f0-8f6a-4ecb-97e7-50404c5463f0",
   "metadata": {},
   "outputs": [
    {
     "data": {
      "text/plain": [
       "{2, 4, 23, 32, 54, 65, 345, 654}"
      ]
     },
     "execution_count": 431,
     "metadata": {},
     "output_type": "execute_result"
    }
   ],
   "source": [
    "a"
   ]
  },
  {
   "cell_type": "code",
   "execution_count": 433,
   "id": "32c0c42e-88ae-42f1-b58a-e5fb9c51da97",
   "metadata": {},
   "outputs": [],
   "source": [
    "a = {2,345,6,32,54,65}\n",
    "b = {23,4,654,6}"
   ]
  },
  {
   "cell_type": "code",
   "execution_count": 435,
   "id": "dc096e3a-bd40-471d-a972-7c91ff985166",
   "metadata": {},
   "outputs": [
    {
     "data": {
      "text/plain": [
       "{2, 32, 54, 65, 345}"
      ]
     },
     "execution_count": 435,
     "metadata": {},
     "output_type": "execute_result"
    }
   ],
   "source": [
    "a.difference(b)"
   ]
  },
  {
   "cell_type": "code",
   "execution_count": 437,
   "id": "ffe50a61-79b5-495e-8a2b-0203a93c8919",
   "metadata": {},
   "outputs": [],
   "source": [
    "a.difference_update(b)"
   ]
  },
  {
   "cell_type": "code",
   "execution_count": 439,
   "id": "32c7ea18-189e-4835-ba41-47073f07c588",
   "metadata": {},
   "outputs": [
    {
     "data": {
      "text/plain": [
       "{2, 32, 54, 65, 345}"
      ]
     },
     "execution_count": 439,
     "metadata": {},
     "output_type": "execute_result"
    }
   ],
   "source": [
    "a"
   ]
  },
  {
   "cell_type": "markdown",
   "id": "a6a1e47c-d123-4f12-8a8d-fd3a72cbe93f",
   "metadata": {},
   "source": [
    "# Imp Functions"
   ]
  },
  {
   "cell_type": "code",
   "execution_count": 442,
   "id": "d5966599-d311-418c-8062-601eb456b738",
   "metadata": {},
   "outputs": [],
   "source": [
    "data = [22,345,46,32,554,7]"
   ]
  },
  {
   "cell_type": "code",
   "execution_count": 444,
   "id": "90f11fef-a750-41ac-8cfc-20a31e061014",
   "metadata": {},
   "outputs": [
    {
     "data": {
      "text/plain": [
       "6"
      ]
     },
     "execution_count": 444,
     "metadata": {},
     "output_type": "execute_result"
    }
   ],
   "source": [
    "len(data)"
   ]
  },
  {
   "cell_type": "code",
   "execution_count": 446,
   "id": "f0ff57ce-84ad-4676-9221-eae0cf71da9f",
   "metadata": {},
   "outputs": [
    {
     "data": {
      "text/plain": [
       "554"
      ]
     },
     "execution_count": 446,
     "metadata": {},
     "output_type": "execute_result"
    }
   ],
   "source": [
    "max(data)"
   ]
  },
  {
   "cell_type": "code",
   "execution_count": 448,
   "id": "175c926d-c05a-4e42-9d08-5942820742da",
   "metadata": {},
   "outputs": [
    {
     "data": {
      "text/plain": [
       "7"
      ]
     },
     "execution_count": 448,
     "metadata": {},
     "output_type": "execute_result"
    }
   ],
   "source": [
    "min(data)"
   ]
  },
  {
   "cell_type": "code",
   "execution_count": 450,
   "id": "8a953e39-d159-41fa-856d-b8a65e5ceb03",
   "metadata": {},
   "outputs": [
    {
     "data": {
      "text/plain": [
       "1006"
      ]
     },
     "execution_count": 450,
     "metadata": {},
     "output_type": "execute_result"
    }
   ],
   "source": [
    "sum(data)"
   ]
  },
  {
   "cell_type": "code",
   "execution_count": 452,
   "id": "d313e912-304f-4a8c-9f9c-ec92ef985065",
   "metadata": {},
   "outputs": [
    {
     "data": {
      "text/plain": [
       "2209296963392"
      ]
     },
     "execution_count": 452,
     "metadata": {},
     "output_type": "execute_result"
    }
   ],
   "source": [
    "id(data)"
   ]
  },
  {
   "cell_type": "code",
   "execution_count": 456,
   "id": "6a536404-f6bf-45a2-a5b2-6ffa7048f298",
   "metadata": {},
   "outputs": [],
   "source": [
    "# [i*2 for i in data]"
   ]
  },
  {
   "cell_type": "code",
   "execution_count": 458,
   "id": "4406a9ec-4eeb-4f8c-a6db-729370298c39",
   "metadata": {},
   "outputs": [
    {
     "data": {
      "text/plain": [
       "3456"
      ]
     },
     "execution_count": 458,
     "metadata": {},
     "output_type": "execute_result"
    }
   ],
   "source": [
    "abs(-3456)"
   ]
  },
  {
   "cell_type": "code",
   "execution_count": 460,
   "id": "27ab058b-a2c9-40fd-a9a3-51ea086724d3",
   "metadata": {},
   "outputs": [
    {
     "data": {
      "text/plain": [
       "97"
      ]
     },
     "execution_count": 460,
     "metadata": {},
     "output_type": "execute_result"
    }
   ],
   "source": [
    "ord('a')"
   ]
  },
  {
   "cell_type": "code",
   "execution_count": 462,
   "id": "66efef84-8f1c-401e-b03d-da6ce6124fed",
   "metadata": {},
   "outputs": [
    {
     "data": {
      "text/plain": [
       "'a'"
      ]
     },
     "execution_count": 462,
     "metadata": {},
     "output_type": "execute_result"
    }
   ],
   "source": [
    "chr(97)"
   ]
  },
  {
   "cell_type": "code",
   "execution_count": 464,
   "id": "1f35784c-1a50-4691-8bbe-59538e279f87",
   "metadata": {},
   "outputs": [
    {
     "data": {
      "text/plain": [
       "'蜇'"
      ]
     },
     "execution_count": 464,
     "metadata": {},
     "output_type": "execute_result"
    }
   ],
   "source": [
    "chr(34567)"
   ]
  },
  {
   "cell_type": "code",
   "execution_count": 466,
   "id": "1956aa8e-3c00-4e67-97ca-284f5248a7bd",
   "metadata": {},
   "outputs": [],
   "source": [
    "data = 'अ'"
   ]
  },
  {
   "cell_type": "code",
   "execution_count": 468,
   "id": "57cbc07c-939d-44c0-9ecc-65fc2cd9e6c4",
   "metadata": {},
   "outputs": [
    {
     "data": {
      "text/plain": [
       "2309"
      ]
     },
     "execution_count": 468,
     "metadata": {},
     "output_type": "execute_result"
    }
   ],
   "source": [
    "ord(data)"
   ]
  },
  {
   "cell_type": "code",
   "execution_count": 470,
   "id": "0228ad42-22cd-49ee-861a-b80d02d06a7b",
   "metadata": {},
   "outputs": [
    {
     "data": {
      "text/plain": [
       "'अ'"
      ]
     },
     "execution_count": 470,
     "metadata": {},
     "output_type": "execute_result"
    }
   ],
   "source": [
    "chr(2309)"
   ]
  },
  {
   "cell_type": "code",
   "execution_count": 472,
   "id": "4fd2b528-db86-48dd-9414-041177aff180",
   "metadata": {},
   "outputs": [
    {
     "data": {
      "text/plain": [
       "'आ'"
      ]
     },
     "execution_count": 472,
     "metadata": {},
     "output_type": "execute_result"
    }
   ],
   "source": [
    "chr(2310)"
   ]
  },
  {
   "cell_type": "code",
   "execution_count": 474,
   "id": "8c9927c8-01a2-4316-872c-ac1cc9fab9d0",
   "metadata": {},
   "outputs": [
    {
     "data": {
      "text/plain": [
       "'इ'"
      ]
     },
     "execution_count": 474,
     "metadata": {},
     "output_type": "execute_result"
    }
   ],
   "source": [
    "chr(2311)\n"
   ]
  },
  {
   "cell_type": "code",
   "execution_count": 484,
   "id": "dc6743c1-fbf3-48bc-b8db-2945b8069eaf",
   "metadata": {},
   "outputs": [
    {
     "name": "stdout",
     "output_type": "stream",
     "text": [
      "['अ', 'आ', 'इ', 'ई', 'उ', 'ऊ', 'ऋ', 'ऌ', 'ऍ', 'ऎ', 'ए', 'ऐ', 'ऑ', 'ऒ', 'ओ', 'औ', 'क', 'ख', 'ग', 'घ', 'ङ', 'च', 'छ', 'ज', 'झ', 'ञ', 'ट', 'ठ', 'ड', 'ढ', 'ण', 'त', 'थ', 'द', 'ध', 'न', 'ऩ', 'प', 'फ', 'ब', 'भ', 'म', 'य', 'र', 'ऱ', 'ल', 'ळ', 'ऴ', 'व', 'श', 'ष', 'स', 'ह', 'ऺ', 'ऻ', '़', 'ऽ', 'ा', 'ि', 'ी', 'ु']\n"
     ]
    }
   ],
   "source": [
    "print([chr(i) for i in range(2309,2370)])"
   ]
  },
  {
   "cell_type": "code",
   "execution_count": 486,
   "id": "764c98e4-6bcc-410c-82be-78e85fb72e38",
   "metadata": {},
   "outputs": [
    {
     "data": {
      "text/plain": [
       "128077"
      ]
     },
     "execution_count": 486,
     "metadata": {},
     "output_type": "execute_result"
    }
   ],
   "source": [
    "ord('👍')"
   ]
  },
  {
   "cell_type": "code",
   "execution_count": 488,
   "id": "06b6f2a4-e633-47bb-906a-00acb7d114c9",
   "metadata": {},
   "outputs": [
    {
     "data": {
      "text/plain": [
       "'👏'"
      ]
     },
     "execution_count": 488,
     "metadata": {},
     "output_type": "execute_result"
    }
   ],
   "source": [
    "chr(128079)"
   ]
  },
  {
   "cell_type": "code",
   "execution_count": 490,
   "id": "c3d15578-57cb-4c4b-8249-dbb77a9e7d71",
   "metadata": {},
   "outputs": [],
   "source": [
    "# input()"
   ]
  },
  {
   "cell_type": "code",
   "execution_count": 498,
   "id": "711ac8d2-7c28-4f2e-8769-1ef4a8bb378c",
   "metadata": {},
   "outputs": [
    {
     "name": "stdin",
     "output_type": "stream",
     "text": [
      "Enter your name:  Akshay\n"
     ]
    },
    {
     "name": "stdout",
     "output_type": "stream",
     "text": [
      "Hello Akshay\n"
     ]
    }
   ],
   "source": [
    "name = input('Enter your name: ')\n",
    "print('Hello',name)"
   ]
  },
  {
   "cell_type": "code",
   "execution_count": 500,
   "id": "4dc3a019-89bb-493e-a326-bd3dadb44e4b",
   "metadata": {},
   "outputs": [],
   "source": [
    "# eval()"
   ]
  },
  {
   "cell_type": "code",
   "execution_count": 506,
   "id": "5a69187a-4763-4f63-a673-e52add553021",
   "metadata": {},
   "outputs": [
    {
     "data": {
      "text/plain": [
       "58625"
      ]
     },
     "execution_count": 506,
     "metadata": {},
     "output_type": "execute_result"
    }
   ],
   "source": [
    "data = '2345*25'\n",
    "eval(data)"
   ]
  },
  {
   "cell_type": "code",
   "execution_count": 518,
   "id": "03f52fb7-ab49-4d29-9854-0e72925208fa",
   "metadata": {},
   "outputs": [],
   "source": [
    "data = (23,54,623,545,76,86)"
   ]
  },
  {
   "cell_type": "code",
   "execution_count": 520,
   "id": "2141607b-b3e7-49eb-9fc1-5a8d40cf0de0",
   "metadata": {},
   "outputs": [
    {
     "data": {
      "text/plain": [
       "[623, 545, 86, 76, 54, 23]"
      ]
     },
     "execution_count": 520,
     "metadata": {},
     "output_type": "execute_result"
    }
   ],
   "source": [
    "sorted(data,reverse = True)"
   ]
  },
  {
   "cell_type": "code",
   "execution_count": 522,
   "id": "891b5174-f937-4ad4-9096-f92abb23f281",
   "metadata": {},
   "outputs": [],
   "source": [
    "# print()"
   ]
  },
  {
   "cell_type": "code",
   "execution_count": 524,
   "id": "26f1452f-fc34-418b-9146-55e6aaa6ac6c",
   "metadata": {},
   "outputs": [],
   "source": [
    "data = {'Ajay':45,'Vijay':4567,'Ravi':12,'Mohan':1}"
   ]
  },
  {
   "cell_type": "code",
   "execution_count": 540,
   "id": "15f532ce-4c60-466e-a01f-1633d19db7cd",
   "metadata": {},
   "outputs": [
    {
     "data": {
      "text/plain": [
       "['Mohan', 'Ravi', 'Ajay', 'Vijay']"
      ]
     },
     "execution_count": 540,
     "metadata": {},
     "output_type": "execute_result"
    }
   ],
   "source": [
    "sorted(data,key=lambda k: data[k])"
   ]
  },
  {
   "cell_type": "code",
   "execution_count": 542,
   "id": "8daa7eeb-8b99-4c98-8a24-0ba1f9d95de5",
   "metadata": {},
   "outputs": [],
   "source": [
    "# lambda:- adv func"
   ]
  },
  {
   "cell_type": "code",
   "execution_count": null,
   "id": "3f580328-a37c-44e0-b1c2-3cb31df25e7a",
   "metadata": {},
   "outputs": [],
   "source": []
  }
 ],
 "metadata": {
  "kernelspec": {
   "display_name": "Python [conda env:base] *",
   "language": "python",
   "name": "conda-base-py"
  },
  "language_info": {
   "codemirror_mode": {
    "name": "ipython",
    "version": 3
   },
   "file_extension": ".py",
   "mimetype": "text/x-python",
   "name": "python",
   "nbconvert_exporter": "python",
   "pygments_lexer": "ipython3",
   "version": "3.12.7"
  }
 },
 "nbformat": 4,
 "nbformat_minor": 5
}
